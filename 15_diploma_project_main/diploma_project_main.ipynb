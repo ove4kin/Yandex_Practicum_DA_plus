{
 "cells": [
  {
   "cell_type": "markdown",
   "metadata": {},
   "source": [
    "# Анализ оттока клиентов"
   ]
  },
  {
   "cell_type": "markdown",
   "metadata": {},
   "source": [
    "В предстоящем исследовании нам предстоит выделить сегменты клиентов регионального банка «Метанпром», которые склонны уходить из банка. Банк имеет филиалы в трёх городах: Ярославль, Ростов Великий и Рыбинск. Нам доступны данные о клиентах из csv-файла по ссылке.\n",
    "Заказчиком исследования выступает отдел маркетинга. \n",
    "В результате исследования мы хотим максимально эффективно выделить сегменты отточных клиентов, чтобы они были однородными, высокоточными и покрывали максимум проблемных зон банка. А также проверить гипотезы:\n",
    "\n",
    "- о различии дохода между клиентами, которые ушли и теми, которые остались\n",
    "\n",
    "\n",
    "Будем готовы к появлению новых (как минимум ещё одной!) гипотез, которые, возможно, также будут интересны нам как исследователям."
   ]
  },
  {
   "cell_type": "markdown",
   "metadata": {},
   "source": [
    "# 1. Обзор данных"
   ]
  },
  {
   "cell_type": "markdown",
   "metadata": {},
   "source": [
    "- Предварительное знакомство с данными\n",
    "- Проверка типов данных в столбцах"
   ]
  },
  {
   "cell_type": "code",
   "execution_count": 1,
   "metadata": {},
   "outputs": [],
   "source": [
    "import pandas as pd\n",
    "\n",
    "import warnings \n",
    "warnings.simplefilter(\"ignore\")\n",
    "import numpy as np\n",
    "import seaborn as sns\n",
    "import matplotlib.pyplot as plt\n",
    "from pylab import rcParams\n",
    "from scipy import stats as st"
   ]
  },
  {
   "cell_type": "code",
   "execution_count": 2,
   "metadata": {},
   "outputs": [],
   "source": [
    "# Считываю новую таблицу в переменную df\n",
    "\n",
    "path = \"https://drive.google.com/uc?export=download&id=1-U61mhTz_N1ARjy2XSAZ7IlQqGjeqP0F\"\n",
    "df = pd.read_csv(path)"
   ]
  },
  {
   "cell_type": "code",
   "execution_count": 3,
   "metadata": {},
   "outputs": [
    {
     "data": {
      "text/html": [
       "<div>\n",
       "<style scoped>\n",
       "    .dataframe tbody tr th:only-of-type {\n",
       "        vertical-align: middle;\n",
       "    }\n",
       "\n",
       "    .dataframe tbody tr th {\n",
       "        vertical-align: top;\n",
       "    }\n",
       "\n",
       "    .dataframe thead th {\n",
       "        text-align: right;\n",
       "    }\n",
       "</style>\n",
       "<table border=\"1\" class=\"dataframe\">\n",
       "  <thead>\n",
       "    <tr style=\"text-align: right;\">\n",
       "      <th></th>\n",
       "      <th>USERID</th>\n",
       "      <th>score</th>\n",
       "      <th>city</th>\n",
       "      <th>gender</th>\n",
       "      <th>age</th>\n",
       "      <th>equity</th>\n",
       "      <th>balance</th>\n",
       "      <th>products</th>\n",
       "      <th>credit_card</th>\n",
       "      <th>last_activity</th>\n",
       "      <th>EST_SALARY</th>\n",
       "      <th>churn</th>\n",
       "    </tr>\n",
       "  </thead>\n",
       "  <tbody>\n",
       "    <tr>\n",
       "      <th>0</th>\n",
       "      <td>183012</td>\n",
       "      <td>850.0</td>\n",
       "      <td>Рыбинск</td>\n",
       "      <td>Ж</td>\n",
       "      <td>25</td>\n",
       "      <td>1</td>\n",
       "      <td>59214.82</td>\n",
       "      <td>2</td>\n",
       "      <td>0</td>\n",
       "      <td>1</td>\n",
       "      <td>75719.14</td>\n",
       "      <td>1</td>\n",
       "    </tr>\n",
       "    <tr>\n",
       "      <th>1</th>\n",
       "      <td>146556</td>\n",
       "      <td>861.0</td>\n",
       "      <td>Рыбинск</td>\n",
       "      <td>Ж</td>\n",
       "      <td>37</td>\n",
       "      <td>5</td>\n",
       "      <td>850594.33</td>\n",
       "      <td>3</td>\n",
       "      <td>1</td>\n",
       "      <td>0</td>\n",
       "      <td>86621.77</td>\n",
       "      <td>0</td>\n",
       "    </tr>\n",
       "    <tr>\n",
       "      <th>2</th>\n",
       "      <td>120722</td>\n",
       "      <td>892.0</td>\n",
       "      <td>Рыбинск</td>\n",
       "      <td>Ж</td>\n",
       "      <td>30</td>\n",
       "      <td>0</td>\n",
       "      <td>NaN</td>\n",
       "      <td>1</td>\n",
       "      <td>1</td>\n",
       "      <td>1</td>\n",
       "      <td>107683.34</td>\n",
       "      <td>0</td>\n",
       "    </tr>\n",
       "    <tr>\n",
       "      <th>3</th>\n",
       "      <td>225363</td>\n",
       "      <td>866.0</td>\n",
       "      <td>Ярославль</td>\n",
       "      <td>Ж</td>\n",
       "      <td>51</td>\n",
       "      <td>5</td>\n",
       "      <td>1524746.26</td>\n",
       "      <td>2</td>\n",
       "      <td>0</td>\n",
       "      <td>1</td>\n",
       "      <td>174423.53</td>\n",
       "      <td>1</td>\n",
       "    </tr>\n",
       "    <tr>\n",
       "      <th>4</th>\n",
       "      <td>157978</td>\n",
       "      <td>730.0</td>\n",
       "      <td>Ярославль</td>\n",
       "      <td>М</td>\n",
       "      <td>34</td>\n",
       "      <td>5</td>\n",
       "      <td>174.00</td>\n",
       "      <td>1</td>\n",
       "      <td>1</td>\n",
       "      <td>0</td>\n",
       "      <td>67353.16</td>\n",
       "      <td>1</td>\n",
       "    </tr>\n",
       "    <tr>\n",
       "      <th>5</th>\n",
       "      <td>202305</td>\n",
       "      <td>856.0</td>\n",
       "      <td>Рыбинск</td>\n",
       "      <td>М</td>\n",
       "      <td>56</td>\n",
       "      <td>4</td>\n",
       "      <td>863687.24</td>\n",
       "      <td>3</td>\n",
       "      <td>1</td>\n",
       "      <td>0</td>\n",
       "      <td>156619.80</td>\n",
       "      <td>0</td>\n",
       "    </tr>\n",
       "    <tr>\n",
       "      <th>6</th>\n",
       "      <td>177259</td>\n",
       "      <td>807.0</td>\n",
       "      <td>Ярославль</td>\n",
       "      <td>Ж</td>\n",
       "      <td>39</td>\n",
       "      <td>3</td>\n",
       "      <td>405042.44</td>\n",
       "      <td>3</td>\n",
       "      <td>0</td>\n",
       "      <td>1</td>\n",
       "      <td>103838.32</td>\n",
       "      <td>0</td>\n",
       "    </tr>\n",
       "    <tr>\n",
       "      <th>7</th>\n",
       "      <td>218868</td>\n",
       "      <td>825.0</td>\n",
       "      <td>Ярославль</td>\n",
       "      <td>Ж</td>\n",
       "      <td>38</td>\n",
       "      <td>4</td>\n",
       "      <td>458145.40</td>\n",
       "      <td>2</td>\n",
       "      <td>1</td>\n",
       "      <td>1</td>\n",
       "      <td>68085.48</td>\n",
       "      <td>0</td>\n",
       "    </tr>\n",
       "    <tr>\n",
       "      <th>8</th>\n",
       "      <td>211686</td>\n",
       "      <td>923.0</td>\n",
       "      <td>Ярославль</td>\n",
       "      <td>М</td>\n",
       "      <td>54</td>\n",
       "      <td>5</td>\n",
       "      <td>1206337.87</td>\n",
       "      <td>2</td>\n",
       "      <td>1</td>\n",
       "      <td>0</td>\n",
       "      <td>155371.79</td>\n",
       "      <td>0</td>\n",
       "    </tr>\n",
       "    <tr>\n",
       "      <th>9</th>\n",
       "      <td>133130</td>\n",
       "      <td>906.0</td>\n",
       "      <td>Ярославль</td>\n",
       "      <td>Ж</td>\n",
       "      <td>67</td>\n",
       "      <td>0</td>\n",
       "      <td>NaN</td>\n",
       "      <td>1</td>\n",
       "      <td>0</td>\n",
       "      <td>1</td>\n",
       "      <td>238055.53</td>\n",
       "      <td>0</td>\n",
       "    </tr>\n",
       "  </tbody>\n",
       "</table>\n",
       "</div>"
      ],
      "text/plain": [
       "   USERID  score       city gender  age  equity     balance  products  \\\n",
       "0  183012  850.0    Рыбинск      Ж   25       1    59214.82         2   \n",
       "1  146556  861.0    Рыбинск      Ж   37       5   850594.33         3   \n",
       "2  120722  892.0    Рыбинск      Ж   30       0         NaN         1   \n",
       "3  225363  866.0  Ярославль      Ж   51       5  1524746.26         2   \n",
       "4  157978  730.0  Ярославль      М   34       5      174.00         1   \n",
       "5  202305  856.0    Рыбинск      М   56       4   863687.24         3   \n",
       "6  177259  807.0  Ярославль      Ж   39       3   405042.44         3   \n",
       "7  218868  825.0  Ярославль      Ж   38       4   458145.40         2   \n",
       "8  211686  923.0  Ярославль      М   54       5  1206337.87         2   \n",
       "9  133130  906.0  Ярославль      Ж   67       0         NaN         1   \n",
       "\n",
       "   credit_card  last_activity  EST_SALARY  churn  \n",
       "0            0              1    75719.14      1  \n",
       "1            1              0    86621.77      0  \n",
       "2            1              1   107683.34      0  \n",
       "3            0              1   174423.53      1  \n",
       "4            1              0    67353.16      1  \n",
       "5            1              0   156619.80      0  \n",
       "6            0              1   103838.32      0  \n",
       "7            1              1    68085.48      0  \n",
       "8            1              0   155371.79      0  \n",
       "9            0              1   238055.53      0  "
      ]
     },
     "metadata": {},
     "output_type": "display_data"
    }
   ],
   "source": [
    "# Посмотрим первые 10 строк таблицы\n",
    "display(df.head(10))"
   ]
  },
  {
   "cell_type": "code",
   "execution_count": 4,
   "metadata": {},
   "outputs": [
    {
     "name": "stdout",
     "output_type": "stream",
     "text": [
      "<class 'pandas.core.frame.DataFrame'>\n",
      "RangeIndex: 10000 entries, 0 to 9999\n",
      "Data columns (total 12 columns):\n",
      " #   Column         Non-Null Count  Dtype  \n",
      "---  ------         --------------  -----  \n",
      " 0   USERID         10000 non-null  int64  \n",
      " 1   score          10000 non-null  float64\n",
      " 2   city           10000 non-null  object \n",
      " 3   gender         10000 non-null  object \n",
      " 4   age            10000 non-null  int64  \n",
      " 5   equity         10000 non-null  int64  \n",
      " 6   balance        7705 non-null   float64\n",
      " 7   products       10000 non-null  int64  \n",
      " 8   credit_card    10000 non-null  int64  \n",
      " 9   last_activity  10000 non-null  int64  \n",
      " 10  EST_SALARY     10000 non-null  float64\n",
      " 11  churn          10000 non-null  int64  \n",
      "dtypes: float64(3), int64(7), object(2)\n",
      "memory usage: 937.6+ KB\n"
     ]
    }
   ],
   "source": [
    "# Ознакомимся с информацией о таблице \n",
    "df.info()"
   ]
  },
  {
   "cell_type": "markdown",
   "metadata": {},
   "source": [
    "Приведём названия столбцов к нижнему регистру, имя столбца userid дополним символом нижнего подчёркивания «_», а ещё добавим нашей таблице пару столбцов, которые будут содержать результаты перевода категориальных переменных в количественные: значения пола и значения города, в котором находится филиал банка."
   ]
  },
  {
   "cell_type": "code",
   "execution_count": 5,
   "metadata": {},
   "outputs": [],
   "source": [
    "df.columns = df.columns.str.lower()\n",
    "# почему-то с помощью метода rename() изменить имя столбца 'userid' на 'user_id' нельзя\n",
    "df = df.rename(columns={'userid':'user_id'})\n"
   ]
  },
  {
   "cell_type": "code",
   "execution_count": 6,
   "metadata": {},
   "outputs": [
    {
     "data": {
      "text/plain": [
       "М    5008\n",
       "Ж    4992\n",
       "Name: gender, dtype: int64"
      ]
     },
     "execution_count": 6,
     "metadata": {},
     "output_type": "execute_result"
    }
   ],
   "source": [
    "# Прежде, чем переводить значения в числовые, изучим, какие вообще есть значения в столбце 'gender'\n",
    "df['gender'].value_counts()"
   ]
  },
  {
   "cell_type": "code",
   "execution_count": 7,
   "metadata": {},
   "outputs": [
    {
     "data": {
      "text/plain": [
       "Ярославль    5906\n",
       "Рыбинск      2663\n",
       "Ростов       1431\n",
       "Name: city, dtype: int64"
      ]
     },
     "execution_count": 7,
     "metadata": {},
     "output_type": "execute_result"
    }
   ],
   "source": [
    "# И изучим, какие значения есть в столбце 'city'\n",
    "df['city'].value_counts()"
   ]
  },
  {
   "cell_type": "code",
   "execution_count": 8,
   "metadata": {},
   "outputs": [],
   "source": [
    "# Создадим два новых столбца\n",
    "\n",
    "df['gender_int'] = df['gender'].map({'М':1, 'Ж':0})\n",
    "\n",
    "df['city_yar'] = df['city'].eq('Ярославль')\n",
    "df['city_ryb'] = df['city'].eq('Рыбинск')\n",
    "df['city_ros'] = df['city'].eq('Ростов')\n",
    "\n",
    "for i in ['city_yar', 'city_ryb', 'city_ros']:\n",
    "    df[i] = df[i].astype(int)"
   ]
  },
  {
   "cell_type": "code",
   "execution_count": 9,
   "metadata": {},
   "outputs": [
    {
     "name": "stdout",
     "output_type": "stream",
     "text": [
      "<class 'pandas.core.frame.DataFrame'>\n",
      "RangeIndex: 10000 entries, 0 to 9999\n",
      "Data columns (total 16 columns):\n",
      " #   Column         Non-Null Count  Dtype  \n",
      "---  ------         --------------  -----  \n",
      " 0   user_id        10000 non-null  int64  \n",
      " 1   score          10000 non-null  float64\n",
      " 2   city           10000 non-null  object \n",
      " 3   gender         10000 non-null  object \n",
      " 4   age            10000 non-null  int64  \n",
      " 5   equity         10000 non-null  int64  \n",
      " 6   balance        7705 non-null   float64\n",
      " 7   products       10000 non-null  int64  \n",
      " 8   credit_card    10000 non-null  int64  \n",
      " 9   last_activity  10000 non-null  int64  \n",
      " 10  est_salary     10000 non-null  float64\n",
      " 11  churn          10000 non-null  int64  \n",
      " 12  gender_int     10000 non-null  int64  \n",
      " 13  city_yar       10000 non-null  int64  \n",
      " 14  city_ryb       10000 non-null  int64  \n",
      " 15  city_ros       10000 non-null  int64  \n",
      "dtypes: float64(3), int64(11), object(2)\n",
      "memory usage: 1.2+ MB\n"
     ]
    }
   ],
   "source": [
    "# Убедимся, что все сделанные операции прошли корректно \n",
    "df.info()"
   ]
  },
  {
   "cell_type": "code",
   "execution_count": 10,
   "metadata": {},
   "outputs": [],
   "source": [
    "# приведём тип данных в столбце 'score' к целочисленному типу, чтобы избавиться от десятичных частей: они всегда равны нулю\n",
    "df['score'] = df['score'].astype(int)\n"
   ]
  },
  {
   "cell_type": "markdown",
   "metadata": {},
   "source": [
    "# 2. Предобработка данных"
   ]
  },
  {
   "cell_type": "markdown",
   "metadata": {},
   "source": [
    "- Обратим внимание на пропуски в данных и выясним, к какому типу относятся данные пропуски. Изучим, как строки с пропусками зависят от имеющихся данных и обоснуем, исходя из этого, что с ними стоит сделать."
   ]
  },
  {
   "cell_type": "code",
   "execution_count": 11,
   "metadata": {},
   "outputs": [
    {
     "data": {
      "text/plain": [
       "1"
      ]
     },
     "execution_count": 11,
     "metadata": {},
     "output_type": "execute_result"
    }
   ],
   "source": [
    "# Проверим данные таблицы на наличие грубых дубликатов\n",
    "df.duplicated().sum()"
   ]
  },
  {
   "cell_type": "code",
   "execution_count": 12,
   "metadata": {},
   "outputs": [
    {
     "data": {
      "text/plain": [
       "0"
      ]
     },
     "execution_count": 12,
     "metadata": {},
     "output_type": "execute_result"
    }
   ],
   "source": [
    "# Избавимся от грубого дубликата\n",
    "df = df.drop_duplicates().reset_index(drop=True)\n",
    "\n",
    "# Убедимся, что наша таблица более не содержит грубых дубликатов\n",
    "df.duplicated().sum()"
   ]
  },
  {
   "cell_type": "code",
   "execution_count": 13,
   "metadata": {},
   "outputs": [
    {
     "data": {
      "text/plain": [
       "72"
      ]
     },
     "execution_count": 13,
     "metadata": {},
     "output_type": "execute_result"
    }
   ],
   "source": [
    "# Проверим, есть ли дубликаты в столбце с идентификаторами клиентов\n",
    "df['user_id'].duplicated().sum()"
   ]
  },
  {
   "cell_type": "markdown",
   "metadata": {},
   "source": [
    "Мы обнаружили 72 дубликата в столбце с идентификаторами клиентов. Изучим их"
   ]
  },
  {
   "cell_type": "code",
   "execution_count": 14,
   "metadata": {},
   "outputs": [
    {
     "data": {
      "text/html": [
       "<div>\n",
       "<style scoped>\n",
       "    .dataframe tbody tr th:only-of-type {\n",
       "        vertical-align: middle;\n",
       "    }\n",
       "\n",
       "    .dataframe tbody tr th {\n",
       "        vertical-align: top;\n",
       "    }\n",
       "\n",
       "    .dataframe thead th {\n",
       "        text-align: right;\n",
       "    }\n",
       "</style>\n",
       "<table border=\"1\" class=\"dataframe\">\n",
       "  <thead>\n",
       "    <tr style=\"text-align: right;\">\n",
       "      <th></th>\n",
       "      <th>user_id</th>\n",
       "      <th>score</th>\n",
       "      <th>city</th>\n",
       "      <th>gender</th>\n",
       "      <th>age</th>\n",
       "      <th>equity</th>\n",
       "      <th>balance</th>\n",
       "      <th>products</th>\n",
       "      <th>credit_card</th>\n",
       "      <th>last_activity</th>\n",
       "      <th>est_salary</th>\n",
       "      <th>churn</th>\n",
       "      <th>gender_int</th>\n",
       "      <th>city_yar</th>\n",
       "      <th>city_ryb</th>\n",
       "      <th>city_ros</th>\n",
       "    </tr>\n",
       "  </thead>\n",
       "  <tbody>\n",
       "    <tr>\n",
       "      <th>7694</th>\n",
       "      <td>116540</td>\n",
       "      <td>887</td>\n",
       "      <td>Ярославль</td>\n",
       "      <td>Ж</td>\n",
       "      <td>38</td>\n",
       "      <td>0</td>\n",
       "      <td>NaN</td>\n",
       "      <td>1</td>\n",
       "      <td>0</td>\n",
       "      <td>1</td>\n",
       "      <td>119247.61</td>\n",
       "      <td>0</td>\n",
       "      <td>0</td>\n",
       "      <td>1</td>\n",
       "      <td>0</td>\n",
       "      <td>0</td>\n",
       "    </tr>\n",
       "    <tr>\n",
       "      <th>1893</th>\n",
       "      <td>116540</td>\n",
       "      <td>883</td>\n",
       "      <td>Ярославль</td>\n",
       "      <td>Ж</td>\n",
       "      <td>55</td>\n",
       "      <td>1</td>\n",
       "      <td>362756.49</td>\n",
       "      <td>3</td>\n",
       "      <td>0</td>\n",
       "      <td>1</td>\n",
       "      <td>175920.48</td>\n",
       "      <td>1</td>\n",
       "      <td>0</td>\n",
       "      <td>1</td>\n",
       "      <td>0</td>\n",
       "      <td>0</td>\n",
       "    </tr>\n",
       "    <tr>\n",
       "      <th>4866</th>\n",
       "      <td>117943</td>\n",
       "      <td>855</td>\n",
       "      <td>Рыбинск</td>\n",
       "      <td>Ж</td>\n",
       "      <td>32</td>\n",
       "      <td>6</td>\n",
       "      <td>1036832.93</td>\n",
       "      <td>4</td>\n",
       "      <td>1</td>\n",
       "      <td>1</td>\n",
       "      <td>107792.71</td>\n",
       "      <td>1</td>\n",
       "      <td>0</td>\n",
       "      <td>0</td>\n",
       "      <td>1</td>\n",
       "      <td>0</td>\n",
       "    </tr>\n",
       "    <tr>\n",
       "      <th>7542</th>\n",
       "      <td>117943</td>\n",
       "      <td>880</td>\n",
       "      <td>Ярославль</td>\n",
       "      <td>Ж</td>\n",
       "      <td>40</td>\n",
       "      <td>0</td>\n",
       "      <td>NaN</td>\n",
       "      <td>1</td>\n",
       "      <td>1</td>\n",
       "      <td>0</td>\n",
       "      <td>137718.93</td>\n",
       "      <td>0</td>\n",
       "      <td>0</td>\n",
       "      <td>1</td>\n",
       "      <td>0</td>\n",
       "      <td>0</td>\n",
       "    </tr>\n",
       "    <tr>\n",
       "      <th>5863</th>\n",
       "      <td>120258</td>\n",
       "      <td>908</td>\n",
       "      <td>Рыбинск</td>\n",
       "      <td>Ж</td>\n",
       "      <td>38</td>\n",
       "      <td>4</td>\n",
       "      <td>2213581.63</td>\n",
       "      <td>2</td>\n",
       "      <td>0</td>\n",
       "      <td>1</td>\n",
       "      <td>160327.77</td>\n",
       "      <td>1</td>\n",
       "      <td>0</td>\n",
       "      <td>0</td>\n",
       "      <td>1</td>\n",
       "      <td>0</td>\n",
       "    </tr>\n",
       "    <tr>\n",
       "      <th>5896</th>\n",
       "      <td>120258</td>\n",
       "      <td>905</td>\n",
       "      <td>Ярославль</td>\n",
       "      <td>М</td>\n",
       "      <td>30</td>\n",
       "      <td>0</td>\n",
       "      <td>NaN</td>\n",
       "      <td>1</td>\n",
       "      <td>1</td>\n",
       "      <td>1</td>\n",
       "      <td>146427.96</td>\n",
       "      <td>0</td>\n",
       "      <td>1</td>\n",
       "      <td>1</td>\n",
       "      <td>0</td>\n",
       "      <td>0</td>\n",
       "    </tr>\n",
       "    <tr>\n",
       "      <th>8638</th>\n",
       "      <td>123461</td>\n",
       "      <td>934</td>\n",
       "      <td>Рыбинск</td>\n",
       "      <td>М</td>\n",
       "      <td>34</td>\n",
       "      <td>0</td>\n",
       "      <td>NaN</td>\n",
       "      <td>2</td>\n",
       "      <td>1</td>\n",
       "      <td>0</td>\n",
       "      <td>291619.27</td>\n",
       "      <td>0</td>\n",
       "      <td>1</td>\n",
       "      <td>0</td>\n",
       "      <td>1</td>\n",
       "      <td>0</td>\n",
       "    </tr>\n",
       "    <tr>\n",
       "      <th>1411</th>\n",
       "      <td>123461</td>\n",
       "      <td>829</td>\n",
       "      <td>Рыбинск</td>\n",
       "      <td>Ж</td>\n",
       "      <td>59</td>\n",
       "      <td>0</td>\n",
       "      <td>96222.44</td>\n",
       "      <td>2</td>\n",
       "      <td>0</td>\n",
       "      <td>1</td>\n",
       "      <td>102771.55</td>\n",
       "      <td>1</td>\n",
       "      <td>0</td>\n",
       "      <td>0</td>\n",
       "      <td>1</td>\n",
       "      <td>0</td>\n",
       "    </tr>\n",
       "    <tr>\n",
       "      <th>8164</th>\n",
       "      <td>124450</td>\n",
       "      <td>859</td>\n",
       "      <td>Ярославль</td>\n",
       "      <td>Ж</td>\n",
       "      <td>38</td>\n",
       "      <td>6</td>\n",
       "      <td>516811.20</td>\n",
       "      <td>1</td>\n",
       "      <td>1</td>\n",
       "      <td>1</td>\n",
       "      <td>95144.63</td>\n",
       "      <td>1</td>\n",
       "      <td>0</td>\n",
       "      <td>1</td>\n",
       "      <td>0</td>\n",
       "      <td>0</td>\n",
       "    </tr>\n",
       "    <tr>\n",
       "      <th>9774</th>\n",
       "      <td>124450</td>\n",
       "      <td>758</td>\n",
       "      <td>Рыбинск</td>\n",
       "      <td>Ж</td>\n",
       "      <td>36</td>\n",
       "      <td>0</td>\n",
       "      <td>73574.07</td>\n",
       "      <td>2</td>\n",
       "      <td>0</td>\n",
       "      <td>1</td>\n",
       "      <td>79963.59</td>\n",
       "      <td>0</td>\n",
       "      <td>0</td>\n",
       "      <td>0</td>\n",
       "      <td>1</td>\n",
       "      <td>0</td>\n",
       "    </tr>\n",
       "    <tr>\n",
       "      <th>5420</th>\n",
       "      <td>126368</td>\n",
       "      <td>832</td>\n",
       "      <td>Ростов</td>\n",
       "      <td>Ж</td>\n",
       "      <td>33</td>\n",
       "      <td>0</td>\n",
       "      <td>NaN</td>\n",
       "      <td>1</td>\n",
       "      <td>0</td>\n",
       "      <td>0</td>\n",
       "      <td>118465.34</td>\n",
       "      <td>0</td>\n",
       "      <td>0</td>\n",
       "      <td>0</td>\n",
       "      <td>0</td>\n",
       "      <td>1</td>\n",
       "    </tr>\n",
       "    <tr>\n",
       "      <th>4850</th>\n",
       "      <td>126368</td>\n",
       "      <td>909</td>\n",
       "      <td>Ярославль</td>\n",
       "      <td>Ж</td>\n",
       "      <td>30</td>\n",
       "      <td>4</td>\n",
       "      <td>1322623.29</td>\n",
       "      <td>2</td>\n",
       "      <td>0</td>\n",
       "      <td>1</td>\n",
       "      <td>140675.66</td>\n",
       "      <td>1</td>\n",
       "      <td>0</td>\n",
       "      <td>1</td>\n",
       "      <td>0</td>\n",
       "      <td>0</td>\n",
       "    </tr>\n",
       "    <tr>\n",
       "      <th>8785</th>\n",
       "      <td>127440</td>\n",
       "      <td>663</td>\n",
       "      <td>Ярославль</td>\n",
       "      <td>М</td>\n",
       "      <td>60</td>\n",
       "      <td>0</td>\n",
       "      <td>NaN</td>\n",
       "      <td>1</td>\n",
       "      <td>1</td>\n",
       "      <td>1</td>\n",
       "      <td>117197.56</td>\n",
       "      <td>0</td>\n",
       "      <td>1</td>\n",
       "      <td>1</td>\n",
       "      <td>0</td>\n",
       "      <td>0</td>\n",
       "    </tr>\n",
       "    <tr>\n",
       "      <th>4443</th>\n",
       "      <td>127440</td>\n",
       "      <td>846</td>\n",
       "      <td>Рыбинск</td>\n",
       "      <td>М</td>\n",
       "      <td>26</td>\n",
       "      <td>1</td>\n",
       "      <td>57405.67</td>\n",
       "      <td>5</td>\n",
       "      <td>0</td>\n",
       "      <td>1</td>\n",
       "      <td>17831.63</td>\n",
       "      <td>0</td>\n",
       "      <td>1</td>\n",
       "      <td>0</td>\n",
       "      <td>1</td>\n",
       "      <td>0</td>\n",
       "    </tr>\n",
       "    <tr>\n",
       "      <th>9503</th>\n",
       "      <td>129785</td>\n",
       "      <td>949</td>\n",
       "      <td>Ярославль</td>\n",
       "      <td>М</td>\n",
       "      <td>43</td>\n",
       "      <td>0</td>\n",
       "      <td>NaN</td>\n",
       "      <td>1</td>\n",
       "      <td>1</td>\n",
       "      <td>1</td>\n",
       "      <td>166845.37</td>\n",
       "      <td>0</td>\n",
       "      <td>1</td>\n",
       "      <td>1</td>\n",
       "      <td>0</td>\n",
       "      <td>0</td>\n",
       "    </tr>\n",
       "    <tr>\n",
       "      <th>3988</th>\n",
       "      <td>129785</td>\n",
       "      <td>904</td>\n",
       "      <td>Ярославль</td>\n",
       "      <td>М</td>\n",
       "      <td>33</td>\n",
       "      <td>5</td>\n",
       "      <td>2427737.60</td>\n",
       "      <td>3</td>\n",
       "      <td>0</td>\n",
       "      <td>1</td>\n",
       "      <td>188856.75</td>\n",
       "      <td>1</td>\n",
       "      <td>1</td>\n",
       "      <td>1</td>\n",
       "      <td>0</td>\n",
       "      <td>0</td>\n",
       "    </tr>\n",
       "    <tr>\n",
       "      <th>2138</th>\n",
       "      <td>131419</td>\n",
       "      <td>739</td>\n",
       "      <td>Ярославль</td>\n",
       "      <td>Ж</td>\n",
       "      <td>37</td>\n",
       "      <td>3</td>\n",
       "      <td>1307941.65</td>\n",
       "      <td>3</td>\n",
       "      <td>0</td>\n",
       "      <td>0</td>\n",
       "      <td>103867.47</td>\n",
       "      <td>0</td>\n",
       "      <td>0</td>\n",
       "      <td>1</td>\n",
       "      <td>0</td>\n",
       "      <td>0</td>\n",
       "    </tr>\n",
       "    <tr>\n",
       "      <th>904</th>\n",
       "      <td>131419</td>\n",
       "      <td>934</td>\n",
       "      <td>Ярославль</td>\n",
       "      <td>М</td>\n",
       "      <td>35</td>\n",
       "      <td>5</td>\n",
       "      <td>2348335.95</td>\n",
       "      <td>2</td>\n",
       "      <td>0</td>\n",
       "      <td>0</td>\n",
       "      <td>217105.13</td>\n",
       "      <td>1</td>\n",
       "      <td>1</td>\n",
       "      <td>1</td>\n",
       "      <td>0</td>\n",
       "      <td>0</td>\n",
       "    </tr>\n",
       "    <tr>\n",
       "      <th>1608</th>\n",
       "      <td>140377</td>\n",
       "      <td>802</td>\n",
       "      <td>Ярославль</td>\n",
       "      <td>М</td>\n",
       "      <td>26</td>\n",
       "      <td>3</td>\n",
       "      <td>539863.29</td>\n",
       "      <td>4</td>\n",
       "      <td>1</td>\n",
       "      <td>1</td>\n",
       "      <td>112167.83</td>\n",
       "      <td>1</td>\n",
       "      <td>1</td>\n",
       "      <td>1</td>\n",
       "      <td>0</td>\n",
       "      <td>0</td>\n",
       "    </tr>\n",
       "    <tr>\n",
       "      <th>7487</th>\n",
       "      <td>140377</td>\n",
       "      <td>930</td>\n",
       "      <td>Рыбинск</td>\n",
       "      <td>Ж</td>\n",
       "      <td>34</td>\n",
       "      <td>5</td>\n",
       "      <td>1123967.02</td>\n",
       "      <td>1</td>\n",
       "      <td>1</td>\n",
       "      <td>1</td>\n",
       "      <td>148336.26</td>\n",
       "      <td>0</td>\n",
       "      <td>0</td>\n",
       "      <td>0</td>\n",
       "      <td>1</td>\n",
       "      <td>0</td>\n",
       "    </tr>\n",
       "    <tr>\n",
       "      <th>9818</th>\n",
       "      <td>140934</td>\n",
       "      <td>832</td>\n",
       "      <td>Рыбинск</td>\n",
       "      <td>М</td>\n",
       "      <td>45</td>\n",
       "      <td>3</td>\n",
       "      <td>385763.16</td>\n",
       "      <td>2</td>\n",
       "      <td>0</td>\n",
       "      <td>1</td>\n",
       "      <td>59651.35</td>\n",
       "      <td>1</td>\n",
       "      <td>1</td>\n",
       "      <td>0</td>\n",
       "      <td>1</td>\n",
       "      <td>0</td>\n",
       "    </tr>\n",
       "    <tr>\n",
       "      <th>4212</th>\n",
       "      <td>140934</td>\n",
       "      <td>919</td>\n",
       "      <td>Ярославль</td>\n",
       "      <td>Ж</td>\n",
       "      <td>29</td>\n",
       "      <td>4</td>\n",
       "      <td>603946.18</td>\n",
       "      <td>3</td>\n",
       "      <td>0</td>\n",
       "      <td>1</td>\n",
       "      <td>158438.79</td>\n",
       "      <td>1</td>\n",
       "      <td>0</td>\n",
       "      <td>1</td>\n",
       "      <td>0</td>\n",
       "      <td>0</td>\n",
       "    </tr>\n",
       "    <tr>\n",
       "      <th>2276</th>\n",
       "      <td>141265</td>\n",
       "      <td>858</td>\n",
       "      <td>Ярославль</td>\n",
       "      <td>М</td>\n",
       "      <td>37</td>\n",
       "      <td>4</td>\n",
       "      <td>471599.16</td>\n",
       "      <td>2</td>\n",
       "      <td>1</td>\n",
       "      <td>1</td>\n",
       "      <td>148806.88</td>\n",
       "      <td>1</td>\n",
       "      <td>1</td>\n",
       "      <td>1</td>\n",
       "      <td>0</td>\n",
       "      <td>0</td>\n",
       "    </tr>\n",
       "    <tr>\n",
       "      <th>5569</th>\n",
       "      <td>141265</td>\n",
       "      <td>811</td>\n",
       "      <td>Ростов</td>\n",
       "      <td>Ж</td>\n",
       "      <td>33</td>\n",
       "      <td>3</td>\n",
       "      <td>1044316.88</td>\n",
       "      <td>2</td>\n",
       "      <td>1</td>\n",
       "      <td>0</td>\n",
       "      <td>46055.32</td>\n",
       "      <td>0</td>\n",
       "      <td>0</td>\n",
       "      <td>0</td>\n",
       "      <td>0</td>\n",
       "      <td>1</td>\n",
       "    </tr>\n",
       "    <tr>\n",
       "      <th>5557</th>\n",
       "      <td>143592</td>\n",
       "      <td>764</td>\n",
       "      <td>Ярославль</td>\n",
       "      <td>Ж</td>\n",
       "      <td>68</td>\n",
       "      <td>3</td>\n",
       "      <td>508919.15</td>\n",
       "      <td>2</td>\n",
       "      <td>0</td>\n",
       "      <td>1</td>\n",
       "      <td>71211.66</td>\n",
       "      <td>0</td>\n",
       "      <td>0</td>\n",
       "      <td>1</td>\n",
       "      <td>0</td>\n",
       "      <td>0</td>\n",
       "    </tr>\n",
       "    <tr>\n",
       "      <th>5369</th>\n",
       "      <td>143592</td>\n",
       "      <td>885</td>\n",
       "      <td>Ярославль</td>\n",
       "      <td>Ж</td>\n",
       "      <td>56</td>\n",
       "      <td>4</td>\n",
       "      <td>1201087.46</td>\n",
       "      <td>2</td>\n",
       "      <td>1</td>\n",
       "      <td>1</td>\n",
       "      <td>88223.89</td>\n",
       "      <td>1</td>\n",
       "      <td>0</td>\n",
       "      <td>1</td>\n",
       "      <td>0</td>\n",
       "      <td>0</td>\n",
       "    </tr>\n",
       "    <tr>\n",
       "      <th>5252</th>\n",
       "      <td>148826</td>\n",
       "      <td>895</td>\n",
       "      <td>Ярославль</td>\n",
       "      <td>М</td>\n",
       "      <td>32</td>\n",
       "      <td>5</td>\n",
       "      <td>1470273.14</td>\n",
       "      <td>2</td>\n",
       "      <td>0</td>\n",
       "      <td>0</td>\n",
       "      <td>118058.52</td>\n",
       "      <td>1</td>\n",
       "      <td>1</td>\n",
       "      <td>1</td>\n",
       "      <td>0</td>\n",
       "      <td>0</td>\n",
       "    </tr>\n",
       "    <tr>\n",
       "      <th>8364</th>\n",
       "      <td>148826</td>\n",
       "      <td>909</td>\n",
       "      <td>Рыбинск</td>\n",
       "      <td>Ж</td>\n",
       "      <td>32</td>\n",
       "      <td>0</td>\n",
       "      <td>NaN</td>\n",
       "      <td>3</td>\n",
       "      <td>1</td>\n",
       "      <td>0</td>\n",
       "      <td>28843.54</td>\n",
       "      <td>0</td>\n",
       "      <td>0</td>\n",
       "      <td>0</td>\n",
       "      <td>1</td>\n",
       "      <td>0</td>\n",
       "    </tr>\n",
       "    <tr>\n",
       "      <th>8272</th>\n",
       "      <td>149365</td>\n",
       "      <td>793</td>\n",
       "      <td>Рыбинск</td>\n",
       "      <td>Ж</td>\n",
       "      <td>61</td>\n",
       "      <td>0</td>\n",
       "      <td>476496.99</td>\n",
       "      <td>2</td>\n",
       "      <td>1</td>\n",
       "      <td>1</td>\n",
       "      <td>46147.06</td>\n",
       "      <td>0</td>\n",
       "      <td>0</td>\n",
       "      <td>0</td>\n",
       "      <td>1</td>\n",
       "      <td>0</td>\n",
       "    </tr>\n",
       "    <tr>\n",
       "      <th>946</th>\n",
       "      <td>149365</td>\n",
       "      <td>877</td>\n",
       "      <td>Ярославль</td>\n",
       "      <td>М</td>\n",
       "      <td>41</td>\n",
       "      <td>5</td>\n",
       "      <td>819182.01</td>\n",
       "      <td>2</td>\n",
       "      <td>0</td>\n",
       "      <td>0</td>\n",
       "      <td>212316.47</td>\n",
       "      <td>1</td>\n",
       "      <td>1</td>\n",
       "      <td>1</td>\n",
       "      <td>0</td>\n",
       "      <td>0</td>\n",
       "    </tr>\n",
       "    <tr>\n",
       "      <th>2439</th>\n",
       "      <td>150667</td>\n",
       "      <td>813</td>\n",
       "      <td>Ярославль</td>\n",
       "      <td>Ж</td>\n",
       "      <td>44</td>\n",
       "      <td>0</td>\n",
       "      <td>62504.47</td>\n",
       "      <td>4</td>\n",
       "      <td>1</td>\n",
       "      <td>0</td>\n",
       "      <td>152393.79</td>\n",
       "      <td>1</td>\n",
       "      <td>0</td>\n",
       "      <td>1</td>\n",
       "      <td>0</td>\n",
       "      <td>0</td>\n",
       "    </tr>\n",
       "    <tr>\n",
       "      <th>9267</th>\n",
       "      <td>150667</td>\n",
       "      <td>931</td>\n",
       "      <td>Ярославль</td>\n",
       "      <td>М</td>\n",
       "      <td>41</td>\n",
       "      <td>0</td>\n",
       "      <td>NaN</td>\n",
       "      <td>1</td>\n",
       "      <td>0</td>\n",
       "      <td>0</td>\n",
       "      <td>261904.44</td>\n",
       "      <td>0</td>\n",
       "      <td>1</td>\n",
       "      <td>1</td>\n",
       "      <td>0</td>\n",
       "      <td>0</td>\n",
       "    </tr>\n",
       "    <tr>\n",
       "      <th>5495</th>\n",
       "      <td>151662</td>\n",
       "      <td>884</td>\n",
       "      <td>Рыбинск</td>\n",
       "      <td>М</td>\n",
       "      <td>46</td>\n",
       "      <td>0</td>\n",
       "      <td>NaN</td>\n",
       "      <td>1</td>\n",
       "      <td>1</td>\n",
       "      <td>1</td>\n",
       "      <td>137500.77</td>\n",
       "      <td>0</td>\n",
       "      <td>1</td>\n",
       "      <td>0</td>\n",
       "      <td>1</td>\n",
       "      <td>0</td>\n",
       "    </tr>\n",
       "    <tr>\n",
       "      <th>3683</th>\n",
       "      <td>151662</td>\n",
       "      <td>960</td>\n",
       "      <td>Ярославль</td>\n",
       "      <td>Ж</td>\n",
       "      <td>37</td>\n",
       "      <td>4</td>\n",
       "      <td>2527032.70</td>\n",
       "      <td>4</td>\n",
       "      <td>1</td>\n",
       "      <td>0</td>\n",
       "      <td>231648.50</td>\n",
       "      <td>0</td>\n",
       "      <td>0</td>\n",
       "      <td>1</td>\n",
       "      <td>0</td>\n",
       "      <td>0</td>\n",
       "    </tr>\n",
       "    <tr>\n",
       "      <th>5705</th>\n",
       "      <td>152479</td>\n",
       "      <td>723</td>\n",
       "      <td>Ярославль</td>\n",
       "      <td>Ж</td>\n",
       "      <td>22</td>\n",
       "      <td>0</td>\n",
       "      <td>NaN</td>\n",
       "      <td>1</td>\n",
       "      <td>1</td>\n",
       "      <td>0</td>\n",
       "      <td>83955.65</td>\n",
       "      <td>0</td>\n",
       "      <td>0</td>\n",
       "      <td>1</td>\n",
       "      <td>0</td>\n",
       "      <td>0</td>\n",
       "    </tr>\n",
       "    <tr>\n",
       "      <th>690</th>\n",
       "      <td>152479</td>\n",
       "      <td>768</td>\n",
       "      <td>Рыбинск</td>\n",
       "      <td>Ж</td>\n",
       "      <td>42</td>\n",
       "      <td>0</td>\n",
       "      <td>126787.79</td>\n",
       "      <td>4</td>\n",
       "      <td>1</td>\n",
       "      <td>1</td>\n",
       "      <td>143233.23</td>\n",
       "      <td>1</td>\n",
       "      <td>0</td>\n",
       "      <td>0</td>\n",
       "      <td>1</td>\n",
       "      <td>0</td>\n",
       "    </tr>\n",
       "    <tr>\n",
       "      <th>3274</th>\n",
       "      <td>155765</td>\n",
       "      <td>863</td>\n",
       "      <td>Ярославль</td>\n",
       "      <td>М</td>\n",
       "      <td>30</td>\n",
       "      <td>5</td>\n",
       "      <td>1036114.50</td>\n",
       "      <td>5</td>\n",
       "      <td>1</td>\n",
       "      <td>1</td>\n",
       "      <td>150744.50</td>\n",
       "      <td>1</td>\n",
       "      <td>1</td>\n",
       "      <td>1</td>\n",
       "      <td>0</td>\n",
       "      <td>0</td>\n",
       "    </tr>\n",
       "    <tr>\n",
       "      <th>5197</th>\n",
       "      <td>155765</td>\n",
       "      <td>923</td>\n",
       "      <td>Рыбинск</td>\n",
       "      <td>М</td>\n",
       "      <td>30</td>\n",
       "      <td>0</td>\n",
       "      <td>NaN</td>\n",
       "      <td>1</td>\n",
       "      <td>1</td>\n",
       "      <td>1</td>\n",
       "      <td>120296.60</td>\n",
       "      <td>0</td>\n",
       "      <td>1</td>\n",
       "      <td>0</td>\n",
       "      <td>1</td>\n",
       "      <td>0</td>\n",
       "    </tr>\n",
       "    <tr>\n",
       "      <th>1080</th>\n",
       "      <td>155872</td>\n",
       "      <td>896</td>\n",
       "      <td>Ярославль</td>\n",
       "      <td>М</td>\n",
       "      <td>36</td>\n",
       "      <td>3</td>\n",
       "      <td>1113656.92</td>\n",
       "      <td>3</td>\n",
       "      <td>0</td>\n",
       "      <td>1</td>\n",
       "      <td>291176.85</td>\n",
       "      <td>1</td>\n",
       "      <td>1</td>\n",
       "      <td>1</td>\n",
       "      <td>0</td>\n",
       "      <td>0</td>\n",
       "    </tr>\n",
       "    <tr>\n",
       "      <th>9363</th>\n",
       "      <td>155872</td>\n",
       "      <td>714</td>\n",
       "      <td>Рыбинск</td>\n",
       "      <td>Ж</td>\n",
       "      <td>29</td>\n",
       "      <td>0</td>\n",
       "      <td>NaN</td>\n",
       "      <td>1</td>\n",
       "      <td>1</td>\n",
       "      <td>0</td>\n",
       "      <td>118052.84</td>\n",
       "      <td>0</td>\n",
       "      <td>0</td>\n",
       "      <td>0</td>\n",
       "      <td>1</td>\n",
       "      <td>0</td>\n",
       "    </tr>\n",
       "    <tr>\n",
       "      <th>9507</th>\n",
       "      <td>160075</td>\n",
       "      <td>824</td>\n",
       "      <td>Ростов</td>\n",
       "      <td>Ж</td>\n",
       "      <td>57</td>\n",
       "      <td>3</td>\n",
       "      <td>355047.33</td>\n",
       "      <td>2</td>\n",
       "      <td>0</td>\n",
       "      <td>0</td>\n",
       "      <td>64351.81</td>\n",
       "      <td>0</td>\n",
       "      <td>0</td>\n",
       "      <td>0</td>\n",
       "      <td>0</td>\n",
       "      <td>1</td>\n",
       "    </tr>\n",
       "    <tr>\n",
       "      <th>3936</th>\n",
       "      <td>160075</td>\n",
       "      <td>899</td>\n",
       "      <td>Ярославль</td>\n",
       "      <td>М</td>\n",
       "      <td>34</td>\n",
       "      <td>4</td>\n",
       "      <td>1647814.67</td>\n",
       "      <td>4</td>\n",
       "      <td>1</td>\n",
       "      <td>0</td>\n",
       "      <td>151888.42</td>\n",
       "      <td>1</td>\n",
       "      <td>1</td>\n",
       "      <td>1</td>\n",
       "      <td>0</td>\n",
       "      <td>0</td>\n",
       "    </tr>\n",
       "    <tr>\n",
       "      <th>8733</th>\n",
       "      <td>162053</td>\n",
       "      <td>786</td>\n",
       "      <td>Ярославль</td>\n",
       "      <td>М</td>\n",
       "      <td>29</td>\n",
       "      <td>4</td>\n",
       "      <td>205824.97</td>\n",
       "      <td>3</td>\n",
       "      <td>1</td>\n",
       "      <td>0</td>\n",
       "      <td>121371.73</td>\n",
       "      <td>0</td>\n",
       "      <td>1</td>\n",
       "      <td>1</td>\n",
       "      <td>0</td>\n",
       "      <td>0</td>\n",
       "    </tr>\n",
       "    <tr>\n",
       "      <th>5629</th>\n",
       "      <td>162053</td>\n",
       "      <td>921</td>\n",
       "      <td>Рыбинск</td>\n",
       "      <td>М</td>\n",
       "      <td>33</td>\n",
       "      <td>3</td>\n",
       "      <td>857011.13</td>\n",
       "      <td>2</td>\n",
       "      <td>1</td>\n",
       "      <td>1</td>\n",
       "      <td>113512.57</td>\n",
       "      <td>1</td>\n",
       "      <td>1</td>\n",
       "      <td>0</td>\n",
       "      <td>1</td>\n",
       "      <td>0</td>\n",
       "    </tr>\n",
       "    <tr>\n",
       "      <th>6786</th>\n",
       "      <td>163207</td>\n",
       "      <td>838</td>\n",
       "      <td>Ростов</td>\n",
       "      <td>Ж</td>\n",
       "      <td>42</td>\n",
       "      <td>4</td>\n",
       "      <td>652776.60</td>\n",
       "      <td>2</td>\n",
       "      <td>1</td>\n",
       "      <td>1</td>\n",
       "      <td>97545.36</td>\n",
       "      <td>0</td>\n",
       "      <td>0</td>\n",
       "      <td>0</td>\n",
       "      <td>0</td>\n",
       "      <td>1</td>\n",
       "    </tr>\n",
       "    <tr>\n",
       "      <th>3564</th>\n",
       "      <td>163207</td>\n",
       "      <td>853</td>\n",
       "      <td>Рыбинск</td>\n",
       "      <td>М</td>\n",
       "      <td>42</td>\n",
       "      <td>4</td>\n",
       "      <td>543839.62</td>\n",
       "      <td>1</td>\n",
       "      <td>1</td>\n",
       "      <td>1</td>\n",
       "      <td>105281.97</td>\n",
       "      <td>1</td>\n",
       "      <td>1</td>\n",
       "      <td>0</td>\n",
       "      <td>1</td>\n",
       "      <td>0</td>\n",
       "    </tr>\n",
       "    <tr>\n",
       "      <th>9666</th>\n",
       "      <td>163657</td>\n",
       "      <td>849</td>\n",
       "      <td>Рыбинск</td>\n",
       "      <td>М</td>\n",
       "      <td>59</td>\n",
       "      <td>4</td>\n",
       "      <td>1254013.85</td>\n",
       "      <td>2</td>\n",
       "      <td>1</td>\n",
       "      <td>1</td>\n",
       "      <td>119106.67</td>\n",
       "      <td>0</td>\n",
       "      <td>1</td>\n",
       "      <td>0</td>\n",
       "      <td>1</td>\n",
       "      <td>0</td>\n",
       "    </tr>\n",
       "    <tr>\n",
       "      <th>6670</th>\n",
       "      <td>163657</td>\n",
       "      <td>903</td>\n",
       "      <td>Рыбинск</td>\n",
       "      <td>М</td>\n",
       "      <td>45</td>\n",
       "      <td>4</td>\n",
       "      <td>1343339.70</td>\n",
       "      <td>4</td>\n",
       "      <td>0</td>\n",
       "      <td>1</td>\n",
       "      <td>83741.65</td>\n",
       "      <td>0</td>\n",
       "      <td>1</td>\n",
       "      <td>0</td>\n",
       "      <td>1</td>\n",
       "      <td>0</td>\n",
       "    </tr>\n",
       "    <tr>\n",
       "      <th>58</th>\n",
       "      <td>164676</td>\n",
       "      <td>860</td>\n",
       "      <td>Ростов</td>\n",
       "      <td>М</td>\n",
       "      <td>37</td>\n",
       "      <td>5</td>\n",
       "      <td>648594.03</td>\n",
       "      <td>2</td>\n",
       "      <td>1</td>\n",
       "      <td>1</td>\n",
       "      <td>213586.86</td>\n",
       "      <td>1</td>\n",
       "      <td>1</td>\n",
       "      <td>0</td>\n",
       "      <td>0</td>\n",
       "      <td>1</td>\n",
       "    </tr>\n",
       "    <tr>\n",
       "      <th>7271</th>\n",
       "      <td>164676</td>\n",
       "      <td>790</td>\n",
       "      <td>Рыбинск</td>\n",
       "      <td>Ж</td>\n",
       "      <td>77</td>\n",
       "      <td>1</td>\n",
       "      <td>111202.01</td>\n",
       "      <td>1</td>\n",
       "      <td>1</td>\n",
       "      <td>0</td>\n",
       "      <td>32835.45</td>\n",
       "      <td>0</td>\n",
       "      <td>0</td>\n",
       "      <td>0</td>\n",
       "      <td>1</td>\n",
       "      <td>0</td>\n",
       "    </tr>\n",
       "  </tbody>\n",
       "</table>\n",
       "</div>"
      ],
      "text/plain": [
       "      user_id  score       city gender  age  equity     balance  products  \\\n",
       "7694   116540    887  Ярославль      Ж   38       0         NaN         1   \n",
       "1893   116540    883  Ярославль      Ж   55       1   362756.49         3   \n",
       "4866   117943    855    Рыбинск      Ж   32       6  1036832.93         4   \n",
       "7542   117943    880  Ярославль      Ж   40       0         NaN         1   \n",
       "5863   120258    908    Рыбинск      Ж   38       4  2213581.63         2   \n",
       "5896   120258    905  Ярославль      М   30       0         NaN         1   \n",
       "8638   123461    934    Рыбинск      М   34       0         NaN         2   \n",
       "1411   123461    829    Рыбинск      Ж   59       0    96222.44         2   \n",
       "8164   124450    859  Ярославль      Ж   38       6   516811.20         1   \n",
       "9774   124450    758    Рыбинск      Ж   36       0    73574.07         2   \n",
       "5420   126368    832     Ростов      Ж   33       0         NaN         1   \n",
       "4850   126368    909  Ярославль      Ж   30       4  1322623.29         2   \n",
       "8785   127440    663  Ярославль      М   60       0         NaN         1   \n",
       "4443   127440    846    Рыбинск      М   26       1    57405.67         5   \n",
       "9503   129785    949  Ярославль      М   43       0         NaN         1   \n",
       "3988   129785    904  Ярославль      М   33       5  2427737.60         3   \n",
       "2138   131419    739  Ярославль      Ж   37       3  1307941.65         3   \n",
       "904    131419    934  Ярославль      М   35       5  2348335.95         2   \n",
       "1608   140377    802  Ярославль      М   26       3   539863.29         4   \n",
       "7487   140377    930    Рыбинск      Ж   34       5  1123967.02         1   \n",
       "9818   140934    832    Рыбинск      М   45       3   385763.16         2   \n",
       "4212   140934    919  Ярославль      Ж   29       4   603946.18         3   \n",
       "2276   141265    858  Ярославль      М   37       4   471599.16         2   \n",
       "5569   141265    811     Ростов      Ж   33       3  1044316.88         2   \n",
       "5557   143592    764  Ярославль      Ж   68       3   508919.15         2   \n",
       "5369   143592    885  Ярославль      Ж   56       4  1201087.46         2   \n",
       "5252   148826    895  Ярославль      М   32       5  1470273.14         2   \n",
       "8364   148826    909    Рыбинск      Ж   32       0         NaN         3   \n",
       "8272   149365    793    Рыбинск      Ж   61       0   476496.99         2   \n",
       "946    149365    877  Ярославль      М   41       5   819182.01         2   \n",
       "2439   150667    813  Ярославль      Ж   44       0    62504.47         4   \n",
       "9267   150667    931  Ярославль      М   41       0         NaN         1   \n",
       "5495   151662    884    Рыбинск      М   46       0         NaN         1   \n",
       "3683   151662    960  Ярославль      Ж   37       4  2527032.70         4   \n",
       "5705   152479    723  Ярославль      Ж   22       0         NaN         1   \n",
       "690    152479    768    Рыбинск      Ж   42       0   126787.79         4   \n",
       "3274   155765    863  Ярославль      М   30       5  1036114.50         5   \n",
       "5197   155765    923    Рыбинск      М   30       0         NaN         1   \n",
       "1080   155872    896  Ярославль      М   36       3  1113656.92         3   \n",
       "9363   155872    714    Рыбинск      Ж   29       0         NaN         1   \n",
       "9507   160075    824     Ростов      Ж   57       3   355047.33         2   \n",
       "3936   160075    899  Ярославль      М   34       4  1647814.67         4   \n",
       "8733   162053    786  Ярославль      М   29       4   205824.97         3   \n",
       "5629   162053    921    Рыбинск      М   33       3   857011.13         2   \n",
       "6786   163207    838     Ростов      Ж   42       4   652776.60         2   \n",
       "3564   163207    853    Рыбинск      М   42       4   543839.62         1   \n",
       "9666   163657    849    Рыбинск      М   59       4  1254013.85         2   \n",
       "6670   163657    903    Рыбинск      М   45       4  1343339.70         4   \n",
       "58     164676    860     Ростов      М   37       5   648594.03         2   \n",
       "7271   164676    790    Рыбинск      Ж   77       1   111202.01         1   \n",
       "\n",
       "      credit_card  last_activity  est_salary  churn  gender_int  city_yar  \\\n",
       "7694            0              1   119247.61      0           0         1   \n",
       "1893            0              1   175920.48      1           0         1   \n",
       "4866            1              1   107792.71      1           0         0   \n",
       "7542            1              0   137718.93      0           0         1   \n",
       "5863            0              1   160327.77      1           0         0   \n",
       "5896            1              1   146427.96      0           1         1   \n",
       "8638            1              0   291619.27      0           1         0   \n",
       "1411            0              1   102771.55      1           0         0   \n",
       "8164            1              1    95144.63      1           0         1   \n",
       "9774            0              1    79963.59      0           0         0   \n",
       "5420            0              0   118465.34      0           0         0   \n",
       "4850            0              1   140675.66      1           0         1   \n",
       "8785            1              1   117197.56      0           1         1   \n",
       "4443            0              1    17831.63      0           1         0   \n",
       "9503            1              1   166845.37      0           1         1   \n",
       "3988            0              1   188856.75      1           1         1   \n",
       "2138            0              0   103867.47      0           0         1   \n",
       "904             0              0   217105.13      1           1         1   \n",
       "1608            1              1   112167.83      1           1         1   \n",
       "7487            1              1   148336.26      0           0         0   \n",
       "9818            0              1    59651.35      1           1         0   \n",
       "4212            0              1   158438.79      1           0         1   \n",
       "2276            1              1   148806.88      1           1         1   \n",
       "5569            1              0    46055.32      0           0         0   \n",
       "5557            0              1    71211.66      0           0         1   \n",
       "5369            1              1    88223.89      1           0         1   \n",
       "5252            0              0   118058.52      1           1         1   \n",
       "8364            1              0    28843.54      0           0         0   \n",
       "8272            1              1    46147.06      0           0         0   \n",
       "946             0              0   212316.47      1           1         1   \n",
       "2439            1              0   152393.79      1           0         1   \n",
       "9267            0              0   261904.44      0           1         1   \n",
       "5495            1              1   137500.77      0           1         0   \n",
       "3683            1              0   231648.50      0           0         1   \n",
       "5705            1              0    83955.65      0           0         1   \n",
       "690             1              1   143233.23      1           0         0   \n",
       "3274            1              1   150744.50      1           1         1   \n",
       "5197            1              1   120296.60      0           1         0   \n",
       "1080            0              1   291176.85      1           1         1   \n",
       "9363            1              0   118052.84      0           0         0   \n",
       "9507            0              0    64351.81      0           0         0   \n",
       "3936            1              0   151888.42      1           1         1   \n",
       "8733            1              0   121371.73      0           1         1   \n",
       "5629            1              1   113512.57      1           1         0   \n",
       "6786            1              1    97545.36      0           0         0   \n",
       "3564            1              1   105281.97      1           1         0   \n",
       "9666            1              1   119106.67      0           1         0   \n",
       "6670            0              1    83741.65      0           1         0   \n",
       "58              1              1   213586.86      1           1         0   \n",
       "7271            1              0    32835.45      0           0         0   \n",
       "\n",
       "      city_ryb  city_ros  \n",
       "7694         0         0  \n",
       "1893         0         0  \n",
       "4866         1         0  \n",
       "7542         0         0  \n",
       "5863         1         0  \n",
       "5896         0         0  \n",
       "8638         1         0  \n",
       "1411         1         0  \n",
       "8164         0         0  \n",
       "9774         1         0  \n",
       "5420         0         1  \n",
       "4850         0         0  \n",
       "8785         0         0  \n",
       "4443         1         0  \n",
       "9503         0         0  \n",
       "3988         0         0  \n",
       "2138         0         0  \n",
       "904          0         0  \n",
       "1608         0         0  \n",
       "7487         1         0  \n",
       "9818         1         0  \n",
       "4212         0         0  \n",
       "2276         0         0  \n",
       "5569         0         1  \n",
       "5557         0         0  \n",
       "5369         0         0  \n",
       "5252         0         0  \n",
       "8364         1         0  \n",
       "8272         1         0  \n",
       "946          0         0  \n",
       "2439         0         0  \n",
       "9267         0         0  \n",
       "5495         1         0  \n",
       "3683         0         0  \n",
       "5705         0         0  \n",
       "690          1         0  \n",
       "3274         0         0  \n",
       "5197         1         0  \n",
       "1080         0         0  \n",
       "9363         1         0  \n",
       "9507         0         1  \n",
       "3936         0         0  \n",
       "8733         0         0  \n",
       "5629         1         0  \n",
       "6786         0         1  \n",
       "3564         1         0  \n",
       "9666         1         0  \n",
       "6670         1         0  \n",
       "58           0         1  \n",
       "7271         1         0  "
      ]
     },
     "execution_count": 14,
     "metadata": {},
     "output_type": "execute_result"
    }
   ],
   "source": [
    "duplicated_ids = df[df['user_id'].duplicated()]['user_id']\n",
    "\n",
    "df.query('user_id in @duplicated_ids').sort_values('user_id').head(50)"
   ]
  },
  {
   "cell_type": "markdown",
   "metadata": {},
   "source": [
    "Мы видим, что записи, которые соответствуют задублированным id существенно отличаются. Например, в случае с id 127440 — клиенту в одной из записей 60 лет, а в другой записи — 26. Это явно не один и тот же клиент и работать ни с одной, ни с другой записью, приняв какую-то за верную мы не сможем. Просто не существует разумного способа выбрать один из двух вариантов. Причиной таких дублей, омог стать человеческий фактор: специалисты банка при заполнении данных пользователей могли ошибиться в цифрах, внося записи вручную. "
   ]
  },
  {
   "cell_type": "code",
   "execution_count": 15,
   "metadata": {},
   "outputs": [
    {
     "name": "stdout",
     "output_type": "stream",
     "text": [
      "Доля строк с задублированными id составляет 1.44%\n"
     ]
    }
   ],
   "source": [
    "part = len(df.query(\"user_id in @duplicated_ids\")) / len(df)\n",
    "print('Доля строк с задублированными id составляет {:.2%}'.format(part))"
   ]
  },
  {
   "cell_type": "markdown",
   "metadata": {},
   "source": [
    "Так как доля таких строк чуть более процента, то ради \"чистых\" данных, мы избавимся от всех этих строк. "
   ]
  },
  {
   "cell_type": "code",
   "execution_count": 16,
   "metadata": {},
   "outputs": [
    {
     "data": {
      "text/plain": [
       "0"
      ]
     },
     "execution_count": 16,
     "metadata": {},
     "output_type": "execute_result"
    }
   ],
   "source": [
    "df = df.query(\"user_id not in @duplicated_ids\")\n",
    "\n",
    "# Убедимся, что таблица df более не содержит дублирующих id\n",
    "len(df.query(\"user_id in @duplicated_ids\"))"
   ]
  },
  {
   "cell_type": "markdown",
   "metadata": {},
   "source": [
    "Теперь обратим внимание на пропуски в столбце 'balance' и изучим распределение значений этого столбца. "
   ]
  },
  {
   "cell_type": "code",
   "execution_count": 17,
   "metadata": {},
   "outputs": [
    {
     "data": {
      "text/plain": [
       "2247"
      ]
     },
     "execution_count": 17,
     "metadata": {},
     "output_type": "execute_result"
    }
   ],
   "source": [
    "df['balance'].isna().sum() # посчитаем количество пропусков в этом столбце"
   ]
  },
  {
   "cell_type": "code",
   "execution_count": 18,
   "metadata": {},
   "outputs": [
    {
     "name": "stdout",
     "output_type": "stream",
     "text": [
      "Доля строк с пропусками в столбце \"balance\" составляет 22.8%\n"
     ]
    }
   ],
   "source": [
    "part = df['balance'].isna().sum() / len(df)\n",
    "print('Доля строк с пропусками в столбце \"balance\" составляет {:.1%}'.format(part))"
   ]
  },
  {
   "cell_type": "markdown",
   "metadata": {},
   "source": [
    "22.8% — это уже серьёзная, похожая на систематическую, ошибка. Здесь мы, очевидно, имеем дело с техническим сбоем. Рассмотрим строки с пропусками подробнее"
   ]
  },
  {
   "cell_type": "code",
   "execution_count": 19,
   "metadata": {},
   "outputs": [
    {
     "data": {
      "text/html": [
       "<div>\n",
       "<style scoped>\n",
       "    .dataframe tbody tr th:only-of-type {\n",
       "        vertical-align: middle;\n",
       "    }\n",
       "\n",
       "    .dataframe tbody tr th {\n",
       "        vertical-align: top;\n",
       "    }\n",
       "\n",
       "    .dataframe thead th {\n",
       "        text-align: right;\n",
       "    }\n",
       "</style>\n",
       "<table border=\"1\" class=\"dataframe\">\n",
       "  <thead>\n",
       "    <tr style=\"text-align: right;\">\n",
       "      <th></th>\n",
       "      <th>user_id</th>\n",
       "      <th>score</th>\n",
       "      <th>city</th>\n",
       "      <th>gender</th>\n",
       "      <th>age</th>\n",
       "      <th>equity</th>\n",
       "      <th>balance</th>\n",
       "      <th>products</th>\n",
       "      <th>credit_card</th>\n",
       "      <th>last_activity</th>\n",
       "      <th>est_salary</th>\n",
       "      <th>churn</th>\n",
       "      <th>gender_int</th>\n",
       "      <th>city_yar</th>\n",
       "      <th>city_ryb</th>\n",
       "      <th>city_ros</th>\n",
       "    </tr>\n",
       "  </thead>\n",
       "  <tbody>\n",
       "    <tr>\n",
       "      <th>2</th>\n",
       "      <td>120722</td>\n",
       "      <td>892</td>\n",
       "      <td>Рыбинск</td>\n",
       "      <td>Ж</td>\n",
       "      <td>30</td>\n",
       "      <td>0</td>\n",
       "      <td>NaN</td>\n",
       "      <td>1</td>\n",
       "      <td>1</td>\n",
       "      <td>1</td>\n",
       "      <td>107683.34</td>\n",
       "      <td>0</td>\n",
       "      <td>0</td>\n",
       "      <td>0</td>\n",
       "      <td>1</td>\n",
       "      <td>0</td>\n",
       "    </tr>\n",
       "    <tr>\n",
       "      <th>9</th>\n",
       "      <td>133130</td>\n",
       "      <td>906</td>\n",
       "      <td>Ярославль</td>\n",
       "      <td>Ж</td>\n",
       "      <td>67</td>\n",
       "      <td>0</td>\n",
       "      <td>NaN</td>\n",
       "      <td>1</td>\n",
       "      <td>0</td>\n",
       "      <td>1</td>\n",
       "      <td>238055.53</td>\n",
       "      <td>0</td>\n",
       "      <td>0</td>\n",
       "      <td>1</td>\n",
       "      <td>0</td>\n",
       "      <td>0</td>\n",
       "    </tr>\n",
       "    <tr>\n",
       "      <th>10</th>\n",
       "      <td>148929</td>\n",
       "      <td>927</td>\n",
       "      <td>Ростов</td>\n",
       "      <td>М</td>\n",
       "      <td>52</td>\n",
       "      <td>0</td>\n",
       "      <td>NaN</td>\n",
       "      <td>1</td>\n",
       "      <td>1</td>\n",
       "      <td>1</td>\n",
       "      <td>196820.07</td>\n",
       "      <td>0</td>\n",
       "      <td>1</td>\n",
       "      <td>0</td>\n",
       "      <td>0</td>\n",
       "      <td>1</td>\n",
       "    </tr>\n",
       "    <tr>\n",
       "      <th>11</th>\n",
       "      <td>172184</td>\n",
       "      <td>921</td>\n",
       "      <td>Ростов</td>\n",
       "      <td>М</td>\n",
       "      <td>41</td>\n",
       "      <td>0</td>\n",
       "      <td>NaN</td>\n",
       "      <td>1</td>\n",
       "      <td>1</td>\n",
       "      <td>1</td>\n",
       "      <td>217469.48</td>\n",
       "      <td>0</td>\n",
       "      <td>1</td>\n",
       "      <td>0</td>\n",
       "      <td>0</td>\n",
       "      <td>1</td>\n",
       "    </tr>\n",
       "    <tr>\n",
       "      <th>19</th>\n",
       "      <td>127034</td>\n",
       "      <td>922</td>\n",
       "      <td>Рыбинск</td>\n",
       "      <td>Ж</td>\n",
       "      <td>53</td>\n",
       "      <td>0</td>\n",
       "      <td>NaN</td>\n",
       "      <td>1</td>\n",
       "      <td>0</td>\n",
       "      <td>0</td>\n",
       "      <td>147094.82</td>\n",
       "      <td>0</td>\n",
       "      <td>0</td>\n",
       "      <td>0</td>\n",
       "      <td>1</td>\n",
       "      <td>0</td>\n",
       "    </tr>\n",
       "    <tr>\n",
       "      <th>...</th>\n",
       "      <td>...</td>\n",
       "      <td>...</td>\n",
       "      <td>...</td>\n",
       "      <td>...</td>\n",
       "      <td>...</td>\n",
       "      <td>...</td>\n",
       "      <td>...</td>\n",
       "      <td>...</td>\n",
       "      <td>...</td>\n",
       "      <td>...</td>\n",
       "      <td>...</td>\n",
       "      <td>...</td>\n",
       "      <td>...</td>\n",
       "      <td>...</td>\n",
       "      <td>...</td>\n",
       "      <td>...</td>\n",
       "    </tr>\n",
       "    <tr>\n",
       "      <th>9975</th>\n",
       "      <td>208085</td>\n",
       "      <td>876</td>\n",
       "      <td>Ростов</td>\n",
       "      <td>М</td>\n",
       "      <td>38</td>\n",
       "      <td>0</td>\n",
       "      <td>NaN</td>\n",
       "      <td>1</td>\n",
       "      <td>0</td>\n",
       "      <td>0</td>\n",
       "      <td>171763.69</td>\n",
       "      <td>0</td>\n",
       "      <td>1</td>\n",
       "      <td>0</td>\n",
       "      <td>0</td>\n",
       "      <td>1</td>\n",
       "    </tr>\n",
       "    <tr>\n",
       "      <th>9983</th>\n",
       "      <td>125941</td>\n",
       "      <td>729</td>\n",
       "      <td>Ярославль</td>\n",
       "      <td>Ж</td>\n",
       "      <td>42</td>\n",
       "      <td>0</td>\n",
       "      <td>NaN</td>\n",
       "      <td>1</td>\n",
       "      <td>1</td>\n",
       "      <td>1</td>\n",
       "      <td>687538.70</td>\n",
       "      <td>0</td>\n",
       "      <td>0</td>\n",
       "      <td>1</td>\n",
       "      <td>0</td>\n",
       "      <td>0</td>\n",
       "    </tr>\n",
       "    <tr>\n",
       "      <th>9992</th>\n",
       "      <td>219924</td>\n",
       "      <td>884</td>\n",
       "      <td>Рыбинск</td>\n",
       "      <td>Ж</td>\n",
       "      <td>36</td>\n",
       "      <td>0</td>\n",
       "      <td>NaN</td>\n",
       "      <td>1</td>\n",
       "      <td>1</td>\n",
       "      <td>1</td>\n",
       "      <td>169844.88</td>\n",
       "      <td>0</td>\n",
       "      <td>0</td>\n",
       "      <td>0</td>\n",
       "      <td>1</td>\n",
       "      <td>0</td>\n",
       "    </tr>\n",
       "    <tr>\n",
       "      <th>9995</th>\n",
       "      <td>139170</td>\n",
       "      <td>894</td>\n",
       "      <td>Ярославль</td>\n",
       "      <td>М</td>\n",
       "      <td>46</td>\n",
       "      <td>0</td>\n",
       "      <td>NaN</td>\n",
       "      <td>1</td>\n",
       "      <td>1</td>\n",
       "      <td>0</td>\n",
       "      <td>196898.29</td>\n",
       "      <td>0</td>\n",
       "      <td>1</td>\n",
       "      <td>1</td>\n",
       "      <td>0</td>\n",
       "      <td>0</td>\n",
       "    </tr>\n",
       "    <tr>\n",
       "      <th>9996</th>\n",
       "      <td>115639</td>\n",
       "      <td>903</td>\n",
       "      <td>Ярославль</td>\n",
       "      <td>М</td>\n",
       "      <td>24</td>\n",
       "      <td>0</td>\n",
       "      <td>NaN</td>\n",
       "      <td>2</td>\n",
       "      <td>1</td>\n",
       "      <td>1</td>\n",
       "      <td>108905.09</td>\n",
       "      <td>0</td>\n",
       "      <td>1</td>\n",
       "      <td>1</td>\n",
       "      <td>0</td>\n",
       "      <td>0</td>\n",
       "    </tr>\n",
       "  </tbody>\n",
       "</table>\n",
       "<p>2247 rows × 16 columns</p>\n",
       "</div>"
      ],
      "text/plain": [
       "      user_id  score       city gender  age  equity  balance  products  \\\n",
       "2      120722    892    Рыбинск      Ж   30       0      NaN         1   \n",
       "9      133130    906  Ярославль      Ж   67       0      NaN         1   \n",
       "10     148929    927     Ростов      М   52       0      NaN         1   \n",
       "11     172184    921     Ростов      М   41       0      NaN         1   \n",
       "19     127034    922    Рыбинск      Ж   53       0      NaN         1   \n",
       "...       ...    ...        ...    ...  ...     ...      ...       ...   \n",
       "9975   208085    876     Ростов      М   38       0      NaN         1   \n",
       "9983   125941    729  Ярославль      Ж   42       0      NaN         1   \n",
       "9992   219924    884    Рыбинск      Ж   36       0      NaN         1   \n",
       "9995   139170    894  Ярославль      М   46       0      NaN         1   \n",
       "9996   115639    903  Ярославль      М   24       0      NaN         2   \n",
       "\n",
       "      credit_card  last_activity  est_salary  churn  gender_int  city_yar  \\\n",
       "2               1              1   107683.34      0           0         0   \n",
       "9               0              1   238055.53      0           0         1   \n",
       "10              1              1   196820.07      0           1         0   \n",
       "11              1              1   217469.48      0           1         0   \n",
       "19              0              0   147094.82      0           0         0   \n",
       "...           ...            ...         ...    ...         ...       ...   \n",
       "9975            0              0   171763.69      0           1         0   \n",
       "9983            1              1   687538.70      0           0         1   \n",
       "9992            1              1   169844.88      0           0         0   \n",
       "9995            1              0   196898.29      0           1         1   \n",
       "9996            1              1   108905.09      0           1         1   \n",
       "\n",
       "      city_ryb  city_ros  \n",
       "2            1         0  \n",
       "9            0         0  \n",
       "10           0         1  \n",
       "11           0         1  \n",
       "19           1         0  \n",
       "...        ...       ...  \n",
       "9975         0         1  \n",
       "9983         0         0  \n",
       "9992         1         0  \n",
       "9995         0         0  \n",
       "9996         0         0  \n",
       "\n",
       "[2247 rows x 16 columns]"
      ]
     },
     "execution_count": 19,
     "metadata": {},
     "output_type": "execute_result"
    }
   ],
   "source": [
    "df.query('balance.isna()')"
   ]
  },
  {
   "cell_type": "markdown",
   "metadata": {},
   "source": [
    "Оценим пропуски в данных столбца 'balance' по филиалам"
   ]
  },
  {
   "cell_type": "code",
   "execution_count": 20,
   "metadata": {},
   "outputs": [
    {
     "data": {
      "text/plain": [
       "city\n",
       "Ростов        235\n",
       "Рыбинск       568\n",
       "Ярославль    1444\n",
       "Name: city, dtype: int64"
      ]
     },
     "execution_count": 20,
     "metadata": {},
     "output_type": "execute_result"
    }
   ],
   "source": [
    "df.query('balance.isna()').groupby('city')['city'].count()"
   ]
  },
  {
   "cell_type": "markdown",
   "metadata": {},
   "source": [
    "Пропуски существуют во всех трёх городах, больше всего их в Ярославле, меньше всего — в Ростове. Прежде, чем мы оценим пропуски в разрезе признака оттока, изучим соотношения доли клиентов с пропусками в каждом филиале."
   ]
  },
  {
   "cell_type": "code",
   "execution_count": 21,
   "metadata": {},
   "outputs": [],
   "source": [
    "rostov_part = 235 / len(df.query('city == \"Ростов\"'))\n",
    "rybinsk_part = 568 / len(df.query('city == \"Рыбинск\"'))\n",
    "yaroslavl_part = 1444 / len(df.query('city == \"Ярославль\"'))"
   ]
  },
  {
   "cell_type": "code",
   "execution_count": 22,
   "metadata": {},
   "outputs": [
    {
     "name": "stdout",
     "output_type": "stream",
     "text": [
      "Процент клиентов с пропусками в признаке баланса в городе Ростов составляет 16.58%\n",
      "Процент клиентов с пропусками в признаке баланса в городе Рыбинск составляет 21.66%\n",
      "Процент клиентов с пропусками в признаке баланса в городе Ярославль составляет 24.83%\n"
     ]
    }
   ],
   "source": [
    "city_label_dict = {\n",
    "    rostov_part : 'Ростов',\n",
    "    rybinsk_part : 'Рыбинск',\n",
    "    yaroslavl_part : 'Ярославль'\n",
    "}\n",
    "\n",
    "for i, j in city_label_dict.items():\n",
    "    print('Процент клиентов с пропусками в признаке баланса в городе ' + j + ' составляет {:.2%}'.format(i))"
   ]
  },
  {
   "cell_type": "markdown",
   "metadata": {},
   "source": [
    "В процентном соотношении больше всего пропусков в признаке баланса у клиентов города Ярославль — это 24.83%. Далее идёт город Рыбинск со значением 21.66% и меньше всего пропусков мы видим в городе Ростов. Если обратиться к Википедии и посмотреть население этих городов, то порядок убывания численности населения будет тем же: больше всего население в городе Ярославль: около 600 тысяч человек. В Рыбинске проживает 177 тысяч человек, а в Ростове Великом — чуть менее 30 тысяч. Видим связь: чем больше население города (и чем, соответственно, больше клиентов в филиале), тем больше доля пропусков в признаке баланса. Как будто кто-то или что-то устаёт от количества работы и начинает совершать ошибки по мере увеличения её объёмов. А вот теперь  оценим пропуски в разрезе признака оттока, изучим соотношения доли клиентов с пропусками в каждом филиале."
   ]
  },
  {
   "cell_type": "code",
   "execution_count": 23,
   "metadata": {},
   "outputs": [
    {
     "data": {
      "text/plain": [
       "churn\n",
       "0    2234\n",
       "1      13\n",
       "Name: churn, dtype: int64"
      ]
     },
     "execution_count": 23,
     "metadata": {},
     "output_type": "execute_result"
    }
   ],
   "source": [
    "df.query('balance.isna()').groupby('churn')['churn'].count()"
   ]
  },
  {
   "cell_type": "code",
   "execution_count": 24,
   "metadata": {},
   "outputs": [
    {
     "data": {
      "text/html": [
       "<div>\n",
       "<style scoped>\n",
       "    .dataframe tbody tr th:only-of-type {\n",
       "        vertical-align: middle;\n",
       "    }\n",
       "\n",
       "    .dataframe tbody tr th {\n",
       "        vertical-align: top;\n",
       "    }\n",
       "\n",
       "    .dataframe thead tr th {\n",
       "        text-align: left;\n",
       "    }\n",
       "\n",
       "    .dataframe thead tr:last-of-type th {\n",
       "        text-align: right;\n",
       "    }\n",
       "</style>\n",
       "<table border=\"1\" class=\"dataframe\">\n",
       "  <thead>\n",
       "    <tr>\n",
       "      <th></th>\n",
       "      <th colspan=\"2\" halign=\"left\">balance</th>\n",
       "    </tr>\n",
       "    <tr>\n",
       "      <th></th>\n",
       "      <th>count</th>\n",
       "      <th>mean</th>\n",
       "    </tr>\n",
       "    <tr>\n",
       "      <th>churn</th>\n",
       "      <th></th>\n",
       "      <th></th>\n",
       "    </tr>\n",
       "  </thead>\n",
       "  <tbody>\n",
       "    <tr>\n",
       "      <th>0</th>\n",
       "      <td>5851</td>\n",
       "      <td>7.326237e+05</td>\n",
       "    </tr>\n",
       "    <tr>\n",
       "      <th>1</th>\n",
       "      <td>1757</td>\n",
       "      <td>1.127694e+06</td>\n",
       "    </tr>\n",
       "  </tbody>\n",
       "</table>\n",
       "</div>"
      ],
      "text/plain": [
       "      balance              \n",
       "        count          mean\n",
       "churn                      \n",
       "0        5851  7.326237e+05\n",
       "1        1757  1.127694e+06"
      ]
     },
     "execution_count": 24,
     "metadata": {},
     "output_type": "execute_result"
    }
   ],
   "source": [
    "# средний остаток по признаку оттока\n",
    "df.groupby('churn').agg({'balance' : ['count', 'mean']})"
   ]
  },
  {
   "cell_type": "markdown",
   "metadata": {},
   "source": [
    "В строках с пропусками значений есть как отточные клиенты, так и те, кто остался в банке. Однако, клиенты с пропусками в балансе практически не уходят — таких записей всего 13. Можно говорить о том, что наличие пропуска в балансе является признаком отсутствия оттока."
   ]
  },
  {
   "cell_type": "code",
   "execution_count": 25,
   "metadata": {},
   "outputs": [
    {
     "data": {
      "text/html": [
       "<div>\n",
       "<style scoped>\n",
       "    .dataframe tbody tr th:only-of-type {\n",
       "        vertical-align: middle;\n",
       "    }\n",
       "\n",
       "    .dataframe tbody tr th {\n",
       "        vertical-align: top;\n",
       "    }\n",
       "\n",
       "    .dataframe thead th {\n",
       "        text-align: right;\n",
       "    }\n",
       "</style>\n",
       "<table border=\"1\" class=\"dataframe\">\n",
       "  <thead>\n",
       "    <tr style=\"text-align: right;\">\n",
       "      <th></th>\n",
       "      <th>user_id</th>\n",
       "      <th>score</th>\n",
       "      <th>city</th>\n",
       "      <th>gender</th>\n",
       "      <th>age</th>\n",
       "      <th>equity</th>\n",
       "      <th>balance</th>\n",
       "      <th>products</th>\n",
       "      <th>credit_card</th>\n",
       "      <th>last_activity</th>\n",
       "      <th>est_salary</th>\n",
       "      <th>churn</th>\n",
       "      <th>gender_int</th>\n",
       "      <th>city_yar</th>\n",
       "      <th>city_ryb</th>\n",
       "      <th>city_ros</th>\n",
       "    </tr>\n",
       "  </thead>\n",
       "  <tbody>\n",
       "    <tr>\n",
       "      <th>3900</th>\n",
       "      <td>179831</td>\n",
       "      <td>730</td>\n",
       "      <td>Ярославль</td>\n",
       "      <td>М</td>\n",
       "      <td>18</td>\n",
       "      <td>0</td>\n",
       "      <td>0.0</td>\n",
       "      <td>2</td>\n",
       "      <td>1</td>\n",
       "      <td>1</td>\n",
       "      <td>64548.33</td>\n",
       "      <td>0</td>\n",
       "      <td>1</td>\n",
       "      <td>1</td>\n",
       "      <td>0</td>\n",
       "      <td>0</td>\n",
       "    </tr>\n",
       "    <tr>\n",
       "      <th>6757</th>\n",
       "      <td>148456</td>\n",
       "      <td>813</td>\n",
       "      <td>Ярославль</td>\n",
       "      <td>М</td>\n",
       "      <td>20</td>\n",
       "      <td>2</td>\n",
       "      <td>0.0</td>\n",
       "      <td>2</td>\n",
       "      <td>1</td>\n",
       "      <td>0</td>\n",
       "      <td>23876.51</td>\n",
       "      <td>0</td>\n",
       "      <td>1</td>\n",
       "      <td>1</td>\n",
       "      <td>0</td>\n",
       "      <td>0</td>\n",
       "    </tr>\n",
       "  </tbody>\n",
       "</table>\n",
       "</div>"
      ],
      "text/plain": [
       "      user_id  score       city gender  age  equity  balance  products  \\\n",
       "3900   179831    730  Ярославль      М   18       0      0.0         2   \n",
       "6757   148456    813  Ярославль      М   20       2      0.0         2   \n",
       "\n",
       "      credit_card  last_activity  est_salary  churn  gender_int  city_yar  \\\n",
       "3900            1              1    64548.33      0           1         1   \n",
       "6757            1              0    23876.51      0           1         1   \n",
       "\n",
       "      city_ryb  city_ros  \n",
       "3900         0         0  \n",
       "6757         0         0  "
      ]
     },
     "execution_count": 25,
     "metadata": {},
     "output_type": "execute_result"
    }
   ],
   "source": [
    "# проверим, сколько записей с нулевым остатком содержит столбец 'balance'\n",
    "df.query('balance == 0')"
   ]
  },
  {
   "cell_type": "markdown",
   "metadata": {},
   "source": [
    "Таких записей всего две, что представляет собой совсем незначительную часть данных. Пропуски — это точно не нулевые значения."
   ]
  },
  {
   "cell_type": "markdown",
   "metadata": {},
   "source": [
    "Итак, пропуски в столбце 'balance' не связаны с признаком оттока клиента: они есть и у тех, кто перестал являться клиентом банка (правда, всего у 13 человек), также они есть и у тех, кто клиентом остаётся. У клиентов с признаком оттока существуют остатки на счетах. Практически у всех клиентов банка существуют остатки на счетах за исключением двух клиентов, которые по-прежнему являются клиентами. Пропуски данных есть во всех трёх городах, где находятся филиалы банка."
   ]
  },
  {
   "cell_type": "markdown",
   "metadata": {},
   "source": [
    "Количество пропусков в записях для клиентов из Ярославля можно объяснить тем, что Ярославль является областным центром, то есть более крупным городом, то есть в нём живёт больше людей и спрос на банковские продукты, соответствено, выше. Но мы можем говорить о существовании какой-то ошибки, которая систематическая, то есть где-то при выгрузке она возникает и характерна для каждого из существующих филиалов. Согласно классификации пропусков, мы имеем здесь тип MNAR (Missing Not At Random / Отсутствует не случайно) — пропуски зависят от данных, без дополнительного обоснования их нельзя отбрасывать или заполнять одним значением, т.к. это приведёт к заметным искажениям."
   ]
  },
  {
   "cell_type": "markdown",
   "metadata": {},
   "source": [
    "# 3. EDA — Исследовательский анализ данных"
   ]
  },
  {
   "cell_type": "markdown",
   "metadata": {},
   "source": [
    "- сравним портреты отточных и неотточных клиентов, построим распределения признаков у первой и второй групп.\n",
    "- исследуем коррелирующие признаки, построив матрицу корреляций"
   ]
  },
  {
   "cell_type": "code",
   "execution_count": 26,
   "metadata": {},
   "outputs": [
    {
     "data": {
      "text/html": [
       "<div>\n",
       "<style scoped>\n",
       "    .dataframe tbody tr th:only-of-type {\n",
       "        vertical-align: middle;\n",
       "    }\n",
       "\n",
       "    .dataframe tbody tr th {\n",
       "        vertical-align: top;\n",
       "    }\n",
       "\n",
       "    .dataframe thead th {\n",
       "        text-align: right;\n",
       "    }\n",
       "</style>\n",
       "<table border=\"1\" class=\"dataframe\">\n",
       "  <thead>\n",
       "    <tr style=\"text-align: right;\">\n",
       "      <th></th>\n",
       "      <th>user_id</th>\n",
       "      <th>score</th>\n",
       "      <th>age</th>\n",
       "      <th>equity</th>\n",
       "      <th>balance</th>\n",
       "      <th>products</th>\n",
       "      <th>credit_card</th>\n",
       "      <th>last_activity</th>\n",
       "      <th>est_salary</th>\n",
       "      <th>churn</th>\n",
       "      <th>gender_int</th>\n",
       "      <th>city_yar</th>\n",
       "      <th>city_ryb</th>\n",
       "      <th>city_ros</th>\n",
       "    </tr>\n",
       "  </thead>\n",
       "  <tbody>\n",
       "    <tr>\n",
       "      <th>count</th>\n",
       "      <td>9855.000000</td>\n",
       "      <td>9855.000000</td>\n",
       "      <td>9855.000000</td>\n",
       "      <td>9855.000000</td>\n",
       "      <td>7.608000e+03</td>\n",
       "      <td>9855.000000</td>\n",
       "      <td>9855.000000</td>\n",
       "      <td>9855.000000</td>\n",
       "      <td>9.855000e+03</td>\n",
       "      <td>9855.000000</td>\n",
       "      <td>9855.000000</td>\n",
       "      <td>9855.000000</td>\n",
       "      <td>9855.000000</td>\n",
       "      <td>9855.000000</td>\n",
       "    </tr>\n",
       "    <tr>\n",
       "      <th>mean</th>\n",
       "      <td>171659.303805</td>\n",
       "      <td>848.510604</td>\n",
       "      <td>42.865956</td>\n",
       "      <td>2.629934</td>\n",
       "      <td>8.238616e+05</td>\n",
       "      <td>1.871740</td>\n",
       "      <td>0.680365</td>\n",
       "      <td>0.521563</td>\n",
       "      <td>1.475957e+05</td>\n",
       "      <td>0.179604</td>\n",
       "      <td>0.500254</td>\n",
       "      <td>0.590157</td>\n",
       "      <td>0.266058</td>\n",
       "      <td>0.143785</td>\n",
       "    </tr>\n",
       "    <tr>\n",
       "      <th>std</th>\n",
       "      <td>33684.008857</td>\n",
       "      <td>65.394268</td>\n",
       "      <td>12.140883</td>\n",
       "      <td>1.977634</td>\n",
       "      <td>1.982674e+06</td>\n",
       "      <td>0.795632</td>\n",
       "      <td>0.466359</td>\n",
       "      <td>0.499560</td>\n",
       "      <td>1.390058e+05</td>\n",
       "      <td>0.383877</td>\n",
       "      <td>0.500025</td>\n",
       "      <td>0.491829</td>\n",
       "      <td>0.441917</td>\n",
       "      <td>0.350889</td>\n",
       "    </tr>\n",
       "    <tr>\n",
       "      <th>min</th>\n",
       "      <td>94561.000000</td>\n",
       "      <td>642.000000</td>\n",
       "      <td>18.000000</td>\n",
       "      <td>0.000000</td>\n",
       "      <td>0.000000e+00</td>\n",
       "      <td>0.000000</td>\n",
       "      <td>0.000000</td>\n",
       "      <td>0.000000</td>\n",
       "      <td>2.546300e+03</td>\n",
       "      <td>0.000000</td>\n",
       "      <td>0.000000</td>\n",
       "      <td>0.000000</td>\n",
       "      <td>0.000000</td>\n",
       "      <td>0.000000</td>\n",
       "    </tr>\n",
       "    <tr>\n",
       "      <th>25%</th>\n",
       "      <td>142585.500000</td>\n",
       "      <td>802.000000</td>\n",
       "      <td>34.000000</td>\n",
       "      <td>0.000000</td>\n",
       "      <td>2.945396e+05</td>\n",
       "      <td>1.000000</td>\n",
       "      <td>0.000000</td>\n",
       "      <td>0.000000</td>\n",
       "      <td>7.508276e+04</td>\n",
       "      <td>0.000000</td>\n",
       "      <td>0.000000</td>\n",
       "      <td>0.000000</td>\n",
       "      <td>0.000000</td>\n",
       "      <td>0.000000</td>\n",
       "    </tr>\n",
       "    <tr>\n",
       "      <th>50%</th>\n",
       "      <td>172466.000000</td>\n",
       "      <td>852.000000</td>\n",
       "      <td>40.000000</td>\n",
       "      <td>3.000000</td>\n",
       "      <td>5.226297e+05</td>\n",
       "      <td>2.000000</td>\n",
       "      <td>1.000000</td>\n",
       "      <td>1.000000</td>\n",
       "      <td>1.194601e+05</td>\n",
       "      <td>0.000000</td>\n",
       "      <td>1.000000</td>\n",
       "      <td>1.000000</td>\n",
       "      <td>0.000000</td>\n",
       "      <td>0.000000</td>\n",
       "    </tr>\n",
       "    <tr>\n",
       "      <th>75%</th>\n",
       "      <td>200976.000000</td>\n",
       "      <td>899.000000</td>\n",
       "      <td>51.000000</td>\n",
       "      <td>4.000000</td>\n",
       "      <td>9.754941e+05</td>\n",
       "      <td>2.000000</td>\n",
       "      <td>1.000000</td>\n",
       "      <td>1.000000</td>\n",
       "      <td>1.744957e+05</td>\n",
       "      <td>0.000000</td>\n",
       "      <td>1.000000</td>\n",
       "      <td>1.000000</td>\n",
       "      <td>1.000000</td>\n",
       "      <td>0.000000</td>\n",
       "    </tr>\n",
       "    <tr>\n",
       "      <th>max</th>\n",
       "      <td>229145.000000</td>\n",
       "      <td>1000.000000</td>\n",
       "      <td>86.000000</td>\n",
       "      <td>9.000000</td>\n",
       "      <td>1.191136e+08</td>\n",
       "      <td>5.000000</td>\n",
       "      <td>1.000000</td>\n",
       "      <td>1.000000</td>\n",
       "      <td>1.395064e+06</td>\n",
       "      <td>1.000000</td>\n",
       "      <td>1.000000</td>\n",
       "      <td>1.000000</td>\n",
       "      <td>1.000000</td>\n",
       "      <td>1.000000</td>\n",
       "    </tr>\n",
       "  </tbody>\n",
       "</table>\n",
       "</div>"
      ],
      "text/plain": [
       "             user_id        score          age       equity       balance  \\\n",
       "count    9855.000000  9855.000000  9855.000000  9855.000000  7.608000e+03   \n",
       "mean   171659.303805   848.510604    42.865956     2.629934  8.238616e+05   \n",
       "std     33684.008857    65.394268    12.140883     1.977634  1.982674e+06   \n",
       "min     94561.000000   642.000000    18.000000     0.000000  0.000000e+00   \n",
       "25%    142585.500000   802.000000    34.000000     0.000000  2.945396e+05   \n",
       "50%    172466.000000   852.000000    40.000000     3.000000  5.226297e+05   \n",
       "75%    200976.000000   899.000000    51.000000     4.000000  9.754941e+05   \n",
       "max    229145.000000  1000.000000    86.000000     9.000000  1.191136e+08   \n",
       "\n",
       "          products  credit_card  last_activity    est_salary        churn  \\\n",
       "count  9855.000000  9855.000000    9855.000000  9.855000e+03  9855.000000   \n",
       "mean      1.871740     0.680365       0.521563  1.475957e+05     0.179604   \n",
       "std       0.795632     0.466359       0.499560  1.390058e+05     0.383877   \n",
       "min       0.000000     0.000000       0.000000  2.546300e+03     0.000000   \n",
       "25%       1.000000     0.000000       0.000000  7.508276e+04     0.000000   \n",
       "50%       2.000000     1.000000       1.000000  1.194601e+05     0.000000   \n",
       "75%       2.000000     1.000000       1.000000  1.744957e+05     0.000000   \n",
       "max       5.000000     1.000000       1.000000  1.395064e+06     1.000000   \n",
       "\n",
       "        gender_int     city_yar     city_ryb     city_ros  \n",
       "count  9855.000000  9855.000000  9855.000000  9855.000000  \n",
       "mean      0.500254     0.590157     0.266058     0.143785  \n",
       "std       0.500025     0.491829     0.441917     0.350889  \n",
       "min       0.000000     0.000000     0.000000     0.000000  \n",
       "25%       0.000000     0.000000     0.000000     0.000000  \n",
       "50%       1.000000     1.000000     0.000000     0.000000  \n",
       "75%       1.000000     1.000000     1.000000     0.000000  \n",
       "max       1.000000     1.000000     1.000000     1.000000  "
      ]
     },
     "execution_count": 26,
     "metadata": {},
     "output_type": "execute_result"
    }
   ],
   "source": [
    "# Изучим средние значения показателей\n",
    "df.describe()"
   ]
  },
  {
   "cell_type": "code",
   "execution_count": 27,
   "metadata": {},
   "outputs": [
    {
     "data": {
      "image/png": "[encoded data removed]",
      "text/plain": [
       "<Figure size 576x576 with 1 Axes>"
      ]
     },
     "metadata": {},
     "output_type": "display_data"
    }
   ],
   "source": [
    "\n",
    "sizes = df['churn'].value_counts(sort = True)\n",
    "colors = [\"GreenYellow\",\"Tomato\"] \n",
    "labels = '', 'Отток'\n",
    "explode = (0, 0.1)\n",
    "rcParams['figure.figsize'] = 8, 8\n",
    "\n",
    "# Plot\n",
    "plt.pie(sizes, explode=explode, colors=colors, labels=labels,\n",
    "        autopct='%1.1f%%', shadow=True, startangle=270, textprops={'fontsize': 18})\n",
    "\n",
    "plt.title('Доля оттока среди клиентов банка в процентах', fontdict = {'fontsize' : 24})\n",
    "plt.show()"
   ]
  },
  {
   "cell_type": "markdown",
   "metadata": {},
   "source": [
    "Банк потерял около 18% клиентов. Рассмотрим признаки подробнее."
   ]
  },
  {
   "cell_type": "code",
   "execution_count": 28,
   "metadata": {
    "scrolled": false
   },
   "outputs": [
    {
     "data": {
      "image/png": "[encoded data removed]",
      "text/plain": [
       "<Figure size 1080x360 with 2 Axes>"
      ]
     },
     "metadata": {
      "needs_background": "light"
     },
     "output_type": "display_data"
    },
    {
     "data": {
      "image/png": "[encoded data removed]",
      "text/plain": [
       "<Figure size 1080x360 with 2 Axes>"
      ]
     },
     "metadata": {
      "needs_background": "light"
     },
     "output_type": "display_data"
    },
    {
     "data": {
      "image/png": "[encoded data removed]",
      "text/plain": [
       "<Figure size 1080x360 with 2 Axes>"
      ]
     },
     "metadata": {
      "needs_background": "light"
     },
     "output_type": "display_data"
    },
    {
     "data": {
      "image/png": "[encoded data removed]",
      "text/plain": [
       "<Figure size 1080x360 with 2 Axes>"
      ]
     },
     "metadata": {
      "needs_background": "light"
     },
     "output_type": "display_data"
    },
    {
     "data": {
      "image/png": "[encoded data removed]",
      "text/plain": [
       "<Figure size 1080x360 with 2 Axes>"
      ]
     },
     "metadata": {
      "needs_background": "light"
     },
     "output_type": "display_data"
    },
    {
     "data": {
      "image/png": "[encoded data removed]",
      "text/plain": [
       "<Figure size 1080x360 with 2 Axes>"
      ]
     },
     "metadata": {
      "needs_background": "light"
     },
     "output_type": "display_data"
    },
    {
     "data": {
      "image/png": "[encoded data removed]",
      "text/plain": [
       "<Figure size 1080x360 with 2 Axes>"
      ]
     },
     "metadata": {
      "needs_background": "light"
     },
     "output_type": "display_data"
    },
    {
     "data": {
      "image/png": "[encoded data removed]",
      "text/plain": [
       "<Figure size 1080x360 with 2 Axes>"
      ]
     },
     "metadata": {
      "needs_background": "light"
     },
     "output_type": "display_data"
    },
    {
     "data": {
      "image/png": "[encoded data removed]",
      "text/plain": [
       "<Figure size 1080x360 with 2 Axes>"
      ]
     },
     "metadata": {
      "needs_background": "light"
     },
     "output_type": "display_data"
    },
    {
     "data": {
      "image/png": "[encoded data removed]",
      "text/plain": [
       "<Figure size 1080x360 with 2 Axes>"
      ]
     },
     "metadata": {
      "needs_background": "light"
     },
     "output_type": "display_data"
    }
   ],
   "source": [
    "# создадим список columns, который будет содержать имена столбцов таблицы df2 кроме имён, указанных внутри скобок метода drop().\n",
    "columns = df.drop(['churn', 'user_id', 'city', 'gender', 'balance', 'est_salary'], axis=1).columns\n",
    "\n",
    "# а ещё создадим словарь, чтобы подписи получились красивыми\n",
    "label_dict = {\n",
    "    'score': 'баллов кредитного скоринга',\n",
    "    'age': 'возраста',\n",
    "    'equity': 'приблизительной оценки собственности клиента',\n",
    "    'balance': 'баланса',\n",
    "    'products': 'количества продуктов',\n",
    "    'credit_card': 'наличия кредитной карты',\n",
    "    'last_activity': 'активности в последнее время',\n",
    "    'est_salary': 'заработной платы клиента',\n",
    "    'city_yar': 'проживания в городе Ярославль',\n",
    "    'city_ryb': 'проживания в городе Рыбинск',\n",
    "    'city_ros': 'проживания в городе Ростов',\n",
    "    'gender_int': 'пола (Ж-0, М-1)'\n",
    "}\n",
    "\n",
    "\n",
    "for col in columns:\n",
    "    x1 = df[df['churn']==0][col]\n",
    "    x2 = df[df['churn']==1][col]\n",
    "    x3 = df[col]\n",
    "# plot\n",
    "    fig, axes = plt.subplots(1, 2, figsize=(15, 5), sharey=True, sharex=True)\n",
    "    fig.suptitle('Данные по признаку ' + label_dict[col])\n",
    "    sns.distplot(x1 , color=\"SpringGreen\", ax=axes[0], label='Не отток')\n",
    "    sns.distplot(x2 , color=\"Violet\", ax=axes[0], label = 'Отток')\n",
    "    sns.distplot(x3 , color=\"DeepSkyBlue\", ax=axes[1], axlabel='all data')\n",
    "    fig.legend(bbox_to_anchor=(0.066, 0.9), loc='lower left', ncol=2, borderaxespad=0.)\n",
    "    axes[0].set(ylabel='Density')\n",
    "    axes[0].grid(axis='y', color='0.95')\n",
    "    axes[1].grid(axis='y', color='0.95')\n",
    "    plt.show()"
   ]
  },
  {
   "cell_type": "markdown",
   "metadata": {},
   "source": [
    "По графикам можно заметить, что к оттоку более склонны мужчины, женщины же напротив — более лояльны. Чаще всего в оттоке оказываются клиенты, которе имеют от 800 до 900 баллов кредитного скоринга, а также возрастная категория клиентов от 50 до 60 лет. Если клиент владеет кредитной картой, то он окажется в оттоке с меньшей вероятностью, чем если бы у него кредитной карты не было. Также мы можем наблюдать, что чуть более склонны к оттоку те клиенты, которые проявляли активность в последнее время. Перейдём к построению матрицы корреляций."
   ]
  },
  {
   "cell_type": "markdown",
   "metadata": {},
   "source": [
    "Построим графики по балансу и зарплате отдельно. Создадим дополнительную таблицу для построения графиков, а для того, чтобы эти графики были отображены информативно, избавимся от выбросов в данных столбцов 'balance' и 'est_salary'."
   ]
  },
  {
   "cell_type": "code",
   "execution_count": 29,
   "metadata": {},
   "outputs": [
    {
     "data": {
      "text/plain": [
       "count    7608.000000\n",
       "mean        0.823862\n",
       "std         1.982674\n",
       "min         0.000000\n",
       "25%         0.294540\n",
       "50%         0.522630\n",
       "75%         0.975494\n",
       "max       119.113552\n",
       "Name: balance, dtype: float64"
      ]
     },
     "execution_count": 29,
     "metadata": {},
     "output_type": "execute_result"
    }
   ],
   "source": [
    "# Для начала изучим данные в столбцах\n",
    "\n",
    "# Создадим \"клон\" таблицы df (назовём его df2), который будем использовать только для построения графиков\n",
    "df2 = df[['churn', 'balance', 'est_salary']]\n",
    "\n",
    "# Переведём значения столбца 'balance' в миллионы, чтобы избавиться от экспонентного вида числа\n",
    "df2['balance'] = df2['balance'] / 1000000\n",
    "\n",
    "df2['balance'].describe()"
   ]
  },
  {
   "cell_type": "markdown",
   "metadata": {},
   "source": [
    "В столбце 'balance' медиана равна значению 0.52, а стандартное отклонение составляет 1.98. Границей, по которой будем избавляться от выбросов для построения графика, примем значение двух стандартных отклонений, отложенных от медианы, разумеется, в сторону увеличения. Нижней границей оставим минимальное значение 0."
   ]
  },
  {
   "cell_type": "code",
   "execution_count": 30,
   "metadata": {},
   "outputs": [],
   "source": [
    "# задаём значение границы\n",
    "border_value = 0.522630 + 1.982674 * 2\n",
    "\n",
    "balance_df = df2.query('balance < @border_value')"
   ]
  },
  {
   "cell_type": "code",
   "execution_count": 31,
   "metadata": {},
   "outputs": [
    {
     "data": {
      "image/png": "[encoded data removed]",
      "text/plain": [
       "<Figure size 1080x360 with 2 Axes>"
      ]
     },
     "metadata": {
      "needs_background": "light"
     },
     "output_type": "display_data"
    }
   ],
   "source": [
    "x1 = balance_df[balance_df['churn']==0]['balance']\n",
    "x2 = balance_df[balance_df['churn']==1]['balance']\n",
    "x3 = balance_df['balance']\n",
    "\n",
    "# plot\n",
    "fig, axes = plt.subplots(1, 2, figsize=(15, 5), sharey=True, sharex=True)\n",
    "fig.suptitle('Данные по признаку баланса на счёте клиента')\n",
    "sns.distplot(x1 , color=\"SpringGreen\", ax=axes[0], label='Не отток')\n",
    "sns.distplot(x2 , color=\"Violet\", ax=axes[0], label = 'Отток')\n",
    "sns.distplot(x3 , color=\"DeepSkyBlue\", ax=axes[1], axlabel='all data')\n",
    "fig.legend(bbox_to_anchor=(0.066, 0.9), loc='lower left', ncol=2, borderaxespad=0.)\n",
    "axes[0].set(ylabel='Density')\n",
    "axes[0].grid(axis='y', color='0.95')\n",
    "axes[1].grid(axis='y', color='0.95')\n",
    "plt.show()"
   ]
  },
  {
   "cell_type": "markdown",
   "metadata": {},
   "source": [
    "Точно так же построим график для признака зарплаты. "
   ]
  },
  {
   "cell_type": "code",
   "execution_count": 32,
   "metadata": {},
   "outputs": [
    {
     "data": {
      "text/plain": [
       "count    9855.000000\n",
       "mean        1.475957\n",
       "std         1.390058\n",
       "min         0.025463\n",
       "25%         0.750828\n",
       "50%         1.194601\n",
       "75%         1.744957\n",
       "max        13.950644\n",
       "Name: est_salary, dtype: float64"
      ]
     },
     "execution_count": 32,
     "metadata": {},
     "output_type": "execute_result"
    }
   ],
   "source": [
    "# Переведём значения столбца 'est_salary' в сотни тысяч, чтобы избавиться от экспонентного вида числа\n",
    "\n",
    "df2['est_salary'] = df2['est_salary'] / 100000\n",
    "\n",
    "df2['est_salary'].describe()"
   ]
  },
  {
   "cell_type": "markdown",
   "metadata": {},
   "source": [
    "В столбце 'est_salary' медиана равна значению 1.19, что соответствует 119 тысячам, а стандартное отклонение составляет 1.39 (139 тысяч). Границей, по которой будем избавляться от выбросов для построения графика, примем значение двух стандартных отклонений, отложенных от медианы в сторону увеличения. Нижней границей оставим минимальное значение."
   ]
  },
  {
   "cell_type": "code",
   "execution_count": 33,
   "metadata": {},
   "outputs": [],
   "source": [
    "# задаём значение границы\n",
    "border_value = 1.194601 + 1.390058 * 2\n",
    "\n",
    "salary_df = df2.query('est_salary < @border_value')"
   ]
  },
  {
   "cell_type": "code",
   "execution_count": 34,
   "metadata": {},
   "outputs": [
    {
     "data": {
      "image/png": "[encoded data removed]",
      "text/plain": [
       "<Figure size 1080x360 with 2 Axes>"
      ]
     },
     "metadata": {
      "needs_background": "light"
     },
     "output_type": "display_data"
    }
   ],
   "source": [
    "x1 = salary_df[salary_df['churn']==0]['est_salary']\n",
    "x2 = salary_df[salary_df['churn']==1]['est_salary']\n",
    "x3 = salary_df['est_salary']\n",
    "\n",
    "# plot\n",
    "fig, axes = plt.subplots(1, 2, figsize=(15, 5), sharey=True, sharex=True)\n",
    "fig.suptitle('Данные по признаку заработной платы клиента')\n",
    "sns.distplot(x1 , color=\"SpringGreen\", ax=axes[0], label='Не отток')\n",
    "sns.distplot(x2 , color=\"Violet\", ax=axes[0], label = 'Отток')\n",
    "sns.distplot(x3 , color=\"DeepSkyBlue\", ax=axes[1], axlabel='all data')\n",
    "fig.legend(bbox_to_anchor=(0.066, 0.9), loc='lower left', ncol=2, borderaxespad=0.)\n",
    "axes[0].set(ylabel='Density')\n",
    "axes[0].grid(axis='y', color='0.95')\n",
    "axes[1].grid(axis='y', color='0.95')\n",
    "plt.show()"
   ]
  },
  {
   "cell_type": "markdown",
   "metadata": {},
   "source": [
    "На основании графика по балансу на счёте, мы можем судить, что к оттоку более склонны клиенты с балансом более 1-го миллиона рублей, тогда как клиенты с меньшим балансом значимо чаще остаются клиентами банка. По признаку заработной платы можно говорить о том, что клиенты с зарплатой более 100 тысяч — более склонны к оттоку. Можно сделать вывод, что более обеспеченные клиенты не нуждаются в банковских продуктах, тогда как менее обеспеченные клиенты остаются с банком, то есть проявляют лояльность."
   ]
  },
  {
   "cell_type": "markdown",
   "metadata": {},
   "source": [
    "Уделим особое внимание значениям признаков, которые являются границами отточных интервалов:\n",
    "- показатель зарплаты клиента — 100 тысяч — это нижняя граница зарплаты, с которой клиенты чаще уходят в отток;\n",
    "- показатель баланса клиента — 1 миллион — это также нижняя граница средств на счёте, с которой клиент принимает решение уйти из банка;\n",
    "- отсутствие кредитной карты — если клиент не имеет кредитную карту, он более склонен к оттоку;\n",
    "- в продолжении темы кредитной карты, которая является продуктом банка: если клиент имеет 3 и более продуктов банка, он также может уйти. То есть важно следить за тем, чтобы у клиента не было \"слишком много\" банковских продуктов. \n",
    "- клиенты мужского пола чаще склонны к оттоку\n",
    "- клиенты в возрасте от 20 до 30 лет, а также от 50 до 60 — чаще склонны к оттоку. Возможно стоит проработать специальные программы для этих категорий клиентов\n",
    "- к оттоку склонны клиенты, у которых приблизительная оценка собственности выше трёх баллов"
   ]
  },
  {
   "cell_type": "code",
   "execution_count": 35,
   "metadata": {},
   "outputs": [
    {
     "data": {
      "image/png": "[encoded data removed]",
      "text/plain": [
       "<Figure size 1080x1080 with 2 Axes>"
      ]
     },
     "metadata": {
      "needs_background": "light"
     },
     "output_type": "display_data"
    }
   ],
   "source": [
    "corr_m = df.drop(['user_id', 'city', 'gender_int'], axis=1).corr()\n",
    "corr_m\n",
    "# отобразим heatmap\n",
    "plt.figure(figsize = (15,15))\n",
    "sns.heatmap(corr_m, square=True, vmax=0.8, annot = True)\n",
    "\n",
    "plt.show()"
   ]
  },
  {
   "cell_type": "markdown",
   "metadata": {},
   "source": [
    "Сильной корреляции между признаками не обнаружено. С целевой переменной churn больше всего коррелирует переменная equity, которая характеризует приблизительную оценку собственности клиента и переменная products, которая содержит данные о количестве продуктов у клиента."
   ]
  },
  {
   "cell_type": "markdown",
   "metadata": {},
   "source": [
    "Теперь сопоставим портреты отточных и неотточных клиентов банка. Начнём с разделения датафрейма df на два разных: в первом датафрейме no_churn_df будут неотточные клиенты, во втором датафрейме — churn_df — отточные клиенты. Выделим различия между этими двумя группами клиентов."
   ]
  },
  {
   "cell_type": "code",
   "execution_count": 36,
   "metadata": {},
   "outputs": [],
   "source": [
    "no_churn_df = df.query('churn == 0')\n",
    "churn_df = df.query('churn == 1')"
   ]
  },
  {
   "cell_type": "code",
   "execution_count": 37,
   "metadata": {},
   "outputs": [
    {
     "name": "stdout",
     "output_type": "stream",
     "text": [
      "Среднее значение баллов кредитного скоринга для неотточных клиентов: 845.34\n",
      "Среднее значение баллов кредитного скоринга для отточных клиентов: 863.01\n",
      "Значение для отточных клиентов больше на 2.05%\n",
      "\n",
      "Среднее значение возраста для неотточных клиентов: 43.17\n",
      "Среднее значение возраста для отточных клиентов: 41.49\n",
      "Значение для неотточных клиентов больше на 3.89%\n",
      "\n",
      "Среднее значение приблизительной оценки собственности клиента для неотточных клиентов: 2.38\n",
      "Среднее значение приблизительной оценки собственности клиента для отточных клиентов: 3.76\n",
      "Значение для отточных клиентов больше на 36.70%\n",
      "\n",
      "Медианное значение баланса для неотточных клиентов: 475293.3\n",
      "Медианное значение баланса для отточных клиентов: 779813.55\n",
      "Значение для отточных клиентов больше на 39.05%\n",
      "\n",
      "Среднее значение количества продуктов для неотточных клиентов: 1.76\n",
      "Среднее значение количества продуктов для отточных клиентов: 2.37\n",
      "Значение для отточных клиентов больше на 25.74%\n",
      "\n",
      "Медианное значение заработной платы клиента для неотточных клиентов: 118089.13\n",
      "Медианное значение заработной платы клиента для отточных клиентов: 125109.75\n",
      "Значение для отточных клиентов больше на 5.61%\n",
      "\n"
     ]
    }
   ],
   "source": [
    "table_list = [no_churn_df, churn_df]\n",
    "\n",
    "for i in ['score', 'age', 'equity', 'balance', 'products', 'est_salary']:\n",
    "    no_churn_value = 0\n",
    "    churn_value = 0\n",
    "    for j in range(len(table_list)):\n",
    "        target_value = 0\n",
    "        # Будем брать медианные значения для признаков, которые относятся к деньгам — баланс и зарплата\n",
    "        if i == 'balance' or i == 'est_salary':\n",
    "            target_value = round(table_list[j][i].median(), 2)\n",
    "            value_type = 'Медианное значение'\n",
    "        # В остальных случаях будем брать среднее значение для сравнения\n",
    "        else:\n",
    "            target_value = round(table_list[j][i].mean(), 2)\n",
    "            value_type = 'Среднее значение'\n",
    "            \n",
    "        if j == 0:\n",
    "            client_type = 'неотточных клиентов'\n",
    "            no_churn_value = target_value\n",
    "            print(f'{value_type} {label_dict[i]} для {client_type}: {target_value}')\n",
    "        else:\n",
    "            client_type = 'отточных клиентов'\n",
    "            churn_value = target_value\n",
    "            print(f'{value_type} {label_dict[i]} для {client_type}: {target_value}')\n",
    "        \n",
    "    perc_diff = 0\n",
    "    diff = round(abs(no_churn_value - churn_value), 2)\n",
    "    # делителем будет выступать бОльшее число, а делимым — разница между большим и меньшим (сохранили её в переменной diff)\n",
    "    divider = 0\n",
    "    if no_churn_value > churn_value:\n",
    "        divider = no_churn_value\n",
    "        part = diff / divider\n",
    "        print('Значение для неотточных клиентов больше на {:.2%}'.format(part))\n",
    "    else:\n",
    "        divider = churn_value\n",
    "        part = diff / divider\n",
    "        print('Значение для отточных клиентов больше на {:.2%}'.format(part))\n",
    "    # Пробел для удобочитаемости\n",
    "    print('')"
   ]
  },
  {
   "cell_type": "markdown",
   "metadata": {},
   "source": [
    "Портрет отточного клиента в большинстве случаев (за исключением сравнения среднего возраста) отличается от портрета неотточного клиента бОльшими показателями признаков. Где то разница незначительна: например, значение баллов кредитного скоринга для отточных клиентов выше, чем значение баллов кредитного скоринга для неотточных клиентов всего на 2.05% — 863 балла против 845. Но есть признаки, различия по которым более существенны: например, медианное значение баланса у отточных клиентов на 39% выше, чем аналогичное значение у неотточных, также среднее значение приблизительной оценки собственности клиента у отточных пользователей отличается в плюс на 36.7%, чем у неотточных пользователей. Замыкает тройку лидеров по разнице — среднее значение количества продуктов: у отточных клиентов оно выше на 25% — средний показатель 2.37 против среднего показателя 1.76.\n",
    "Разница в медианных значениях заработной платы клиентов — относительно вышеописанных разниц, напротив, незначительна и составляет всего 5,6%. В среднем, отточный клиент обладает зарплатой 125109, а неотточный — 118089.\n"
   ]
  },
  {
   "cell_type": "markdown",
   "metadata": {},
   "source": [
    "# 4. Проверка гипотез"
   ]
  },
  {
   "cell_type": "markdown",
   "metadata": {},
   "source": [
    "# 4.1 Гипотеза о различии дохода между теми клиентами, которые ушли и теми клиентами, которые остались"
   ]
  },
  {
   "cell_type": "markdown",
   "metadata": {},
   "source": [
    "Сформулируем гипотезы:\n",
    "\n",
    "- H0: Статистически значимых различий между доходами клиентов, которые ушли и клиентов, которые остались — нет.\n",
    "- H1: Статистически значимые различия между доходами клиентов, которые ушли и клиетов, которые остались — есть."
   ]
  },
  {
   "cell_type": "code",
   "execution_count": 38,
   "metadata": {},
   "outputs": [],
   "source": [
    "# Здесь воспользуемся таблицей df2, которую мы привлекали к построению графиков, так как в ней данные о зарплате приведены к\n",
    "# сотням тысяч и мы не столкнёмся с неудобочитаемостью экспонентных чисел.\n",
    "# Кроме того, мы помним, что данные столбца 'est_salary' содержат выбросы, а для корректного использования t-теста\n",
    "# эти выбросы следует удалить. Сделаем это сразу.\n",
    "\n",
    "border_value = 1.194601 + 1.390058 * 2\n",
    "est_salary1 = df2.query('churn == 0 and est_salary < @border_value')['est_salary']\n",
    "est_salary2 = df2.query('churn == 1 and est_salary < @border_value')['est_salary']"
   ]
  },
  {
   "cell_type": "markdown",
   "metadata": {},
   "source": [
    "Убедимся, что данные est_salary1 и est_salary2 без выбросов, чтобы можно было использовать t-тест."
   ]
  },
  {
   "cell_type": "code",
   "execution_count": 39,
   "metadata": {},
   "outputs": [
    {
     "data": {
      "text/plain": [
       "count    7800.000000\n",
       "mean        1.255012\n",
       "std         0.706953\n",
       "min         0.025463\n",
       "25%         0.719522\n",
       "50%         1.149166\n",
       "75%         1.670282\n",
       "max         3.941315\n",
       "Name: est_salary, dtype: float64"
      ]
     },
     "execution_count": 39,
     "metadata": {},
     "output_type": "execute_result"
    }
   ],
   "source": [
    "est_salary1.describe()"
   ]
  },
  {
   "cell_type": "code",
   "execution_count": 40,
   "metadata": {},
   "outputs": [
    {
     "data": {
      "text/plain": [
       "count    1722.000000\n",
       "mean        1.318395\n",
       "std         0.683577\n",
       "min         0.108803\n",
       "25%         0.815450\n",
       "50%         1.222162\n",
       "75%         1.713632\n",
       "max         3.920730\n",
       "Name: est_salary, dtype: float64"
      ]
     },
     "execution_count": 40,
     "metadata": {},
     "output_type": "execute_result"
    }
   ],
   "source": [
    "est_salary2.describe()"
   ]
  },
  {
   "cell_type": "markdown",
   "metadata": {},
   "source": [
    "Теперь для проверки гипотез на равенство предполагаемых средних двух генеральных совокупностей будем использовать t-тест. Препятствий для его использования нет: генеральные совокупности не зависят друг от друга, выборочные средние распределены нормально (выборочные средние всегда показывают распределение близкое к нормальному и центром такого распределения становится истинное среднее генеральной совокупности). А так как выборки будут иметь разные размеры, то мы укажем неравенство дисперсий с помощью параметра equal_var метода scipy.stats.ttest_ind(). Для удобства автоматизируем процесс проверки гипотез и создадим функцию, которая будет осуществлять проверку на равенство предполагаемых средних двух генеральных совокупностей и выводить на экран результат проверки."
   ]
  },
  {
   "cell_type": "code",
   "execution_count": 41,
   "metadata": {},
   "outputs": [],
   "source": [
    "def check_hypothesis(first_set, second_set):\n",
    "    \n",
    "    alpha = .05 # критический уровень статистической значимости\n",
    "    \n",
    "    # определеем значение для параметра equal_var\n",
    "    \n",
    "    if len(first_set) == len(second_set):\n",
    "        ev = True\n",
    "    else:\n",
    "        ev = False\n",
    "        \n",
    "    results = st.ttest_ind(first_set, second_set, equal_var=ev)\n",
    "    \n",
    "    print('p-значение:', results.pvalue)\n",
    "    \n",
    "    if results.pvalue < alpha:\n",
    "        print(\"Отвергаем нулевую гипотезу\")\n",
    "    else:\n",
    "        print(\"Не получилось отвергнуть нулевую гипотезу\")"
   ]
  },
  {
   "cell_type": "code",
   "execution_count": 42,
   "metadata": {},
   "outputs": [
    {
     "name": "stdout",
     "output_type": "stream",
     "text": [
      "p-значение: 0.0005473847026401745\n",
      "Отвергаем нулевую гипотезу\n"
     ]
    }
   ],
   "source": [
    "check_hypothesis(est_salary1, est_salary2)"
   ]
  },
  {
   "cell_type": "markdown",
   "metadata": {},
   "source": [
    "Мы отвергли нулевую гипотезу. Это говорит о том, что мы можем утверждать с уверенностью как минимум на 95% (так как был задан критический уровень статистической значимости, равный 0.05), что статистически значимые различия между доходами клиентов, которые ушли и клиетов, которые остались — есть."
   ]
  },
  {
   "cell_type": "markdown",
   "metadata": {},
   "source": [
    "# 4.2 Гипотеза о различии баллов кредитного скоринга между теми клиентами, которые ушли и теми клиентами, которые остались"
   ]
  },
  {
   "cell_type": "markdown",
   "metadata": {},
   "source": [
    "Сформулируем гипотезы:\n",
    "\n",
    "- H0: Статистически значимых различий между баллами кредитного скоринга клиентов, которые ушли и клиентов, которые остались — нет.\n",
    "- H1: Статистически значимые различия между баллами кредитного скоринга клиентов, которые ушли и клиетов, которые остались — есть."
   ]
  },
  {
   "cell_type": "code",
   "execution_count": 43,
   "metadata": {},
   "outputs": [],
   "source": [
    "score1 = df.query('churn == 0')['score']\n",
    "score2 = df.query('churn == 1')['score']"
   ]
  },
  {
   "cell_type": "markdown",
   "metadata": {},
   "source": [
    "Убедимся, что данные score1 и score2 без выбросов, чтобы можно было использовать t-тест."
   ]
  },
  {
   "cell_type": "code",
   "execution_count": 44,
   "metadata": {},
   "outputs": [
    {
     "data": {
      "text/plain": [
       "count    8085.000000\n",
       "mean      845.335683\n",
       "std        67.939987\n",
       "min       642.000000\n",
       "25%       796.000000\n",
       "50%       848.000000\n",
       "75%       900.000000\n",
       "max      1000.000000\n",
       "Name: score, dtype: float64"
      ]
     },
     "execution_count": 44,
     "metadata": {},
     "output_type": "execute_result"
    }
   ],
   "source": [
    "score1.describe()"
   ]
  },
  {
   "cell_type": "code",
   "execution_count": 45,
   "metadata": {},
   "outputs": [
    {
     "data": {
      "text/plain": [
       "count    1770.000000\n",
       "mean      863.012994\n",
       "std        49.710972\n",
       "min       706.000000\n",
       "25%       828.000000\n",
       "50%       866.000000\n",
       "75%       898.000000\n",
       "max      1000.000000\n",
       "Name: score, dtype: float64"
      ]
     },
     "execution_count": 45,
     "metadata": {},
     "output_type": "execute_result"
    }
   ],
   "source": [
    "score2.describe()"
   ]
  },
  {
   "cell_type": "markdown",
   "metadata": {},
   "source": [
    "По предыдущим графикам мы помним, что распределение баллов кредитного скоринга в случаях как с отточными клиентами, так и с теми, кто остался — нормальное и не содержит выбросов, поэтому использовать t-тест мы можем. Описание данных также говорит об отстутсвии выбросов."
   ]
  },
  {
   "cell_type": "code",
   "execution_count": 46,
   "metadata": {},
   "outputs": [
    {
     "name": "stdout",
     "output_type": "stream",
     "text": [
      "p-значение: 1.2504447271939253e-35\n",
      "Отвергаем нулевую гипотезу\n"
     ]
    }
   ],
   "source": [
    "check_hypothesis(score1, score2)"
   ]
  },
  {
   "cell_type": "markdown",
   "metadata": {},
   "source": [
    "Гипотезу о различии баллов кредитного скоринга между теми клиентами, которые ушли и теми клиентами, которые остались, принимаем. Статистически значимые различия между баллами кредитного скоринга клиентов, которые ушли и клиентов, которые остались — есть!"
   ]
  },
  {
   "cell_type": "markdown",
   "metadata": {},
   "source": [
    "# 4.3 Гипотеза о различии возраста между теми клиентами, которые ушли и теми клиентами, которые остались"
   ]
  },
  {
   "cell_type": "markdown",
   "metadata": {},
   "source": [
    "Сформулируем гипотезы:\n",
    "\n",
    "- H0: Статистически значимых различий в возрасте клиентов, которые ушли и клиентов, которые остались — нет.\n",
    "- H1: Статистически значимые различия в возрасте клиентов, которые ушли и клиентов, которые остались — есть."
   ]
  },
  {
   "cell_type": "code",
   "execution_count": 47,
   "metadata": {},
   "outputs": [],
   "source": [
    "age1 = df.query('churn == 0')['age']\n",
    "age2 = df.query('churn == 1')['age']"
   ]
  },
  {
   "cell_type": "code",
   "execution_count": 48,
   "metadata": {},
   "outputs": [
    {
     "data": {
      "text/plain": [
       "count    8085.000000\n",
       "mean       43.166729\n",
       "std        12.352631\n",
       "min        18.000000\n",
       "25%        34.000000\n",
       "50%        40.000000\n",
       "75%        51.000000\n",
       "max        86.000000\n",
       "Name: age, dtype: float64"
      ]
     },
     "execution_count": 48,
     "metadata": {},
     "output_type": "execute_result"
    }
   ],
   "source": [
    "age1.describe()"
   ]
  },
  {
   "cell_type": "code",
   "execution_count": 49,
   "metadata": {},
   "outputs": [
    {
     "data": {
      "text/plain": [
       "count    1770.000000\n",
       "mean       41.492090\n",
       "std        11.021855\n",
       "min        18.000000\n",
       "25%        33.000000\n",
       "50%        39.000000\n",
       "75%        52.000000\n",
       "max        79.000000\n",
       "Name: age, dtype: float64"
      ]
     },
     "execution_count": 49,
     "metadata": {},
     "output_type": "execute_result"
    }
   ],
   "source": [
    "age2.describe()"
   ]
  },
  {
   "cell_type": "markdown",
   "metadata": {},
   "source": [
    "Значения возраста среди тех клиентов, которые ушли и остались — распределены нормально и не имеют выбросов. Значит, мы можем применять t-тест."
   ]
  },
  {
   "cell_type": "code",
   "execution_count": 50,
   "metadata": {},
   "outputs": [
    {
     "name": "stdout",
     "output_type": "stream",
     "text": [
      "p-значение: 1.6549989007231503e-08\n",
      "Отвергаем нулевую гипотезу\n"
     ]
    }
   ],
   "source": [
    "check_hypothesis(age1, age2)"
   ]
  },
  {
   "cell_type": "markdown",
   "metadata": {},
   "source": [
    "Гипотезу о различии возраста между теми клиентами, которые ушли и теми клиентами, которые остались тоже отвергаем. Статистически значимые различия между возрастом клиентов, которые ушли клиентов, которые остались — есть."
   ]
  },
  {
   "cell_type": "markdown",
   "metadata": {},
   "source": [
    "# 5. Разделение на сегменты"
   ]
  },
  {
   "cell_type": "markdown",
   "metadata": {},
   "source": [
    "Проведём сегментацию клиентов на основе стратегических показателей."
   ]
  },
  {
   "cell_type": "markdown",
   "metadata": {},
   "source": [
    "- Как мы выяснили ранее, медианное значение баланса у отточных клиентов на целых 39% выше, чем аналогичное значение у неотточных клиентов. Также мы помним, что показатель баланса клиента — 1 миллион — это нижняя граница средств на счёте, с которой клиент намного чаще принимает решение уйти из банка.\n",
    "\n",
    "\n",
    "- Высоки различия в характеристиках среднего значения приблизительной оценки собственности клиента: у отточных пользователей это значение отличается в плюс на 36.7%. К оттоку склонны клиенты, у которых приблизительная оценка собственности выше трёх баллов.\n",
    "\n",
    "\n",
    "- На 25% в плюс отличается значение количества продуктов у отточных клиентов. Что касается границ интервалов, то если клиент имеет 3 и более продуктов банка, он также может уйти.\n",
    "\n",
    "- Возраст: отточными являются категории клиентов в возрасте от 20 до 35 лет, а также в возрасте от 50 до 60 лет\n",
    "- Пол: мужчины более склонны к оттоку\n",
    "- Наличие кредитной карты: отток случается значимо чаще, если кредитной карты нет."
   ]
  },
  {
   "cell_type": "markdown",
   "metadata": {},
   "source": [
    "Итак, напомним пограничные значения для оттока:\n",
    "- Баланс: 1 млн +\n",
    "- Оценка собственности: 4+\n",
    "- Количество продуктов: 3+\n",
    "- Возраст: от 20 до 35 и от 50 до 60\n",
    "- Пол: мужчины\n",
    "- Кредитная карта: отсутствие"
   ]
  },
  {
   "cell_type": "code",
   "execution_count": 51,
   "metadata": {},
   "outputs": [],
   "source": [
    "def make_segments(row):\n",
    "    \n",
    "    balance = row['balance']\n",
    "    equity = row['equity']\n",
    "    products = row['products']\n",
    "    age = row['age']\n",
    "    gender_int = row['gender_int']\n",
    "    credit_card = row['credit_card']\n",
    "    \n",
    "    # Так как наибольшая корреляция замечена у целевой переменной с характеристиками products и equity\n",
    "    # Сохраним это условие в переменной для сегментации, часть исследуемых сегментов будет содержать клиентов со значениями\n",
    "    # этих характеристик, которые определяют отточность\n",
    "    \n",
    "    # отдельная переменная для условия\n",
    "    products_and_equity = products >= 3 and equity >= 4\n",
    "    \n",
    "    if products_and_equity and age >= 20 and age <= 35:\n",
    "        return 'Segment 1'\n",
    "    if products_and_equity and age >= 50 and age <= 60:\n",
    "        return 'Segment 2'\n",
    "    if products_and_equity and gender_int == 1:\n",
    "        return 'Segment 3'\n",
    "    if products_and_equity and credit_card == 0:\n",
    "        return 'Segment 4'\n",
    "    if products_and_equity and balance > 1000000:\n",
    "        return 'Segment 5'\n",
    "    \n",
    "    # ещё одна отдельная переменная\n",
    "    balance_and_products = balance > 1000000 and products >= 3\n",
    "    \n",
    "    if balance_and_products and credit_card == 0:\n",
    "        return 'Segment 6'\n",
    "    if balance_and_products and gender_int == 1:\n",
    "        return 'Segment 7'\n",
    "    if balance_and_products and age >= 50 and age <= 60:\n",
    "        return 'Segment 8'\n",
    "    if balance_and_products and age >= 20 and age <= 35:\n",
    "        return 'Segment 9'\n",
    "    \n",
    "    # И ещё одна переменная\n",
    "    balance_and_equity = balance > 1000000 and equity >= 4\n",
    "    \n",
    "    if balance_and_equity and credit_card == 0:\n",
    "        return 'Segment 10'\n",
    "    if balance_and_equity and gender_int == 1:\n",
    "        return 'Segment 11'\n",
    "    if balance_and_equity and age >= 20 and age <= 35:\n",
    "        return 'Segment 12'\n",
    "    if balance_and_equity and age >= 50 and age <= 60:\n",
    "        return 'Segment 13'\n",
    "    return 'Segment 14' # Другие клиенты\n",
    "\n",
    "    \n",
    "    \n",
    "    "
   ]
  },
  {
   "cell_type": "code",
   "execution_count": 52,
   "metadata": {},
   "outputs": [],
   "source": [
    "df['segments'] = df.apply(make_segments, axis=1)"
   ]
  },
  {
   "cell_type": "code",
   "execution_count": 53,
   "metadata": {},
   "outputs": [],
   "source": [
    "churn_segments = df.pivot_table(index='segments').sort_values(by='churn', ascending=False).drop(columns=['city_ros', 'city_ryb', 'city_yar']).reset_index()\n"
   ]
  },
  {
   "cell_type": "code",
   "execution_count": 54,
   "metadata": {},
   "outputs": [],
   "source": [
    "churn_segments['balance'] = churn_segments['balance'] / 100000"
   ]
  },
  {
   "cell_type": "code",
   "execution_count": 55,
   "metadata": {},
   "outputs": [
    {
     "data": {
      "text/html": [
       "<div>\n",
       "<style scoped>\n",
       "    .dataframe tbody tr th:only-of-type {\n",
       "        vertical-align: middle;\n",
       "    }\n",
       "\n",
       "    .dataframe tbody tr th {\n",
       "        vertical-align: top;\n",
       "    }\n",
       "\n",
       "    .dataframe thead th {\n",
       "        text-align: right;\n",
       "    }\n",
       "</style>\n",
       "<table border=\"1\" class=\"dataframe\">\n",
       "  <thead>\n",
       "    <tr style=\"text-align: right;\">\n",
       "      <th></th>\n",
       "      <th>segments</th>\n",
       "      <th>age</th>\n",
       "      <th>balance</th>\n",
       "      <th>churn</th>\n",
       "      <th>credit_card</th>\n",
       "      <th>equity</th>\n",
       "      <th>est_salary</th>\n",
       "      <th>gender_int</th>\n",
       "      <th>last_activity</th>\n",
       "      <th>products</th>\n",
       "      <th>score</th>\n",
       "      <th>user_id</th>\n",
       "    </tr>\n",
       "  </thead>\n",
       "  <tbody>\n",
       "    <tr>\n",
       "      <th>0</th>\n",
       "      <td>Segment 7</td>\n",
       "      <td>43.216216</td>\n",
       "      <td>19.438340</td>\n",
       "      <td>0.702703</td>\n",
       "      <td>1.000000</td>\n",
       "      <td>2.621622</td>\n",
       "      <td>185539.228919</td>\n",
       "      <td>1.000000</td>\n",
       "      <td>0.567568</td>\n",
       "      <td>3.567568</td>\n",
       "      <td>844.783784</td>\n",
       "      <td>182797.675676</td>\n",
       "    </tr>\n",
       "    <tr>\n",
       "      <th>1</th>\n",
       "      <td>Segment 8</td>\n",
       "      <td>55.300000</td>\n",
       "      <td>15.593650</td>\n",
       "      <td>0.700000</td>\n",
       "      <td>1.000000</td>\n",
       "      <td>2.400000</td>\n",
       "      <td>126029.645000</td>\n",
       "      <td>0.000000</td>\n",
       "      <td>0.600000</td>\n",
       "      <td>3.600000</td>\n",
       "      <td>843.900000</td>\n",
       "      <td>158826.500000</td>\n",
       "    </tr>\n",
       "    <tr>\n",
       "      <th>2</th>\n",
       "      <td>Segment 9</td>\n",
       "      <td>33.200000</td>\n",
       "      <td>12.678504</td>\n",
       "      <td>0.600000</td>\n",
       "      <td>1.000000</td>\n",
       "      <td>3.000000</td>\n",
       "      <td>100263.392000</td>\n",
       "      <td>0.000000</td>\n",
       "      <td>0.000000</td>\n",
       "      <td>3.600000</td>\n",
       "      <td>834.800000</td>\n",
       "      <td>170805.800000</td>\n",
       "    </tr>\n",
       "    <tr>\n",
       "      <th>3</th>\n",
       "      <td>Segment 2</td>\n",
       "      <td>54.876344</td>\n",
       "      <td>17.397863</td>\n",
       "      <td>0.591398</td>\n",
       "      <td>0.365591</td>\n",
       "      <td>4.747312</td>\n",
       "      <td>136358.396290</td>\n",
       "      <td>0.553763</td>\n",
       "      <td>0.548387</td>\n",
       "      <td>3.344086</td>\n",
       "      <td>867.569892</td>\n",
       "      <td>180856.951613</td>\n",
       "    </tr>\n",
       "    <tr>\n",
       "      <th>4</th>\n",
       "      <td>Segment 5</td>\n",
       "      <td>48.711538</td>\n",
       "      <td>17.218802</td>\n",
       "      <td>0.500000</td>\n",
       "      <td>1.000000</td>\n",
       "      <td>4.519231</td>\n",
       "      <td>146241.644615</td>\n",
       "      <td>0.000000</td>\n",
       "      <td>0.557692</td>\n",
       "      <td>3.519231</td>\n",
       "      <td>870.576923</td>\n",
       "      <td>169922.884615</td>\n",
       "    </tr>\n",
       "    <tr>\n",
       "      <th>5</th>\n",
       "      <td>Segment 3</td>\n",
       "      <td>43.058577</td>\n",
       "      <td>14.306601</td>\n",
       "      <td>0.481172</td>\n",
       "      <td>0.535565</td>\n",
       "      <td>4.803347</td>\n",
       "      <td>175039.897029</td>\n",
       "      <td>1.000000</td>\n",
       "      <td>0.543933</td>\n",
       "      <td>3.426778</td>\n",
       "      <td>859.158996</td>\n",
       "      <td>173870.422594</td>\n",
       "    </tr>\n",
       "    <tr>\n",
       "      <th>6</th>\n",
       "      <td>Segment 1</td>\n",
       "      <td>30.915751</td>\n",
       "      <td>9.400205</td>\n",
       "      <td>0.472527</td>\n",
       "      <td>0.512821</td>\n",
       "      <td>4.739927</td>\n",
       "      <td>122446.954615</td>\n",
       "      <td>0.611722</td>\n",
       "      <td>0.611722</td>\n",
       "      <td>3.505495</td>\n",
       "      <td>866.567766</td>\n",
       "      <td>169151.886447</td>\n",
       "    </tr>\n",
       "    <tr>\n",
       "      <th>7</th>\n",
       "      <td>Segment 10</td>\n",
       "      <td>45.444706</td>\n",
       "      <td>21.110376</td>\n",
       "      <td>0.454118</td>\n",
       "      <td>0.000000</td>\n",
       "      <td>4.663529</td>\n",
       "      <td>191409.505671</td>\n",
       "      <td>0.536471</td>\n",
       "      <td>0.564706</td>\n",
       "      <td>1.981176</td>\n",
       "      <td>888.200000</td>\n",
       "      <td>173558.508235</td>\n",
       "    </tr>\n",
       "    <tr>\n",
       "      <th>8</th>\n",
       "      <td>Segment 6</td>\n",
       "      <td>49.380282</td>\n",
       "      <td>15.476407</td>\n",
       "      <td>0.352113</td>\n",
       "      <td>0.000000</td>\n",
       "      <td>2.591549</td>\n",
       "      <td>135847.997183</td>\n",
       "      <td>0.352113</td>\n",
       "      <td>0.464789</td>\n",
       "      <td>3.211268</td>\n",
       "      <td>849.971831</td>\n",
       "      <td>165875.661972</td>\n",
       "    </tr>\n",
       "    <tr>\n",
       "      <th>9</th>\n",
       "      <td>Segment 11</td>\n",
       "      <td>43.132616</td>\n",
       "      <td>25.950191</td>\n",
       "      <td>0.286738</td>\n",
       "      <td>1.000000</td>\n",
       "      <td>4.630824</td>\n",
       "      <td>202061.959857</td>\n",
       "      <td>1.000000</td>\n",
       "      <td>0.465950</td>\n",
       "      <td>1.702509</td>\n",
       "      <td>879.573477</td>\n",
       "      <td>173662.663082</td>\n",
       "    </tr>\n",
       "    <tr>\n",
       "      <th>10</th>\n",
       "      <td>Segment 12</td>\n",
       "      <td>33.025000</td>\n",
       "      <td>16.137313</td>\n",
       "      <td>0.200000</td>\n",
       "      <td>1.000000</td>\n",
       "      <td>4.700000</td>\n",
       "      <td>176586.568250</td>\n",
       "      <td>0.000000</td>\n",
       "      <td>0.500000</td>\n",
       "      <td>1.725000</td>\n",
       "      <td>907.275000</td>\n",
       "      <td>168784.575000</td>\n",
       "    </tr>\n",
       "    <tr>\n",
       "      <th>11</th>\n",
       "      <td>Segment 4</td>\n",
       "      <td>51.263158</td>\n",
       "      <td>11.099969</td>\n",
       "      <td>0.171053</td>\n",
       "      <td>0.000000</td>\n",
       "      <td>4.572368</td>\n",
       "      <td>131552.680658</td>\n",
       "      <td>0.000000</td>\n",
       "      <td>0.473684</td>\n",
       "      <td>3.131579</td>\n",
       "      <td>859.644737</td>\n",
       "      <td>169453.013158</td>\n",
       "    </tr>\n",
       "    <tr>\n",
       "      <th>12</th>\n",
       "      <td>Segment 13</td>\n",
       "      <td>54.944444</td>\n",
       "      <td>16.577189</td>\n",
       "      <td>0.129630</td>\n",
       "      <td>1.000000</td>\n",
       "      <td>4.574074</td>\n",
       "      <td>167684.615000</td>\n",
       "      <td>0.000000</td>\n",
       "      <td>0.537037</td>\n",
       "      <td>1.703704</td>\n",
       "      <td>859.851852</td>\n",
       "      <td>171977.166667</td>\n",
       "    </tr>\n",
       "    <tr>\n",
       "      <th>13</th>\n",
       "      <td>Segment 14</td>\n",
       "      <td>42.544945</td>\n",
       "      <td>5.373420</td>\n",
       "      <td>0.126370</td>\n",
       "      <td>0.733566</td>\n",
       "      <td>2.195468</td>\n",
       "      <td>143702.065535</td>\n",
       "      <td>0.479582</td>\n",
       "      <td>0.518053</td>\n",
       "      <td>1.680403</td>\n",
       "      <td>843.255603</td>\n",
       "      <td>171377.156748</td>\n",
       "    </tr>\n",
       "  </tbody>\n",
       "</table>\n",
       "</div>"
      ],
      "text/plain": [
       "      segments        age    balance     churn  credit_card    equity  \\\n",
       "0    Segment 7  43.216216  19.438340  0.702703     1.000000  2.621622   \n",
       "1    Segment 8  55.300000  15.593650  0.700000     1.000000  2.400000   \n",
       "2    Segment 9  33.200000  12.678504  0.600000     1.000000  3.000000   \n",
       "3    Segment 2  54.876344  17.397863  0.591398     0.365591  4.747312   \n",
       "4    Segment 5  48.711538  17.218802  0.500000     1.000000  4.519231   \n",
       "5    Segment 3  43.058577  14.306601  0.481172     0.535565  4.803347   \n",
       "6    Segment 1  30.915751   9.400205  0.472527     0.512821  4.739927   \n",
       "7   Segment 10  45.444706  21.110376  0.454118     0.000000  4.663529   \n",
       "8    Segment 6  49.380282  15.476407  0.352113     0.000000  2.591549   \n",
       "9   Segment 11  43.132616  25.950191  0.286738     1.000000  4.630824   \n",
       "10  Segment 12  33.025000  16.137313  0.200000     1.000000  4.700000   \n",
       "11   Segment 4  51.263158  11.099969  0.171053     0.000000  4.572368   \n",
       "12  Segment 13  54.944444  16.577189  0.129630     1.000000  4.574074   \n",
       "13  Segment 14  42.544945   5.373420  0.126370     0.733566  2.195468   \n",
       "\n",
       "       est_salary  gender_int  last_activity  products       score  \\\n",
       "0   185539.228919    1.000000       0.567568  3.567568  844.783784   \n",
       "1   126029.645000    0.000000       0.600000  3.600000  843.900000   \n",
       "2   100263.392000    0.000000       0.000000  3.600000  834.800000   \n",
       "3   136358.396290    0.553763       0.548387  3.344086  867.569892   \n",
       "4   146241.644615    0.000000       0.557692  3.519231  870.576923   \n",
       "5   175039.897029    1.000000       0.543933  3.426778  859.158996   \n",
       "6   122446.954615    0.611722       0.611722  3.505495  866.567766   \n",
       "7   191409.505671    0.536471       0.564706  1.981176  888.200000   \n",
       "8   135847.997183    0.352113       0.464789  3.211268  849.971831   \n",
       "9   202061.959857    1.000000       0.465950  1.702509  879.573477   \n",
       "10  176586.568250    0.000000       0.500000  1.725000  907.275000   \n",
       "11  131552.680658    0.000000       0.473684  3.131579  859.644737   \n",
       "12  167684.615000    0.000000       0.537037  1.703704  859.851852   \n",
       "13  143702.065535    0.479582       0.518053  1.680403  843.255603   \n",
       "\n",
       "          user_id  \n",
       "0   182797.675676  \n",
       "1   158826.500000  \n",
       "2   170805.800000  \n",
       "3   180856.951613  \n",
       "4   169922.884615  \n",
       "5   173870.422594  \n",
       "6   169151.886447  \n",
       "7   173558.508235  \n",
       "8   165875.661972  \n",
       "9   173662.663082  \n",
       "10  168784.575000  \n",
       "11  169453.013158  \n",
       "12  171977.166667  \n",
       "13  171377.156748  "
      ]
     },
     "execution_count": 55,
     "metadata": {},
     "output_type": "execute_result"
    }
   ],
   "source": [
    "churn_segments"
   ]
  },
  {
   "cell_type": "code",
   "execution_count": 56,
   "metadata": {},
   "outputs": [
    {
     "data": {
      "text/plain": [
       "Segment 14    8032\n",
       "Segment 10     425\n",
       "Segment 11     279\n",
       "Segment 1      273\n",
       "Segment 3      239\n",
       "Segment 2      186\n",
       "Segment 4      152\n",
       "Segment 6       71\n",
       "Segment 13      54\n",
       "Segment 5       52\n",
       "Segment 12      40\n",
       "Segment 7       37\n",
       "Segment 8       10\n",
       "Segment 9        5\n",
       "Name: segments, dtype: int64"
      ]
     },
     "execution_count": 56,
     "metadata": {},
     "output_type": "execute_result"
    }
   ],
   "source": [
    "# Изучаю количество записей, которые попали в сегмент. С сегментом 14 — всё понятно, это часть клиентов, которых мы не изучаем\n",
    "# От сегментов, в которые входят менее 100 человек стоит отказаться?\n",
    "df['segments'].value_counts()"
   ]
  },
  {
   "cell_type": "code",
   "execution_count": 63,
   "metadata": {},
   "outputs": [
    {
     "data": {
      "text/html": [
       "<style  type=\"text/css\" >\n",
       "</style><table id=\"T_5a0ed_\" ><thead>    <tr>        <th class=\"blank level0\" ></th>        <th class=\"col_heading level0 col0\" >num</th>        <th class=\"col_heading level0 col1\" >churn</th>        <th class=\"col_heading level0 col2\" >other_churn</th>        <th class=\"col_heading level0 col3\" >coef</th>    </tr></thead><tbody>\n",
       "                <tr>\n",
       "                        <th id=\"T_5a0ed_level0_row0\" class=\"row_heading level0 row0\" >мужчины и вкладчики</th>\n",
       "                        <td id=\"T_5a0ed_row0_col0\" class=\"data row0 col0\" >958</td>\n",
       "                        <td id=\"T_5a0ed_row0_col1\" class=\"data row0 col1\" >48.3%</td>\n",
       "                        <td id=\"T_5a0ed_row0_col2\" class=\"data row0 col2\" >14.7%</td>\n",
       "                        <td id=\"T_5a0ed_row0_col3\" class=\"data row0 col3\" >52</td>\n",
       "            </tr>\n",
       "            <tr>\n",
       "                        <th id=\"T_5a0ed_level0_row1\" class=\"row_heading level0 row1\" >4+ баллов собственности и мужчины</th>\n",
       "                        <td id=\"T_5a0ed_row1_col0\" class=\"data row1 col0\" >1984</td>\n",
       "                        <td id=\"T_5a0ed_row1_col1\" class=\"data row1 col1\" >37.3%</td>\n",
       "                        <td id=\"T_5a0ed_row1_col2\" class=\"data row1 col2\" >13.1%</td>\n",
       "                        <td id=\"T_5a0ed_row1_col3\" class=\"data row1 col3\" >51</td>\n",
       "            </tr>\n",
       "            <tr>\n",
       "                        <th id=\"T_5a0ed_level0_row2\" class=\"row_heading level0 row2\" >3+ продуктов и вкладчики</th>\n",
       "                        <td id=\"T_5a0ed_row2_col0\" class=\"data row2 col0\" >584</td>\n",
       "                        <td id=\"T_5a0ed_row2_col1\" class=\"data row2 col1\" >54.1%</td>\n",
       "                        <td id=\"T_5a0ed_row2_col2\" class=\"data row2 col2\" >15.7%</td>\n",
       "                        <td id=\"T_5a0ed_row2_col3\" class=\"data row2 col3\" >49</td>\n",
       "            </tr>\n",
       "            <tr>\n",
       "                        <th id=\"T_5a0ed_level0_row3\" class=\"row_heading level0 row3\" >3+ продуктов и мужчины и вкладчики</th>\n",
       "                        <td id=\"T_5a0ed_row3_col0\" class=\"data row3 col0\" >288</td>\n",
       "                        <td id=\"T_5a0ed_row3_col1\" class=\"data row3 col1\" >67.0%</td>\n",
       "                        <td id=\"T_5a0ed_row3_col2\" class=\"data row3 col2\" >16.5%</td>\n",
       "                        <td id=\"T_5a0ed_row3_col3\" class=\"data row3 col3\" >49</td>\n",
       "            </tr>\n",
       "            <tr>\n",
       "                        <th id=\"T_5a0ed_level0_row4\" class=\"row_heading level0 row4\" >4+ баллов собственности и мужчины и вкладчики</th>\n",
       "                        <td id=\"T_5a0ed_row4_col0\" class=\"data row4 col0\" >733</td>\n",
       "                        <td id=\"T_5a0ed_row4_col1\" class=\"data row4 col1\" >49.5%</td>\n",
       "                        <td id=\"T_5a0ed_row4_col2\" class=\"data row4 col2\" >15.4%</td>\n",
       "                        <td id=\"T_5a0ed_row4_col3\" class=\"data row4 col3\" >48</td>\n",
       "            </tr>\n",
       "            <tr>\n",
       "                        <th id=\"T_5a0ed_level0_row5\" class=\"row_heading level0 row5\" >3+ продуктов и мужчины</th>\n",
       "                        <td id=\"T_5a0ed_row5_col0\" class=\"data row5 col0\" >737</td>\n",
       "                        <td id=\"T_5a0ed_row5_col1\" class=\"data row5 col1\" >49.4%</td>\n",
       "                        <td id=\"T_5a0ed_row5_col2\" class=\"data row5 col2\" >15.4%</td>\n",
       "                        <td id=\"T_5a0ed_row5_col3\" class=\"data row5 col3\" >48</td>\n",
       "            </tr>\n",
       "            <tr>\n",
       "                        <th id=\"T_5a0ed_level0_row6\" class=\"row_heading level0 row6\" >3+ продуктов и 4+ баллов собственности</th>\n",
       "                        <td id=\"T_5a0ed_row6_col0\" class=\"data row6 col0\" >938</td>\n",
       "                        <td id=\"T_5a0ed_row6_col1\" class=\"data row6 col1\" >44.1%</td>\n",
       "                        <td id=\"T_5a0ed_row6_col2\" class=\"data row6 col2\" >15.2%</td>\n",
       "                        <td id=\"T_5a0ed_row6_col3\" class=\"data row6 col3\" >45</td>\n",
       "            </tr>\n",
       "            <tr>\n",
       "                        <th id=\"T_5a0ed_level0_row7\" class=\"row_heading level0 row7\" >4+ баллов собственности и мужчины и без кредитки</th>\n",
       "                        <td id=\"T_5a0ed_row7_col0\" class=\"data row7 col0\" >686</td>\n",
       "                        <td id=\"T_5a0ed_row7_col1\" class=\"data row7 col1\" >48.7%</td>\n",
       "                        <td id=\"T_5a0ed_row7_col2\" class=\"data row7 col2\" >15.7%</td>\n",
       "                        <td id=\"T_5a0ed_row7_col3\" class=\"data row7 col3\" >45</td>\n",
       "            </tr>\n",
       "            <tr>\n",
       "                        <th id=\"T_5a0ed_level0_row8\" class=\"row_heading level0 row8\" >3+ продуктов и 4+ баллов собственности и вкладчики</th>\n",
       "                        <td id=\"T_5a0ed_row8_col0\" class=\"data row8 col0\" >436</td>\n",
       "                        <td id=\"T_5a0ed_row8_col1\" class=\"data row8 col1\" >56.0%</td>\n",
       "                        <td id=\"T_5a0ed_row8_col2\" class=\"data row8 col2\" >16.2%</td>\n",
       "                        <td id=\"T_5a0ed_row8_col3\" class=\"data row8 col3\" >45</td>\n",
       "            </tr>\n",
       "            <tr>\n",
       "                        <th id=\"T_5a0ed_level0_row9\" class=\"row_heading level0 row9\" >3+ продуктов и 4+ баллов собственности и мужчины</th>\n",
       "                        <td id=\"T_5a0ed_row9_col0\" class=\"data row9 col0\" >509</td>\n",
       "                        <td id=\"T_5a0ed_row9_col1\" class=\"data row9 col1\" >53.4%</td>\n",
       "                        <td id=\"T_5a0ed_row9_col2\" class=\"data row9 col2\" >16.0%</td>\n",
       "                        <td id=\"T_5a0ed_row9_col3\" class=\"data row9 col3\" >45</td>\n",
       "            </tr>\n",
       "            <tr>\n",
       "                        <th id=\"T_5a0ed_level0_row10\" class=\"row_heading level0 row10\" >мужчины и без кредитки и вкладчики</th>\n",
       "                        <td id=\"T_5a0ed_row10_col0\" class=\"data row10 col0\" >434</td>\n",
       "                        <td id=\"T_5a0ed_row10_col1\" class=\"data row10 col1\" >56.0%</td>\n",
       "                        <td id=\"T_5a0ed_row10_col2\" class=\"data row10 col2\" >16.2%</td>\n",
       "                        <td id=\"T_5a0ed_row10_col3\" class=\"data row10 col3\" >45</td>\n",
       "            </tr>\n",
       "            <tr>\n",
       "                        <th id=\"T_5a0ed_level0_row11\" class=\"row_heading level0 row11\" >4+ баллов собственности и вкладчики</th>\n",
       "                        <td id=\"T_5a0ed_row11_col0\" class=\"data row11 col0\" >1385</td>\n",
       "                        <td id=\"T_5a0ed_row11_col1\" class=\"data row11 col1\" >39.0%</td>\n",
       "                        <td id=\"T_5a0ed_row11_col2\" class=\"data row11 col2\" >14.5%</td>\n",
       "                        <td id=\"T_5a0ed_row11_col3\" class=\"data row11 col3\" >44</td>\n",
       "            </tr>\n",
       "            <tr>\n",
       "                        <th id=\"T_5a0ed_level0_row12\" class=\"row_heading level0 row12\" >без кредитки и вкладчики</th>\n",
       "                        <td id=\"T_5a0ed_row12_col0\" class=\"data row12 col0\" >882</td>\n",
       "                        <td id=\"T_5a0ed_row12_col1\" class=\"data row12 col1\" >43.3%</td>\n",
       "                        <td id=\"T_5a0ed_row12_col2\" class=\"data row12 col2\" >15.5%</td>\n",
       "                        <td id=\"T_5a0ed_row12_col3\" class=\"data row12 col3\" >42</td>\n",
       "            </tr>\n",
       "            <tr>\n",
       "                        <th id=\"T_5a0ed_level0_row13\" class=\"row_heading level0 row13\" >4+ баллов собственности и без кредитки и вкладчики</th>\n",
       "                        <td id=\"T_5a0ed_row13_col0\" class=\"data row13 col0\" >671</td>\n",
       "                        <td id=\"T_5a0ed_row13_col1\" class=\"data row13 col1\" >46.1%</td>\n",
       "                        <td id=\"T_5a0ed_row13_col2\" class=\"data row13 col2\" >15.9%</td>\n",
       "                        <td id=\"T_5a0ed_row13_col3\" class=\"data row13 col3\" >41</td>\n",
       "            </tr>\n",
       "            <tr>\n",
       "                        <th id=\"T_5a0ed_level0_row14\" class=\"row_heading level0 row14\" >молодой отточный возраст и мужчины и вкладчики</th>\n",
       "                        <td id=\"T_5a0ed_row14_col0\" class=\"data row14 col0\" >238</td>\n",
       "                        <td id=\"T_5a0ed_row14_col1\" class=\"data row14 col1\" >61.8%</td>\n",
       "                        <td id=\"T_5a0ed_row14_col2\" class=\"data row14 col2\" >16.9%</td>\n",
       "                        <td id=\"T_5a0ed_row14_col3\" class=\"data row14 col3\" >40</td>\n",
       "            </tr>\n",
       "            <tr>\n",
       "                        <th id=\"T_5a0ed_level0_row15\" class=\"row_heading level0 row15\" >молодой отточный возраст и вкладчики</th>\n",
       "                        <td id=\"T_5a0ed_row15_col0\" class=\"data row15 col0\" >377</td>\n",
       "                        <td id=\"T_5a0ed_row15_col1\" class=\"data row15 col1\" >53.8%</td>\n",
       "                        <td id=\"T_5a0ed_row15_col2\" class=\"data row15 col2\" >16.5%</td>\n",
       "                        <td id=\"T_5a0ed_row15_col3\" class=\"data row15 col3\" >40</td>\n",
       "            </tr>\n",
       "            <tr>\n",
       "                        <th id=\"T_5a0ed_level0_row16\" class=\"row_heading level0 row16\" >4+ баллов собственности и без кредитки</th>\n",
       "                        <td id=\"T_5a0ed_row16_col0\" class=\"data row16 col0\" >1562</td>\n",
       "                        <td id=\"T_5a0ed_row16_col1\" class=\"data row16 col1\" >35.8%</td>\n",
       "                        <td id=\"T_5a0ed_row16_col2\" class=\"data row16 col2\" >14.6%</td>\n",
       "                        <td id=\"T_5a0ed_row16_col3\" class=\"data row16 col3\" >40</td>\n",
       "            </tr>\n",
       "            <tr>\n",
       "                        <th id=\"T_5a0ed_level0_row17\" class=\"row_heading level0 row17\" >3+ продуктов и старший отточный возраст и вкладчики</th>\n",
       "                        <td id=\"T_5a0ed_row17_col0\" class=\"data row17 col0\" >140</td>\n",
       "                        <td id=\"T_5a0ed_row17_col1\" class=\"data row17 col1\" >69.3%</td>\n",
       "                        <td id=\"T_5a0ed_row17_col2\" class=\"data row17 col2\" >17.2%</td>\n",
       "                        <td id=\"T_5a0ed_row17_col3\" class=\"data row17 col3\" >38</td>\n",
       "            </tr>\n",
       "            <tr>\n",
       "                        <th id=\"T_5a0ed_level0_row18\" class=\"row_heading level0 row18\" >4+ баллов собственности и молодой отточный возраст и вкладчики</th>\n",
       "                        <td id=\"T_5a0ed_row18_col0\" class=\"data row18 col0\" >297</td>\n",
       "                        <td id=\"T_5a0ed_row18_col1\" class=\"data row18 col1\" >54.9%</td>\n",
       "                        <td id=\"T_5a0ed_row18_col2\" class=\"data row18 col2\" >16.8%</td>\n",
       "                        <td id=\"T_5a0ed_row18_col3\" class=\"data row18 col3\" >37</td>\n",
       "            </tr>\n",
       "            <tr>\n",
       "                        <th id=\"T_5a0ed_level0_row19\" class=\"row_heading level0 row19\" >старший отточный возраст и вкладчики</th>\n",
       "                        <td id=\"T_5a0ed_row19_col0\" class=\"data row19 col0\" >444</td>\n",
       "                        <td id=\"T_5a0ed_row19_col1\" class=\"data row19 col1\" >48.0%</td>\n",
       "                        <td id=\"T_5a0ed_row19_col2\" class=\"data row19 col2\" >16.5%</td>\n",
       "                        <td id=\"T_5a0ed_row19_col3\" class=\"data row19 col3\" >36</td>\n",
       "            </tr>\n",
       "    </tbody></table>"
      ],
      "text/plain": [
       "<pandas.io.formats.style.Styler at 0x7f12a6f56bb0>"
      ]
     },
     "execution_count": 63,
     "metadata": {},
     "output_type": "execute_result"
    }
   ],
   "source": [
    "import itertools as it\n",
    "\n",
    "# опишем все наши отточные интервалы\n",
    "intervals = [\n",
    "    (\"3+ продуктов\", '3<=products'),\n",
    "    (\"4+ баллов собственности\",'4 <= equity'),\n",
    "    (\"молодой отточный возраст\",'20 <= age <= 35'),   \n",
    "    (\"старший отточный возраст\",'50 <= age <= 60'), \n",
    "    (\"мужчины\",'gender_int==1'),\n",
    "    (\"без кредитки\",'credit_card==0'),\n",
    "    (\"вкладчики\", 'balance > 1000000'),\n",
    "]\n",
    "\n",
    "# чтобы не было ошибок, будем оборачивать логические выражения в скобки\n",
    "parentheses = lambda text: \"(\" + text + \")\"\n",
    "\n",
    "# построим возможные варианты пересечения этих интервалов\n",
    "# параметр r отвечает за общее число интервалов в варианте, их может быть и больше\n",
    "examples2 = [(\" и \".join([name1,name2]), \" and \".join(\\\n",
    "            [parentheses(query1),parentheses(query2)])) \n",
    "    for (name1, query1), (name2, query2) in it.combinations(intervals,r=2)]\n",
    "\n",
    "examples3 = [(\" и \".join([name1,name2,name3]), \" and \".join(\\\n",
    "            [parentheses(query1),parentheses(query2),parentheses(query3)])) \n",
    "    for (name1, query1), (name2, query2), (name3, query3) in it.combinations(intervals,r=3)]\n",
    "\n",
    "examples = examples2 + examples3\n",
    "\n",
    "# по заданным запросам делаем табличку с размерами разных групп \n",
    "# и уровнем оттока в группе и внё её\n",
    "dfs_temp = []\n",
    "for text, query in examples:\n",
    "    this_data = df.query(query)\n",
    "    other_data_idx = df.index.difference(this_data.index)\n",
    "    result = this_data\\\n",
    "              .agg({\"churn\":[\"count\",\"mean\"]}).T\n",
    "    result.loc['churn','other_churn'] = df.loc[other_data_idx].agg({\"churn\":\"mean\"}).item()\n",
    "    result.index = [text]\n",
    "    result = result.rename(columns={\"count\":\"num\",\"mean\":\"churn\"})\n",
    "    dfs_temp.append(result)\n",
    "    \n",
    "# придумаем коэффициент, по которому будем ранжировать группы\n",
    "# поправку на размер сегмента можно выбрать и другую:\n",
    "# np.log, np.sqrt, np.cbrt или вообще обойтись без поправки\n",
    "df_temp = pd.concat(dfs_temp)\n",
    "df_temp['coef'] = ((df_temp.num ** .4) * (df_temp.churn - df_temp.other_churn)).round(1) * 10\n",
    "df_temp.dropna().sort_values('coef',ascending=False).head(20)\\\n",
    "       .style.format({\"churn\":\"{:.1%}\",\"other_churn\":\"{:.1%}\",\"num\":\"{:.0f}\",\"coef\":\"{:.0f}\"})"
   ]
  },
  {
   "cell_type": "markdown",
   "metadata": {},
   "source": [
    "# 6. Общие выводы"
   ]
  },
  {
   "cell_type": "markdown",
   "metadata": {},
   "source": [
    "На основе проведённого исследования мы можем сделать следующие выводы:\n",
    "<br><br>\n",
    "<b>На отток больше всего влияют:</b>\n",
    "<ul>\n",
    "    <li><b>Значение баланса:</b>\n",
    "        <ul>\n",
    "            <li>Чем больше баланс на счёте клиента, тем выше вероятность оттока. </li>\n",
    "            <li>Медианное значение баланса у отточных клиентов на целых 39% выше, чем аналогичное значение у неотточных клиентов.</li>\n",
    "            <li>Показатель баланса клиента в 1 миллион — это нижняя граница средств на счёте, с которой клиент намного чаще принимает решение уйти из банка.</li>\n",
    "        </ul>\n",
    "    </li>\n",
    "    <li><b>Значение приблизительной оценки собственности клиента:</b>\n",
    "        <ul>\n",
    "            <li>У отточных пользователей это значение отличается в плюс на 36.7% по сравнению с неотточными.</li>\n",
    "            <li>К оттоку склонны клиенты, у которых приблизительная оценка собственности выше трёх баллов.</li>\n",
    "        </ul>\n",
    "    </li>\n",
    "    <li>\n",
    "        <b>Большое количество продуктов</b> также негативно сказывается на лояльности клиентов, особенно, если их 3 и больше.\n",
    "    </li>\n",
    "    <li>\n",
    "        <b>Возраст клиента:</b> существует две возрастные категории, которые склонны к оттоку: это молодые люди в возрасте от 20 до 35, а также клиенты в возрасте от 50 до 60 лет.\n",
    "    </li>\n",
    "</ul>"
   ]
  },
  {
   "cell_type": "markdown",
   "metadata": {},
   "source": [
    "<b>Рекомендации:</b>\n",
    "- Увеличивать лояльность, привлекать клиентов к более активному использованию продуктов банка, например, кредитной карты, наличие которой способствует удержанию клиента. При этом стоит следить, чтобы клиент не был \"перегружен\" количеством продуктов.\n",
    "- Клиенты с тремя продуктами слонны к оттоку, стоит разобраться, что это за третий продукт и улучшить его качество.\n",
    "- Изучить предложения конкурентов и разработать специальные условия для клиентов, на балансе которых располагается сумма средств, превышающая миллион. Следует подумать о выгодных предложениях в виде хороших годовых процентов для обладателей крупных сумм на счету, чтобы они не переходили со своими средствами в другие банки."
   ]
  },
  {
   "cell_type": "markdown",
   "metadata": {},
   "source": [
    "Ссылка на презентацию: https://disk.yandex.ru/i/IavQxzRHcTSfig"
   ]
  }
 ],
 "metadata": {
  "ExecuteTimeLog": [
   {
    "duration": 375,
    "start_time": "2023-01-12T09:22:24.330Z"
   },
   {
    "duration": 1033,
    "start_time": "2023-01-12T09:22:31.079Z"
   },
   {
    "duration": 30,
    "start_time": "2023-01-12T09:22:37.398Z"
   },
   {
    "duration": 14,
    "start_time": "2023-01-12T09:22:44.043Z"
   },
   {
    "duration": 2,
    "start_time": "2023-01-12T09:27:54.720Z"
   },
   {
    "duration": 935,
    "start_time": "2023-01-12T09:28:37.875Z"
   },
   {
    "duration": 4,
    "start_time": "2023-01-12T09:31:18.900Z"
   },
   {
    "duration": 14,
    "start_time": "2023-01-12T09:31:30.635Z"
   },
   {
    "duration": 22,
    "start_time": "2023-01-12T09:32:00.236Z"
   },
   {
    "duration": 1164,
    "start_time": "2023-01-12T09:32:11.754Z"
   },
   {
    "duration": 1095,
    "start_time": "2023-01-12T09:32:12.920Z"
   },
   {
    "duration": 25,
    "start_time": "2023-01-12T09:32:14.017Z"
   },
   {
    "duration": 16,
    "start_time": "2023-01-12T09:32:14.045Z"
   },
   {
    "duration": 25,
    "start_time": "2023-01-12T09:32:14.063Z"
   },
   {
    "duration": 16,
    "start_time": "2023-01-12T09:32:28.741Z"
   },
   {
    "duration": 14,
    "start_time": "2023-01-12T09:32:44.972Z"
   },
   {
    "duration": 22,
    "start_time": "2023-01-12T09:33:10.734Z"
   },
   {
    "duration": 22,
    "start_time": "2023-01-12T09:34:20.601Z"
   },
   {
    "duration": 17,
    "start_time": "2023-01-12T09:35:00.361Z"
   },
   {
    "duration": 22,
    "start_time": "2023-01-12T09:35:07.210Z"
   },
   {
    "duration": 13,
    "start_time": "2023-01-12T09:36:15.991Z"
   },
   {
    "duration": 100,
    "start_time": "2023-01-12T09:37:10.321Z"
   },
   {
    "duration": 14,
    "start_time": "2023-01-12T09:37:22.880Z"
   },
   {
    "duration": 10,
    "start_time": "2023-01-12T09:37:52.241Z"
   },
   {
    "duration": 1135,
    "start_time": "2023-01-12T09:38:04.815Z"
   },
   {
    "duration": 1064,
    "start_time": "2023-01-12T09:38:05.952Z"
   },
   {
    "duration": 18,
    "start_time": "2023-01-12T09:38:07.018Z"
   },
   {
    "duration": 40,
    "start_time": "2023-01-12T09:38:07.037Z"
   },
   {
    "duration": 117,
    "start_time": "2023-01-12T09:38:07.079Z"
   },
   {
    "duration": 20,
    "start_time": "2023-01-12T09:38:22.011Z"
   },
   {
    "duration": 7,
    "start_time": "2023-01-12T09:38:29.075Z"
   },
   {
    "duration": 16,
    "start_time": "2023-01-12T09:39:03.008Z"
   },
   {
    "duration": 16,
    "start_time": "2023-01-12T09:39:19.140Z"
   },
   {
    "duration": 9,
    "start_time": "2023-01-12T09:39:35.651Z"
   },
   {
    "duration": 1476,
    "start_time": "2023-01-12T09:39:39.471Z"
   },
   {
    "duration": 1381,
    "start_time": "2023-01-12T09:39:50.803Z"
   },
   {
    "duration": 2556,
    "start_time": "2023-01-12T09:40:15.919Z"
   },
   {
    "duration": 1309,
    "start_time": "2023-01-12T09:40:26.980Z"
   },
   {
    "duration": 1137,
    "start_time": "2023-01-12T09:40:28.291Z"
   },
   {
    "duration": 17,
    "start_time": "2023-01-12T09:40:29.430Z"
   },
   {
    "duration": 20,
    "start_time": "2023-01-12T09:40:29.450Z"
   },
   {
    "duration": 14,
    "start_time": "2023-01-12T09:40:29.471Z"
   },
   {
    "duration": 1236,
    "start_time": "2023-01-12T10:12:53.077Z"
   },
   {
    "duration": 1011,
    "start_time": "2023-01-12T10:12:54.315Z"
   },
   {
    "duration": 19,
    "start_time": "2023-01-12T10:12:55.329Z"
   },
   {
    "duration": 22,
    "start_time": "2023-01-12T10:12:55.350Z"
   },
   {
    "duration": 16,
    "start_time": "2023-01-12T10:12:55.374Z"
   },
   {
    "duration": 16,
    "start_time": "2023-01-12T10:13:13.000Z"
   },
   {
    "duration": 20,
    "start_time": "2023-01-12T10:13:24.140Z"
   },
   {
    "duration": 13,
    "start_time": "2023-01-12T10:14:22.223Z"
   },
   {
    "duration": 15,
    "start_time": "2023-01-12T10:15:08.477Z"
   },
   {
    "duration": 1354,
    "start_time": "2023-01-12T10:16:17.710Z"
   },
   {
    "duration": 1328,
    "start_time": "2023-01-12T10:16:33.342Z"
   },
   {
    "duration": 1168,
    "start_time": "2023-01-12T10:16:51.224Z"
   },
   {
    "duration": 1149,
    "start_time": "2023-01-12T10:18:59.200Z"
   },
   {
    "duration": 1246,
    "start_time": "2023-01-12T10:19:05.640Z"
   },
   {
    "duration": 1110,
    "start_time": "2023-01-12T10:19:06.889Z"
   },
   {
    "duration": 20,
    "start_time": "2023-01-12T10:19:08.001Z"
   },
   {
    "duration": 26,
    "start_time": "2023-01-12T10:19:08.023Z"
   },
   {
    "duration": 32,
    "start_time": "2023-01-12T10:19:08.052Z"
   },
   {
    "duration": 1256,
    "start_time": "2023-01-12T10:19:49.972Z"
   },
   {
    "duration": 1186,
    "start_time": "2023-01-12T10:20:13.625Z"
   },
   {
    "duration": 915,
    "start_time": "2023-01-12T10:20:14.813Z"
   },
   {
    "duration": 22,
    "start_time": "2023-01-12T10:20:15.730Z"
   },
   {
    "duration": 16,
    "start_time": "2023-01-12T10:20:15.756Z"
   },
   {
    "duration": 20,
    "start_time": "2023-01-12T10:20:15.775Z"
   },
   {
    "duration": 34,
    "start_time": "2023-01-12T10:20:15.797Z"
   },
   {
    "duration": 1150,
    "start_time": "2023-01-12T10:22:08.972Z"
   },
   {
    "duration": 807,
    "start_time": "2023-01-12T10:22:10.124Z"
   },
   {
    "duration": 29,
    "start_time": "2023-01-12T10:22:10.933Z"
   },
   {
    "duration": 23,
    "start_time": "2023-01-12T10:22:10.965Z"
   },
   {
    "duration": 4,
    "start_time": "2023-01-12T10:22:10.990Z"
   },
   {
    "duration": 30,
    "start_time": "2023-01-12T10:22:10.995Z"
   },
   {
    "duration": 34,
    "start_time": "2023-01-12T10:23:16.707Z"
   },
   {
    "duration": 1265,
    "start_time": "2023-01-12T10:23:47.939Z"
   },
   {
    "duration": 1266,
    "start_time": "2023-01-12T10:23:49.207Z"
   },
   {
    "duration": 20,
    "start_time": "2023-01-12T10:23:50.475Z"
   },
   {
    "duration": 19,
    "start_time": "2023-01-12T10:23:50.498Z"
   },
   {
    "duration": 9,
    "start_time": "2023-01-12T10:23:50.519Z"
   },
   {
    "duration": 28,
    "start_time": "2023-01-12T10:23:50.530Z"
   },
   {
    "duration": 27,
    "start_time": "2023-01-12T10:23:50.560Z"
   },
   {
    "duration": 1133,
    "start_time": "2023-01-12T10:25:39.927Z"
   },
   {
    "duration": 912,
    "start_time": "2023-01-12T10:25:41.062Z"
   },
   {
    "duration": 19,
    "start_time": "2023-01-12T10:25:41.976Z"
   },
   {
    "duration": 12,
    "start_time": "2023-01-12T10:25:41.997Z"
   },
   {
    "duration": 14,
    "start_time": "2023-01-12T10:25:42.011Z"
   },
   {
    "duration": 19,
    "start_time": "2023-01-12T10:25:42.026Z"
   },
   {
    "duration": 11,
    "start_time": "2023-01-12T10:25:42.046Z"
   },
   {
    "duration": 21,
    "start_time": "2023-01-12T10:25:42.058Z"
   },
   {
    "duration": 28,
    "start_time": "2023-01-12T10:25:42.081Z"
   },
   {
    "duration": 13,
    "start_time": "2023-01-12T10:25:42.111Z"
   },
   {
    "duration": 15,
    "start_time": "2023-01-12T10:26:56.927Z"
   },
   {
    "duration": 14,
    "start_time": "2023-01-12T10:27:06.999Z"
   },
   {
    "duration": 18,
    "start_time": "2023-01-12T10:32:36.816Z"
   },
   {
    "duration": 23,
    "start_time": "2023-01-12T10:32:44.836Z"
   },
   {
    "duration": 4,
    "start_time": "2023-01-12T10:33:13.198Z"
   },
   {
    "duration": 12,
    "start_time": "2023-01-12T10:33:18.461Z"
   },
   {
    "duration": 12,
    "start_time": "2023-01-12T10:33:31.278Z"
   },
   {
    "duration": 1193,
    "start_time": "2023-01-12T10:35:39.860Z"
   },
   {
    "duration": 966,
    "start_time": "2023-01-12T10:35:41.056Z"
   },
   {
    "duration": 18,
    "start_time": "2023-01-12T10:35:42.024Z"
   },
   {
    "duration": 23,
    "start_time": "2023-01-12T10:35:42.043Z"
   },
   {
    "duration": 13,
    "start_time": "2023-01-12T10:35:42.069Z"
   },
   {
    "duration": 23,
    "start_time": "2023-01-12T10:35:42.084Z"
   },
   {
    "duration": 21,
    "start_time": "2023-01-12T10:35:42.109Z"
   },
   {
    "duration": 13,
    "start_time": "2023-01-12T10:35:42.132Z"
   },
   {
    "duration": 26,
    "start_time": "2023-01-12T10:35:42.146Z"
   },
   {
    "duration": 28,
    "start_time": "2023-01-12T10:35:42.174Z"
   },
   {
    "duration": 24,
    "start_time": "2023-01-12T10:35:42.203Z"
   },
   {
    "duration": 17,
    "start_time": "2023-01-12T10:35:42.229Z"
   },
   {
    "duration": 1189,
    "start_time": "2023-01-12T10:39:08.053Z"
   },
   {
    "duration": 909,
    "start_time": "2023-01-12T10:39:09.244Z"
   },
   {
    "duration": 26,
    "start_time": "2023-01-12T10:39:10.155Z"
   },
   {
    "duration": 21,
    "start_time": "2023-01-12T10:39:10.184Z"
   },
   {
    "duration": 21,
    "start_time": "2023-01-12T10:39:10.207Z"
   },
   {
    "duration": 38,
    "start_time": "2023-01-12T10:39:10.231Z"
   },
   {
    "duration": 21,
    "start_time": "2023-01-12T10:39:10.272Z"
   },
   {
    "duration": 30,
    "start_time": "2023-01-12T10:39:10.296Z"
   },
   {
    "duration": 27,
    "start_time": "2023-01-12T10:39:10.328Z"
   },
   {
    "duration": 48,
    "start_time": "2023-01-12T10:39:10.359Z"
   },
   {
    "duration": 5,
    "start_time": "2023-01-12T10:39:10.409Z"
   },
   {
    "duration": 11,
    "start_time": "2023-01-12T10:40:17.796Z"
   },
   {
    "duration": 13,
    "start_time": "2023-01-12T10:40:46.333Z"
   },
   {
    "duration": 12,
    "start_time": "2023-01-12T10:40:54.276Z"
   },
   {
    "duration": 10,
    "start_time": "2023-01-12T10:41:20.044Z"
   },
   {
    "duration": 20,
    "start_time": "2023-01-12T10:41:24.885Z"
   },
   {
    "duration": 1133,
    "start_time": "2023-01-12T10:41:59.101Z"
   },
   {
    "duration": 879,
    "start_time": "2023-01-12T10:42:00.236Z"
   },
   {
    "duration": 18,
    "start_time": "2023-01-12T10:42:01.116Z"
   },
   {
    "duration": 29,
    "start_time": "2023-01-12T10:42:01.136Z"
   },
   {
    "duration": 45,
    "start_time": "2023-01-12T10:42:01.167Z"
   },
   {
    "duration": 42,
    "start_time": "2023-01-12T10:42:01.213Z"
   },
   {
    "duration": 34,
    "start_time": "2023-01-12T10:42:01.257Z"
   },
   {
    "duration": 34,
    "start_time": "2023-01-12T10:42:01.293Z"
   },
   {
    "duration": 55,
    "start_time": "2023-01-12T10:42:01.329Z"
   },
   {
    "duration": 92,
    "start_time": "2023-01-12T10:42:01.385Z"
   },
   {
    "duration": 22,
    "start_time": "2023-01-12T10:42:01.478Z"
   },
   {
    "duration": 90,
    "start_time": "2023-01-12T10:42:01.502Z"
   },
   {
    "duration": 143,
    "start_time": "2023-01-12T10:42:01.593Z"
   },
   {
    "duration": 18,
    "start_time": "2023-01-12T10:42:16.332Z"
   },
   {
    "duration": 1150,
    "start_time": "2023-01-12T10:43:40.347Z"
   },
   {
    "duration": 1019,
    "start_time": "2023-01-12T10:43:41.499Z"
   },
   {
    "duration": 19,
    "start_time": "2023-01-12T10:43:42.520Z"
   },
   {
    "duration": 25,
    "start_time": "2023-01-12T10:43:42.541Z"
   },
   {
    "duration": 4,
    "start_time": "2023-01-12T10:43:42.569Z"
   },
   {
    "duration": 9,
    "start_time": "2023-01-12T10:43:42.575Z"
   },
   {
    "duration": 11,
    "start_time": "2023-01-12T10:43:42.586Z"
   },
   {
    "duration": 10,
    "start_time": "2023-01-12T10:43:42.598Z"
   },
   {
    "duration": 8,
    "start_time": "2023-01-12T10:43:42.610Z"
   },
   {
    "duration": 18,
    "start_time": "2023-01-12T10:43:42.620Z"
   },
   {
    "duration": 4,
    "start_time": "2023-01-12T10:43:42.639Z"
   },
   {
    "duration": 13,
    "start_time": "2023-01-12T10:43:42.644Z"
   },
   {
    "duration": 32,
    "start_time": "2023-01-12T10:43:42.659Z"
   },
   {
    "duration": 5,
    "start_time": "2023-01-12T10:44:35.526Z"
   },
   {
    "duration": 1234,
    "start_time": "2023-01-12T10:45:06.343Z"
   },
   {
    "duration": 10,
    "start_time": "2023-01-12T10:45:25.566Z"
   },
   {
    "duration": 20,
    "start_time": "2023-01-12T10:45:38.200Z"
   },
   {
    "duration": 5,
    "start_time": "2023-01-12T10:46:54.144Z"
   },
   {
    "duration": 6,
    "start_time": "2023-01-12T10:47:36.628Z"
   },
   {
    "duration": 4,
    "start_time": "2023-01-12T10:47:50.225Z"
   },
   {
    "duration": 25,
    "start_time": "2023-01-12T10:48:23.807Z"
   },
   {
    "duration": 25,
    "start_time": "2023-01-12T10:53:46.733Z"
   },
   {
    "duration": 1120,
    "start_time": "2023-01-12T11:00:31.583Z"
   },
   {
    "duration": 1117,
    "start_time": "2023-01-12T11:00:32.705Z"
   },
   {
    "duration": 19,
    "start_time": "2023-01-12T11:00:33.823Z"
   },
   {
    "duration": 21,
    "start_time": "2023-01-12T11:00:33.844Z"
   },
   {
    "duration": 28,
    "start_time": "2023-01-12T11:00:33.867Z"
   },
   {
    "duration": 16,
    "start_time": "2023-01-12T11:00:33.897Z"
   },
   {
    "duration": 19,
    "start_time": "2023-01-12T11:00:33.916Z"
   },
   {
    "duration": 24,
    "start_time": "2023-01-12T11:00:33.937Z"
   },
   {
    "duration": 31,
    "start_time": "2023-01-12T11:00:33.964Z"
   },
   {
    "duration": 25,
    "start_time": "2023-01-12T11:00:33.998Z"
   },
   {
    "duration": 10,
    "start_time": "2023-01-12T11:00:34.025Z"
   },
   {
    "duration": 27,
    "start_time": "2023-01-12T11:00:34.038Z"
   },
   {
    "duration": 24,
    "start_time": "2023-01-12T11:00:34.067Z"
   },
   {
    "duration": 5,
    "start_time": "2023-01-12T11:00:34.093Z"
   },
   {
    "duration": 38,
    "start_time": "2023-01-12T11:00:34.100Z"
   },
   {
    "duration": 1499,
    "start_time": "2023-01-12T11:25:35.029Z"
   },
   {
    "duration": 1000,
    "start_time": "2023-01-12T11:25:36.530Z"
   },
   {
    "duration": 24,
    "start_time": "2023-01-12T11:25:37.532Z"
   },
   {
    "duration": 58,
    "start_time": "2023-01-12T11:25:37.559Z"
   },
   {
    "duration": 30,
    "start_time": "2023-01-12T11:25:37.620Z"
   },
   {
    "duration": 46,
    "start_time": "2023-01-12T11:25:37.652Z"
   },
   {
    "duration": 37,
    "start_time": "2023-01-12T11:25:37.700Z"
   },
   {
    "duration": 43,
    "start_time": "2023-01-12T11:25:37.739Z"
   },
   {
    "duration": 76,
    "start_time": "2023-01-12T11:25:37.786Z"
   },
   {
    "duration": 59,
    "start_time": "2023-01-12T11:25:37.864Z"
   },
   {
    "duration": 40,
    "start_time": "2023-01-12T11:25:37.925Z"
   },
   {
    "duration": 37,
    "start_time": "2023-01-12T11:25:37.966Z"
   },
   {
    "duration": 34,
    "start_time": "2023-01-12T11:25:38.005Z"
   },
   {
    "duration": 36,
    "start_time": "2023-01-12T11:25:38.041Z"
   },
   {
    "duration": 77,
    "start_time": "2023-01-12T11:25:38.078Z"
   },
   {
    "duration": 8,
    "start_time": "2023-01-12T11:26:19.162Z"
   },
   {
    "duration": 6,
    "start_time": "2023-01-12T11:26:35.584Z"
   },
   {
    "duration": 68,
    "start_time": "2023-01-12T11:26:59.632Z"
   },
   {
    "duration": 6,
    "start_time": "2023-01-12T11:27:17.846Z"
   },
   {
    "duration": 7,
    "start_time": "2023-01-12T11:28:18.261Z"
   },
   {
    "duration": 7,
    "start_time": "2023-01-12T11:28:27.304Z"
   },
   {
    "duration": 21,
    "start_time": "2023-01-12T11:33:17.072Z"
   },
   {
    "duration": 1323,
    "start_time": "2023-01-12T11:34:30.753Z"
   },
   {
    "duration": 1069,
    "start_time": "2023-01-12T11:34:32.079Z"
   },
   {
    "duration": 19,
    "start_time": "2023-01-12T11:34:33.149Z"
   },
   {
    "duration": 13,
    "start_time": "2023-01-12T11:34:33.170Z"
   },
   {
    "duration": 9,
    "start_time": "2023-01-12T11:34:33.185Z"
   },
   {
    "duration": 26,
    "start_time": "2023-01-12T11:34:33.196Z"
   },
   {
    "duration": 8,
    "start_time": "2023-01-12T11:34:33.225Z"
   },
   {
    "duration": 20,
    "start_time": "2023-01-12T11:34:33.236Z"
   },
   {
    "duration": 17,
    "start_time": "2023-01-12T11:34:33.258Z"
   },
   {
    "duration": 23,
    "start_time": "2023-01-12T11:34:33.278Z"
   },
   {
    "duration": 20,
    "start_time": "2023-01-12T11:34:33.303Z"
   },
   {
    "duration": 21,
    "start_time": "2023-01-12T11:34:33.325Z"
   },
   {
    "duration": 27,
    "start_time": "2023-01-12T11:34:33.348Z"
   },
   {
    "duration": 6,
    "start_time": "2023-01-12T11:34:33.377Z"
   },
   {
    "duration": 57,
    "start_time": "2023-01-12T11:34:33.385Z"
   },
   {
    "duration": 7,
    "start_time": "2023-01-12T11:34:33.444Z"
   },
   {
    "duration": 19,
    "start_time": "2023-01-12T11:34:33.453Z"
   },
   {
    "duration": 1219,
    "start_time": "2023-01-12T11:41:21.987Z"
   },
   {
    "duration": 996,
    "start_time": "2023-01-12T11:41:23.208Z"
   },
   {
    "duration": 26,
    "start_time": "2023-01-12T11:41:24.207Z"
   },
   {
    "duration": 30,
    "start_time": "2023-01-12T11:41:24.236Z"
   },
   {
    "duration": 32,
    "start_time": "2023-01-12T11:41:24.268Z"
   },
   {
    "duration": 51,
    "start_time": "2023-01-12T11:41:24.304Z"
   },
   {
    "duration": 45,
    "start_time": "2023-01-12T11:41:24.357Z"
   },
   {
    "duration": 44,
    "start_time": "2023-01-12T11:41:24.404Z"
   },
   {
    "duration": 46,
    "start_time": "2023-01-12T11:41:24.451Z"
   },
   {
    "duration": 19,
    "start_time": "2023-01-12T11:41:24.500Z"
   },
   {
    "duration": 7,
    "start_time": "2023-01-12T11:41:24.522Z"
   },
   {
    "duration": 23,
    "start_time": "2023-01-12T11:41:24.532Z"
   },
   {
    "duration": 26,
    "start_time": "2023-01-12T11:41:24.558Z"
   },
   {
    "duration": 12,
    "start_time": "2023-01-12T11:41:24.587Z"
   },
   {
    "duration": 51,
    "start_time": "2023-01-12T11:41:24.601Z"
   },
   {
    "duration": 7,
    "start_time": "2023-01-12T11:41:24.653Z"
   },
   {
    "duration": 18,
    "start_time": "2023-01-12T11:41:24.662Z"
   },
   {
    "duration": 6,
    "start_time": "2023-01-12T11:44:01.352Z"
   },
   {
    "duration": 6,
    "start_time": "2023-01-12T11:45:13.146Z"
   },
   {
    "duration": 13,
    "start_time": "2023-01-12T11:45:48.897Z"
   },
   {
    "duration": 4,
    "start_time": "2023-01-12T11:46:15.664Z"
   },
   {
    "duration": 204,
    "start_time": "2023-01-12T11:49:03.366Z"
   },
   {
    "duration": 307,
    "start_time": "2023-01-12T11:49:44.963Z"
   },
   {
    "duration": 224,
    "start_time": "2023-01-12T11:49:52.462Z"
   },
   {
    "duration": 201,
    "start_time": "2023-01-12T11:49:59.128Z"
   },
   {
    "duration": 233,
    "start_time": "2023-01-12T11:50:03.979Z"
   },
   {
    "duration": 266,
    "start_time": "2023-01-12T11:50:10.243Z"
   },
   {
    "duration": 218,
    "start_time": "2023-01-12T11:50:27.923Z"
   },
   {
    "duration": 204,
    "start_time": "2023-01-12T11:50:43.045Z"
   },
   {
    "duration": 226,
    "start_time": "2023-01-12T11:51:24.726Z"
   },
   {
    "duration": 287,
    "start_time": "2023-01-12T11:51:32.283Z"
   },
   {
    "duration": 207,
    "start_time": "2023-01-12T11:51:37.687Z"
   },
   {
    "duration": 213,
    "start_time": "2023-01-12T11:51:41.371Z"
   },
   {
    "duration": 448,
    "start_time": "2023-01-12T11:54:38.923Z"
   },
   {
    "duration": 371,
    "start_time": "2023-01-12T11:55:06.703Z"
   },
   {
    "duration": 1129,
    "start_time": "2023-01-12T11:55:32.568Z"
   },
   {
    "duration": 1137,
    "start_time": "2023-01-12T11:55:33.699Z"
   },
   {
    "duration": 17,
    "start_time": "2023-01-12T11:55:34.838Z"
   },
   {
    "duration": 14,
    "start_time": "2023-01-12T11:55:34.857Z"
   },
   {
    "duration": 8,
    "start_time": "2023-01-12T11:55:34.873Z"
   },
   {
    "duration": 20,
    "start_time": "2023-01-12T11:55:34.884Z"
   },
   {
    "duration": 24,
    "start_time": "2023-01-12T11:55:34.906Z"
   },
   {
    "duration": 21,
    "start_time": "2023-01-12T11:55:34.931Z"
   },
   {
    "duration": 16,
    "start_time": "2023-01-12T11:55:34.954Z"
   },
   {
    "duration": 23,
    "start_time": "2023-01-12T11:55:34.973Z"
   },
   {
    "duration": 6,
    "start_time": "2023-01-12T11:55:34.997Z"
   },
   {
    "duration": 34,
    "start_time": "2023-01-12T11:55:35.005Z"
   },
   {
    "duration": 26,
    "start_time": "2023-01-12T11:55:35.041Z"
   },
   {
    "duration": 6,
    "start_time": "2023-01-12T11:55:35.069Z"
   },
   {
    "duration": 57,
    "start_time": "2023-01-12T11:55:35.078Z"
   },
   {
    "duration": 8,
    "start_time": "2023-01-12T11:55:35.138Z"
   },
   {
    "duration": 19,
    "start_time": "2023-01-12T11:55:35.148Z"
   },
   {
    "duration": 6,
    "start_time": "2023-01-12T11:55:35.169Z"
   },
   {
    "duration": 11,
    "start_time": "2023-01-12T11:55:35.176Z"
   },
   {
    "duration": 498,
    "start_time": "2023-01-12T11:55:35.189Z"
   },
   {
    "duration": 495,
    "start_time": "2023-01-12T11:55:53.430Z"
   },
   {
    "duration": 436,
    "start_time": "2023-01-12T11:56:03.742Z"
   },
   {
    "duration": 217,
    "start_time": "2023-01-12T11:56:20.083Z"
   },
   {
    "duration": 241,
    "start_time": "2023-01-12T11:56:27.583Z"
   },
   {
    "duration": 239,
    "start_time": "2023-01-12T11:57:33.723Z"
   },
   {
    "duration": 214,
    "start_time": "2023-01-12T11:57:39.386Z"
   },
   {
    "duration": 266,
    "start_time": "2023-01-12T11:58:04.271Z"
   },
   {
    "duration": 174,
    "start_time": "2023-01-12T12:14:17.743Z"
   },
   {
    "duration": 364,
    "start_time": "2023-01-12T12:14:30.631Z"
   },
   {
    "duration": 141,
    "start_time": "2023-01-12T12:18:09.645Z"
   },
   {
    "duration": 250,
    "start_time": "2023-01-12T12:18:59.829Z"
   },
   {
    "duration": 281,
    "start_time": "2023-01-12T12:19:36.842Z"
   },
   {
    "duration": 291,
    "start_time": "2023-01-12T12:19:42.621Z"
   },
   {
    "duration": 14,
    "start_time": "2023-01-12T12:20:08.168Z"
   },
   {
    "duration": 297,
    "start_time": "2023-01-12T12:20:14.412Z"
   },
   {
    "duration": 183,
    "start_time": "2023-01-12T12:21:29.059Z"
   },
   {
    "duration": 173,
    "start_time": "2023-01-12T12:21:50.464Z"
   },
   {
    "duration": 208,
    "start_time": "2023-01-12T12:22:01.068Z"
   },
   {
    "duration": 287,
    "start_time": "2023-01-12T12:22:06.945Z"
   },
   {
    "duration": 185,
    "start_time": "2023-01-12T12:22:13.402Z"
   },
   {
    "duration": 167,
    "start_time": "2023-01-12T12:22:52.340Z"
   },
   {
    "duration": 3,
    "start_time": "2023-01-12T12:39:51.100Z"
   },
   {
    "duration": 1196,
    "start_time": "2023-01-12T12:39:55.492Z"
   },
   {
    "duration": 1171,
    "start_time": "2023-01-12T12:39:56.690Z"
   },
   {
    "duration": 21,
    "start_time": "2023-01-12T12:39:57.864Z"
   },
   {
    "duration": 15,
    "start_time": "2023-01-12T12:39:57.888Z"
   },
   {
    "duration": 4,
    "start_time": "2023-01-12T12:39:57.905Z"
   },
   {
    "duration": 14,
    "start_time": "2023-01-12T12:39:57.911Z"
   },
   {
    "duration": 14,
    "start_time": "2023-01-12T12:39:57.927Z"
   },
   {
    "duration": 12,
    "start_time": "2023-01-12T12:39:57.943Z"
   },
   {
    "duration": 17,
    "start_time": "2023-01-12T12:39:57.957Z"
   },
   {
    "duration": 22,
    "start_time": "2023-01-12T12:39:57.975Z"
   },
   {
    "duration": 25,
    "start_time": "2023-01-12T12:39:57.999Z"
   },
   {
    "duration": 17,
    "start_time": "2023-01-12T12:39:58.026Z"
   },
   {
    "duration": 19,
    "start_time": "2023-01-12T12:39:58.045Z"
   },
   {
    "duration": 5,
    "start_time": "2023-01-12T12:39:58.067Z"
   },
   {
    "duration": 65,
    "start_time": "2023-01-12T12:39:58.073Z"
   },
   {
    "duration": 6,
    "start_time": "2023-01-12T12:39:58.139Z"
   },
   {
    "duration": 13,
    "start_time": "2023-01-12T12:39:58.147Z"
   },
   {
    "duration": 4,
    "start_time": "2023-01-12T12:39:58.162Z"
   },
   {
    "duration": 8,
    "start_time": "2023-01-12T12:39:58.168Z"
   },
   {
    "duration": 222,
    "start_time": "2023-01-12T12:39:58.178Z"
   },
   {
    "duration": 3,
    "start_time": "2023-01-12T12:40:09.641Z"
   },
   {
    "duration": 22,
    "start_time": "2023-01-12T12:42:40.127Z"
   },
   {
    "duration": 10,
    "start_time": "2023-01-12T12:43:41.503Z"
   },
   {
    "duration": 1282,
    "start_time": "2023-01-12T12:45:13.623Z"
   },
   {
    "duration": 5,
    "start_time": "2023-01-12T12:45:27.547Z"
   },
   {
    "duration": 10,
    "start_time": "2023-01-12T12:47:06.004Z"
   },
   {
    "duration": 13,
    "start_time": "2023-01-12T12:47:46.922Z"
   },
   {
    "duration": 13,
    "start_time": "2023-01-12T13:16:49.778Z"
   },
   {
    "duration": 13,
    "start_time": "2023-01-12T13:17:26.999Z"
   },
   {
    "duration": 41,
    "start_time": "2023-01-12T13:56:07.777Z"
   },
   {
    "duration": 1254,
    "start_time": "2023-01-12T13:56:58.905Z"
   },
   {
    "duration": 1050,
    "start_time": "2023-01-12T13:57:00.161Z"
   },
   {
    "duration": 29,
    "start_time": "2023-01-12T13:57:01.213Z"
   },
   {
    "duration": 25,
    "start_time": "2023-01-12T13:57:01.243Z"
   },
   {
    "duration": 78,
    "start_time": "2023-01-12T13:57:01.271Z"
   },
   {
    "duration": 47,
    "start_time": "2023-01-12T13:57:01.351Z"
   },
   {
    "duration": 74,
    "start_time": "2023-01-12T13:57:01.400Z"
   },
   {
    "duration": 67,
    "start_time": "2023-01-12T13:57:01.476Z"
   },
   {
    "duration": 36,
    "start_time": "2023-01-12T13:57:01.545Z"
   },
   {
    "duration": 85,
    "start_time": "2023-01-12T13:57:01.583Z"
   },
   {
    "duration": 76,
    "start_time": "2023-01-12T13:57:01.670Z"
   },
   {
    "duration": 84,
    "start_time": "2023-01-12T13:57:01.747Z"
   },
   {
    "duration": 102,
    "start_time": "2023-01-12T13:57:01.834Z"
   },
   {
    "duration": 124,
    "start_time": "2023-01-12T13:57:01.939Z"
   },
   {
    "duration": 154,
    "start_time": "2023-01-12T13:57:02.065Z"
   },
   {
    "duration": 58,
    "start_time": "2023-01-12T13:57:02.221Z"
   },
   {
    "duration": 54,
    "start_time": "2023-01-12T13:57:02.281Z"
   },
   {
    "duration": 44,
    "start_time": "2023-01-12T13:57:02.337Z"
   },
   {
    "duration": 29,
    "start_time": "2023-01-12T13:57:02.384Z"
   },
   {
    "duration": 90,
    "start_time": "2023-01-12T13:57:02.416Z"
   },
   {
    "duration": 17,
    "start_time": "2023-01-12T13:57:02.508Z"
   },
   {
    "duration": 62,
    "start_time": "2023-01-12T13:57:02.526Z"
   },
   {
    "duration": 21,
    "start_time": "2023-01-12T13:57:02.591Z"
   },
   {
    "duration": 33,
    "start_time": "2023-01-12T13:57:02.614Z"
   },
   {
    "duration": 67,
    "start_time": "2023-01-12T13:57:02.648Z"
   },
   {
    "duration": 128,
    "start_time": "2023-01-12T13:57:36.156Z"
   },
   {
    "duration": 191,
    "start_time": "2023-01-12T13:57:57.817Z"
   },
   {
    "duration": 137,
    "start_time": "2023-01-12T13:58:24.147Z"
   },
   {
    "duration": 124,
    "start_time": "2023-01-12T13:58:47.777Z"
   },
   {
    "duration": 151,
    "start_time": "2023-01-12T13:59:27.397Z"
   },
   {
    "duration": 117,
    "start_time": "2023-01-12T13:59:39.585Z"
   },
   {
    "duration": 165,
    "start_time": "2023-01-12T13:59:44.197Z"
   },
   {
    "duration": 161,
    "start_time": "2023-01-12T13:59:58.402Z"
   },
   {
    "duration": 156,
    "start_time": "2023-01-12T14:00:09.498Z"
   },
   {
    "duration": 187,
    "start_time": "2023-01-12T14:00:27.118Z"
   },
   {
    "duration": 245,
    "start_time": "2023-01-12T14:00:30.546Z"
   },
   {
    "duration": 147,
    "start_time": "2023-01-12T14:00:45.231Z"
   },
   {
    "duration": 118,
    "start_time": "2023-01-12T14:03:44.797Z"
   },
   {
    "duration": 712,
    "start_time": "2023-01-12T14:03:56.198Z"
   },
   {
    "duration": 1293,
    "start_time": "2023-01-12T14:04:07.522Z"
   },
   {
    "duration": 1200,
    "start_time": "2023-01-12T14:04:08.817Z"
   },
   {
    "duration": 21,
    "start_time": "2023-01-12T14:04:10.018Z"
   },
   {
    "duration": 30,
    "start_time": "2023-01-12T14:04:10.041Z"
   },
   {
    "duration": 12,
    "start_time": "2023-01-12T14:04:10.073Z"
   },
   {
    "duration": 28,
    "start_time": "2023-01-12T14:04:10.086Z"
   },
   {
    "duration": 13,
    "start_time": "2023-01-12T14:04:10.116Z"
   },
   {
    "duration": 25,
    "start_time": "2023-01-12T14:04:10.132Z"
   },
   {
    "duration": 19,
    "start_time": "2023-01-12T14:04:10.159Z"
   },
   {
    "duration": 25,
    "start_time": "2023-01-12T14:04:10.180Z"
   },
   {
    "duration": 4,
    "start_time": "2023-01-12T14:04:10.207Z"
   },
   {
    "duration": 27,
    "start_time": "2023-01-12T14:04:10.214Z"
   },
   {
    "duration": 21,
    "start_time": "2023-01-12T14:04:10.243Z"
   },
   {
    "duration": 6,
    "start_time": "2023-01-12T14:04:10.268Z"
   },
   {
    "duration": 67,
    "start_time": "2023-01-12T14:04:10.276Z"
   },
   {
    "duration": 6,
    "start_time": "2023-01-12T14:04:10.345Z"
   },
   {
    "duration": 21,
    "start_time": "2023-01-12T14:04:10.353Z"
   },
   {
    "duration": 12,
    "start_time": "2023-01-12T14:04:10.375Z"
   },
   {
    "duration": 10,
    "start_time": "2023-01-12T14:04:10.389Z"
   },
   {
    "duration": 74,
    "start_time": "2023-01-12T14:04:10.401Z"
   },
   {
    "duration": 15,
    "start_time": "2023-01-12T14:04:10.478Z"
   },
   {
    "duration": 14,
    "start_time": "2023-01-12T14:04:10.496Z"
   },
   {
    "duration": 21,
    "start_time": "2023-01-12T14:04:10.524Z"
   },
   {
    "duration": 16,
    "start_time": "2023-01-12T14:04:10.548Z"
   },
   {
    "duration": 75,
    "start_time": "2023-01-12T14:04:10.566Z"
   },
   {
    "duration": 169,
    "start_time": "2023-01-12T14:04:10.647Z"
   },
   {
    "duration": 820,
    "start_time": "2023-01-12T14:04:10.818Z"
   },
   {
    "duration": 5450,
    "start_time": "2023-01-12T14:06:48.158Z"
   },
   {
    "duration": 707,
    "start_time": "2023-01-12T14:07:25.958Z"
   },
   {
    "duration": 5386,
    "start_time": "2023-01-12T14:07:33.758Z"
   },
   {
    "duration": 18,
    "start_time": "2023-01-12T14:08:39.578Z"
   },
   {
    "duration": 5350,
    "start_time": "2023-01-12T14:08:47.098Z"
   },
   {
    "duration": 1351,
    "start_time": "2023-01-12T14:09:01.917Z"
   },
   {
    "duration": 1185,
    "start_time": "2023-01-12T14:09:03.270Z"
   },
   {
    "duration": 23,
    "start_time": "2023-01-12T14:09:04.457Z"
   },
   {
    "duration": 15,
    "start_time": "2023-01-12T14:09:04.483Z"
   },
   {
    "duration": 5,
    "start_time": "2023-01-12T14:09:04.500Z"
   },
   {
    "duration": 29,
    "start_time": "2023-01-12T14:09:04.507Z"
   },
   {
    "duration": 24,
    "start_time": "2023-01-12T14:09:04.543Z"
   },
   {
    "duration": 22,
    "start_time": "2023-01-12T14:09:04.570Z"
   },
   {
    "duration": 18,
    "start_time": "2023-01-12T14:09:04.593Z"
   },
   {
    "duration": 62,
    "start_time": "2023-01-12T14:09:04.614Z"
   },
   {
    "duration": 10,
    "start_time": "2023-01-12T14:09:04.678Z"
   },
   {
    "duration": 28,
    "start_time": "2023-01-12T14:09:04.691Z"
   },
   {
    "duration": 45,
    "start_time": "2023-01-12T14:09:04.721Z"
   },
   {
    "duration": 6,
    "start_time": "2023-01-12T14:09:04.769Z"
   },
   {
    "duration": 64,
    "start_time": "2023-01-12T14:09:04.777Z"
   },
   {
    "duration": 9,
    "start_time": "2023-01-12T14:09:04.843Z"
   },
   {
    "duration": 14,
    "start_time": "2023-01-12T14:09:04.854Z"
   },
   {
    "duration": 10,
    "start_time": "2023-01-12T14:09:04.871Z"
   },
   {
    "duration": 18,
    "start_time": "2023-01-12T14:09:04.883Z"
   },
   {
    "duration": 43,
    "start_time": "2023-01-12T14:09:04.904Z"
   },
   {
    "duration": 14,
    "start_time": "2023-01-12T14:09:04.949Z"
   },
   {
    "duration": 12,
    "start_time": "2023-01-12T14:09:04.965Z"
   },
   {
    "duration": 13,
    "start_time": "2023-01-12T14:09:04.979Z"
   },
   {
    "duration": 51,
    "start_time": "2023-01-12T14:09:04.993Z"
   },
   {
    "duration": 69,
    "start_time": "2023-01-12T14:09:05.046Z"
   },
   {
    "duration": 231,
    "start_time": "2023-01-12T14:09:05.118Z"
   },
   {
    "duration": 164,
    "start_time": "2023-01-12T14:09:05.351Z"
   },
   {
    "duration": 1252,
    "start_time": "2023-01-12T14:09:25.382Z"
   },
   {
    "duration": 929,
    "start_time": "2023-01-12T14:09:26.636Z"
   },
   {
    "duration": 18,
    "start_time": "2023-01-12T14:09:27.567Z"
   },
   {
    "duration": 13,
    "start_time": "2023-01-12T14:09:27.588Z"
   },
   {
    "duration": 10,
    "start_time": "2023-01-12T14:09:27.603Z"
   },
   {
    "duration": 19,
    "start_time": "2023-01-12T14:09:27.615Z"
   },
   {
    "duration": 17,
    "start_time": "2023-01-12T14:09:27.638Z"
   },
   {
    "duration": 12,
    "start_time": "2023-01-12T14:09:27.657Z"
   },
   {
    "duration": 15,
    "start_time": "2023-01-12T14:09:27.671Z"
   },
   {
    "duration": 27,
    "start_time": "2023-01-12T14:09:27.688Z"
   },
   {
    "duration": 40,
    "start_time": "2023-01-12T14:09:27.717Z"
   },
   {
    "duration": 48,
    "start_time": "2023-01-12T14:09:27.759Z"
   },
   {
    "duration": 25,
    "start_time": "2023-01-12T14:09:27.809Z"
   },
   {
    "duration": 15,
    "start_time": "2023-01-12T14:09:27.835Z"
   },
   {
    "duration": 44,
    "start_time": "2023-01-12T14:09:27.853Z"
   },
   {
    "duration": 6,
    "start_time": "2023-01-12T14:09:27.899Z"
   },
   {
    "duration": 27,
    "start_time": "2023-01-12T14:09:27.907Z"
   },
   {
    "duration": 10,
    "start_time": "2023-01-12T14:09:27.936Z"
   },
   {
    "duration": 7,
    "start_time": "2023-01-12T14:09:27.948Z"
   },
   {
    "duration": 35,
    "start_time": "2023-01-12T14:09:27.956Z"
   },
   {
    "duration": 9,
    "start_time": "2023-01-12T14:09:27.993Z"
   },
   {
    "duration": 30,
    "start_time": "2023-01-12T14:09:28.003Z"
   },
   {
    "duration": 28,
    "start_time": "2023-01-12T14:09:28.035Z"
   },
   {
    "duration": 19,
    "start_time": "2023-01-12T14:09:28.065Z"
   },
   {
    "duration": 57,
    "start_time": "2023-01-12T14:09:28.086Z"
   },
   {
    "duration": 169,
    "start_time": "2023-01-12T14:09:28.145Z"
   },
   {
    "duration": 6431,
    "start_time": "2023-01-12T14:09:28.316Z"
   },
   {
    "duration": 1297,
    "start_time": "2023-01-12T14:09:51.108Z"
   },
   {
    "duration": 893,
    "start_time": "2023-01-12T14:09:52.407Z"
   },
   {
    "duration": 32,
    "start_time": "2023-01-12T14:09:53.302Z"
   },
   {
    "duration": 18,
    "start_time": "2023-01-12T14:09:53.337Z"
   },
   {
    "duration": 5,
    "start_time": "2023-01-12T14:09:53.357Z"
   },
   {
    "duration": 22,
    "start_time": "2023-01-12T14:09:53.364Z"
   },
   {
    "duration": 12,
    "start_time": "2023-01-12T14:09:53.388Z"
   },
   {
    "duration": 14,
    "start_time": "2023-01-12T14:09:53.401Z"
   },
   {
    "duration": 28,
    "start_time": "2023-01-12T14:09:53.417Z"
   },
   {
    "duration": 14,
    "start_time": "2023-01-12T14:09:53.448Z"
   },
   {
    "duration": 4,
    "start_time": "2023-01-12T14:09:53.464Z"
   },
   {
    "duration": 21,
    "start_time": "2023-01-12T14:09:53.470Z"
   },
   {
    "duration": 20,
    "start_time": "2023-01-12T14:09:53.493Z"
   },
   {
    "duration": 17,
    "start_time": "2023-01-12T14:09:53.515Z"
   },
   {
    "duration": 46,
    "start_time": "2023-01-12T14:09:53.535Z"
   },
   {
    "duration": 6,
    "start_time": "2023-01-12T14:09:53.583Z"
   },
   {
    "duration": 15,
    "start_time": "2023-01-12T14:09:53.590Z"
   },
   {
    "duration": 17,
    "start_time": "2023-01-12T14:09:53.607Z"
   },
   {
    "duration": 16,
    "start_time": "2023-01-12T14:09:53.628Z"
   },
   {
    "duration": 22,
    "start_time": "2023-01-12T14:09:53.646Z"
   },
   {
    "duration": 9,
    "start_time": "2023-01-12T14:09:53.670Z"
   },
   {
    "duration": 21,
    "start_time": "2023-01-12T14:09:53.681Z"
   },
   {
    "duration": 22,
    "start_time": "2023-01-12T14:09:53.704Z"
   },
   {
    "duration": 16,
    "start_time": "2023-01-12T14:09:53.736Z"
   },
   {
    "duration": 45,
    "start_time": "2023-01-12T14:09:53.754Z"
   },
   {
    "duration": 183,
    "start_time": "2023-01-12T14:09:53.802Z"
   },
   {
    "duration": 6455,
    "start_time": "2023-01-12T14:09:53.987Z"
   },
   {
    "duration": 6160,
    "start_time": "2023-01-12T14:14:27.497Z"
   },
   {
    "duration": 6383,
    "start_time": "2023-01-12T14:15:02.287Z"
   },
   {
    "duration": 6512,
    "start_time": "2023-01-12T14:15:17.665Z"
   },
   {
    "duration": 6419,
    "start_time": "2023-01-12T14:15:31.937Z"
   },
   {
    "duration": 6513,
    "start_time": "2023-01-12T14:15:46.106Z"
   },
   {
    "duration": 7149,
    "start_time": "2023-01-12T14:15:59.777Z"
   },
   {
    "duration": 6648,
    "start_time": "2023-01-12T14:24:59.631Z"
   },
   {
    "duration": 0,
    "start_time": "2023-01-12T14:25:27.064Z"
   },
   {
    "duration": 1251,
    "start_time": "2023-01-12T14:25:42.136Z"
   },
   {
    "duration": 1376,
    "start_time": "2023-01-12T14:25:43.389Z"
   },
   {
    "duration": 20,
    "start_time": "2023-01-12T14:25:44.767Z"
   },
   {
    "duration": 26,
    "start_time": "2023-01-12T14:25:44.789Z"
   },
   {
    "duration": 9,
    "start_time": "2023-01-12T14:25:44.818Z"
   },
   {
    "duration": 19,
    "start_time": "2023-01-12T14:25:44.832Z"
   },
   {
    "duration": 13,
    "start_time": "2023-01-12T14:25:44.853Z"
   },
   {
    "duration": 13,
    "start_time": "2023-01-12T14:25:44.868Z"
   },
   {
    "duration": 13,
    "start_time": "2023-01-12T14:25:44.884Z"
   },
   {
    "duration": 48,
    "start_time": "2023-01-12T14:25:44.898Z"
   },
   {
    "duration": 13,
    "start_time": "2023-01-12T14:25:44.948Z"
   },
   {
    "duration": 16,
    "start_time": "2023-01-12T14:25:44.963Z"
   },
   {
    "duration": 21,
    "start_time": "2023-01-12T14:25:44.982Z"
   },
   {
    "duration": 5,
    "start_time": "2023-01-12T14:25:45.007Z"
   },
   {
    "duration": 58,
    "start_time": "2023-01-12T14:25:45.014Z"
   },
   {
    "duration": 6,
    "start_time": "2023-01-12T14:25:45.075Z"
   },
   {
    "duration": 20,
    "start_time": "2023-01-12T14:25:45.084Z"
   },
   {
    "duration": 7,
    "start_time": "2023-01-12T14:25:45.106Z"
   },
   {
    "duration": 19,
    "start_time": "2023-01-12T14:25:45.115Z"
   },
   {
    "duration": 27,
    "start_time": "2023-01-12T14:25:45.136Z"
   },
   {
    "duration": 11,
    "start_time": "2023-01-12T14:25:45.164Z"
   },
   {
    "duration": 12,
    "start_time": "2023-01-12T14:25:45.176Z"
   },
   {
    "duration": 11,
    "start_time": "2023-01-12T14:25:45.190Z"
   },
   {
    "duration": 25,
    "start_time": "2023-01-12T14:25:45.223Z"
   },
   {
    "duration": 64,
    "start_time": "2023-01-12T14:25:45.250Z"
   },
   {
    "duration": 186,
    "start_time": "2023-01-12T14:25:45.316Z"
   },
   {
    "duration": 6236,
    "start_time": "2023-01-12T14:25:45.504Z"
   },
   {
    "duration": 524,
    "start_time": "2023-01-12T14:27:16.213Z"
   },
   {
    "duration": 6028,
    "start_time": "2023-01-12T14:27:20.396Z"
   },
   {
    "duration": 6188,
    "start_time": "2023-01-12T14:28:29.111Z"
   },
   {
    "duration": 6129,
    "start_time": "2023-01-12T14:28:38.910Z"
   },
   {
    "duration": 6120,
    "start_time": "2023-01-12T14:30:29.628Z"
   },
   {
    "duration": 6202,
    "start_time": "2023-01-12T14:31:01.016Z"
   },
   {
    "duration": 23,
    "start_time": "2023-01-12T14:38:21.058Z"
   },
   {
    "duration": 32,
    "start_time": "2023-01-12T14:38:37.517Z"
   },
   {
    "duration": 1319,
    "start_time": "2023-01-12T14:38:56.707Z"
   },
   {
    "duration": 1416,
    "start_time": "2023-01-12T14:38:58.035Z"
   },
   {
    "duration": 20,
    "start_time": "2023-01-12T14:38:59.453Z"
   },
   {
    "duration": 14,
    "start_time": "2023-01-12T14:38:59.476Z"
   },
   {
    "duration": 7,
    "start_time": "2023-01-12T14:38:59.494Z"
   },
   {
    "duration": 33,
    "start_time": "2023-01-12T14:38:59.502Z"
   },
   {
    "duration": 18,
    "start_time": "2023-01-12T14:38:59.543Z"
   },
   {
    "duration": 20,
    "start_time": "2023-01-12T14:38:59.564Z"
   },
   {
    "duration": 20,
    "start_time": "2023-01-12T14:38:59.587Z"
   },
   {
    "duration": 25,
    "start_time": "2023-01-12T14:38:59.608Z"
   },
   {
    "duration": 16,
    "start_time": "2023-01-12T14:38:59.638Z"
   },
   {
    "duration": 18,
    "start_time": "2023-01-12T14:38:59.655Z"
   },
   {
    "duration": 19,
    "start_time": "2023-01-12T14:38:59.675Z"
   },
   {
    "duration": 5,
    "start_time": "2023-01-12T14:38:59.697Z"
   },
   {
    "duration": 49,
    "start_time": "2023-01-12T14:38:59.704Z"
   },
   {
    "duration": 7,
    "start_time": "2023-01-12T14:38:59.755Z"
   },
   {
    "duration": 15,
    "start_time": "2023-01-12T14:38:59.763Z"
   },
   {
    "duration": 9,
    "start_time": "2023-01-12T14:38:59.780Z"
   },
   {
    "duration": 8,
    "start_time": "2023-01-12T14:38:59.791Z"
   },
   {
    "duration": 66,
    "start_time": "2023-01-12T14:38:59.800Z"
   },
   {
    "duration": 18,
    "start_time": "2023-01-12T14:38:59.869Z"
   },
   {
    "duration": 10,
    "start_time": "2023-01-12T14:38:59.889Z"
   },
   {
    "duration": 28,
    "start_time": "2023-01-12T14:38:59.901Z"
   },
   {
    "duration": 25,
    "start_time": "2023-01-12T14:38:59.939Z"
   },
   {
    "duration": 46,
    "start_time": "2023-01-12T14:38:59.966Z"
   },
   {
    "duration": 173,
    "start_time": "2023-01-12T14:39:00.014Z"
   },
   {
    "duration": 124,
    "start_time": "2023-01-12T14:39:00.189Z"
   },
   {
    "duration": 5436,
    "start_time": "2023-01-12T14:40:53.476Z"
   },
   {
    "duration": 1445,
    "start_time": "2023-01-12T19:17:35.775Z"
   },
   {
    "duration": 1120,
    "start_time": "2023-01-12T19:17:37.227Z"
   },
   {
    "duration": 17,
    "start_time": "2023-01-12T19:17:38.349Z"
   },
   {
    "duration": 13,
    "start_time": "2023-01-12T19:17:38.368Z"
   },
   {
    "duration": 4,
    "start_time": "2023-01-12T19:17:38.384Z"
   },
   {
    "duration": 7,
    "start_time": "2023-01-12T19:17:38.390Z"
   },
   {
    "duration": 29,
    "start_time": "2023-01-12T19:17:38.398Z"
   },
   {
    "duration": 24,
    "start_time": "2023-01-12T19:17:38.436Z"
   },
   {
    "duration": 12,
    "start_time": "2023-01-12T19:17:38.461Z"
   },
   {
    "duration": 31,
    "start_time": "2023-01-12T19:17:38.475Z"
   },
   {
    "duration": 7,
    "start_time": "2023-01-12T19:17:38.508Z"
   },
   {
    "duration": 42,
    "start_time": "2023-01-12T19:17:38.516Z"
   },
   {
    "duration": 18,
    "start_time": "2023-01-12T19:17:38.559Z"
   },
   {
    "duration": 11,
    "start_time": "2023-01-12T19:17:38.580Z"
   },
   {
    "duration": 60,
    "start_time": "2023-01-12T19:17:38.592Z"
   },
   {
    "duration": 5,
    "start_time": "2023-01-12T19:17:38.654Z"
   },
   {
    "duration": 16,
    "start_time": "2023-01-12T19:17:38.660Z"
   },
   {
    "duration": 7,
    "start_time": "2023-01-12T19:17:38.677Z"
   },
   {
    "duration": 10,
    "start_time": "2023-01-12T19:17:38.685Z"
   },
   {
    "duration": 35,
    "start_time": "2023-01-12T19:17:38.696Z"
   },
   {
    "duration": 25,
    "start_time": "2023-01-12T19:17:38.733Z"
   },
   {
    "duration": 15,
    "start_time": "2023-01-12T19:17:38.759Z"
   },
   {
    "duration": 13,
    "start_time": "2023-01-12T19:17:38.776Z"
   },
   {
    "duration": 13,
    "start_time": "2023-01-12T19:17:38.791Z"
   },
   {
    "duration": 49,
    "start_time": "2023-01-12T19:17:38.806Z"
   },
   {
    "duration": 169,
    "start_time": "2023-01-12T19:17:38.857Z"
   },
   {
    "duration": 15,
    "start_time": "2023-01-12T19:17:39.028Z"
   },
   {
    "duration": 5127,
    "start_time": "2023-01-12T19:17:39.044Z"
   },
   {
    "duration": 36,
    "start_time": "2023-01-12T19:26:40.197Z"
   },
   {
    "duration": 118,
    "start_time": "2023-01-12T19:27:48.072Z"
   },
   {
    "duration": 17,
    "start_time": "2023-01-12T19:27:59.591Z"
   },
   {
    "duration": 21,
    "start_time": "2023-01-12T19:28:14.416Z"
   },
   {
    "duration": 25,
    "start_time": "2023-01-12T19:29:26.774Z"
   },
   {
    "duration": 3890,
    "start_time": "2023-01-12T19:30:42.921Z"
   },
   {
    "duration": 5210,
    "start_time": "2023-01-12T19:31:22.959Z"
   },
   {
    "duration": 1113,
    "start_time": "2023-01-12T19:35:25.116Z"
   },
   {
    "duration": 1060,
    "start_time": "2023-01-12T19:35:26.231Z"
   },
   {
    "duration": 26,
    "start_time": "2023-01-12T19:35:27.293Z"
   },
   {
    "duration": 12,
    "start_time": "2023-01-12T19:35:27.321Z"
   },
   {
    "duration": 9,
    "start_time": "2023-01-12T19:35:27.335Z"
   },
   {
    "duration": 9,
    "start_time": "2023-01-12T19:35:27.346Z"
   },
   {
    "duration": 12,
    "start_time": "2023-01-12T19:35:27.356Z"
   },
   {
    "duration": 9,
    "start_time": "2023-01-12T19:35:27.369Z"
   },
   {
    "duration": 21,
    "start_time": "2023-01-12T19:35:27.379Z"
   },
   {
    "duration": 18,
    "start_time": "2023-01-12T19:35:27.402Z"
   },
   {
    "duration": 16,
    "start_time": "2023-01-12T19:35:27.421Z"
   },
   {
    "duration": 10,
    "start_time": "2023-01-12T19:35:27.439Z"
   },
   {
    "duration": 18,
    "start_time": "2023-01-12T19:35:27.451Z"
   },
   {
    "duration": 5,
    "start_time": "2023-01-12T19:35:27.471Z"
   },
   {
    "duration": 51,
    "start_time": "2023-01-12T19:35:27.477Z"
   },
   {
    "duration": 7,
    "start_time": "2023-01-12T19:35:27.529Z"
   },
   {
    "duration": 16,
    "start_time": "2023-01-12T19:35:27.538Z"
   },
   {
    "duration": 6,
    "start_time": "2023-01-12T19:35:27.556Z"
   },
   {
    "duration": 8,
    "start_time": "2023-01-12T19:35:27.563Z"
   },
   {
    "duration": 23,
    "start_time": "2023-01-12T19:35:27.572Z"
   },
   {
    "duration": 31,
    "start_time": "2023-01-12T19:35:27.596Z"
   },
   {
    "duration": 9,
    "start_time": "2023-01-12T19:35:27.629Z"
   },
   {
    "duration": 19,
    "start_time": "2023-01-12T19:35:27.639Z"
   },
   {
    "duration": 12,
    "start_time": "2023-01-12T19:35:27.660Z"
   },
   {
    "duration": 47,
    "start_time": "2023-01-12T19:35:27.674Z"
   },
   {
    "duration": 148,
    "start_time": "2023-01-12T19:35:27.727Z"
   },
   {
    "duration": 17,
    "start_time": "2023-01-12T19:35:27.876Z"
   },
   {
    "duration": 16,
    "start_time": "2023-01-12T19:35:27.895Z"
   },
   {
    "duration": 692,
    "start_time": "2023-01-12T19:35:27.913Z"
   },
   {
    "duration": 606,
    "start_time": "2023-01-12T19:35:50.229Z"
   },
   {
    "duration": 4663,
    "start_time": "2023-01-12T19:36:05.162Z"
   },
   {
    "duration": 4452,
    "start_time": "2023-01-12T19:37:14.388Z"
   },
   {
    "duration": 1097,
    "start_time": "2023-01-12T19:38:24.174Z"
   },
   {
    "duration": 913,
    "start_time": "2023-01-12T19:38:25.273Z"
   },
   {
    "duration": 21,
    "start_time": "2023-01-12T19:38:26.188Z"
   },
   {
    "duration": 22,
    "start_time": "2023-01-12T19:38:26.211Z"
   },
   {
    "duration": 7,
    "start_time": "2023-01-12T19:38:26.235Z"
   },
   {
    "duration": 9,
    "start_time": "2023-01-12T19:38:26.243Z"
   },
   {
    "duration": 8,
    "start_time": "2023-01-12T19:38:26.253Z"
   },
   {
    "duration": 8,
    "start_time": "2023-01-12T19:38:26.262Z"
   },
   {
    "duration": 8,
    "start_time": "2023-01-12T19:38:26.271Z"
   },
   {
    "duration": 11,
    "start_time": "2023-01-12T19:38:26.282Z"
   },
   {
    "duration": 21,
    "start_time": "2023-01-12T19:38:26.294Z"
   },
   {
    "duration": 42,
    "start_time": "2023-01-12T19:38:26.318Z"
   },
   {
    "duration": 23,
    "start_time": "2023-01-12T19:38:26.362Z"
   },
   {
    "duration": 5,
    "start_time": "2023-01-12T19:38:26.386Z"
   },
   {
    "duration": 42,
    "start_time": "2023-01-12T19:38:26.393Z"
   },
   {
    "duration": 7,
    "start_time": "2023-01-12T19:38:26.437Z"
   },
   {
    "duration": 14,
    "start_time": "2023-01-12T19:38:26.445Z"
   },
   {
    "duration": 7,
    "start_time": "2023-01-12T19:38:26.461Z"
   },
   {
    "duration": 7,
    "start_time": "2023-01-12T19:38:26.469Z"
   },
   {
    "duration": 69,
    "start_time": "2023-01-12T19:38:26.478Z"
   },
   {
    "duration": 12,
    "start_time": "2023-01-12T19:38:26.550Z"
   },
   {
    "duration": 10,
    "start_time": "2023-01-12T19:38:26.564Z"
   },
   {
    "duration": 21,
    "start_time": "2023-01-12T19:38:26.576Z"
   },
   {
    "duration": 18,
    "start_time": "2023-01-12T19:38:26.599Z"
   },
   {
    "duration": 71,
    "start_time": "2023-01-12T19:38:26.620Z"
   },
   {
    "duration": 166,
    "start_time": "2023-01-12T19:38:26.693Z"
   },
   {
    "duration": 4320,
    "start_time": "2023-01-12T19:38:26.860Z"
   },
   {
    "duration": 125,
    "start_time": "2023-01-12T19:39:12.173Z"
   },
   {
    "duration": 111,
    "start_time": "2023-01-12T19:47:43.761Z"
   },
   {
    "duration": 847,
    "start_time": "2023-01-12T19:48:00.954Z"
   },
   {
    "duration": 917,
    "start_time": "2023-01-12T19:48:31.862Z"
   },
   {
    "duration": 1131,
    "start_time": "2023-01-12T19:48:45.154Z"
   },
   {
    "duration": 815,
    "start_time": "2023-01-12T19:50:27.456Z"
   },
   {
    "duration": 1160,
    "start_time": "2023-01-13T19:21:15.581Z"
   },
   {
    "duration": 1015,
    "start_time": "2023-01-13T19:21:16.742Z"
   },
   {
    "duration": 17,
    "start_time": "2023-01-13T19:21:17.758Z"
   },
   {
    "duration": 12,
    "start_time": "2023-01-13T19:21:17.777Z"
   },
   {
    "duration": 20,
    "start_time": "2023-01-13T19:21:18.034Z"
   },
   {
    "duration": 86,
    "start_time": "2023-01-13T19:21:40.816Z"
   },
   {
    "duration": 3,
    "start_time": "2023-01-13T19:34:21.136Z"
   },
   {
    "duration": 1170,
    "start_time": "2023-01-13T19:34:21.141Z"
   },
   {
    "duration": 14,
    "start_time": "2023-01-13T19:34:22.313Z"
   },
   {
    "duration": 16,
    "start_time": "2023-01-13T19:34:22.329Z"
   },
   {
    "duration": 7,
    "start_time": "2023-01-13T19:34:22.346Z"
   },
   {
    "duration": 8,
    "start_time": "2023-01-13T19:34:22.354Z"
   },
   {
    "duration": 9,
    "start_time": "2023-01-13T19:34:22.364Z"
   },
   {
    "duration": 8,
    "start_time": "2023-01-13T19:34:22.374Z"
   },
   {
    "duration": 8,
    "start_time": "2023-01-13T19:34:22.412Z"
   },
   {
    "duration": 14,
    "start_time": "2023-01-13T19:34:22.422Z"
   },
   {
    "duration": 3,
    "start_time": "2023-01-13T19:34:22.437Z"
   },
   {
    "duration": 14,
    "start_time": "2023-01-13T19:34:22.442Z"
   },
   {
    "duration": 16,
    "start_time": "2023-01-13T19:34:22.458Z"
   },
   {
    "duration": 4,
    "start_time": "2023-01-13T19:34:22.475Z"
   },
   {
    "duration": 58,
    "start_time": "2023-01-13T19:34:22.480Z"
   },
   {
    "duration": 6,
    "start_time": "2023-01-13T19:34:22.539Z"
   },
   {
    "duration": 17,
    "start_time": "2023-01-13T19:34:22.547Z"
   },
   {
    "duration": 4,
    "start_time": "2023-01-13T19:34:22.566Z"
   },
   {
    "duration": 6,
    "start_time": "2023-01-13T19:34:22.572Z"
   },
   {
    "duration": 47,
    "start_time": "2023-01-13T19:34:22.580Z"
   },
   {
    "duration": 10,
    "start_time": "2023-01-13T19:34:22.629Z"
   },
   {
    "duration": 9,
    "start_time": "2023-01-13T19:34:22.640Z"
   },
   {
    "duration": 10,
    "start_time": "2023-01-13T19:34:22.651Z"
   },
   {
    "duration": 14,
    "start_time": "2023-01-13T19:34:22.664Z"
   },
   {
    "duration": 73,
    "start_time": "2023-01-13T19:34:22.679Z"
   },
   {
    "duration": 150,
    "start_time": "2023-01-13T19:34:22.754Z"
   },
   {
    "duration": 4320,
    "start_time": "2023-01-13T19:34:22.906Z"
   },
   {
    "duration": 797,
    "start_time": "2023-01-13T19:34:27.228Z"
   },
   {
    "duration": 13,
    "start_time": "2023-01-13T19:34:32.877Z"
   },
   {
    "duration": 5,
    "start_time": "2023-01-13T19:34:39.540Z"
   },
   {
    "duration": 92,
    "start_time": "2023-01-13T19:34:46.641Z"
   },
   {
    "duration": 6,
    "start_time": "2023-01-13T19:34:53.666Z"
   },
   {
    "duration": 6,
    "start_time": "2023-01-13T19:34:59.909Z"
   },
   {
    "duration": 1105,
    "start_time": "2023-01-13T19:36:21.437Z"
   },
   {
    "duration": 914,
    "start_time": "2023-01-13T19:36:22.544Z"
   },
   {
    "duration": 17,
    "start_time": "2023-01-13T19:36:23.460Z"
   },
   {
    "duration": 13,
    "start_time": "2023-01-13T19:36:23.480Z"
   },
   {
    "duration": 4,
    "start_time": "2023-01-13T19:36:23.494Z"
   },
   {
    "duration": 8,
    "start_time": "2023-01-13T19:36:23.499Z"
   },
   {
    "duration": 11,
    "start_time": "2023-01-13T19:36:23.509Z"
   },
   {
    "duration": 9,
    "start_time": "2023-01-13T19:36:23.522Z"
   },
   {
    "duration": 8,
    "start_time": "2023-01-13T19:36:23.532Z"
   },
   {
    "duration": 11,
    "start_time": "2023-01-13T19:36:23.543Z"
   },
   {
    "duration": 3,
    "start_time": "2023-01-13T19:36:23.555Z"
   },
   {
    "duration": 20,
    "start_time": "2023-01-13T19:36:23.559Z"
   },
   {
    "duration": 17,
    "start_time": "2023-01-13T19:36:23.580Z"
   },
   {
    "duration": 15,
    "start_time": "2023-01-13T19:36:23.598Z"
   },
   {
    "duration": 30,
    "start_time": "2023-01-13T19:36:23.615Z"
   },
   {
    "duration": 6,
    "start_time": "2023-01-13T19:36:23.647Z"
   },
   {
    "duration": 9,
    "start_time": "2023-01-13T19:36:23.654Z"
   },
   {
    "duration": 4,
    "start_time": "2023-01-13T19:36:23.665Z"
   },
   {
    "duration": 6,
    "start_time": "2023-01-13T19:36:23.671Z"
   },
   {
    "duration": 49,
    "start_time": "2023-01-13T19:36:23.678Z"
   },
   {
    "duration": 8,
    "start_time": "2023-01-13T19:36:23.729Z"
   },
   {
    "duration": 8,
    "start_time": "2023-01-13T19:36:23.738Z"
   },
   {
    "duration": 13,
    "start_time": "2023-01-13T19:36:23.747Z"
   },
   {
    "duration": 12,
    "start_time": "2023-01-13T19:36:23.762Z"
   },
   {
    "duration": 68,
    "start_time": "2023-01-13T19:36:23.775Z"
   },
   {
    "duration": 143,
    "start_time": "2023-01-13T19:36:23.845Z"
   },
   {
    "duration": 4397,
    "start_time": "2023-01-13T19:36:23.990Z"
   },
   {
    "duration": 879,
    "start_time": "2023-01-13T19:36:28.390Z"
   },
   {
    "duration": 1306,
    "start_time": "2023-01-14T08:12:12.996Z"
   },
   {
    "duration": 1162,
    "start_time": "2023-01-14T08:12:14.303Z"
   },
   {
    "duration": 17,
    "start_time": "2023-01-14T08:12:15.467Z"
   },
   {
    "duration": 12,
    "start_time": "2023-01-14T08:12:15.486Z"
   },
   {
    "duration": 5,
    "start_time": "2023-01-14T08:12:15.499Z"
   },
   {
    "duration": 8,
    "start_time": "2023-01-14T08:12:15.505Z"
   },
   {
    "duration": 8,
    "start_time": "2023-01-14T08:12:15.515Z"
   },
   {
    "duration": 10,
    "start_time": "2023-01-14T08:12:15.524Z"
   },
   {
    "duration": 14,
    "start_time": "2023-01-14T08:12:15.535Z"
   },
   {
    "duration": 4,
    "start_time": "2023-01-14T08:12:15.551Z"
   },
   {
    "duration": 22,
    "start_time": "2023-01-14T08:12:15.556Z"
   },
   {
    "duration": 17,
    "start_time": "2023-01-14T08:12:15.596Z"
   },
   {
    "duration": 6,
    "start_time": "2023-01-14T08:12:15.615Z"
   },
   {
    "duration": 30,
    "start_time": "2023-01-14T08:12:15.622Z"
   },
   {
    "duration": 5,
    "start_time": "2023-01-14T08:12:15.653Z"
   },
   {
    "duration": 14,
    "start_time": "2023-01-14T08:12:15.660Z"
   },
   {
    "duration": 26,
    "start_time": "2023-01-14T08:12:15.676Z"
   },
   {
    "duration": 23,
    "start_time": "2023-01-14T08:12:15.703Z"
   },
   {
    "duration": 28,
    "start_time": "2023-01-14T08:12:15.727Z"
   },
   {
    "duration": 9,
    "start_time": "2023-01-14T08:12:15.756Z"
   },
   {
    "duration": 11,
    "start_time": "2023-01-14T08:12:15.767Z"
   },
   {
    "duration": 13,
    "start_time": "2023-01-14T08:12:15.780Z"
   },
   {
    "duration": 13,
    "start_time": "2023-01-14T08:12:15.796Z"
   },
   {
    "duration": 43,
    "start_time": "2023-01-14T08:12:15.810Z"
   },
   {
    "duration": 191,
    "start_time": "2023-01-14T08:12:15.855Z"
   },
   {
    "duration": 4586,
    "start_time": "2023-01-14T08:12:16.048Z"
   },
   {
    "duration": 882,
    "start_time": "2023-01-14T08:12:20.636Z"
   },
   {
    "duration": 1120,
    "start_time": "2023-01-14T08:18:04.222Z"
   },
   {
    "duration": 924,
    "start_time": "2023-01-14T08:18:05.343Z"
   },
   {
    "duration": 17,
    "start_time": "2023-01-14T08:18:06.271Z"
   },
   {
    "duration": 12,
    "start_time": "2023-01-14T08:18:06.289Z"
   },
   {
    "duration": 4,
    "start_time": "2023-01-14T08:18:06.303Z"
   },
   {
    "duration": 7,
    "start_time": "2023-01-14T08:18:06.308Z"
   },
   {
    "duration": 6,
    "start_time": "2023-01-14T08:18:06.317Z"
   },
   {
    "duration": 7,
    "start_time": "2023-01-14T08:18:06.325Z"
   },
   {
    "duration": 12,
    "start_time": "2023-01-14T08:18:06.334Z"
   },
   {
    "duration": 3,
    "start_time": "2023-01-14T08:18:06.348Z"
   },
   {
    "duration": 11,
    "start_time": "2023-01-14T08:18:06.353Z"
   },
   {
    "duration": 47,
    "start_time": "2023-01-14T08:18:06.365Z"
   },
   {
    "duration": 4,
    "start_time": "2023-01-14T08:18:06.415Z"
   },
   {
    "duration": 33,
    "start_time": "2023-01-14T08:18:06.421Z"
   },
   {
    "duration": 6,
    "start_time": "2023-01-14T08:18:06.455Z"
   },
   {
    "duration": 18,
    "start_time": "2023-01-14T08:18:06.462Z"
   },
   {
    "duration": 18,
    "start_time": "2023-01-14T08:18:06.481Z"
   },
   {
    "duration": 7,
    "start_time": "2023-01-14T08:18:06.501Z"
   },
   {
    "duration": 20,
    "start_time": "2023-01-14T08:18:06.510Z"
   },
   {
    "duration": 10,
    "start_time": "2023-01-14T08:18:06.532Z"
   },
   {
    "duration": 11,
    "start_time": "2023-01-14T08:18:06.543Z"
   },
   {
    "duration": 41,
    "start_time": "2023-01-14T08:18:06.556Z"
   },
   {
    "duration": 11,
    "start_time": "2023-01-14T08:18:06.599Z"
   },
   {
    "duration": 13,
    "start_time": "2023-01-14T08:18:06.612Z"
   },
   {
    "duration": 39,
    "start_time": "2023-01-14T08:18:06.627Z"
   },
   {
    "duration": 159,
    "start_time": "2023-01-14T08:18:06.668Z"
   },
   {
    "duration": 4379,
    "start_time": "2023-01-14T08:18:06.828Z"
   },
   {
    "duration": 796,
    "start_time": "2023-01-14T08:18:11.210Z"
   },
   {
    "duration": 1125,
    "start_time": "2023-01-14T08:22:43.790Z"
   },
   {
    "duration": 844,
    "start_time": "2023-01-14T08:22:44.917Z"
   },
   {
    "duration": 17,
    "start_time": "2023-01-14T08:22:45.762Z"
   },
   {
    "duration": 10,
    "start_time": "2023-01-14T08:22:45.781Z"
   },
   {
    "duration": 5,
    "start_time": "2023-01-14T08:22:45.793Z"
   },
   {
    "duration": 9,
    "start_time": "2023-01-14T08:22:45.800Z"
   },
   {
    "duration": 13,
    "start_time": "2023-01-14T08:22:45.810Z"
   },
   {
    "duration": 13,
    "start_time": "2023-01-14T08:22:45.825Z"
   },
   {
    "duration": 14,
    "start_time": "2023-01-14T08:22:45.839Z"
   },
   {
    "duration": 7,
    "start_time": "2023-01-14T08:22:45.855Z"
   },
   {
    "duration": 15,
    "start_time": "2023-01-14T08:22:45.863Z"
   },
   {
    "duration": 24,
    "start_time": "2023-01-14T08:22:45.879Z"
   },
   {
    "duration": 6,
    "start_time": "2023-01-14T08:22:45.904Z"
   },
   {
    "duration": 49,
    "start_time": "2023-01-14T08:22:45.911Z"
   },
   {
    "duration": 7,
    "start_time": "2023-01-14T08:22:45.961Z"
   },
   {
    "duration": 26,
    "start_time": "2023-01-14T08:22:45.970Z"
   },
   {
    "duration": 14,
    "start_time": "2023-01-14T08:22:45.998Z"
   },
   {
    "duration": 21,
    "start_time": "2023-01-14T08:22:46.014Z"
   },
   {
    "duration": 38,
    "start_time": "2023-01-14T08:22:46.037Z"
   },
   {
    "duration": 19,
    "start_time": "2023-01-14T08:22:46.077Z"
   },
   {
    "duration": 28,
    "start_time": "2023-01-14T08:22:46.098Z"
   },
   {
    "duration": 125,
    "start_time": "2023-01-14T08:22:46.128Z"
   },
   {
    "duration": 0,
    "start_time": "2023-01-14T08:22:46.255Z"
   },
   {
    "duration": 0,
    "start_time": "2023-01-14T08:22:46.257Z"
   },
   {
    "duration": 0,
    "start_time": "2023-01-14T08:22:46.258Z"
   },
   {
    "duration": 0,
    "start_time": "2023-01-14T08:22:46.259Z"
   },
   {
    "duration": 0,
    "start_time": "2023-01-14T08:22:46.260Z"
   },
   {
    "duration": 0,
    "start_time": "2023-01-14T08:22:46.261Z"
   },
   {
    "duration": 0,
    "start_time": "2023-01-14T08:22:46.262Z"
   },
   {
    "duration": 1135,
    "start_time": "2023-01-14T08:23:31.106Z"
   },
   {
    "duration": 890,
    "start_time": "2023-01-14T08:23:32.243Z"
   },
   {
    "duration": 19,
    "start_time": "2023-01-14T08:23:33.135Z"
   },
   {
    "duration": 13,
    "start_time": "2023-01-14T08:23:33.156Z"
   },
   {
    "duration": 5,
    "start_time": "2023-01-14T08:23:33.172Z"
   },
   {
    "duration": 30,
    "start_time": "2023-01-14T08:23:33.178Z"
   },
   {
    "duration": 13,
    "start_time": "2023-01-14T08:23:33.212Z"
   },
   {
    "duration": 13,
    "start_time": "2023-01-14T08:23:33.227Z"
   },
   {
    "duration": 16,
    "start_time": "2023-01-14T08:23:33.241Z"
   },
   {
    "duration": 7,
    "start_time": "2023-01-14T08:23:33.259Z"
   },
   {
    "duration": 14,
    "start_time": "2023-01-14T08:23:33.268Z"
   },
   {
    "duration": 30,
    "start_time": "2023-01-14T08:23:33.284Z"
   },
   {
    "duration": 5,
    "start_time": "2023-01-14T08:23:33.316Z"
   },
   {
    "duration": 28,
    "start_time": "2023-01-14T08:23:33.324Z"
   },
   {
    "duration": 5,
    "start_time": "2023-01-14T08:23:33.354Z"
   },
   {
    "duration": 9,
    "start_time": "2023-01-14T08:23:33.361Z"
   },
   {
    "duration": 29,
    "start_time": "2023-01-14T08:23:33.372Z"
   },
   {
    "duration": 21,
    "start_time": "2023-01-14T08:23:33.404Z"
   },
   {
    "duration": 19,
    "start_time": "2023-01-14T08:23:33.427Z"
   },
   {
    "duration": 8,
    "start_time": "2023-01-14T08:23:33.449Z"
   },
   {
    "duration": 9,
    "start_time": "2023-01-14T08:23:33.459Z"
   },
   {
    "duration": 4,
    "start_time": "2023-01-14T08:23:33.470Z"
   },
   {
    "duration": 30,
    "start_time": "2023-01-14T08:23:33.475Z"
   },
   {
    "duration": 18,
    "start_time": "2023-01-14T08:23:33.507Z"
   },
   {
    "duration": 12,
    "start_time": "2023-01-14T08:23:33.527Z"
   },
   {
    "duration": 68,
    "start_time": "2023-01-14T08:23:33.540Z"
   },
   {
    "duration": 146,
    "start_time": "2023-01-14T08:23:33.609Z"
   },
   {
    "duration": 4772,
    "start_time": "2023-01-14T08:23:33.756Z"
   },
   {
    "duration": 860,
    "start_time": "2023-01-14T08:23:38.529Z"
   },
   {
    "duration": 1122,
    "start_time": "2023-01-14T08:29:46.965Z"
   },
   {
    "duration": 800,
    "start_time": "2023-01-14T08:29:48.089Z"
   },
   {
    "duration": 22,
    "start_time": "2023-01-14T08:29:48.891Z"
   },
   {
    "duration": 12,
    "start_time": "2023-01-14T08:29:48.915Z"
   },
   {
    "duration": 4,
    "start_time": "2023-01-14T08:29:48.929Z"
   },
   {
    "duration": 8,
    "start_time": "2023-01-14T08:29:48.934Z"
   },
   {
    "duration": 8,
    "start_time": "2023-01-14T08:29:48.943Z"
   },
   {
    "duration": 11,
    "start_time": "2023-01-14T08:29:48.952Z"
   },
   {
    "duration": 36,
    "start_time": "2023-01-14T08:29:48.965Z"
   },
   {
    "duration": 5,
    "start_time": "2023-01-14T08:29:49.004Z"
   },
   {
    "duration": 13,
    "start_time": "2023-01-14T08:29:49.011Z"
   },
   {
    "duration": 17,
    "start_time": "2023-01-14T08:29:49.025Z"
   },
   {
    "duration": 4,
    "start_time": "2023-01-14T08:29:49.043Z"
   },
   {
    "duration": 68,
    "start_time": "2023-01-14T08:29:49.049Z"
   },
   {
    "duration": 7,
    "start_time": "2023-01-14T08:29:49.119Z"
   },
   {
    "duration": 9,
    "start_time": "2023-01-14T08:29:49.129Z"
   },
   {
    "duration": 5,
    "start_time": "2023-01-14T08:29:49.140Z"
   },
   {
    "duration": 7,
    "start_time": "2023-01-14T08:29:49.147Z"
   },
   {
    "duration": 54,
    "start_time": "2023-01-14T08:29:49.156Z"
   },
   {
    "duration": 9,
    "start_time": "2023-01-14T08:29:49.213Z"
   },
   {
    "duration": 13,
    "start_time": "2023-01-14T08:29:49.224Z"
   },
   {
    "duration": 4,
    "start_time": "2023-01-14T08:29:49.238Z"
   },
   {
    "duration": 10,
    "start_time": "2023-01-14T08:29:49.244Z"
   },
   {
    "duration": 41,
    "start_time": "2023-01-14T08:29:49.256Z"
   },
   {
    "duration": 16,
    "start_time": "2023-01-14T08:29:49.299Z"
   },
   {
    "duration": 44,
    "start_time": "2023-01-14T08:29:49.317Z"
   },
   {
    "duration": 182,
    "start_time": "2023-01-14T08:29:49.363Z"
   },
   {
    "duration": 4809,
    "start_time": "2023-01-14T08:29:49.548Z"
   },
   {
    "duration": 948,
    "start_time": "2023-01-14T08:29:54.360Z"
   },
   {
    "duration": 1174,
    "start_time": "2023-01-14T08:31:04.214Z"
   },
   {
    "duration": 864,
    "start_time": "2023-01-14T08:31:05.390Z"
   },
   {
    "duration": 22,
    "start_time": "2023-01-14T08:31:06.256Z"
   },
   {
    "duration": 45,
    "start_time": "2023-01-14T08:31:06.281Z"
   },
   {
    "duration": 11,
    "start_time": "2023-01-14T08:31:06.328Z"
   },
   {
    "duration": 17,
    "start_time": "2023-01-14T08:31:06.341Z"
   },
   {
    "duration": 28,
    "start_time": "2023-01-14T08:31:06.360Z"
   },
   {
    "duration": 23,
    "start_time": "2023-01-14T08:31:06.391Z"
   },
   {
    "duration": 18,
    "start_time": "2023-01-14T08:31:06.415Z"
   },
   {
    "duration": 4,
    "start_time": "2023-01-14T08:31:06.435Z"
   },
   {
    "duration": 13,
    "start_time": "2023-01-14T08:31:06.441Z"
   },
   {
    "duration": 39,
    "start_time": "2023-01-14T08:31:06.455Z"
   },
   {
    "duration": 11,
    "start_time": "2023-01-14T08:31:06.496Z"
   },
   {
    "duration": 35,
    "start_time": "2023-01-14T08:31:06.510Z"
   },
   {
    "duration": 5,
    "start_time": "2023-01-14T08:31:06.547Z"
   },
   {
    "duration": 13,
    "start_time": "2023-01-14T08:31:06.554Z"
   },
   {
    "duration": 27,
    "start_time": "2023-01-14T08:31:06.569Z"
   },
   {
    "duration": 9,
    "start_time": "2023-01-14T08:31:06.598Z"
   },
   {
    "duration": 29,
    "start_time": "2023-01-14T08:31:06.609Z"
   },
   {
    "duration": 8,
    "start_time": "2023-01-14T08:31:06.640Z"
   },
   {
    "duration": 10,
    "start_time": "2023-01-14T08:31:06.649Z"
   },
   {
    "duration": 5,
    "start_time": "2023-01-14T08:31:06.660Z"
   },
   {
    "duration": 37,
    "start_time": "2023-01-14T08:31:06.666Z"
   },
   {
    "duration": 13,
    "start_time": "2023-01-14T08:31:06.705Z"
   },
   {
    "duration": 14,
    "start_time": "2023-01-14T08:31:06.719Z"
   },
   {
    "duration": 81,
    "start_time": "2023-01-14T08:31:06.735Z"
   },
   {
    "duration": 150,
    "start_time": "2023-01-14T08:31:06.819Z"
   },
   {
    "duration": 4796,
    "start_time": "2023-01-14T08:31:06.972Z"
   },
   {
    "duration": 887,
    "start_time": "2023-01-14T08:31:11.770Z"
   },
   {
    "duration": 1179,
    "start_time": "2023-01-14T08:33:01.497Z"
   },
   {
    "duration": 797,
    "start_time": "2023-01-14T08:33:02.678Z"
   },
   {
    "duration": 21,
    "start_time": "2023-01-14T08:33:03.477Z"
   },
   {
    "duration": 14,
    "start_time": "2023-01-14T08:33:03.499Z"
   },
   {
    "duration": 4,
    "start_time": "2023-01-14T08:33:03.515Z"
   },
   {
    "duration": 12,
    "start_time": "2023-01-14T08:33:03.520Z"
   },
   {
    "duration": 8,
    "start_time": "2023-01-14T08:33:03.534Z"
   },
   {
    "duration": 10,
    "start_time": "2023-01-14T08:33:03.544Z"
   },
   {
    "duration": 43,
    "start_time": "2023-01-14T08:33:03.556Z"
   },
   {
    "duration": 6,
    "start_time": "2023-01-14T08:33:03.600Z"
   },
   {
    "duration": 13,
    "start_time": "2023-01-14T08:33:03.608Z"
   },
   {
    "duration": 18,
    "start_time": "2023-01-14T08:33:03.624Z"
   },
   {
    "duration": 5,
    "start_time": "2023-01-14T08:33:03.644Z"
   },
   {
    "duration": 63,
    "start_time": "2023-01-14T08:33:03.652Z"
   },
   {
    "duration": 6,
    "start_time": "2023-01-14T08:33:03.717Z"
   },
   {
    "duration": 14,
    "start_time": "2023-01-14T08:33:03.724Z"
   },
   {
    "duration": 5,
    "start_time": "2023-01-14T08:33:03.740Z"
   },
   {
    "duration": 9,
    "start_time": "2023-01-14T08:33:03.746Z"
   },
   {
    "duration": 55,
    "start_time": "2023-01-14T08:33:03.756Z"
   },
   {
    "duration": 9,
    "start_time": "2023-01-14T08:33:03.812Z"
   },
   {
    "duration": 10,
    "start_time": "2023-01-14T08:33:03.823Z"
   },
   {
    "duration": 4,
    "start_time": "2023-01-14T08:33:03.835Z"
   },
   {
    "duration": 24,
    "start_time": "2023-01-14T08:33:03.841Z"
   },
   {
    "duration": 17,
    "start_time": "2023-01-14T08:33:03.897Z"
   },
   {
    "duration": 21,
    "start_time": "2023-01-14T08:33:03.916Z"
   },
   {
    "duration": 74,
    "start_time": "2023-01-14T08:33:03.940Z"
   },
   {
    "duration": 154,
    "start_time": "2023-01-14T08:33:04.016Z"
   },
   {
    "duration": 3678,
    "start_time": "2023-01-14T08:33:04.173Z"
   },
   {
    "duration": 1017,
    "start_time": "2023-01-14T08:33:07.853Z"
   },
   {
    "duration": 11,
    "start_time": "2023-01-14T08:38:27.144Z"
   },
   {
    "duration": 4,
    "start_time": "2023-01-14T08:39:37.147Z"
   },
   {
    "duration": 19,
    "start_time": "2023-01-14T08:39:42.294Z"
   },
   {
    "duration": 17,
    "start_time": "2023-01-14T08:39:59.853Z"
   },
   {
    "duration": 1087,
    "start_time": "2023-01-14T08:40:07.753Z"
   },
   {
    "duration": 873,
    "start_time": "2023-01-14T08:40:08.842Z"
   },
   {
    "duration": 18,
    "start_time": "2023-01-14T08:40:09.717Z"
   },
   {
    "duration": 14,
    "start_time": "2023-01-14T08:40:09.736Z"
   },
   {
    "duration": 5,
    "start_time": "2023-01-14T08:40:09.752Z"
   },
   {
    "duration": 8,
    "start_time": "2023-01-14T08:40:09.759Z"
   },
   {
    "duration": 29,
    "start_time": "2023-01-14T08:40:09.769Z"
   },
   {
    "duration": 13,
    "start_time": "2023-01-14T08:40:09.800Z"
   },
   {
    "duration": 12,
    "start_time": "2023-01-14T08:40:09.817Z"
   },
   {
    "duration": 3,
    "start_time": "2023-01-14T08:40:09.831Z"
   },
   {
    "duration": 17,
    "start_time": "2023-01-14T08:40:09.835Z"
   },
   {
    "duration": 18,
    "start_time": "2023-01-14T08:40:09.854Z"
   },
   {
    "duration": 27,
    "start_time": "2023-01-14T08:40:09.874Z"
   },
   {
    "duration": 35,
    "start_time": "2023-01-14T08:40:09.904Z"
   },
   {
    "duration": 7,
    "start_time": "2023-01-14T08:40:09.941Z"
   },
   {
    "duration": 15,
    "start_time": "2023-01-14T08:40:09.949Z"
   },
   {
    "duration": 17,
    "start_time": "2023-01-14T08:40:09.966Z"
   },
   {
    "duration": 14,
    "start_time": "2023-01-14T08:40:09.985Z"
   },
   {
    "duration": 29,
    "start_time": "2023-01-14T08:40:10.000Z"
   },
   {
    "duration": 9,
    "start_time": "2023-01-14T08:40:10.031Z"
   },
   {
    "duration": 11,
    "start_time": "2023-01-14T08:40:10.042Z"
   },
   {
    "duration": 12,
    "start_time": "2023-01-14T08:40:10.055Z"
   },
   {
    "duration": 33,
    "start_time": "2023-01-14T08:40:10.069Z"
   },
   {
    "duration": 11,
    "start_time": "2023-01-14T08:40:10.104Z"
   },
   {
    "duration": 14,
    "start_time": "2023-01-14T08:40:10.117Z"
   },
   {
    "duration": 72,
    "start_time": "2023-01-14T08:40:10.133Z"
   },
   {
    "duration": 163,
    "start_time": "2023-01-14T08:40:10.207Z"
   },
   {
    "duration": 3273,
    "start_time": "2023-01-14T08:40:10.372Z"
   },
   {
    "duration": 19,
    "start_time": "2023-01-14T08:40:13.647Z"
   },
   {
    "duration": 936,
    "start_time": "2023-01-14T08:40:13.668Z"
   },
   {
    "duration": 20,
    "start_time": "2023-01-14T08:40:53.393Z"
   },
   {
    "duration": 1132,
    "start_time": "2023-01-14T08:41:30.316Z"
   },
   {
    "duration": 946,
    "start_time": "2023-01-14T08:41:31.454Z"
   },
   {
    "duration": 19,
    "start_time": "2023-01-14T08:41:32.402Z"
   },
   {
    "duration": 13,
    "start_time": "2023-01-14T08:41:32.423Z"
   },
   {
    "duration": 9,
    "start_time": "2023-01-14T08:41:32.438Z"
   },
   {
    "duration": 9,
    "start_time": "2023-01-14T08:41:32.449Z"
   },
   {
    "duration": 10,
    "start_time": "2023-01-14T08:41:32.459Z"
   },
   {
    "duration": 32,
    "start_time": "2023-01-14T08:41:32.470Z"
   },
   {
    "duration": 13,
    "start_time": "2023-01-14T08:41:32.504Z"
   },
   {
    "duration": 4,
    "start_time": "2023-01-14T08:41:32.519Z"
   },
   {
    "duration": 20,
    "start_time": "2023-01-14T08:41:32.525Z"
   },
   {
    "duration": 25,
    "start_time": "2023-01-14T08:41:32.547Z"
   },
   {
    "duration": 27,
    "start_time": "2023-01-14T08:41:32.574Z"
   },
   {
    "duration": 28,
    "start_time": "2023-01-14T08:41:32.603Z"
   },
   {
    "duration": 5,
    "start_time": "2023-01-14T08:41:32.633Z"
   },
   {
    "duration": 10,
    "start_time": "2023-01-14T08:41:32.640Z"
   },
   {
    "duration": 5,
    "start_time": "2023-01-14T08:41:32.651Z"
   },
   {
    "duration": 6,
    "start_time": "2023-01-14T08:41:32.657Z"
   },
   {
    "duration": 20,
    "start_time": "2023-01-14T08:41:32.697Z"
   },
   {
    "duration": 8,
    "start_time": "2023-01-14T08:41:32.719Z"
   },
   {
    "duration": 10,
    "start_time": "2023-01-14T08:41:32.729Z"
   },
   {
    "duration": 4,
    "start_time": "2023-01-14T08:41:32.740Z"
   },
   {
    "duration": 10,
    "start_time": "2023-01-14T08:41:32.746Z"
   },
   {
    "duration": 43,
    "start_time": "2023-01-14T08:41:32.758Z"
   },
   {
    "duration": 14,
    "start_time": "2023-01-14T08:41:32.802Z"
   },
   {
    "duration": 42,
    "start_time": "2023-01-14T08:41:32.817Z"
   },
   {
    "duration": 158,
    "start_time": "2023-01-14T08:41:32.862Z"
   },
   {
    "duration": 3304,
    "start_time": "2023-01-14T08:41:33.021Z"
   },
   {
    "duration": 9,
    "start_time": "2023-01-14T08:41:36.327Z"
   },
   {
    "duration": 912,
    "start_time": "2023-01-14T08:41:36.338Z"
   },
   {
    "duration": 1159,
    "start_time": "2023-01-14T08:45:49.976Z"
   },
   {
    "duration": 921,
    "start_time": "2023-01-14T08:45:51.137Z"
   },
   {
    "duration": 19,
    "start_time": "2023-01-14T08:45:52.061Z"
   },
   {
    "duration": 13,
    "start_time": "2023-01-14T08:45:52.082Z"
   },
   {
    "duration": 4,
    "start_time": "2023-01-14T08:45:52.097Z"
   },
   {
    "duration": 8,
    "start_time": "2023-01-14T08:45:52.102Z"
   },
   {
    "duration": 8,
    "start_time": "2023-01-14T08:45:52.111Z"
   },
   {
    "duration": 9,
    "start_time": "2023-01-14T08:45:52.121Z"
   },
   {
    "duration": 19,
    "start_time": "2023-01-14T08:45:52.132Z"
   },
   {
    "duration": 5,
    "start_time": "2023-01-14T08:45:52.154Z"
   },
   {
    "duration": 37,
    "start_time": "2023-01-14T08:45:52.160Z"
   },
   {
    "duration": 19,
    "start_time": "2023-01-14T08:45:52.199Z"
   },
   {
    "duration": 5,
    "start_time": "2023-01-14T08:45:52.220Z"
   },
   {
    "duration": 33,
    "start_time": "2023-01-14T08:45:52.226Z"
   },
   {
    "duration": 6,
    "start_time": "2023-01-14T08:45:52.261Z"
   },
   {
    "duration": 35,
    "start_time": "2023-01-14T08:45:52.269Z"
   },
   {
    "duration": 8,
    "start_time": "2023-01-14T08:45:52.306Z"
   },
   {
    "duration": 7,
    "start_time": "2023-01-14T08:45:52.316Z"
   },
   {
    "duration": 24,
    "start_time": "2023-01-14T08:45:52.325Z"
   },
   {
    "duration": 9,
    "start_time": "2023-01-14T08:45:52.350Z"
   },
   {
    "duration": 35,
    "start_time": "2023-01-14T08:45:52.361Z"
   },
   {
    "duration": 4,
    "start_time": "2023-01-14T08:45:52.398Z"
   },
   {
    "duration": 14,
    "start_time": "2023-01-14T08:45:52.404Z"
   },
   {
    "duration": 20,
    "start_time": "2023-01-14T08:45:52.419Z"
   },
   {
    "duration": 14,
    "start_time": "2023-01-14T08:45:52.441Z"
   },
   {
    "duration": 58,
    "start_time": "2023-01-14T08:45:52.457Z"
   },
   {
    "duration": 149,
    "start_time": "2023-01-14T08:45:52.516Z"
   },
   {
    "duration": 3339,
    "start_time": "2023-01-14T08:45:52.668Z"
   },
   {
    "duration": 12,
    "start_time": "2023-01-14T08:45:56.010Z"
   },
   {
    "duration": 1002,
    "start_time": "2023-01-14T08:45:56.024Z"
   },
   {
    "duration": 11,
    "start_time": "2023-01-14T08:51:40.893Z"
   },
   {
    "duration": 12,
    "start_time": "2023-01-14T08:53:13.311Z"
   },
   {
    "duration": 5,
    "start_time": "2023-01-14T08:56:23.869Z"
   },
   {
    "duration": 5,
    "start_time": "2023-01-14T08:57:56.209Z"
   },
   {
    "duration": 487,
    "start_time": "2023-01-14T08:59:31.150Z"
   },
   {
    "duration": 11,
    "start_time": "2023-01-14T09:02:26.109Z"
   },
   {
    "duration": 9,
    "start_time": "2023-01-14T09:03:08.598Z"
   },
   {
    "duration": 1162,
    "start_time": "2023-01-14T09:03:49.267Z"
   },
   {
    "duration": 859,
    "start_time": "2023-01-14T09:03:50.431Z"
   },
   {
    "duration": 17,
    "start_time": "2023-01-14T09:03:51.292Z"
   },
   {
    "duration": 18,
    "start_time": "2023-01-14T09:03:51.311Z"
   },
   {
    "duration": 7,
    "start_time": "2023-01-14T09:03:51.331Z"
   },
   {
    "duration": 23,
    "start_time": "2023-01-14T09:03:51.339Z"
   },
   {
    "duration": 26,
    "start_time": "2023-01-14T09:03:51.364Z"
   },
   {
    "duration": 14,
    "start_time": "2023-01-14T09:03:51.391Z"
   },
   {
    "duration": 33,
    "start_time": "2023-01-14T09:03:51.406Z"
   },
   {
    "duration": 5,
    "start_time": "2023-01-14T09:03:51.441Z"
   },
   {
    "duration": 26,
    "start_time": "2023-01-14T09:03:51.448Z"
   },
   {
    "duration": 56,
    "start_time": "2023-01-14T09:03:51.475Z"
   },
   {
    "duration": 12,
    "start_time": "2023-01-14T09:03:51.533Z"
   },
   {
    "duration": 47,
    "start_time": "2023-01-14T09:03:51.547Z"
   },
   {
    "duration": 5,
    "start_time": "2023-01-14T09:03:51.595Z"
   },
   {
    "duration": 22,
    "start_time": "2023-01-14T09:03:51.602Z"
   },
   {
    "duration": 5,
    "start_time": "2023-01-14T09:03:51.625Z"
   },
   {
    "duration": 10,
    "start_time": "2023-01-14T09:03:51.631Z"
   },
   {
    "duration": 20,
    "start_time": "2023-01-14T09:03:51.643Z"
   },
   {
    "duration": 8,
    "start_time": "2023-01-14T09:03:51.665Z"
   },
   {
    "duration": 22,
    "start_time": "2023-01-14T09:03:51.674Z"
   },
   {
    "duration": 3,
    "start_time": "2023-01-14T09:03:51.698Z"
   },
   {
    "duration": 12,
    "start_time": "2023-01-14T09:03:51.703Z"
   },
   {
    "duration": 20,
    "start_time": "2023-01-14T09:03:51.716Z"
   },
   {
    "duration": 27,
    "start_time": "2023-01-14T09:03:51.738Z"
   },
   {
    "duration": 46,
    "start_time": "2023-01-14T09:03:51.767Z"
   },
   {
    "duration": 148,
    "start_time": "2023-01-14T09:03:51.815Z"
   },
   {
    "duration": 3310,
    "start_time": "2023-01-14T09:03:51.965Z"
   },
   {
    "duration": 19,
    "start_time": "2023-01-14T09:03:55.278Z"
   },
   {
    "duration": 31,
    "start_time": "2023-01-14T09:03:55.298Z"
   },
   {
    "duration": 571,
    "start_time": "2023-01-14T09:03:55.331Z"
   },
   {
    "duration": 12,
    "start_time": "2023-01-14T09:03:55.904Z"
   },
   {
    "duration": 844,
    "start_time": "2023-01-14T09:03:55.918Z"
   },
   {
    "duration": 1113,
    "start_time": "2023-01-14T09:06:38.855Z"
   },
   {
    "duration": 776,
    "start_time": "2023-01-14T09:06:39.970Z"
   },
   {
    "duration": 17,
    "start_time": "2023-01-14T09:06:40.750Z"
   },
   {
    "duration": 18,
    "start_time": "2023-01-14T09:06:40.769Z"
   },
   {
    "duration": 4,
    "start_time": "2023-01-14T09:06:40.789Z"
   },
   {
    "duration": 13,
    "start_time": "2023-01-14T09:06:40.795Z"
   },
   {
    "duration": 9,
    "start_time": "2023-01-14T09:06:40.809Z"
   },
   {
    "duration": 11,
    "start_time": "2023-01-14T09:06:40.820Z"
   },
   {
    "duration": 13,
    "start_time": "2023-01-14T09:06:40.834Z"
   },
   {
    "duration": 6,
    "start_time": "2023-01-14T09:06:40.849Z"
   },
   {
    "duration": 12,
    "start_time": "2023-01-14T09:06:40.856Z"
   },
   {
    "duration": 37,
    "start_time": "2023-01-14T09:06:40.870Z"
   },
   {
    "duration": 4,
    "start_time": "2023-01-14T09:06:40.909Z"
   },
   {
    "duration": 34,
    "start_time": "2023-01-14T09:06:40.915Z"
   },
   {
    "duration": 7,
    "start_time": "2023-01-14T09:06:40.951Z"
   },
   {
    "duration": 39,
    "start_time": "2023-01-14T09:06:40.960Z"
   },
   {
    "duration": 5,
    "start_time": "2023-01-14T09:06:41.001Z"
   },
   {
    "duration": 10,
    "start_time": "2023-01-14T09:06:41.007Z"
   },
   {
    "duration": 24,
    "start_time": "2023-01-14T09:06:41.018Z"
   },
   {
    "duration": 11,
    "start_time": "2023-01-14T09:06:41.044Z"
   },
   {
    "duration": 39,
    "start_time": "2023-01-14T09:06:41.057Z"
   },
   {
    "duration": 5,
    "start_time": "2023-01-14T09:06:41.098Z"
   },
   {
    "duration": 16,
    "start_time": "2023-01-14T09:06:41.106Z"
   },
   {
    "duration": 16,
    "start_time": "2023-01-14T09:06:41.124Z"
   },
   {
    "duration": 19,
    "start_time": "2023-01-14T09:06:41.142Z"
   },
   {
    "duration": 79,
    "start_time": "2023-01-14T09:06:41.163Z"
   },
   {
    "duration": 142,
    "start_time": "2023-01-14T09:06:41.246Z"
   },
   {
    "duration": 3341,
    "start_time": "2023-01-14T09:06:41.390Z"
   },
   {
    "duration": 11,
    "start_time": "2023-01-14T09:06:44.733Z"
   },
   {
    "duration": 12,
    "start_time": "2023-01-14T09:06:44.746Z"
   },
   {
    "duration": 616,
    "start_time": "2023-01-14T09:06:44.760Z"
   },
   {
    "duration": 8,
    "start_time": "2023-01-14T09:06:45.378Z"
   },
   {
    "duration": 5,
    "start_time": "2023-01-14T09:06:45.396Z"
   },
   {
    "duration": 911,
    "start_time": "2023-01-14T09:06:45.403Z"
   },
   {
    "duration": 494,
    "start_time": "2023-01-14T09:07:50.297Z"
   },
   {
    "duration": 1132,
    "start_time": "2023-01-14T09:08:20.686Z"
   },
   {
    "duration": 983,
    "start_time": "2023-01-14T09:08:21.821Z"
   },
   {
    "duration": 18,
    "start_time": "2023-01-14T09:08:22.805Z"
   },
   {
    "duration": 12,
    "start_time": "2023-01-14T09:08:22.825Z"
   },
   {
    "duration": 4,
    "start_time": "2023-01-14T09:08:22.839Z"
   },
   {
    "duration": 9,
    "start_time": "2023-01-14T09:08:22.845Z"
   },
   {
    "duration": 10,
    "start_time": "2023-01-14T09:08:22.856Z"
   },
   {
    "duration": 33,
    "start_time": "2023-01-14T09:08:22.868Z"
   },
   {
    "duration": 14,
    "start_time": "2023-01-14T09:08:22.903Z"
   },
   {
    "duration": 3,
    "start_time": "2023-01-14T09:08:22.920Z"
   },
   {
    "duration": 14,
    "start_time": "2023-01-14T09:08:22.925Z"
   },
   {
    "duration": 18,
    "start_time": "2023-01-14T09:08:22.940Z"
   },
   {
    "duration": 3,
    "start_time": "2023-01-14T09:08:22.960Z"
   },
   {
    "duration": 57,
    "start_time": "2023-01-14T09:08:22.964Z"
   },
   {
    "duration": 6,
    "start_time": "2023-01-14T09:08:23.023Z"
   },
   {
    "duration": 15,
    "start_time": "2023-01-14T09:08:23.030Z"
   },
   {
    "duration": 5,
    "start_time": "2023-01-14T09:08:23.046Z"
   },
   {
    "duration": 7,
    "start_time": "2023-01-14T09:08:23.053Z"
   },
   {
    "duration": 46,
    "start_time": "2023-01-14T09:08:23.062Z"
   },
   {
    "duration": 8,
    "start_time": "2023-01-14T09:08:23.109Z"
   },
   {
    "duration": 15,
    "start_time": "2023-01-14T09:08:23.119Z"
   },
   {
    "duration": 4,
    "start_time": "2023-01-14T09:08:23.135Z"
   },
   {
    "duration": 19,
    "start_time": "2023-01-14T09:08:23.140Z"
   },
   {
    "duration": 11,
    "start_time": "2023-01-14T09:08:23.161Z"
   },
   {
    "duration": 31,
    "start_time": "2023-01-14T09:08:23.173Z"
   },
   {
    "duration": 42,
    "start_time": "2023-01-14T09:08:23.205Z"
   },
   {
    "duration": 153,
    "start_time": "2023-01-14T09:08:23.249Z"
   },
   {
    "duration": 3301,
    "start_time": "2023-01-14T09:08:23.405Z"
   },
   {
    "duration": 10,
    "start_time": "2023-01-14T09:08:26.707Z"
   },
   {
    "duration": 14,
    "start_time": "2023-01-14T09:08:26.719Z"
   },
   {
    "duration": 555,
    "start_time": "2023-01-14T09:08:26.734Z"
   },
   {
    "duration": 13,
    "start_time": "2023-01-14T09:08:27.290Z"
   },
   {
    "duration": 5,
    "start_time": "2023-01-14T09:08:27.304Z"
   },
   {
    "duration": 499,
    "start_time": "2023-01-14T09:08:27.310Z"
   },
   {
    "duration": 798,
    "start_time": "2023-01-14T09:08:27.811Z"
   },
   {
    "duration": 6,
    "start_time": "2023-01-14T09:09:11.594Z"
   },
   {
    "duration": 517,
    "start_time": "2023-01-14T09:09:13.198Z"
   },
   {
    "duration": 1092,
    "start_time": "2023-01-14T09:09:45.949Z"
   },
   {
    "duration": 871,
    "start_time": "2023-01-14T09:09:47.043Z"
   },
   {
    "duration": 20,
    "start_time": "2023-01-14T09:09:47.915Z"
   },
   {
    "duration": 13,
    "start_time": "2023-01-14T09:09:47.937Z"
   },
   {
    "duration": 8,
    "start_time": "2023-01-14T09:09:47.952Z"
   },
   {
    "duration": 9,
    "start_time": "2023-01-14T09:09:47.962Z"
   },
   {
    "duration": 27,
    "start_time": "2023-01-14T09:09:47.973Z"
   },
   {
    "duration": 8,
    "start_time": "2023-01-14T09:09:48.002Z"
   },
   {
    "duration": 22,
    "start_time": "2023-01-14T09:09:48.011Z"
   },
   {
    "duration": 4,
    "start_time": "2023-01-14T09:09:48.036Z"
   },
   {
    "duration": 18,
    "start_time": "2023-01-14T09:09:48.041Z"
   },
   {
    "duration": 38,
    "start_time": "2023-01-14T09:09:48.060Z"
   },
   {
    "duration": 5,
    "start_time": "2023-01-14T09:09:48.099Z"
   },
   {
    "duration": 38,
    "start_time": "2023-01-14T09:09:48.105Z"
   },
   {
    "duration": 6,
    "start_time": "2023-01-14T09:09:48.145Z"
   },
   {
    "duration": 31,
    "start_time": "2023-01-14T09:09:48.152Z"
   },
   {
    "duration": 13,
    "start_time": "2023-01-14T09:09:48.185Z"
   },
   {
    "duration": 37,
    "start_time": "2023-01-14T09:09:48.199Z"
   },
   {
    "duration": 25,
    "start_time": "2023-01-14T09:09:48.238Z"
   },
   {
    "duration": 10,
    "start_time": "2023-01-14T09:09:48.264Z"
   },
   {
    "duration": 12,
    "start_time": "2023-01-14T09:09:48.276Z"
   },
   {
    "duration": 6,
    "start_time": "2023-01-14T09:09:48.290Z"
   },
   {
    "duration": 12,
    "start_time": "2023-01-14T09:09:48.297Z"
   },
   {
    "duration": 10,
    "start_time": "2023-01-14T09:09:48.311Z"
   },
   {
    "duration": 13,
    "start_time": "2023-01-14T09:09:48.323Z"
   },
   {
    "duration": 69,
    "start_time": "2023-01-14T09:09:48.338Z"
   },
   {
    "duration": 170,
    "start_time": "2023-01-14T09:09:48.409Z"
   },
   {
    "duration": 3735,
    "start_time": "2023-01-14T09:09:48.584Z"
   },
   {
    "duration": 11,
    "start_time": "2023-01-14T09:09:52.320Z"
   },
   {
    "duration": 17,
    "start_time": "2023-01-14T09:09:52.332Z"
   },
   {
    "duration": 573,
    "start_time": "2023-01-14T09:09:52.351Z"
   },
   {
    "duration": 9,
    "start_time": "2023-01-14T09:09:52.926Z"
   },
   {
    "duration": 30,
    "start_time": "2023-01-14T09:09:52.936Z"
   },
   {
    "duration": 482,
    "start_time": "2023-01-14T09:09:52.967Z"
   },
   {
    "duration": 860,
    "start_time": "2023-01-14T09:09:53.450Z"
   },
   {
    "duration": 11,
    "start_time": "2023-01-14T09:34:05.922Z"
   },
   {
    "duration": 13,
    "start_time": "2023-01-14T09:34:14.635Z"
   },
   {
    "duration": 11,
    "start_time": "2023-01-14T09:34:24.793Z"
   },
   {
    "duration": 10,
    "start_time": "2023-01-14T09:34:35.672Z"
   },
   {
    "duration": 8,
    "start_time": "2023-01-14T09:35:30.671Z"
   },
   {
    "duration": 2,
    "start_time": "2023-01-14T09:40:27.242Z"
   },
   {
    "duration": 2,
    "start_time": "2023-01-14T09:40:39.992Z"
   },
   {
    "duration": 1292,
    "start_time": "2023-01-14T09:40:44.605Z"
   },
   {
    "duration": 996,
    "start_time": "2023-01-14T09:40:45.900Z"
   },
   {
    "duration": 17,
    "start_time": "2023-01-14T09:40:46.898Z"
   },
   {
    "duration": 13,
    "start_time": "2023-01-14T09:40:46.917Z"
   },
   {
    "duration": 4,
    "start_time": "2023-01-14T09:40:46.931Z"
   },
   {
    "duration": 9,
    "start_time": "2023-01-14T09:40:46.937Z"
   },
   {
    "duration": 8,
    "start_time": "2023-01-14T09:40:46.948Z"
   },
   {
    "duration": 19,
    "start_time": "2023-01-14T09:40:46.957Z"
   },
   {
    "duration": 31,
    "start_time": "2023-01-14T09:40:46.977Z"
   },
   {
    "duration": 6,
    "start_time": "2023-01-14T09:40:47.011Z"
   },
   {
    "duration": 26,
    "start_time": "2023-01-14T09:40:47.018Z"
   },
   {
    "duration": 18,
    "start_time": "2023-01-14T09:40:47.046Z"
   },
   {
    "duration": 16,
    "start_time": "2023-01-14T09:40:47.065Z"
   },
   {
    "duration": 46,
    "start_time": "2023-01-14T09:40:47.083Z"
   },
   {
    "duration": 6,
    "start_time": "2023-01-14T09:40:47.131Z"
   },
   {
    "duration": 15,
    "start_time": "2023-01-14T09:40:47.138Z"
   },
   {
    "duration": 5,
    "start_time": "2023-01-14T09:40:47.154Z"
   },
   {
    "duration": 12,
    "start_time": "2023-01-14T09:40:47.160Z"
   },
   {
    "duration": 27,
    "start_time": "2023-01-14T09:40:47.174Z"
   },
   {
    "duration": 9,
    "start_time": "2023-01-14T09:40:47.203Z"
   },
   {
    "duration": 28,
    "start_time": "2023-01-14T09:40:47.213Z"
   },
   {
    "duration": 9,
    "start_time": "2023-01-14T09:40:47.243Z"
   },
   {
    "duration": 17,
    "start_time": "2023-01-14T09:40:47.254Z"
   },
   {
    "duration": 24,
    "start_time": "2023-01-14T09:40:47.273Z"
   },
   {
    "duration": 24,
    "start_time": "2023-01-14T09:40:47.299Z"
   },
   {
    "duration": 48,
    "start_time": "2023-01-14T09:40:47.324Z"
   },
   {
    "duration": 145,
    "start_time": "2023-01-14T09:40:47.373Z"
   },
   {
    "duration": 3545,
    "start_time": "2023-01-14T09:40:47.521Z"
   },
   {
    "duration": 15,
    "start_time": "2023-01-14T09:40:51.068Z"
   },
   {
    "duration": 7,
    "start_time": "2023-01-14T09:40:51.097Z"
   },
   {
    "duration": 579,
    "start_time": "2023-01-14T09:40:51.106Z"
   },
   {
    "duration": 16,
    "start_time": "2023-01-14T09:40:51.687Z"
   },
   {
    "duration": 11,
    "start_time": "2023-01-14T09:40:51.705Z"
   },
   {
    "duration": 479,
    "start_time": "2023-01-14T09:40:51.718Z"
   },
   {
    "duration": 794,
    "start_time": "2023-01-14T09:40:52.199Z"
   },
   {
    "duration": 8,
    "start_time": "2023-01-14T09:40:52.995Z"
   },
   {
    "duration": 2,
    "start_time": "2023-01-14T09:40:53.005Z"
   },
   {
    "duration": 1176,
    "start_time": "2023-01-14T09:48:58.820Z"
   },
   {
    "duration": 951,
    "start_time": "2023-01-14T09:48:59.998Z"
   },
   {
    "duration": 17,
    "start_time": "2023-01-14T09:49:00.951Z"
   },
   {
    "duration": 27,
    "start_time": "2023-01-14T09:49:00.970Z"
   },
   {
    "duration": 15,
    "start_time": "2023-01-14T09:49:01.000Z"
   },
   {
    "duration": 33,
    "start_time": "2023-01-14T09:49:01.017Z"
   },
   {
    "duration": 42,
    "start_time": "2023-01-14T09:49:01.052Z"
   },
   {
    "duration": 39,
    "start_time": "2023-01-14T09:49:01.096Z"
   },
   {
    "duration": 38,
    "start_time": "2023-01-14T09:49:01.137Z"
   },
   {
    "duration": 23,
    "start_time": "2023-01-14T09:49:01.177Z"
   },
   {
    "duration": 31,
    "start_time": "2023-01-14T09:49:01.202Z"
   },
   {
    "duration": 53,
    "start_time": "2023-01-14T09:49:01.234Z"
   },
   {
    "duration": 22,
    "start_time": "2023-01-14T09:49:01.288Z"
   },
   {
    "duration": 64,
    "start_time": "2023-01-14T09:49:01.313Z"
   },
   {
    "duration": 17,
    "start_time": "2023-01-14T09:49:01.379Z"
   },
   {
    "duration": 63,
    "start_time": "2023-01-14T09:49:01.398Z"
   },
   {
    "duration": 37,
    "start_time": "2023-01-14T09:49:01.463Z"
   },
   {
    "duration": 49,
    "start_time": "2023-01-14T09:49:01.502Z"
   },
   {
    "duration": 40,
    "start_time": "2023-01-14T09:49:01.553Z"
   },
   {
    "duration": 27,
    "start_time": "2023-01-14T09:49:01.595Z"
   },
   {
    "duration": 22,
    "start_time": "2023-01-14T09:49:01.624Z"
   },
   {
    "duration": 8,
    "start_time": "2023-01-14T09:49:01.648Z"
   },
   {
    "duration": 22,
    "start_time": "2023-01-14T09:49:01.658Z"
   },
   {
    "duration": 12,
    "start_time": "2023-01-14T09:49:01.681Z"
   },
   {
    "duration": 16,
    "start_time": "2023-01-14T09:49:01.695Z"
   },
   {
    "duration": 44,
    "start_time": "2023-01-14T09:49:01.714Z"
   },
   {
    "duration": 187,
    "start_time": "2023-01-14T09:49:01.760Z"
   },
   {
    "duration": 3332,
    "start_time": "2023-01-14T09:49:01.949Z"
   },
   {
    "duration": 14,
    "start_time": "2023-01-14T09:49:05.283Z"
   },
   {
    "duration": 5,
    "start_time": "2023-01-14T09:49:05.299Z"
   },
   {
    "duration": 596,
    "start_time": "2023-01-14T09:49:05.305Z"
   },
   {
    "duration": 13,
    "start_time": "2023-01-14T09:49:05.903Z"
   },
   {
    "duration": 32,
    "start_time": "2023-01-14T09:49:05.919Z"
   },
   {
    "duration": 554,
    "start_time": "2023-01-14T09:49:05.953Z"
   },
   {
    "duration": 825,
    "start_time": "2023-01-14T09:49:06.509Z"
   },
   {
    "duration": 8,
    "start_time": "2023-01-14T09:49:07.335Z"
   },
   {
    "duration": 3,
    "start_time": "2023-01-14T09:49:07.345Z"
   },
   {
    "duration": 5,
    "start_time": "2023-01-14T09:49:34.207Z"
   },
   {
    "duration": 8,
    "start_time": "2023-01-14T09:51:36.247Z"
   },
   {
    "duration": 8,
    "start_time": "2023-01-14T09:51:52.007Z"
   },
   {
    "duration": 1152,
    "start_time": "2023-01-14T09:54:14.412Z"
   },
   {
    "duration": 946,
    "start_time": "2023-01-14T09:54:15.566Z"
   },
   {
    "duration": 16,
    "start_time": "2023-01-14T09:54:16.514Z"
   },
   {
    "duration": 11,
    "start_time": "2023-01-14T09:54:16.532Z"
   },
   {
    "duration": 4,
    "start_time": "2023-01-14T09:54:16.545Z"
   },
   {
    "duration": 8,
    "start_time": "2023-01-14T09:54:16.551Z"
   },
   {
    "duration": 41,
    "start_time": "2023-01-14T09:54:16.561Z"
   },
   {
    "duration": 7,
    "start_time": "2023-01-14T09:54:16.604Z"
   },
   {
    "duration": 27,
    "start_time": "2023-01-14T09:54:16.613Z"
   },
   {
    "duration": 4,
    "start_time": "2023-01-14T09:54:16.643Z"
   },
   {
    "duration": 16,
    "start_time": "2023-01-14T09:54:16.648Z"
   },
   {
    "duration": 37,
    "start_time": "2023-01-14T09:54:16.666Z"
   },
   {
    "duration": 5,
    "start_time": "2023-01-14T09:54:16.705Z"
   },
   {
    "duration": 32,
    "start_time": "2023-01-14T09:54:16.711Z"
   },
   {
    "duration": 6,
    "start_time": "2023-01-14T09:54:16.745Z"
   },
   {
    "duration": 14,
    "start_time": "2023-01-14T09:54:16.753Z"
   },
   {
    "duration": 31,
    "start_time": "2023-01-14T09:54:16.769Z"
   },
   {
    "duration": 5,
    "start_time": "2023-01-14T09:54:16.802Z"
   },
   {
    "duration": 20,
    "start_time": "2023-01-14T09:54:16.809Z"
   },
   {
    "duration": 12,
    "start_time": "2023-01-14T09:54:16.830Z"
   },
   {
    "duration": 13,
    "start_time": "2023-01-14T09:54:16.844Z"
   },
   {
    "duration": 5,
    "start_time": "2023-01-14T09:54:16.859Z"
   },
   {
    "duration": 11,
    "start_time": "2023-01-14T09:54:16.897Z"
   },
   {
    "duration": 14,
    "start_time": "2023-01-14T09:54:16.910Z"
   },
   {
    "duration": 14,
    "start_time": "2023-01-14T09:54:16.926Z"
   },
   {
    "duration": 76,
    "start_time": "2023-01-14T09:54:16.942Z"
   },
   {
    "duration": 145,
    "start_time": "2023-01-14T09:54:17.020Z"
   },
   {
    "duration": 3435,
    "start_time": "2023-01-14T09:54:17.168Z"
   },
   {
    "duration": 12,
    "start_time": "2023-01-14T09:54:20.605Z"
   },
   {
    "duration": 28,
    "start_time": "2023-01-14T09:54:20.618Z"
   },
   {
    "duration": 566,
    "start_time": "2023-01-14T09:54:20.647Z"
   },
   {
    "duration": 9,
    "start_time": "2023-01-14T09:54:21.215Z"
   },
   {
    "duration": 5,
    "start_time": "2023-01-14T09:54:21.226Z"
   },
   {
    "duration": 468,
    "start_time": "2023-01-14T09:54:21.233Z"
   },
   {
    "duration": 831,
    "start_time": "2023-01-14T09:54:21.703Z"
   },
   {
    "duration": 8,
    "start_time": "2023-01-14T09:54:22.536Z"
   },
   {
    "duration": 10,
    "start_time": "2023-01-14T09:54:22.546Z"
   },
   {
    "duration": 8,
    "start_time": "2023-01-14T09:54:22.557Z"
   },
   {
    "duration": 5,
    "start_time": "2023-01-14T09:54:22.568Z"
   },
   {
    "duration": 20,
    "start_time": "2023-01-14T09:54:22.575Z"
   },
   {
    "duration": 1094,
    "start_time": "2023-01-14T09:58:22.737Z"
   },
   {
    "duration": 842,
    "start_time": "2023-01-14T09:58:23.834Z"
   },
   {
    "duration": 18,
    "start_time": "2023-01-14T09:58:24.678Z"
   },
   {
    "duration": 12,
    "start_time": "2023-01-14T09:58:24.698Z"
   },
   {
    "duration": 8,
    "start_time": "2023-01-14T09:58:24.712Z"
   },
   {
    "duration": 6,
    "start_time": "2023-01-14T09:58:24.722Z"
   },
   {
    "duration": 11,
    "start_time": "2023-01-14T09:58:24.730Z"
   },
   {
    "duration": 12,
    "start_time": "2023-01-14T09:58:24.743Z"
   },
   {
    "duration": 41,
    "start_time": "2023-01-14T09:58:24.756Z"
   },
   {
    "duration": 3,
    "start_time": "2023-01-14T09:58:24.801Z"
   },
   {
    "duration": 16,
    "start_time": "2023-01-14T09:58:24.806Z"
   },
   {
    "duration": 18,
    "start_time": "2023-01-14T09:58:24.824Z"
   },
   {
    "duration": 5,
    "start_time": "2023-01-14T09:58:24.843Z"
   },
   {
    "duration": 50,
    "start_time": "2023-01-14T09:58:24.849Z"
   },
   {
    "duration": 6,
    "start_time": "2023-01-14T09:58:24.901Z"
   },
   {
    "duration": 13,
    "start_time": "2023-01-14T09:58:24.908Z"
   },
   {
    "duration": 4,
    "start_time": "2023-01-14T09:58:24.923Z"
   },
   {
    "duration": 8,
    "start_time": "2023-01-14T09:58:24.929Z"
   },
   {
    "duration": 28,
    "start_time": "2023-01-14T09:58:24.939Z"
   },
   {
    "duration": 35,
    "start_time": "2023-01-14T09:58:24.969Z"
   },
   {
    "duration": 12,
    "start_time": "2023-01-14T09:58:25.005Z"
   },
   {
    "duration": 5,
    "start_time": "2023-01-14T09:58:25.019Z"
   },
   {
    "duration": 15,
    "start_time": "2023-01-14T09:58:25.025Z"
   },
   {
    "duration": 16,
    "start_time": "2023-01-14T09:58:25.042Z"
   },
   {
    "duration": 43,
    "start_time": "2023-01-14T09:58:25.061Z"
   },
   {
    "duration": 48,
    "start_time": "2023-01-14T09:58:25.106Z"
   },
   {
    "duration": 151,
    "start_time": "2023-01-14T09:58:25.156Z"
   },
   {
    "duration": 3376,
    "start_time": "2023-01-14T09:58:25.311Z"
   },
   {
    "duration": 10,
    "start_time": "2023-01-14T09:58:28.696Z"
   },
   {
    "duration": 9,
    "start_time": "2023-01-14T09:58:28.708Z"
   },
   {
    "duration": 565,
    "start_time": "2023-01-14T09:58:28.719Z"
   },
   {
    "duration": 13,
    "start_time": "2023-01-14T09:58:29.286Z"
   },
   {
    "duration": 6,
    "start_time": "2023-01-14T09:58:29.300Z"
   },
   {
    "duration": 461,
    "start_time": "2023-01-14T09:58:29.307Z"
   },
   {
    "duration": 861,
    "start_time": "2023-01-14T09:58:29.769Z"
   },
   {
    "duration": 12,
    "start_time": "2023-01-14T09:58:30.632Z"
   },
   {
    "duration": 22,
    "start_time": "2023-01-14T09:58:30.646Z"
   },
   {
    "duration": 22,
    "start_time": "2023-01-14T09:58:30.670Z"
   },
   {
    "duration": 15,
    "start_time": "2023-01-14T09:58:30.694Z"
   },
   {
    "duration": 40,
    "start_time": "2023-01-14T09:58:30.711Z"
   },
   {
    "duration": 41,
    "start_time": "2023-01-14T10:06:22.416Z"
   },
   {
    "duration": 8,
    "start_time": "2023-01-14T10:07:36.972Z"
   },
   {
    "duration": 9,
    "start_time": "2023-01-14T10:09:10.038Z"
   },
   {
    "duration": 9,
    "start_time": "2023-01-14T10:09:37.841Z"
   },
   {
    "duration": 1136,
    "start_time": "2023-01-14T10:12:42.738Z"
   },
   {
    "duration": 1092,
    "start_time": "2023-01-14T10:12:43.876Z"
   },
   {
    "duration": 18,
    "start_time": "2023-01-14T10:12:44.970Z"
   },
   {
    "duration": 13,
    "start_time": "2023-01-14T10:12:44.990Z"
   },
   {
    "duration": 30,
    "start_time": "2023-01-14T10:12:45.005Z"
   },
   {
    "duration": 33,
    "start_time": "2023-01-14T10:12:45.036Z"
   },
   {
    "duration": 13,
    "start_time": "2023-01-14T10:12:45.071Z"
   },
   {
    "duration": 17,
    "start_time": "2023-01-14T10:12:45.086Z"
   },
   {
    "duration": 18,
    "start_time": "2023-01-14T10:12:45.105Z"
   },
   {
    "duration": 5,
    "start_time": "2023-01-14T10:12:45.124Z"
   },
   {
    "duration": 20,
    "start_time": "2023-01-14T10:12:45.130Z"
   },
   {
    "duration": 33,
    "start_time": "2023-01-14T10:12:45.152Z"
   },
   {
    "duration": 8,
    "start_time": "2023-01-14T10:12:45.188Z"
   },
   {
    "duration": 56,
    "start_time": "2023-01-14T10:12:45.200Z"
   },
   {
    "duration": 7,
    "start_time": "2023-01-14T10:12:45.258Z"
   },
   {
    "duration": 16,
    "start_time": "2023-01-14T10:12:45.267Z"
   },
   {
    "duration": 15,
    "start_time": "2023-01-14T10:12:45.285Z"
   },
   {
    "duration": 10,
    "start_time": "2023-01-14T10:12:45.301Z"
   },
   {
    "duration": 26,
    "start_time": "2023-01-14T10:12:45.313Z"
   },
   {
    "duration": 10,
    "start_time": "2023-01-14T10:12:45.341Z"
   },
   {
    "duration": 14,
    "start_time": "2023-01-14T10:12:45.353Z"
   },
   {
    "duration": 28,
    "start_time": "2023-01-14T10:12:45.369Z"
   },
   {
    "duration": 11,
    "start_time": "2023-01-14T10:12:45.398Z"
   },
   {
    "duration": 12,
    "start_time": "2023-01-14T10:12:45.411Z"
   },
   {
    "duration": 15,
    "start_time": "2023-01-14T10:12:45.425Z"
   },
   {
    "duration": 77,
    "start_time": "2023-01-14T10:12:45.442Z"
   },
   {
    "duration": 150,
    "start_time": "2023-01-14T10:12:45.520Z"
   },
   {
    "duration": 3435,
    "start_time": "2023-01-14T10:12:45.672Z"
   },
   {
    "duration": 12,
    "start_time": "2023-01-14T10:12:49.109Z"
   },
   {
    "duration": 6,
    "start_time": "2023-01-14T10:12:49.123Z"
   },
   {
    "duration": 668,
    "start_time": "2023-01-14T10:12:49.131Z"
   },
   {
    "duration": 9,
    "start_time": "2023-01-14T10:12:49.801Z"
   },
   {
    "duration": 6,
    "start_time": "2023-01-14T10:12:49.811Z"
   },
   {
    "duration": 574,
    "start_time": "2023-01-14T10:12:49.818Z"
   },
   {
    "duration": 804,
    "start_time": "2023-01-14T10:12:50.394Z"
   },
   {
    "duration": 11,
    "start_time": "2023-01-14T10:12:51.200Z"
   },
   {
    "duration": 9,
    "start_time": "2023-01-14T10:12:51.213Z"
   },
   {
    "duration": 8,
    "start_time": "2023-01-14T10:12:51.224Z"
   },
   {
    "duration": 11,
    "start_time": "2023-01-14T10:12:51.233Z"
   },
   {
    "duration": 13,
    "start_time": "2023-01-14T10:12:51.245Z"
   },
   {
    "duration": 19,
    "start_time": "2023-01-14T10:12:51.261Z"
   },
   {
    "duration": 15,
    "start_time": "2023-01-14T10:12:51.282Z"
   },
   {
    "duration": 7,
    "start_time": "2023-01-14T10:12:51.299Z"
   },
   {
    "duration": 6,
    "start_time": "2023-01-14T10:12:51.308Z"
   },
   {
    "duration": 8,
    "start_time": "2023-01-14T10:29:08.779Z"
   },
   {
    "duration": 8,
    "start_time": "2023-01-14T10:29:21.039Z"
   },
   {
    "duration": 8,
    "start_time": "2023-01-14T10:29:30.758Z"
   },
   {
    "duration": 5,
    "start_time": "2023-01-14T10:30:40.853Z"
   },
   {
    "duration": 1141,
    "start_time": "2023-01-14T10:33:28.195Z"
   },
   {
    "duration": 1043,
    "start_time": "2023-01-14T10:33:29.338Z"
   },
   {
    "duration": 17,
    "start_time": "2023-01-14T10:33:30.383Z"
   },
   {
    "duration": 24,
    "start_time": "2023-01-14T10:33:30.401Z"
   },
   {
    "duration": 24,
    "start_time": "2023-01-14T10:33:30.427Z"
   },
   {
    "duration": 34,
    "start_time": "2023-01-14T10:33:30.452Z"
   },
   {
    "duration": 38,
    "start_time": "2023-01-14T10:33:30.487Z"
   },
   {
    "duration": 23,
    "start_time": "2023-01-14T10:33:30.526Z"
   },
   {
    "duration": 37,
    "start_time": "2023-01-14T10:33:30.551Z"
   },
   {
    "duration": 8,
    "start_time": "2023-01-14T10:33:30.590Z"
   },
   {
    "duration": 21,
    "start_time": "2023-01-14T10:33:30.600Z"
   },
   {
    "duration": 33,
    "start_time": "2023-01-14T10:33:30.623Z"
   },
   {
    "duration": 10,
    "start_time": "2023-01-14T10:33:30.657Z"
   },
   {
    "duration": 45,
    "start_time": "2023-01-14T10:33:30.669Z"
   },
   {
    "duration": 5,
    "start_time": "2023-01-14T10:33:30.716Z"
   },
   {
    "duration": 44,
    "start_time": "2023-01-14T10:33:30.723Z"
   },
   {
    "duration": 22,
    "start_time": "2023-01-14T10:33:30.769Z"
   },
   {
    "duration": 108,
    "start_time": "2023-01-14T10:33:30.793Z"
   },
   {
    "duration": 63,
    "start_time": "2023-01-14T10:33:30.903Z"
   },
   {
    "duration": 35,
    "start_time": "2023-01-14T10:33:30.968Z"
   },
   {
    "duration": 23,
    "start_time": "2023-01-14T10:33:31.005Z"
   },
   {
    "duration": 27,
    "start_time": "2023-01-14T10:33:31.030Z"
   },
   {
    "duration": 28,
    "start_time": "2023-01-14T10:33:31.059Z"
   },
   {
    "duration": 42,
    "start_time": "2023-01-14T10:33:31.088Z"
   },
   {
    "duration": 39,
    "start_time": "2023-01-14T10:33:31.132Z"
   },
   {
    "duration": 62,
    "start_time": "2023-01-14T10:33:31.173Z"
   },
   {
    "duration": 145,
    "start_time": "2023-01-14T10:33:31.237Z"
   },
   {
    "duration": 3413,
    "start_time": "2023-01-14T10:33:31.383Z"
   },
   {
    "duration": 11,
    "start_time": "2023-01-14T10:33:34.798Z"
   },
   {
    "duration": 8,
    "start_time": "2023-01-14T10:33:34.810Z"
   },
   {
    "duration": 624,
    "start_time": "2023-01-14T10:33:34.819Z"
   },
   {
    "duration": 9,
    "start_time": "2023-01-14T10:33:35.445Z"
   },
   {
    "duration": 21,
    "start_time": "2023-01-14T10:33:35.455Z"
   },
   {
    "duration": 468,
    "start_time": "2023-01-14T10:33:35.477Z"
   },
   {
    "duration": 868,
    "start_time": "2023-01-14T10:33:35.946Z"
   },
   {
    "duration": 10,
    "start_time": "2023-01-14T10:33:36.816Z"
   },
   {
    "duration": 8,
    "start_time": "2023-01-14T10:33:36.828Z"
   },
   {
    "duration": 8,
    "start_time": "2023-01-14T10:33:36.838Z"
   },
   {
    "duration": 5,
    "start_time": "2023-01-14T10:33:36.848Z"
   },
   {
    "duration": 9,
    "start_time": "2023-01-14T10:33:36.855Z"
   },
   {
    "duration": 9,
    "start_time": "2023-01-14T10:33:36.867Z"
   },
   {
    "duration": 8,
    "start_time": "2023-01-14T10:33:36.896Z"
   },
   {
    "duration": 16,
    "start_time": "2023-01-14T10:33:36.906Z"
   },
   {
    "duration": 13,
    "start_time": "2023-01-14T10:33:36.924Z"
   },
   {
    "duration": 13,
    "start_time": "2023-01-14T10:33:36.939Z"
   },
   {
    "duration": 12,
    "start_time": "2023-01-14T10:33:36.954Z"
   },
   {
    "duration": 8,
    "start_time": "2023-01-14T10:33:36.967Z"
   },
   {
    "duration": 7,
    "start_time": "2023-01-14T10:33:36.977Z"
   },
   {
    "duration": 1288,
    "start_time": "2023-01-15T11:06:08.250Z"
   },
   {
    "duration": 1062,
    "start_time": "2023-01-15T11:06:09.541Z"
   },
   {
    "duration": 16,
    "start_time": "2023-01-15T11:06:10.605Z"
   },
   {
    "duration": 12,
    "start_time": "2023-01-15T11:06:10.623Z"
   },
   {
    "duration": 4,
    "start_time": "2023-01-15T11:06:10.636Z"
   },
   {
    "duration": 9,
    "start_time": "2023-01-15T11:06:10.642Z"
   },
   {
    "duration": 7,
    "start_time": "2023-01-15T11:06:10.652Z"
   },
   {
    "duration": 8,
    "start_time": "2023-01-15T11:06:10.661Z"
   },
   {
    "duration": 5,
    "start_time": "2023-01-15T11:06:10.671Z"
   },
   {
    "duration": 1268,
    "start_time": "2023-01-15T11:58:09.949Z"
   },
   {
    "duration": 777,
    "start_time": "2023-01-15T11:58:11.219Z"
   },
   {
    "duration": 17,
    "start_time": "2023-01-15T11:58:11.998Z"
   },
   {
    "duration": 11,
    "start_time": "2023-01-15T11:58:12.017Z"
   },
   {
    "duration": 4,
    "start_time": "2023-01-15T11:58:12.031Z"
   },
   {
    "duration": 9,
    "start_time": "2023-01-15T11:58:12.036Z"
   },
   {
    "duration": 7,
    "start_time": "2023-01-15T11:58:12.046Z"
   },
   {
    "duration": 9,
    "start_time": "2023-01-15T11:58:12.055Z"
   },
   {
    "duration": 13,
    "start_time": "2023-01-15T11:58:12.066Z"
   },
   {
    "duration": 4,
    "start_time": "2023-01-15T11:58:12.080Z"
   },
   {
    "duration": 36,
    "start_time": "2023-01-15T11:58:12.085Z"
   },
   {
    "duration": 16,
    "start_time": "2023-01-15T11:58:12.123Z"
   },
   {
    "duration": 4,
    "start_time": "2023-01-15T11:58:12.141Z"
   },
   {
    "duration": 29,
    "start_time": "2023-01-15T11:58:12.147Z"
   },
   {
    "duration": 38,
    "start_time": "2023-01-15T11:58:12.178Z"
   },
   {
    "duration": 13,
    "start_time": "2023-01-15T11:58:12.218Z"
   },
   {
    "duration": 4,
    "start_time": "2023-01-15T11:58:12.232Z"
   },
   {
    "duration": 6,
    "start_time": "2023-01-15T11:58:12.238Z"
   },
   {
    "duration": 23,
    "start_time": "2023-01-15T11:58:12.245Z"
   },
   {
    "duration": 9,
    "start_time": "2023-01-15T11:58:12.269Z"
   },
   {
    "duration": 40,
    "start_time": "2023-01-15T11:58:12.279Z"
   },
   {
    "duration": 4,
    "start_time": "2023-01-15T11:58:12.321Z"
   },
   {
    "duration": 11,
    "start_time": "2023-01-15T11:58:12.326Z"
   },
   {
    "duration": 19,
    "start_time": "2023-01-15T11:58:12.338Z"
   },
   {
    "duration": 17,
    "start_time": "2023-01-15T11:58:12.359Z"
   },
   {
    "duration": 60,
    "start_time": "2023-01-15T11:58:12.377Z"
   },
   {
    "duration": 146,
    "start_time": "2023-01-15T11:58:12.439Z"
   },
   {
    "duration": 3071,
    "start_time": "2023-01-15T11:58:12.586Z"
   },
   {
    "duration": 0,
    "start_time": "2023-01-15T11:58:15.659Z"
   },
   {
    "duration": 0,
    "start_time": "2023-01-15T11:58:15.661Z"
   },
   {
    "duration": 0,
    "start_time": "2023-01-15T11:58:15.662Z"
   },
   {
    "duration": 0,
    "start_time": "2023-01-15T11:58:15.663Z"
   },
   {
    "duration": 0,
    "start_time": "2023-01-15T11:58:15.664Z"
   },
   {
    "duration": 0,
    "start_time": "2023-01-15T11:58:15.666Z"
   },
   {
    "duration": 0,
    "start_time": "2023-01-15T11:58:15.667Z"
   },
   {
    "duration": 0,
    "start_time": "2023-01-15T11:58:15.668Z"
   },
   {
    "duration": 0,
    "start_time": "2023-01-15T11:58:15.669Z"
   },
   {
    "duration": 0,
    "start_time": "2023-01-15T11:58:15.671Z"
   },
   {
    "duration": 0,
    "start_time": "2023-01-15T11:58:15.672Z"
   },
   {
    "duration": 0,
    "start_time": "2023-01-15T11:58:15.674Z"
   },
   {
    "duration": 0,
    "start_time": "2023-01-15T11:58:15.675Z"
   },
   {
    "duration": 0,
    "start_time": "2023-01-15T11:58:15.676Z"
   },
   {
    "duration": 0,
    "start_time": "2023-01-15T11:58:15.677Z"
   },
   {
    "duration": 0,
    "start_time": "2023-01-15T11:58:15.678Z"
   },
   {
    "duration": 0,
    "start_time": "2023-01-15T11:58:15.679Z"
   },
   {
    "duration": 0,
    "start_time": "2023-01-15T11:58:15.712Z"
   },
   {
    "duration": 0,
    "start_time": "2023-01-15T11:58:15.714Z"
   },
   {
    "duration": 0,
    "start_time": "2023-01-15T11:58:15.715Z"
   },
   {
    "duration": 1162,
    "start_time": "2023-01-15T11:59:32.090Z"
   },
   {
    "duration": 1015,
    "start_time": "2023-01-15T11:59:33.254Z"
   },
   {
    "duration": 17,
    "start_time": "2023-01-15T11:59:34.270Z"
   },
   {
    "duration": 12,
    "start_time": "2023-01-15T11:59:34.289Z"
   },
   {
    "duration": 4,
    "start_time": "2023-01-15T11:59:34.303Z"
   },
   {
    "duration": 12,
    "start_time": "2023-01-15T11:59:34.308Z"
   },
   {
    "duration": 9,
    "start_time": "2023-01-15T11:59:34.321Z"
   },
   {
    "duration": 11,
    "start_time": "2023-01-15T11:59:34.332Z"
   },
   {
    "duration": 20,
    "start_time": "2023-01-15T11:59:34.344Z"
   },
   {
    "duration": 3,
    "start_time": "2023-01-15T11:59:34.367Z"
   },
   {
    "duration": 13,
    "start_time": "2023-01-15T11:59:34.371Z"
   },
   {
    "duration": 27,
    "start_time": "2023-01-15T11:59:34.386Z"
   },
   {
    "duration": 4,
    "start_time": "2023-01-15T11:59:34.414Z"
   },
   {
    "duration": 34,
    "start_time": "2023-01-15T11:59:34.420Z"
   },
   {
    "duration": 5,
    "start_time": "2023-01-15T11:59:34.455Z"
   },
   {
    "duration": 14,
    "start_time": "2023-01-15T11:59:34.462Z"
   },
   {
    "duration": 5,
    "start_time": "2023-01-15T11:59:34.478Z"
   },
   {
    "duration": 30,
    "start_time": "2023-01-15T11:59:34.485Z"
   },
   {
    "duration": 23,
    "start_time": "2023-01-15T11:59:34.517Z"
   },
   {
    "duration": 9,
    "start_time": "2023-01-15T11:59:34.542Z"
   },
   {
    "duration": 11,
    "start_time": "2023-01-15T11:59:34.553Z"
   },
   {
    "duration": 4,
    "start_time": "2023-01-15T11:59:34.566Z"
   },
   {
    "duration": 43,
    "start_time": "2023-01-15T11:59:34.572Z"
   },
   {
    "duration": 16,
    "start_time": "2023-01-15T11:59:34.617Z"
   },
   {
    "duration": 13,
    "start_time": "2023-01-15T11:59:34.635Z"
   },
   {
    "duration": 37,
    "start_time": "2023-01-15T11:59:34.650Z"
   },
   {
    "duration": 163,
    "start_time": "2023-01-15T11:59:34.689Z"
   },
   {
    "duration": 45,
    "start_time": "2023-01-15T11:59:34.856Z"
   },
   {
    "duration": 0,
    "start_time": "2023-01-15T11:59:34.902Z"
   },
   {
    "duration": 0,
    "start_time": "2023-01-15T11:59:34.903Z"
   },
   {
    "duration": 0,
    "start_time": "2023-01-15T11:59:34.904Z"
   },
   {
    "duration": 0,
    "start_time": "2023-01-15T11:59:34.906Z"
   },
   {
    "duration": 0,
    "start_time": "2023-01-15T11:59:34.907Z"
   },
   {
    "duration": 0,
    "start_time": "2023-01-15T11:59:34.908Z"
   },
   {
    "duration": 0,
    "start_time": "2023-01-15T11:59:34.909Z"
   },
   {
    "duration": 0,
    "start_time": "2023-01-15T11:59:34.910Z"
   },
   {
    "duration": 0,
    "start_time": "2023-01-15T11:59:34.912Z"
   },
   {
    "duration": 0,
    "start_time": "2023-01-15T11:59:34.912Z"
   },
   {
    "duration": 0,
    "start_time": "2023-01-15T11:59:34.914Z"
   },
   {
    "duration": 0,
    "start_time": "2023-01-15T11:59:34.915Z"
   },
   {
    "duration": 0,
    "start_time": "2023-01-15T11:59:34.916Z"
   },
   {
    "duration": 0,
    "start_time": "2023-01-15T11:59:34.917Z"
   },
   {
    "duration": 0,
    "start_time": "2023-01-15T11:59:34.918Z"
   },
   {
    "duration": 0,
    "start_time": "2023-01-15T11:59:34.919Z"
   },
   {
    "duration": 0,
    "start_time": "2023-01-15T11:59:34.920Z"
   },
   {
    "duration": 0,
    "start_time": "2023-01-15T11:59:34.922Z"
   },
   {
    "duration": 0,
    "start_time": "2023-01-15T11:59:34.923Z"
   },
   {
    "duration": 1,
    "start_time": "2023-01-15T11:59:34.923Z"
   },
   {
    "duration": 1162,
    "start_time": "2023-01-15T12:00:08.308Z"
   },
   {
    "duration": 864,
    "start_time": "2023-01-15T12:00:09.472Z"
   },
   {
    "duration": 17,
    "start_time": "2023-01-15T12:00:10.337Z"
   },
   {
    "duration": 23,
    "start_time": "2023-01-15T12:00:10.357Z"
   },
   {
    "duration": 17,
    "start_time": "2023-01-15T12:00:10.382Z"
   },
   {
    "duration": 43,
    "start_time": "2023-01-15T12:00:10.401Z"
   },
   {
    "duration": 29,
    "start_time": "2023-01-15T12:00:10.446Z"
   },
   {
    "duration": 32,
    "start_time": "2023-01-15T12:00:10.477Z"
   },
   {
    "duration": 29,
    "start_time": "2023-01-15T12:00:10.511Z"
   },
   {
    "duration": 23,
    "start_time": "2023-01-15T12:00:10.544Z"
   },
   {
    "duration": 23,
    "start_time": "2023-01-15T12:00:10.569Z"
   },
   {
    "duration": 22,
    "start_time": "2023-01-15T12:00:10.593Z"
   },
   {
    "duration": 22,
    "start_time": "2023-01-15T12:00:10.617Z"
   },
   {
    "duration": 37,
    "start_time": "2023-01-15T12:00:10.640Z"
   },
   {
    "duration": 9,
    "start_time": "2023-01-15T12:00:10.679Z"
   },
   {
    "duration": 34,
    "start_time": "2023-01-15T12:00:10.690Z"
   },
   {
    "duration": 13,
    "start_time": "2023-01-15T12:00:10.725Z"
   },
   {
    "duration": 29,
    "start_time": "2023-01-15T12:00:10.740Z"
   },
   {
    "duration": 37,
    "start_time": "2023-01-15T12:00:10.771Z"
   },
   {
    "duration": 9,
    "start_time": "2023-01-15T12:00:10.809Z"
   },
   {
    "duration": 22,
    "start_time": "2023-01-15T12:00:10.820Z"
   },
   {
    "duration": 7,
    "start_time": "2023-01-15T12:00:10.844Z"
   },
   {
    "duration": 24,
    "start_time": "2023-01-15T12:00:10.853Z"
   },
   {
    "duration": 30,
    "start_time": "2023-01-15T12:00:10.878Z"
   },
   {
    "duration": 35,
    "start_time": "2023-01-15T12:00:10.910Z"
   },
   {
    "duration": 48,
    "start_time": "2023-01-15T12:00:10.947Z"
   },
   {
    "duration": 137,
    "start_time": "2023-01-15T12:00:10.997Z"
   },
   {
    "duration": 4277,
    "start_time": "2023-01-15T12:00:11.138Z"
   },
   {
    "duration": 12,
    "start_time": "2023-01-15T12:00:15.416Z"
   },
   {
    "duration": 5,
    "start_time": "2023-01-15T12:00:15.429Z"
   },
   {
    "duration": 524,
    "start_time": "2023-01-15T12:00:15.435Z"
   },
   {
    "duration": 9,
    "start_time": "2023-01-15T12:00:15.961Z"
   },
   {
    "duration": 5,
    "start_time": "2023-01-15T12:00:15.972Z"
   },
   {
    "duration": 532,
    "start_time": "2023-01-15T12:00:15.979Z"
   },
   {
    "duration": 136,
    "start_time": "2023-01-15T12:00:16.512Z"
   },
   {
    "duration": 0,
    "start_time": "2023-01-15T12:00:16.651Z"
   },
   {
    "duration": 0,
    "start_time": "2023-01-15T12:00:16.652Z"
   },
   {
    "duration": 0,
    "start_time": "2023-01-15T12:00:16.653Z"
   },
   {
    "duration": 0,
    "start_time": "2023-01-15T12:00:16.654Z"
   },
   {
    "duration": 0,
    "start_time": "2023-01-15T12:00:16.656Z"
   },
   {
    "duration": 0,
    "start_time": "2023-01-15T12:00:16.657Z"
   },
   {
    "duration": 0,
    "start_time": "2023-01-15T12:00:16.658Z"
   },
   {
    "duration": 0,
    "start_time": "2023-01-15T12:00:16.659Z"
   },
   {
    "duration": 0,
    "start_time": "2023-01-15T12:00:16.660Z"
   },
   {
    "duration": 0,
    "start_time": "2023-01-15T12:00:16.661Z"
   },
   {
    "duration": 0,
    "start_time": "2023-01-15T12:00:16.663Z"
   },
   {
    "duration": 1,
    "start_time": "2023-01-15T12:00:16.663Z"
   },
   {
    "duration": 0,
    "start_time": "2023-01-15T12:00:16.665Z"
   },
   {
    "duration": 1216,
    "start_time": "2023-01-15T12:04:18.109Z"
   },
   {
    "duration": 855,
    "start_time": "2023-01-15T12:04:19.327Z"
   },
   {
    "duration": 27,
    "start_time": "2023-01-15T12:04:20.184Z"
   },
   {
    "duration": 13,
    "start_time": "2023-01-15T12:04:20.213Z"
   },
   {
    "duration": 5,
    "start_time": "2023-01-15T12:04:20.228Z"
   },
   {
    "duration": 9,
    "start_time": "2023-01-15T12:04:20.234Z"
   },
   {
    "duration": 10,
    "start_time": "2023-01-15T12:04:20.245Z"
   },
   {
    "duration": 14,
    "start_time": "2023-01-15T12:04:20.257Z"
   },
   {
    "duration": 41,
    "start_time": "2023-01-15T12:04:20.273Z"
   },
   {
    "duration": 4,
    "start_time": "2023-01-15T12:04:20.316Z"
   },
   {
    "duration": 14,
    "start_time": "2023-01-15T12:04:20.321Z"
   },
   {
    "duration": 18,
    "start_time": "2023-01-15T12:04:20.337Z"
   },
   {
    "duration": 4,
    "start_time": "2023-01-15T12:04:20.357Z"
   },
   {
    "duration": 70,
    "start_time": "2023-01-15T12:04:20.364Z"
   },
   {
    "duration": 5,
    "start_time": "2023-01-15T12:04:20.436Z"
   },
   {
    "duration": 9,
    "start_time": "2023-01-15T12:04:20.443Z"
   },
   {
    "duration": 5,
    "start_time": "2023-01-15T12:04:20.454Z"
   },
   {
    "duration": 7,
    "start_time": "2023-01-15T12:04:20.460Z"
   },
   {
    "duration": 58,
    "start_time": "2023-01-15T12:04:20.468Z"
   },
   {
    "duration": 9,
    "start_time": "2023-01-15T12:04:20.528Z"
   },
   {
    "duration": 13,
    "start_time": "2023-01-15T12:04:20.538Z"
   },
   {
    "duration": 4,
    "start_time": "2023-01-15T12:04:20.552Z"
   },
   {
    "duration": 14,
    "start_time": "2023-01-15T12:04:20.557Z"
   },
   {
    "duration": 40,
    "start_time": "2023-01-15T12:04:20.573Z"
   },
   {
    "duration": 14,
    "start_time": "2023-01-15T12:04:20.615Z"
   },
   {
    "duration": 42,
    "start_time": "2023-01-15T12:04:20.631Z"
   },
   {
    "duration": 155,
    "start_time": "2023-01-15T12:04:20.675Z"
   },
   {
    "duration": 4318,
    "start_time": "2023-01-15T12:04:20.832Z"
   },
   {
    "duration": 12,
    "start_time": "2023-01-15T12:04:25.153Z"
   },
   {
    "duration": 10,
    "start_time": "2023-01-15T12:04:25.167Z"
   },
   {
    "duration": 529,
    "start_time": "2023-01-15T12:04:25.179Z"
   },
   {
    "duration": 10,
    "start_time": "2023-01-15T12:04:25.711Z"
   },
   {
    "duration": 7,
    "start_time": "2023-01-15T12:04:25.723Z"
   },
   {
    "duration": 525,
    "start_time": "2023-01-15T12:04:25.732Z"
   },
   {
    "duration": 1357,
    "start_time": "2023-01-15T12:04:26.259Z"
   },
   {
    "duration": 9,
    "start_time": "2023-01-15T12:04:27.617Z"
   },
   {
    "duration": 12,
    "start_time": "2023-01-15T12:04:27.628Z"
   },
   {
    "duration": 11,
    "start_time": "2023-01-15T12:04:27.642Z"
   },
   {
    "duration": 4,
    "start_time": "2023-01-15T12:04:27.655Z"
   },
   {
    "duration": 9,
    "start_time": "2023-01-15T12:04:27.661Z"
   },
   {
    "duration": 38,
    "start_time": "2023-01-15T12:04:27.674Z"
   },
   {
    "duration": 9,
    "start_time": "2023-01-15T12:04:27.714Z"
   },
   {
    "duration": 8,
    "start_time": "2023-01-15T12:04:27.725Z"
   },
   {
    "duration": 14,
    "start_time": "2023-01-15T12:04:27.735Z"
   },
   {
    "duration": 9,
    "start_time": "2023-01-15T12:04:27.750Z"
   },
   {
    "duration": 23,
    "start_time": "2023-01-15T12:04:27.761Z"
   },
   {
    "duration": 27,
    "start_time": "2023-01-15T12:04:27.786Z"
   },
   {
    "duration": 5,
    "start_time": "2023-01-15T12:04:27.815Z"
   },
   {
    "duration": 11,
    "start_time": "2023-01-15T12:13:26.268Z"
   },
   {
    "duration": 33,
    "start_time": "2023-01-15T12:13:38.244Z"
   },
   {
    "duration": 52,
    "start_time": "2023-01-15T13:13:20.413Z"
   },
   {
    "duration": 1244,
    "start_time": "2023-01-15T13:13:42.738Z"
   },
   {
    "duration": 1273,
    "start_time": "2023-01-15T13:13:43.985Z"
   },
   {
    "duration": 18,
    "start_time": "2023-01-15T13:13:45.259Z"
   },
   {
    "duration": 14,
    "start_time": "2023-01-15T13:13:45.279Z"
   },
   {
    "duration": 15,
    "start_time": "2023-01-15T13:13:45.295Z"
   },
   {
    "duration": 16,
    "start_time": "2023-01-15T13:13:45.312Z"
   },
   {
    "duration": 11,
    "start_time": "2023-01-15T13:13:45.329Z"
   },
   {
    "duration": 40,
    "start_time": "2023-01-15T13:13:45.341Z"
   },
   {
    "duration": 21,
    "start_time": "2023-01-15T13:13:45.382Z"
   },
   {
    "duration": 5,
    "start_time": "2023-01-15T13:13:45.407Z"
   },
   {
    "duration": 18,
    "start_time": "2023-01-15T13:13:45.414Z"
   },
   {
    "duration": 19,
    "start_time": "2023-01-15T13:13:45.434Z"
   },
   {
    "duration": 26,
    "start_time": "2023-01-15T13:13:45.454Z"
   },
   {
    "duration": 44,
    "start_time": "2023-01-15T13:13:45.482Z"
   },
   {
    "duration": 5,
    "start_time": "2023-01-15T13:13:45.528Z"
   },
   {
    "duration": 15,
    "start_time": "2023-01-15T13:13:45.535Z"
   },
   {
    "duration": 5,
    "start_time": "2023-01-15T13:13:45.551Z"
   },
   {
    "duration": 23,
    "start_time": "2023-01-15T13:13:45.558Z"
   },
   {
    "duration": 38,
    "start_time": "2023-01-15T13:13:45.584Z"
   },
   {
    "duration": 9,
    "start_time": "2023-01-15T13:13:45.624Z"
   },
   {
    "duration": 14,
    "start_time": "2023-01-15T13:13:45.634Z"
   },
   {
    "duration": 13,
    "start_time": "2023-01-15T13:13:45.649Z"
   },
   {
    "duration": 17,
    "start_time": "2023-01-15T13:13:45.663Z"
   },
   {
    "duration": 14,
    "start_time": "2023-01-15T13:13:45.682Z"
   },
   {
    "duration": 14,
    "start_time": "2023-01-15T13:13:45.698Z"
   },
   {
    "duration": 68,
    "start_time": "2023-01-15T13:13:45.714Z"
   },
   {
    "duration": 148,
    "start_time": "2023-01-15T13:13:45.784Z"
   },
   {
    "duration": 4175,
    "start_time": "2023-01-15T13:13:45.936Z"
   },
   {
    "duration": 15,
    "start_time": "2023-01-15T13:13:50.113Z"
   },
   {
    "duration": 16,
    "start_time": "2023-01-15T13:13:50.130Z"
   },
   {
    "duration": 570,
    "start_time": "2023-01-15T13:13:50.149Z"
   },
   {
    "duration": 8,
    "start_time": "2023-01-15T13:13:50.721Z"
   },
   {
    "duration": 8,
    "start_time": "2023-01-15T13:13:50.731Z"
   },
   {
    "duration": 490,
    "start_time": "2023-01-15T13:13:50.740Z"
   },
   {
    "duration": 1489,
    "start_time": "2023-01-15T13:13:51.232Z"
   },
   {
    "duration": 8,
    "start_time": "2023-01-15T13:13:52.723Z"
   },
   {
    "duration": 51,
    "start_time": "2023-01-15T13:13:52.733Z"
   },
   {
    "duration": 138,
    "start_time": "2023-01-15T13:13:52.786Z"
   },
   {
    "duration": 0,
    "start_time": "2023-01-15T13:13:52.926Z"
   },
   {
    "duration": 0,
    "start_time": "2023-01-15T13:13:52.928Z"
   },
   {
    "duration": 0,
    "start_time": "2023-01-15T13:13:52.929Z"
   },
   {
    "duration": 0,
    "start_time": "2023-01-15T13:13:52.931Z"
   },
   {
    "duration": 0,
    "start_time": "2023-01-15T13:13:52.933Z"
   },
   {
    "duration": 0,
    "start_time": "2023-01-15T13:13:52.934Z"
   },
   {
    "duration": 0,
    "start_time": "2023-01-15T13:13:52.936Z"
   },
   {
    "duration": 0,
    "start_time": "2023-01-15T13:13:52.937Z"
   },
   {
    "duration": 0,
    "start_time": "2023-01-15T13:13:52.938Z"
   },
   {
    "duration": 0,
    "start_time": "2023-01-15T13:13:52.939Z"
   },
   {
    "duration": 0,
    "start_time": "2023-01-15T13:13:52.940Z"
   },
   {
    "duration": 0,
    "start_time": "2023-01-15T13:13:52.941Z"
   },
   {
    "duration": 0,
    "start_time": "2023-01-15T13:13:52.943Z"
   },
   {
    "duration": 16,
    "start_time": "2023-01-15T13:15:44.273Z"
   },
   {
    "duration": 13,
    "start_time": "2023-01-15T13:16:02.753Z"
   },
   {
    "duration": 13,
    "start_time": "2023-01-15T13:17:27.290Z"
   },
   {
    "duration": 8,
    "start_time": "2023-01-15T13:27:10.772Z"
   },
   {
    "duration": 10,
    "start_time": "2023-01-15T13:28:09.390Z"
   },
   {
    "duration": 6,
    "start_time": "2023-01-15T13:29:25.040Z"
   },
   {
    "duration": 8,
    "start_time": "2023-01-15T13:29:39.960Z"
   },
   {
    "duration": 7,
    "start_time": "2023-01-15T13:29:53.252Z"
   },
   {
    "duration": 12,
    "start_time": "2023-01-15T13:31:36.109Z"
   },
   {
    "duration": 12,
    "start_time": "2023-01-15T13:32:37.580Z"
   },
   {
    "duration": 10,
    "start_time": "2023-01-15T13:33:18.711Z"
   },
   {
    "duration": 10,
    "start_time": "2023-01-15T13:34:06.911Z"
   },
   {
    "duration": 9,
    "start_time": "2023-01-15T13:34:36.485Z"
   },
   {
    "duration": 9,
    "start_time": "2023-01-15T13:35:21.060Z"
   },
   {
    "duration": 9,
    "start_time": "2023-01-15T13:35:50.181Z"
   },
   {
    "duration": 13,
    "start_time": "2023-01-15T13:36:33.300Z"
   },
   {
    "duration": 12,
    "start_time": "2023-01-15T13:36:55.960Z"
   },
   {
    "duration": 68,
    "start_time": "2023-01-15T13:37:09.500Z"
   },
   {
    "duration": 10,
    "start_time": "2023-01-15T13:37:17.889Z"
   },
   {
    "duration": 10,
    "start_time": "2023-01-15T13:37:52.501Z"
   },
   {
    "duration": 9,
    "start_time": "2023-01-15T13:38:20.912Z"
   },
   {
    "duration": 14,
    "start_time": "2023-01-15T13:38:54.360Z"
   },
   {
    "duration": 12,
    "start_time": "2023-01-15T13:39:04.641Z"
   },
   {
    "duration": 1153,
    "start_time": "2023-01-15T13:39:53.842Z"
   },
   {
    "duration": 1107,
    "start_time": "2023-01-15T13:39:54.996Z"
   },
   {
    "duration": 16,
    "start_time": "2023-01-15T13:39:56.105Z"
   },
   {
    "duration": 32,
    "start_time": "2023-01-15T13:39:56.122Z"
   },
   {
    "duration": 50,
    "start_time": "2023-01-15T13:39:56.156Z"
   },
   {
    "duration": 49,
    "start_time": "2023-01-15T13:39:56.208Z"
   },
   {
    "duration": 22,
    "start_time": "2023-01-15T13:39:56.259Z"
   },
   {
    "duration": 21,
    "start_time": "2023-01-15T13:39:56.283Z"
   },
   {
    "duration": 43,
    "start_time": "2023-01-15T13:39:56.306Z"
   },
   {
    "duration": 17,
    "start_time": "2023-01-15T13:39:56.350Z"
   },
   {
    "duration": 43,
    "start_time": "2023-01-15T13:39:56.368Z"
   },
   {
    "duration": 40,
    "start_time": "2023-01-15T13:39:56.413Z"
   },
   {
    "duration": 37,
    "start_time": "2023-01-15T13:39:56.454Z"
   },
   {
    "duration": 63,
    "start_time": "2023-01-15T13:39:56.494Z"
   },
   {
    "duration": 6,
    "start_time": "2023-01-15T13:39:56.559Z"
   },
   {
    "duration": 28,
    "start_time": "2023-01-15T13:39:56.567Z"
   },
   {
    "duration": 37,
    "start_time": "2023-01-15T13:39:56.596Z"
   },
   {
    "duration": 36,
    "start_time": "2023-01-15T13:39:56.635Z"
   },
   {
    "duration": 59,
    "start_time": "2023-01-15T13:39:56.673Z"
   },
   {
    "duration": 43,
    "start_time": "2023-01-15T13:39:56.734Z"
   },
   {
    "duration": 55,
    "start_time": "2023-01-15T13:39:56.779Z"
   },
   {
    "duration": 71,
    "start_time": "2023-01-15T13:39:56.836Z"
   },
   {
    "duration": 68,
    "start_time": "2023-01-15T13:39:56.908Z"
   },
   {
    "duration": 24,
    "start_time": "2023-01-15T13:39:56.977Z"
   },
   {
    "duration": 25,
    "start_time": "2023-01-15T13:39:57.003Z"
   },
   {
    "duration": 57,
    "start_time": "2023-01-15T13:39:57.030Z"
   },
   {
    "duration": 128,
    "start_time": "2023-01-15T13:39:57.088Z"
   },
   {
    "duration": 77,
    "start_time": "2023-01-15T13:39:57.218Z"
   },
   {
    "duration": 0,
    "start_time": "2023-01-15T13:39:57.297Z"
   },
   {
    "duration": 0,
    "start_time": "2023-01-15T13:39:57.298Z"
   },
   {
    "duration": 0,
    "start_time": "2023-01-15T13:39:57.299Z"
   },
   {
    "duration": 0,
    "start_time": "2023-01-15T13:39:57.300Z"
   },
   {
    "duration": 1,
    "start_time": "2023-01-15T13:39:57.300Z"
   },
   {
    "duration": 0,
    "start_time": "2023-01-15T13:39:57.301Z"
   },
   {
    "duration": 0,
    "start_time": "2023-01-15T13:39:57.302Z"
   },
   {
    "duration": 0,
    "start_time": "2023-01-15T13:39:57.303Z"
   },
   {
    "duration": 0,
    "start_time": "2023-01-15T13:39:57.304Z"
   },
   {
    "duration": 0,
    "start_time": "2023-01-15T13:39:57.305Z"
   },
   {
    "duration": 0,
    "start_time": "2023-01-15T13:39:57.306Z"
   },
   {
    "duration": 0,
    "start_time": "2023-01-15T13:39:57.307Z"
   },
   {
    "duration": 0,
    "start_time": "2023-01-15T13:39:57.308Z"
   },
   {
    "duration": 0,
    "start_time": "2023-01-15T13:39:57.310Z"
   },
   {
    "duration": 0,
    "start_time": "2023-01-15T13:39:57.311Z"
   },
   {
    "duration": 0,
    "start_time": "2023-01-15T13:39:57.312Z"
   },
   {
    "duration": 0,
    "start_time": "2023-01-15T13:39:57.313Z"
   },
   {
    "duration": 0,
    "start_time": "2023-01-15T13:39:57.314Z"
   },
   {
    "duration": 0,
    "start_time": "2023-01-15T13:39:57.315Z"
   },
   {
    "duration": 0,
    "start_time": "2023-01-15T13:39:57.316Z"
   },
   {
    "duration": 0,
    "start_time": "2023-01-15T13:39:57.317Z"
   },
   {
    "duration": 0,
    "start_time": "2023-01-15T13:39:57.318Z"
   },
   {
    "duration": 0,
    "start_time": "2023-01-15T13:39:57.319Z"
   },
   {
    "duration": 0,
    "start_time": "2023-01-15T13:39:57.320Z"
   },
   {
    "duration": 1154,
    "start_time": "2023-01-15T13:40:18.263Z"
   },
   {
    "duration": 1109,
    "start_time": "2023-01-15T13:40:19.419Z"
   },
   {
    "duration": 19,
    "start_time": "2023-01-15T13:40:20.530Z"
   },
   {
    "duration": 13,
    "start_time": "2023-01-15T13:40:20.551Z"
   },
   {
    "duration": 4,
    "start_time": "2023-01-15T13:40:20.566Z"
   },
   {
    "duration": 11,
    "start_time": "2023-01-15T13:40:20.572Z"
   },
   {
    "duration": 12,
    "start_time": "2023-01-15T13:40:20.585Z"
   },
   {
    "duration": 12,
    "start_time": "2023-01-15T13:40:20.599Z"
   },
   {
    "duration": 14,
    "start_time": "2023-01-15T13:40:20.612Z"
   },
   {
    "duration": 4,
    "start_time": "2023-01-15T13:40:20.629Z"
   },
   {
    "duration": 12,
    "start_time": "2023-01-15T13:40:20.635Z"
   },
   {
    "duration": 41,
    "start_time": "2023-01-15T13:40:20.649Z"
   },
   {
    "duration": 5,
    "start_time": "2023-01-15T13:40:20.691Z"
   },
   {
    "duration": 34,
    "start_time": "2023-01-15T13:40:20.697Z"
   },
   {
    "duration": 6,
    "start_time": "2023-01-15T13:40:20.732Z"
   },
   {
    "duration": 11,
    "start_time": "2023-01-15T13:40:20.739Z"
   },
   {
    "duration": 5,
    "start_time": "2023-01-15T13:40:20.778Z"
   },
   {
    "duration": 6,
    "start_time": "2023-01-15T13:40:20.785Z"
   },
   {
    "duration": 25,
    "start_time": "2023-01-15T13:40:20.792Z"
   },
   {
    "duration": 9,
    "start_time": "2023-01-15T13:40:20.818Z"
   },
   {
    "duration": 10,
    "start_time": "2023-01-15T13:40:20.828Z"
   },
   {
    "duration": 4,
    "start_time": "2023-01-15T13:40:20.839Z"
   },
   {
    "duration": 41,
    "start_time": "2023-01-15T13:40:20.844Z"
   },
   {
    "duration": 10,
    "start_time": "2023-01-15T13:40:20.887Z"
   },
   {
    "duration": 15,
    "start_time": "2023-01-15T13:40:20.898Z"
   },
   {
    "duration": 64,
    "start_time": "2023-01-15T13:40:20.915Z"
   },
   {
    "duration": 153,
    "start_time": "2023-01-15T13:40:20.981Z"
   },
   {
    "duration": 4126,
    "start_time": "2023-01-15T13:40:21.137Z"
   },
   {
    "duration": 16,
    "start_time": "2023-01-15T13:40:25.265Z"
   },
   {
    "duration": 8,
    "start_time": "2023-01-15T13:40:25.283Z"
   },
   {
    "duration": 463,
    "start_time": "2023-01-15T13:40:25.293Z"
   },
   {
    "duration": 20,
    "start_time": "2023-01-15T13:40:25.758Z"
   },
   {
    "duration": 6,
    "start_time": "2023-01-15T13:40:25.779Z"
   },
   {
    "duration": 407,
    "start_time": "2023-01-15T13:40:25.787Z"
   },
   {
    "duration": 1209,
    "start_time": "2023-01-15T13:40:26.196Z"
   },
   {
    "duration": 9,
    "start_time": "2023-01-15T13:40:27.407Z"
   },
   {
    "duration": 17,
    "start_time": "2023-01-15T13:40:27.417Z"
   },
   {
    "duration": 93,
    "start_time": "2023-01-15T13:40:27.436Z"
   },
   {
    "duration": 0,
    "start_time": "2023-01-15T13:40:27.530Z"
   },
   {
    "duration": 0,
    "start_time": "2023-01-15T13:40:27.531Z"
   },
   {
    "duration": 0,
    "start_time": "2023-01-15T13:40:27.532Z"
   },
   {
    "duration": 0,
    "start_time": "2023-01-15T13:40:27.533Z"
   },
   {
    "duration": 0,
    "start_time": "2023-01-15T13:40:27.534Z"
   },
   {
    "duration": 0,
    "start_time": "2023-01-15T13:40:27.535Z"
   },
   {
    "duration": 0,
    "start_time": "2023-01-15T13:40:27.536Z"
   },
   {
    "duration": 0,
    "start_time": "2023-01-15T13:40:27.537Z"
   },
   {
    "duration": 0,
    "start_time": "2023-01-15T13:40:27.538Z"
   },
   {
    "duration": 0,
    "start_time": "2023-01-15T13:40:27.539Z"
   },
   {
    "duration": 0,
    "start_time": "2023-01-15T13:40:27.540Z"
   },
   {
    "duration": 0,
    "start_time": "2023-01-15T13:40:27.541Z"
   },
   {
    "duration": 0,
    "start_time": "2023-01-15T13:40:27.541Z"
   },
   {
    "duration": 0,
    "start_time": "2023-01-15T13:40:27.542Z"
   },
   {
    "duration": 10,
    "start_time": "2023-01-15T13:40:32.020Z"
   },
   {
    "duration": 10,
    "start_time": "2023-01-15T13:40:43.392Z"
   },
   {
    "duration": 9,
    "start_time": "2023-01-15T13:41:16.813Z"
   },
   {
    "duration": 4118,
    "start_time": "2023-01-15T13:41:42.961Z"
   },
   {
    "duration": 12,
    "start_time": "2023-01-15T13:41:49.000Z"
   },
   {
    "duration": 10,
    "start_time": "2023-01-15T13:42:13.201Z"
   },
   {
    "duration": 12,
    "start_time": "2023-01-15T13:42:21.921Z"
   },
   {
    "duration": 10,
    "start_time": "2023-01-15T13:43:04.433Z"
   },
   {
    "duration": 12,
    "start_time": "2023-01-15T13:46:49.360Z"
   },
   {
    "duration": 11,
    "start_time": "2023-01-15T13:47:00.560Z"
   },
   {
    "duration": 11,
    "start_time": "2023-01-15T13:50:23.680Z"
   },
   {
    "duration": 12,
    "start_time": "2023-01-15T13:52:38.453Z"
   },
   {
    "duration": 12,
    "start_time": "2023-01-15T13:53:45.428Z"
   },
   {
    "duration": 13,
    "start_time": "2023-01-15T13:54:31.001Z"
   },
   {
    "duration": 14,
    "start_time": "2023-01-15T13:55:09.043Z"
   },
   {
    "duration": 12,
    "start_time": "2023-01-15T13:55:37.120Z"
   },
   {
    "duration": 1143,
    "start_time": "2023-01-15T14:04:15.063Z"
   },
   {
    "duration": 1133,
    "start_time": "2023-01-15T14:04:16.208Z"
   },
   {
    "duration": 17,
    "start_time": "2023-01-15T14:04:17.342Z"
   },
   {
    "duration": 13,
    "start_time": "2023-01-15T14:04:17.362Z"
   },
   {
    "duration": 4,
    "start_time": "2023-01-15T14:04:17.376Z"
   },
   {
    "duration": 8,
    "start_time": "2023-01-15T14:04:17.382Z"
   },
   {
    "duration": 6,
    "start_time": "2023-01-15T14:04:17.392Z"
   },
   {
    "duration": 11,
    "start_time": "2023-01-15T14:04:17.400Z"
   },
   {
    "duration": 15,
    "start_time": "2023-01-15T14:04:17.413Z"
   },
   {
    "duration": 4,
    "start_time": "2023-01-15T14:04:17.430Z"
   },
   {
    "duration": 12,
    "start_time": "2023-01-15T14:04:17.435Z"
   },
   {
    "duration": 17,
    "start_time": "2023-01-15T14:04:17.478Z"
   },
   {
    "duration": 4,
    "start_time": "2023-01-15T14:04:17.496Z"
   },
   {
    "duration": 46,
    "start_time": "2023-01-15T14:04:17.502Z"
   },
   {
    "duration": 6,
    "start_time": "2023-01-15T14:04:17.549Z"
   },
   {
    "duration": 24,
    "start_time": "2023-01-15T14:04:17.556Z"
   },
   {
    "duration": 4,
    "start_time": "2023-01-15T14:04:17.582Z"
   },
   {
    "duration": 7,
    "start_time": "2023-01-15T14:04:17.588Z"
   },
   {
    "duration": 21,
    "start_time": "2023-01-15T14:04:17.596Z"
   },
   {
    "duration": 8,
    "start_time": "2023-01-15T14:04:17.618Z"
   },
   {
    "duration": 11,
    "start_time": "2023-01-15T14:04:17.628Z"
   },
   {
    "duration": 3,
    "start_time": "2023-01-15T14:04:17.641Z"
   },
   {
    "duration": 34,
    "start_time": "2023-01-15T14:04:17.646Z"
   },
   {
    "duration": 11,
    "start_time": "2023-01-15T14:04:17.681Z"
   },
   {
    "duration": 14,
    "start_time": "2023-01-15T14:04:17.693Z"
   },
   {
    "duration": 37,
    "start_time": "2023-01-15T14:04:17.709Z"
   },
   {
    "duration": 159,
    "start_time": "2023-01-15T14:04:17.747Z"
   },
   {
    "duration": 4021,
    "start_time": "2023-01-15T14:04:17.909Z"
   },
   {
    "duration": 11,
    "start_time": "2023-01-15T14:04:21.931Z"
   },
   {
    "duration": 34,
    "start_time": "2023-01-15T14:04:21.943Z"
   },
   {
    "duration": 482,
    "start_time": "2023-01-15T14:04:21.979Z"
   },
   {
    "duration": 8,
    "start_time": "2023-01-15T14:04:22.463Z"
   },
   {
    "duration": 23,
    "start_time": "2023-01-15T14:04:22.478Z"
   },
   {
    "duration": 450,
    "start_time": "2023-01-15T14:04:22.503Z"
   },
   {
    "duration": 1314,
    "start_time": "2023-01-15T14:04:22.955Z"
   },
   {
    "duration": 7,
    "start_time": "2023-01-15T14:04:24.271Z"
   },
   {
    "duration": 31,
    "start_time": "2023-01-15T14:04:24.279Z"
   },
   {
    "duration": 49,
    "start_time": "2023-01-15T14:04:24.312Z"
   },
   {
    "duration": 59,
    "start_time": "2023-01-15T14:04:24.362Z"
   },
   {
    "duration": 22,
    "start_time": "2023-01-15T14:04:24.422Z"
   },
   {
    "duration": 23,
    "start_time": "2023-01-15T14:04:24.446Z"
   },
   {
    "duration": 33,
    "start_time": "2023-01-15T14:04:24.470Z"
   },
   {
    "duration": 26,
    "start_time": "2023-01-15T14:04:24.505Z"
   },
   {
    "duration": 69,
    "start_time": "2023-01-15T14:04:24.533Z"
   },
   {
    "duration": 31,
    "start_time": "2023-01-15T14:04:24.604Z"
   },
   {
    "duration": 37,
    "start_time": "2023-01-15T14:04:24.637Z"
   },
   {
    "duration": 35,
    "start_time": "2023-01-15T14:04:24.676Z"
   },
   {
    "duration": 44,
    "start_time": "2023-01-15T14:04:24.713Z"
   },
   {
    "duration": 26,
    "start_time": "2023-01-15T14:04:24.759Z"
   },
   {
    "duration": 55,
    "start_time": "2023-01-15T14:04:24.786Z"
   },
   {
    "duration": 5,
    "start_time": "2023-01-15T14:08:38.109Z"
   },
   {
    "duration": 4,
    "start_time": "2023-01-15T14:10:41.533Z"
   },
   {
    "duration": 6,
    "start_time": "2023-01-15T14:10:45.713Z"
   },
   {
    "duration": 6,
    "start_time": "2023-01-15T14:11:04.052Z"
   },
   {
    "duration": 5,
    "start_time": "2023-01-15T14:11:13.182Z"
   },
   {
    "duration": 117,
    "start_time": "2023-01-15T14:13:53.894Z"
   },
   {
    "duration": 16,
    "start_time": "2023-01-15T14:14:06.234Z"
   },
   {
    "duration": 12,
    "start_time": "2023-01-15T14:14:16.054Z"
   },
   {
    "duration": 9,
    "start_time": "2023-01-15T14:14:18.402Z"
   },
   {
    "duration": 4,
    "start_time": "2023-01-15T14:14:38.595Z"
   },
   {
    "duration": 4,
    "start_time": "2023-01-15T14:14:48.573Z"
   },
   {
    "duration": 7,
    "start_time": "2023-01-15T14:15:01.254Z"
   },
   {
    "duration": 7,
    "start_time": "2023-01-15T14:15:03.173Z"
   },
   {
    "duration": 21,
    "start_time": "2023-01-15T15:33:52.945Z"
   },
   {
    "duration": 16,
    "start_time": "2023-01-15T15:36:12.516Z"
   },
   {
    "duration": 18,
    "start_time": "2023-01-15T15:36:44.876Z"
   },
   {
    "duration": 1174,
    "start_time": "2023-01-15T15:38:00.336Z"
   },
   {
    "duration": 1097,
    "start_time": "2023-01-15T15:38:01.512Z"
   },
   {
    "duration": 16,
    "start_time": "2023-01-15T15:38:02.610Z"
   },
   {
    "duration": 13,
    "start_time": "2023-01-15T15:38:02.627Z"
   },
   {
    "duration": 4,
    "start_time": "2023-01-15T15:38:02.642Z"
   },
   {
    "duration": 7,
    "start_time": "2023-01-15T15:38:02.647Z"
   },
   {
    "duration": 12,
    "start_time": "2023-01-15T15:38:02.655Z"
   },
   {
    "duration": 10,
    "start_time": "2023-01-15T15:38:02.679Z"
   },
   {
    "duration": 23,
    "start_time": "2023-01-15T15:38:02.691Z"
   },
   {
    "duration": 4,
    "start_time": "2023-01-15T15:38:02.715Z"
   },
   {
    "duration": 14,
    "start_time": "2023-01-15T15:38:02.721Z"
   },
   {
    "duration": 18,
    "start_time": "2023-01-15T15:38:02.737Z"
   },
   {
    "duration": 22,
    "start_time": "2023-01-15T15:38:02.757Z"
   },
   {
    "duration": 32,
    "start_time": "2023-01-15T15:38:02.781Z"
   },
   {
    "duration": 7,
    "start_time": "2023-01-15T15:38:02.814Z"
   },
   {
    "duration": 18,
    "start_time": "2023-01-15T15:38:02.824Z"
   },
   {
    "duration": 18,
    "start_time": "2023-01-15T15:38:02.845Z"
   },
   {
    "duration": 10,
    "start_time": "2023-01-15T15:38:02.877Z"
   },
   {
    "duration": 22,
    "start_time": "2023-01-15T15:38:02.889Z"
   },
   {
    "duration": 9,
    "start_time": "2023-01-15T15:38:02.912Z"
   },
   {
    "duration": 13,
    "start_time": "2023-01-15T15:38:02.923Z"
   },
   {
    "duration": 3,
    "start_time": "2023-01-15T15:38:02.938Z"
   },
   {
    "duration": 40,
    "start_time": "2023-01-15T15:38:02.943Z"
   },
   {
    "duration": 10,
    "start_time": "2023-01-15T15:38:02.984Z"
   },
   {
    "duration": 13,
    "start_time": "2023-01-15T15:38:02.995Z"
   },
   {
    "duration": 81,
    "start_time": "2023-01-15T15:38:03.009Z"
   },
   {
    "duration": 216,
    "start_time": "2023-01-15T15:38:03.093Z"
   },
   {
    "duration": 3974,
    "start_time": "2023-01-15T15:38:03.311Z"
   },
   {
    "duration": 11,
    "start_time": "2023-01-15T15:38:07.286Z"
   },
   {
    "duration": 53,
    "start_time": "2023-01-15T15:38:07.299Z"
   },
   {
    "duration": 461,
    "start_time": "2023-01-15T15:38:07.354Z"
   },
   {
    "duration": 9,
    "start_time": "2023-01-15T15:38:07.817Z"
   },
   {
    "duration": 8,
    "start_time": "2023-01-15T15:38:07.827Z"
   },
   {
    "duration": 435,
    "start_time": "2023-01-15T15:38:07.837Z"
   },
   {
    "duration": 1244,
    "start_time": "2023-01-15T15:38:08.277Z"
   },
   {
    "duration": 8,
    "start_time": "2023-01-15T15:38:09.523Z"
   },
   {
    "duration": 15,
    "start_time": "2023-01-15T15:38:09.533Z"
   },
   {
    "duration": 7,
    "start_time": "2023-01-15T15:38:09.549Z"
   },
   {
    "duration": 9,
    "start_time": "2023-01-15T15:38:09.557Z"
   },
   {
    "duration": 6,
    "start_time": "2023-01-15T15:38:09.567Z"
   },
   {
    "duration": 4,
    "start_time": "2023-01-15T15:38:09.577Z"
   },
   {
    "duration": 8,
    "start_time": "2023-01-15T15:38:09.582Z"
   },
   {
    "duration": 13,
    "start_time": "2023-01-15T15:38:09.591Z"
   },
   {
    "duration": 17,
    "start_time": "2023-01-15T15:38:09.606Z"
   },
   {
    "duration": 6,
    "start_time": "2023-01-15T15:38:09.625Z"
   },
   {
    "duration": 8,
    "start_time": "2023-01-15T15:38:09.633Z"
   },
   {
    "duration": 8,
    "start_time": "2023-01-15T15:38:09.642Z"
   },
   {
    "duration": 7,
    "start_time": "2023-01-15T15:38:09.651Z"
   },
   {
    "duration": 23,
    "start_time": "2023-01-15T15:38:09.659Z"
   },
   {
    "duration": 7,
    "start_time": "2023-01-15T15:38:09.684Z"
   },
   {
    "duration": 16,
    "start_time": "2023-01-15T15:38:09.693Z"
   },
   {
    "duration": 9,
    "start_time": "2023-01-15T15:39:22.214Z"
   },
   {
    "duration": 15,
    "start_time": "2023-01-15T15:39:52.056Z"
   },
   {
    "duration": 1107,
    "start_time": "2023-01-15T15:40:18.814Z"
   },
   {
    "duration": 980,
    "start_time": "2023-01-15T15:40:19.923Z"
   },
   {
    "duration": 17,
    "start_time": "2023-01-15T15:40:20.904Z"
   },
   {
    "duration": 34,
    "start_time": "2023-01-15T15:40:20.922Z"
   },
   {
    "duration": 34,
    "start_time": "2023-01-15T15:40:20.958Z"
   },
   {
    "duration": 18,
    "start_time": "2023-01-15T15:40:20.993Z"
   },
   {
    "duration": 47,
    "start_time": "2023-01-15T15:40:21.013Z"
   },
   {
    "duration": 29,
    "start_time": "2023-01-15T15:40:21.061Z"
   },
   {
    "duration": 34,
    "start_time": "2023-01-15T15:40:21.091Z"
   },
   {
    "duration": 18,
    "start_time": "2023-01-15T15:40:21.127Z"
   },
   {
    "duration": 26,
    "start_time": "2023-01-15T15:40:21.147Z"
   },
   {
    "duration": 35,
    "start_time": "2023-01-15T15:40:21.175Z"
   },
   {
    "duration": 5,
    "start_time": "2023-01-15T15:40:21.212Z"
   },
   {
    "duration": 42,
    "start_time": "2023-01-15T15:40:21.220Z"
   },
   {
    "duration": 4,
    "start_time": "2023-01-15T15:40:21.264Z"
   },
   {
    "duration": 19,
    "start_time": "2023-01-15T15:40:21.270Z"
   },
   {
    "duration": 28,
    "start_time": "2023-01-15T15:40:21.291Z"
   },
   {
    "duration": 10,
    "start_time": "2023-01-15T15:40:21.321Z"
   },
   {
    "duration": 47,
    "start_time": "2023-01-15T15:40:21.332Z"
   },
   {
    "duration": 23,
    "start_time": "2023-01-15T15:40:21.381Z"
   },
   {
    "duration": 37,
    "start_time": "2023-01-15T15:40:21.405Z"
   },
   {
    "duration": 27,
    "start_time": "2023-01-15T15:40:21.443Z"
   },
   {
    "duration": 63,
    "start_time": "2023-01-15T15:40:21.472Z"
   },
   {
    "duration": 43,
    "start_time": "2023-01-15T15:40:21.537Z"
   },
   {
    "duration": 30,
    "start_time": "2023-01-15T15:40:21.582Z"
   },
   {
    "duration": 81,
    "start_time": "2023-01-15T15:40:21.613Z"
   },
   {
    "duration": 142,
    "start_time": "2023-01-15T15:40:21.696Z"
   },
   {
    "duration": 4069,
    "start_time": "2023-01-15T15:40:21.840Z"
   },
   {
    "duration": 12,
    "start_time": "2023-01-15T15:40:25.911Z"
   },
   {
    "duration": 34,
    "start_time": "2023-01-15T15:40:25.924Z"
   },
   {
    "duration": 444,
    "start_time": "2023-01-15T15:40:25.960Z"
   },
   {
    "duration": 8,
    "start_time": "2023-01-15T15:40:26.406Z"
   },
   {
    "duration": 26,
    "start_time": "2023-01-15T15:40:26.416Z"
   },
   {
    "duration": 426,
    "start_time": "2023-01-15T15:40:26.443Z"
   },
   {
    "duration": 1246,
    "start_time": "2023-01-15T15:40:26.871Z"
   },
   {
    "duration": 8,
    "start_time": "2023-01-15T15:40:28.119Z"
   },
   {
    "duration": 37,
    "start_time": "2023-01-15T15:40:28.128Z"
   },
   {
    "duration": 35,
    "start_time": "2023-01-15T15:40:28.167Z"
   },
   {
    "duration": 50,
    "start_time": "2023-01-15T15:40:28.203Z"
   },
   {
    "duration": 35,
    "start_time": "2023-01-15T15:40:28.254Z"
   },
   {
    "duration": 33,
    "start_time": "2023-01-15T15:40:28.293Z"
   },
   {
    "duration": 26,
    "start_time": "2023-01-15T15:40:28.328Z"
   },
   {
    "duration": 43,
    "start_time": "2023-01-15T15:40:28.356Z"
   },
   {
    "duration": 37,
    "start_time": "2023-01-15T15:40:28.400Z"
   },
   {
    "duration": 20,
    "start_time": "2023-01-15T15:40:28.439Z"
   },
   {
    "duration": 35,
    "start_time": "2023-01-15T15:40:28.460Z"
   },
   {
    "duration": 33,
    "start_time": "2023-01-15T15:40:28.497Z"
   },
   {
    "duration": 35,
    "start_time": "2023-01-15T15:40:28.531Z"
   },
   {
    "duration": 34,
    "start_time": "2023-01-15T15:40:28.568Z"
   },
   {
    "duration": 39,
    "start_time": "2023-01-15T15:40:28.604Z"
   },
   {
    "duration": 40,
    "start_time": "2023-01-15T15:40:28.645Z"
   },
   {
    "duration": 26,
    "start_time": "2023-01-15T15:40:28.687Z"
   },
   {
    "duration": 3,
    "start_time": "2023-01-15T15:45:47.236Z"
   },
   {
    "duration": 60,
    "start_time": "2023-01-15T15:47:18.353Z"
   },
   {
    "duration": 68,
    "start_time": "2023-01-15T15:47:24.641Z"
   },
   {
    "duration": 66,
    "start_time": "2023-01-15T15:47:47.633Z"
   },
   {
    "duration": 3,
    "start_time": "2023-01-15T15:48:34.773Z"
   },
   {
    "duration": 65,
    "start_time": "2023-01-15T15:48:36.933Z"
   },
   {
    "duration": 20,
    "start_time": "2023-01-15T15:52:33.433Z"
   },
   {
    "duration": 18,
    "start_time": "2023-01-15T15:53:49.993Z"
   },
   {
    "duration": 1057,
    "start_time": "2023-01-15T15:55:31.339Z"
   },
   {
    "duration": 824,
    "start_time": "2023-01-15T15:55:32.398Z"
   },
   {
    "duration": 15,
    "start_time": "2023-01-15T15:55:33.224Z"
   },
   {
    "duration": 10,
    "start_time": "2023-01-15T15:55:33.241Z"
   },
   {
    "duration": 5,
    "start_time": "2023-01-15T15:55:33.253Z"
   },
   {
    "duration": 7,
    "start_time": "2023-01-15T15:55:33.259Z"
   },
   {
    "duration": 10,
    "start_time": "2023-01-15T15:55:33.268Z"
   },
   {
    "duration": 12,
    "start_time": "2023-01-15T15:55:33.280Z"
   },
   {
    "duration": 10,
    "start_time": "2023-01-15T15:55:33.293Z"
   },
   {
    "duration": 4,
    "start_time": "2023-01-15T15:55:33.305Z"
   },
   {
    "duration": 13,
    "start_time": "2023-01-15T15:55:33.310Z"
   },
   {
    "duration": 17,
    "start_time": "2023-01-15T15:55:33.324Z"
   },
   {
    "duration": 4,
    "start_time": "2023-01-15T15:55:33.342Z"
   },
   {
    "duration": 50,
    "start_time": "2023-01-15T15:55:33.347Z"
   },
   {
    "duration": 5,
    "start_time": "2023-01-15T15:55:33.399Z"
   },
   {
    "duration": 12,
    "start_time": "2023-01-15T15:55:33.406Z"
   },
   {
    "duration": 5,
    "start_time": "2023-01-15T15:55:33.419Z"
   },
   {
    "duration": 4,
    "start_time": "2023-01-15T15:55:33.426Z"
   },
   {
    "duration": 51,
    "start_time": "2023-01-15T15:55:33.432Z"
   },
   {
    "duration": 11,
    "start_time": "2023-01-15T15:55:33.485Z"
   },
   {
    "duration": 12,
    "start_time": "2023-01-15T15:55:33.498Z"
   },
   {
    "duration": 4,
    "start_time": "2023-01-15T15:55:33.512Z"
   },
   {
    "duration": 11,
    "start_time": "2023-01-15T15:55:33.517Z"
   },
   {
    "duration": 12,
    "start_time": "2023-01-15T15:55:33.530Z"
   },
   {
    "duration": 14,
    "start_time": "2023-01-15T15:55:33.577Z"
   },
   {
    "duration": 46,
    "start_time": "2023-01-15T15:55:33.593Z"
   },
   {
    "duration": 148,
    "start_time": "2023-01-15T15:55:33.640Z"
   },
   {
    "duration": 4018,
    "start_time": "2023-01-15T15:55:33.792Z"
   },
   {
    "duration": 9,
    "start_time": "2023-01-15T15:55:37.812Z"
   },
   {
    "duration": 25,
    "start_time": "2023-01-15T15:55:37.823Z"
   },
   {
    "duration": 466,
    "start_time": "2023-01-15T15:55:37.849Z"
   },
   {
    "duration": 8,
    "start_time": "2023-01-15T15:55:38.317Z"
   },
   {
    "duration": 11,
    "start_time": "2023-01-15T15:55:38.326Z"
   },
   {
    "duration": 403,
    "start_time": "2023-01-15T15:55:38.338Z"
   },
   {
    "duration": 1247,
    "start_time": "2023-01-15T15:55:38.742Z"
   },
   {
    "duration": 8,
    "start_time": "2023-01-15T15:55:39.991Z"
   },
   {
    "duration": 15,
    "start_time": "2023-01-15T15:55:40.001Z"
   },
   {
    "duration": 17,
    "start_time": "2023-01-15T15:55:40.018Z"
   },
   {
    "duration": 8,
    "start_time": "2023-01-15T15:55:40.037Z"
   },
   {
    "duration": 9,
    "start_time": "2023-01-15T15:55:40.047Z"
   },
   {
    "duration": 4,
    "start_time": "2023-01-15T15:55:40.058Z"
   },
   {
    "duration": 7,
    "start_time": "2023-01-15T15:55:40.077Z"
   },
   {
    "duration": 8,
    "start_time": "2023-01-15T15:55:40.085Z"
   },
   {
    "duration": 7,
    "start_time": "2023-01-15T15:55:40.095Z"
   },
   {
    "duration": 7,
    "start_time": "2023-01-15T15:55:40.103Z"
   },
   {
    "duration": 4,
    "start_time": "2023-01-15T15:55:40.112Z"
   },
   {
    "duration": 9,
    "start_time": "2023-01-15T15:55:40.118Z"
   },
   {
    "duration": 10,
    "start_time": "2023-01-15T15:55:40.129Z"
   },
   {
    "duration": 43,
    "start_time": "2023-01-15T15:55:40.140Z"
   },
   {
    "duration": 6,
    "start_time": "2023-01-15T15:55:40.185Z"
   },
   {
    "duration": 17,
    "start_time": "2023-01-15T15:55:40.193Z"
   },
   {
    "duration": 9,
    "start_time": "2023-01-15T15:55:40.212Z"
   },
   {
    "duration": 10,
    "start_time": "2023-01-15T15:55:40.223Z"
   },
   {
    "duration": 87,
    "start_time": "2023-01-15T15:55:40.235Z"
   },
   {
    "duration": 16,
    "start_time": "2023-01-15T15:55:40.323Z"
   },
   {
    "duration": 21,
    "start_time": "2023-01-15T15:55:55.113Z"
   },
   {
    "duration": 14,
    "start_time": "2023-01-15T16:10:44.416Z"
   },
   {
    "duration": 102,
    "start_time": "2023-01-15T16:14:05.244Z"
   },
   {
    "duration": 338,
    "start_time": "2023-01-15T16:14:17.736Z"
   },
   {
    "duration": 1199,
    "start_time": "2023-01-15T16:14:30.816Z"
   },
   {
    "duration": 1074,
    "start_time": "2023-01-15T16:14:32.017Z"
   },
   {
    "duration": 16,
    "start_time": "2023-01-15T16:14:33.093Z"
   },
   {
    "duration": 13,
    "start_time": "2023-01-15T16:14:33.111Z"
   },
   {
    "duration": 5,
    "start_time": "2023-01-15T16:14:33.125Z"
   },
   {
    "duration": 8,
    "start_time": "2023-01-15T16:14:33.131Z"
   },
   {
    "duration": 10,
    "start_time": "2023-01-15T16:14:33.141Z"
   },
   {
    "duration": 30,
    "start_time": "2023-01-15T16:14:33.152Z"
   },
   {
    "duration": 11,
    "start_time": "2023-01-15T16:14:33.184Z"
   },
   {
    "duration": 3,
    "start_time": "2023-01-15T16:14:33.197Z"
   },
   {
    "duration": 11,
    "start_time": "2023-01-15T16:14:33.202Z"
   },
   {
    "duration": 17,
    "start_time": "2023-01-15T16:14:33.214Z"
   },
   {
    "duration": 13,
    "start_time": "2023-01-15T16:14:33.233Z"
   },
   {
    "duration": 42,
    "start_time": "2023-01-15T16:14:33.248Z"
   },
   {
    "duration": 6,
    "start_time": "2023-01-15T16:14:33.291Z"
   },
   {
    "duration": 139,
    "start_time": "2023-01-15T16:14:33.298Z"
   },
   {
    "duration": 30,
    "start_time": "2023-01-15T16:14:33.439Z"
   },
   {
    "duration": 50,
    "start_time": "2023-01-15T16:14:33.471Z"
   },
   {
    "duration": 46,
    "start_time": "2023-01-15T16:14:33.523Z"
   },
   {
    "duration": 32,
    "start_time": "2023-01-15T16:14:33.571Z"
   },
   {
    "duration": 21,
    "start_time": "2023-01-15T16:14:33.605Z"
   },
   {
    "duration": 29,
    "start_time": "2023-01-15T16:14:33.627Z"
   },
   {
    "duration": 17,
    "start_time": "2023-01-15T16:14:33.658Z"
   },
   {
    "duration": 33,
    "start_time": "2023-01-15T16:14:33.677Z"
   },
   {
    "duration": 24,
    "start_time": "2023-01-15T16:14:33.712Z"
   },
   {
    "duration": 60,
    "start_time": "2023-01-15T16:14:33.737Z"
   },
   {
    "duration": 126,
    "start_time": "2023-01-15T16:14:33.799Z"
   },
   {
    "duration": 4078,
    "start_time": "2023-01-15T16:14:33.928Z"
   },
   {
    "duration": 10,
    "start_time": "2023-01-15T16:14:38.008Z"
   },
   {
    "duration": 6,
    "start_time": "2023-01-15T16:14:38.020Z"
   },
   {
    "duration": 447,
    "start_time": "2023-01-15T16:14:38.028Z"
   },
   {
    "duration": 9,
    "start_time": "2023-01-15T16:14:38.477Z"
   },
   {
    "duration": 20,
    "start_time": "2023-01-15T16:14:38.487Z"
   },
   {
    "duration": 434,
    "start_time": "2023-01-15T16:14:38.509Z"
   },
   {
    "duration": 1256,
    "start_time": "2023-01-15T16:14:38.945Z"
   },
   {
    "duration": 10,
    "start_time": "2023-01-15T16:14:40.203Z"
   },
   {
    "duration": 14,
    "start_time": "2023-01-15T16:14:40.214Z"
   },
   {
    "duration": 11,
    "start_time": "2023-01-15T16:14:40.230Z"
   },
   {
    "duration": 24,
    "start_time": "2023-01-15T16:14:40.242Z"
   },
   {
    "duration": 27,
    "start_time": "2023-01-15T16:14:40.267Z"
   },
   {
    "duration": 13,
    "start_time": "2023-01-15T16:14:40.296Z"
   },
   {
    "duration": 14,
    "start_time": "2023-01-15T16:14:40.310Z"
   },
   {
    "duration": 12,
    "start_time": "2023-01-15T16:14:40.325Z"
   },
   {
    "duration": 16,
    "start_time": "2023-01-15T16:14:40.338Z"
   },
   {
    "duration": 10,
    "start_time": "2023-01-15T16:14:40.356Z"
   },
   {
    "duration": 4,
    "start_time": "2023-01-15T16:14:40.368Z"
   },
   {
    "duration": 13,
    "start_time": "2023-01-15T16:14:40.373Z"
   },
   {
    "duration": 10,
    "start_time": "2023-01-15T16:14:40.388Z"
   },
   {
    "duration": 7,
    "start_time": "2023-01-15T16:14:40.400Z"
   },
   {
    "duration": 5,
    "start_time": "2023-01-15T16:14:40.409Z"
   },
   {
    "duration": 16,
    "start_time": "2023-01-15T16:14:40.415Z"
   },
   {
    "duration": 7,
    "start_time": "2023-01-15T16:14:40.433Z"
   },
   {
    "duration": 5,
    "start_time": "2023-01-15T16:14:40.441Z"
   },
   {
    "duration": 84,
    "start_time": "2023-01-15T16:14:40.447Z"
   },
   {
    "duration": 13,
    "start_time": "2023-01-15T16:14:40.533Z"
   },
   {
    "duration": 32,
    "start_time": "2023-01-15T16:14:40.547Z"
   },
   {
    "duration": 2466,
    "start_time": "2023-01-15T16:14:40.581Z"
   },
   {
    "duration": 2358,
    "start_time": "2023-01-15T16:16:09.917Z"
   },
   {
    "duration": 2387,
    "start_time": "2023-01-15T16:16:45.956Z"
   },
   {
    "duration": 2464,
    "start_time": "2023-01-15T16:17:07.577Z"
   },
   {
    "duration": 2531,
    "start_time": "2023-01-15T16:18:09.036Z"
   },
   {
    "duration": 2510,
    "start_time": "2023-01-15T16:18:58.995Z"
   },
   {
    "duration": 2392,
    "start_time": "2023-01-15T16:19:09.524Z"
   },
   {
    "duration": 20,
    "start_time": "2023-01-15T16:25:26.937Z"
   },
   {
    "duration": 5,
    "start_time": "2023-01-15T16:25:39.079Z"
   },
   {
    "duration": 89,
    "start_time": "2023-01-15T16:26:53.656Z"
   },
   {
    "duration": 9,
    "start_time": "2023-01-15T16:26:58.636Z"
   },
   {
    "duration": 6,
    "start_time": "2023-01-15T16:27:03.576Z"
   },
   {
    "duration": 31,
    "start_time": "2023-01-15T16:57:44.428Z"
   },
   {
    "duration": 6,
    "start_time": "2023-01-15T16:58:06.041Z"
   },
   {
    "duration": 4,
    "start_time": "2023-01-15T16:59:13.297Z"
   },
   {
    "duration": 3,
    "start_time": "2023-01-15T16:59:29.740Z"
   },
   {
    "duration": 9,
    "start_time": "2023-01-15T17:08:55.303Z"
   },
   {
    "duration": 11,
    "start_time": "2023-01-15T17:09:38.027Z"
   },
   {
    "duration": 3,
    "start_time": "2023-01-15T17:11:26.900Z"
   },
   {
    "duration": 64,
    "start_time": "2023-01-15T17:12:10.920Z"
   },
   {
    "duration": 15,
    "start_time": "2023-01-15T17:15:23.978Z"
   },
   {
    "duration": 13,
    "start_time": "2023-01-15T17:16:02.260Z"
   },
   {
    "duration": 11,
    "start_time": "2023-01-15T17:16:11.628Z"
   },
   {
    "duration": 1176,
    "start_time": "2023-01-15T17:16:48.453Z"
   },
   {
    "duration": 1824,
    "start_time": "2023-01-15T17:16:49.630Z"
   },
   {
    "duration": 17,
    "start_time": "2023-01-15T17:16:51.456Z"
   },
   {
    "duration": 12,
    "start_time": "2023-01-15T17:16:51.476Z"
   },
   {
    "duration": 4,
    "start_time": "2023-01-15T17:16:51.490Z"
   },
   {
    "duration": 14,
    "start_time": "2023-01-15T17:16:51.495Z"
   },
   {
    "duration": 6,
    "start_time": "2023-01-15T17:16:51.511Z"
   },
   {
    "duration": 12,
    "start_time": "2023-01-15T17:16:51.519Z"
   },
   {
    "duration": 13,
    "start_time": "2023-01-15T17:16:51.532Z"
   },
   {
    "duration": 4,
    "start_time": "2023-01-15T17:16:51.548Z"
   },
   {
    "duration": 12,
    "start_time": "2023-01-15T17:16:51.577Z"
   },
   {
    "duration": 19,
    "start_time": "2023-01-15T17:16:51.591Z"
   },
   {
    "duration": 4,
    "start_time": "2023-01-15T17:16:51.612Z"
   },
   {
    "duration": 28,
    "start_time": "2023-01-15T17:16:51.618Z"
   },
   {
    "duration": 34,
    "start_time": "2023-01-15T17:16:51.648Z"
   },
   {
    "duration": 13,
    "start_time": "2023-01-15T17:16:51.683Z"
   },
   {
    "duration": 4,
    "start_time": "2023-01-15T17:16:51.698Z"
   },
   {
    "duration": 5,
    "start_time": "2023-01-15T17:16:51.704Z"
   },
   {
    "duration": 22,
    "start_time": "2023-01-15T17:16:51.710Z"
   },
   {
    "duration": 9,
    "start_time": "2023-01-15T17:16:51.734Z"
   },
   {
    "duration": 36,
    "start_time": "2023-01-15T17:16:51.745Z"
   },
   {
    "duration": 3,
    "start_time": "2023-01-15T17:16:51.783Z"
   },
   {
    "duration": 11,
    "start_time": "2023-01-15T17:16:51.787Z"
   },
   {
    "duration": 14,
    "start_time": "2023-01-15T17:16:51.799Z"
   },
   {
    "duration": 12,
    "start_time": "2023-01-15T17:16:51.814Z"
   },
   {
    "duration": 63,
    "start_time": "2023-01-15T17:16:51.827Z"
   },
   {
    "duration": 131,
    "start_time": "2023-01-15T17:16:51.892Z"
   },
   {
    "duration": 3972,
    "start_time": "2023-01-15T17:16:52.027Z"
   },
   {
    "duration": 11,
    "start_time": "2023-01-15T17:16:56.000Z"
   },
   {
    "duration": 6,
    "start_time": "2023-01-15T17:16:56.013Z"
   },
   {
    "duration": 433,
    "start_time": "2023-01-15T17:16:56.021Z"
   },
   {
    "duration": 9,
    "start_time": "2023-01-15T17:16:56.455Z"
   },
   {
    "duration": 14,
    "start_time": "2023-01-15T17:16:56.465Z"
   },
   {
    "duration": 402,
    "start_time": "2023-01-15T17:16:56.480Z"
   },
   {
    "duration": 1185,
    "start_time": "2023-01-15T17:16:56.884Z"
   },
   {
    "duration": 7,
    "start_time": "2023-01-15T17:16:58.071Z"
   },
   {
    "duration": 13,
    "start_time": "2023-01-15T17:16:58.079Z"
   },
   {
    "duration": 8,
    "start_time": "2023-01-15T17:16:58.093Z"
   },
   {
    "duration": 9,
    "start_time": "2023-01-15T17:16:58.103Z"
   },
   {
    "duration": 7,
    "start_time": "2023-01-15T17:16:58.113Z"
   },
   {
    "duration": 8,
    "start_time": "2023-01-15T17:16:58.122Z"
   },
   {
    "duration": 8,
    "start_time": "2023-01-15T17:16:58.131Z"
   },
   {
    "duration": 9,
    "start_time": "2023-01-15T17:16:58.141Z"
   },
   {
    "duration": 30,
    "start_time": "2023-01-15T17:16:58.151Z"
   },
   {
    "duration": 7,
    "start_time": "2023-01-15T17:16:58.183Z"
   },
   {
    "duration": 9,
    "start_time": "2023-01-15T17:16:58.191Z"
   },
   {
    "duration": 9,
    "start_time": "2023-01-15T17:16:58.201Z"
   },
   {
    "duration": 7,
    "start_time": "2023-01-15T17:16:58.211Z"
   },
   {
    "duration": 6,
    "start_time": "2023-01-15T17:16:58.219Z"
   },
   {
    "duration": 5,
    "start_time": "2023-01-15T17:16:58.227Z"
   },
   {
    "duration": 14,
    "start_time": "2023-01-15T17:16:58.233Z"
   },
   {
    "duration": 8,
    "start_time": "2023-01-15T17:16:58.278Z"
   },
   {
    "duration": 3,
    "start_time": "2023-01-15T17:16:58.288Z"
   },
   {
    "duration": 65,
    "start_time": "2023-01-15T17:16:58.292Z"
   },
   {
    "duration": 27,
    "start_time": "2023-01-15T17:16:58.359Z"
   },
   {
    "duration": 18,
    "start_time": "2023-01-15T17:16:58.387Z"
   },
   {
    "duration": 2398,
    "start_time": "2023-01-15T17:16:58.407Z"
   },
   {
    "duration": 5,
    "start_time": "2023-01-15T17:17:00.807Z"
   },
   {
    "duration": 42,
    "start_time": "2023-01-15T17:17:00.813Z"
   },
   {
    "duration": 32,
    "start_time": "2023-01-15T17:17:00.857Z"
   },
   {
    "duration": 43,
    "start_time": "2023-01-15T17:17:00.891Z"
   },
   {
    "duration": 128,
    "start_time": "2023-01-15T17:17:00.936Z"
   },
   {
    "duration": 12,
    "start_time": "2023-01-15T17:17:01.066Z"
   },
   {
    "duration": 114,
    "start_time": "2023-01-15T17:17:01.079Z"
   },
   {
    "duration": 17,
    "start_time": "2023-01-15T17:17:05.251Z"
   },
   {
    "duration": 2246,
    "start_time": "2023-01-15T17:18:49.661Z"
   },
   {
    "duration": 3,
    "start_time": "2023-01-15T17:26:41.289Z"
   },
   {
    "duration": 49,
    "start_time": "2023-01-17T09:10:49.441Z"
   },
   {
    "duration": 1322,
    "start_time": "2023-01-17T09:10:54.438Z"
   },
   {
    "duration": 1130,
    "start_time": "2023-01-17T09:10:55.762Z"
   },
   {
    "duration": 17,
    "start_time": "2023-01-17T09:10:56.894Z"
   },
   {
    "duration": 13,
    "start_time": "2023-01-17T09:10:56.913Z"
   },
   {
    "duration": 5,
    "start_time": "2023-01-17T09:10:56.927Z"
   },
   {
    "duration": 12,
    "start_time": "2023-01-17T09:10:56.933Z"
   },
   {
    "duration": 9,
    "start_time": "2023-01-17T09:10:56.947Z"
   },
   {
    "duration": 15,
    "start_time": "2023-01-17T09:10:56.957Z"
   },
   {
    "duration": 14,
    "start_time": "2023-01-17T09:10:56.974Z"
   },
   {
    "duration": 3,
    "start_time": "2023-01-17T09:10:56.991Z"
   },
   {
    "duration": 13,
    "start_time": "2023-01-17T09:10:57.022Z"
   },
   {
    "duration": 21,
    "start_time": "2023-01-17T09:10:57.037Z"
   },
   {
    "duration": 4,
    "start_time": "2023-01-17T09:10:57.060Z"
   },
   {
    "duration": 61,
    "start_time": "2023-01-17T09:10:57.065Z"
   },
   {
    "duration": 6,
    "start_time": "2023-01-17T09:10:57.128Z"
   },
   {
    "duration": 17,
    "start_time": "2023-01-17T09:10:57.135Z"
   },
   {
    "duration": 6,
    "start_time": "2023-01-17T09:10:57.154Z"
   },
   {
    "duration": 10,
    "start_time": "2023-01-17T09:10:57.162Z"
   },
   {
    "duration": 26,
    "start_time": "2023-01-17T09:10:57.174Z"
   },
   {
    "duration": 10,
    "start_time": "2023-01-17T09:10:57.222Z"
   },
   {
    "duration": 14,
    "start_time": "2023-01-17T09:10:57.234Z"
   },
   {
    "duration": 4,
    "start_time": "2023-01-17T09:10:57.249Z"
   },
   {
    "duration": 12,
    "start_time": "2023-01-17T09:10:57.255Z"
   },
   {
    "duration": 15,
    "start_time": "2023-01-17T09:10:57.269Z"
   },
   {
    "duration": 44,
    "start_time": "2023-01-17T09:10:57.286Z"
   },
   {
    "duration": 64,
    "start_time": "2023-01-17T09:10:57.333Z"
   },
   {
    "duration": 159,
    "start_time": "2023-01-17T09:10:57.400Z"
   },
   {
    "duration": 4427,
    "start_time": "2023-01-17T09:10:57.563Z"
   },
   {
    "duration": 12,
    "start_time": "2023-01-17T09:11:01.992Z"
   },
   {
    "duration": 44,
    "start_time": "2023-01-17T09:11:02.006Z"
   },
   {
    "duration": 491,
    "start_time": "2023-01-17T09:11:02.052Z"
   },
   {
    "duration": 10,
    "start_time": "2023-01-17T09:11:02.545Z"
   },
   {
    "duration": 11,
    "start_time": "2023-01-17T09:11:02.557Z"
   },
   {
    "duration": 577,
    "start_time": "2023-01-17T09:11:02.571Z"
   },
   {
    "duration": 1457,
    "start_time": "2023-01-17T09:11:03.150Z"
   },
   {
    "duration": 9,
    "start_time": "2023-01-17T09:11:04.610Z"
   },
   {
    "duration": 20,
    "start_time": "2023-01-17T09:11:04.621Z"
   },
   {
    "duration": 13,
    "start_time": "2023-01-17T09:11:04.643Z"
   },
   {
    "duration": 10,
    "start_time": "2023-01-17T09:11:04.658Z"
   },
   {
    "duration": 12,
    "start_time": "2023-01-17T09:11:04.670Z"
   },
   {
    "duration": 4,
    "start_time": "2023-01-17T09:11:04.684Z"
   },
   {
    "duration": 18,
    "start_time": "2023-01-17T09:11:04.690Z"
   },
   {
    "duration": 21,
    "start_time": "2023-01-17T09:11:04.710Z"
   },
   {
    "duration": 10,
    "start_time": "2023-01-17T09:11:04.733Z"
   },
   {
    "duration": 8,
    "start_time": "2023-01-17T09:11:04.745Z"
   },
   {
    "duration": 19,
    "start_time": "2023-01-17T09:11:04.755Z"
   },
   {
    "duration": 26,
    "start_time": "2023-01-17T09:11:04.777Z"
   },
   {
    "duration": 22,
    "start_time": "2023-01-17T09:11:04.805Z"
   },
   {
    "duration": 12,
    "start_time": "2023-01-17T09:11:04.829Z"
   },
   {
    "duration": 19,
    "start_time": "2023-01-17T09:11:04.842Z"
   },
   {
    "duration": 29,
    "start_time": "2023-01-17T09:11:04.864Z"
   },
   {
    "duration": 7,
    "start_time": "2023-01-17T09:35:11.524Z"
   },
   {
    "duration": 1218,
    "start_time": "2023-01-17T09:38:02.155Z"
   },
   {
    "duration": 1447,
    "start_time": "2023-01-17T09:38:03.375Z"
   },
   {
    "duration": 28,
    "start_time": "2023-01-17T09:38:04.824Z"
   },
   {
    "duration": 14,
    "start_time": "2023-01-17T09:38:04.855Z"
   },
   {
    "duration": 5,
    "start_time": "2023-01-17T09:38:04.871Z"
   },
   {
    "duration": 18,
    "start_time": "2023-01-17T09:38:04.879Z"
   },
   {
    "duration": 21,
    "start_time": "2023-01-17T09:38:04.921Z"
   },
   {
    "duration": 28,
    "start_time": "2023-01-17T09:38:04.945Z"
   },
   {
    "duration": 23,
    "start_time": "2023-01-17T09:38:04.974Z"
   },
   {
    "duration": 11,
    "start_time": "2023-01-17T09:38:05.001Z"
   },
   {
    "duration": 34,
    "start_time": "2023-01-17T09:38:05.014Z"
   },
   {
    "duration": 19,
    "start_time": "2023-01-17T09:38:05.050Z"
   },
   {
    "duration": 10,
    "start_time": "2023-01-17T09:38:05.072Z"
   },
   {
    "duration": 59,
    "start_time": "2023-01-17T09:38:05.084Z"
   },
   {
    "duration": 6,
    "start_time": "2023-01-17T09:38:05.147Z"
   },
   {
    "duration": 41,
    "start_time": "2023-01-17T09:38:05.155Z"
   },
   {
    "duration": 12,
    "start_time": "2023-01-17T09:38:05.198Z"
   },
   {
    "duration": 28,
    "start_time": "2023-01-17T09:38:05.211Z"
   },
   {
    "duration": 33,
    "start_time": "2023-01-17T09:38:05.247Z"
   },
   {
    "duration": 14,
    "start_time": "2023-01-17T09:38:05.282Z"
   },
   {
    "duration": 12,
    "start_time": "2023-01-17T09:38:05.298Z"
   },
   {
    "duration": 19,
    "start_time": "2023-01-17T09:38:05.311Z"
   },
   {
    "duration": 25,
    "start_time": "2023-01-17T09:38:05.334Z"
   },
   {
    "duration": 24,
    "start_time": "2023-01-17T09:38:05.361Z"
   },
   {
    "duration": 16,
    "start_time": "2023-01-17T09:38:05.387Z"
   },
   {
    "duration": 78,
    "start_time": "2023-01-17T09:38:05.405Z"
   },
   {
    "duration": 170,
    "start_time": "2023-01-17T09:38:05.485Z"
   },
   {
    "duration": 4712,
    "start_time": "2023-01-17T09:38:05.660Z"
   },
   {
    "duration": 11,
    "start_time": "2023-01-17T09:38:10.373Z"
   },
   {
    "duration": 55,
    "start_time": "2023-01-17T09:38:10.385Z"
   },
   {
    "duration": 579,
    "start_time": "2023-01-17T09:38:10.443Z"
   },
   {
    "duration": 15,
    "start_time": "2023-01-17T09:38:11.025Z"
   },
   {
    "duration": 9,
    "start_time": "2023-01-17T09:38:11.043Z"
   },
   {
    "duration": 497,
    "start_time": "2023-01-17T09:38:11.054Z"
   },
   {
    "duration": 1403,
    "start_time": "2023-01-17T09:38:11.553Z"
   },
   {
    "duration": 11,
    "start_time": "2023-01-17T09:38:12.958Z"
   },
   {
    "duration": 20,
    "start_time": "2023-01-17T09:38:12.972Z"
   },
   {
    "duration": 19,
    "start_time": "2023-01-17T09:38:12.994Z"
   },
   {
    "duration": 17,
    "start_time": "2023-01-17T09:38:13.015Z"
   },
   {
    "duration": 23,
    "start_time": "2023-01-17T09:38:13.033Z"
   },
   {
    "duration": 10,
    "start_time": "2023-01-17T09:38:13.058Z"
   },
   {
    "duration": 23,
    "start_time": "2023-01-17T09:38:13.070Z"
   },
   {
    "duration": 16,
    "start_time": "2023-01-17T09:38:13.094Z"
   },
   {
    "duration": 16,
    "start_time": "2023-01-17T09:38:13.111Z"
   },
   {
    "duration": 17,
    "start_time": "2023-01-17T09:38:13.129Z"
   },
   {
    "duration": 4,
    "start_time": "2023-01-17T09:38:13.148Z"
   },
   {
    "duration": 11,
    "start_time": "2023-01-17T09:38:13.154Z"
   },
   {
    "duration": 11,
    "start_time": "2023-01-17T09:38:13.167Z"
   },
   {
    "duration": 7,
    "start_time": "2023-01-17T09:38:13.180Z"
   },
   {
    "duration": 13,
    "start_time": "2023-01-17T09:38:13.189Z"
   },
   {
    "duration": 30,
    "start_time": "2023-01-17T09:38:13.204Z"
   },
   {
    "duration": 199,
    "start_time": "2023-01-17T09:38:13.236Z"
   },
   {
    "duration": 24,
    "start_time": "2023-01-17T09:38:13.437Z"
   },
   {
    "duration": 49,
    "start_time": "2023-01-17T09:38:45.833Z"
   },
   {
    "duration": 34,
    "start_time": "2023-01-17T09:39:11.041Z"
   },
   {
    "duration": 1311,
    "start_time": "2023-01-17T09:40:17.837Z"
   },
   {
    "duration": 1404,
    "start_time": "2023-01-17T09:40:19.150Z"
   },
   {
    "duration": 21,
    "start_time": "2023-01-17T09:40:20.556Z"
   },
   {
    "duration": 12,
    "start_time": "2023-01-17T09:40:20.579Z"
   },
   {
    "duration": 7,
    "start_time": "2023-01-17T09:40:20.593Z"
   },
   {
    "duration": 25,
    "start_time": "2023-01-17T09:40:20.601Z"
   },
   {
    "duration": 16,
    "start_time": "2023-01-17T09:40:20.628Z"
   },
   {
    "duration": 12,
    "start_time": "2023-01-17T09:40:20.646Z"
   },
   {
    "duration": 18,
    "start_time": "2023-01-17T09:40:20.660Z"
   },
   {
    "duration": 5,
    "start_time": "2023-01-17T09:40:20.681Z"
   },
   {
    "duration": 18,
    "start_time": "2023-01-17T09:40:20.687Z"
   },
   {
    "duration": 33,
    "start_time": "2023-01-17T09:40:20.706Z"
   },
   {
    "duration": 5,
    "start_time": "2023-01-17T09:40:20.741Z"
   },
   {
    "duration": 52,
    "start_time": "2023-01-17T09:40:20.747Z"
   },
   {
    "duration": 6,
    "start_time": "2023-01-17T09:40:20.801Z"
   },
   {
    "duration": 18,
    "start_time": "2023-01-17T09:40:20.808Z"
   },
   {
    "duration": 10,
    "start_time": "2023-01-17T09:40:20.829Z"
   },
   {
    "duration": 6,
    "start_time": "2023-01-17T09:40:20.840Z"
   },
   {
    "duration": 23,
    "start_time": "2023-01-17T09:40:20.848Z"
   },
   {
    "duration": 11,
    "start_time": "2023-01-17T09:40:20.873Z"
   },
   {
    "duration": 37,
    "start_time": "2023-01-17T09:40:20.886Z"
   },
   {
    "duration": 4,
    "start_time": "2023-01-17T09:40:20.925Z"
   },
   {
    "duration": 12,
    "start_time": "2023-01-17T09:40:20.932Z"
   },
   {
    "duration": 13,
    "start_time": "2023-01-17T09:40:20.946Z"
   },
   {
    "duration": 15,
    "start_time": "2023-01-17T09:40:20.961Z"
   },
   {
    "duration": 76,
    "start_time": "2023-01-17T09:40:20.977Z"
   },
   {
    "duration": 154,
    "start_time": "2023-01-17T09:40:21.056Z"
   },
   {
    "duration": 4534,
    "start_time": "2023-01-17T09:40:21.214Z"
   },
   {
    "duration": 11,
    "start_time": "2023-01-17T09:40:25.749Z"
   },
   {
    "duration": 8,
    "start_time": "2023-01-17T09:40:25.762Z"
   },
   {
    "duration": 515,
    "start_time": "2023-01-17T09:40:25.771Z"
   },
   {
    "duration": 11,
    "start_time": "2023-01-17T09:40:26.287Z"
   },
   {
    "duration": 24,
    "start_time": "2023-01-17T09:40:26.300Z"
   },
   {
    "duration": 506,
    "start_time": "2023-01-17T09:40:26.325Z"
   },
   {
    "duration": 1351,
    "start_time": "2023-01-17T09:40:26.833Z"
   },
   {
    "duration": 8,
    "start_time": "2023-01-17T09:40:28.185Z"
   },
   {
    "duration": 16,
    "start_time": "2023-01-17T09:40:28.195Z"
   },
   {
    "duration": 10,
    "start_time": "2023-01-17T09:40:28.212Z"
   },
   {
    "duration": 11,
    "start_time": "2023-01-17T09:40:28.223Z"
   },
   {
    "duration": 20,
    "start_time": "2023-01-17T09:40:28.236Z"
   },
   {
    "duration": 18,
    "start_time": "2023-01-17T09:40:28.258Z"
   },
   {
    "duration": 16,
    "start_time": "2023-01-17T09:40:28.278Z"
   },
   {
    "duration": 19,
    "start_time": "2023-01-17T09:40:28.295Z"
   },
   {
    "duration": 20,
    "start_time": "2023-01-17T09:40:28.316Z"
   },
   {
    "duration": 8,
    "start_time": "2023-01-17T09:40:28.337Z"
   },
   {
    "duration": 8,
    "start_time": "2023-01-17T09:40:28.346Z"
   },
   {
    "duration": 13,
    "start_time": "2023-01-17T09:40:28.356Z"
   },
   {
    "duration": 13,
    "start_time": "2023-01-17T09:40:28.371Z"
   },
   {
    "duration": 8,
    "start_time": "2023-01-17T09:40:28.386Z"
   },
   {
    "duration": 6,
    "start_time": "2023-01-17T09:40:28.396Z"
   },
   {
    "duration": 8,
    "start_time": "2023-01-17T09:40:28.423Z"
   },
   {
    "duration": 206,
    "start_time": "2023-01-17T09:40:28.433Z"
   },
   {
    "duration": 22,
    "start_time": "2023-01-17T09:40:28.641Z"
   },
   {
    "duration": 20,
    "start_time": "2023-01-17T09:40:28.665Z"
   },
   {
    "duration": 25,
    "start_time": "2023-01-17T09:40:49.847Z"
   },
   {
    "duration": 1213,
    "start_time": "2023-01-17T09:42:01.356Z"
   },
   {
    "duration": 1067,
    "start_time": "2023-01-17T09:42:02.571Z"
   },
   {
    "duration": 17,
    "start_time": "2023-01-17T09:42:03.640Z"
   },
   {
    "duration": 37,
    "start_time": "2023-01-17T09:42:03.659Z"
   },
   {
    "duration": 22,
    "start_time": "2023-01-17T09:42:03.699Z"
   },
   {
    "duration": 31,
    "start_time": "2023-01-17T09:42:03.723Z"
   },
   {
    "duration": 19,
    "start_time": "2023-01-17T09:42:03.756Z"
   },
   {
    "duration": 40,
    "start_time": "2023-01-17T09:42:03.777Z"
   },
   {
    "duration": 37,
    "start_time": "2023-01-17T09:42:03.819Z"
   },
   {
    "duration": 18,
    "start_time": "2023-01-17T09:42:03.860Z"
   },
   {
    "duration": 61,
    "start_time": "2023-01-17T09:42:03.880Z"
   },
   {
    "duration": 26,
    "start_time": "2023-01-17T09:42:03.943Z"
   },
   {
    "duration": 34,
    "start_time": "2023-01-17T09:42:03.971Z"
   },
   {
    "duration": 54,
    "start_time": "2023-01-17T09:42:04.007Z"
   },
   {
    "duration": 7,
    "start_time": "2023-01-17T09:42:04.064Z"
   },
   {
    "duration": 40,
    "start_time": "2023-01-17T09:42:04.073Z"
   },
   {
    "duration": 36,
    "start_time": "2023-01-17T09:42:04.115Z"
   },
   {
    "duration": 30,
    "start_time": "2023-01-17T09:42:04.153Z"
   },
   {
    "duration": 62,
    "start_time": "2023-01-17T09:42:04.185Z"
   },
   {
    "duration": 28,
    "start_time": "2023-01-17T09:42:04.250Z"
   },
   {
    "duration": 63,
    "start_time": "2023-01-17T09:42:04.281Z"
   },
   {
    "duration": 57,
    "start_time": "2023-01-17T09:42:04.347Z"
   },
   {
    "duration": 56,
    "start_time": "2023-01-17T09:42:04.406Z"
   },
   {
    "duration": 46,
    "start_time": "2023-01-17T09:42:04.464Z"
   },
   {
    "duration": 26,
    "start_time": "2023-01-17T09:42:04.512Z"
   },
   {
    "duration": 64,
    "start_time": "2023-01-17T09:42:04.539Z"
   },
   {
    "duration": 147,
    "start_time": "2023-01-17T09:42:04.605Z"
   },
   {
    "duration": 4513,
    "start_time": "2023-01-17T09:42:04.757Z"
   },
   {
    "duration": 15,
    "start_time": "2023-01-17T09:42:09.272Z"
   },
   {
    "duration": 6,
    "start_time": "2023-01-17T09:42:09.290Z"
   },
   {
    "duration": 522,
    "start_time": "2023-01-17T09:42:09.298Z"
   },
   {
    "duration": 24,
    "start_time": "2023-01-17T09:42:09.822Z"
   },
   {
    "duration": 17,
    "start_time": "2023-01-17T09:42:09.849Z"
   },
   {
    "duration": 523,
    "start_time": "2023-01-17T09:42:09.868Z"
   },
   {
    "duration": 1467,
    "start_time": "2023-01-17T09:42:10.393Z"
   },
   {
    "duration": 12,
    "start_time": "2023-01-17T09:42:11.862Z"
   },
   {
    "duration": 35,
    "start_time": "2023-01-17T09:42:11.876Z"
   },
   {
    "duration": 13,
    "start_time": "2023-01-17T09:42:11.913Z"
   },
   {
    "duration": 15,
    "start_time": "2023-01-17T09:42:11.929Z"
   },
   {
    "duration": 28,
    "start_time": "2023-01-17T09:42:11.947Z"
   },
   {
    "duration": 6,
    "start_time": "2023-01-17T09:42:11.977Z"
   },
   {
    "duration": 19,
    "start_time": "2023-01-17T09:42:11.985Z"
   },
   {
    "duration": 24,
    "start_time": "2023-01-17T09:42:12.007Z"
   },
   {
    "duration": 10,
    "start_time": "2023-01-17T09:42:12.033Z"
   },
   {
    "duration": 19,
    "start_time": "2023-01-17T09:42:12.048Z"
   },
   {
    "duration": 13,
    "start_time": "2023-01-17T09:42:12.069Z"
   },
   {
    "duration": 15,
    "start_time": "2023-01-17T09:42:12.084Z"
   },
   {
    "duration": 17,
    "start_time": "2023-01-17T09:42:12.101Z"
   },
   {
    "duration": 25,
    "start_time": "2023-01-17T09:42:12.123Z"
   },
   {
    "duration": 8,
    "start_time": "2023-01-17T09:42:12.151Z"
   },
   {
    "duration": 10,
    "start_time": "2023-01-17T09:42:12.161Z"
   },
   {
    "duration": 204,
    "start_time": "2023-01-17T09:42:12.173Z"
   },
   {
    "duration": 23,
    "start_time": "2023-01-17T09:42:12.379Z"
   },
   {
    "duration": 34,
    "start_time": "2023-01-17T09:42:12.404Z"
   },
   {
    "duration": 18,
    "start_time": "2023-01-17T09:42:47.307Z"
   },
   {
    "duration": 1226,
    "start_time": "2023-01-17T09:43:10.207Z"
   },
   {
    "duration": 1167,
    "start_time": "2023-01-17T09:43:11.436Z"
   },
   {
    "duration": 28,
    "start_time": "2023-01-17T09:43:12.605Z"
   },
   {
    "duration": 15,
    "start_time": "2023-01-17T09:43:12.636Z"
   },
   {
    "duration": 32,
    "start_time": "2023-01-17T09:43:12.653Z"
   },
   {
    "duration": 17,
    "start_time": "2023-01-17T09:43:12.687Z"
   },
   {
    "duration": 18,
    "start_time": "2023-01-17T09:43:12.706Z"
   },
   {
    "duration": 37,
    "start_time": "2023-01-17T09:43:12.726Z"
   },
   {
    "duration": 23,
    "start_time": "2023-01-17T09:43:12.767Z"
   },
   {
    "duration": 5,
    "start_time": "2023-01-17T09:43:12.795Z"
   },
   {
    "duration": 22,
    "start_time": "2023-01-17T09:43:12.801Z"
   },
   {
    "duration": 23,
    "start_time": "2023-01-17T09:43:12.825Z"
   },
   {
    "duration": 7,
    "start_time": "2023-01-17T09:43:12.849Z"
   },
   {
    "duration": 41,
    "start_time": "2023-01-17T09:43:12.858Z"
   },
   {
    "duration": 28,
    "start_time": "2023-01-17T09:43:12.901Z"
   },
   {
    "duration": 15,
    "start_time": "2023-01-17T09:43:12.931Z"
   },
   {
    "duration": 5,
    "start_time": "2023-01-17T09:43:12.948Z"
   },
   {
    "duration": 9,
    "start_time": "2023-01-17T09:43:12.955Z"
   },
   {
    "duration": 57,
    "start_time": "2023-01-17T09:43:12.966Z"
   },
   {
    "duration": 11,
    "start_time": "2023-01-17T09:43:13.025Z"
   },
   {
    "duration": 11,
    "start_time": "2023-01-17T09:43:13.038Z"
   },
   {
    "duration": 9,
    "start_time": "2023-01-17T09:43:13.051Z"
   },
   {
    "duration": 17,
    "start_time": "2023-01-17T09:43:13.062Z"
   },
   {
    "duration": 42,
    "start_time": "2023-01-17T09:43:13.081Z"
   },
   {
    "duration": 21,
    "start_time": "2023-01-17T09:43:13.125Z"
   },
   {
    "duration": 57,
    "start_time": "2023-01-17T09:43:13.148Z"
   },
   {
    "duration": 158,
    "start_time": "2023-01-17T09:43:13.223Z"
   },
   {
    "duration": 4646,
    "start_time": "2023-01-17T09:43:13.384Z"
   },
   {
    "duration": 12,
    "start_time": "2023-01-17T09:43:18.032Z"
   },
   {
    "duration": 22,
    "start_time": "2023-01-17T09:43:18.046Z"
   },
   {
    "duration": 507,
    "start_time": "2023-01-17T09:43:18.070Z"
   },
   {
    "duration": 12,
    "start_time": "2023-01-17T09:43:18.579Z"
   },
   {
    "duration": 13,
    "start_time": "2023-01-17T09:43:18.593Z"
   },
   {
    "duration": 511,
    "start_time": "2023-01-17T09:43:18.608Z"
   },
   {
    "duration": 1550,
    "start_time": "2023-01-17T09:43:19.122Z"
   },
   {
    "duration": 9,
    "start_time": "2023-01-17T09:43:20.673Z"
   },
   {
    "duration": 20,
    "start_time": "2023-01-17T09:43:20.685Z"
   },
   {
    "duration": 15,
    "start_time": "2023-01-17T09:43:20.707Z"
   },
   {
    "duration": 10,
    "start_time": "2023-01-17T09:43:20.724Z"
   },
   {
    "duration": 9,
    "start_time": "2023-01-17T09:43:20.736Z"
   },
   {
    "duration": 13,
    "start_time": "2023-01-17T09:43:20.747Z"
   },
   {
    "duration": 13,
    "start_time": "2023-01-17T09:43:20.762Z"
   },
   {
    "duration": 12,
    "start_time": "2023-01-17T09:43:20.777Z"
   },
   {
    "duration": 8,
    "start_time": "2023-01-17T09:43:20.791Z"
   },
   {
    "duration": 25,
    "start_time": "2023-01-17T09:43:20.801Z"
   },
   {
    "duration": 10,
    "start_time": "2023-01-17T09:43:20.828Z"
   },
   {
    "duration": 12,
    "start_time": "2023-01-17T09:43:20.840Z"
   },
   {
    "duration": 16,
    "start_time": "2023-01-17T09:43:20.854Z"
   },
   {
    "duration": 10,
    "start_time": "2023-01-17T09:43:20.873Z"
   },
   {
    "duration": 11,
    "start_time": "2023-01-17T09:43:20.885Z"
   },
   {
    "duration": 29,
    "start_time": "2023-01-17T09:43:20.899Z"
   },
   {
    "duration": 209,
    "start_time": "2023-01-17T09:43:20.931Z"
   },
   {
    "duration": 23,
    "start_time": "2023-01-17T09:43:21.142Z"
   },
   {
    "duration": 19,
    "start_time": "2023-01-17T09:43:21.167Z"
   },
   {
    "duration": 5,
    "start_time": "2023-01-17T09:43:57.688Z"
   },
   {
    "duration": 26,
    "start_time": "2023-01-17T09:43:59.357Z"
   },
   {
    "duration": 7,
    "start_time": "2023-01-17T09:44:58.369Z"
   },
   {
    "duration": 1315,
    "start_time": "2023-01-18T09:20:05.640Z"
   },
   {
    "duration": 1234,
    "start_time": "2023-01-18T09:20:06.957Z"
   },
   {
    "duration": 18,
    "start_time": "2023-01-18T09:20:08.193Z"
   },
   {
    "duration": 11,
    "start_time": "2023-01-18T09:20:08.213Z"
   },
   {
    "duration": 4,
    "start_time": "2023-01-18T09:20:08.225Z"
   },
   {
    "duration": 7,
    "start_time": "2023-01-18T09:20:08.230Z"
   },
   {
    "duration": 18,
    "start_time": "2023-01-18T09:20:08.239Z"
   },
   {
    "duration": 29,
    "start_time": "2023-01-18T09:20:08.258Z"
   },
   {
    "duration": 14,
    "start_time": "2023-01-18T09:20:08.294Z"
   },
   {
    "duration": 9,
    "start_time": "2023-01-18T09:20:08.310Z"
   },
   {
    "duration": 15,
    "start_time": "2023-01-18T09:20:08.320Z"
   },
   {
    "duration": 21,
    "start_time": "2023-01-18T09:20:08.336Z"
   },
   {
    "duration": 5,
    "start_time": "2023-01-18T09:20:08.359Z"
   },
   {
    "duration": 46,
    "start_time": "2023-01-18T09:20:08.366Z"
   },
   {
    "duration": 7,
    "start_time": "2023-01-18T09:20:08.414Z"
   },
   {
    "duration": 10,
    "start_time": "2023-01-18T09:20:08.423Z"
   },
   {
    "duration": 4,
    "start_time": "2023-01-18T09:20:08.434Z"
   },
   {
    "duration": 6,
    "start_time": "2023-01-18T09:20:08.440Z"
   },
   {
    "duration": 49,
    "start_time": "2023-01-18T09:20:08.448Z"
   },
   {
    "duration": 9,
    "start_time": "2023-01-18T09:20:08.499Z"
   },
   {
    "duration": 12,
    "start_time": "2023-01-18T09:20:08.510Z"
   },
   {
    "duration": 5,
    "start_time": "2023-01-18T09:20:08.523Z"
   },
   {
    "duration": 12,
    "start_time": "2023-01-18T09:20:08.529Z"
   },
   {
    "duration": 47,
    "start_time": "2023-01-18T09:20:08.542Z"
   },
   {
    "duration": 16,
    "start_time": "2023-01-18T09:20:08.594Z"
   },
   {
    "duration": 49,
    "start_time": "2023-01-18T09:20:08.611Z"
   },
   {
    "duration": 167,
    "start_time": "2023-01-18T09:20:08.662Z"
   },
   {
    "duration": 4418,
    "start_time": "2023-01-18T09:20:08.832Z"
   },
   {
    "duration": 10,
    "start_time": "2023-01-18T09:20:13.252Z"
   },
   {
    "duration": 10,
    "start_time": "2023-01-18T09:20:13.263Z"
   },
   {
    "duration": 513,
    "start_time": "2023-01-18T09:20:13.285Z"
   },
   {
    "duration": 9,
    "start_time": "2023-01-18T09:20:13.800Z"
   },
   {
    "duration": 5,
    "start_time": "2023-01-18T09:20:13.811Z"
   },
   {
    "duration": 478,
    "start_time": "2023-01-18T09:20:13.818Z"
   },
   {
    "duration": 1351,
    "start_time": "2023-01-18T09:20:14.298Z"
   },
   {
    "duration": 9,
    "start_time": "2023-01-18T09:20:15.650Z"
   },
   {
    "duration": 15,
    "start_time": "2023-01-18T09:20:15.660Z"
   },
   {
    "duration": 25,
    "start_time": "2023-01-18T09:20:15.676Z"
   },
   {
    "duration": 16,
    "start_time": "2023-01-18T09:20:15.702Z"
   },
   {
    "duration": 8,
    "start_time": "2023-01-18T09:20:15.720Z"
   },
   {
    "duration": 19,
    "start_time": "2023-01-18T09:20:15.730Z"
   },
   {
    "duration": 13,
    "start_time": "2023-01-18T09:20:15.751Z"
   },
   {
    "duration": 11,
    "start_time": "2023-01-18T09:20:15.766Z"
   },
   {
    "duration": 24,
    "start_time": "2023-01-18T09:20:15.778Z"
   },
   {
    "duration": 10,
    "start_time": "2023-01-18T09:20:15.803Z"
   },
   {
    "duration": 5,
    "start_time": "2023-01-18T09:20:15.814Z"
   },
   {
    "duration": 13,
    "start_time": "2023-01-18T09:20:15.821Z"
   },
   {
    "duration": 8,
    "start_time": "2023-01-18T09:20:15.837Z"
   },
   {
    "duration": 12,
    "start_time": "2023-01-18T09:20:15.847Z"
   },
   {
    "duration": 36,
    "start_time": "2023-01-18T09:20:15.860Z"
   },
   {
    "duration": 23,
    "start_time": "2023-01-18T09:20:15.898Z"
   },
   {
    "duration": 248,
    "start_time": "2023-01-18T09:20:15.922Z"
   },
   {
    "duration": 32,
    "start_time": "2023-01-18T09:20:16.172Z"
   },
   {
    "duration": 3,
    "start_time": "2023-01-18T09:20:16.206Z"
   },
   {
    "duration": 19,
    "start_time": "2023-01-18T09:20:16.211Z"
   },
   {
    "duration": 9,
    "start_time": "2023-01-18T09:20:16.232Z"
   },
   {
    "duration": 107,
    "start_time": "2023-01-18T09:38:17.771Z"
   },
   {
    "duration": 21,
    "start_time": "2023-01-18T09:38:24.877Z"
   },
   {
    "duration": 433,
    "start_time": "2023-01-18T09:40:31.774Z"
   },
   {
    "duration": 414,
    "start_time": "2023-01-18T09:41:14.594Z"
   },
   {
    "duration": 404,
    "start_time": "2023-01-18T09:43:08.438Z"
   },
   {
    "duration": 412,
    "start_time": "2023-01-18T09:44:13.134Z"
   },
   {
    "duration": 443,
    "start_time": "2023-01-18T09:44:31.490Z"
   }
  ],
  "kernelspec": {
   "display_name": "Python 3 (ipykernel)",
   "language": "python",
   "name": "python3"
  },
  "language_info": {
   "codemirror_mode": {
    "name": "ipython",
    "version": 3
   },
   "file_extension": ".py",
   "mimetype": "text/x-python",
   "name": "python",
   "nbconvert_exporter": "python",
   "pygments_lexer": "ipython3",
   "version": "3.9.5"
  },
  "toc": {
   "base_numbering": 1,
   "nav_menu": {},
   "number_sections": true,
   "sideBar": true,
   "skip_h1_title": true,
   "title_cell": "Table of Contents",
   "title_sidebar": "Contents",
   "toc_cell": false,
   "toc_position": {},
   "toc_section_display": true,
   "toc_window_display": false
  }
 },
 "nbformat": 4,
 "nbformat_minor": 2
}
