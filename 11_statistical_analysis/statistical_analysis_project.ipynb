{
 "cells": [
  {
   "cell_type": "markdown",
   "metadata": {},
   "source": [
    "# Определение перспективного тарифа для телеком-компании «Мегалайн»"
   ]
  },
  {
   "cell_type": "markdown",
   "metadata": {},
   "source": [
    "В предстоящем исследовании я выступлю в роли аналитика федерального оператора сотовой связи, который предлагает своим клиентам два тарифных плана: «Смарт» и «Ультра». В ходе исследования предстоит понять, какой тариф приносит больше денег. На основе этих данных компания «Мегалайн» планирует скорректировать рекламный бюджет."
   ]
  },
  {
   "cell_type": "code",
   "execution_count": 1,
   "metadata": {},
   "outputs": [],
   "source": [
    "# Импортируем библиотеки и модули, которые потребуются в проекте\n",
    "\n",
    "import pandas as pd\n",
    "from scipy import stats as st\n",
    "from matplotlib import pyplot as plt\n",
    "from math import factorial as f\n",
    "from math import ceil\n",
    "from datetime import datetime\n",
    "import numpy as np\n",
    "from random import randint\n",
    "import warnings \n",
    "warnings.simplefilter(\"ignore\")"
   ]
  },
  {
   "cell_type": "markdown",
   "metadata": {},
   "source": [
    "# Шаг 1. Открываем файлы с данными и изучаем общую информацию"
   ]
  },
  {
   "cell_type": "code",
   "execution_count": 2,
   "metadata": {},
   "outputs": [],
   "source": [
    "try:\n",
    "    calls = pd.read_csv('/datasets/calls.csv')\n",
    "    internet = pd.read_csv('/datasets/internet.csv')\n",
    "    messages = pd.read_csv('/datasets/messages.csv')\n",
    "    tariffs = pd.read_csv('/datasets/tariffs.csv')\n",
    "    users = pd.read_csv('/datasets/users.csv')\n",
    "# Если проект смотрим локально\n",
    "except:\n",
    "    calls = pd.read_csv('calls.csv')\n",
    "    internet = pd.read_csv('internet.csv')\n",
    "    messages = pd.read_csv('messages.csv')\n",
    "    tariffs = pd.read_csv('tariffs.csv')\n",
    "    users = pd.read_csv('users.csv')"
   ]
  },
  {
   "cell_type": "markdown",
   "metadata": {},
   "source": [
    "Изучим первые 5 строк каждой таблицы, а также получим информацию о них."
   ]
  },
  {
   "cell_type": "code",
   "execution_count": 3,
   "metadata": {},
   "outputs": [
    {
     "data": {
      "text/html": [
       "<div>\n",
       "<style scoped>\n",
       "    .dataframe tbody tr th:only-of-type {\n",
       "        vertical-align: middle;\n",
       "    }\n",
       "\n",
       "    .dataframe tbody tr th {\n",
       "        vertical-align: top;\n",
       "    }\n",
       "\n",
       "    .dataframe thead th {\n",
       "        text-align: right;\n",
       "    }\n",
       "</style>\n",
       "<table border=\"1\" class=\"dataframe\">\n",
       "  <thead>\n",
       "    <tr style=\"text-align: right;\">\n",
       "      <th></th>\n",
       "      <th>id</th>\n",
       "      <th>call_date</th>\n",
       "      <th>duration</th>\n",
       "      <th>user_id</th>\n",
       "    </tr>\n",
       "  </thead>\n",
       "  <tbody>\n",
       "    <tr>\n",
       "      <th>0</th>\n",
       "      <td>1000_0</td>\n",
       "      <td>2018-07-25</td>\n",
       "      <td>0.00</td>\n",
       "      <td>1000</td>\n",
       "    </tr>\n",
       "    <tr>\n",
       "      <th>1</th>\n",
       "      <td>1000_1</td>\n",
       "      <td>2018-08-17</td>\n",
       "      <td>0.00</td>\n",
       "      <td>1000</td>\n",
       "    </tr>\n",
       "    <tr>\n",
       "      <th>2</th>\n",
       "      <td>1000_2</td>\n",
       "      <td>2018-06-11</td>\n",
       "      <td>2.85</td>\n",
       "      <td>1000</td>\n",
       "    </tr>\n",
       "    <tr>\n",
       "      <th>3</th>\n",
       "      <td>1000_3</td>\n",
       "      <td>2018-09-21</td>\n",
       "      <td>13.80</td>\n",
       "      <td>1000</td>\n",
       "    </tr>\n",
       "    <tr>\n",
       "      <th>4</th>\n",
       "      <td>1000_4</td>\n",
       "      <td>2018-12-15</td>\n",
       "      <td>5.18</td>\n",
       "      <td>1000</td>\n",
       "    </tr>\n",
       "  </tbody>\n",
       "</table>\n",
       "</div>"
      ],
      "text/plain": [
       "       id   call_date  duration  user_id\n",
       "0  1000_0  2018-07-25      0.00     1000\n",
       "1  1000_1  2018-08-17      0.00     1000\n",
       "2  1000_2  2018-06-11      2.85     1000\n",
       "3  1000_3  2018-09-21     13.80     1000\n",
       "4  1000_4  2018-12-15      5.18     1000"
      ]
     },
     "metadata": {},
     "output_type": "display_data"
    }
   ],
   "source": [
    "display(calls.head())"
   ]
  },
  {
   "cell_type": "code",
   "execution_count": 4,
   "metadata": {},
   "outputs": [
    {
     "name": "stdout",
     "output_type": "stream",
     "text": [
      "<class 'pandas.core.frame.DataFrame'>\n",
      "RangeIndex: 202607 entries, 0 to 202606\n",
      "Data columns (total 4 columns):\n",
      " #   Column     Non-Null Count   Dtype  \n",
      "---  ------     --------------   -----  \n",
      " 0   id         202607 non-null  object \n",
      " 1   call_date  202607 non-null  object \n",
      " 2   duration   202607 non-null  float64\n",
      " 3   user_id    202607 non-null  int64  \n",
      "dtypes: float64(1), int64(1), object(2)\n",
      "memory usage: 6.2+ MB\n"
     ]
    }
   ],
   "source": [
    "calls.info()"
   ]
  },
  {
   "cell_type": "markdown",
   "metadata": {},
   "source": [
    "В таблице calls следует привести тип поля id к числовому, для этого потребуется избавиться от символа нижнего подчёркивания в значениях. Столбец call_date будем приводить к типу datetime."
   ]
  },
  {
   "cell_type": "code",
   "execution_count": 5,
   "metadata": {},
   "outputs": [
    {
     "data": {
      "text/html": [
       "<div>\n",
       "<style scoped>\n",
       "    .dataframe tbody tr th:only-of-type {\n",
       "        vertical-align: middle;\n",
       "    }\n",
       "\n",
       "    .dataframe tbody tr th {\n",
       "        vertical-align: top;\n",
       "    }\n",
       "\n",
       "    .dataframe thead th {\n",
       "        text-align: right;\n",
       "    }\n",
       "</style>\n",
       "<table border=\"1\" class=\"dataframe\">\n",
       "  <thead>\n",
       "    <tr style=\"text-align: right;\">\n",
       "      <th></th>\n",
       "      <th>Unnamed: 0</th>\n",
       "      <th>id</th>\n",
       "      <th>mb_used</th>\n",
       "      <th>session_date</th>\n",
       "      <th>user_id</th>\n",
       "    </tr>\n",
       "  </thead>\n",
       "  <tbody>\n",
       "    <tr>\n",
       "      <th>0</th>\n",
       "      <td>0</td>\n",
       "      <td>1000_0</td>\n",
       "      <td>112.95</td>\n",
       "      <td>2018-11-25</td>\n",
       "      <td>1000</td>\n",
       "    </tr>\n",
       "    <tr>\n",
       "      <th>1</th>\n",
       "      <td>1</td>\n",
       "      <td>1000_1</td>\n",
       "      <td>1052.81</td>\n",
       "      <td>2018-09-07</td>\n",
       "      <td>1000</td>\n",
       "    </tr>\n",
       "    <tr>\n",
       "      <th>2</th>\n",
       "      <td>2</td>\n",
       "      <td>1000_2</td>\n",
       "      <td>1197.26</td>\n",
       "      <td>2018-06-25</td>\n",
       "      <td>1000</td>\n",
       "    </tr>\n",
       "    <tr>\n",
       "      <th>3</th>\n",
       "      <td>3</td>\n",
       "      <td>1000_3</td>\n",
       "      <td>550.27</td>\n",
       "      <td>2018-08-22</td>\n",
       "      <td>1000</td>\n",
       "    </tr>\n",
       "    <tr>\n",
       "      <th>4</th>\n",
       "      <td>4</td>\n",
       "      <td>1000_4</td>\n",
       "      <td>302.56</td>\n",
       "      <td>2018-09-24</td>\n",
       "      <td>1000</td>\n",
       "    </tr>\n",
       "  </tbody>\n",
       "</table>\n",
       "</div>"
      ],
      "text/plain": [
       "   Unnamed: 0      id  mb_used session_date  user_id\n",
       "0           0  1000_0   112.95   2018-11-25     1000\n",
       "1           1  1000_1  1052.81   2018-09-07     1000\n",
       "2           2  1000_2  1197.26   2018-06-25     1000\n",
       "3           3  1000_3   550.27   2018-08-22     1000\n",
       "4           4  1000_4   302.56   2018-09-24     1000"
      ]
     },
     "metadata": {},
     "output_type": "display_data"
    }
   ],
   "source": [
    "display(internet.head())"
   ]
  },
  {
   "cell_type": "code",
   "execution_count": 6,
   "metadata": {},
   "outputs": [
    {
     "name": "stdout",
     "output_type": "stream",
     "text": [
      "<class 'pandas.core.frame.DataFrame'>\n",
      "RangeIndex: 149396 entries, 0 to 149395\n",
      "Data columns (total 5 columns):\n",
      " #   Column        Non-Null Count   Dtype  \n",
      "---  ------        --------------   -----  \n",
      " 0   Unnamed: 0    149396 non-null  int64  \n",
      " 1   id            149396 non-null  object \n",
      " 2   mb_used       149396 non-null  float64\n",
      " 3   session_date  149396 non-null  object \n",
      " 4   user_id       149396 non-null  int64  \n",
      "dtypes: float64(1), int64(2), object(2)\n",
      "memory usage: 5.7+ MB\n"
     ]
    }
   ],
   "source": [
    "internet.info()"
   ]
  },
  {
   "cell_type": "markdown",
   "metadata": {},
   "source": [
    "В таблице internet прежде всего следует избавиться от столбца «Unnamed: 0» — он не несёт никакой смысловой нагрузки и его нет в техническом описании. Возможно, он оказался в наборе данных по ошибке. Данные столбца id можно привести к числовому типу после удаления символа нижнего подчёркивания. Столбец session_date следует привести к типу datetime."
   ]
  },
  {
   "cell_type": "code",
   "execution_count": 7,
   "metadata": {},
   "outputs": [
    {
     "data": {
      "text/html": [
       "<div>\n",
       "<style scoped>\n",
       "    .dataframe tbody tr th:only-of-type {\n",
       "        vertical-align: middle;\n",
       "    }\n",
       "\n",
       "    .dataframe tbody tr th {\n",
       "        vertical-align: top;\n",
       "    }\n",
       "\n",
       "    .dataframe thead th {\n",
       "        text-align: right;\n",
       "    }\n",
       "</style>\n",
       "<table border=\"1\" class=\"dataframe\">\n",
       "  <thead>\n",
       "    <tr style=\"text-align: right;\">\n",
       "      <th></th>\n",
       "      <th>id</th>\n",
       "      <th>message_date</th>\n",
       "      <th>user_id</th>\n",
       "    </tr>\n",
       "  </thead>\n",
       "  <tbody>\n",
       "    <tr>\n",
       "      <th>0</th>\n",
       "      <td>1000_0</td>\n",
       "      <td>2018-06-27</td>\n",
       "      <td>1000</td>\n",
       "    </tr>\n",
       "    <tr>\n",
       "      <th>1</th>\n",
       "      <td>1000_1</td>\n",
       "      <td>2018-10-08</td>\n",
       "      <td>1000</td>\n",
       "    </tr>\n",
       "    <tr>\n",
       "      <th>2</th>\n",
       "      <td>1000_2</td>\n",
       "      <td>2018-08-04</td>\n",
       "      <td>1000</td>\n",
       "    </tr>\n",
       "    <tr>\n",
       "      <th>3</th>\n",
       "      <td>1000_3</td>\n",
       "      <td>2018-06-16</td>\n",
       "      <td>1000</td>\n",
       "    </tr>\n",
       "    <tr>\n",
       "      <th>4</th>\n",
       "      <td>1000_4</td>\n",
       "      <td>2018-12-05</td>\n",
       "      <td>1000</td>\n",
       "    </tr>\n",
       "  </tbody>\n",
       "</table>\n",
       "</div>"
      ],
      "text/plain": [
       "       id message_date  user_id\n",
       "0  1000_0   2018-06-27     1000\n",
       "1  1000_1   2018-10-08     1000\n",
       "2  1000_2   2018-08-04     1000\n",
       "3  1000_3   2018-06-16     1000\n",
       "4  1000_4   2018-12-05     1000"
      ]
     },
     "metadata": {},
     "output_type": "display_data"
    }
   ],
   "source": [
    "display(messages.head())"
   ]
  },
  {
   "cell_type": "code",
   "execution_count": 8,
   "metadata": {},
   "outputs": [
    {
     "name": "stdout",
     "output_type": "stream",
     "text": [
      "<class 'pandas.core.frame.DataFrame'>\n",
      "RangeIndex: 123036 entries, 0 to 123035\n",
      "Data columns (total 3 columns):\n",
      " #   Column        Non-Null Count   Dtype \n",
      "---  ------        --------------   ----- \n",
      " 0   id            123036 non-null  object\n",
      " 1   message_date  123036 non-null  object\n",
      " 2   user_id       123036 non-null  int64 \n",
      "dtypes: int64(1), object(2)\n",
      "memory usage: 2.8+ MB\n"
     ]
    }
   ],
   "source": [
    "messages.info()"
   ]
  },
  {
   "cell_type": "markdown",
   "metadata": {},
   "source": [
    "В таблице messages данные столбца id приведём к числовому типу, удалив символ нижнего подчёркивания из них. Данные столбца message_date приведём к типу datetime."
   ]
  },
  {
   "cell_type": "code",
   "execution_count": 9,
   "metadata": {},
   "outputs": [
    {
     "data": {
      "text/html": [
       "<div>\n",
       "<style scoped>\n",
       "    .dataframe tbody tr th:only-of-type {\n",
       "        vertical-align: middle;\n",
       "    }\n",
       "\n",
       "    .dataframe tbody tr th {\n",
       "        vertical-align: top;\n",
       "    }\n",
       "\n",
       "    .dataframe thead th {\n",
       "        text-align: right;\n",
       "    }\n",
       "</style>\n",
       "<table border=\"1\" class=\"dataframe\">\n",
       "  <thead>\n",
       "    <tr style=\"text-align: right;\">\n",
       "      <th></th>\n",
       "      <th>messages_included</th>\n",
       "      <th>mb_per_month_included</th>\n",
       "      <th>minutes_included</th>\n",
       "      <th>rub_monthly_fee</th>\n",
       "      <th>rub_per_gb</th>\n",
       "      <th>rub_per_message</th>\n",
       "      <th>rub_per_minute</th>\n",
       "      <th>tariff_name</th>\n",
       "    </tr>\n",
       "  </thead>\n",
       "  <tbody>\n",
       "    <tr>\n",
       "      <th>0</th>\n",
       "      <td>50</td>\n",
       "      <td>15360</td>\n",
       "      <td>500</td>\n",
       "      <td>550</td>\n",
       "      <td>200</td>\n",
       "      <td>3</td>\n",
       "      <td>3</td>\n",
       "      <td>smart</td>\n",
       "    </tr>\n",
       "    <tr>\n",
       "      <th>1</th>\n",
       "      <td>1000</td>\n",
       "      <td>30720</td>\n",
       "      <td>3000</td>\n",
       "      <td>1950</td>\n",
       "      <td>150</td>\n",
       "      <td>1</td>\n",
       "      <td>1</td>\n",
       "      <td>ultra</td>\n",
       "    </tr>\n",
       "  </tbody>\n",
       "</table>\n",
       "</div>"
      ],
      "text/plain": [
       "   messages_included  mb_per_month_included  minutes_included  \\\n",
       "0                 50                  15360               500   \n",
       "1               1000                  30720              3000   \n",
       "\n",
       "   rub_monthly_fee  rub_per_gb  rub_per_message  rub_per_minute tariff_name  \n",
       "0              550         200                3               3       smart  \n",
       "1             1950         150                1               1       ultra  "
      ]
     },
     "metadata": {},
     "output_type": "display_data"
    }
   ],
   "source": [
    "display(tariffs.head())"
   ]
  },
  {
   "cell_type": "code",
   "execution_count": 10,
   "metadata": {},
   "outputs": [
    {
     "name": "stdout",
     "output_type": "stream",
     "text": [
      "<class 'pandas.core.frame.DataFrame'>\n",
      "RangeIndex: 2 entries, 0 to 1\n",
      "Data columns (total 8 columns):\n",
      " #   Column                 Non-Null Count  Dtype \n",
      "---  ------                 --------------  ----- \n",
      " 0   messages_included      2 non-null      int64 \n",
      " 1   mb_per_month_included  2 non-null      int64 \n",
      " 2   minutes_included       2 non-null      int64 \n",
      " 3   rub_monthly_fee        2 non-null      int64 \n",
      " 4   rub_per_gb             2 non-null      int64 \n",
      " 5   rub_per_message        2 non-null      int64 \n",
      " 6   rub_per_minute         2 non-null      int64 \n",
      " 7   tariff_name            2 non-null      object\n",
      "dtypes: int64(7), object(1)\n",
      "memory usage: 256.0+ bytes\n"
     ]
    }
   ],
   "source": [
    "tariffs.info()"
   ]
  },
  {
   "cell_type": "code",
   "execution_count": 11,
   "metadata": {},
   "outputs": [
    {
     "data": {
      "text/html": [
       "<div>\n",
       "<style scoped>\n",
       "    .dataframe tbody tr th:only-of-type {\n",
       "        vertical-align: middle;\n",
       "    }\n",
       "\n",
       "    .dataframe tbody tr th {\n",
       "        vertical-align: top;\n",
       "    }\n",
       "\n",
       "    .dataframe thead th {\n",
       "        text-align: right;\n",
       "    }\n",
       "</style>\n",
       "<table border=\"1\" class=\"dataframe\">\n",
       "  <thead>\n",
       "    <tr style=\"text-align: right;\">\n",
       "      <th></th>\n",
       "      <th>user_id</th>\n",
       "      <th>age</th>\n",
       "      <th>churn_date</th>\n",
       "      <th>city</th>\n",
       "      <th>first_name</th>\n",
       "      <th>last_name</th>\n",
       "      <th>reg_date</th>\n",
       "      <th>tariff</th>\n",
       "    </tr>\n",
       "  </thead>\n",
       "  <tbody>\n",
       "    <tr>\n",
       "      <th>0</th>\n",
       "      <td>1000</td>\n",
       "      <td>52</td>\n",
       "      <td>NaN</td>\n",
       "      <td>Краснодар</td>\n",
       "      <td>Рафаил</td>\n",
       "      <td>Верещагин</td>\n",
       "      <td>2018-05-25</td>\n",
       "      <td>ultra</td>\n",
       "    </tr>\n",
       "    <tr>\n",
       "      <th>1</th>\n",
       "      <td>1001</td>\n",
       "      <td>41</td>\n",
       "      <td>NaN</td>\n",
       "      <td>Москва</td>\n",
       "      <td>Иван</td>\n",
       "      <td>Ежов</td>\n",
       "      <td>2018-11-01</td>\n",
       "      <td>smart</td>\n",
       "    </tr>\n",
       "    <tr>\n",
       "      <th>2</th>\n",
       "      <td>1002</td>\n",
       "      <td>59</td>\n",
       "      <td>NaN</td>\n",
       "      <td>Стерлитамак</td>\n",
       "      <td>Евгений</td>\n",
       "      <td>Абрамович</td>\n",
       "      <td>2018-06-17</td>\n",
       "      <td>smart</td>\n",
       "    </tr>\n",
       "    <tr>\n",
       "      <th>3</th>\n",
       "      <td>1003</td>\n",
       "      <td>23</td>\n",
       "      <td>NaN</td>\n",
       "      <td>Москва</td>\n",
       "      <td>Белла</td>\n",
       "      <td>Белякова</td>\n",
       "      <td>2018-08-17</td>\n",
       "      <td>ultra</td>\n",
       "    </tr>\n",
       "    <tr>\n",
       "      <th>4</th>\n",
       "      <td>1004</td>\n",
       "      <td>68</td>\n",
       "      <td>NaN</td>\n",
       "      <td>Новокузнецк</td>\n",
       "      <td>Татьяна</td>\n",
       "      <td>Авдеенко</td>\n",
       "      <td>2018-05-14</td>\n",
       "      <td>ultra</td>\n",
       "    </tr>\n",
       "  </tbody>\n",
       "</table>\n",
       "</div>"
      ],
      "text/plain": [
       "   user_id  age churn_date         city first_name  last_name    reg_date  \\\n",
       "0     1000   52        NaN    Краснодар     Рафаил  Верещагин  2018-05-25   \n",
       "1     1001   41        NaN       Москва       Иван       Ежов  2018-11-01   \n",
       "2     1002   59        NaN  Стерлитамак    Евгений  Абрамович  2018-06-17   \n",
       "3     1003   23        NaN       Москва      Белла   Белякова  2018-08-17   \n",
       "4     1004   68        NaN  Новокузнецк    Татьяна   Авдеенко  2018-05-14   \n",
       "\n",
       "  tariff  \n",
       "0  ultra  \n",
       "1  smart  \n",
       "2  smart  \n",
       "3  ultra  \n",
       "4  ultra  "
      ]
     },
     "metadata": {},
     "output_type": "display_data"
    }
   ],
   "source": [
    "display(users.head())"
   ]
  },
  {
   "cell_type": "code",
   "execution_count": 12,
   "metadata": {},
   "outputs": [
    {
     "name": "stdout",
     "output_type": "stream",
     "text": [
      "<class 'pandas.core.frame.DataFrame'>\n",
      "RangeIndex: 500 entries, 0 to 499\n",
      "Data columns (total 8 columns):\n",
      " #   Column      Non-Null Count  Dtype \n",
      "---  ------      --------------  ----- \n",
      " 0   user_id     500 non-null    int64 \n",
      " 1   age         500 non-null    int64 \n",
      " 2   churn_date  38 non-null     object\n",
      " 3   city        500 non-null    object\n",
      " 4   first_name  500 non-null    object\n",
      " 5   last_name   500 non-null    object\n",
      " 6   reg_date    500 non-null    object\n",
      " 7   tariff      500 non-null    object\n",
      "dtypes: int64(2), object(6)\n",
      "memory usage: 31.4+ KB\n"
     ]
    }
   ],
   "source": [
    "users.info()"
   ]
  },
  {
   "cell_type": "markdown",
   "metadata": {},
   "source": [
    "В таблице users приведём данные из столбцов 'reg_date' и 'churn_date' к типу datetime."
   ]
  },
  {
   "cell_type": "markdown",
   "metadata": {},
   "source": [
    "# Шаг 2. Подготовка данных"
   ]
  },
  {
   "cell_type": "markdown",
   "metadata": {},
   "source": [
    "На предыдущем шаге мы выявили необходимость в приведении столбцов id таблиц calls, internet, messages к числовому типу с удалением символа нижнего подчёркивания из данных. Также удалим столбец Unnamed: 0 в таблице internet и приведём данные столбцов с датами к типу datetime."
   ]
  },
  {
   "cell_type": "code",
   "execution_count": 13,
   "metadata": {},
   "outputs": [],
   "source": [
    "# Удаляем символы нижнего подчёркивания из значений столбцов id в таблицах и приводим данные этих столбцов в типу int:\n",
    "\n",
    "tables_to_replace = [calls, internet, messages]\n",
    "\n",
    "for i in tables_to_replace:\n",
    "    i['id'] = i['id'].str.replace('_','')\n",
    "    i['id'] = i['id'].astype('int')\n",
    "    "
   ]
  },
  {
   "cell_type": "code",
   "execution_count": 14,
   "metadata": {},
   "outputs": [],
   "source": [
    "# Удаляем столбец 'Unnamed: 0', который оказался в таблице internet по ошибке\n",
    "\n",
    "internet = internet.drop('Unnamed: 0', axis=1)\n"
   ]
  },
  {
   "cell_type": "code",
   "execution_count": 15,
   "metadata": {},
   "outputs": [],
   "source": [
    "# Приводим данные столбцов с датами к типу datetime\n",
    "\n",
    "calls['call_date'] = pd.to_datetime(calls['call_date'])\n",
    "internet['session_date'] = pd.to_datetime(internet['session_date'])\n",
    "messages['message_date'] = pd.to_datetime(messages['message_date'])\n",
    "users['reg_date'] = pd.to_datetime(users['reg_date'])\n",
    "users['churn_date'] = pd.to_datetime(users['churn_date'])"
   ]
  },
  {
   "cell_type": "code",
   "execution_count": 16,
   "metadata": {},
   "outputs": [
    {
     "name": "stdout",
     "output_type": "stream",
     "text": [
      "Грубых дубликатов в таблицах не выявлено\n"
     ]
    }
   ],
   "source": [
    "# Проверим таблицы на наличие грубых дубликатов\n",
    "\n",
    "check_list = [calls, internet, messages, tariffs, users]\n",
    "\n",
    "dup_sum = False # Флаг наличия грубых дубликатов. При обнаружении хотя бы в одной таблице будет переведён в True\n",
    "\n",
    "for i in check_list:\n",
    "    dup_num = i.duplicated().sum()\n",
    "    if dup_num > 0:\n",
    "        dup_sum = True\n",
    "        print(f'В таблице {i} есть грубые дубликаты')\n",
    "        \n",
    "if dup_sum == False:\n",
    "    print('Грубых дубликатов в таблицах не выявлено')\n",
    "else:\n",
    "    print('Необходимо удалить грубые дубликаты в данных')\n",
    "    "
   ]
  },
  {
   "cell_type": "markdown",
   "metadata": {},
   "source": [
    "Пропусков в данных, кроме пропусков в столбце 'churn_date', которые объяснены в техническом описании, не обнаружено. Когда мы вызывали методы info(), можно было обратить внимание на то, что количество записей в таблице совпадает с количеством записей в каждом из столбцов. "
   ]
  },
  {
   "cell_type": "markdown",
   "metadata": {},
   "source": [
    "Посчитаем для каждого пользователя количество сделанных звонков и израсходованных минут разговора по месяцам. Для этого сперва добавим в таблицу calls два новых столбца: 'call_month'с месяцем звонка и 'minutes' с количеством потраченных минут, а далее создадим сводную таблицу user_calls, в которой столбцами станут месяца, а строками — записи о пользователях. В «ячейках» окажутся данные о суммарно израсходованных минутах."
   ]
  },
  {
   "cell_type": "code",
   "execution_count": 17,
   "metadata": {},
   "outputs": [],
   "source": [
    "# Создадим в таблице users столбец с информацией о месяце регистрации пользователей\n",
    "\n",
    "users['reg_month'] = users['reg_date'].dt.month"
   ]
  },
  {
   "cell_type": "code",
   "execution_count": 18,
   "metadata": {},
   "outputs": [],
   "source": [
    "calls['call_month'] = calls['call_date'].dt.month"
   ]
  },
  {
   "cell_type": "code",
   "execution_count": 19,
   "metadata": {},
   "outputs": [],
   "source": [
    "def get_minutes(row):\n",
    "    duration = float(row['duration'])\n",
    "    return int(ceil(duration))\n",
    "\n",
    "calls['minutes'] = calls.apply(get_minutes, axis=1)"
   ]
  },
  {
   "cell_type": "code",
   "execution_count": 20,
   "metadata": {},
   "outputs": [],
   "source": [
    "user_calls = calls.pivot_table(index='user_id', columns='call_month', values='minutes', aggfunc='sum')\n"
   ]
  },
  {
   "cell_type": "code",
   "execution_count": 21,
   "metadata": {},
   "outputs": [],
   "source": [
    "# Здесь будет функция, которая приведёт к удобочитаемому виду эту и следующие сводные таблицы\n",
    "def beautify_table(table):\n",
    "    table['user_id'] = table.index\n",
    "    table = table.reset_index(drop=True)\n",
    "    table = table[['user_id'] + list(range(1, 13))]\n",
    "\n",
    "    table = table.fillna(0)\n",
    "\n",
    "    for i in range(1, 13):\n",
    "        table[i] = table[i].astype('int')\n",
    "    return table\n",
    "    \n"
   ]
  },
  {
   "cell_type": "code",
   "execution_count": 22,
   "metadata": {},
   "outputs": [
    {
     "data": {
      "text/html": [
       "<div>\n",
       "<style scoped>\n",
       "    .dataframe tbody tr th:only-of-type {\n",
       "        vertical-align: middle;\n",
       "    }\n",
       "\n",
       "    .dataframe tbody tr th {\n",
       "        vertical-align: top;\n",
       "    }\n",
       "\n",
       "    .dataframe thead th {\n",
       "        text-align: right;\n",
       "    }\n",
       "</style>\n",
       "<table border=\"1\" class=\"dataframe\">\n",
       "  <thead>\n",
       "    <tr style=\"text-align: right;\">\n",
       "      <th>call_month</th>\n",
       "      <th>user_id</th>\n",
       "      <th>1</th>\n",
       "      <th>2</th>\n",
       "      <th>3</th>\n",
       "      <th>4</th>\n",
       "      <th>5</th>\n",
       "      <th>6</th>\n",
       "      <th>7</th>\n",
       "      <th>8</th>\n",
       "      <th>9</th>\n",
       "      <th>10</th>\n",
       "      <th>11</th>\n",
       "      <th>12</th>\n",
       "    </tr>\n",
       "  </thead>\n",
       "  <tbody>\n",
       "    <tr>\n",
       "      <th>0</th>\n",
       "      <td>1000</td>\n",
       "      <td>0</td>\n",
       "      <td>0</td>\n",
       "      <td>0</td>\n",
       "      <td>0</td>\n",
       "      <td>159</td>\n",
       "      <td>172</td>\n",
       "      <td>340</td>\n",
       "      <td>408</td>\n",
       "      <td>466</td>\n",
       "      <td>350</td>\n",
       "      <td>338</td>\n",
       "      <td>333</td>\n",
       "    </tr>\n",
       "    <tr>\n",
       "      <th>1</th>\n",
       "      <td>1001</td>\n",
       "      <td>0</td>\n",
       "      <td>0</td>\n",
       "      <td>0</td>\n",
       "      <td>0</td>\n",
       "      <td>0</td>\n",
       "      <td>0</td>\n",
       "      <td>0</td>\n",
       "      <td>0</td>\n",
       "      <td>0</td>\n",
       "      <td>0</td>\n",
       "      <td>430</td>\n",
       "      <td>414</td>\n",
       "    </tr>\n",
       "    <tr>\n",
       "      <th>2</th>\n",
       "      <td>1002</td>\n",
       "      <td>0</td>\n",
       "      <td>0</td>\n",
       "      <td>0</td>\n",
       "      <td>0</td>\n",
       "      <td>0</td>\n",
       "      <td>117</td>\n",
       "      <td>214</td>\n",
       "      <td>289</td>\n",
       "      <td>206</td>\n",
       "      <td>212</td>\n",
       "      <td>243</td>\n",
       "      <td>236</td>\n",
       "    </tr>\n",
       "    <tr>\n",
       "      <th>3</th>\n",
       "      <td>1003</td>\n",
       "      <td>0</td>\n",
       "      <td>0</td>\n",
       "      <td>0</td>\n",
       "      <td>0</td>\n",
       "      <td>0</td>\n",
       "      <td>0</td>\n",
       "      <td>0</td>\n",
       "      <td>380</td>\n",
       "      <td>961</td>\n",
       "      <td>855</td>\n",
       "      <td>824</td>\n",
       "      <td>802</td>\n",
       "    </tr>\n",
       "    <tr>\n",
       "      <th>4</th>\n",
       "      <td>1004</td>\n",
       "      <td>0</td>\n",
       "      <td>0</td>\n",
       "      <td>0</td>\n",
       "      <td>0</td>\n",
       "      <td>35</td>\n",
       "      <td>171</td>\n",
       "      <td>135</td>\n",
       "      <td>137</td>\n",
       "      <td>117</td>\n",
       "      <td>145</td>\n",
       "      <td>117</td>\n",
       "      <td>130</td>\n",
       "    </tr>\n",
       "    <tr>\n",
       "      <th>...</th>\n",
       "      <td>...</td>\n",
       "      <td>...</td>\n",
       "      <td>...</td>\n",
       "      <td>...</td>\n",
       "      <td>...</td>\n",
       "      <td>...</td>\n",
       "      <td>...</td>\n",
       "      <td>...</td>\n",
       "      <td>...</td>\n",
       "      <td>...</td>\n",
       "      <td>...</td>\n",
       "      <td>...</td>\n",
       "      <td>...</td>\n",
       "    </tr>\n",
       "    <tr>\n",
       "      <th>487</th>\n",
       "      <td>1495</td>\n",
       "      <td>0</td>\n",
       "      <td>0</td>\n",
       "      <td>0</td>\n",
       "      <td>0</td>\n",
       "      <td>0</td>\n",
       "      <td>0</td>\n",
       "      <td>0</td>\n",
       "      <td>92</td>\n",
       "      <td>813</td>\n",
       "      <td>1030</td>\n",
       "      <td>954</td>\n",
       "      <td>1031</td>\n",
       "    </tr>\n",
       "    <tr>\n",
       "      <th>488</th>\n",
       "      <td>1496</td>\n",
       "      <td>48</td>\n",
       "      <td>594</td>\n",
       "      <td>557</td>\n",
       "      <td>521</td>\n",
       "      <td>484</td>\n",
       "      <td>555</td>\n",
       "      <td>582</td>\n",
       "      <td>527</td>\n",
       "      <td>486</td>\n",
       "      <td>450</td>\n",
       "      <td>662</td>\n",
       "      <td>518</td>\n",
       "    </tr>\n",
       "    <tr>\n",
       "      <th>489</th>\n",
       "      <td>1497</td>\n",
       "      <td>0</td>\n",
       "      <td>0</td>\n",
       "      <td>0</td>\n",
       "      <td>0</td>\n",
       "      <td>0</td>\n",
       "      <td>0</td>\n",
       "      <td>0</td>\n",
       "      <td>0</td>\n",
       "      <td>0</td>\n",
       "      <td>490</td>\n",
       "      <td>371</td>\n",
       "      <td>545</td>\n",
       "    </tr>\n",
       "    <tr>\n",
       "      <th>490</th>\n",
       "      <td>1498</td>\n",
       "      <td>0</td>\n",
       "      <td>0</td>\n",
       "      <td>0</td>\n",
       "      <td>0</td>\n",
       "      <td>0</td>\n",
       "      <td>0</td>\n",
       "      <td>175</td>\n",
       "      <td>400</td>\n",
       "      <td>471</td>\n",
       "      <td>247</td>\n",
       "      <td>0</td>\n",
       "      <td>0</td>\n",
       "    </tr>\n",
       "    <tr>\n",
       "      <th>491</th>\n",
       "      <td>1499</td>\n",
       "      <td>0</td>\n",
       "      <td>0</td>\n",
       "      <td>0</td>\n",
       "      <td>0</td>\n",
       "      <td>0</td>\n",
       "      <td>0</td>\n",
       "      <td>0</td>\n",
       "      <td>0</td>\n",
       "      <td>70</td>\n",
       "      <td>449</td>\n",
       "      <td>612</td>\n",
       "      <td>492</td>\n",
       "    </tr>\n",
       "  </tbody>\n",
       "</table>\n",
       "<p>492 rows × 13 columns</p>\n",
       "</div>"
      ],
      "text/plain": [
       "call_month  user_id   1    2    3    4    5    6    7    8    9    10   11  \\\n",
       "0              1000   0    0    0    0  159  172  340  408  466   350  338   \n",
       "1              1001   0    0    0    0    0    0    0    0    0     0  430   \n",
       "2              1002   0    0    0    0    0  117  214  289  206   212  243   \n",
       "3              1003   0    0    0    0    0    0    0  380  961   855  824   \n",
       "4              1004   0    0    0    0   35  171  135  137  117   145  117   \n",
       "..              ...  ..  ...  ...  ...  ...  ...  ...  ...  ...   ...  ...   \n",
       "487            1495   0    0    0    0    0    0    0   92  813  1030  954   \n",
       "488            1496  48  594  557  521  484  555  582  527  486   450  662   \n",
       "489            1497   0    0    0    0    0    0    0    0    0   490  371   \n",
       "490            1498   0    0    0    0    0    0  175  400  471   247    0   \n",
       "491            1499   0    0    0    0    0    0    0    0   70   449  612   \n",
       "\n",
       "call_month    12  \n",
       "0            333  \n",
       "1            414  \n",
       "2            236  \n",
       "3            802  \n",
       "4            130  \n",
       "..           ...  \n",
       "487         1031  \n",
       "488          518  \n",
       "489          545  \n",
       "490            0  \n",
       "491          492  \n",
       "\n",
       "[492 rows x 13 columns]"
      ]
     },
     "metadata": {},
     "output_type": "display_data"
    }
   ],
   "source": [
    "user_calls = beautify_table(user_calls)\n",
    "\n",
    "display(user_calls)"
   ]
  },
  {
   "cell_type": "markdown",
   "metadata": {},
   "source": [
    "Теперь посчитаем для каждого пользователя количество отправленных сообщений по месяцам."
   ]
  },
  {
   "cell_type": "code",
   "execution_count": 23,
   "metadata": {},
   "outputs": [],
   "source": [
    "messages['message_month'] = messages['message_date'].dt.month"
   ]
  },
  {
   "cell_type": "code",
   "execution_count": 24,
   "metadata": {},
   "outputs": [],
   "source": [
    "user_messages = messages.pivot_table(index='user_id', columns='message_month', values='id', aggfunc='count')\n",
    "\n",
    "# Приводим таблицу user_messages к удобочитаемому виду с помощью функции beatify_table()\n",
    "user_messages = beautify_table(user_messages)"
   ]
  },
  {
   "cell_type": "code",
   "execution_count": 25,
   "metadata": {},
   "outputs": [
    {
     "data": {
      "text/html": [
       "<div>\n",
       "<style scoped>\n",
       "    .dataframe tbody tr th:only-of-type {\n",
       "        vertical-align: middle;\n",
       "    }\n",
       "\n",
       "    .dataframe tbody tr th {\n",
       "        vertical-align: top;\n",
       "    }\n",
       "\n",
       "    .dataframe thead th {\n",
       "        text-align: right;\n",
       "    }\n",
       "</style>\n",
       "<table border=\"1\" class=\"dataframe\">\n",
       "  <thead>\n",
       "    <tr style=\"text-align: right;\">\n",
       "      <th>message_month</th>\n",
       "      <th>user_id</th>\n",
       "      <th>1</th>\n",
       "      <th>2</th>\n",
       "      <th>3</th>\n",
       "      <th>4</th>\n",
       "      <th>5</th>\n",
       "      <th>6</th>\n",
       "      <th>7</th>\n",
       "      <th>8</th>\n",
       "      <th>9</th>\n",
       "      <th>10</th>\n",
       "      <th>11</th>\n",
       "      <th>12</th>\n",
       "    </tr>\n",
       "  </thead>\n",
       "  <tbody>\n",
       "    <tr>\n",
       "      <th>0</th>\n",
       "      <td>1000</td>\n",
       "      <td>0</td>\n",
       "      <td>0</td>\n",
       "      <td>0</td>\n",
       "      <td>0</td>\n",
       "      <td>22</td>\n",
       "      <td>60</td>\n",
       "      <td>75</td>\n",
       "      <td>81</td>\n",
       "      <td>57</td>\n",
       "      <td>73</td>\n",
       "      <td>58</td>\n",
       "      <td>70</td>\n",
       "    </tr>\n",
       "    <tr>\n",
       "      <th>1</th>\n",
       "      <td>1002</td>\n",
       "      <td>0</td>\n",
       "      <td>0</td>\n",
       "      <td>0</td>\n",
       "      <td>0</td>\n",
       "      <td>0</td>\n",
       "      <td>4</td>\n",
       "      <td>11</td>\n",
       "      <td>13</td>\n",
       "      <td>4</td>\n",
       "      <td>10</td>\n",
       "      <td>16</td>\n",
       "      <td>12</td>\n",
       "    </tr>\n",
       "    <tr>\n",
       "      <th>2</th>\n",
       "      <td>1003</td>\n",
       "      <td>0</td>\n",
       "      <td>0</td>\n",
       "      <td>0</td>\n",
       "      <td>0</td>\n",
       "      <td>0</td>\n",
       "      <td>0</td>\n",
       "      <td>0</td>\n",
       "      <td>37</td>\n",
       "      <td>91</td>\n",
       "      <td>83</td>\n",
       "      <td>94</td>\n",
       "      <td>75</td>\n",
       "    </tr>\n",
       "    <tr>\n",
       "      <th>3</th>\n",
       "      <td>1004</td>\n",
       "      <td>0</td>\n",
       "      <td>0</td>\n",
       "      <td>0</td>\n",
       "      <td>0</td>\n",
       "      <td>95</td>\n",
       "      <td>134</td>\n",
       "      <td>181</td>\n",
       "      <td>151</td>\n",
       "      <td>146</td>\n",
       "      <td>165</td>\n",
       "      <td>158</td>\n",
       "      <td>162</td>\n",
       "    </tr>\n",
       "    <tr>\n",
       "      <th>4</th>\n",
       "      <td>1005</td>\n",
       "      <td>7</td>\n",
       "      <td>38</td>\n",
       "      <td>56</td>\n",
       "      <td>41</td>\n",
       "      <td>42</td>\n",
       "      <td>47</td>\n",
       "      <td>56</td>\n",
       "      <td>64</td>\n",
       "      <td>52</td>\n",
       "      <td>44</td>\n",
       "      <td>51</td>\n",
       "      <td>54</td>\n",
       "    </tr>\n",
       "    <tr>\n",
       "      <th>...</th>\n",
       "      <td>...</td>\n",
       "      <td>...</td>\n",
       "      <td>...</td>\n",
       "      <td>...</td>\n",
       "      <td>...</td>\n",
       "      <td>...</td>\n",
       "      <td>...</td>\n",
       "      <td>...</td>\n",
       "      <td>...</td>\n",
       "      <td>...</td>\n",
       "      <td>...</td>\n",
       "      <td>...</td>\n",
       "      <td>...</td>\n",
       "    </tr>\n",
       "    <tr>\n",
       "      <th>421</th>\n",
       "      <td>1495</td>\n",
       "      <td>0</td>\n",
       "      <td>0</td>\n",
       "      <td>0</td>\n",
       "      <td>0</td>\n",
       "      <td>0</td>\n",
       "      <td>0</td>\n",
       "      <td>0</td>\n",
       "      <td>13</td>\n",
       "      <td>82</td>\n",
       "      <td>82</td>\n",
       "      <td>79</td>\n",
       "      <td>84</td>\n",
       "    </tr>\n",
       "    <tr>\n",
       "      <th>422</th>\n",
       "      <td>1496</td>\n",
       "      <td>9</td>\n",
       "      <td>45</td>\n",
       "      <td>46</td>\n",
       "      <td>49</td>\n",
       "      <td>40</td>\n",
       "      <td>35</td>\n",
       "      <td>42</td>\n",
       "      <td>41</td>\n",
       "      <td>29</td>\n",
       "      <td>35</td>\n",
       "      <td>46</td>\n",
       "      <td>51</td>\n",
       "    </tr>\n",
       "    <tr>\n",
       "      <th>423</th>\n",
       "      <td>1497</td>\n",
       "      <td>0</td>\n",
       "      <td>0</td>\n",
       "      <td>0</td>\n",
       "      <td>0</td>\n",
       "      <td>0</td>\n",
       "      <td>0</td>\n",
       "      <td>0</td>\n",
       "      <td>0</td>\n",
       "      <td>0</td>\n",
       "      <td>20</td>\n",
       "      <td>14</td>\n",
       "      <td>17</td>\n",
       "    </tr>\n",
       "    <tr>\n",
       "      <th>424</th>\n",
       "      <td>1498</td>\n",
       "      <td>0</td>\n",
       "      <td>0</td>\n",
       "      <td>0</td>\n",
       "      <td>0</td>\n",
       "      <td>0</td>\n",
       "      <td>0</td>\n",
       "      <td>20</td>\n",
       "      <td>62</td>\n",
       "      <td>44</td>\n",
       "      <td>42</td>\n",
       "      <td>0</td>\n",
       "      <td>0</td>\n",
       "    </tr>\n",
       "    <tr>\n",
       "      <th>425</th>\n",
       "      <td>1499</td>\n",
       "      <td>0</td>\n",
       "      <td>0</td>\n",
       "      <td>0</td>\n",
       "      <td>0</td>\n",
       "      <td>0</td>\n",
       "      <td>0</td>\n",
       "      <td>0</td>\n",
       "      <td>0</td>\n",
       "      <td>11</td>\n",
       "      <td>48</td>\n",
       "      <td>59</td>\n",
       "      <td>66</td>\n",
       "    </tr>\n",
       "  </tbody>\n",
       "</table>\n",
       "<p>426 rows × 13 columns</p>\n",
       "</div>"
      ],
      "text/plain": [
       "message_month  user_id  1   2   3   4   5    6    7    8    9   10   11   12\n",
       "0                 1000  0   0   0   0  22   60   75   81   57   73   58   70\n",
       "1                 1002  0   0   0   0   0    4   11   13    4   10   16   12\n",
       "2                 1003  0   0   0   0   0    0    0   37   91   83   94   75\n",
       "3                 1004  0   0   0   0  95  134  181  151  146  165  158  162\n",
       "4                 1005  7  38  56  41  42   47   56   64   52   44   51   54\n",
       "..                 ... ..  ..  ..  ..  ..  ...  ...  ...  ...  ...  ...  ...\n",
       "421               1495  0   0   0   0   0    0    0   13   82   82   79   84\n",
       "422               1496  9  45  46  49  40   35   42   41   29   35   46   51\n",
       "423               1497  0   0   0   0   0    0    0    0    0   20   14   17\n",
       "424               1498  0   0   0   0   0    0   20   62   44   42    0    0\n",
       "425               1499  0   0   0   0   0    0    0    0   11   48   59   66\n",
       "\n",
       "[426 rows x 13 columns]"
      ]
     },
     "metadata": {},
     "output_type": "display_data"
    }
   ],
   "source": [
    "display(user_messages)"
   ]
  },
  {
   "cell_type": "markdown",
   "metadata": {},
   "source": [
    "Перейдём к подсчёту объёма израсходованного трафика по месяцам. Будем помнить о том, что в рамках одного месяца израсходованный трафик до 1024 мегабайт считается за 1 гб, трафик от 1025 мегабайт и до 2048 — за 2 гб и так далее."
   ]
  },
  {
   "cell_type": "code",
   "execution_count": 26,
   "metadata": {},
   "outputs": [],
   "source": [
    "# Создадим столбец с месяцем в таблице internet\n",
    "internet['session_month'] = internet['session_date'].dt.month"
   ]
  },
  {
   "cell_type": "code",
   "execution_count": 27,
   "metadata": {},
   "outputs": [],
   "source": [
    "user_traffic = internet.pivot_table(index='user_id', columns='session_month', values='mb_used', aggfunc='sum')\n",
    "\n",
    "user_traffic = user_traffic.fillna(0) # избавляемся от нанов\n",
    "user_traffic = user_traffic / 1024 # переводим в гигабайты "
   ]
  },
  {
   "cell_type": "code",
   "execution_count": 28,
   "metadata": {},
   "outputs": [],
   "source": [
    "# Создадим функцию для увеличения значения израсходованного трафика в большую сторону до ближайшего целого\n",
    "\n",
    "def ceiling_table(month):\n",
    "    if month == int(month):\n",
    "        return month\n",
    "    else:\n",
    "        return ceil(month)\n",
    "        "
   ]
  },
  {
   "cell_type": "code",
   "execution_count": 29,
   "metadata": {},
   "outputs": [
    {
     "data": {
      "text/html": [
       "<div>\n",
       "<style scoped>\n",
       "    .dataframe tbody tr th:only-of-type {\n",
       "        vertical-align: middle;\n",
       "    }\n",
       "\n",
       "    .dataframe tbody tr th {\n",
       "        vertical-align: top;\n",
       "    }\n",
       "\n",
       "    .dataframe thead th {\n",
       "        text-align: right;\n",
       "    }\n",
       "</style>\n",
       "<table border=\"1\" class=\"dataframe\">\n",
       "  <thead>\n",
       "    <tr style=\"text-align: right;\">\n",
       "      <th>session_month</th>\n",
       "      <th>1</th>\n",
       "      <th>2</th>\n",
       "      <th>3</th>\n",
       "      <th>4</th>\n",
       "      <th>5</th>\n",
       "      <th>6</th>\n",
       "      <th>7</th>\n",
       "      <th>8</th>\n",
       "      <th>9</th>\n",
       "      <th>10</th>\n",
       "      <th>11</th>\n",
       "      <th>12</th>\n",
       "    </tr>\n",
       "    <tr>\n",
       "      <th>user_id</th>\n",
       "      <th></th>\n",
       "      <th></th>\n",
       "      <th></th>\n",
       "      <th></th>\n",
       "      <th></th>\n",
       "      <th></th>\n",
       "      <th></th>\n",
       "      <th></th>\n",
       "      <th></th>\n",
       "      <th></th>\n",
       "      <th></th>\n",
       "      <th></th>\n",
       "    </tr>\n",
       "  </thead>\n",
       "  <tbody>\n",
       "    <tr>\n",
       "      <th>1000</th>\n",
       "      <td>0</td>\n",
       "      <td>0</td>\n",
       "      <td>0</td>\n",
       "      <td>0</td>\n",
       "      <td>3</td>\n",
       "      <td>23</td>\n",
       "      <td>14</td>\n",
       "      <td>14</td>\n",
       "      <td>15</td>\n",
       "      <td>15</td>\n",
       "      <td>15</td>\n",
       "      <td>10</td>\n",
       "    </tr>\n",
       "    <tr>\n",
       "      <th>1001</th>\n",
       "      <td>0</td>\n",
       "      <td>0</td>\n",
       "      <td>0</td>\n",
       "      <td>0</td>\n",
       "      <td>0</td>\n",
       "      <td>0</td>\n",
       "      <td>0</td>\n",
       "      <td>0</td>\n",
       "      <td>0</td>\n",
       "      <td>0</td>\n",
       "      <td>18</td>\n",
       "      <td>14</td>\n",
       "    </tr>\n",
       "    <tr>\n",
       "      <th>1002</th>\n",
       "      <td>0</td>\n",
       "      <td>0</td>\n",
       "      <td>0</td>\n",
       "      <td>0</td>\n",
       "      <td>0</td>\n",
       "      <td>11</td>\n",
       "      <td>18</td>\n",
       "      <td>20</td>\n",
       "      <td>17</td>\n",
       "      <td>14</td>\n",
       "      <td>19</td>\n",
       "      <td>18</td>\n",
       "    </tr>\n",
       "    <tr>\n",
       "      <th>1003</th>\n",
       "      <td>0</td>\n",
       "      <td>0</td>\n",
       "      <td>0</td>\n",
       "      <td>0</td>\n",
       "      <td>0</td>\n",
       "      <td>0</td>\n",
       "      <td>0</td>\n",
       "      <td>9</td>\n",
       "      <td>13</td>\n",
       "      <td>15</td>\n",
       "      <td>12</td>\n",
       "      <td>10</td>\n",
       "    </tr>\n",
       "    <tr>\n",
       "      <th>1004</th>\n",
       "      <td>0</td>\n",
       "      <td>0</td>\n",
       "      <td>0</td>\n",
       "      <td>0</td>\n",
       "      <td>14</td>\n",
       "      <td>18</td>\n",
       "      <td>22</td>\n",
       "      <td>28</td>\n",
       "      <td>15</td>\n",
       "      <td>19</td>\n",
       "      <td>16</td>\n",
       "      <td>18</td>\n",
       "    </tr>\n",
       "    <tr>\n",
       "      <th>...</th>\n",
       "      <td>...</td>\n",
       "      <td>...</td>\n",
       "      <td>...</td>\n",
       "      <td>...</td>\n",
       "      <td>...</td>\n",
       "      <td>...</td>\n",
       "      <td>...</td>\n",
       "      <td>...</td>\n",
       "      <td>...</td>\n",
       "      <td>...</td>\n",
       "      <td>...</td>\n",
       "      <td>...</td>\n",
       "    </tr>\n",
       "    <tr>\n",
       "      <th>1495</th>\n",
       "      <td>0</td>\n",
       "      <td>0</td>\n",
       "      <td>0</td>\n",
       "      <td>0</td>\n",
       "      <td>0</td>\n",
       "      <td>0</td>\n",
       "      <td>0</td>\n",
       "      <td>3</td>\n",
       "      <td>33</td>\n",
       "      <td>29</td>\n",
       "      <td>39</td>\n",
       "      <td>23</td>\n",
       "    </tr>\n",
       "    <tr>\n",
       "      <th>1496</th>\n",
       "      <td>4</td>\n",
       "      <td>28</td>\n",
       "      <td>25</td>\n",
       "      <td>21</td>\n",
       "      <td>24</td>\n",
       "      <td>20</td>\n",
       "      <td>24</td>\n",
       "      <td>23</td>\n",
       "      <td>27</td>\n",
       "      <td>28</td>\n",
       "      <td>25</td>\n",
       "      <td>21</td>\n",
       "    </tr>\n",
       "    <tr>\n",
       "      <th>1497</th>\n",
       "      <td>0</td>\n",
       "      <td>0</td>\n",
       "      <td>0</td>\n",
       "      <td>0</td>\n",
       "      <td>0</td>\n",
       "      <td>0</td>\n",
       "      <td>0</td>\n",
       "      <td>0</td>\n",
       "      <td>0</td>\n",
       "      <td>12</td>\n",
       "      <td>14</td>\n",
       "      <td>20</td>\n",
       "    </tr>\n",
       "    <tr>\n",
       "      <th>1498</th>\n",
       "      <td>0</td>\n",
       "      <td>0</td>\n",
       "      <td>0</td>\n",
       "      <td>0</td>\n",
       "      <td>0</td>\n",
       "      <td>0</td>\n",
       "      <td>8</td>\n",
       "      <td>24</td>\n",
       "      <td>22</td>\n",
       "      <td>21</td>\n",
       "      <td>0</td>\n",
       "      <td>0</td>\n",
       "    </tr>\n",
       "    <tr>\n",
       "      <th>1499</th>\n",
       "      <td>0</td>\n",
       "      <td>0</td>\n",
       "      <td>0</td>\n",
       "      <td>0</td>\n",
       "      <td>0</td>\n",
       "      <td>0</td>\n",
       "      <td>0</td>\n",
       "      <td>0</td>\n",
       "      <td>2</td>\n",
       "      <td>18</td>\n",
       "      <td>18</td>\n",
       "      <td>13</td>\n",
       "    </tr>\n",
       "  </tbody>\n",
       "</table>\n",
       "<p>497 rows × 12 columns</p>\n",
       "</div>"
      ],
      "text/plain": [
       "session_month  1   2   3   4   5   6   7   8   9   10  11  12\n",
       "user_id                                                      \n",
       "1000            0   0   0   0   3  23  14  14  15  15  15  10\n",
       "1001            0   0   0   0   0   0   0   0   0   0  18  14\n",
       "1002            0   0   0   0   0  11  18  20  17  14  19  18\n",
       "1003            0   0   0   0   0   0   0   9  13  15  12  10\n",
       "1004            0   0   0   0  14  18  22  28  15  19  16  18\n",
       "...            ..  ..  ..  ..  ..  ..  ..  ..  ..  ..  ..  ..\n",
       "1495            0   0   0   0   0   0   0   3  33  29  39  23\n",
       "1496            4  28  25  21  24  20  24  23  27  28  25  21\n",
       "1497            0   0   0   0   0   0   0   0   0  12  14  20\n",
       "1498            0   0   0   0   0   0   8  24  22  21   0   0\n",
       "1499            0   0   0   0   0   0   0   0   2  18  18  13\n",
       "\n",
       "[497 rows x 12 columns]"
      ]
     },
     "metadata": {},
     "output_type": "display_data"
    }
   ],
   "source": [
    "# Запустим эту функцию в цикле, чтобы применить её к каждому столбцу \n",
    "for i in range(1, 13):\n",
    "    user_traffic[i] = user_traffic[i].apply(ceiling_table)\n",
    "\n",
    "# В цикле приведём значения каждого столбца к целому виду\n",
    "for i in range(1, 13):\n",
    "    user_traffic[i] = user_traffic[i].astype('int')\n",
    "display(user_traffic)"
   ]
  },
  {
   "cell_type": "markdown",
   "metadata": {},
   "source": [
    "Теперь, когда у нас есть три таблицы, которые содержат информацию об израсходованных минутах, сообщениях и гигабайтах клиентов по месяцам, посчитаем помесячную выручку с каждого пользователя: для этого вычтем бесплатный лимит из суммарного количества звонков, сообщений и интернет-трафика, остаток умножим на значения тарифных планов и прибавим абонентскую плату."
   ]
  },
  {
   "cell_type": "code",
   "execution_count": 30,
   "metadata": {},
   "outputs": [],
   "source": [
    "# добавим каждой из таблиц по столбцу с соответствующим тарифом и переименуем столбец 'tariff' в 'tariff_name'\n",
    "# для последующего соединения со столбцами таблицы tariffs\n",
    "\n",
    "user_calls = user_calls.merge(users[['user_id', 'tariff']], on='user_id').rename(columns={'tariff':'tariff_name'})\n",
    "user_messages = user_messages.merge(users[['user_id', 'tariff']], on='user_id').rename(columns={'tariff':'tariff_name'})\n",
    "user_traffic = user_traffic.merge(users[['user_id', 'tariff']], on='user_id').rename(columns={'tariff':'tariff_name'})"
   ]
  },
  {
   "cell_type": "code",
   "execution_count": 31,
   "metadata": {},
   "outputs": [],
   "source": [
    "user_calls = user_calls.merge(tariffs[['tariff_name', 'minutes_included', 'rub_per_minute', 'rub_monthly_fee']], on='tariff_name')\n",
    "user_messages = user_messages.merge(tariffs[['tariff_name', 'messages_included', 'rub_per_message', 'rub_monthly_fee']], on='tariff_name')\n",
    "user_traffic = user_traffic.merge(tariffs[['tariff_name', 'mb_per_month_included', 'rub_per_gb', 'rub_monthly_fee']], on='tariff_name')\n",
    "\n",
    "user_traffic['mb_per_month_included'] = (user_traffic['mb_per_month_included'] / 1024).astype('int')\n",
    "user_traffic = user_traffic.rename(columns={'mb_per_month_included':'gb_per_month_included'})\n",
    "\n"
   ]
  },
  {
   "cell_type": "code",
   "execution_count": 32,
   "metadata": {},
   "outputs": [
    {
     "data": {
      "text/html": [
       "<div>\n",
       "<style scoped>\n",
       "    .dataframe tbody tr th:only-of-type {\n",
       "        vertical-align: middle;\n",
       "    }\n",
       "\n",
       "    .dataframe tbody tr th {\n",
       "        vertical-align: top;\n",
       "    }\n",
       "\n",
       "    .dataframe thead th {\n",
       "        text-align: right;\n",
       "    }\n",
       "</style>\n",
       "<table border=\"1\" class=\"dataframe\">\n",
       "  <thead>\n",
       "    <tr style=\"text-align: right;\">\n",
       "      <th></th>\n",
       "      <th>user_id</th>\n",
       "      <th>1</th>\n",
       "      <th>2</th>\n",
       "      <th>3</th>\n",
       "      <th>4</th>\n",
       "      <th>5</th>\n",
       "      <th>6</th>\n",
       "      <th>7</th>\n",
       "      <th>8</th>\n",
       "      <th>9</th>\n",
       "      <th>10</th>\n",
       "      <th>11</th>\n",
       "      <th>12</th>\n",
       "      <th>tariff_name</th>\n",
       "      <th>minutes_included</th>\n",
       "      <th>rub_per_minute</th>\n",
       "      <th>rub_monthly_fee</th>\n",
       "    </tr>\n",
       "  </thead>\n",
       "  <tbody>\n",
       "    <tr>\n",
       "      <th>0</th>\n",
       "      <td>1000</td>\n",
       "      <td>0</td>\n",
       "      <td>0</td>\n",
       "      <td>0</td>\n",
       "      <td>0</td>\n",
       "      <td>159</td>\n",
       "      <td>172</td>\n",
       "      <td>340</td>\n",
       "      <td>408</td>\n",
       "      <td>466</td>\n",
       "      <td>350</td>\n",
       "      <td>338</td>\n",
       "      <td>333</td>\n",
       "      <td>ultra</td>\n",
       "      <td>3000</td>\n",
       "      <td>1</td>\n",
       "      <td>1950</td>\n",
       "    </tr>\n",
       "    <tr>\n",
       "      <th>1</th>\n",
       "      <td>1003</td>\n",
       "      <td>0</td>\n",
       "      <td>0</td>\n",
       "      <td>0</td>\n",
       "      <td>0</td>\n",
       "      <td>0</td>\n",
       "      <td>0</td>\n",
       "      <td>0</td>\n",
       "      <td>380</td>\n",
       "      <td>961</td>\n",
       "      <td>855</td>\n",
       "      <td>824</td>\n",
       "      <td>802</td>\n",
       "      <td>ultra</td>\n",
       "      <td>3000</td>\n",
       "      <td>1</td>\n",
       "      <td>1950</td>\n",
       "    </tr>\n",
       "    <tr>\n",
       "      <th>2</th>\n",
       "      <td>1004</td>\n",
       "      <td>0</td>\n",
       "      <td>0</td>\n",
       "      <td>0</td>\n",
       "      <td>0</td>\n",
       "      <td>35</td>\n",
       "      <td>171</td>\n",
       "      <td>135</td>\n",
       "      <td>137</td>\n",
       "      <td>117</td>\n",
       "      <td>145</td>\n",
       "      <td>117</td>\n",
       "      <td>130</td>\n",
       "      <td>ultra</td>\n",
       "      <td>3000</td>\n",
       "      <td>1</td>\n",
       "      <td>1950</td>\n",
       "    </tr>\n",
       "    <tr>\n",
       "      <th>3</th>\n",
       "      <td>1013</td>\n",
       "      <td>0</td>\n",
       "      <td>0</td>\n",
       "      <td>0</td>\n",
       "      <td>0</td>\n",
       "      <td>0</td>\n",
       "      <td>0</td>\n",
       "      <td>0</td>\n",
       "      <td>0</td>\n",
       "      <td>0</td>\n",
       "      <td>0</td>\n",
       "      <td>369</td>\n",
       "      <td>567</td>\n",
       "      <td>ultra</td>\n",
       "      <td>3000</td>\n",
       "      <td>1</td>\n",
       "      <td>1950</td>\n",
       "    </tr>\n",
       "    <tr>\n",
       "      <th>4</th>\n",
       "      <td>1016</td>\n",
       "      <td>0</td>\n",
       "      <td>0</td>\n",
       "      <td>0</td>\n",
       "      <td>0</td>\n",
       "      <td>0</td>\n",
       "      <td>0</td>\n",
       "      <td>0</td>\n",
       "      <td>0</td>\n",
       "      <td>0</td>\n",
       "      <td>0</td>\n",
       "      <td>28</td>\n",
       "      <td>94</td>\n",
       "      <td>ultra</td>\n",
       "      <td>3000</td>\n",
       "      <td>1</td>\n",
       "      <td>1950</td>\n",
       "    </tr>\n",
       "  </tbody>\n",
       "</table>\n",
       "</div>"
      ],
      "text/plain": [
       "   user_id  1  2  3  4    5    6    7    8    9   10   11   12 tariff_name  \\\n",
       "0     1000  0  0  0  0  159  172  340  408  466  350  338  333       ultra   \n",
       "1     1003  0  0  0  0    0    0    0  380  961  855  824  802       ultra   \n",
       "2     1004  0  0  0  0   35  171  135  137  117  145  117  130       ultra   \n",
       "3     1013  0  0  0  0    0    0    0    0    0    0  369  567       ultra   \n",
       "4     1016  0  0  0  0    0    0    0    0    0    0   28   94       ultra   \n",
       "\n",
       "   minutes_included  rub_per_minute  rub_monthly_fee  \n",
       "0              3000               1             1950  \n",
       "1              3000               1             1950  \n",
       "2              3000               1             1950  \n",
       "3              3000               1             1950  \n",
       "4              3000               1             1950  "
      ]
     },
     "metadata": {},
     "output_type": "display_data"
    },
    {
     "data": {
      "text/html": [
       "<div>\n",
       "<style scoped>\n",
       "    .dataframe tbody tr th:only-of-type {\n",
       "        vertical-align: middle;\n",
       "    }\n",
       "\n",
       "    .dataframe tbody tr th {\n",
       "        vertical-align: top;\n",
       "    }\n",
       "\n",
       "    .dataframe thead th {\n",
       "        text-align: right;\n",
       "    }\n",
       "</style>\n",
       "<table border=\"1\" class=\"dataframe\">\n",
       "  <thead>\n",
       "    <tr style=\"text-align: right;\">\n",
       "      <th></th>\n",
       "      <th>user_id</th>\n",
       "      <th>1</th>\n",
       "      <th>2</th>\n",
       "      <th>3</th>\n",
       "      <th>4</th>\n",
       "      <th>5</th>\n",
       "      <th>6</th>\n",
       "      <th>7</th>\n",
       "      <th>8</th>\n",
       "      <th>9</th>\n",
       "      <th>10</th>\n",
       "      <th>11</th>\n",
       "      <th>12</th>\n",
       "      <th>tariff_name</th>\n",
       "      <th>messages_included</th>\n",
       "      <th>rub_per_message</th>\n",
       "      <th>rub_monthly_fee</th>\n",
       "    </tr>\n",
       "  </thead>\n",
       "  <tbody>\n",
       "    <tr>\n",
       "      <th>0</th>\n",
       "      <td>1000</td>\n",
       "      <td>0</td>\n",
       "      <td>0</td>\n",
       "      <td>0</td>\n",
       "      <td>0</td>\n",
       "      <td>22</td>\n",
       "      <td>60</td>\n",
       "      <td>75</td>\n",
       "      <td>81</td>\n",
       "      <td>57</td>\n",
       "      <td>73</td>\n",
       "      <td>58</td>\n",
       "      <td>70</td>\n",
       "      <td>ultra</td>\n",
       "      <td>1000</td>\n",
       "      <td>1</td>\n",
       "      <td>1950</td>\n",
       "    </tr>\n",
       "    <tr>\n",
       "      <th>1</th>\n",
       "      <td>1003</td>\n",
       "      <td>0</td>\n",
       "      <td>0</td>\n",
       "      <td>0</td>\n",
       "      <td>0</td>\n",
       "      <td>0</td>\n",
       "      <td>0</td>\n",
       "      <td>0</td>\n",
       "      <td>37</td>\n",
       "      <td>91</td>\n",
       "      <td>83</td>\n",
       "      <td>94</td>\n",
       "      <td>75</td>\n",
       "      <td>ultra</td>\n",
       "      <td>1000</td>\n",
       "      <td>1</td>\n",
       "      <td>1950</td>\n",
       "    </tr>\n",
       "    <tr>\n",
       "      <th>2</th>\n",
       "      <td>1004</td>\n",
       "      <td>0</td>\n",
       "      <td>0</td>\n",
       "      <td>0</td>\n",
       "      <td>0</td>\n",
       "      <td>95</td>\n",
       "      <td>134</td>\n",
       "      <td>181</td>\n",
       "      <td>151</td>\n",
       "      <td>146</td>\n",
       "      <td>165</td>\n",
       "      <td>158</td>\n",
       "      <td>162</td>\n",
       "      <td>ultra</td>\n",
       "      <td>1000</td>\n",
       "      <td>1</td>\n",
       "      <td>1950</td>\n",
       "    </tr>\n",
       "    <tr>\n",
       "      <th>3</th>\n",
       "      <td>1013</td>\n",
       "      <td>0</td>\n",
       "      <td>0</td>\n",
       "      <td>0</td>\n",
       "      <td>0</td>\n",
       "      <td>0</td>\n",
       "      <td>0</td>\n",
       "      <td>0</td>\n",
       "      <td>0</td>\n",
       "      <td>0</td>\n",
       "      <td>0</td>\n",
       "      <td>17</td>\n",
       "      <td>25</td>\n",
       "      <td>ultra</td>\n",
       "      <td>1000</td>\n",
       "      <td>1</td>\n",
       "      <td>1950</td>\n",
       "    </tr>\n",
       "    <tr>\n",
       "      <th>4</th>\n",
       "      <td>1016</td>\n",
       "      <td>0</td>\n",
       "      <td>0</td>\n",
       "      <td>0</td>\n",
       "      <td>0</td>\n",
       "      <td>0</td>\n",
       "      <td>0</td>\n",
       "      <td>0</td>\n",
       "      <td>0</td>\n",
       "      <td>0</td>\n",
       "      <td>0</td>\n",
       "      <td>39</td>\n",
       "      <td>103</td>\n",
       "      <td>ultra</td>\n",
       "      <td>1000</td>\n",
       "      <td>1</td>\n",
       "      <td>1950</td>\n",
       "    </tr>\n",
       "  </tbody>\n",
       "</table>\n",
       "</div>"
      ],
      "text/plain": [
       "   user_id  1  2  3  4   5    6    7    8    9   10   11   12 tariff_name  \\\n",
       "0     1000  0  0  0  0  22   60   75   81   57   73   58   70       ultra   \n",
       "1     1003  0  0  0  0   0    0    0   37   91   83   94   75       ultra   \n",
       "2     1004  0  0  0  0  95  134  181  151  146  165  158  162       ultra   \n",
       "3     1013  0  0  0  0   0    0    0    0    0    0   17   25       ultra   \n",
       "4     1016  0  0  0  0   0    0    0    0    0    0   39  103       ultra   \n",
       "\n",
       "   messages_included  rub_per_message  rub_monthly_fee  \n",
       "0               1000                1             1950  \n",
       "1               1000                1             1950  \n",
       "2               1000                1             1950  \n",
       "3               1000                1             1950  \n",
       "4               1000                1             1950  "
      ]
     },
     "metadata": {},
     "output_type": "display_data"
    },
    {
     "data": {
      "text/html": [
       "<div>\n",
       "<style scoped>\n",
       "    .dataframe tbody tr th:only-of-type {\n",
       "        vertical-align: middle;\n",
       "    }\n",
       "\n",
       "    .dataframe tbody tr th {\n",
       "        vertical-align: top;\n",
       "    }\n",
       "\n",
       "    .dataframe thead th {\n",
       "        text-align: right;\n",
       "    }\n",
       "</style>\n",
       "<table border=\"1\" class=\"dataframe\">\n",
       "  <thead>\n",
       "    <tr style=\"text-align: right;\">\n",
       "      <th></th>\n",
       "      <th>user_id</th>\n",
       "      <th>1</th>\n",
       "      <th>2</th>\n",
       "      <th>3</th>\n",
       "      <th>4</th>\n",
       "      <th>5</th>\n",
       "      <th>6</th>\n",
       "      <th>7</th>\n",
       "      <th>8</th>\n",
       "      <th>9</th>\n",
       "      <th>10</th>\n",
       "      <th>11</th>\n",
       "      <th>12</th>\n",
       "      <th>tariff_name</th>\n",
       "      <th>gb_per_month_included</th>\n",
       "      <th>rub_per_gb</th>\n",
       "      <th>rub_monthly_fee</th>\n",
       "    </tr>\n",
       "  </thead>\n",
       "  <tbody>\n",
       "    <tr>\n",
       "      <th>0</th>\n",
       "      <td>1000</td>\n",
       "      <td>0</td>\n",
       "      <td>0</td>\n",
       "      <td>0</td>\n",
       "      <td>0</td>\n",
       "      <td>3</td>\n",
       "      <td>23</td>\n",
       "      <td>14</td>\n",
       "      <td>14</td>\n",
       "      <td>15</td>\n",
       "      <td>15</td>\n",
       "      <td>15</td>\n",
       "      <td>10</td>\n",
       "      <td>ultra</td>\n",
       "      <td>30</td>\n",
       "      <td>150</td>\n",
       "      <td>1950</td>\n",
       "    </tr>\n",
       "    <tr>\n",
       "      <th>1</th>\n",
       "      <td>1003</td>\n",
       "      <td>0</td>\n",
       "      <td>0</td>\n",
       "      <td>0</td>\n",
       "      <td>0</td>\n",
       "      <td>0</td>\n",
       "      <td>0</td>\n",
       "      <td>0</td>\n",
       "      <td>9</td>\n",
       "      <td>13</td>\n",
       "      <td>15</td>\n",
       "      <td>12</td>\n",
       "      <td>10</td>\n",
       "      <td>ultra</td>\n",
       "      <td>30</td>\n",
       "      <td>150</td>\n",
       "      <td>1950</td>\n",
       "    </tr>\n",
       "    <tr>\n",
       "      <th>2</th>\n",
       "      <td>1004</td>\n",
       "      <td>0</td>\n",
       "      <td>0</td>\n",
       "      <td>0</td>\n",
       "      <td>0</td>\n",
       "      <td>14</td>\n",
       "      <td>18</td>\n",
       "      <td>22</td>\n",
       "      <td>28</td>\n",
       "      <td>15</td>\n",
       "      <td>19</td>\n",
       "      <td>16</td>\n",
       "      <td>18</td>\n",
       "      <td>ultra</td>\n",
       "      <td>30</td>\n",
       "      <td>150</td>\n",
       "      <td>1950</td>\n",
       "    </tr>\n",
       "    <tr>\n",
       "      <th>3</th>\n",
       "      <td>1013</td>\n",
       "      <td>0</td>\n",
       "      <td>0</td>\n",
       "      <td>0</td>\n",
       "      <td>0</td>\n",
       "      <td>0</td>\n",
       "      <td>0</td>\n",
       "      <td>0</td>\n",
       "      <td>0</td>\n",
       "      <td>0</td>\n",
       "      <td>0</td>\n",
       "      <td>10</td>\n",
       "      <td>21</td>\n",
       "      <td>ultra</td>\n",
       "      <td>30</td>\n",
       "      <td>150</td>\n",
       "      <td>1950</td>\n",
       "    </tr>\n",
       "    <tr>\n",
       "      <th>4</th>\n",
       "      <td>1016</td>\n",
       "      <td>0</td>\n",
       "      <td>0</td>\n",
       "      <td>0</td>\n",
       "      <td>0</td>\n",
       "      <td>0</td>\n",
       "      <td>0</td>\n",
       "      <td>0</td>\n",
       "      <td>0</td>\n",
       "      <td>0</td>\n",
       "      <td>0</td>\n",
       "      <td>8</td>\n",
       "      <td>19</td>\n",
       "      <td>ultra</td>\n",
       "      <td>30</td>\n",
       "      <td>150</td>\n",
       "      <td>1950</td>\n",
       "    </tr>\n",
       "  </tbody>\n",
       "</table>\n",
       "</div>"
      ],
      "text/plain": [
       "   user_id  1  2  3  4   5   6   7   8   9  10  11  12 tariff_name  \\\n",
       "0     1000  0  0  0  0   3  23  14  14  15  15  15  10       ultra   \n",
       "1     1003  0  0  0  0   0   0   0   9  13  15  12  10       ultra   \n",
       "2     1004  0  0  0  0  14  18  22  28  15  19  16  18       ultra   \n",
       "3     1013  0  0  0  0   0   0   0   0   0   0  10  21       ultra   \n",
       "4     1016  0  0  0  0   0   0   0   0   0   0   8  19       ultra   \n",
       "\n",
       "   gb_per_month_included  rub_per_gb  rub_monthly_fee  \n",
       "0                     30         150             1950  \n",
       "1                     30         150             1950  \n",
       "2                     30         150             1950  \n",
       "3                     30         150             1950  \n",
       "4                     30         150             1950  "
      ]
     },
     "metadata": {},
     "output_type": "display_data"
    }
   ],
   "source": [
    "# Ознакомимся с получившимися таблицами\n",
    "\n",
    "display(user_calls.head())\n",
    "display(user_messages.head())\n",
    "display(user_traffic.head())\n"
   ]
  },
  {
   "cell_type": "code",
   "execution_count": 33,
   "metadata": {},
   "outputs": [],
   "source": [
    "# Пусть для удобства в каждой из трёх таблиц столбцы называются одинаково\n",
    "\n",
    "for i in [user_calls, user_messages, user_traffic]:\n",
    "    i.columns = [\n",
    "        'user_id', 1, 2, 3, 4, 5, 6, 7, 8, 9, 10, 11, 12, 'tariff_name', 'units_included', 'rub_per_unit', 'rub_monthly'\n",
    "    ]"
   ]
  },
  {
   "cell_type": "code",
   "execution_count": 34,
   "metadata": {},
   "outputs": [
    {
     "data": {
      "text/html": [
       "<div>\n",
       "<style scoped>\n",
       "    .dataframe tbody tr th:only-of-type {\n",
       "        vertical-align: middle;\n",
       "    }\n",
       "\n",
       "    .dataframe tbody tr th {\n",
       "        vertical-align: top;\n",
       "    }\n",
       "\n",
       "    .dataframe thead th {\n",
       "        text-align: right;\n",
       "    }\n",
       "</style>\n",
       "<table border=\"1\" class=\"dataframe\">\n",
       "  <thead>\n",
       "    <tr style=\"text-align: right;\">\n",
       "      <th></th>\n",
       "      <th>user_id</th>\n",
       "      <th>1</th>\n",
       "      <th>2</th>\n",
       "      <th>3</th>\n",
       "      <th>4</th>\n",
       "      <th>5</th>\n",
       "      <th>6</th>\n",
       "      <th>7</th>\n",
       "      <th>8</th>\n",
       "      <th>9</th>\n",
       "      <th>10</th>\n",
       "      <th>11</th>\n",
       "      <th>12</th>\n",
       "      <th>tariff_name</th>\n",
       "      <th>units_included</th>\n",
       "      <th>rub_per_unit</th>\n",
       "      <th>rub_monthly</th>\n",
       "    </tr>\n",
       "  </thead>\n",
       "  <tbody>\n",
       "    <tr>\n",
       "      <th>0</th>\n",
       "      <td>1000</td>\n",
       "      <td>0</td>\n",
       "      <td>0</td>\n",
       "      <td>0</td>\n",
       "      <td>0</td>\n",
       "      <td>159</td>\n",
       "      <td>172</td>\n",
       "      <td>340</td>\n",
       "      <td>408</td>\n",
       "      <td>466</td>\n",
       "      <td>350</td>\n",
       "      <td>338</td>\n",
       "      <td>333</td>\n",
       "      <td>ultra</td>\n",
       "      <td>3000</td>\n",
       "      <td>1</td>\n",
       "      <td>1950</td>\n",
       "    </tr>\n",
       "    <tr>\n",
       "      <th>1</th>\n",
       "      <td>1003</td>\n",
       "      <td>0</td>\n",
       "      <td>0</td>\n",
       "      <td>0</td>\n",
       "      <td>0</td>\n",
       "      <td>0</td>\n",
       "      <td>0</td>\n",
       "      <td>0</td>\n",
       "      <td>380</td>\n",
       "      <td>961</td>\n",
       "      <td>855</td>\n",
       "      <td>824</td>\n",
       "      <td>802</td>\n",
       "      <td>ultra</td>\n",
       "      <td>3000</td>\n",
       "      <td>1</td>\n",
       "      <td>1950</td>\n",
       "    </tr>\n",
       "    <tr>\n",
       "      <th>2</th>\n",
       "      <td>1004</td>\n",
       "      <td>0</td>\n",
       "      <td>0</td>\n",
       "      <td>0</td>\n",
       "      <td>0</td>\n",
       "      <td>35</td>\n",
       "      <td>171</td>\n",
       "      <td>135</td>\n",
       "      <td>137</td>\n",
       "      <td>117</td>\n",
       "      <td>145</td>\n",
       "      <td>117</td>\n",
       "      <td>130</td>\n",
       "      <td>ultra</td>\n",
       "      <td>3000</td>\n",
       "      <td>1</td>\n",
       "      <td>1950</td>\n",
       "    </tr>\n",
       "    <tr>\n",
       "      <th>3</th>\n",
       "      <td>1013</td>\n",
       "      <td>0</td>\n",
       "      <td>0</td>\n",
       "      <td>0</td>\n",
       "      <td>0</td>\n",
       "      <td>0</td>\n",
       "      <td>0</td>\n",
       "      <td>0</td>\n",
       "      <td>0</td>\n",
       "      <td>0</td>\n",
       "      <td>0</td>\n",
       "      <td>369</td>\n",
       "      <td>567</td>\n",
       "      <td>ultra</td>\n",
       "      <td>3000</td>\n",
       "      <td>1</td>\n",
       "      <td>1950</td>\n",
       "    </tr>\n",
       "    <tr>\n",
       "      <th>4</th>\n",
       "      <td>1016</td>\n",
       "      <td>0</td>\n",
       "      <td>0</td>\n",
       "      <td>0</td>\n",
       "      <td>0</td>\n",
       "      <td>0</td>\n",
       "      <td>0</td>\n",
       "      <td>0</td>\n",
       "      <td>0</td>\n",
       "      <td>0</td>\n",
       "      <td>0</td>\n",
       "      <td>28</td>\n",
       "      <td>94</td>\n",
       "      <td>ultra</td>\n",
       "      <td>3000</td>\n",
       "      <td>1</td>\n",
       "      <td>1950</td>\n",
       "    </tr>\n",
       "    <tr>\n",
       "      <th>...</th>\n",
       "      <td>...</td>\n",
       "      <td>...</td>\n",
       "      <td>...</td>\n",
       "      <td>...</td>\n",
       "      <td>...</td>\n",
       "      <td>...</td>\n",
       "      <td>...</td>\n",
       "      <td>...</td>\n",
       "      <td>...</td>\n",
       "      <td>...</td>\n",
       "      <td>...</td>\n",
       "      <td>...</td>\n",
       "      <td>...</td>\n",
       "      <td>...</td>\n",
       "      <td>...</td>\n",
       "      <td>...</td>\n",
       "      <td>...</td>\n",
       "    </tr>\n",
       "    <tr>\n",
       "      <th>487</th>\n",
       "      <td>1494</td>\n",
       "      <td>0</td>\n",
       "      <td>0</td>\n",
       "      <td>0</td>\n",
       "      <td>0</td>\n",
       "      <td>0</td>\n",
       "      <td>0</td>\n",
       "      <td>0</td>\n",
       "      <td>262</td>\n",
       "      <td>501</td>\n",
       "      <td>354</td>\n",
       "      <td>411</td>\n",
       "      <td>418</td>\n",
       "      <td>smart</td>\n",
       "      <td>500</td>\n",
       "      <td>3</td>\n",
       "      <td>550</td>\n",
       "    </tr>\n",
       "    <tr>\n",
       "      <th>488</th>\n",
       "      <td>1496</td>\n",
       "      <td>48</td>\n",
       "      <td>594</td>\n",
       "      <td>557</td>\n",
       "      <td>521</td>\n",
       "      <td>484</td>\n",
       "      <td>555</td>\n",
       "      <td>582</td>\n",
       "      <td>527</td>\n",
       "      <td>486</td>\n",
       "      <td>450</td>\n",
       "      <td>662</td>\n",
       "      <td>518</td>\n",
       "      <td>smart</td>\n",
       "      <td>500</td>\n",
       "      <td>3</td>\n",
       "      <td>550</td>\n",
       "    </tr>\n",
       "    <tr>\n",
       "      <th>489</th>\n",
       "      <td>1497</td>\n",
       "      <td>0</td>\n",
       "      <td>0</td>\n",
       "      <td>0</td>\n",
       "      <td>0</td>\n",
       "      <td>0</td>\n",
       "      <td>0</td>\n",
       "      <td>0</td>\n",
       "      <td>0</td>\n",
       "      <td>0</td>\n",
       "      <td>490</td>\n",
       "      <td>371</td>\n",
       "      <td>545</td>\n",
       "      <td>smart</td>\n",
       "      <td>500</td>\n",
       "      <td>3</td>\n",
       "      <td>550</td>\n",
       "    </tr>\n",
       "    <tr>\n",
       "      <th>490</th>\n",
       "      <td>1498</td>\n",
       "      <td>0</td>\n",
       "      <td>0</td>\n",
       "      <td>0</td>\n",
       "      <td>0</td>\n",
       "      <td>0</td>\n",
       "      <td>0</td>\n",
       "      <td>175</td>\n",
       "      <td>400</td>\n",
       "      <td>471</td>\n",
       "      <td>247</td>\n",
       "      <td>0</td>\n",
       "      <td>0</td>\n",
       "      <td>smart</td>\n",
       "      <td>500</td>\n",
       "      <td>3</td>\n",
       "      <td>550</td>\n",
       "    </tr>\n",
       "    <tr>\n",
       "      <th>491</th>\n",
       "      <td>1499</td>\n",
       "      <td>0</td>\n",
       "      <td>0</td>\n",
       "      <td>0</td>\n",
       "      <td>0</td>\n",
       "      <td>0</td>\n",
       "      <td>0</td>\n",
       "      <td>0</td>\n",
       "      <td>0</td>\n",
       "      <td>70</td>\n",
       "      <td>449</td>\n",
       "      <td>612</td>\n",
       "      <td>492</td>\n",
       "      <td>smart</td>\n",
       "      <td>500</td>\n",
       "      <td>3</td>\n",
       "      <td>550</td>\n",
       "    </tr>\n",
       "  </tbody>\n",
       "</table>\n",
       "<p>492 rows × 17 columns</p>\n",
       "</div>"
      ],
      "text/plain": [
       "     user_id   1    2    3    4    5    6    7    8    9   10   11   12  \\\n",
       "0       1000   0    0    0    0  159  172  340  408  466  350  338  333   \n",
       "1       1003   0    0    0    0    0    0    0  380  961  855  824  802   \n",
       "2       1004   0    0    0    0   35  171  135  137  117  145  117  130   \n",
       "3       1013   0    0    0    0    0    0    0    0    0    0  369  567   \n",
       "4       1016   0    0    0    0    0    0    0    0    0    0   28   94   \n",
       "..       ...  ..  ...  ...  ...  ...  ...  ...  ...  ...  ...  ...  ...   \n",
       "487     1494   0    0    0    0    0    0    0  262  501  354  411  418   \n",
       "488     1496  48  594  557  521  484  555  582  527  486  450  662  518   \n",
       "489     1497   0    0    0    0    0    0    0    0    0  490  371  545   \n",
       "490     1498   0    0    0    0    0    0  175  400  471  247    0    0   \n",
       "491     1499   0    0    0    0    0    0    0    0   70  449  612  492   \n",
       "\n",
       "    tariff_name  units_included  rub_per_unit  rub_monthly  \n",
       "0         ultra            3000             1         1950  \n",
       "1         ultra            3000             1         1950  \n",
       "2         ultra            3000             1         1950  \n",
       "3         ultra            3000             1         1950  \n",
       "4         ultra            3000             1         1950  \n",
       "..          ...             ...           ...          ...  \n",
       "487       smart             500             3          550  \n",
       "488       smart             500             3          550  \n",
       "489       smart             500             3          550  \n",
       "490       smart             500             3          550  \n",
       "491       smart             500             3          550  \n",
       "\n",
       "[492 rows x 17 columns]"
      ]
     },
     "execution_count": 34,
     "metadata": {},
     "output_type": "execute_result"
    }
   ],
   "source": [
    "user_calls"
   ]
  },
  {
   "cell_type": "code",
   "execution_count": 35,
   "metadata": {},
   "outputs": [],
   "source": [
    "# Создадим заготовки трёх основных таблиц, которые будут включать в себя uid и название тарифа\n",
    "\n",
    "payed_calls, payed_messages, payed_traffic = (\n",
    "    user_calls[['user_id', 'tariff_name']], user_messages[['user_id', 'tariff_name']], user_traffic[['user_id', 'tariff_name']]\n",
    ")"
   ]
  },
  {
   "cell_type": "code",
   "execution_count": 36,
   "metadata": {},
   "outputs": [],
   "source": [
    "# Создаём функцию get_payed(), которая считает, сколько каждый пользователь переплачивал в каждом месяце сверх тарифного плана\n",
    "\n",
    "def get_payed(row):\n",
    "    jan, jul = row[1], row[7]\n",
    "    feb, aug = row[2], row[8]\n",
    "    mar, sep = row[3], row[9]\n",
    "    apr, octo = row[4], row[10]\n",
    "    may, nov = row[5], row[11]\n",
    "    jun, dec = row[6], row[12]\n",
    "    units_included = row['units_included']\n",
    "    rub_per_unit = row['rub_per_unit']\n",
    "    \n",
    "    n_1, n_2, n_3, n_4, n_5, n_6, n_7, n_8, n_9, n_10, n_11, n_12 = 0,0,0,0,0,0,0,0,0,0,0,0\n",
    "    \n",
    "    months = [jan, feb, mar, apr, may, jun, jul, aug, sep, octo, nov, dec]\n",
    "    n_months = [n_1, n_2, n_3, n_4, n_5, n_6, n_7, n_8, n_9, n_10, n_11, n_12]\n",
    "    \n",
    "    for i in range(12):\n",
    "        if months[i] == 0 or units_included - months[i] > 0:\n",
    "            n_months[i] = 0\n",
    "        else:\n",
    "            n_months[i] = rub_per_unit * abs(units_included - months[i])\n",
    "    \n",
    "    return n_months\n",
    "    \n",
    "    "
   ]
  },
  {
   "cell_type": "code",
   "execution_count": 37,
   "metadata": {},
   "outputs": [],
   "source": [
    "# Получаем списки списков в результате работы функции get_payed()\n",
    "\n",
    "payed_calls_ap = list(user_calls.apply(get_payed, axis=1))\n",
    "payed_messages_ap = list(user_messages.apply(get_payed, axis=1))\n",
    "payed_traffic_ap = list(user_traffic.apply(get_payed, axis=1))"
   ]
  },
  {
   "cell_type": "code",
   "execution_count": 38,
   "metadata": {},
   "outputs": [],
   "source": [
    "# Собираем датафреймы из списков списков, которые объединим с таблицами payed_calls, payed_messages и payed_traffic\n",
    "# Имена столбцов будут отличаться, потому что так как в таблицах со звонками, сообщениями и трафиком разное число записей,\n",
    "# нам сперва потребуется объединить эти три таблицы по user_id, а затем уже складывать значения и прибавлять стоимость тарифа\n",
    "\n",
    "payed_calls_ap = pd.DataFrame(data=payed_calls_ap, columns=['c1', 'c2', 'c3', 'c4', 'c5', 'c6', 'c7', 'c8', 'c9', 'c10', 'c11', 'c12'])\n",
    "payed_messages_ap = pd.DataFrame(data=payed_messages_ap, columns=['m1', 'm2', 'm3', 'm4', 'm5', 'm6', 'm7', 'm8', 'm9', 'm10', 'm11', 'm12'])\n",
    "payed_traffic_ap = pd.DataFrame(data=payed_traffic_ap, columns=['t1', 't2', 't3', 't4', 't5', 't6', 't7', 't8', 't9', 't10', 't11', 't12'])"
   ]
  },
  {
   "cell_type": "code",
   "execution_count": 39,
   "metadata": {},
   "outputs": [],
   "source": [
    "# Объединяем собранные из списков списков датафреймы с основными таблицами payed_calls, payed_messages и payed_traffic\n",
    "\n",
    "payed_calls = pd.concat([payed_calls, payed_calls_ap.reindex(payed_calls.index)], axis=1)\n",
    "payed_messages = pd.concat([payed_messages, payed_messages_ap.reindex(payed_messages.index)], axis=1)\n",
    "payed_traffic = pd.concat([payed_traffic, payed_traffic_ap.reindex(payed_traffic.index)], axis=1)"
   ]
  },
  {
   "cell_type": "code",
   "execution_count": 40,
   "metadata": {},
   "outputs": [],
   "source": [
    "# Собираем таблицу для последующего сложения переплат по тарифу, пока без учёта абонентской платы\n",
    "\n",
    "total_payed = payed_calls.merge(payed_messages, on=['user_id', 'tariff_name'], how='outer')\n",
    "total_payed = total_payed.merge(payed_traffic, on=['user_id', 'tariff_name'], how='outer')"
   ]
  },
  {
   "cell_type": "code",
   "execution_count": 41,
   "metadata": {},
   "outputs": [
    {
     "data": {
      "text/html": [
       "<div>\n",
       "<style scoped>\n",
       "    .dataframe tbody tr th:only-of-type {\n",
       "        vertical-align: middle;\n",
       "    }\n",
       "\n",
       "    .dataframe tbody tr th {\n",
       "        vertical-align: top;\n",
       "    }\n",
       "\n",
       "    .dataframe thead th {\n",
       "        text-align: right;\n",
       "    }\n",
       "</style>\n",
       "<table border=\"1\" class=\"dataframe\">\n",
       "  <thead>\n",
       "    <tr style=\"text-align: right;\">\n",
       "      <th></th>\n",
       "      <th>user_id</th>\n",
       "      <th>1</th>\n",
       "      <th>2</th>\n",
       "      <th>3</th>\n",
       "      <th>4</th>\n",
       "      <th>5</th>\n",
       "      <th>6</th>\n",
       "      <th>7</th>\n",
       "      <th>8</th>\n",
       "      <th>9</th>\n",
       "      <th>10</th>\n",
       "      <th>11</th>\n",
       "      <th>12</th>\n",
       "      <th>tariff_name</th>\n",
       "    </tr>\n",
       "  </thead>\n",
       "  <tbody>\n",
       "    <tr>\n",
       "      <th>0</th>\n",
       "      <td>1000</td>\n",
       "      <td>0</td>\n",
       "      <td>0</td>\n",
       "      <td>0</td>\n",
       "      <td>0</td>\n",
       "      <td>0</td>\n",
       "      <td>0</td>\n",
       "      <td>0</td>\n",
       "      <td>0</td>\n",
       "      <td>0</td>\n",
       "      <td>0</td>\n",
       "      <td>0</td>\n",
       "      <td>0</td>\n",
       "      <td>ultra</td>\n",
       "    </tr>\n",
       "    <tr>\n",
       "      <th>1</th>\n",
       "      <td>1003</td>\n",
       "      <td>0</td>\n",
       "      <td>0</td>\n",
       "      <td>0</td>\n",
       "      <td>0</td>\n",
       "      <td>0</td>\n",
       "      <td>0</td>\n",
       "      <td>0</td>\n",
       "      <td>0</td>\n",
       "      <td>0</td>\n",
       "      <td>0</td>\n",
       "      <td>0</td>\n",
       "      <td>0</td>\n",
       "      <td>ultra</td>\n",
       "    </tr>\n",
       "    <tr>\n",
       "      <th>2</th>\n",
       "      <td>1004</td>\n",
       "      <td>0</td>\n",
       "      <td>0</td>\n",
       "      <td>0</td>\n",
       "      <td>0</td>\n",
       "      <td>0</td>\n",
       "      <td>0</td>\n",
       "      <td>0</td>\n",
       "      <td>0</td>\n",
       "      <td>0</td>\n",
       "      <td>0</td>\n",
       "      <td>0</td>\n",
       "      <td>0</td>\n",
       "      <td>ultra</td>\n",
       "    </tr>\n",
       "    <tr>\n",
       "      <th>3</th>\n",
       "      <td>1013</td>\n",
       "      <td>0</td>\n",
       "      <td>0</td>\n",
       "      <td>0</td>\n",
       "      <td>0</td>\n",
       "      <td>0</td>\n",
       "      <td>0</td>\n",
       "      <td>0</td>\n",
       "      <td>0</td>\n",
       "      <td>0</td>\n",
       "      <td>0</td>\n",
       "      <td>0</td>\n",
       "      <td>0</td>\n",
       "      <td>ultra</td>\n",
       "    </tr>\n",
       "    <tr>\n",
       "      <th>4</th>\n",
       "      <td>1016</td>\n",
       "      <td>0</td>\n",
       "      <td>0</td>\n",
       "      <td>0</td>\n",
       "      <td>0</td>\n",
       "      <td>0</td>\n",
       "      <td>0</td>\n",
       "      <td>0</td>\n",
       "      <td>0</td>\n",
       "      <td>0</td>\n",
       "      <td>0</td>\n",
       "      <td>0</td>\n",
       "      <td>0</td>\n",
       "      <td>ultra</td>\n",
       "    </tr>\n",
       "    <tr>\n",
       "      <th>...</th>\n",
       "      <td>...</td>\n",
       "      <td>...</td>\n",
       "      <td>...</td>\n",
       "      <td>...</td>\n",
       "      <td>...</td>\n",
       "      <td>...</td>\n",
       "      <td>...</td>\n",
       "      <td>...</td>\n",
       "      <td>...</td>\n",
       "      <td>...</td>\n",
       "      <td>...</td>\n",
       "      <td>...</td>\n",
       "      <td>...</td>\n",
       "      <td>...</td>\n",
       "    </tr>\n",
       "    <tr>\n",
       "      <th>493</th>\n",
       "      <td>1106</td>\n",
       "      <td>0</td>\n",
       "      <td>0</td>\n",
       "      <td>0</td>\n",
       "      <td>0</td>\n",
       "      <td>0</td>\n",
       "      <td>0</td>\n",
       "      <td>0</td>\n",
       "      <td>0</td>\n",
       "      <td>0</td>\n",
       "      <td>0</td>\n",
       "      <td>0</td>\n",
       "      <td>0</td>\n",
       "      <td>ultra</td>\n",
       "    </tr>\n",
       "    <tr>\n",
       "      <th>494</th>\n",
       "      <td>1231</td>\n",
       "      <td>0</td>\n",
       "      <td>0</td>\n",
       "      <td>0</td>\n",
       "      <td>0</td>\n",
       "      <td>0</td>\n",
       "      <td>0</td>\n",
       "      <td>0</td>\n",
       "      <td>600</td>\n",
       "      <td>900</td>\n",
       "      <td>300</td>\n",
       "      <td>0</td>\n",
       "      <td>600</td>\n",
       "      <td>ultra</td>\n",
       "    </tr>\n",
       "    <tr>\n",
       "      <th>495</th>\n",
       "      <td>1328</td>\n",
       "      <td>0</td>\n",
       "      <td>0</td>\n",
       "      <td>0</td>\n",
       "      <td>0</td>\n",
       "      <td>0</td>\n",
       "      <td>0</td>\n",
       "      <td>0</td>\n",
       "      <td>0</td>\n",
       "      <td>0</td>\n",
       "      <td>0</td>\n",
       "      <td>1500</td>\n",
       "      <td>2700</td>\n",
       "      <td>ultra</td>\n",
       "    </tr>\n",
       "    <tr>\n",
       "      <th>496</th>\n",
       "      <td>1473</td>\n",
       "      <td>0</td>\n",
       "      <td>0</td>\n",
       "      <td>0</td>\n",
       "      <td>0</td>\n",
       "      <td>0</td>\n",
       "      <td>0</td>\n",
       "      <td>0</td>\n",
       "      <td>0</td>\n",
       "      <td>0</td>\n",
       "      <td>0</td>\n",
       "      <td>0</td>\n",
       "      <td>0</td>\n",
       "      <td>ultra</td>\n",
       "    </tr>\n",
       "    <tr>\n",
       "      <th>497</th>\n",
       "      <td>1489</td>\n",
       "      <td>0</td>\n",
       "      <td>0</td>\n",
       "      <td>0</td>\n",
       "      <td>0</td>\n",
       "      <td>0</td>\n",
       "      <td>0</td>\n",
       "      <td>0</td>\n",
       "      <td>0</td>\n",
       "      <td>800</td>\n",
       "      <td>2000</td>\n",
       "      <td>1200</td>\n",
       "      <td>800</td>\n",
       "      <td>smart</td>\n",
       "    </tr>\n",
       "  </tbody>\n",
       "</table>\n",
       "<p>498 rows × 14 columns</p>\n",
       "</div>"
      ],
      "text/plain": [
       "     user_id  1  2  3  4  5  6  7    8    9    10    11    12 tariff_name\n",
       "0       1000  0  0  0  0  0  0  0    0    0     0     0     0       ultra\n",
       "1       1003  0  0  0  0  0  0  0    0    0     0     0     0       ultra\n",
       "2       1004  0  0  0  0  0  0  0    0    0     0     0     0       ultra\n",
       "3       1013  0  0  0  0  0  0  0    0    0     0     0     0       ultra\n",
       "4       1016  0  0  0  0  0  0  0    0    0     0     0     0       ultra\n",
       "..       ... .. .. .. .. .. .. ..  ...  ...   ...   ...   ...         ...\n",
       "493     1106  0  0  0  0  0  0  0    0    0     0     0     0       ultra\n",
       "494     1231  0  0  0  0  0  0  0  600  900   300     0   600       ultra\n",
       "495     1328  0  0  0  0  0  0  0    0    0     0  1500  2700       ultra\n",
       "496     1473  0  0  0  0  0  0  0    0    0     0     0     0       ultra\n",
       "497     1489  0  0  0  0  0  0  0    0  800  2000  1200   800       smart\n",
       "\n",
       "[498 rows x 14 columns]"
      ]
     },
     "execution_count": 41,
     "metadata": {},
     "output_type": "execute_result"
    }
   ],
   "source": [
    "# Избавляемся от NaN-ов\n",
    "total_payed = total_payed.fillna(0)\n",
    "\n",
    "\n",
    "# В цикле собираем столбцы 1, 2, 3, 4, 5, 6, 7, 8, 9, 10, 11 и 12\n",
    "for i in range(1, 13):\n",
    "    c = 'c' + str(i)\n",
    "    m = 'm' + str(i)\n",
    "    t = 't' + str(i)\n",
    "    total_payed[i] = total_payed[t] + total_payed[m] + total_payed[t]\n",
    "    total_payed[i] = total_payed[i].astype('int')\n",
    "    \n",
    "# Оставляем только нужные столбцы \n",
    "    \n",
    "total_payed = total_payed[['user_id', 1, 2, 3, 4, 5, 6, 7, 8, 9, 10, 11, 12, 'tariff_name']]\n",
    "total_payed"
   ]
  },
  {
   "cell_type": "markdown",
   "metadata": {},
   "source": [
    "Теперь у нас есть таблица, которая содержит сведения о переплатах сверх тарифного плана пользователями по месяцам. Добавим оплаты согласно тарифному плану. Начнём с добавления таблице столбца со значением месяца регистрации пользователя. Отталкиваясь от значений этого столбца, будем добавлять значения платы по тарифу. Столбец со стоимостью тарифа тоже добавим"
   ]
  },
  {
   "cell_type": "code",
   "execution_count": 42,
   "metadata": {},
   "outputs": [],
   "source": [
    "total_payed = total_payed.merge(users[['user_id', 'reg_month']], on='user_id')\n",
    "total_payed = total_payed.merge(tariffs[['tariff_name', 'rub_monthly_fee']], on='tariff_name').rename(columns={\n",
    "    'rub_monthly_fee':'monthly_fee'\n",
    "})"
   ]
  },
  {
   "cell_type": "code",
   "execution_count": 43,
   "metadata": {},
   "outputs": [
    {
     "data": {
      "text/html": [
       "<div>\n",
       "<style scoped>\n",
       "    .dataframe tbody tr th:only-of-type {\n",
       "        vertical-align: middle;\n",
       "    }\n",
       "\n",
       "    .dataframe tbody tr th {\n",
       "        vertical-align: top;\n",
       "    }\n",
       "\n",
       "    .dataframe thead th {\n",
       "        text-align: right;\n",
       "    }\n",
       "</style>\n",
       "<table border=\"1\" class=\"dataframe\">\n",
       "  <thead>\n",
       "    <tr style=\"text-align: right;\">\n",
       "      <th></th>\n",
       "      <th>user_id</th>\n",
       "      <th>1</th>\n",
       "      <th>2</th>\n",
       "      <th>3</th>\n",
       "      <th>4</th>\n",
       "      <th>5</th>\n",
       "      <th>6</th>\n",
       "      <th>7</th>\n",
       "      <th>8</th>\n",
       "      <th>9</th>\n",
       "      <th>10</th>\n",
       "      <th>11</th>\n",
       "      <th>12</th>\n",
       "      <th>tariff_name</th>\n",
       "      <th>reg_month</th>\n",
       "      <th>monthly_fee</th>\n",
       "    </tr>\n",
       "  </thead>\n",
       "  <tbody>\n",
       "    <tr>\n",
       "      <th>0</th>\n",
       "      <td>1000</td>\n",
       "      <td>0</td>\n",
       "      <td>0</td>\n",
       "      <td>0</td>\n",
       "      <td>0</td>\n",
       "      <td>0</td>\n",
       "      <td>0</td>\n",
       "      <td>0</td>\n",
       "      <td>0</td>\n",
       "      <td>0</td>\n",
       "      <td>0</td>\n",
       "      <td>0</td>\n",
       "      <td>0</td>\n",
       "      <td>ultra</td>\n",
       "      <td>5</td>\n",
       "      <td>1950</td>\n",
       "    </tr>\n",
       "    <tr>\n",
       "      <th>1</th>\n",
       "      <td>1003</td>\n",
       "      <td>0</td>\n",
       "      <td>0</td>\n",
       "      <td>0</td>\n",
       "      <td>0</td>\n",
       "      <td>0</td>\n",
       "      <td>0</td>\n",
       "      <td>0</td>\n",
       "      <td>0</td>\n",
       "      <td>0</td>\n",
       "      <td>0</td>\n",
       "      <td>0</td>\n",
       "      <td>0</td>\n",
       "      <td>ultra</td>\n",
       "      <td>8</td>\n",
       "      <td>1950</td>\n",
       "    </tr>\n",
       "    <tr>\n",
       "      <th>2</th>\n",
       "      <td>1004</td>\n",
       "      <td>0</td>\n",
       "      <td>0</td>\n",
       "      <td>0</td>\n",
       "      <td>0</td>\n",
       "      <td>0</td>\n",
       "      <td>0</td>\n",
       "      <td>0</td>\n",
       "      <td>0</td>\n",
       "      <td>0</td>\n",
       "      <td>0</td>\n",
       "      <td>0</td>\n",
       "      <td>0</td>\n",
       "      <td>ultra</td>\n",
       "      <td>5</td>\n",
       "      <td>1950</td>\n",
       "    </tr>\n",
       "    <tr>\n",
       "      <th>3</th>\n",
       "      <td>1013</td>\n",
       "      <td>0</td>\n",
       "      <td>0</td>\n",
       "      <td>0</td>\n",
       "      <td>0</td>\n",
       "      <td>0</td>\n",
       "      <td>0</td>\n",
       "      <td>0</td>\n",
       "      <td>0</td>\n",
       "      <td>0</td>\n",
       "      <td>0</td>\n",
       "      <td>0</td>\n",
       "      <td>0</td>\n",
       "      <td>ultra</td>\n",
       "      <td>11</td>\n",
       "      <td>1950</td>\n",
       "    </tr>\n",
       "    <tr>\n",
       "      <th>4</th>\n",
       "      <td>1016</td>\n",
       "      <td>0</td>\n",
       "      <td>0</td>\n",
       "      <td>0</td>\n",
       "      <td>0</td>\n",
       "      <td>0</td>\n",
       "      <td>0</td>\n",
       "      <td>0</td>\n",
       "      <td>0</td>\n",
       "      <td>0</td>\n",
       "      <td>0</td>\n",
       "      <td>0</td>\n",
       "      <td>0</td>\n",
       "      <td>ultra</td>\n",
       "      <td>11</td>\n",
       "      <td>1950</td>\n",
       "    </tr>\n",
       "    <tr>\n",
       "      <th>...</th>\n",
       "      <td>...</td>\n",
       "      <td>...</td>\n",
       "      <td>...</td>\n",
       "      <td>...</td>\n",
       "      <td>...</td>\n",
       "      <td>...</td>\n",
       "      <td>...</td>\n",
       "      <td>...</td>\n",
       "      <td>...</td>\n",
       "      <td>...</td>\n",
       "      <td>...</td>\n",
       "      <td>...</td>\n",
       "      <td>...</td>\n",
       "      <td>...</td>\n",
       "      <td>...</td>\n",
       "      <td>...</td>\n",
       "    </tr>\n",
       "    <tr>\n",
       "      <th>493</th>\n",
       "      <td>1496</td>\n",
       "      <td>0</td>\n",
       "      <td>5200</td>\n",
       "      <td>4000</td>\n",
       "      <td>2400</td>\n",
       "      <td>3600</td>\n",
       "      <td>2000</td>\n",
       "      <td>3600</td>\n",
       "      <td>3200</td>\n",
       "      <td>4800</td>\n",
       "      <td>5200</td>\n",
       "      <td>4000</td>\n",
       "      <td>2403</td>\n",
       "      <td>smart</td>\n",
       "      <td>1</td>\n",
       "      <td>550</td>\n",
       "    </tr>\n",
       "    <tr>\n",
       "      <th>494</th>\n",
       "      <td>1497</td>\n",
       "      <td>0</td>\n",
       "      <td>0</td>\n",
       "      <td>0</td>\n",
       "      <td>0</td>\n",
       "      <td>0</td>\n",
       "      <td>0</td>\n",
       "      <td>0</td>\n",
       "      <td>0</td>\n",
       "      <td>0</td>\n",
       "      <td>0</td>\n",
       "      <td>0</td>\n",
       "      <td>2000</td>\n",
       "      <td>smart</td>\n",
       "      <td>10</td>\n",
       "      <td>550</td>\n",
       "    </tr>\n",
       "    <tr>\n",
       "      <th>495</th>\n",
       "      <td>1498</td>\n",
       "      <td>0</td>\n",
       "      <td>0</td>\n",
       "      <td>0</td>\n",
       "      <td>0</td>\n",
       "      <td>0</td>\n",
       "      <td>0</td>\n",
       "      <td>0</td>\n",
       "      <td>3636</td>\n",
       "      <td>2800</td>\n",
       "      <td>2400</td>\n",
       "      <td>0</td>\n",
       "      <td>0</td>\n",
       "      <td>smart</td>\n",
       "      <td>7</td>\n",
       "      <td>550</td>\n",
       "    </tr>\n",
       "    <tr>\n",
       "      <th>496</th>\n",
       "      <td>1499</td>\n",
       "      <td>0</td>\n",
       "      <td>0</td>\n",
       "      <td>0</td>\n",
       "      <td>0</td>\n",
       "      <td>0</td>\n",
       "      <td>0</td>\n",
       "      <td>0</td>\n",
       "      <td>0</td>\n",
       "      <td>0</td>\n",
       "      <td>1200</td>\n",
       "      <td>1227</td>\n",
       "      <td>48</td>\n",
       "      <td>smart</td>\n",
       "      <td>9</td>\n",
       "      <td>550</td>\n",
       "    </tr>\n",
       "    <tr>\n",
       "      <th>497</th>\n",
       "      <td>1489</td>\n",
       "      <td>0</td>\n",
       "      <td>0</td>\n",
       "      <td>0</td>\n",
       "      <td>0</td>\n",
       "      <td>0</td>\n",
       "      <td>0</td>\n",
       "      <td>0</td>\n",
       "      <td>0</td>\n",
       "      <td>800</td>\n",
       "      <td>2000</td>\n",
       "      <td>1200</td>\n",
       "      <td>800</td>\n",
       "      <td>smart</td>\n",
       "      <td>8</td>\n",
       "      <td>550</td>\n",
       "    </tr>\n",
       "  </tbody>\n",
       "</table>\n",
       "<p>498 rows × 16 columns</p>\n",
       "</div>"
      ],
      "text/plain": [
       "     user_id  1     2     3     4     5     6     7     8     9    10    11  \\\n",
       "0       1000  0     0     0     0     0     0     0     0     0     0     0   \n",
       "1       1003  0     0     0     0     0     0     0     0     0     0     0   \n",
       "2       1004  0     0     0     0     0     0     0     0     0     0     0   \n",
       "3       1013  0     0     0     0     0     0     0     0     0     0     0   \n",
       "4       1016  0     0     0     0     0     0     0     0     0     0     0   \n",
       "..       ... ..   ...   ...   ...   ...   ...   ...   ...   ...   ...   ...   \n",
       "493     1496  0  5200  4000  2400  3600  2000  3600  3200  4800  5200  4000   \n",
       "494     1497  0     0     0     0     0     0     0     0     0     0     0   \n",
       "495     1498  0     0     0     0     0     0     0  3636  2800  2400     0   \n",
       "496     1499  0     0     0     0     0     0     0     0     0  1200  1227   \n",
       "497     1489  0     0     0     0     0     0     0     0   800  2000  1200   \n",
       "\n",
       "       12 tariff_name  reg_month  monthly_fee  \n",
       "0       0       ultra          5         1950  \n",
       "1       0       ultra          8         1950  \n",
       "2       0       ultra          5         1950  \n",
       "3       0       ultra         11         1950  \n",
       "4       0       ultra         11         1950  \n",
       "..    ...         ...        ...          ...  \n",
       "493  2403       smart          1          550  \n",
       "494  2000       smart         10          550  \n",
       "495     0       smart          7          550  \n",
       "496    48       smart          9          550  \n",
       "497   800       smart          8          550  \n",
       "\n",
       "[498 rows x 16 columns]"
      ]
     },
     "execution_count": 43,
     "metadata": {},
     "output_type": "execute_result"
    }
   ],
   "source": [
    "total_payed"
   ]
  },
  {
   "cell_type": "code",
   "execution_count": 44,
   "metadata": {},
   "outputs": [],
   "source": [
    "# Создадим функцию, которая добавит стоимость тарифов в те месяца, в которых клиент являлся абонентом\n",
    "def get_tarified(row):\n",
    "    jan, jul = row[1], row[7]\n",
    "    feb, aug = row[2], row[8]\n",
    "    mar, sep = row[3], row[9]\n",
    "    apr, octo = row[4], row[10]\n",
    "    may, nov = row[5], row[11]\n",
    "    jun, dec = row[6], row[12]\n",
    "    \n",
    "    reg_month = row['reg_month']\n",
    "    monthly_fee = row['monthly_fee']\n",
    "    \n",
    "    n_1, n_2, n_3, n_4, n_5, n_6, n_7, n_8, n_9, n_10, n_11, n_12 = 0,0,0,0,0,0,0,0,0,0,0,0 \n",
    "    \n",
    "    months = [jan, feb, mar, apr, may, jun, jul, aug, sep, octo, nov, dec]\n",
    "    n_months = [n_1, n_2, n_3, n_4, n_5, n_6, n_7, n_8, n_9, n_10, n_11, n_12]\n",
    "    # цикл будет начинать работу с месяца, в котором клиент стал абонентом, иначе — останутся предустановленные нули\n",
    "    for i in range(reg_month - 1, 12):\n",
    "        n_months[i] = months[i] + monthly_fee\n",
    "        \n",
    "    return n_months\n",
    "    "
   ]
  },
  {
   "cell_type": "code",
   "execution_count": 45,
   "metadata": {},
   "outputs": [
    {
     "data": {
      "text/html": [
       "<div>\n",
       "<style scoped>\n",
       "    .dataframe tbody tr th:only-of-type {\n",
       "        vertical-align: middle;\n",
       "    }\n",
       "\n",
       "    .dataframe tbody tr th {\n",
       "        vertical-align: top;\n",
       "    }\n",
       "\n",
       "    .dataframe thead th {\n",
       "        text-align: right;\n",
       "    }\n",
       "</style>\n",
       "<table border=\"1\" class=\"dataframe\">\n",
       "  <thead>\n",
       "    <tr style=\"text-align: right;\">\n",
       "      <th></th>\n",
       "      <th>user_id</th>\n",
       "      <th>tariff_name</th>\n",
       "      <th>1</th>\n",
       "      <th>2</th>\n",
       "      <th>3</th>\n",
       "      <th>4</th>\n",
       "      <th>5</th>\n",
       "      <th>6</th>\n",
       "      <th>7</th>\n",
       "      <th>8</th>\n",
       "      <th>9</th>\n",
       "      <th>10</th>\n",
       "      <th>11</th>\n",
       "      <th>12</th>\n",
       "    </tr>\n",
       "  </thead>\n",
       "  <tbody>\n",
       "    <tr>\n",
       "      <th>0</th>\n",
       "      <td>1000</td>\n",
       "      <td>ultra</td>\n",
       "      <td>0</td>\n",
       "      <td>0</td>\n",
       "      <td>0</td>\n",
       "      <td>0</td>\n",
       "      <td>1950</td>\n",
       "      <td>1950</td>\n",
       "      <td>1950</td>\n",
       "      <td>1950</td>\n",
       "      <td>1950</td>\n",
       "      <td>1950</td>\n",
       "      <td>1950</td>\n",
       "      <td>1950</td>\n",
       "    </tr>\n",
       "    <tr>\n",
       "      <th>1</th>\n",
       "      <td>1003</td>\n",
       "      <td>ultra</td>\n",
       "      <td>0</td>\n",
       "      <td>0</td>\n",
       "      <td>0</td>\n",
       "      <td>0</td>\n",
       "      <td>0</td>\n",
       "      <td>0</td>\n",
       "      <td>0</td>\n",
       "      <td>1950</td>\n",
       "      <td>1950</td>\n",
       "      <td>1950</td>\n",
       "      <td>1950</td>\n",
       "      <td>1950</td>\n",
       "    </tr>\n",
       "    <tr>\n",
       "      <th>2</th>\n",
       "      <td>1004</td>\n",
       "      <td>ultra</td>\n",
       "      <td>0</td>\n",
       "      <td>0</td>\n",
       "      <td>0</td>\n",
       "      <td>0</td>\n",
       "      <td>1950</td>\n",
       "      <td>1950</td>\n",
       "      <td>1950</td>\n",
       "      <td>1950</td>\n",
       "      <td>1950</td>\n",
       "      <td>1950</td>\n",
       "      <td>1950</td>\n",
       "      <td>1950</td>\n",
       "    </tr>\n",
       "    <tr>\n",
       "      <th>3</th>\n",
       "      <td>1013</td>\n",
       "      <td>ultra</td>\n",
       "      <td>0</td>\n",
       "      <td>0</td>\n",
       "      <td>0</td>\n",
       "      <td>0</td>\n",
       "      <td>0</td>\n",
       "      <td>0</td>\n",
       "      <td>0</td>\n",
       "      <td>0</td>\n",
       "      <td>0</td>\n",
       "      <td>0</td>\n",
       "      <td>1950</td>\n",
       "      <td>1950</td>\n",
       "    </tr>\n",
       "    <tr>\n",
       "      <th>4</th>\n",
       "      <td>1016</td>\n",
       "      <td>ultra</td>\n",
       "      <td>0</td>\n",
       "      <td>0</td>\n",
       "      <td>0</td>\n",
       "      <td>0</td>\n",
       "      <td>0</td>\n",
       "      <td>0</td>\n",
       "      <td>0</td>\n",
       "      <td>0</td>\n",
       "      <td>0</td>\n",
       "      <td>0</td>\n",
       "      <td>1950</td>\n",
       "      <td>1950</td>\n",
       "    </tr>\n",
       "    <tr>\n",
       "      <th>...</th>\n",
       "      <td>...</td>\n",
       "      <td>...</td>\n",
       "      <td>...</td>\n",
       "      <td>...</td>\n",
       "      <td>...</td>\n",
       "      <td>...</td>\n",
       "      <td>...</td>\n",
       "      <td>...</td>\n",
       "      <td>...</td>\n",
       "      <td>...</td>\n",
       "      <td>...</td>\n",
       "      <td>...</td>\n",
       "      <td>...</td>\n",
       "      <td>...</td>\n",
       "    </tr>\n",
       "    <tr>\n",
       "      <th>493</th>\n",
       "      <td>1496</td>\n",
       "      <td>smart</td>\n",
       "      <td>550</td>\n",
       "      <td>5750</td>\n",
       "      <td>4550</td>\n",
       "      <td>2950</td>\n",
       "      <td>4150</td>\n",
       "      <td>2550</td>\n",
       "      <td>4150</td>\n",
       "      <td>3750</td>\n",
       "      <td>5350</td>\n",
       "      <td>5750</td>\n",
       "      <td>4550</td>\n",
       "      <td>2953</td>\n",
       "    </tr>\n",
       "    <tr>\n",
       "      <th>494</th>\n",
       "      <td>1497</td>\n",
       "      <td>smart</td>\n",
       "      <td>0</td>\n",
       "      <td>0</td>\n",
       "      <td>0</td>\n",
       "      <td>0</td>\n",
       "      <td>0</td>\n",
       "      <td>0</td>\n",
       "      <td>0</td>\n",
       "      <td>0</td>\n",
       "      <td>0</td>\n",
       "      <td>550</td>\n",
       "      <td>550</td>\n",
       "      <td>2550</td>\n",
       "    </tr>\n",
       "    <tr>\n",
       "      <th>495</th>\n",
       "      <td>1498</td>\n",
       "      <td>smart</td>\n",
       "      <td>0</td>\n",
       "      <td>0</td>\n",
       "      <td>0</td>\n",
       "      <td>0</td>\n",
       "      <td>0</td>\n",
       "      <td>0</td>\n",
       "      <td>550</td>\n",
       "      <td>4186</td>\n",
       "      <td>3350</td>\n",
       "      <td>2950</td>\n",
       "      <td>550</td>\n",
       "      <td>550</td>\n",
       "    </tr>\n",
       "    <tr>\n",
       "      <th>496</th>\n",
       "      <td>1499</td>\n",
       "      <td>smart</td>\n",
       "      <td>0</td>\n",
       "      <td>0</td>\n",
       "      <td>0</td>\n",
       "      <td>0</td>\n",
       "      <td>0</td>\n",
       "      <td>0</td>\n",
       "      <td>0</td>\n",
       "      <td>0</td>\n",
       "      <td>550</td>\n",
       "      <td>1750</td>\n",
       "      <td>1777</td>\n",
       "      <td>598</td>\n",
       "    </tr>\n",
       "    <tr>\n",
       "      <th>497</th>\n",
       "      <td>1489</td>\n",
       "      <td>smart</td>\n",
       "      <td>0</td>\n",
       "      <td>0</td>\n",
       "      <td>0</td>\n",
       "      <td>0</td>\n",
       "      <td>0</td>\n",
       "      <td>0</td>\n",
       "      <td>0</td>\n",
       "      <td>550</td>\n",
       "      <td>1350</td>\n",
       "      <td>2550</td>\n",
       "      <td>1750</td>\n",
       "      <td>1350</td>\n",
       "    </tr>\n",
       "  </tbody>\n",
       "</table>\n",
       "<p>498 rows × 14 columns</p>\n",
       "</div>"
      ],
      "text/plain": [
       "     user_id tariff_name    1     2     3     4     5     6     7     8     9  \\\n",
       "0       1000       ultra    0     0     0     0  1950  1950  1950  1950  1950   \n",
       "1       1003       ultra    0     0     0     0     0     0     0  1950  1950   \n",
       "2       1004       ultra    0     0     0     0  1950  1950  1950  1950  1950   \n",
       "3       1013       ultra    0     0     0     0     0     0     0     0     0   \n",
       "4       1016       ultra    0     0     0     0     0     0     0     0     0   \n",
       "..       ...         ...  ...   ...   ...   ...   ...   ...   ...   ...   ...   \n",
       "493     1496       smart  550  5750  4550  2950  4150  2550  4150  3750  5350   \n",
       "494     1497       smart    0     0     0     0     0     0     0     0     0   \n",
       "495     1498       smart    0     0     0     0     0     0   550  4186  3350   \n",
       "496     1499       smart    0     0     0     0     0     0     0     0   550   \n",
       "497     1489       smart    0     0     0     0     0     0     0   550  1350   \n",
       "\n",
       "       10    11    12  \n",
       "0    1950  1950  1950  \n",
       "1    1950  1950  1950  \n",
       "2    1950  1950  1950  \n",
       "3       0  1950  1950  \n",
       "4       0  1950  1950  \n",
       "..    ...   ...   ...  \n",
       "493  5750  4550  2953  \n",
       "494   550   550  2550  \n",
       "495  2950   550   550  \n",
       "496  1750  1777   598  \n",
       "497  2550  1750  1350  \n",
       "\n",
       "[498 rows x 14 columns]"
      ]
     },
     "execution_count": 45,
     "metadata": {},
     "output_type": "execute_result"
    }
   ],
   "source": [
    "total_tarified = list(total_payed.apply(get_tarified, axis=1))\n",
    "total_tarified = pd.DataFrame(data=total_tarified, columns=[1, 2, 3, 4, 5, 6, 7, 8, 9, 10, 11, 12])\n",
    "\n",
    "total_payed = total_payed[['user_id', 'tariff_name']]\n",
    "\n",
    "total_tarified = pd.concat([total_payed, total_tarified.reindex(total_payed.index)], axis=1)\n",
    "\n",
    "total_tarified"
   ]
  },
  {
   "cell_type": "markdown",
   "metadata": {},
   "source": [
    "Таблица total_tarified содержит данные о выручке с каждого пользователя по месяцам."
   ]
  },
  {
   "cell_type": "markdown",
   "metadata": {},
   "source": [
    "В результате Шага 2 были получены таблицы user_calls, user_messages, user_traffic и total_tarified. С этими таблицами мы продолжим работу далее."
   ]
  },
  {
   "cell_type": "markdown",
   "metadata": {},
   "source": [
    "# Шаг 3. Анализируем данные"
   ]
  },
  {
   "cell_type": "markdown",
   "metadata": {},
   "source": [
    "Опишем поведение клиентов оператора исходя из выборки. Оценим, сколько минут разговора, сколько сообщений и какой объём интернет-трафика требуется пользователям каждого тарифа в месяц. Посчитаем среднее количество, дисперсию и стандартное отклонение. Построим гистограммы и опишем распределения."
   ]
  },
  {
   "cell_type": "markdown",
   "metadata": {},
   "source": [
    "Ниже создадим функцию get_split_statistics(), которая будет принимать на вход два параметра: таблицу и параметр kind, который будет отвечать за вывод заголовков и название осей. Всего будет три типа: по типу для каждой из таблиц: user_calls, user_messages и user_traffic. Соответственно, параметр kind будет принимать значения 'c', 'm', или 't'.\n",
    "\n",
    "Функция будет выполнять две основные задачи:\n",
    "1) Отрисовка графиков. Среди графиков мы будем строить по два барчарта, которые отразят среднее количество минут, сообщений или гигабайт израсходованного траффика по месяцам для каждого из тарифов. Кроме двух барчартов, построим гистограммы частот по значениям израсходованных минут, сообщений или гигабайт. Всем графикам зададим разные цвета (и при каждом вызове функции эти цвета будут меняться), для гистограмм зададим разные уровни прозрачности.\n",
    "\n",
    "2) Возврат двух наборов ненулевых значений по двум тарифам Ultra и Smart в виде объектов типа Series. Эти наборы потребуются нам для дальнейших рассчётов статистик: среднего, дисперсии и стандартного отклонения."
   ]
  },
  {
   "cell_type": "code",
   "execution_count": 46,
   "metadata": {},
   "outputs": [],
   "source": [
    "def get_split_statistics(table, kind='c'): # На вход функция будет принимать 2 параметра: таблицу и kind — тип подписей\n",
    "    \n",
    "    # Разбиваем полученную из первого параметра таблицу на две: одна с данными тарифа 'Ultra', вторая — с данными 'Smart'\n",
    "    \n",
    "    ultra_table = table.query('tariff_name == \"ultra\"')\n",
    "    smart_table = table.query('tariff_name == \"smart\"')\n",
    "\n",
    "    table_list = [ultra_table, smart_table]\n",
    "    months_list = ['jan', 'feb', 'mar', 'apr', 'may', 'jun', 'jul', 'aug', 'sep', 'oct', 'nov', 'dec'] \n",
    "    tariff_names = ['Ultra', 'Smart'] # Этот список пригодится для создания заголовков графиков\n",
    "    \n",
    "    # Условное ветвление по значениям второго параметра kind, который будет определять заголовки и подписи осей\n",
    "    \n",
    "    if kind == 'c':\n",
    "        measure = ['Минуты', 'израсходованных минут'] # Первый элемент списка measure для подписи оси y, второй — для вставки в заголовок\n",
    "    elif kind == 'm':\n",
    "        measure = ['Сообщения', 'израсходованных сообщений']\n",
    "    elif kind == 't':\n",
    "        measure = ['Гигабайты', 'израсходованного трафика']\n",
    "    else:\n",
    "        measure = ['', ''] # Во всех остальных случаях — без подписей в соответствующих местах\n",
    "    \n",
    "    # Далее создадим словарь, в котором ключами будут цифры, а значениями — названия цветов.\n",
    "    # Идея в том, чтобы цвет графиков менялся от вызова к вызову. Декоративная фича. Постараемся пожалеть глаза)) \n",
    "    # Названия цветов взяты со страницы https://colorscheme.ru/html-colors.html\n",
    "    \n",
    "    color_dict = {\n",
    "        1: 'MediumSlateBlue', \n",
    "        2: 'SteelBlue', \n",
    "        3: 'CadetBlue', \n",
    "        4: 'MediumTurquoise', \n",
    "        5: 'CornflowerBlue',\n",
    "        6: 'LightSeaGreen',\n",
    "        7: 'MediumAquamarine',\n",
    "        8: 'MediumSpringGreen',\n",
    "        9: 'LightGreen',\n",
    "        10: 'SpringGreen',\n",
    "        11: 'MediumOrchid',\n",
    "        12: 'Plum',\n",
    "        13: 'Thistle',\n",
    "        14: 'Tomato',\n",
    "        15: 'LightSalmon',\n",
    "        16: 'PaleGoldenrod',\n",
    "        17: 'PeachPuff',\n",
    "        18: 'NavajoWhite',\n",
    "        19: 'DarkGray',\n",
    "        20: 'Wheat'\n",
    "    }\n",
    "    \n",
    "    main_value_set = [] # Создадим пустой список, элементами которого станут два списка (один из ultra и один из smart)\n",
    "    # Основной цикл for делает два шага: на первом работает с данными таблицы ultra_table, на втором — с данными таблицы smart\n",
    "    for i in range(len(table_list)):\n",
    "        avg_months = [] # Список, который будет хранить средние значения по месяцам\n",
    "        current_value_set = [] # Список, в котором будут собраны все значения кроме нулей\n",
    "        for j in range(1, 13):\n",
    "            current_table = table_list[i]\n",
    "            current_table = current_table[current_table[j] > 0] # Таблица в текущем столбце не содержит нулей\n",
    "            current_month = current_table[j] # Текущий столбец без нулей сохраняем в переменную current_month\n",
    "            avg_months.append(round(current_month.mean())) # средние значения округляем до целых и добавляем среднее в avg_months\n",
    "            current_value_set += list(current_month) # складываем ненулыевые значения из очередного столбца current_table\n",
    "            \n",
    "        main_value_set.append(current_value_set) # добавляем в виде списка в main_value_set набор ненулевых значений из текущей таблицы\n",
    "        \n",
    "        # определяем размеры графиков\n",
    "        fig = plt.figure(figsize=(15, 8))\n",
    "        \n",
    "        # создаём барчарт на основе данных из двух списков, располагаем зависимую переменную на оси y, названия месяцев — на x\n",
    "        \n",
    "        num = randint(1, 20) # Генерируем в переменную num случайное число от 1 до 20 (в словаре 20 пар)\n",
    "        color = color_dict[num] # Обращаемся к случайному значению из словаря color_dict\n",
    "        \n",
    "        b = plt.bar(months_list, avg_months, color=color)\n",
    "        \n",
    "        # Ниже цикл для создания подписей на барчарте\n",
    "        \n",
    "        for rect, label in zip(b.patches, avg_months):\n",
    "            plt.text(\n",
    "                rect.get_x() + rect.get_width() / 2,\n",
    "                rect.get_height(),\n",
    "                label,\n",
    "                ha=\"center\",\n",
    "                va=\"bottom\"\n",
    "            )\n",
    "        plt.title(f'Средние значения {measure[1]} по месяцам для тарифа {tariff_names[i]}')\n",
    "        plt.xlabel('Месяцы')\n",
    "        plt.ylabel(measure[0])\n",
    "        plt.show()\n",
    "    \n",
    "    # Первый список из списка списков сохраним в переменной ultra_set, второй список — в переменной smart_set как объекты Series\n",
    "    ultra_set, smart_set = pd.Series(main_value_set[0]), pd.Series(main_value_set[1])\n",
    "    \n",
    "    \n",
    "    set_list = [ultra_set, smart_set]\n",
    "    \n",
    "    plt.title(f'Распределение {measure[1]} по тарифам')\n",
    "    plt.xlabel(measure[0])\n",
    "    plt.ylabel('Частота')\n",
    "    for i in range(len(set_list)):\n",
    "        num = randint(1, 20)\n",
    "        color = color_dict[num]\n",
    "        alpha = 0.8 - i / 10 * 5 # задаём разную прозрачность гистограммам\n",
    "        set_list[i].hist(figsize=(15, 8), bins=15, alpha=alpha, color=color, label=tariff_names[i])\n",
    "        plt.legend() # Выведем легенду\n",
    "    \n",
    "    # вернём наборы данных по тарифам отдельными объектами типа Series, чтобы дальше можно было с ними работать\n",
    "    return ultra_set, smart_set\n",
    "        "
   ]
  },
  {
   "cell_type": "code",
   "execution_count": 47,
   "metadata": {},
   "outputs": [
    {
     "data": {
      "image/png": "[encoded data removed]",
      "text/plain": [
       "<Figure size 1080x576 with 1 Axes>"
      ]
     },
     "metadata": {
      "needs_background": "light"
     },
     "output_type": "display_data"
    },
    {
     "data": {
      "image/png": "[encoded data removed]",
      "text/plain": [
       "<Figure size 1080x576 with 1 Axes>"
      ]
     },
     "metadata": {
      "needs_background": "light"
     },
     "output_type": "display_data"
    },
    {
     "data": {
      "image/png": "[encoded data removed]",
      "text/plain": [
       "<Figure size 1080x576 with 1 Axes>"
      ]
     },
     "metadata": {
      "needs_background": "light"
     },
     "output_type": "display_data"
    }
   ],
   "source": [
    "# Вызываем функцию get_split_statistics() для таблицы user_calls\n",
    "# Сохраняем наборы данных с ненулевыми значениями для разных тарифов в переменных ultra_calls и smart_calls\n",
    "ultra_calls, smart_calls = get_split_statistics(user_calls, kind='c')"
   ]
  },
  {
   "cell_type": "markdown",
   "metadata": {},
   "source": []
  },
  {
   "cell_type": "code",
   "execution_count": 48,
   "metadata": {},
   "outputs": [],
   "source": [
    "# Создадим ещё одну функцию для подсчёта среднего, дисперсии и стандартного отклонения. \n",
    "# Результатом её работы будет именно вывод на экран информации.\n",
    "def display_statistics(ultra, smart, kind='c'):\n",
    "    tariff_list = [ultra, smart]\n",
    "    tariff_names = ['Ultra', 'Smart']\n",
    "    \n",
    "    if kind == 'c':\n",
    "        measure = 'израсходованных минут'\n",
    "    elif kind == 'm':\n",
    "        measure = 'израсходованных сообщений'\n",
    "    elif kind == 't':\n",
    "        measure = 'израсходованного трафика'\n",
    "    else:\n",
    "        measure = ''\n",
    "    \n",
    "    for i in range(len(tariff_list)):\n",
    "        current_table = tariff_list[i]\n",
    "        # считаем среднее\n",
    "        mean_value = round(current_table.mean()) # во избежание длинных чисел, будем округлять\n",
    "        # Мы помним, что работа происходит не с генеральной совокупностью, а с выборкой, поэтому вводим параметр ddof\n",
    "        # считаем дисперсию\n",
    "        variance_estimate = round(np.var(current_table, ddof=1))\n",
    "        # считаем стандартное отклонение\n",
    "        standard_deviation = round(np.std(current_table, ddof=1))\n",
    "        \n",
    "        print(f'Среднее значение {measure} для пользователей тарифа {tariff_names[i]}: {mean_value}')\n",
    "        print(f'Дисперсия: {variance_estimate}')\n",
    "        print(f'Стандартное отклонение: {standard_deviation}')\n",
    "        print('')\n"
   ]
  },
  {
   "cell_type": "code",
   "execution_count": 49,
   "metadata": {},
   "outputs": [
    {
     "name": "stdout",
     "output_type": "stream",
     "text": [
      "Среднее значение израсходованных минут для пользователей тарифа Ultra: 548\n",
      "Дисперсия: 93338\n",
      "Стандартное отклонение: 306\n",
      "\n",
      "Среднее значение израсходованных минут для пользователей тарифа Smart: 419\n",
      "Дисперсия: 35718\n",
      "Стандартное отклонение: 189\n",
      "\n"
     ]
    }
   ],
   "source": [
    "display_statistics(ultra_calls, smart_calls, kind='c')"
   ]
  },
  {
   "cell_type": "markdown",
   "metadata": {},
   "source": [
    "По графикам видно, что средние значения израсходованных минут, разбитые по месяцам для пользователей тарифа Ultra выше, чем для пользователей тарифа Smart, что вполне объяснимо: ведь в тариф Ultra включено 3000 минут, а в тариф Smart — 500. При этом мы можем наблюдать, что средние значения тарифа Smart стремятся к числу включенных минут (в декабре среднее значение составило 480 минут), тогда как пользователи тарифа Ultra в среднем очень далеки от израсходования лимита. Можно выделить месяц декабрь, как месяц, в котором среднее количество израсходованных минут в обоих тарифах — максимальное. Вероятно, многие пользователи активнее совершают звонки перед новогодними праздниками, а в январе и феврале — наоборот, снижают активность.\n",
    "\n",
    "По гистограмме распределения израсходованных минут по тарифам видно, что число, которое наиболее часто характеризует количество израсходованных минут в месяце у пользователей тарифа Smart находится чуть левее значения лимита (500) — согласно расчётам среднего оно равно 419. Распределение здесь нормальное, слегка скошенное влево: всё же среди пользователей тарифа Smart чуть больше тех, кто в среднем укладывается в месячный лимит по минутам. Распределение для пользователей тарифа Ultra очевидно обладает большим разбросом, в чём не сложно убедиться по показателям дисперсии и стандартного отклонения. Это говорит о бОльших различиях в поведенческих особенностях среди пользователей тарифа Ultra. Ultra-распределение также скошено влево и напоминает нормальное."
   ]
  },
  {
   "cell_type": "code",
   "execution_count": 50,
   "metadata": {},
   "outputs": [
    {
     "data": {
      "image/png": "[encoded data removed]",
      "text/plain": [
       "<Figure size 1080x576 with 1 Axes>"
      ]
     },
     "metadata": {
      "needs_background": "light"
     },
     "output_type": "display_data"
    },
    {
     "data": {
      "image/png": "[encoded data removed]",
      "text/plain": [
       "<Figure size 1080x576 with 1 Axes>"
      ]
     },
     "metadata": {
      "needs_background": "light"
     },
     "output_type": "display_data"
    },
    {
     "data": {
      "image/png": "[encoded data removed]",
      "text/plain": [
       "<Figure size 1080x576 with 1 Axes>"
      ]
     },
     "metadata": {
      "needs_background": "light"
     },
     "output_type": "display_data"
    }
   ],
   "source": [
    "# Теперь вызовем функцию get_split_statistics() для набора данных о сообщениях пользователей\n",
    "ultra_messages, smart_messages = get_split_statistics(user_messages, kind='m')"
   ]
  },
  {
   "cell_type": "code",
   "execution_count": 51,
   "metadata": {},
   "outputs": [
    {
     "name": "stdout",
     "output_type": "stream",
     "text": [
      "Среднее значение израсходованных сообщений для пользователей тарифа Ultra: 61\n",
      "Дисперсия: 2110\n",
      "Стандартное отклонение: 46\n",
      "\n",
      "Среднее значение израсходованных сообщений для пользователей тарифа Smart: 39\n",
      "Дисперсия: 718\n",
      "Стандартное отклонение: 27\n",
      "\n"
     ]
    }
   ],
   "source": [
    "display_statistics(ultra_messages, smart_messages, kind='m')"
   ]
  },
  {
   "cell_type": "markdown",
   "metadata": {},
   "source": [
    "По графикам средних значений израсходованных сообщений по месяцам можно заметить, что пользователи тарифа Ultra в среднем отправляют больше сообщений, чем пользователи тарифа Smart. Пики средних значений в обоих графиках снова приходятся на декабрь. Получается, предпраздничная активность выражается не только в количестве минут, израсходованых на разговоры, но и в количестве отправленных сообщений. Средние значения отправленных сообщений в период с мая по октябрь у пользователей тарифа Smart более стабильны, чем у пользователей тарифа Ultra, можно даже утверждать, что оно практически неизменно и приблизительно равно (потому что мы округяли) 39 сообщениям.\n",
    "\n",
    "Распределения израсходованных сообщений по тарифам напоминают нормальные распределения, они скошены влево. То есть среднее по отошению к медиане находится слева и справа мы наблюдаем длинные хвосты. При этом, хвост у пользователей тарифа Ultra заметно длиннее, что говорит о том, что среди этих пользователей есть такие, которые в среднем отправляют значимо больше сообщений, чем пользователи тарифа Smart, стандартное отклонение на данных по этим пользователям выше."
   ]
  },
  {
   "cell_type": "code",
   "execution_count": 52,
   "metadata": {},
   "outputs": [
    {
     "data": {
      "image/png": "[encoded data removed]",
      "text/plain": [
       "<Figure size 1080x576 with 1 Axes>"
      ]
     },
     "metadata": {
      "needs_background": "light"
     },
     "output_type": "display_data"
    },
    {
     "data": {
      "image/png": "[encoded data removed]",
      "text/plain": [
       "<Figure size 1080x576 with 1 Axes>"
      ]
     },
     "metadata": {
      "needs_background": "light"
     },
     "output_type": "display_data"
    },
    {
     "data": {
      "image/png": "[encoded data removed]",
      "text/plain": [
       "<Figure size 1080x576 with 1 Axes>"
      ]
     },
     "metadata": {
      "needs_background": "light"
     },
     "output_type": "display_data"
    }
   ],
   "source": [
    "ultra_traffic, smart_traffic = get_split_statistics(user_traffic, kind='t')"
   ]
  },
  {
   "cell_type": "code",
   "execution_count": 53,
   "metadata": {},
   "outputs": [
    {
     "name": "stdout",
     "output_type": "stream",
     "text": [
      "Среднее значение израсходованного трафика для пользователей тарифа Ultra: 20\n",
      "Дисперсия: 94\n",
      "Стандартное отклонение: 10\n",
      "\n",
      "Среднее значение израсходованного трафика для пользователей тарифа Smart: 16\n",
      "Дисперсия: 33\n",
      "Стандартное отклонение: 6\n",
      "\n"
     ]
    }
   ],
   "source": [
    "display_statistics(ultra_traffic, smart_traffic, kind='t')"
   ]
  },
  {
   "cell_type": "markdown",
   "metadata": {},
   "source": [
    "В тариф Ultra включено 30720 мегабайт трафика, а в тариф Smart — 15360. Это 30 и 15 гигабайт соответственно. На графиках средних значений израсходованного трафика по месяцам видно, что в среднем пользователи тарифа Smart не укладываются в тарифный лимит и выходят за него. В среднем каждый пользователь тарифа Smart переплачивает 200 рублей за дополнительный гигабайт траффика (округлённое среднее по всему набору данных равно 16), то есть можно говорить о том, что в среднем телекоммуникационная компания «Мегалайн» имеет с пользователей тарифа Smart не 550 рублей, а как минимум 750, если иметь в виду только переплату за выход из лимита по трафику. Это сокращает разрыв в реальной стоимости тарифов (и, что само собой разумеется, увеличивает прибыль телекоммуникационной компании). Пользователям тарифа Ultra в среднем хватает тарифного лимита по трафику с уверенным запасом. Также как и в случаях с количеством израсходованных минут и сообщений, с трафиком повторяется история: максимальные средние значения соответствуют последнему месяцу в году, а минимальные — первым двум.\n",
    "\n",
    "\n",
    "Распределения израсходованного трафика по тарифам выглядят как нормальные: у пользователей тарифа Ultra можем наблюдать скошенность вправо: среди них есть такие пользователи, которые тратят и по 30 и по 40 и даже почти по 50 гигабайт в месяц."
   ]
  },
  {
   "cell_type": "markdown",
   "metadata": {},
   "source": [
    "# Шаг 4. Проверяем гипотезы"
   ]
  },
  {
   "cell_type": "markdown",
   "metadata": {},
   "source": [
    "Проверим гипотезы «средняя выручка пользователей тарифов «Ультра» и «Смарт» различаются» и «средняя выручка пользователей из Москвы отличается от выручки пользователей из других регионов». В обоих случаях это будут проверки гипотез на равенство предполагаемых средних двух генеральных совокупностей.\n",
    "\n",
    "\n",
    "Нулевые гипотезы H0 сформулируем так: \n",
    "1. «показатели средней выручки пользователей тарифов «Ультра» и «Cмарт» равны»,\n",
    "\n",
    "2. «показатель средней выручки пользователей из Москвы равен показателю средней выручки пользователей из других регионов».\n",
    "\n",
    "\n",
    "Альтернативные гипотезы H1 будут такими: \n",
    "\n",
    "1. «показатели средней выручки пользователей этих тарифов не равны»,\n",
    "2. «показатель средней выручки пользователей из Москвы не равен показателю средней выручки пользователей из других регионов»\n",
    "\n",
    "\n",
    "\n",
    "В обоих случаях гипотезы двустороние, то есть в них возможны отклонения в большую и меньшую стороны."
   ]
  },
  {
   "cell_type": "markdown",
   "metadata": {},
   "source": [
    "Для проверки гипотез на равенство предполагаемых средних двух генеральных совокупностей будем использовать t-тест. Препятствий для его использования нет: генеральные совокупности не зависят друг от друга, выборочные средние распределены нормально (выборочные средние всегда показывают распределение близкое к нормальному и центром такого распределения становится истинное среднее генеральной совокупности). А так как выборки будут иметь разные размеры, то мы укажем неравенство дисперсий с помощью параметра equal_var метода scipy.stats.ttest_ind()."
   ]
  },
  {
   "cell_type": "code",
   "execution_count": 54,
   "metadata": {},
   "outputs": [
    {
     "data": {
      "text/html": [
       "<div>\n",
       "<style scoped>\n",
       "    .dataframe tbody tr th:only-of-type {\n",
       "        vertical-align: middle;\n",
       "    }\n",
       "\n",
       "    .dataframe tbody tr th {\n",
       "        vertical-align: top;\n",
       "    }\n",
       "\n",
       "    .dataframe thead th {\n",
       "        text-align: right;\n",
       "    }\n",
       "</style>\n",
       "<table border=\"1\" class=\"dataframe\">\n",
       "  <thead>\n",
       "    <tr style=\"text-align: right;\">\n",
       "      <th></th>\n",
       "      <th>user_id</th>\n",
       "      <th>tariff_name</th>\n",
       "      <th>1</th>\n",
       "      <th>2</th>\n",
       "      <th>3</th>\n",
       "      <th>4</th>\n",
       "      <th>5</th>\n",
       "      <th>6</th>\n",
       "      <th>7</th>\n",
       "      <th>8</th>\n",
       "      <th>9</th>\n",
       "      <th>10</th>\n",
       "      <th>11</th>\n",
       "      <th>12</th>\n",
       "      <th>city</th>\n",
       "    </tr>\n",
       "  </thead>\n",
       "  <tbody>\n",
       "    <tr>\n",
       "      <th>0</th>\n",
       "      <td>1000</td>\n",
       "      <td>ultra</td>\n",
       "      <td>0</td>\n",
       "      <td>0</td>\n",
       "      <td>0</td>\n",
       "      <td>0</td>\n",
       "      <td>1950</td>\n",
       "      <td>1950</td>\n",
       "      <td>1950</td>\n",
       "      <td>1950</td>\n",
       "      <td>1950</td>\n",
       "      <td>1950</td>\n",
       "      <td>1950</td>\n",
       "      <td>1950</td>\n",
       "      <td>Краснодар</td>\n",
       "    </tr>\n",
       "    <tr>\n",
       "      <th>1</th>\n",
       "      <td>1003</td>\n",
       "      <td>ultra</td>\n",
       "      <td>0</td>\n",
       "      <td>0</td>\n",
       "      <td>0</td>\n",
       "      <td>0</td>\n",
       "      <td>0</td>\n",
       "      <td>0</td>\n",
       "      <td>0</td>\n",
       "      <td>1950</td>\n",
       "      <td>1950</td>\n",
       "      <td>1950</td>\n",
       "      <td>1950</td>\n",
       "      <td>1950</td>\n",
       "      <td>Москва</td>\n",
       "    </tr>\n",
       "    <tr>\n",
       "      <th>2</th>\n",
       "      <td>1004</td>\n",
       "      <td>ultra</td>\n",
       "      <td>0</td>\n",
       "      <td>0</td>\n",
       "      <td>0</td>\n",
       "      <td>0</td>\n",
       "      <td>1950</td>\n",
       "      <td>1950</td>\n",
       "      <td>1950</td>\n",
       "      <td>1950</td>\n",
       "      <td>1950</td>\n",
       "      <td>1950</td>\n",
       "      <td>1950</td>\n",
       "      <td>1950</td>\n",
       "      <td>Новокузнецк</td>\n",
       "    </tr>\n",
       "    <tr>\n",
       "      <th>3</th>\n",
       "      <td>1013</td>\n",
       "      <td>ultra</td>\n",
       "      <td>0</td>\n",
       "      <td>0</td>\n",
       "      <td>0</td>\n",
       "      <td>0</td>\n",
       "      <td>0</td>\n",
       "      <td>0</td>\n",
       "      <td>0</td>\n",
       "      <td>0</td>\n",
       "      <td>0</td>\n",
       "      <td>0</td>\n",
       "      <td>1950</td>\n",
       "      <td>1950</td>\n",
       "      <td>Иваново</td>\n",
       "    </tr>\n",
       "    <tr>\n",
       "      <th>4</th>\n",
       "      <td>1016</td>\n",
       "      <td>ultra</td>\n",
       "      <td>0</td>\n",
       "      <td>0</td>\n",
       "      <td>0</td>\n",
       "      <td>0</td>\n",
       "      <td>0</td>\n",
       "      <td>0</td>\n",
       "      <td>0</td>\n",
       "      <td>0</td>\n",
       "      <td>0</td>\n",
       "      <td>0</td>\n",
       "      <td>1950</td>\n",
       "      <td>1950</td>\n",
       "      <td>Омск</td>\n",
       "    </tr>\n",
       "    <tr>\n",
       "      <th>...</th>\n",
       "      <td>...</td>\n",
       "      <td>...</td>\n",
       "      <td>...</td>\n",
       "      <td>...</td>\n",
       "      <td>...</td>\n",
       "      <td>...</td>\n",
       "      <td>...</td>\n",
       "      <td>...</td>\n",
       "      <td>...</td>\n",
       "      <td>...</td>\n",
       "      <td>...</td>\n",
       "      <td>...</td>\n",
       "      <td>...</td>\n",
       "      <td>...</td>\n",
       "      <td>...</td>\n",
       "    </tr>\n",
       "    <tr>\n",
       "      <th>493</th>\n",
       "      <td>1496</td>\n",
       "      <td>smart</td>\n",
       "      <td>550</td>\n",
       "      <td>5750</td>\n",
       "      <td>4550</td>\n",
       "      <td>2950</td>\n",
       "      <td>4150</td>\n",
       "      <td>2550</td>\n",
       "      <td>4150</td>\n",
       "      <td>3750</td>\n",
       "      <td>5350</td>\n",
       "      <td>5750</td>\n",
       "      <td>4550</td>\n",
       "      <td>2953</td>\n",
       "      <td>Вологда</td>\n",
       "    </tr>\n",
       "    <tr>\n",
       "      <th>494</th>\n",
       "      <td>1497</td>\n",
       "      <td>smart</td>\n",
       "      <td>0</td>\n",
       "      <td>0</td>\n",
       "      <td>0</td>\n",
       "      <td>0</td>\n",
       "      <td>0</td>\n",
       "      <td>0</td>\n",
       "      <td>0</td>\n",
       "      <td>0</td>\n",
       "      <td>0</td>\n",
       "      <td>550</td>\n",
       "      <td>550</td>\n",
       "      <td>2550</td>\n",
       "      <td>Челябинск</td>\n",
       "    </tr>\n",
       "    <tr>\n",
       "      <th>495</th>\n",
       "      <td>1498</td>\n",
       "      <td>smart</td>\n",
       "      <td>0</td>\n",
       "      <td>0</td>\n",
       "      <td>0</td>\n",
       "      <td>0</td>\n",
       "      <td>0</td>\n",
       "      <td>0</td>\n",
       "      <td>550</td>\n",
       "      <td>4186</td>\n",
       "      <td>3350</td>\n",
       "      <td>2950</td>\n",
       "      <td>550</td>\n",
       "      <td>550</td>\n",
       "      <td>Владикавказ</td>\n",
       "    </tr>\n",
       "    <tr>\n",
       "      <th>496</th>\n",
       "      <td>1499</td>\n",
       "      <td>smart</td>\n",
       "      <td>0</td>\n",
       "      <td>0</td>\n",
       "      <td>0</td>\n",
       "      <td>0</td>\n",
       "      <td>0</td>\n",
       "      <td>0</td>\n",
       "      <td>0</td>\n",
       "      <td>0</td>\n",
       "      <td>550</td>\n",
       "      <td>1750</td>\n",
       "      <td>1777</td>\n",
       "      <td>598</td>\n",
       "      <td>Пермь</td>\n",
       "    </tr>\n",
       "    <tr>\n",
       "      <th>497</th>\n",
       "      <td>1489</td>\n",
       "      <td>smart</td>\n",
       "      <td>0</td>\n",
       "      <td>0</td>\n",
       "      <td>0</td>\n",
       "      <td>0</td>\n",
       "      <td>0</td>\n",
       "      <td>0</td>\n",
       "      <td>0</td>\n",
       "      <td>550</td>\n",
       "      <td>1350</td>\n",
       "      <td>2550</td>\n",
       "      <td>1750</td>\n",
       "      <td>1350</td>\n",
       "      <td>Санкт-Петербург</td>\n",
       "    </tr>\n",
       "  </tbody>\n",
       "</table>\n",
       "<p>498 rows × 15 columns</p>\n",
       "</div>"
      ],
      "text/plain": [
       "     user_id tariff_name    1     2     3     4     5     6     7     8     9  \\\n",
       "0       1000       ultra    0     0     0     0  1950  1950  1950  1950  1950   \n",
       "1       1003       ultra    0     0     0     0     0     0     0  1950  1950   \n",
       "2       1004       ultra    0     0     0     0  1950  1950  1950  1950  1950   \n",
       "3       1013       ultra    0     0     0     0     0     0     0     0     0   \n",
       "4       1016       ultra    0     0     0     0     0     0     0     0     0   \n",
       "..       ...         ...  ...   ...   ...   ...   ...   ...   ...   ...   ...   \n",
       "493     1496       smart  550  5750  4550  2950  4150  2550  4150  3750  5350   \n",
       "494     1497       smart    0     0     0     0     0     0     0     0     0   \n",
       "495     1498       smart    0     0     0     0     0     0   550  4186  3350   \n",
       "496     1499       smart    0     0     0     0     0     0     0     0   550   \n",
       "497     1489       smart    0     0     0     0     0     0     0   550  1350   \n",
       "\n",
       "       10    11    12             city  \n",
       "0    1950  1950  1950        Краснодар  \n",
       "1    1950  1950  1950           Москва  \n",
       "2    1950  1950  1950      Новокузнецк  \n",
       "3       0  1950  1950          Иваново  \n",
       "4       0  1950  1950             Омск  \n",
       "..    ...   ...   ...              ...  \n",
       "493  5750  4550  2953          Вологда  \n",
       "494   550   550  2550        Челябинск  \n",
       "495  2950   550   550      Владикавказ  \n",
       "496  1750  1777   598            Пермь  \n",
       "497  2550  1750  1350  Санкт-Петербург  \n",
       "\n",
       "[498 rows x 15 columns]"
      ]
     },
     "execution_count": 54,
     "metadata": {},
     "output_type": "execute_result"
    }
   ],
   "source": [
    "# Начнём с того, что добавим таблице total_tarified столбец с городами проживания клиентов.\n",
    "total_tarified = total_tarified.merge(users[['user_id', 'city']])\n",
    "total_tarified"
   ]
  },
  {
   "cell_type": "code",
   "execution_count": 55,
   "metadata": {},
   "outputs": [],
   "source": [
    "def check_hypothesis(table, column='tariff_name'):\n",
    "    \n",
    "    if column == 'tariff_name': # В столбце с тарифами у нас два значения, поэтому мы можем представить их как 'Ultra' и не 'Ultra'\n",
    "        split_value = 'ultra'\n",
    "        message = 'Нулевая гипотеза: показатели средней выручки пользователей тарифов «Ультра» и «Cмарт» равны.'\n",
    "    if column == 'city':\n",
    "        # Во второй проверке нам предстоит проверить выборки из Москвы и из не Москвы\n",
    "        message = 'Нулевая гипотеза: показатель средней выручки пользователей из Москвы равен показателю средней выручки пользователей из других регионов.'\n",
    "        split_value = 'Москва'\n",
    "        \n",
    "    table_1 = table[table[column] == split_value] # таблица со значением, равным split_value в столбце column\n",
    "    table_2 = table[table[column] != split_value] # таблица со значением, не равным split_value в столбце column\n",
    "    \n",
    "    table_list = [table_1, table_2]\n",
    "    \n",
    "    main_value_set = [] # Список, в котором окажутся два списка с наборами данных без нулей из двух таблиц\n",
    "    for i in range(len(table_list)):\n",
    "        current_value_set = [] # Список, в котором будут собраны все значения кроме нулей из очередной таблицы\n",
    "        for j in range(1, 13):\n",
    "            current_table = table_list[i]\n",
    "            current_table = current_table[current_table[j] > 0] # Таблица в текущем столбце не содержит нулей\n",
    "            current_month = current_table[j] # Текущий столбец без нулей сохраняем в переменную current_month\n",
    "            current_value_set += list(current_month)\n",
    "        main_value_set.append(current_value_set)\n",
    "        \n",
    "    first_set, second_set = main_value_set[0], main_value_set[1]\n",
    "    \n",
    "    # Очевидно, что выборки в списках first_set и second_set получатся разных размеров, но введём проверку на их равенство.\n",
    "    # Результат этой проверки будет влиять на значение параметра equal_var метода scipy.stats.ttest_ind()\n",
    "    \n",
    "    if len(first_set) == len(second_set):\n",
    "        ev = True\n",
    "    else:\n",
    "        ev = False\n",
    "        \n",
    "    alpha = .05 # критический уровень статистической значимости\n",
    "    results = st.ttest_ind(first_set, second_set, equal_var=ev)\n",
    "    \n",
    "    \n",
    "    print(message)\n",
    "    print('p-значение:', results.pvalue)\n",
    "    \n",
    "    if results.pvalue < alpha:\n",
    "        print(\"Отвергаем нулевую гипотезу\")\n",
    "    else:\n",
    "        print(\"Не получилось отвергнуть нулевую гипотезу\")\n",
    "        \n",
    "    return first_set, second_set"
   ]
  },
  {
   "cell_type": "code",
   "execution_count": 56,
   "metadata": {},
   "outputs": [
    {
     "name": "stdout",
     "output_type": "stream",
     "text": [
      "Нулевая гипотеза: показатели средней выручки пользователей тарифов «Ультра» и «Cмарт» равны.\n",
      "p-значение: 2.0136878407039138e-28\n",
      "Отвергаем нулевую гипотезу\n"
     ]
    }
   ],
   "source": [
    "ultra_set, smart_set = check_hypothesis(total_tarified, column='tariff_name')"
   ]
  },
  {
   "cell_type": "code",
   "execution_count": 57,
   "metadata": {},
   "outputs": [
    {
     "name": "stdout",
     "output_type": "stream",
     "text": [
      "Нулевая гипотеза: показатель средней выручки пользователей из Москвы равен показателю средней выручки пользователей из других регионов.\n",
      "p-значение: 0.6922480538189719\n",
      "Не получилось отвергнуть нулевую гипотезу\n"
     ]
    }
   ],
   "source": [
    "moscow_set, region_set = check_hypothesis(total_tarified, column='city')"
   ]
  },
  {
   "cell_type": "markdown",
   "metadata": {},
   "source": [
    "Для проверки гипотез был задан уровень статистической значимости равный 0.05. \n",
    "\n",
    "В случае с проверкой первой гипотезы «показатели средней выручки пользователей тарифов «Ультра» и «Cмарт» равны», если представить, что нулевая гипотеза на самом деле верна, то вероятность получить различия между предполагаемыми средними значениями двух генеральных совокупностей равна 2.0136878407039138e-28, то есть вероятность крайне мала, поэтому в результате проверки мы нулевую гипотезу отвергаем и принимаем альтернативную гипотезу: «показатели средней выручки пользователей этих тарифов не равны». Выявлены статистически значимые различия\n",
    "\n",
    "\n",
    "В случае с проверкой второй гипотезы «показатель средней выручки пользователей из Москвы равен показателю средней выручки пользователей из других регионов», если представить, что эта гипотеза верна, то вероятность получить различия между предполагаемыми средними значениями двух генеральных совокупностей очень высока и составляет почти 70%. Такую гипотезу мы отвергать не будем."
   ]
  },
  {
   "cell_type": "markdown",
   "metadata": {},
   "source": [
    "# Шаг 5. Общий вывод"
   ]
  },
  {
   "cell_type": "markdown",
   "metadata": {},
   "source": [
    "В результате проведённого исследования были получены статистически значимые различия между показателями средней выручки от пользователей тарифов «Ультра» и «Cмарт». При этом статистически значимых различий между теми же показателями среди пользователей из разных регионов обнаружено не было. Нам осталось ответить на главный вопрос: какой тариф приносит больше денег телекоммуникационной компании «Мегалайн»? Чтобы ответить на этот вопрос, построим гистограммы распределений по двум наборам данных со значениями выручки и посчитаем статистики: среднее, дисперсию и стандартное отклонение по этим наборам."
   ]
  },
  {
   "cell_type": "code",
   "execution_count": 58,
   "metadata": {},
   "outputs": [
    {
     "data": {
      "image/png": "[encoded data removed]",
      "text/plain": [
       "<Figure size 1080x576 with 1 Axes>"
      ]
     },
     "metadata": {
      "needs_background": "light"
     },
     "output_type": "display_data"
    }
   ],
   "source": [
    "list_with_ultra_and_smart = [pd.Series(ultra_set), pd.Series(smart_set)]\n",
    "tariff_names = ['Ultra', 'Smart']\n",
    "plt.title(f'Распределение значений ежемесячных расходов клиентов по тарифам')\n",
    "plt.xlabel('Рубли')\n",
    "plt.ylabel('Частота')\n",
    "for i in range(len(list_with_ultra_and_smart)):\n",
    "    alpha = 0.8 - i / 10 * 5 # задаём разную прозрачность гистограммам\n",
    "    list_with_ultra_and_smart[i].hist(figsize=(15, 8), bins=[0, 550, 750, 1000, 1250, 1750, 2000, 2250, 2750, 3000, 5000, 7000, 9000], alpha=alpha, label=tariff_names[i])\n",
    "    plt.legend() # Выведем легенду"
   ]
  },
  {
   "cell_type": "markdown",
   "metadata": {},
   "source": [
    "По графику распределения значений ежемесячных расходов клиентов по тарифам видно, что показатели для пользователей тарифа Ultra находятся в более ограниченном диапазоне, чем те же показатели для пользоватеелй тарифа Smart. Наиболее часто клиенты обоих тарифов тратят на услуги связи сумму, которая равна ежемесячной плате за тариф. Следующее по популярности значение находится в диапазоне от 3000 до 5000 рублей. У клиентов тарифа smart таких трат было почти 400 за изучаемый период, тогда как пользователи тарифа ultra оказывались в этом диапазоне не более 100 раз. В диапазонах от 5000 до 7000 и от 7000 до 9000 рублей пользователи тарифа Smart оказывались также ощутимо чаще пользователей тарифа Ultra. \n",
    "\n",
    "\n",
    "Можно сделать вывод о том, что пользователи тарифа Smart намного чаще пользователей тарифа Ultra выходят за тарифные лимиты и, соответственно приносят телекоммуникационной компании «Мегалайн» больше денег. Рассчитаем статистики, чтобы подтвердить этот вывод."
   ]
  },
  {
   "cell_type": "code",
   "execution_count": 59,
   "metadata": {},
   "outputs": [
    {
     "name": "stdout",
     "output_type": "stream",
     "text": [
      "Среднее значение ежемесячных расходов для пользователей тарифа Ultra: 2186\n",
      "Дисперсия: 555918\n",
      "Стандартное отклонение: 746\n",
      "Суммарно пользователи тарифа Ultra принесли компании Мегалайн 2196450 рублей\n",
      "\n",
      "Среднее значение ежемесячных расходов для пользователей тарифа Smart: 1751\n",
      "Дисперсия: 2172876\n",
      "Стандартное отклонение: 1474\n",
      "Суммарно пользователи тарифа Smart принесли компании Мегалайн 3942184 рублей\n",
      "\n"
     ]
    }
   ],
   "source": [
    "for i in range(len(list_with_ultra_and_smart)):\n",
    "    current_set = list_with_ultra_and_smart[i]\n",
    "    mean_value = round(current_set.mean()) # во избежание длинных чисел, будем округлять\n",
    "    variance_estimate = round(np.var(current_set, ddof=1))\n",
    "    standard_deviation = round(np.std(current_set, ddof=1))\n",
    "    total_sum = sum(current_set)\n",
    "    print(f'Среднее значение ежемесячных расходов для пользователей тарифа {tariff_names[i]}: {mean_value}')\n",
    "    print(f'Дисперсия: {variance_estimate}')\n",
    "    print(f'Стандартное отклонение: {standard_deviation}')\n",
    "    print(f'Суммарно пользователи тарифа {tariff_names[i]} принесли компании Мегалайн {total_sum} рублей')\n",
    "    print('')"
   ]
  },
  {
   "cell_type": "markdown",
   "metadata": {},
   "source": [
    "И, действительно, хоть среднее значение ежемесячных расходов пользователей тарифа Smart равно 1751 рублю против значения в 2186 рублей для пользователей тарифа Ultra, у первой выборки показатель стандартного отклонения вдвое больше (1474 против 746), а это значит, что диапазон в три стандартных отклонения от среднего будет содержать намного большие значения для пользователей тарифа Smart, чем диапазон в три стандартных отклонения для пользователей тарифа Ultra. Именно поэтому мы видим, что пользователи тарифа Smart принесли компании Мегалайн 3.942.184 рублей против 2.196.450 рублей, полученных от пользователей тарифа Ultra."
   ]
  },
  {
   "cell_type": "markdown",
   "metadata": {},
   "source": [
    "Вывод: Тариф Smart приносит почти вдвое больше денег компании Мегалайн, чем тариф Ultra. Следует скорректировать рекламный бюджет в пользу тарифа Smart с тем, чтобы компания Мегалайн получила больше прибыли."
   ]
  }
 ],
 "metadata": {
  "ExecuteTimeLog": [
   {
    "duration": 1129,
    "start_time": "2022-10-15T10:39:58.100Z"
   },
   {
    "duration": 1415,
    "start_time": "2022-10-15T10:41:41.708Z"
   },
   {
    "duration": 15,
    "start_time": "2022-10-15T10:42:49.792Z"
   },
   {
    "duration": 23,
    "start_time": "2022-10-15T10:43:09.839Z"
   },
   {
    "duration": 11,
    "start_time": "2022-10-15T10:43:48.952Z"
   },
   {
    "duration": 28,
    "start_time": "2022-10-15T10:43:51.762Z"
   },
   {
    "duration": 8,
    "start_time": "2022-10-15T10:44:14.140Z"
   },
   {
    "duration": 19,
    "start_time": "2022-10-15T10:44:37.620Z"
   },
   {
    "duration": 8,
    "start_time": "2022-10-15T10:45:23.899Z"
   },
   {
    "duration": 11,
    "start_time": "2022-10-15T10:45:33.392Z"
   },
   {
    "duration": 10,
    "start_time": "2022-10-15T10:46:34.532Z"
   },
   {
    "duration": 9,
    "start_time": "2022-10-15T10:46:46.841Z"
   },
   {
    "duration": 3,
    "start_time": "2022-10-15T10:48:54.482Z"
   },
   {
    "duration": 956,
    "start_time": "2022-10-15T10:49:12.108Z"
   },
   {
    "duration": 394,
    "start_time": "2022-10-15T10:49:13.066Z"
   },
   {
    "duration": 11,
    "start_time": "2022-10-15T10:49:13.461Z"
   },
   {
    "duration": 23,
    "start_time": "2022-10-15T10:49:13.474Z"
   },
   {
    "duration": 8,
    "start_time": "2022-10-15T10:49:13.499Z"
   },
   {
    "duration": 30,
    "start_time": "2022-10-15T10:49:13.509Z"
   },
   {
    "duration": 7,
    "start_time": "2022-10-15T10:49:13.540Z"
   },
   {
    "duration": 15,
    "start_time": "2022-10-15T10:49:13.549Z"
   },
   {
    "duration": 7,
    "start_time": "2022-10-15T10:49:13.586Z"
   },
   {
    "duration": 11,
    "start_time": "2022-10-15T10:49:13.595Z"
   },
   {
    "duration": 13,
    "start_time": "2022-10-15T10:49:13.607Z"
   },
   {
    "duration": 15,
    "start_time": "2022-10-15T10:49:13.621Z"
   },
   {
    "duration": 1012,
    "start_time": "2022-10-15T11:00:19.295Z"
   },
   {
    "duration": 442,
    "start_time": "2022-10-15T11:00:20.309Z"
   },
   {
    "duration": 12,
    "start_time": "2022-10-15T11:00:20.752Z"
   },
   {
    "duration": 52,
    "start_time": "2022-10-15T11:00:20.766Z"
   },
   {
    "duration": 15,
    "start_time": "2022-10-15T11:00:20.820Z"
   },
   {
    "duration": 51,
    "start_time": "2022-10-15T11:00:20.836Z"
   },
   {
    "duration": 23,
    "start_time": "2022-10-15T11:00:20.889Z"
   },
   {
    "duration": 30,
    "start_time": "2022-10-15T11:00:20.914Z"
   },
   {
    "duration": 14,
    "start_time": "2022-10-15T11:00:20.946Z"
   },
   {
    "duration": 13,
    "start_time": "2022-10-15T11:00:20.962Z"
   },
   {
    "duration": 32,
    "start_time": "2022-10-15T11:00:20.977Z"
   },
   {
    "duration": 18,
    "start_time": "2022-10-15T11:00:21.011Z"
   },
   {
    "duration": 107,
    "start_time": "2022-10-15T11:36:47.892Z"
   },
   {
    "duration": 14,
    "start_time": "2022-10-15T11:37:00.046Z"
   },
   {
    "duration": 311,
    "start_time": "2022-10-15T11:37:33.736Z"
   },
   {
    "duration": 260,
    "start_time": "2022-10-15T11:39:26.204Z"
   },
   {
    "duration": 193,
    "start_time": "2022-10-15T11:39:39.249Z"
   },
   {
    "duration": 137,
    "start_time": "2022-10-15T11:39:45.175Z"
   },
   {
    "duration": 1051,
    "start_time": "2022-10-15T11:39:59.421Z"
   },
   {
    "duration": 463,
    "start_time": "2022-10-15T11:40:00.474Z"
   },
   {
    "duration": 16,
    "start_time": "2022-10-15T11:40:00.939Z"
   },
   {
    "duration": 22,
    "start_time": "2022-10-15T11:40:00.957Z"
   },
   {
    "duration": 9,
    "start_time": "2022-10-15T11:40:00.982Z"
   },
   {
    "duration": 37,
    "start_time": "2022-10-15T11:40:00.992Z"
   },
   {
    "duration": 10,
    "start_time": "2022-10-15T11:40:01.031Z"
   },
   {
    "duration": 25,
    "start_time": "2022-10-15T11:40:01.043Z"
   },
   {
    "duration": 14,
    "start_time": "2022-10-15T11:40:01.072Z"
   },
   {
    "duration": 19,
    "start_time": "2022-10-15T11:40:01.088Z"
   },
   {
    "duration": 16,
    "start_time": "2022-10-15T11:40:01.109Z"
   },
   {
    "duration": 25,
    "start_time": "2022-10-15T11:40:01.126Z"
   },
   {
    "duration": 198,
    "start_time": "2022-10-15T11:40:01.153Z"
   },
   {
    "duration": 160,
    "start_time": "2022-10-15T11:40:10.480Z"
   },
   {
    "duration": 194,
    "start_time": "2022-10-15T11:40:23.160Z"
   },
   {
    "duration": 327,
    "start_time": "2022-10-15T11:40:49.525Z"
   },
   {
    "duration": 162,
    "start_time": "2022-10-15T11:41:01.853Z"
   },
   {
    "duration": 17,
    "start_time": "2022-10-15T11:41:05.921Z"
   },
   {
    "duration": 13,
    "start_time": "2022-10-15T11:41:11.366Z"
   },
   {
    "duration": 1088,
    "start_time": "2022-10-15T11:41:16.570Z"
   },
   {
    "duration": 486,
    "start_time": "2022-10-15T11:41:17.660Z"
   },
   {
    "duration": 14,
    "start_time": "2022-10-15T11:41:18.149Z"
   },
   {
    "duration": 34,
    "start_time": "2022-10-15T11:41:18.165Z"
   },
   {
    "duration": 24,
    "start_time": "2022-10-15T11:41:18.202Z"
   },
   {
    "duration": 47,
    "start_time": "2022-10-15T11:41:18.228Z"
   },
   {
    "duration": 9,
    "start_time": "2022-10-15T11:41:18.277Z"
   },
   {
    "duration": 52,
    "start_time": "2022-10-15T11:41:18.288Z"
   },
   {
    "duration": 17,
    "start_time": "2022-10-15T11:41:18.342Z"
   },
   {
    "duration": 28,
    "start_time": "2022-10-15T11:41:18.362Z"
   },
   {
    "duration": 25,
    "start_time": "2022-10-15T11:41:18.393Z"
   },
   {
    "duration": 26,
    "start_time": "2022-10-15T11:41:18.420Z"
   },
   {
    "duration": 325,
    "start_time": "2022-10-15T11:41:18.449Z"
   },
   {
    "duration": 18,
    "start_time": "2022-10-15T11:41:26.940Z"
   },
   {
    "duration": 129,
    "start_time": "2022-10-15T11:42:39.552Z"
   },
   {
    "duration": 36,
    "start_time": "2022-10-15T11:42:45.372Z"
   },
   {
    "duration": 34,
    "start_time": "2022-10-15T11:42:56.994Z"
   },
   {
    "duration": 11,
    "start_time": "2022-10-15T11:43:33.380Z"
   },
   {
    "duration": 17,
    "start_time": "2022-10-15T11:43:43.740Z"
   },
   {
    "duration": 1034,
    "start_time": "2022-10-15T11:43:49.255Z"
   },
   {
    "duration": 434,
    "start_time": "2022-10-15T11:43:50.291Z"
   },
   {
    "duration": 12,
    "start_time": "2022-10-15T11:43:50.727Z"
   },
   {
    "duration": 27,
    "start_time": "2022-10-15T11:43:50.740Z"
   },
   {
    "duration": 8,
    "start_time": "2022-10-15T11:43:50.769Z"
   },
   {
    "duration": 20,
    "start_time": "2022-10-15T11:43:50.779Z"
   },
   {
    "duration": 7,
    "start_time": "2022-10-15T11:43:50.800Z"
   },
   {
    "duration": 19,
    "start_time": "2022-10-15T11:43:50.809Z"
   },
   {
    "duration": 7,
    "start_time": "2022-10-15T11:43:50.830Z"
   },
   {
    "duration": 15,
    "start_time": "2022-10-15T11:43:50.839Z"
   },
   {
    "duration": 41,
    "start_time": "2022-10-15T11:43:50.856Z"
   },
   {
    "duration": 13,
    "start_time": "2022-10-15T11:43:50.899Z"
   },
   {
    "duration": 232,
    "start_time": "2022-10-15T11:43:50.913Z"
   },
   {
    "duration": 23,
    "start_time": "2022-10-15T11:43:51.147Z"
   },
   {
    "duration": 136,
    "start_time": "2022-10-15T11:44:01.494Z"
   },
   {
    "duration": 1001,
    "start_time": "2022-10-15T11:44:07.616Z"
   },
   {
    "duration": 483,
    "start_time": "2022-10-15T11:44:08.619Z"
   },
   {
    "duration": 18,
    "start_time": "2022-10-15T11:44:09.105Z"
   },
   {
    "duration": 42,
    "start_time": "2022-10-15T11:44:09.126Z"
   },
   {
    "duration": 10,
    "start_time": "2022-10-15T11:44:09.170Z"
   },
   {
    "duration": 30,
    "start_time": "2022-10-15T11:44:09.185Z"
   },
   {
    "duration": 11,
    "start_time": "2022-10-15T11:44:09.217Z"
   },
   {
    "duration": 30,
    "start_time": "2022-10-15T11:44:09.230Z"
   },
   {
    "duration": 31,
    "start_time": "2022-10-15T11:44:09.262Z"
   },
   {
    "duration": 16,
    "start_time": "2022-10-15T11:44:09.296Z"
   },
   {
    "duration": 18,
    "start_time": "2022-10-15T11:44:09.314Z"
   },
   {
    "duration": 17,
    "start_time": "2022-10-15T11:44:09.334Z"
   },
   {
    "duration": 262,
    "start_time": "2022-10-15T11:44:09.353Z"
   },
   {
    "duration": 12,
    "start_time": "2022-10-15T11:44:09.617Z"
   },
   {
    "duration": 35,
    "start_time": "2022-10-15T11:47:06.779Z"
   },
   {
    "duration": 1115,
    "start_time": "2022-10-15T11:49:36.817Z"
   },
   {
    "duration": 465,
    "start_time": "2022-10-15T11:49:37.934Z"
   },
   {
    "duration": 16,
    "start_time": "2022-10-15T11:49:38.401Z"
   },
   {
    "duration": 38,
    "start_time": "2022-10-15T11:49:38.420Z"
   },
   {
    "duration": 13,
    "start_time": "2022-10-15T11:49:38.460Z"
   },
   {
    "duration": 36,
    "start_time": "2022-10-15T11:49:38.486Z"
   },
   {
    "duration": 8,
    "start_time": "2022-10-15T11:49:38.524Z"
   },
   {
    "duration": 52,
    "start_time": "2022-10-15T11:49:38.534Z"
   },
   {
    "duration": 11,
    "start_time": "2022-10-15T11:49:38.588Z"
   },
   {
    "duration": 12,
    "start_time": "2022-10-15T11:49:38.602Z"
   },
   {
    "duration": 11,
    "start_time": "2022-10-15T11:49:38.616Z"
   },
   {
    "duration": 18,
    "start_time": "2022-10-15T11:49:38.629Z"
   },
   {
    "duration": 280,
    "start_time": "2022-10-15T11:49:38.649Z"
   },
   {
    "duration": 11,
    "start_time": "2022-10-15T11:49:38.930Z"
   },
   {
    "duration": 92,
    "start_time": "2022-10-15T11:49:38.943Z"
   },
   {
    "duration": 1017,
    "start_time": "2022-10-15T11:50:09.170Z"
   },
   {
    "duration": 427,
    "start_time": "2022-10-15T11:50:10.189Z"
   },
   {
    "duration": 13,
    "start_time": "2022-10-15T11:50:10.618Z"
   },
   {
    "duration": 32,
    "start_time": "2022-10-15T11:50:10.632Z"
   },
   {
    "duration": 10,
    "start_time": "2022-10-15T11:50:10.667Z"
   },
   {
    "duration": 20,
    "start_time": "2022-10-15T11:50:10.679Z"
   },
   {
    "duration": 6,
    "start_time": "2022-10-15T11:50:10.701Z"
   },
   {
    "duration": 18,
    "start_time": "2022-10-15T11:50:10.708Z"
   },
   {
    "duration": 7,
    "start_time": "2022-10-15T11:50:10.728Z"
   },
   {
    "duration": 11,
    "start_time": "2022-10-15T11:50:10.737Z"
   },
   {
    "duration": 37,
    "start_time": "2022-10-15T11:50:10.749Z"
   },
   {
    "duration": 15,
    "start_time": "2022-10-15T11:50:10.788Z"
   },
   {
    "duration": 225,
    "start_time": "2022-10-15T11:50:10.805Z"
   },
   {
    "duration": 12,
    "start_time": "2022-10-15T11:50:11.032Z"
   },
   {
    "duration": 76,
    "start_time": "2022-10-15T11:50:11.045Z"
   },
   {
    "duration": 10,
    "start_time": "2022-10-15T11:50:19.328Z"
   },
   {
    "duration": 11,
    "start_time": "2022-10-15T11:50:28.852Z"
   },
   {
    "duration": 10,
    "start_time": "2022-10-15T11:50:38.235Z"
   },
   {
    "duration": 8,
    "start_time": "2022-10-15T11:50:53.588Z"
   },
   {
    "duration": 72,
    "start_time": "2022-10-15T11:52:57.975Z"
   },
   {
    "duration": 9,
    "start_time": "2022-10-15T11:53:02.091Z"
   },
   {
    "duration": 99,
    "start_time": "2022-10-15T11:56:17.995Z"
   },
   {
    "duration": 1027,
    "start_time": "2022-10-15T11:58:47.452Z"
   },
   {
    "duration": 421,
    "start_time": "2022-10-15T11:58:48.481Z"
   },
   {
    "duration": 12,
    "start_time": "2022-10-15T11:58:48.904Z"
   },
   {
    "duration": 25,
    "start_time": "2022-10-15T11:58:48.918Z"
   },
   {
    "duration": 8,
    "start_time": "2022-10-15T11:58:48.944Z"
   },
   {
    "duration": 19,
    "start_time": "2022-10-15T11:58:48.954Z"
   },
   {
    "duration": 8,
    "start_time": "2022-10-15T11:58:48.985Z"
   },
   {
    "duration": 31,
    "start_time": "2022-10-15T11:58:48.995Z"
   },
   {
    "duration": 10,
    "start_time": "2022-10-15T11:58:49.028Z"
   },
   {
    "duration": 23,
    "start_time": "2022-10-15T11:58:49.041Z"
   },
   {
    "duration": 25,
    "start_time": "2022-10-15T11:58:49.067Z"
   },
   {
    "duration": 14,
    "start_time": "2022-10-15T11:58:49.093Z"
   },
   {
    "duration": 228,
    "start_time": "2022-10-15T11:58:49.109Z"
   },
   {
    "duration": 11,
    "start_time": "2022-10-15T11:58:49.338Z"
   },
   {
    "duration": 82,
    "start_time": "2022-10-15T11:58:49.351Z"
   },
   {
    "duration": 110,
    "start_time": "2022-10-15T11:58:49.435Z"
   },
   {
    "duration": 97,
    "start_time": "2022-10-15T11:59:12.631Z"
   },
   {
    "duration": 8,
    "start_time": "2022-10-15T12:01:41.675Z"
   },
   {
    "duration": 7,
    "start_time": "2022-10-15T12:01:51.363Z"
   },
   {
    "duration": 8,
    "start_time": "2022-10-15T12:01:59.276Z"
   },
   {
    "duration": 8,
    "start_time": "2022-10-15T12:02:04.331Z"
   },
   {
    "duration": 12,
    "start_time": "2022-10-15T12:02:07.239Z"
   },
   {
    "duration": 9,
    "start_time": "2022-10-15T12:02:11.382Z"
   },
   {
    "duration": 7,
    "start_time": "2022-10-15T12:02:25.138Z"
   },
   {
    "duration": 8,
    "start_time": "2022-10-15T12:02:31.998Z"
   },
   {
    "duration": 8,
    "start_time": "2022-10-15T12:03:30.255Z"
   },
   {
    "duration": 9,
    "start_time": "2022-10-15T12:03:50.575Z"
   },
   {
    "duration": 9,
    "start_time": "2022-10-15T12:03:58.915Z"
   },
   {
    "duration": 8,
    "start_time": "2022-10-15T12:04:02.754Z"
   },
   {
    "duration": 6,
    "start_time": "2022-10-15T12:32:49.748Z"
   },
   {
    "duration": 6,
    "start_time": "2022-10-15T12:33:03.901Z"
   },
   {
    "duration": 8,
    "start_time": "2022-10-15T12:33:36.696Z"
   },
   {
    "duration": 27,
    "start_time": "2022-10-15T12:39:35.762Z"
   },
   {
    "duration": 17,
    "start_time": "2022-10-15T12:39:41.457Z"
   },
   {
    "duration": 102,
    "start_time": "2022-10-15T12:46:23.144Z"
   },
   {
    "duration": 11,
    "start_time": "2022-10-15T12:47:50.512Z"
   },
   {
    "duration": 1055,
    "start_time": "2022-10-15T12:47:58.476Z"
   },
   {
    "duration": 526,
    "start_time": "2022-10-15T12:47:59.533Z"
   },
   {
    "duration": 15,
    "start_time": "2022-10-15T12:48:00.061Z"
   },
   {
    "duration": 38,
    "start_time": "2022-10-15T12:48:00.077Z"
   },
   {
    "duration": 15,
    "start_time": "2022-10-15T12:48:00.118Z"
   },
   {
    "duration": 31,
    "start_time": "2022-10-15T12:48:00.136Z"
   },
   {
    "duration": 24,
    "start_time": "2022-10-15T12:48:00.169Z"
   },
   {
    "duration": 62,
    "start_time": "2022-10-15T12:48:00.194Z"
   },
   {
    "duration": 13,
    "start_time": "2022-10-15T12:48:00.258Z"
   },
   {
    "duration": 73,
    "start_time": "2022-10-15T12:48:00.272Z"
   },
   {
    "duration": 26,
    "start_time": "2022-10-15T12:48:00.347Z"
   },
   {
    "duration": 24,
    "start_time": "2022-10-15T12:48:00.376Z"
   },
   {
    "duration": 264,
    "start_time": "2022-10-15T12:48:00.405Z"
   },
   {
    "duration": 15,
    "start_time": "2022-10-15T12:48:00.671Z"
   },
   {
    "duration": 124,
    "start_time": "2022-10-15T12:48:00.694Z"
   },
   {
    "duration": 104,
    "start_time": "2022-10-15T12:48:00.822Z"
   },
   {
    "duration": 32,
    "start_time": "2022-10-15T12:48:00.929Z"
   },
   {
    "duration": 164,
    "start_time": "2022-10-15T12:48:00.963Z"
   },
   {
    "duration": 15,
    "start_time": "2022-10-15T12:48:57.739Z"
   },
   {
    "duration": 18,
    "start_time": "2022-10-15T12:52:03.112Z"
   },
   {
    "duration": 3,
    "start_time": "2022-10-15T12:52:29.715Z"
   },
   {
    "duration": 422,
    "start_time": "2022-10-15T12:52:29.720Z"
   },
   {
    "duration": 7,
    "start_time": "2022-10-15T12:52:30.144Z"
   },
   {
    "duration": 32,
    "start_time": "2022-10-15T12:52:30.152Z"
   },
   {
    "duration": 8,
    "start_time": "2022-10-15T12:52:30.186Z"
   },
   {
    "duration": 25,
    "start_time": "2022-10-15T12:52:30.196Z"
   },
   {
    "duration": 7,
    "start_time": "2022-10-15T12:52:30.222Z"
   },
   {
    "duration": 21,
    "start_time": "2022-10-15T12:52:30.230Z"
   },
   {
    "duration": 7,
    "start_time": "2022-10-15T12:52:30.253Z"
   },
   {
    "duration": 30,
    "start_time": "2022-10-15T12:52:30.262Z"
   },
   {
    "duration": 9,
    "start_time": "2022-10-15T12:52:30.294Z"
   },
   {
    "duration": 29,
    "start_time": "2022-10-15T12:52:30.304Z"
   },
   {
    "duration": 217,
    "start_time": "2022-10-15T12:52:30.334Z"
   },
   {
    "duration": 11,
    "start_time": "2022-10-15T12:52:30.554Z"
   },
   {
    "duration": 71,
    "start_time": "2022-10-15T12:52:30.566Z"
   },
   {
    "duration": 103,
    "start_time": "2022-10-15T12:52:30.639Z"
   },
   {
    "duration": 21,
    "start_time": "2022-10-15T12:52:30.744Z"
   },
   {
    "duration": 30,
    "start_time": "2022-10-15T12:52:30.766Z"
   },
   {
    "duration": 0,
    "start_time": "2022-10-15T12:52:30.798Z"
   },
   {
    "duration": 1830,
    "start_time": "2022-10-15T12:52:46.271Z"
   },
   {
    "duration": 14,
    "start_time": "2022-10-15T12:52:49.781Z"
   },
   {
    "duration": 939,
    "start_time": "2022-10-15T12:55:13.843Z"
   },
   {
    "duration": 409,
    "start_time": "2022-10-15T12:55:14.784Z"
   },
   {
    "duration": 11,
    "start_time": "2022-10-15T12:55:15.194Z"
   },
   {
    "duration": 26,
    "start_time": "2022-10-15T12:55:15.207Z"
   },
   {
    "duration": 28,
    "start_time": "2022-10-15T12:55:15.235Z"
   },
   {
    "duration": 38,
    "start_time": "2022-10-15T12:55:15.264Z"
   },
   {
    "duration": 9,
    "start_time": "2022-10-15T12:55:15.304Z"
   },
   {
    "duration": 37,
    "start_time": "2022-10-15T12:55:15.314Z"
   },
   {
    "duration": 13,
    "start_time": "2022-10-15T12:55:15.352Z"
   },
   {
    "duration": 32,
    "start_time": "2022-10-15T12:55:15.366Z"
   },
   {
    "duration": 31,
    "start_time": "2022-10-15T12:55:15.399Z"
   },
   {
    "duration": 20,
    "start_time": "2022-10-15T12:55:15.432Z"
   },
   {
    "duration": 233,
    "start_time": "2022-10-15T12:55:15.453Z"
   },
   {
    "duration": 12,
    "start_time": "2022-10-15T12:55:15.688Z"
   },
   {
    "duration": 60,
    "start_time": "2022-10-15T12:55:15.701Z"
   },
   {
    "duration": 115,
    "start_time": "2022-10-15T12:55:15.762Z"
   },
   {
    "duration": 25,
    "start_time": "2022-10-15T12:55:15.878Z"
   },
   {
    "duration": 1817,
    "start_time": "2022-10-15T12:55:15.904Z"
   },
   {
    "duration": 12,
    "start_time": "2022-10-15T12:55:17.723Z"
   },
   {
    "duration": 45,
    "start_time": "2022-10-15T12:59:04.194Z"
   },
   {
    "duration": 117,
    "start_time": "2022-10-15T13:00:05.489Z"
   },
   {
    "duration": 1092,
    "start_time": "2022-10-15T13:00:16.931Z"
   },
   {
    "duration": 461,
    "start_time": "2022-10-15T13:00:18.025Z"
   },
   {
    "duration": 12,
    "start_time": "2022-10-15T13:00:18.488Z"
   },
   {
    "duration": 23,
    "start_time": "2022-10-15T13:00:18.501Z"
   },
   {
    "duration": 12,
    "start_time": "2022-10-15T13:00:18.527Z"
   },
   {
    "duration": 56,
    "start_time": "2022-10-15T13:00:18.541Z"
   },
   {
    "duration": 8,
    "start_time": "2022-10-15T13:00:18.599Z"
   },
   {
    "duration": 28,
    "start_time": "2022-10-15T13:00:18.609Z"
   },
   {
    "duration": 11,
    "start_time": "2022-10-15T13:00:18.640Z"
   },
   {
    "duration": 14,
    "start_time": "2022-10-15T13:00:18.653Z"
   },
   {
    "duration": 27,
    "start_time": "2022-10-15T13:00:18.668Z"
   },
   {
    "duration": 17,
    "start_time": "2022-10-15T13:00:18.696Z"
   },
   {
    "duration": 224,
    "start_time": "2022-10-15T13:00:18.714Z"
   },
   {
    "duration": 12,
    "start_time": "2022-10-15T13:00:18.942Z"
   },
   {
    "duration": 78,
    "start_time": "2022-10-15T13:00:18.956Z"
   },
   {
    "duration": 149,
    "start_time": "2022-10-15T13:00:19.036Z"
   },
   {
    "duration": 24,
    "start_time": "2022-10-15T13:00:19.187Z"
   },
   {
    "duration": 1876,
    "start_time": "2022-10-15T13:00:19.213Z"
   },
   {
    "duration": 126,
    "start_time": "2022-10-15T13:00:21.093Z"
   },
   {
    "duration": 29,
    "start_time": "2022-10-15T13:00:36.134Z"
   },
   {
    "duration": 27,
    "start_time": "2022-10-15T13:00:43.400Z"
   },
   {
    "duration": 1002,
    "start_time": "2022-10-15T13:00:48.903Z"
   },
   {
    "duration": 446,
    "start_time": "2022-10-15T13:00:49.908Z"
   },
   {
    "duration": 13,
    "start_time": "2022-10-15T13:00:50.356Z"
   },
   {
    "duration": 32,
    "start_time": "2022-10-15T13:00:50.371Z"
   },
   {
    "duration": 9,
    "start_time": "2022-10-15T13:00:50.406Z"
   },
   {
    "duration": 37,
    "start_time": "2022-10-15T13:00:50.416Z"
   },
   {
    "duration": 10,
    "start_time": "2022-10-15T13:00:50.455Z"
   },
   {
    "duration": 22,
    "start_time": "2022-10-15T13:00:50.467Z"
   },
   {
    "duration": 21,
    "start_time": "2022-10-15T13:00:50.491Z"
   },
   {
    "duration": 18,
    "start_time": "2022-10-15T13:00:50.514Z"
   },
   {
    "duration": 25,
    "start_time": "2022-10-15T13:00:50.534Z"
   },
   {
    "duration": 23,
    "start_time": "2022-10-15T13:00:50.561Z"
   },
   {
    "duration": 219,
    "start_time": "2022-10-15T13:00:50.586Z"
   },
   {
    "duration": 12,
    "start_time": "2022-10-15T13:00:50.807Z"
   },
   {
    "duration": 70,
    "start_time": "2022-10-15T13:00:50.820Z"
   },
   {
    "duration": 109,
    "start_time": "2022-10-15T13:00:50.892Z"
   },
   {
    "duration": 22,
    "start_time": "2022-10-15T13:00:51.003Z"
   },
   {
    "duration": 1833,
    "start_time": "2022-10-15T13:00:51.026Z"
   },
   {
    "duration": 119,
    "start_time": "2022-10-15T13:00:52.861Z"
   },
   {
    "duration": 40,
    "start_time": "2022-10-15T13:01:01.495Z"
   },
   {
    "duration": 28,
    "start_time": "2022-10-15T13:01:19.944Z"
   },
   {
    "duration": 28,
    "start_time": "2022-10-15T13:01:28.646Z"
   },
   {
    "duration": 39,
    "start_time": "2022-10-15T13:01:33.403Z"
   },
   {
    "duration": 39,
    "start_time": "2022-10-15T13:02:08.112Z"
   },
   {
    "duration": 29,
    "start_time": "2022-10-15T13:02:23.250Z"
   },
   {
    "duration": 21,
    "start_time": "2022-10-15T13:02:34.079Z"
   },
   {
    "duration": 53,
    "start_time": "2022-10-15T13:03:02.985Z"
   },
   {
    "duration": 31,
    "start_time": "2022-10-15T13:03:09.632Z"
   },
   {
    "duration": 42,
    "start_time": "2022-10-15T13:03:11.694Z"
   },
   {
    "duration": 39,
    "start_time": "2022-10-15T13:03:16.775Z"
   },
   {
    "duration": 32,
    "start_time": "2022-10-15T13:03:50.263Z"
   },
   {
    "duration": 1277,
    "start_time": "2022-10-15T13:04:00.083Z"
   },
   {
    "duration": 39,
    "start_time": "2022-10-15T13:04:25.089Z"
   },
   {
    "duration": 1155,
    "start_time": "2022-10-15T13:04:43.943Z"
   },
   {
    "duration": 1125,
    "start_time": "2022-10-15T13:04:51.386Z"
   },
   {
    "duration": 497,
    "start_time": "2022-10-15T13:04:52.513Z"
   },
   {
    "duration": 15,
    "start_time": "2022-10-15T13:04:53.012Z"
   },
   {
    "duration": 53,
    "start_time": "2022-10-15T13:04:53.028Z"
   },
   {
    "duration": 15,
    "start_time": "2022-10-15T13:04:53.083Z"
   },
   {
    "duration": 23,
    "start_time": "2022-10-15T13:04:53.100Z"
   },
   {
    "duration": 8,
    "start_time": "2022-10-15T13:04:53.125Z"
   },
   {
    "duration": 39,
    "start_time": "2022-10-15T13:04:53.135Z"
   },
   {
    "duration": 14,
    "start_time": "2022-10-15T13:04:53.177Z"
   },
   {
    "duration": 23,
    "start_time": "2022-10-15T13:04:53.192Z"
   },
   {
    "duration": 11,
    "start_time": "2022-10-15T13:04:53.216Z"
   },
   {
    "duration": 15,
    "start_time": "2022-10-15T13:04:53.228Z"
   },
   {
    "duration": 257,
    "start_time": "2022-10-15T13:04:53.245Z"
   },
   {
    "duration": 11,
    "start_time": "2022-10-15T13:04:53.504Z"
   },
   {
    "duration": 79,
    "start_time": "2022-10-15T13:04:53.516Z"
   },
   {
    "duration": 125,
    "start_time": "2022-10-15T13:04:53.597Z"
   },
   {
    "duration": 25,
    "start_time": "2022-10-15T13:04:53.724Z"
   },
   {
    "duration": 1814,
    "start_time": "2022-10-15T13:04:53.751Z"
   },
   {
    "duration": 1294,
    "start_time": "2022-10-15T13:04:55.567Z"
   },
   {
    "duration": 24,
    "start_time": "2022-10-15T13:05:07.274Z"
   },
   {
    "duration": 27,
    "start_time": "2022-10-15T13:05:24.547Z"
   },
   {
    "duration": 1043,
    "start_time": "2022-10-15T13:05:50.156Z"
   },
   {
    "duration": 479,
    "start_time": "2022-10-15T13:05:51.201Z"
   },
   {
    "duration": 15,
    "start_time": "2022-10-15T13:05:51.682Z"
   },
   {
    "duration": 38,
    "start_time": "2022-10-15T13:05:51.699Z"
   },
   {
    "duration": 8,
    "start_time": "2022-10-15T13:05:51.739Z"
   },
   {
    "duration": 53,
    "start_time": "2022-10-15T13:05:51.748Z"
   },
   {
    "duration": 7,
    "start_time": "2022-10-15T13:05:51.803Z"
   },
   {
    "duration": 24,
    "start_time": "2022-10-15T13:05:51.812Z"
   },
   {
    "duration": 12,
    "start_time": "2022-10-15T13:05:51.837Z"
   },
   {
    "duration": 30,
    "start_time": "2022-10-15T13:05:51.850Z"
   },
   {
    "duration": 23,
    "start_time": "2022-10-15T13:05:51.881Z"
   },
   {
    "duration": 20,
    "start_time": "2022-10-15T13:05:51.906Z"
   },
   {
    "duration": 230,
    "start_time": "2022-10-15T13:05:51.927Z"
   },
   {
    "duration": 10,
    "start_time": "2022-10-15T13:05:52.159Z"
   },
   {
    "duration": 90,
    "start_time": "2022-10-15T13:05:52.171Z"
   },
   {
    "duration": 95,
    "start_time": "2022-10-15T13:05:52.262Z"
   },
   {
    "duration": 29,
    "start_time": "2022-10-15T13:05:52.358Z"
   },
   {
    "duration": 1768,
    "start_time": "2022-10-15T13:05:52.389Z"
   },
   {
    "duration": 129,
    "start_time": "2022-10-15T13:05:54.159Z"
   },
   {
    "duration": 23,
    "start_time": "2022-10-15T13:06:10.776Z"
   },
   {
    "duration": 45,
    "start_time": "2022-10-15T13:06:16.415Z"
   },
   {
    "duration": 37,
    "start_time": "2022-10-15T13:06:45.828Z"
   },
   {
    "duration": 41,
    "start_time": "2022-10-15T13:06:53.055Z"
   },
   {
    "duration": 1069,
    "start_time": "2022-10-15T13:06:59.047Z"
   },
   {
    "duration": 453,
    "start_time": "2022-10-15T13:07:00.118Z"
   },
   {
    "duration": 15,
    "start_time": "2022-10-15T13:07:00.572Z"
   },
   {
    "duration": 66,
    "start_time": "2022-10-15T13:07:00.589Z"
   },
   {
    "duration": 10,
    "start_time": "2022-10-15T13:07:00.657Z"
   },
   {
    "duration": 58,
    "start_time": "2022-10-15T13:07:00.668Z"
   },
   {
    "duration": 12,
    "start_time": "2022-10-15T13:07:00.728Z"
   },
   {
    "duration": 62,
    "start_time": "2022-10-15T13:07:00.742Z"
   },
   {
    "duration": 38,
    "start_time": "2022-10-15T13:07:00.806Z"
   },
   {
    "duration": 33,
    "start_time": "2022-10-15T13:07:00.847Z"
   },
   {
    "duration": 37,
    "start_time": "2022-10-15T13:07:00.882Z"
   },
   {
    "duration": 51,
    "start_time": "2022-10-15T13:07:00.921Z"
   },
   {
    "duration": 281,
    "start_time": "2022-10-15T13:07:00.974Z"
   },
   {
    "duration": 11,
    "start_time": "2022-10-15T13:07:01.257Z"
   },
   {
    "duration": 119,
    "start_time": "2022-10-15T13:07:01.270Z"
   },
   {
    "duration": 107,
    "start_time": "2022-10-15T13:07:01.391Z"
   },
   {
    "duration": 20,
    "start_time": "2022-10-15T13:07:01.500Z"
   },
   {
    "duration": 1956,
    "start_time": "2022-10-15T13:07:01.522Z"
   },
   {
    "duration": 141,
    "start_time": "2022-10-15T13:07:03.480Z"
   },
   {
    "duration": 43,
    "start_time": "2022-10-15T13:07:09.898Z"
   },
   {
    "duration": 57,
    "start_time": "2022-10-15T13:07:25.500Z"
   },
   {
    "duration": 41,
    "start_time": "2022-10-15T13:07:33.085Z"
   },
   {
    "duration": 58,
    "start_time": "2022-10-15T13:07:50.300Z"
   },
   {
    "duration": 24,
    "start_time": "2022-10-15T13:08:00.211Z"
   },
   {
    "duration": 40,
    "start_time": "2022-10-15T13:08:06.651Z"
   },
   {
    "duration": 1027,
    "start_time": "2022-10-15T13:08:35.174Z"
   },
   {
    "duration": 433,
    "start_time": "2022-10-15T13:08:36.203Z"
   },
   {
    "duration": 13,
    "start_time": "2022-10-15T13:08:36.638Z"
   },
   {
    "duration": 25,
    "start_time": "2022-10-15T13:08:36.653Z"
   },
   {
    "duration": 10,
    "start_time": "2022-10-15T13:08:36.681Z"
   },
   {
    "duration": 35,
    "start_time": "2022-10-15T13:08:36.693Z"
   },
   {
    "duration": 7,
    "start_time": "2022-10-15T13:08:36.730Z"
   },
   {
    "duration": 19,
    "start_time": "2022-10-15T13:08:36.739Z"
   },
   {
    "duration": 9,
    "start_time": "2022-10-15T13:08:36.759Z"
   },
   {
    "duration": 14,
    "start_time": "2022-10-15T13:08:36.784Z"
   },
   {
    "duration": 15,
    "start_time": "2022-10-15T13:08:36.801Z"
   },
   {
    "duration": 15,
    "start_time": "2022-10-15T13:08:36.818Z"
   },
   {
    "duration": 315,
    "start_time": "2022-10-15T13:08:36.835Z"
   },
   {
    "duration": 13,
    "start_time": "2022-10-15T13:08:37.154Z"
   },
   {
    "duration": 94,
    "start_time": "2022-10-15T13:08:37.169Z"
   },
   {
    "duration": 111,
    "start_time": "2022-10-15T13:08:37.265Z"
   },
   {
    "duration": 29,
    "start_time": "2022-10-15T13:08:37.378Z"
   },
   {
    "duration": 1803,
    "start_time": "2022-10-15T13:08:37.408Z"
   },
   {
    "duration": 49,
    "start_time": "2022-10-15T13:08:39.213Z"
   },
   {
    "duration": 1767,
    "start_time": "2022-10-15T13:08:54.884Z"
   },
   {
    "duration": 1725,
    "start_time": "2022-10-15T13:09:07.271Z"
   },
   {
    "duration": 979,
    "start_time": "2022-10-15T13:09:17.003Z"
   },
   {
    "duration": 421,
    "start_time": "2022-10-15T13:09:17.984Z"
   },
   {
    "duration": 12,
    "start_time": "2022-10-15T13:09:18.407Z"
   },
   {
    "duration": 21,
    "start_time": "2022-10-15T13:09:18.420Z"
   },
   {
    "duration": 8,
    "start_time": "2022-10-15T13:09:18.442Z"
   },
   {
    "duration": 23,
    "start_time": "2022-10-15T13:09:18.452Z"
   },
   {
    "duration": 9,
    "start_time": "2022-10-15T13:09:18.477Z"
   },
   {
    "duration": 18,
    "start_time": "2022-10-15T13:09:18.487Z"
   },
   {
    "duration": 14,
    "start_time": "2022-10-15T13:09:18.506Z"
   },
   {
    "duration": 14,
    "start_time": "2022-10-15T13:09:18.522Z"
   },
   {
    "duration": 14,
    "start_time": "2022-10-15T13:09:18.537Z"
   },
   {
    "duration": 13,
    "start_time": "2022-10-15T13:09:18.552Z"
   },
   {
    "duration": 219,
    "start_time": "2022-10-15T13:09:18.566Z"
   },
   {
    "duration": 11,
    "start_time": "2022-10-15T13:09:18.788Z"
   },
   {
    "duration": 60,
    "start_time": "2022-10-15T13:09:18.801Z"
   },
   {
    "duration": 110,
    "start_time": "2022-10-15T13:09:18.862Z"
   },
   {
    "duration": 28,
    "start_time": "2022-10-15T13:09:18.974Z"
   },
   {
    "duration": 1813,
    "start_time": "2022-10-15T13:09:19.004Z"
   },
   {
    "duration": 48,
    "start_time": "2022-10-15T13:09:20.819Z"
   },
   {
    "duration": 13,
    "start_time": "2022-10-15T13:09:54.975Z"
   },
   {
    "duration": 18,
    "start_time": "2022-10-15T13:12:06.915Z"
   },
   {
    "duration": 28,
    "start_time": "2022-10-15T13:12:15.136Z"
   },
   {
    "duration": 49,
    "start_time": "2022-10-15T13:14:17.212Z"
   },
   {
    "duration": 40,
    "start_time": "2022-10-15T13:14:21.704Z"
   },
   {
    "duration": 27,
    "start_time": "2022-10-15T13:15:16.902Z"
   },
   {
    "duration": 44,
    "start_time": "2022-10-15T13:15:21.280Z"
   },
   {
    "duration": 38,
    "start_time": "2022-10-15T13:17:02.225Z"
   },
   {
    "duration": 35,
    "start_time": "2022-10-15T13:18:41.003Z"
   },
   {
    "duration": 15,
    "start_time": "2022-10-15T13:24:49.462Z"
   },
   {
    "duration": 12,
    "start_time": "2022-10-15T13:25:20.931Z"
   },
   {
    "duration": 18,
    "start_time": "2022-10-15T13:27:18.151Z"
   },
   {
    "duration": 21,
    "start_time": "2022-10-15T13:27:19.919Z"
   },
   {
    "duration": 1081,
    "start_time": "2022-10-15T13:30:46.279Z"
   },
   {
    "duration": 416,
    "start_time": "2022-10-15T13:30:47.362Z"
   },
   {
    "duration": 16,
    "start_time": "2022-10-15T13:30:47.780Z"
   },
   {
    "duration": 30,
    "start_time": "2022-10-15T13:30:47.797Z"
   },
   {
    "duration": 8,
    "start_time": "2022-10-15T13:30:47.829Z"
   },
   {
    "duration": 43,
    "start_time": "2022-10-15T13:30:47.839Z"
   },
   {
    "duration": 8,
    "start_time": "2022-10-15T13:30:47.884Z"
   },
   {
    "duration": 32,
    "start_time": "2022-10-15T13:30:47.893Z"
   },
   {
    "duration": 23,
    "start_time": "2022-10-15T13:30:47.927Z"
   },
   {
    "duration": 40,
    "start_time": "2022-10-15T13:30:47.952Z"
   },
   {
    "duration": 37,
    "start_time": "2022-10-15T13:30:47.994Z"
   },
   {
    "duration": 24,
    "start_time": "2022-10-15T13:30:48.032Z"
   },
   {
    "duration": 220,
    "start_time": "2022-10-15T13:30:48.057Z"
   },
   {
    "duration": 12,
    "start_time": "2022-10-15T13:30:48.280Z"
   },
   {
    "duration": 75,
    "start_time": "2022-10-15T13:30:48.294Z"
   },
   {
    "duration": 91,
    "start_time": "2022-10-15T13:30:48.371Z"
   },
   {
    "duration": 30,
    "start_time": "2022-10-15T13:30:48.464Z"
   },
   {
    "duration": 1770,
    "start_time": "2022-10-15T13:30:48.495Z"
   },
   {
    "duration": 46,
    "start_time": "2022-10-15T13:30:50.266Z"
   },
   {
    "duration": 14,
    "start_time": "2022-10-15T13:30:50.314Z"
   },
   {
    "duration": 17,
    "start_time": "2022-10-15T13:30:50.330Z"
   },
   {
    "duration": 39,
    "start_time": "2022-10-15T13:30:50.349Z"
   },
   {
    "duration": 1045,
    "start_time": "2022-10-15T13:31:55.558Z"
   },
   {
    "duration": 480,
    "start_time": "2022-10-15T13:31:56.606Z"
   },
   {
    "duration": 17,
    "start_time": "2022-10-15T13:31:57.088Z"
   },
   {
    "duration": 44,
    "start_time": "2022-10-15T13:31:57.107Z"
   },
   {
    "duration": 11,
    "start_time": "2022-10-15T13:31:57.153Z"
   },
   {
    "duration": 33,
    "start_time": "2022-10-15T13:31:57.184Z"
   },
   {
    "duration": 12,
    "start_time": "2022-10-15T13:31:57.218Z"
   },
   {
    "duration": 23,
    "start_time": "2022-10-15T13:31:57.232Z"
   },
   {
    "duration": 11,
    "start_time": "2022-10-15T13:31:57.257Z"
   },
   {
    "duration": 24,
    "start_time": "2022-10-15T13:31:57.272Z"
   },
   {
    "duration": 18,
    "start_time": "2022-10-15T13:31:57.298Z"
   },
   {
    "duration": 19,
    "start_time": "2022-10-15T13:31:57.317Z"
   },
   {
    "duration": 236,
    "start_time": "2022-10-15T13:31:57.338Z"
   },
   {
    "duration": 13,
    "start_time": "2022-10-15T13:31:57.575Z"
   },
   {
    "duration": 64,
    "start_time": "2022-10-15T13:31:57.590Z"
   },
   {
    "duration": 129,
    "start_time": "2022-10-15T13:31:57.656Z"
   },
   {
    "duration": 23,
    "start_time": "2022-10-15T13:31:57.787Z"
   },
   {
    "duration": 1757,
    "start_time": "2022-10-15T13:31:57.812Z"
   },
   {
    "duration": 50,
    "start_time": "2022-10-15T13:31:59.570Z"
   },
   {
    "duration": 13,
    "start_time": "2022-10-15T13:31:59.622Z"
   },
   {
    "duration": 112,
    "start_time": "2022-10-15T13:31:59.637Z"
   },
   {
    "duration": 0,
    "start_time": "2022-10-15T13:31:59.750Z"
   },
   {
    "duration": 22,
    "start_time": "2022-10-15T13:32:08.079Z"
   },
   {
    "duration": 13,
    "start_time": "2022-10-15T13:32:17.392Z"
   },
   {
    "duration": 1026,
    "start_time": "2022-10-15T13:36:24.795Z"
   },
   {
    "duration": 438,
    "start_time": "2022-10-15T13:36:25.824Z"
   },
   {
    "duration": 13,
    "start_time": "2022-10-15T13:36:26.266Z"
   },
   {
    "duration": 23,
    "start_time": "2022-10-15T13:36:26.281Z"
   },
   {
    "duration": 7,
    "start_time": "2022-10-15T13:36:26.306Z"
   },
   {
    "duration": 19,
    "start_time": "2022-10-15T13:36:26.315Z"
   },
   {
    "duration": 6,
    "start_time": "2022-10-15T13:36:26.335Z"
   },
   {
    "duration": 16,
    "start_time": "2022-10-15T13:36:26.343Z"
   },
   {
    "duration": 30,
    "start_time": "2022-10-15T13:36:26.360Z"
   },
   {
    "duration": 12,
    "start_time": "2022-10-15T13:36:26.391Z"
   },
   {
    "duration": 14,
    "start_time": "2022-10-15T13:36:26.404Z"
   },
   {
    "duration": 15,
    "start_time": "2022-10-15T13:36:26.420Z"
   },
   {
    "duration": 222,
    "start_time": "2022-10-15T13:36:26.438Z"
   },
   {
    "duration": 12,
    "start_time": "2022-10-15T13:36:26.662Z"
   },
   {
    "duration": 67,
    "start_time": "2022-10-15T13:36:26.676Z"
   },
   {
    "duration": 105,
    "start_time": "2022-10-15T13:36:26.745Z"
   },
   {
    "duration": 33,
    "start_time": "2022-10-15T13:36:26.852Z"
   },
   {
    "duration": 1758,
    "start_time": "2022-10-15T13:36:26.886Z"
   },
   {
    "duration": 27,
    "start_time": "2022-10-15T13:36:28.646Z"
   },
   {
    "duration": 11,
    "start_time": "2022-10-15T13:36:28.674Z"
   },
   {
    "duration": 19,
    "start_time": "2022-10-15T13:36:28.686Z"
   },
   {
    "duration": 14,
    "start_time": "2022-10-15T13:36:28.706Z"
   },
   {
    "duration": 21,
    "start_time": "2022-10-15T13:36:28.721Z"
   },
   {
    "duration": 11,
    "start_time": "2022-10-15T13:36:28.743Z"
   },
   {
    "duration": 16,
    "start_time": "2022-10-15T13:38:07.826Z"
   },
   {
    "duration": 18,
    "start_time": "2022-10-15T13:38:29.551Z"
   },
   {
    "duration": 1217,
    "start_time": "2022-10-15T13:42:51.806Z"
   },
   {
    "duration": 12,
    "start_time": "2022-10-15T13:42:54.895Z"
   },
   {
    "duration": 36,
    "start_time": "2022-10-15T13:45:43.195Z"
   },
   {
    "duration": 36,
    "start_time": "2022-10-15T13:47:19.402Z"
   },
   {
    "duration": 28,
    "start_time": "2022-10-15T13:48:04.399Z"
   },
   {
    "duration": 49,
    "start_time": "2022-10-15T13:48:11.627Z"
   },
   {
    "duration": 40,
    "start_time": "2022-10-15T13:48:26.911Z"
   },
   {
    "duration": 404,
    "start_time": "2022-10-15T13:51:04.403Z"
   },
   {
    "duration": 308,
    "start_time": "2022-10-15T13:51:25.071Z"
   },
   {
    "duration": 1033,
    "start_time": "2022-10-15T13:51:37.856Z"
   },
   {
    "duration": 447,
    "start_time": "2022-10-15T13:51:38.891Z"
   },
   {
    "duration": 15,
    "start_time": "2022-10-15T13:51:39.339Z"
   },
   {
    "duration": 23,
    "start_time": "2022-10-15T13:51:39.356Z"
   },
   {
    "duration": 13,
    "start_time": "2022-10-15T13:51:39.381Z"
   },
   {
    "duration": 51,
    "start_time": "2022-10-15T13:51:39.396Z"
   },
   {
    "duration": 8,
    "start_time": "2022-10-15T13:51:39.449Z"
   },
   {
    "duration": 21,
    "start_time": "2022-10-15T13:51:39.459Z"
   },
   {
    "duration": 8,
    "start_time": "2022-10-15T13:51:39.482Z"
   },
   {
    "duration": 11,
    "start_time": "2022-10-15T13:51:39.493Z"
   },
   {
    "duration": 14,
    "start_time": "2022-10-15T13:51:39.506Z"
   },
   {
    "duration": 16,
    "start_time": "2022-10-15T13:51:39.521Z"
   },
   {
    "duration": 240,
    "start_time": "2022-10-15T13:51:39.538Z"
   },
   {
    "duration": 11,
    "start_time": "2022-10-15T13:51:39.780Z"
   },
   {
    "duration": 65,
    "start_time": "2022-10-15T13:51:39.793Z"
   },
   {
    "duration": 113,
    "start_time": "2022-10-15T13:51:39.859Z"
   },
   {
    "duration": 29,
    "start_time": "2022-10-15T13:51:39.973Z"
   },
   {
    "duration": 1784,
    "start_time": "2022-10-15T13:51:40.004Z"
   },
   {
    "duration": 30,
    "start_time": "2022-10-15T13:51:41.790Z"
   },
   {
    "duration": 26,
    "start_time": "2022-10-15T13:51:41.822Z"
   },
   {
    "duration": 48,
    "start_time": "2022-10-15T13:51:41.850Z"
   },
   {
    "duration": 34,
    "start_time": "2022-10-15T13:51:41.900Z"
   },
   {
    "duration": 44,
    "start_time": "2022-10-15T13:51:41.936Z"
   },
   {
    "duration": 23,
    "start_time": "2022-10-15T13:51:41.981Z"
   },
   {
    "duration": 42,
    "start_time": "2022-10-15T13:51:42.006Z"
   },
   {
    "duration": 22,
    "start_time": "2022-10-15T13:51:42.050Z"
   },
   {
    "duration": 436,
    "start_time": "2022-10-15T13:51:42.073Z"
   },
   {
    "duration": 0,
    "start_time": "2022-10-15T13:51:42.511Z"
   },
   {
    "duration": 20,
    "start_time": "2022-10-15T13:52:17.653Z"
   },
   {
    "duration": 5,
    "start_time": "2022-10-15T13:52:29.207Z"
   },
   {
    "duration": 7,
    "start_time": "2022-10-15T13:52:44.690Z"
   },
   {
    "duration": 1246,
    "start_time": "2022-10-15T15:20:16.107Z"
   },
   {
    "duration": 757,
    "start_time": "2022-10-15T15:20:17.355Z"
   },
   {
    "duration": 13,
    "start_time": "2022-10-15T15:20:18.115Z"
   },
   {
    "duration": 27,
    "start_time": "2022-10-15T15:20:18.129Z"
   },
   {
    "duration": 10,
    "start_time": "2022-10-15T15:20:18.159Z"
   },
   {
    "duration": 32,
    "start_time": "2022-10-15T15:20:18.171Z"
   },
   {
    "duration": 24,
    "start_time": "2022-10-15T15:20:18.205Z"
   },
   {
    "duration": 39,
    "start_time": "2022-10-15T15:20:18.233Z"
   },
   {
    "duration": 10,
    "start_time": "2022-10-15T15:20:18.274Z"
   },
   {
    "duration": 20,
    "start_time": "2022-10-15T15:20:18.286Z"
   },
   {
    "duration": 22,
    "start_time": "2022-10-15T15:20:18.309Z"
   },
   {
    "duration": 18,
    "start_time": "2022-10-15T15:20:18.333Z"
   },
   {
    "duration": 354,
    "start_time": "2022-10-15T15:20:18.354Z"
   },
   {
    "duration": 15,
    "start_time": "2022-10-15T15:20:18.712Z"
   },
   {
    "duration": 94,
    "start_time": "2022-10-15T15:20:18.730Z"
   },
   {
    "duration": 143,
    "start_time": "2022-10-15T15:20:18.827Z"
   },
   {
    "duration": 29,
    "start_time": "2022-10-15T15:20:18.972Z"
   },
   {
    "duration": 2191,
    "start_time": "2022-10-15T15:20:19.004Z"
   },
   {
    "duration": 43,
    "start_time": "2022-10-15T15:20:21.197Z"
   },
   {
    "duration": 5,
    "start_time": "2022-10-15T15:20:21.243Z"
   },
   {
    "duration": 39,
    "start_time": "2022-10-15T15:20:21.250Z"
   },
   {
    "duration": 31,
    "start_time": "2022-10-15T15:20:21.291Z"
   },
   {
    "duration": 38,
    "start_time": "2022-10-15T15:20:21.324Z"
   },
   {
    "duration": 15,
    "start_time": "2022-10-15T15:20:21.365Z"
   },
   {
    "duration": 44,
    "start_time": "2022-10-15T15:20:21.382Z"
   },
   {
    "duration": 4,
    "start_time": "2022-10-15T15:20:21.429Z"
   },
   {
    "duration": 62,
    "start_time": "2022-10-15T15:20:21.435Z"
   },
   {
    "duration": 23,
    "start_time": "2022-10-15T15:20:21.499Z"
   },
   {
    "duration": 114,
    "start_time": "2022-10-15T15:31:32.169Z"
   },
   {
    "duration": 10,
    "start_time": "2022-10-15T15:32:13.557Z"
   },
   {
    "duration": 34,
    "start_time": "2022-10-15T15:41:29.957Z"
   },
   {
    "duration": 13,
    "start_time": "2022-10-15T15:42:14.435Z"
   },
   {
    "duration": 36,
    "start_time": "2022-10-15T15:42:26.113Z"
   },
   {
    "duration": 34,
    "start_time": "2022-10-15T15:42:29.596Z"
   },
   {
    "duration": 1098,
    "start_time": "2022-10-15T15:42:34.787Z"
   },
   {
    "duration": 489,
    "start_time": "2022-10-15T15:42:35.887Z"
   },
   {
    "duration": 14,
    "start_time": "2022-10-15T15:42:36.377Z"
   },
   {
    "duration": 24,
    "start_time": "2022-10-15T15:42:36.392Z"
   },
   {
    "duration": 17,
    "start_time": "2022-10-15T15:42:36.419Z"
   },
   {
    "duration": 26,
    "start_time": "2022-10-15T15:42:36.439Z"
   },
   {
    "duration": 8,
    "start_time": "2022-10-15T15:42:36.466Z"
   },
   {
    "duration": 24,
    "start_time": "2022-10-15T15:42:36.476Z"
   },
   {
    "duration": 27,
    "start_time": "2022-10-15T15:42:36.502Z"
   },
   {
    "duration": 14,
    "start_time": "2022-10-15T15:42:36.533Z"
   },
   {
    "duration": 10,
    "start_time": "2022-10-15T15:42:36.549Z"
   },
   {
    "duration": 12,
    "start_time": "2022-10-15T15:42:36.561Z"
   },
   {
    "duration": 301,
    "start_time": "2022-10-15T15:42:36.575Z"
   },
   {
    "duration": 13,
    "start_time": "2022-10-15T15:42:36.879Z"
   },
   {
    "duration": 92,
    "start_time": "2022-10-15T15:42:36.894Z"
   },
   {
    "duration": 128,
    "start_time": "2022-10-15T15:42:36.988Z"
   },
   {
    "duration": 28,
    "start_time": "2022-10-15T15:42:37.122Z"
   },
   {
    "duration": 2251,
    "start_time": "2022-10-15T15:42:37.152Z"
   },
   {
    "duration": 51,
    "start_time": "2022-10-15T15:42:39.405Z"
   },
   {
    "duration": 4,
    "start_time": "2022-10-15T15:42:39.458Z"
   },
   {
    "duration": 25,
    "start_time": "2022-10-15T15:42:39.463Z"
   },
   {
    "duration": 36,
    "start_time": "2022-10-15T15:42:39.490Z"
   },
   {
    "duration": 33,
    "start_time": "2022-10-15T15:42:39.529Z"
   },
   {
    "duration": 15,
    "start_time": "2022-10-15T15:42:39.563Z"
   },
   {
    "duration": 24,
    "start_time": "2022-10-15T15:42:39.579Z"
   },
   {
    "duration": 61,
    "start_time": "2022-10-15T15:42:39.605Z"
   },
   {
    "duration": 28,
    "start_time": "2022-10-15T15:42:39.668Z"
   },
   {
    "duration": 1097,
    "start_time": "2022-10-15T15:47:27.100Z"
   },
   {
    "duration": 499,
    "start_time": "2022-10-15T15:47:28.199Z"
   },
   {
    "duration": 14,
    "start_time": "2022-10-15T15:47:28.700Z"
   },
   {
    "duration": 35,
    "start_time": "2022-10-15T15:47:28.715Z"
   },
   {
    "duration": 10,
    "start_time": "2022-10-15T15:47:28.752Z"
   },
   {
    "duration": 25,
    "start_time": "2022-10-15T15:47:28.763Z"
   },
   {
    "duration": 8,
    "start_time": "2022-10-15T15:47:28.790Z"
   },
   {
    "duration": 31,
    "start_time": "2022-10-15T15:47:28.823Z"
   },
   {
    "duration": 16,
    "start_time": "2022-10-15T15:47:28.856Z"
   },
   {
    "duration": 15,
    "start_time": "2022-10-15T15:47:28.874Z"
   },
   {
    "duration": 37,
    "start_time": "2022-10-15T15:47:28.892Z"
   },
   {
    "duration": 44,
    "start_time": "2022-10-15T15:47:28.932Z"
   },
   {
    "duration": 312,
    "start_time": "2022-10-15T15:47:28.978Z"
   },
   {
    "duration": 12,
    "start_time": "2022-10-15T15:47:29.294Z"
   },
   {
    "duration": 85,
    "start_time": "2022-10-15T15:47:29.308Z"
   },
   {
    "duration": 148,
    "start_time": "2022-10-15T15:47:29.395Z"
   },
   {
    "duration": 25,
    "start_time": "2022-10-15T15:47:29.544Z"
   },
   {
    "duration": 2153,
    "start_time": "2022-10-15T15:47:29.570Z"
   },
   {
    "duration": 38,
    "start_time": "2022-10-15T15:47:31.727Z"
   },
   {
    "duration": 4,
    "start_time": "2022-10-15T15:47:31.767Z"
   },
   {
    "duration": 41,
    "start_time": "2022-10-15T15:47:31.772Z"
   },
   {
    "duration": 43,
    "start_time": "2022-10-15T15:47:31.815Z"
   },
   {
    "duration": 39,
    "start_time": "2022-10-15T15:47:31.860Z"
   },
   {
    "duration": 13,
    "start_time": "2022-10-15T15:47:31.901Z"
   },
   {
    "duration": 44,
    "start_time": "2022-10-15T15:47:31.916Z"
   },
   {
    "duration": 62,
    "start_time": "2022-10-15T15:47:31.962Z"
   },
   {
    "duration": 836,
    "start_time": "2022-10-15T15:47:32.026Z"
   },
   {
    "duration": 876,
    "start_time": "2022-10-15T15:48:19.262Z"
   },
   {
    "duration": 681,
    "start_time": "2022-10-15T15:48:27.487Z"
   },
   {
    "duration": 679,
    "start_time": "2022-10-15T15:49:30.755Z"
   },
   {
    "duration": 54,
    "start_time": "2022-10-15T15:51:44.108Z"
   },
   {
    "duration": 1135,
    "start_time": "2022-10-15T15:51:49.656Z"
   },
   {
    "duration": 459,
    "start_time": "2022-10-15T15:51:50.793Z"
   },
   {
    "duration": 13,
    "start_time": "2022-10-15T15:51:51.253Z"
   },
   {
    "duration": 34,
    "start_time": "2022-10-15T15:51:51.268Z"
   },
   {
    "duration": 9,
    "start_time": "2022-10-15T15:51:51.304Z"
   },
   {
    "duration": 35,
    "start_time": "2022-10-15T15:51:51.314Z"
   },
   {
    "duration": 13,
    "start_time": "2022-10-15T15:51:51.351Z"
   },
   {
    "duration": 20,
    "start_time": "2022-10-15T15:51:51.366Z"
   },
   {
    "duration": 21,
    "start_time": "2022-10-15T15:51:51.388Z"
   },
   {
    "duration": 15,
    "start_time": "2022-10-15T15:51:51.412Z"
   },
   {
    "duration": 35,
    "start_time": "2022-10-15T15:51:51.429Z"
   },
   {
    "duration": 44,
    "start_time": "2022-10-15T15:51:51.466Z"
   },
   {
    "duration": 252,
    "start_time": "2022-10-15T15:51:51.512Z"
   },
   {
    "duration": 12,
    "start_time": "2022-10-15T15:51:51.766Z"
   },
   {
    "duration": 103,
    "start_time": "2022-10-15T15:51:51.780Z"
   },
   {
    "duration": 114,
    "start_time": "2022-10-15T15:51:51.885Z"
   },
   {
    "duration": 34,
    "start_time": "2022-10-15T15:51:52.001Z"
   },
   {
    "duration": 2190,
    "start_time": "2022-10-15T15:51:52.038Z"
   },
   {
    "duration": 31,
    "start_time": "2022-10-15T15:51:54.232Z"
   },
   {
    "duration": 4,
    "start_time": "2022-10-15T15:51:54.265Z"
   },
   {
    "duration": 43,
    "start_time": "2022-10-15T15:51:54.271Z"
   },
   {
    "duration": 17,
    "start_time": "2022-10-15T15:51:54.331Z"
   },
   {
    "duration": 26,
    "start_time": "2022-10-15T15:51:54.350Z"
   },
   {
    "duration": 15,
    "start_time": "2022-10-15T15:51:54.378Z"
   },
   {
    "duration": 44,
    "start_time": "2022-10-15T15:51:54.395Z"
   },
   {
    "duration": 43,
    "start_time": "2022-10-15T15:51:54.442Z"
   },
   {
    "duration": 61,
    "start_time": "2022-10-15T15:51:54.486Z"
   },
   {
    "duration": 38,
    "start_time": "2022-10-15T15:52:50.695Z"
   },
   {
    "duration": 40,
    "start_time": "2022-10-15T15:54:09.689Z"
   },
   {
    "duration": 42,
    "start_time": "2022-10-15T15:54:57.567Z"
   },
   {
    "duration": 1156,
    "start_time": "2022-10-15T15:55:08.807Z"
   },
   {
    "duration": 566,
    "start_time": "2022-10-15T15:55:09.965Z"
   },
   {
    "duration": 20,
    "start_time": "2022-10-15T15:55:10.532Z"
   },
   {
    "duration": 27,
    "start_time": "2022-10-15T15:55:10.555Z"
   },
   {
    "duration": 10,
    "start_time": "2022-10-15T15:55:10.584Z"
   },
   {
    "duration": 63,
    "start_time": "2022-10-15T15:55:10.596Z"
   },
   {
    "duration": 11,
    "start_time": "2022-10-15T15:55:10.662Z"
   },
   {
    "duration": 47,
    "start_time": "2022-10-15T15:55:10.675Z"
   },
   {
    "duration": 12,
    "start_time": "2022-10-15T15:55:10.725Z"
   },
   {
    "duration": 27,
    "start_time": "2022-10-15T15:55:10.740Z"
   },
   {
    "duration": 17,
    "start_time": "2022-10-15T15:55:10.769Z"
   },
   {
    "duration": 34,
    "start_time": "2022-10-15T15:55:10.788Z"
   },
   {
    "duration": 267,
    "start_time": "2022-10-15T15:55:10.825Z"
   },
   {
    "duration": 13,
    "start_time": "2022-10-15T15:55:11.095Z"
   },
   {
    "duration": 79,
    "start_time": "2022-10-15T15:55:11.110Z"
   },
   {
    "duration": 131,
    "start_time": "2022-10-15T15:55:11.191Z"
   },
   {
    "duration": 25,
    "start_time": "2022-10-15T15:55:11.325Z"
   },
   {
    "duration": 2240,
    "start_time": "2022-10-15T15:55:11.352Z"
   },
   {
    "duration": 39,
    "start_time": "2022-10-15T15:55:13.594Z"
   },
   {
    "duration": 6,
    "start_time": "2022-10-15T15:55:13.635Z"
   },
   {
    "duration": 38,
    "start_time": "2022-10-15T15:55:13.643Z"
   },
   {
    "duration": 38,
    "start_time": "2022-10-15T15:55:13.683Z"
   },
   {
    "duration": 29,
    "start_time": "2022-10-15T15:55:13.723Z"
   },
   {
    "duration": 18,
    "start_time": "2022-10-15T15:55:13.754Z"
   },
   {
    "duration": 25,
    "start_time": "2022-10-15T15:55:13.774Z"
   },
   {
    "duration": 69,
    "start_time": "2022-10-15T15:55:13.801Z"
   },
   {
    "duration": 42,
    "start_time": "2022-10-15T15:55:34.441Z"
   },
   {
    "duration": 25,
    "start_time": "2022-10-15T15:55:51.166Z"
   },
   {
    "duration": 36,
    "start_time": "2022-10-15T15:56:08.352Z"
   },
   {
    "duration": 2,
    "start_time": "2022-10-15T16:01:07.036Z"
   },
   {
    "duration": 278,
    "start_time": "2022-10-15T16:01:55.653Z"
   },
   {
    "duration": 3,
    "start_time": "2022-10-15T16:02:19.042Z"
   },
   {
    "duration": 3,
    "start_time": "2022-10-15T16:02:25.938Z"
   },
   {
    "duration": 200,
    "start_time": "2022-10-15T16:02:27.997Z"
   },
   {
    "duration": 3,
    "start_time": "2022-10-15T16:03:06.237Z"
   },
   {
    "duration": 327,
    "start_time": "2022-10-15T16:03:08.352Z"
   },
   {
    "duration": 3,
    "start_time": "2022-10-15T16:03:15.644Z"
   },
   {
    "duration": 5,
    "start_time": "2022-10-15T16:04:18.882Z"
   },
   {
    "duration": 5,
    "start_time": "2022-10-15T16:04:36.731Z"
   },
   {
    "duration": 3,
    "start_time": "2022-10-15T16:05:47.351Z"
   },
   {
    "duration": 254,
    "start_time": "2022-10-15T16:05:48.896Z"
   },
   {
    "duration": 3,
    "start_time": "2022-10-15T16:07:12.756Z"
   },
   {
    "duration": 4,
    "start_time": "2022-10-15T16:07:15.247Z"
   },
   {
    "duration": 23,
    "start_time": "2022-10-15T16:07:23.135Z"
   },
   {
    "duration": 3,
    "start_time": "2022-10-15T16:07:32.344Z"
   },
   {
    "duration": 24,
    "start_time": "2022-10-15T16:07:33.775Z"
   },
   {
    "duration": 1159,
    "start_time": "2022-10-16T08:09:34.305Z"
   },
   {
    "duration": 1343,
    "start_time": "2022-10-16T08:09:35.466Z"
   },
   {
    "duration": 11,
    "start_time": "2022-10-16T08:09:36.810Z"
   },
   {
    "duration": 42,
    "start_time": "2022-10-16T08:09:36.823Z"
   },
   {
    "duration": 10,
    "start_time": "2022-10-16T08:09:36.867Z"
   },
   {
    "duration": 43,
    "start_time": "2022-10-16T08:09:36.879Z"
   },
   {
    "duration": 14,
    "start_time": "2022-10-16T08:09:36.924Z"
   },
   {
    "duration": 37,
    "start_time": "2022-10-16T08:09:36.940Z"
   },
   {
    "duration": 11,
    "start_time": "2022-10-16T08:09:36.979Z"
   },
   {
    "duration": 15,
    "start_time": "2022-10-16T08:09:36.992Z"
   },
   {
    "duration": 19,
    "start_time": "2022-10-16T08:09:37.008Z"
   },
   {
    "duration": 36,
    "start_time": "2022-10-16T08:09:37.029Z"
   },
   {
    "duration": 218,
    "start_time": "2022-10-16T08:09:37.067Z"
   },
   {
    "duration": 11,
    "start_time": "2022-10-16T08:09:37.287Z"
   },
   {
    "duration": 72,
    "start_time": "2022-10-16T08:09:37.299Z"
   },
   {
    "duration": 96,
    "start_time": "2022-10-16T08:09:37.372Z"
   },
   {
    "duration": 20,
    "start_time": "2022-10-16T08:09:37.469Z"
   },
   {
    "duration": 1772,
    "start_time": "2022-10-16T08:09:37.490Z"
   },
   {
    "duration": 24,
    "start_time": "2022-10-16T08:09:39.264Z"
   },
   {
    "duration": 3,
    "start_time": "2022-10-16T08:09:39.289Z"
   },
   {
    "duration": 43,
    "start_time": "2022-10-16T08:09:39.294Z"
   },
   {
    "duration": 13,
    "start_time": "2022-10-16T08:09:39.338Z"
   },
   {
    "duration": 46,
    "start_time": "2022-10-16T08:09:39.352Z"
   },
   {
    "duration": 24,
    "start_time": "2022-10-16T08:09:39.400Z"
   },
   {
    "duration": 47,
    "start_time": "2022-10-16T08:09:39.425Z"
   },
   {
    "duration": 44,
    "start_time": "2022-10-16T08:09:39.473Z"
   },
   {
    "duration": 79,
    "start_time": "2022-10-16T08:09:39.518Z"
   },
   {
    "duration": 4,
    "start_time": "2022-10-16T08:17:03.616Z"
   },
   {
    "duration": 18,
    "start_time": "2022-10-16T08:17:05.673Z"
   },
   {
    "duration": 3,
    "start_time": "2022-10-16T08:18:18.221Z"
   },
   {
    "duration": 15,
    "start_time": "2022-10-16T08:18:22.492Z"
   },
   {
    "duration": 988,
    "start_time": "2022-10-16T08:19:14.539Z"
   },
   {
    "duration": 480,
    "start_time": "2022-10-16T08:19:15.529Z"
   },
   {
    "duration": 16,
    "start_time": "2022-10-16T08:19:16.011Z"
   },
   {
    "duration": 38,
    "start_time": "2022-10-16T08:19:16.030Z"
   },
   {
    "duration": 15,
    "start_time": "2022-10-16T08:19:16.070Z"
   },
   {
    "duration": 46,
    "start_time": "2022-10-16T08:19:16.087Z"
   },
   {
    "duration": 17,
    "start_time": "2022-10-16T08:19:16.136Z"
   },
   {
    "duration": 31,
    "start_time": "2022-10-16T08:19:16.155Z"
   },
   {
    "duration": 15,
    "start_time": "2022-10-16T08:19:16.188Z"
   },
   {
    "duration": 22,
    "start_time": "2022-10-16T08:19:16.206Z"
   },
   {
    "duration": 13,
    "start_time": "2022-10-16T08:19:16.230Z"
   },
   {
    "duration": 14,
    "start_time": "2022-10-16T08:19:16.246Z"
   },
   {
    "duration": 221,
    "start_time": "2022-10-16T08:19:16.262Z"
   },
   {
    "duration": 11,
    "start_time": "2022-10-16T08:19:16.485Z"
   },
   {
    "duration": 67,
    "start_time": "2022-10-16T08:19:16.498Z"
   },
   {
    "duration": 100,
    "start_time": "2022-10-16T08:19:16.567Z"
   },
   {
    "duration": 20,
    "start_time": "2022-10-16T08:19:16.669Z"
   },
   {
    "duration": 1755,
    "start_time": "2022-10-16T08:19:16.690Z"
   },
   {
    "duration": 23,
    "start_time": "2022-10-16T08:19:18.446Z"
   },
   {
    "duration": 3,
    "start_time": "2022-10-16T08:19:18.471Z"
   },
   {
    "duration": 20,
    "start_time": "2022-10-16T08:19:18.475Z"
   },
   {
    "duration": 27,
    "start_time": "2022-10-16T08:19:18.497Z"
   },
   {
    "duration": 21,
    "start_time": "2022-10-16T08:19:18.525Z"
   },
   {
    "duration": 13,
    "start_time": "2022-10-16T08:19:18.547Z"
   },
   {
    "duration": 22,
    "start_time": "2022-10-16T08:19:18.562Z"
   },
   {
    "duration": 47,
    "start_time": "2022-10-16T08:19:18.585Z"
   },
   {
    "duration": 3,
    "start_time": "2022-10-16T08:19:18.634Z"
   },
   {
    "duration": 23,
    "start_time": "2022-10-16T08:19:18.640Z"
   },
   {
    "duration": 80,
    "start_time": "2022-10-16T08:21:28.811Z"
   },
   {
    "duration": 3,
    "start_time": "2022-10-16T08:22:12.500Z"
   },
   {
    "duration": 4,
    "start_time": "2022-10-16T08:22:16.551Z"
   },
   {
    "duration": 1021,
    "start_time": "2022-10-16T08:22:33.340Z"
   },
   {
    "duration": 407,
    "start_time": "2022-10-16T08:22:34.363Z"
   },
   {
    "duration": 10,
    "start_time": "2022-10-16T08:22:34.772Z"
   },
   {
    "duration": 21,
    "start_time": "2022-10-16T08:22:34.784Z"
   },
   {
    "duration": 7,
    "start_time": "2022-10-16T08:22:34.806Z"
   },
   {
    "duration": 19,
    "start_time": "2022-10-16T08:22:34.815Z"
   },
   {
    "duration": 5,
    "start_time": "2022-10-16T08:22:34.836Z"
   },
   {
    "duration": 18,
    "start_time": "2022-10-16T08:22:34.843Z"
   },
   {
    "duration": 7,
    "start_time": "2022-10-16T08:22:34.862Z"
   },
   {
    "duration": 13,
    "start_time": "2022-10-16T08:22:34.871Z"
   },
   {
    "duration": 13,
    "start_time": "2022-10-16T08:22:34.885Z"
   },
   {
    "duration": 26,
    "start_time": "2022-10-16T08:22:34.899Z"
   },
   {
    "duration": 210,
    "start_time": "2022-10-16T08:22:34.926Z"
   },
   {
    "duration": 11,
    "start_time": "2022-10-16T08:22:35.138Z"
   },
   {
    "duration": 59,
    "start_time": "2022-10-16T08:22:35.150Z"
   },
   {
    "duration": 98,
    "start_time": "2022-10-16T08:22:35.210Z"
   },
   {
    "duration": 26,
    "start_time": "2022-10-16T08:22:35.310Z"
   },
   {
    "duration": 1711,
    "start_time": "2022-10-16T08:22:35.337Z"
   },
   {
    "duration": 23,
    "start_time": "2022-10-16T08:22:37.050Z"
   },
   {
    "duration": 4,
    "start_time": "2022-10-16T08:22:37.075Z"
   },
   {
    "duration": 26,
    "start_time": "2022-10-16T08:22:37.080Z"
   },
   {
    "duration": 19,
    "start_time": "2022-10-16T08:22:37.107Z"
   },
   {
    "duration": 20,
    "start_time": "2022-10-16T08:22:37.128Z"
   },
   {
    "duration": 11,
    "start_time": "2022-10-16T08:22:37.149Z"
   },
   {
    "duration": 16,
    "start_time": "2022-10-16T08:22:37.161Z"
   },
   {
    "duration": 62,
    "start_time": "2022-10-16T08:22:37.178Z"
   },
   {
    "duration": 3,
    "start_time": "2022-10-16T08:22:37.241Z"
   },
   {
    "duration": 18,
    "start_time": "2022-10-16T08:22:37.247Z"
   },
   {
    "duration": 3,
    "start_time": "2022-10-16T08:23:14.510Z"
   },
   {
    "duration": 3,
    "start_time": "2022-10-16T08:27:35.492Z"
   },
   {
    "duration": 11,
    "start_time": "2022-10-16T08:28:57.681Z"
   },
   {
    "duration": 18,
    "start_time": "2022-10-16T08:29:01.205Z"
   },
   {
    "duration": 954,
    "start_time": "2022-10-16T08:29:37.060Z"
   },
   {
    "duration": 402,
    "start_time": "2022-10-16T08:29:38.015Z"
   },
   {
    "duration": 12,
    "start_time": "2022-10-16T08:29:38.418Z"
   },
   {
    "duration": 22,
    "start_time": "2022-10-16T08:29:38.432Z"
   },
   {
    "duration": 8,
    "start_time": "2022-10-16T08:29:38.456Z"
   },
   {
    "duration": 20,
    "start_time": "2022-10-16T08:29:38.466Z"
   },
   {
    "duration": 7,
    "start_time": "2022-10-16T08:29:38.487Z"
   },
   {
    "duration": 41,
    "start_time": "2022-10-16T08:29:38.495Z"
   },
   {
    "duration": 7,
    "start_time": "2022-10-16T08:29:38.538Z"
   },
   {
    "duration": 12,
    "start_time": "2022-10-16T08:29:38.547Z"
   },
   {
    "duration": 11,
    "start_time": "2022-10-16T08:29:38.560Z"
   },
   {
    "duration": 13,
    "start_time": "2022-10-16T08:29:38.572Z"
   },
   {
    "duration": 228,
    "start_time": "2022-10-16T08:29:38.587Z"
   },
   {
    "duration": 12,
    "start_time": "2022-10-16T08:29:38.818Z"
   },
   {
    "duration": 68,
    "start_time": "2022-10-16T08:29:38.832Z"
   },
   {
    "duration": 101,
    "start_time": "2022-10-16T08:29:38.902Z"
   },
   {
    "duration": 26,
    "start_time": "2022-10-16T08:29:39.005Z"
   },
   {
    "duration": 1788,
    "start_time": "2022-10-16T08:29:39.033Z"
   },
   {
    "duration": 27,
    "start_time": "2022-10-16T08:29:40.823Z"
   },
   {
    "duration": 3,
    "start_time": "2022-10-16T08:29:40.852Z"
   },
   {
    "duration": 22,
    "start_time": "2022-10-16T08:29:40.857Z"
   },
   {
    "duration": 13,
    "start_time": "2022-10-16T08:29:40.880Z"
   },
   {
    "duration": 38,
    "start_time": "2022-10-16T08:29:40.894Z"
   },
   {
    "duration": 11,
    "start_time": "2022-10-16T08:29:40.934Z"
   },
   {
    "duration": 17,
    "start_time": "2022-10-16T08:29:40.946Z"
   },
   {
    "duration": 31,
    "start_time": "2022-10-16T08:29:40.964Z"
   },
   {
    "duration": 2,
    "start_time": "2022-10-16T08:29:40.997Z"
   },
   {
    "duration": 24,
    "start_time": "2022-10-16T08:29:41.000Z"
   },
   {
    "duration": 21,
    "start_time": "2022-10-16T08:29:41.025Z"
   },
   {
    "duration": 10,
    "start_time": "2022-10-16T08:29:41.047Z"
   },
   {
    "duration": 983,
    "start_time": "2022-10-16T08:29:54.719Z"
   },
   {
    "duration": 412,
    "start_time": "2022-10-16T08:29:55.704Z"
   },
   {
    "duration": 13,
    "start_time": "2022-10-16T08:29:56.118Z"
   },
   {
    "duration": 28,
    "start_time": "2022-10-16T08:29:56.133Z"
   },
   {
    "duration": 21,
    "start_time": "2022-10-16T08:29:56.164Z"
   },
   {
    "duration": 25,
    "start_time": "2022-10-16T08:29:56.187Z"
   },
   {
    "duration": 9,
    "start_time": "2022-10-16T08:29:56.214Z"
   },
   {
    "duration": 31,
    "start_time": "2022-10-16T08:29:56.225Z"
   },
   {
    "duration": 7,
    "start_time": "2022-10-16T08:29:56.257Z"
   },
   {
    "duration": 16,
    "start_time": "2022-10-16T08:29:56.266Z"
   },
   {
    "duration": 29,
    "start_time": "2022-10-16T08:29:56.283Z"
   },
   {
    "duration": 15,
    "start_time": "2022-10-16T08:29:56.313Z"
   },
   {
    "duration": 200,
    "start_time": "2022-10-16T08:29:56.329Z"
   },
   {
    "duration": 10,
    "start_time": "2022-10-16T08:29:56.531Z"
   },
   {
    "duration": 62,
    "start_time": "2022-10-16T08:29:56.542Z"
   },
   {
    "duration": 83,
    "start_time": "2022-10-16T08:29:56.606Z"
   },
   {
    "duration": 20,
    "start_time": "2022-10-16T08:29:56.690Z"
   },
   {
    "duration": 1686,
    "start_time": "2022-10-16T08:29:56.721Z"
   },
   {
    "duration": 28,
    "start_time": "2022-10-16T08:29:58.409Z"
   },
   {
    "duration": 3,
    "start_time": "2022-10-16T08:29:58.438Z"
   },
   {
    "duration": 18,
    "start_time": "2022-10-16T08:29:58.443Z"
   },
   {
    "duration": 12,
    "start_time": "2022-10-16T08:29:58.462Z"
   },
   {
    "duration": 20,
    "start_time": "2022-10-16T08:29:58.476Z"
   },
   {
    "duration": 30,
    "start_time": "2022-10-16T08:29:58.497Z"
   },
   {
    "duration": 20,
    "start_time": "2022-10-16T08:29:58.528Z"
   },
   {
    "duration": 30,
    "start_time": "2022-10-16T08:29:58.549Z"
   },
   {
    "duration": 3,
    "start_time": "2022-10-16T08:29:58.580Z"
   },
   {
    "duration": 9,
    "start_time": "2022-10-16T08:29:58.584Z"
   },
   {
    "duration": 12,
    "start_time": "2022-10-16T08:29:58.594Z"
   },
   {
    "duration": 30,
    "start_time": "2022-10-16T08:29:58.607Z"
   },
   {
    "duration": 957,
    "start_time": "2022-10-16T08:31:54.984Z"
   },
   {
    "duration": 439,
    "start_time": "2022-10-16T08:31:55.942Z"
   },
   {
    "duration": 13,
    "start_time": "2022-10-16T08:31:56.383Z"
   },
   {
    "duration": 27,
    "start_time": "2022-10-16T08:31:56.398Z"
   },
   {
    "duration": 9,
    "start_time": "2022-10-16T08:31:56.426Z"
   },
   {
    "duration": 26,
    "start_time": "2022-10-16T08:31:56.436Z"
   },
   {
    "duration": 7,
    "start_time": "2022-10-16T08:31:56.463Z"
   },
   {
    "duration": 22,
    "start_time": "2022-10-16T08:31:56.472Z"
   },
   {
    "duration": 7,
    "start_time": "2022-10-16T08:31:56.496Z"
   },
   {
    "duration": 21,
    "start_time": "2022-10-16T08:31:56.506Z"
   },
   {
    "duration": 10,
    "start_time": "2022-10-16T08:31:56.529Z"
   },
   {
    "duration": 10,
    "start_time": "2022-10-16T08:31:56.540Z"
   },
   {
    "duration": 212,
    "start_time": "2022-10-16T08:31:56.552Z"
   },
   {
    "duration": 10,
    "start_time": "2022-10-16T08:31:56.766Z"
   },
   {
    "duration": 70,
    "start_time": "2022-10-16T08:31:56.778Z"
   },
   {
    "duration": 97,
    "start_time": "2022-10-16T08:31:56.849Z"
   },
   {
    "duration": 21,
    "start_time": "2022-10-16T08:31:56.947Z"
   },
   {
    "duration": 1703,
    "start_time": "2022-10-16T08:31:56.969Z"
   },
   {
    "duration": 22,
    "start_time": "2022-10-16T08:31:58.674Z"
   },
   {
    "duration": 3,
    "start_time": "2022-10-16T08:31:58.698Z"
   },
   {
    "duration": 28,
    "start_time": "2022-10-16T08:31:58.702Z"
   },
   {
    "duration": 13,
    "start_time": "2022-10-16T08:31:58.731Z"
   },
   {
    "duration": 20,
    "start_time": "2022-10-16T08:31:58.745Z"
   },
   {
    "duration": 10,
    "start_time": "2022-10-16T08:31:58.766Z"
   },
   {
    "duration": 15,
    "start_time": "2022-10-16T08:31:58.777Z"
   },
   {
    "duration": 40,
    "start_time": "2022-10-16T08:31:58.793Z"
   },
   {
    "duration": 3,
    "start_time": "2022-10-16T08:31:58.834Z"
   },
   {
    "duration": 10,
    "start_time": "2022-10-16T08:31:58.839Z"
   },
   {
    "duration": 26,
    "start_time": "2022-10-16T08:31:58.851Z"
   },
   {
    "duration": 20,
    "start_time": "2022-10-16T08:33:07.379Z"
   },
   {
    "duration": 968,
    "start_time": "2022-10-16T08:33:42.755Z"
   },
   {
    "duration": 402,
    "start_time": "2022-10-16T08:33:43.724Z"
   },
   {
    "duration": 12,
    "start_time": "2022-10-16T08:33:44.127Z"
   },
   {
    "duration": 21,
    "start_time": "2022-10-16T08:33:44.140Z"
   },
   {
    "duration": 7,
    "start_time": "2022-10-16T08:33:44.162Z"
   },
   {
    "duration": 21,
    "start_time": "2022-10-16T08:33:44.171Z"
   },
   {
    "duration": 6,
    "start_time": "2022-10-16T08:33:44.194Z"
   },
   {
    "duration": 32,
    "start_time": "2022-10-16T08:33:44.201Z"
   },
   {
    "duration": 7,
    "start_time": "2022-10-16T08:33:44.235Z"
   },
   {
    "duration": 14,
    "start_time": "2022-10-16T08:33:44.244Z"
   },
   {
    "duration": 13,
    "start_time": "2022-10-16T08:33:44.260Z"
   },
   {
    "duration": 12,
    "start_time": "2022-10-16T08:33:44.274Z"
   },
   {
    "duration": 212,
    "start_time": "2022-10-16T08:33:44.287Z"
   },
   {
    "duration": 11,
    "start_time": "2022-10-16T08:33:44.501Z"
   },
   {
    "duration": 63,
    "start_time": "2022-10-16T08:33:44.513Z"
   },
   {
    "duration": 96,
    "start_time": "2022-10-16T08:33:44.578Z"
   },
   {
    "duration": 19,
    "start_time": "2022-10-16T08:33:44.676Z"
   },
   {
    "duration": 1774,
    "start_time": "2022-10-16T08:33:44.697Z"
   },
   {
    "duration": 26,
    "start_time": "2022-10-16T08:33:46.473Z"
   },
   {
    "duration": 4,
    "start_time": "2022-10-16T08:33:46.500Z"
   },
   {
    "duration": 34,
    "start_time": "2022-10-16T08:33:46.506Z"
   },
   {
    "duration": 13,
    "start_time": "2022-10-16T08:33:46.541Z"
   },
   {
    "duration": 20,
    "start_time": "2022-10-16T08:33:46.556Z"
   },
   {
    "duration": 11,
    "start_time": "2022-10-16T08:33:46.577Z"
   },
   {
    "duration": 39,
    "start_time": "2022-10-16T08:33:46.589Z"
   },
   {
    "duration": 20,
    "start_time": "2022-10-16T08:33:46.629Z"
   },
   {
    "duration": 2,
    "start_time": "2022-10-16T08:33:46.651Z"
   },
   {
    "duration": 19,
    "start_time": "2022-10-16T08:33:46.656Z"
   },
   {
    "duration": 21,
    "start_time": "2022-10-16T08:33:46.676Z"
   },
   {
    "duration": 1015,
    "start_time": "2022-10-16T08:35:22.837Z"
   },
   {
    "duration": 429,
    "start_time": "2022-10-16T08:35:23.854Z"
   },
   {
    "duration": 12,
    "start_time": "2022-10-16T08:35:24.284Z"
   },
   {
    "duration": 40,
    "start_time": "2022-10-16T08:35:24.298Z"
   },
   {
    "duration": 9,
    "start_time": "2022-10-16T08:35:24.340Z"
   },
   {
    "duration": 40,
    "start_time": "2022-10-16T08:35:24.350Z"
   },
   {
    "duration": 7,
    "start_time": "2022-10-16T08:35:24.391Z"
   },
   {
    "duration": 32,
    "start_time": "2022-10-16T08:35:24.400Z"
   },
   {
    "duration": 7,
    "start_time": "2022-10-16T08:35:24.434Z"
   },
   {
    "duration": 28,
    "start_time": "2022-10-16T08:35:24.443Z"
   },
   {
    "duration": 16,
    "start_time": "2022-10-16T08:35:24.473Z"
   },
   {
    "duration": 23,
    "start_time": "2022-10-16T08:35:24.490Z"
   },
   {
    "duration": 218,
    "start_time": "2022-10-16T08:35:24.515Z"
   },
   {
    "duration": 11,
    "start_time": "2022-10-16T08:35:24.736Z"
   },
   {
    "duration": 72,
    "start_time": "2022-10-16T08:35:24.749Z"
   },
   {
    "duration": 99,
    "start_time": "2022-10-16T08:35:24.823Z"
   },
   {
    "duration": 22,
    "start_time": "2022-10-16T08:35:24.923Z"
   },
   {
    "duration": 1735,
    "start_time": "2022-10-16T08:35:24.946Z"
   },
   {
    "duration": 27,
    "start_time": "2022-10-16T08:35:26.683Z"
   },
   {
    "duration": 10,
    "start_time": "2022-10-16T08:35:26.712Z"
   },
   {
    "duration": 21,
    "start_time": "2022-10-16T08:35:26.724Z"
   },
   {
    "duration": 13,
    "start_time": "2022-10-16T08:35:26.746Z"
   },
   {
    "duration": 22,
    "start_time": "2022-10-16T08:35:26.760Z"
   },
   {
    "duration": 10,
    "start_time": "2022-10-16T08:35:26.784Z"
   },
   {
    "duration": 37,
    "start_time": "2022-10-16T08:35:26.796Z"
   },
   {
    "duration": 18,
    "start_time": "2022-10-16T08:35:26.835Z"
   },
   {
    "duration": 3,
    "start_time": "2022-10-16T08:35:26.855Z"
   },
   {
    "duration": 27,
    "start_time": "2022-10-16T08:35:26.859Z"
   },
   {
    "duration": 17,
    "start_time": "2022-10-16T08:45:57.203Z"
   },
   {
    "duration": 971,
    "start_time": "2022-10-16T08:47:29.845Z"
   },
   {
    "duration": 419,
    "start_time": "2022-10-16T08:47:30.818Z"
   },
   {
    "duration": 11,
    "start_time": "2022-10-16T08:47:31.239Z"
   },
   {
    "duration": 29,
    "start_time": "2022-10-16T08:47:31.251Z"
   },
   {
    "duration": 7,
    "start_time": "2022-10-16T08:47:31.282Z"
   },
   {
    "duration": 33,
    "start_time": "2022-10-16T08:47:31.290Z"
   },
   {
    "duration": 6,
    "start_time": "2022-10-16T08:47:31.324Z"
   },
   {
    "duration": 26,
    "start_time": "2022-10-16T08:47:31.332Z"
   },
   {
    "duration": 8,
    "start_time": "2022-10-16T08:47:31.360Z"
   },
   {
    "duration": 13,
    "start_time": "2022-10-16T08:47:31.369Z"
   },
   {
    "duration": 12,
    "start_time": "2022-10-16T08:47:31.383Z"
   },
   {
    "duration": 16,
    "start_time": "2022-10-16T08:47:31.396Z"
   },
   {
    "duration": 212,
    "start_time": "2022-10-16T08:47:31.413Z"
   },
   {
    "duration": 10,
    "start_time": "2022-10-16T08:47:31.628Z"
   },
   {
    "duration": 64,
    "start_time": "2022-10-16T08:47:31.639Z"
   },
   {
    "duration": 87,
    "start_time": "2022-10-16T08:47:31.705Z"
   },
   {
    "duration": 31,
    "start_time": "2022-10-16T08:47:31.794Z"
   },
   {
    "duration": 1628,
    "start_time": "2022-10-16T08:47:31.826Z"
   },
   {
    "duration": 27,
    "start_time": "2022-10-16T08:47:33.456Z"
   },
   {
    "duration": 3,
    "start_time": "2022-10-16T08:47:33.484Z"
   },
   {
    "duration": 24,
    "start_time": "2022-10-16T08:47:33.489Z"
   },
   {
    "duration": 14,
    "start_time": "2022-10-16T08:47:33.515Z"
   },
   {
    "duration": 23,
    "start_time": "2022-10-16T08:47:33.531Z"
   },
   {
    "duration": 11,
    "start_time": "2022-10-16T08:47:33.555Z"
   },
   {
    "duration": 16,
    "start_time": "2022-10-16T08:47:33.567Z"
   },
   {
    "duration": 40,
    "start_time": "2022-10-16T08:47:33.584Z"
   },
   {
    "duration": 3,
    "start_time": "2022-10-16T08:47:33.625Z"
   },
   {
    "duration": 23,
    "start_time": "2022-10-16T08:47:33.629Z"
   },
   {
    "duration": 16,
    "start_time": "2022-10-16T08:47:33.653Z"
   },
   {
    "duration": 12,
    "start_time": "2022-10-16T08:47:39.883Z"
   },
   {
    "duration": 1002,
    "start_time": "2022-10-16T08:49:09.804Z"
   },
   {
    "duration": 436,
    "start_time": "2022-10-16T08:49:10.808Z"
   },
   {
    "duration": 11,
    "start_time": "2022-10-16T08:49:11.246Z"
   },
   {
    "duration": 26,
    "start_time": "2022-10-16T08:49:11.258Z"
   },
   {
    "duration": 8,
    "start_time": "2022-10-16T08:49:11.286Z"
   },
   {
    "duration": 20,
    "start_time": "2022-10-16T08:49:11.296Z"
   },
   {
    "duration": 7,
    "start_time": "2022-10-16T08:49:11.317Z"
   },
   {
    "duration": 19,
    "start_time": "2022-10-16T08:49:11.325Z"
   },
   {
    "duration": 10,
    "start_time": "2022-10-16T08:49:11.345Z"
   },
   {
    "duration": 15,
    "start_time": "2022-10-16T08:49:11.357Z"
   },
   {
    "duration": 16,
    "start_time": "2022-10-16T08:49:11.373Z"
   },
   {
    "duration": 32,
    "start_time": "2022-10-16T08:49:11.390Z"
   },
   {
    "duration": 239,
    "start_time": "2022-10-16T08:49:11.423Z"
   },
   {
    "duration": 12,
    "start_time": "2022-10-16T08:49:11.665Z"
   },
   {
    "duration": 82,
    "start_time": "2022-10-16T08:49:11.679Z"
   },
   {
    "duration": 107,
    "start_time": "2022-10-16T08:49:11.763Z"
   },
   {
    "duration": 20,
    "start_time": "2022-10-16T08:49:11.872Z"
   },
   {
    "duration": 1760,
    "start_time": "2022-10-16T08:49:11.894Z"
   },
   {
    "duration": 30,
    "start_time": "2022-10-16T08:49:13.656Z"
   },
   {
    "duration": 4,
    "start_time": "2022-10-16T08:49:13.687Z"
   },
   {
    "duration": 31,
    "start_time": "2022-10-16T08:49:13.692Z"
   },
   {
    "duration": 14,
    "start_time": "2022-10-16T08:49:13.724Z"
   },
   {
    "duration": 22,
    "start_time": "2022-10-16T08:49:13.739Z"
   },
   {
    "duration": 14,
    "start_time": "2022-10-16T08:49:13.762Z"
   },
   {
    "duration": 44,
    "start_time": "2022-10-16T08:49:13.778Z"
   },
   {
    "duration": 22,
    "start_time": "2022-10-16T08:49:13.823Z"
   },
   {
    "duration": 3,
    "start_time": "2022-10-16T08:49:13.847Z"
   },
   {
    "duration": 42,
    "start_time": "2022-10-16T08:49:13.852Z"
   },
   {
    "duration": 39,
    "start_time": "2022-10-16T08:49:13.895Z"
   },
   {
    "duration": 12,
    "start_time": "2022-10-16T08:49:21.323Z"
   },
   {
    "duration": 12,
    "start_time": "2022-10-16T08:49:33.122Z"
   },
   {
    "duration": 1012,
    "start_time": "2022-10-16T08:50:20.437Z"
   },
   {
    "duration": 401,
    "start_time": "2022-10-16T08:50:21.451Z"
   },
   {
    "duration": 11,
    "start_time": "2022-10-16T08:50:21.853Z"
   },
   {
    "duration": 20,
    "start_time": "2022-10-16T08:50:21.866Z"
   },
   {
    "duration": 8,
    "start_time": "2022-10-16T08:50:21.888Z"
   },
   {
    "duration": 20,
    "start_time": "2022-10-16T08:50:21.897Z"
   },
   {
    "duration": 7,
    "start_time": "2022-10-16T08:50:21.919Z"
   },
   {
    "duration": 17,
    "start_time": "2022-10-16T08:50:21.927Z"
   },
   {
    "duration": 6,
    "start_time": "2022-10-16T08:50:21.946Z"
   },
   {
    "duration": 15,
    "start_time": "2022-10-16T08:50:21.953Z"
   },
   {
    "duration": 15,
    "start_time": "2022-10-16T08:50:21.969Z"
   },
   {
    "duration": 10,
    "start_time": "2022-10-16T08:50:21.985Z"
   },
   {
    "duration": 203,
    "start_time": "2022-10-16T08:50:21.996Z"
   },
   {
    "duration": 9,
    "start_time": "2022-10-16T08:50:22.202Z"
   },
   {
    "duration": 70,
    "start_time": "2022-10-16T08:50:22.213Z"
   },
   {
    "duration": 85,
    "start_time": "2022-10-16T08:50:22.285Z"
   },
   {
    "duration": 21,
    "start_time": "2022-10-16T08:50:22.371Z"
   },
   {
    "duration": 1732,
    "start_time": "2022-10-16T08:50:22.394Z"
   },
   {
    "duration": 29,
    "start_time": "2022-10-16T08:50:24.128Z"
   },
   {
    "duration": 16,
    "start_time": "2022-10-16T08:50:24.158Z"
   },
   {
    "duration": 38,
    "start_time": "2022-10-16T08:50:24.176Z"
   },
   {
    "duration": 16,
    "start_time": "2022-10-16T08:50:24.215Z"
   },
   {
    "duration": 25,
    "start_time": "2022-10-16T08:50:24.233Z"
   },
   {
    "duration": 12,
    "start_time": "2022-10-16T08:50:24.260Z"
   },
   {
    "duration": 20,
    "start_time": "2022-10-16T08:50:24.273Z"
   },
   {
    "duration": 32,
    "start_time": "2022-10-16T08:50:24.294Z"
   },
   {
    "duration": 3,
    "start_time": "2022-10-16T08:50:24.327Z"
   },
   {
    "duration": 43,
    "start_time": "2022-10-16T08:50:24.332Z"
   },
   {
    "duration": 14,
    "start_time": "2022-10-16T08:50:24.377Z"
   },
   {
    "duration": 19,
    "start_time": "2022-10-16T08:50:24.392Z"
   },
   {
    "duration": 16,
    "start_time": "2022-10-16T08:51:13.941Z"
   },
   {
    "duration": 12,
    "start_time": "2022-10-16T08:51:16.701Z"
   },
   {
    "duration": 7,
    "start_time": "2022-10-16T08:52:49.461Z"
   },
   {
    "duration": 17,
    "start_time": "2022-10-16T08:54:56.876Z"
   },
   {
    "duration": 998,
    "start_time": "2022-10-16T08:55:34.726Z"
   },
   {
    "duration": 400,
    "start_time": "2022-10-16T08:55:35.726Z"
   },
   {
    "duration": 14,
    "start_time": "2022-10-16T08:55:36.128Z"
   },
   {
    "duration": 27,
    "start_time": "2022-10-16T08:55:36.143Z"
   },
   {
    "duration": 9,
    "start_time": "2022-10-16T08:55:36.172Z"
   },
   {
    "duration": 40,
    "start_time": "2022-10-16T08:55:36.182Z"
   },
   {
    "duration": 8,
    "start_time": "2022-10-16T08:55:36.223Z"
   },
   {
    "duration": 22,
    "start_time": "2022-10-16T08:55:36.232Z"
   },
   {
    "duration": 7,
    "start_time": "2022-10-16T08:55:36.255Z"
   },
   {
    "duration": 11,
    "start_time": "2022-10-16T08:55:36.264Z"
   },
   {
    "duration": 10,
    "start_time": "2022-10-16T08:55:36.276Z"
   },
   {
    "duration": 13,
    "start_time": "2022-10-16T08:55:36.287Z"
   },
   {
    "duration": 213,
    "start_time": "2022-10-16T08:55:36.301Z"
   },
   {
    "duration": 13,
    "start_time": "2022-10-16T08:55:36.516Z"
   },
   {
    "duration": 58,
    "start_time": "2022-10-16T08:55:36.531Z"
   },
   {
    "duration": 100,
    "start_time": "2022-10-16T08:55:36.591Z"
   },
   {
    "duration": 21,
    "start_time": "2022-10-16T08:55:36.692Z"
   },
   {
    "duration": 1651,
    "start_time": "2022-10-16T08:55:36.721Z"
   },
   {
    "duration": 29,
    "start_time": "2022-10-16T08:55:38.373Z"
   },
   {
    "duration": 3,
    "start_time": "2022-10-16T08:55:38.404Z"
   },
   {
    "duration": 17,
    "start_time": "2022-10-16T08:55:38.421Z"
   },
   {
    "duration": 14,
    "start_time": "2022-10-16T08:55:38.440Z"
   },
   {
    "duration": 21,
    "start_time": "2022-10-16T08:55:38.456Z"
   },
   {
    "duration": 11,
    "start_time": "2022-10-16T08:55:38.479Z"
   },
   {
    "duration": 43,
    "start_time": "2022-10-16T08:55:38.492Z"
   },
   {
    "duration": 20,
    "start_time": "2022-10-16T08:55:38.537Z"
   },
   {
    "duration": 3,
    "start_time": "2022-10-16T08:55:38.559Z"
   },
   {
    "duration": 26,
    "start_time": "2022-10-16T08:55:38.563Z"
   },
   {
    "duration": 37,
    "start_time": "2022-10-16T08:55:38.590Z"
   },
   {
    "duration": 14,
    "start_time": "2022-10-16T08:55:38.628Z"
   },
   {
    "duration": 7,
    "start_time": "2022-10-16T08:55:38.643Z"
   },
   {
    "duration": 980,
    "start_time": "2022-10-16T08:55:51.730Z"
   },
   {
    "duration": 398,
    "start_time": "2022-10-16T08:55:52.712Z"
   },
   {
    "duration": 11,
    "start_time": "2022-10-16T08:55:53.111Z"
   },
   {
    "duration": 19,
    "start_time": "2022-10-16T08:55:53.124Z"
   },
   {
    "duration": 7,
    "start_time": "2022-10-16T08:55:53.145Z"
   },
   {
    "duration": 19,
    "start_time": "2022-10-16T08:55:53.153Z"
   },
   {
    "duration": 6,
    "start_time": "2022-10-16T08:55:53.173Z"
   },
   {
    "duration": 16,
    "start_time": "2022-10-16T08:55:53.180Z"
   },
   {
    "duration": 25,
    "start_time": "2022-10-16T08:55:53.197Z"
   },
   {
    "duration": 9,
    "start_time": "2022-10-16T08:55:53.224Z"
   },
   {
    "duration": 11,
    "start_time": "2022-10-16T08:55:53.235Z"
   },
   {
    "duration": 15,
    "start_time": "2022-10-16T08:55:53.247Z"
   },
   {
    "duration": 230,
    "start_time": "2022-10-16T08:55:53.263Z"
   },
   {
    "duration": 11,
    "start_time": "2022-10-16T08:55:53.494Z"
   },
   {
    "duration": 61,
    "start_time": "2022-10-16T08:55:53.506Z"
   },
   {
    "duration": 97,
    "start_time": "2022-10-16T08:55:53.568Z"
   },
   {
    "duration": 19,
    "start_time": "2022-10-16T08:55:53.667Z"
   },
   {
    "duration": 1728,
    "start_time": "2022-10-16T08:55:53.687Z"
   },
   {
    "duration": 25,
    "start_time": "2022-10-16T08:55:55.416Z"
   },
   {
    "duration": 4,
    "start_time": "2022-10-16T08:55:55.442Z"
   },
   {
    "duration": 21,
    "start_time": "2022-10-16T08:55:55.447Z"
   },
   {
    "duration": 13,
    "start_time": "2022-10-16T08:55:55.469Z"
   },
   {
    "duration": 19,
    "start_time": "2022-10-16T08:55:55.483Z"
   },
   {
    "duration": 27,
    "start_time": "2022-10-16T08:55:55.504Z"
   },
   {
    "duration": 16,
    "start_time": "2022-10-16T08:55:55.532Z"
   },
   {
    "duration": 17,
    "start_time": "2022-10-16T08:55:55.549Z"
   },
   {
    "duration": 2,
    "start_time": "2022-10-16T08:55:55.568Z"
   },
   {
    "duration": 22,
    "start_time": "2022-10-16T08:55:55.573Z"
   },
   {
    "duration": 38,
    "start_time": "2022-10-16T08:55:55.596Z"
   },
   {
    "duration": 12,
    "start_time": "2022-10-16T08:55:55.635Z"
   },
   {
    "duration": 5,
    "start_time": "2022-10-16T08:55:55.649Z"
   },
   {
    "duration": 956,
    "start_time": "2022-10-16T08:56:14.571Z"
   },
   {
    "duration": 455,
    "start_time": "2022-10-16T08:56:15.529Z"
   },
   {
    "duration": 12,
    "start_time": "2022-10-16T08:56:15.986Z"
   },
   {
    "duration": 30,
    "start_time": "2022-10-16T08:56:16.000Z"
   },
   {
    "duration": 11,
    "start_time": "2022-10-16T08:56:16.033Z"
   },
   {
    "duration": 34,
    "start_time": "2022-10-16T08:56:16.046Z"
   },
   {
    "duration": 9,
    "start_time": "2022-10-16T08:56:16.083Z"
   },
   {
    "duration": 43,
    "start_time": "2022-10-16T08:56:16.094Z"
   },
   {
    "duration": 10,
    "start_time": "2022-10-16T08:56:16.140Z"
   },
   {
    "duration": 15,
    "start_time": "2022-10-16T08:56:16.152Z"
   },
   {
    "duration": 26,
    "start_time": "2022-10-16T08:56:16.169Z"
   },
   {
    "duration": 29,
    "start_time": "2022-10-16T08:56:16.197Z"
   },
   {
    "duration": 216,
    "start_time": "2022-10-16T08:56:16.229Z"
   },
   {
    "duration": 11,
    "start_time": "2022-10-16T08:56:16.447Z"
   },
   {
    "duration": 67,
    "start_time": "2022-10-16T08:56:16.459Z"
   },
   {
    "duration": 97,
    "start_time": "2022-10-16T08:56:16.528Z"
   },
   {
    "duration": 21,
    "start_time": "2022-10-16T08:56:16.626Z"
   },
   {
    "duration": 1683,
    "start_time": "2022-10-16T08:56:16.648Z"
   },
   {
    "duration": 26,
    "start_time": "2022-10-16T08:56:18.333Z"
   },
   {
    "duration": 3,
    "start_time": "2022-10-16T08:56:18.361Z"
   },
   {
    "duration": 50,
    "start_time": "2022-10-16T08:56:18.366Z"
   },
   {
    "duration": 35,
    "start_time": "2022-10-16T08:56:18.418Z"
   },
   {
    "duration": 37,
    "start_time": "2022-10-16T08:56:18.454Z"
   },
   {
    "duration": 21,
    "start_time": "2022-10-16T08:56:18.492Z"
   },
   {
    "duration": 25,
    "start_time": "2022-10-16T08:56:18.515Z"
   },
   {
    "duration": 20,
    "start_time": "2022-10-16T08:56:18.541Z"
   },
   {
    "duration": 2,
    "start_time": "2022-10-16T08:56:18.563Z"
   },
   {
    "duration": 32,
    "start_time": "2022-10-16T08:56:18.567Z"
   },
   {
    "duration": 21,
    "start_time": "2022-10-16T08:56:18.600Z"
   },
   {
    "duration": 21,
    "start_time": "2022-10-16T08:56:18.622Z"
   },
   {
    "duration": 6,
    "start_time": "2022-10-16T08:56:18.644Z"
   },
   {
    "duration": 75,
    "start_time": "2022-10-16T10:08:50.382Z"
   },
   {
    "duration": 25,
    "start_time": "2022-10-16T10:09:03.532Z"
   },
   {
    "duration": 1237,
    "start_time": "2022-10-16T10:10:29.384Z"
   },
   {
    "duration": 1030,
    "start_time": "2022-10-16T10:10:35.232Z"
   },
   {
    "duration": 402,
    "start_time": "2022-10-16T10:10:36.266Z"
   },
   {
    "duration": 11,
    "start_time": "2022-10-16T10:10:36.669Z"
   },
   {
    "duration": 40,
    "start_time": "2022-10-16T10:10:36.683Z"
   },
   {
    "duration": 7,
    "start_time": "2022-10-16T10:10:36.725Z"
   },
   {
    "duration": 36,
    "start_time": "2022-10-16T10:10:36.734Z"
   },
   {
    "duration": 21,
    "start_time": "2022-10-16T10:10:36.772Z"
   },
   {
    "duration": 58,
    "start_time": "2022-10-16T10:10:36.794Z"
   },
   {
    "duration": 55,
    "start_time": "2022-10-16T10:10:36.854Z"
   },
   {
    "duration": 50,
    "start_time": "2022-10-16T10:10:36.912Z"
   },
   {
    "duration": 24,
    "start_time": "2022-10-16T10:10:36.964Z"
   },
   {
    "duration": 34,
    "start_time": "2022-10-16T10:10:36.989Z"
   },
   {
    "duration": 220,
    "start_time": "2022-10-16T10:10:37.025Z"
   },
   {
    "duration": 10,
    "start_time": "2022-10-16T10:10:37.247Z"
   },
   {
    "duration": 62,
    "start_time": "2022-10-16T10:10:37.259Z"
   },
   {
    "duration": 89,
    "start_time": "2022-10-16T10:10:37.323Z"
   },
   {
    "duration": 19,
    "start_time": "2022-10-16T10:10:37.421Z"
   },
   {
    "duration": 1706,
    "start_time": "2022-10-16T10:10:37.442Z"
   },
   {
    "duration": 22,
    "start_time": "2022-10-16T10:10:39.149Z"
   },
   {
    "duration": 45,
    "start_time": "2022-10-16T10:10:39.173Z"
   },
   {
    "duration": 40,
    "start_time": "2022-10-16T10:10:39.220Z"
   },
   {
    "duration": 31,
    "start_time": "2022-10-16T10:10:39.261Z"
   },
   {
    "duration": 37,
    "start_time": "2022-10-16T10:10:39.294Z"
   },
   {
    "duration": 19,
    "start_time": "2022-10-16T10:10:39.332Z"
   },
   {
    "duration": 46,
    "start_time": "2022-10-16T10:10:39.352Z"
   },
   {
    "duration": 33,
    "start_time": "2022-10-16T10:10:39.400Z"
   },
   {
    "duration": 15,
    "start_time": "2022-10-16T10:10:39.435Z"
   },
   {
    "duration": 48,
    "start_time": "2022-10-16T10:10:39.453Z"
   },
   {
    "duration": 71,
    "start_time": "2022-10-16T10:10:39.502Z"
   },
   {
    "duration": 61,
    "start_time": "2022-10-16T10:10:39.574Z"
   },
   {
    "duration": 18,
    "start_time": "2022-10-16T10:10:39.637Z"
   },
   {
    "duration": 963,
    "start_time": "2022-10-16T10:11:08.449Z"
   },
   {
    "duration": 408,
    "start_time": "2022-10-16T10:11:09.414Z"
   },
   {
    "duration": 11,
    "start_time": "2022-10-16T10:11:09.825Z"
   },
   {
    "duration": 21,
    "start_time": "2022-10-16T10:11:09.837Z"
   },
   {
    "duration": 8,
    "start_time": "2022-10-16T10:11:09.859Z"
   },
   {
    "duration": 20,
    "start_time": "2022-10-16T10:11:09.868Z"
   },
   {
    "duration": 32,
    "start_time": "2022-10-16T10:11:09.890Z"
   },
   {
    "duration": 15,
    "start_time": "2022-10-16T10:11:09.923Z"
   },
   {
    "duration": 8,
    "start_time": "2022-10-16T10:11:09.941Z"
   },
   {
    "duration": 10,
    "start_time": "2022-10-16T10:11:09.950Z"
   },
   {
    "duration": 10,
    "start_time": "2022-10-16T10:11:09.962Z"
   },
   {
    "duration": 10,
    "start_time": "2022-10-16T10:11:09.974Z"
   },
   {
    "duration": 222,
    "start_time": "2022-10-16T10:11:09.986Z"
   },
   {
    "duration": 13,
    "start_time": "2022-10-16T10:11:10.209Z"
   },
   {
    "duration": 55,
    "start_time": "2022-10-16T10:11:10.223Z"
   },
   {
    "duration": 102,
    "start_time": "2022-10-16T10:11:10.279Z"
   },
   {
    "duration": 22,
    "start_time": "2022-10-16T10:11:10.383Z"
   },
   {
    "duration": 1791,
    "start_time": "2022-10-16T10:11:10.407Z"
   },
   {
    "duration": 28,
    "start_time": "2022-10-16T10:11:12.200Z"
   },
   {
    "duration": 4,
    "start_time": "2022-10-16T10:11:12.229Z"
   },
   {
    "duration": 20,
    "start_time": "2022-10-16T10:11:12.235Z"
   },
   {
    "duration": 14,
    "start_time": "2022-10-16T10:11:12.256Z"
   },
   {
    "duration": 22,
    "start_time": "2022-10-16T10:11:12.271Z"
   },
   {
    "duration": 37,
    "start_time": "2022-10-16T10:11:12.294Z"
   },
   {
    "duration": 16,
    "start_time": "2022-10-16T10:11:12.333Z"
   },
   {
    "duration": 20,
    "start_time": "2022-10-16T10:11:12.350Z"
   },
   {
    "duration": 3,
    "start_time": "2022-10-16T10:11:12.373Z"
   },
   {
    "duration": 53,
    "start_time": "2022-10-16T10:11:12.377Z"
   },
   {
    "duration": 19,
    "start_time": "2022-10-16T10:11:12.432Z"
   },
   {
    "duration": 30,
    "start_time": "2022-10-16T10:11:12.452Z"
   },
   {
    "duration": 6,
    "start_time": "2022-10-16T10:11:12.484Z"
   },
   {
    "duration": 1037,
    "start_time": "2022-10-16T12:06:10.639Z"
   },
   {
    "duration": 462,
    "start_time": "2022-10-16T12:06:11.678Z"
   },
   {
    "duration": 12,
    "start_time": "2022-10-16T12:06:12.142Z"
   },
   {
    "duration": 23,
    "start_time": "2022-10-16T12:06:12.155Z"
   },
   {
    "duration": 8,
    "start_time": "2022-10-16T12:06:12.180Z"
   },
   {
    "duration": 21,
    "start_time": "2022-10-16T12:06:12.189Z"
   },
   {
    "duration": 11,
    "start_time": "2022-10-16T12:06:12.212Z"
   },
   {
    "duration": 18,
    "start_time": "2022-10-16T12:06:12.225Z"
   },
   {
    "duration": 7,
    "start_time": "2022-10-16T12:06:12.245Z"
   },
   {
    "duration": 10,
    "start_time": "2022-10-16T12:06:12.254Z"
   },
   {
    "duration": 10,
    "start_time": "2022-10-16T12:06:12.265Z"
   },
   {
    "duration": 12,
    "start_time": "2022-10-16T12:06:12.276Z"
   },
   {
    "duration": 247,
    "start_time": "2022-10-16T12:06:12.289Z"
   },
   {
    "duration": 12,
    "start_time": "2022-10-16T12:06:12.538Z"
   },
   {
    "duration": 76,
    "start_time": "2022-10-16T12:06:12.551Z"
   },
   {
    "duration": 112,
    "start_time": "2022-10-16T12:06:12.629Z"
   },
   {
    "duration": 3,
    "start_time": "2022-10-16T12:06:12.743Z"
   },
   {
    "duration": 37,
    "start_time": "2022-10-16T12:06:12.748Z"
   },
   {
    "duration": 1876,
    "start_time": "2022-10-16T12:06:12.787Z"
   },
   {
    "duration": 30,
    "start_time": "2022-10-16T12:06:14.665Z"
   },
   {
    "duration": 4,
    "start_time": "2022-10-16T12:06:14.697Z"
   },
   {
    "duration": 20,
    "start_time": "2022-10-16T12:06:14.721Z"
   },
   {
    "duration": 15,
    "start_time": "2022-10-16T12:06:14.742Z"
   },
   {
    "duration": 23,
    "start_time": "2022-10-16T12:06:14.758Z"
   },
   {
    "duration": 11,
    "start_time": "2022-10-16T12:06:14.782Z"
   },
   {
    "duration": 37,
    "start_time": "2022-10-16T12:06:14.795Z"
   },
   {
    "duration": 22,
    "start_time": "2022-10-16T12:06:14.834Z"
   },
   {
    "duration": 3,
    "start_time": "2022-10-16T12:06:14.858Z"
   },
   {
    "duration": 35,
    "start_time": "2022-10-16T12:06:14.863Z"
   },
   {
    "duration": 38,
    "start_time": "2022-10-16T12:06:14.900Z"
   },
   {
    "duration": 37,
    "start_time": "2022-10-16T12:06:14.940Z"
   },
   {
    "duration": 7,
    "start_time": "2022-10-16T12:06:14.979Z"
   },
   {
    "duration": 14,
    "start_time": "2022-10-16T12:07:52.085Z"
   },
   {
    "duration": 16,
    "start_time": "2022-10-16T12:08:10.900Z"
   },
   {
    "duration": 16,
    "start_time": "2022-10-16T12:08:20.226Z"
   },
   {
    "duration": 22,
    "start_time": "2022-10-16T12:11:53.594Z"
   },
   {
    "duration": 956,
    "start_time": "2022-10-16T12:14:51.983Z"
   },
   {
    "duration": 446,
    "start_time": "2022-10-16T12:14:52.941Z"
   },
   {
    "duration": 12,
    "start_time": "2022-10-16T12:14:53.389Z"
   },
   {
    "duration": 54,
    "start_time": "2022-10-16T12:14:53.403Z"
   },
   {
    "duration": 9,
    "start_time": "2022-10-16T12:14:53.459Z"
   },
   {
    "duration": 51,
    "start_time": "2022-10-16T12:14:53.470Z"
   },
   {
    "duration": 15,
    "start_time": "2022-10-16T12:14:53.523Z"
   },
   {
    "duration": 26,
    "start_time": "2022-10-16T12:14:53.539Z"
   },
   {
    "duration": 30,
    "start_time": "2022-10-16T12:14:53.566Z"
   },
   {
    "duration": 35,
    "start_time": "2022-10-16T12:14:53.598Z"
   },
   {
    "duration": 37,
    "start_time": "2022-10-16T12:14:53.635Z"
   },
   {
    "duration": 23,
    "start_time": "2022-10-16T12:14:53.674Z"
   },
   {
    "duration": 252,
    "start_time": "2022-10-16T12:14:53.699Z"
   },
   {
    "duration": 13,
    "start_time": "2022-10-16T12:14:53.953Z"
   },
   {
    "duration": 75,
    "start_time": "2022-10-16T12:14:53.968Z"
   },
   {
    "duration": 132,
    "start_time": "2022-10-16T12:14:54.045Z"
   },
   {
    "duration": 4,
    "start_time": "2022-10-16T12:14:54.179Z"
   },
   {
    "duration": 31,
    "start_time": "2022-10-16T12:14:54.184Z"
   },
   {
    "duration": 1835,
    "start_time": "2022-10-16T12:14:54.217Z"
   },
   {
    "duration": 32,
    "start_time": "2022-10-16T12:14:56.055Z"
   },
   {
    "duration": 7,
    "start_time": "2022-10-16T12:14:56.088Z"
   },
   {
    "duration": 44,
    "start_time": "2022-10-16T12:14:56.098Z"
   },
   {
    "duration": 14,
    "start_time": "2022-10-16T12:14:56.144Z"
   },
   {
    "duration": 27,
    "start_time": "2022-10-16T12:14:56.160Z"
   },
   {
    "duration": 16,
    "start_time": "2022-10-16T12:14:56.189Z"
   },
   {
    "duration": 19,
    "start_time": "2022-10-16T12:14:56.222Z"
   },
   {
    "duration": 24,
    "start_time": "2022-10-16T12:14:56.243Z"
   },
   {
    "duration": 3,
    "start_time": "2022-10-16T12:14:56.270Z"
   },
   {
    "duration": 29,
    "start_time": "2022-10-16T12:14:56.274Z"
   },
   {
    "duration": 16,
    "start_time": "2022-10-16T12:14:56.321Z"
   },
   {
    "duration": 18,
    "start_time": "2022-10-16T12:14:56.339Z"
   },
   {
    "duration": 33,
    "start_time": "2022-10-16T12:14:56.358Z"
   },
   {
    "duration": 6,
    "start_time": "2022-10-16T12:14:56.393Z"
   },
   {
    "duration": 3,
    "start_time": "2022-10-16T12:18:15.291Z"
   },
   {
    "duration": 16,
    "start_time": "2022-10-16T12:18:22.850Z"
   },
   {
    "duration": 15,
    "start_time": "2022-10-16T12:21:00.854Z"
   },
   {
    "duration": 7,
    "start_time": "2022-10-16T12:25:12.698Z"
   },
   {
    "duration": 9,
    "start_time": "2022-10-16T12:25:17.677Z"
   },
   {
    "duration": 4,
    "start_time": "2022-10-16T12:38:51.551Z"
   },
   {
    "duration": 112,
    "start_time": "2022-10-16T12:41:17.532Z"
   },
   {
    "duration": 21,
    "start_time": "2022-10-16T12:41:24.057Z"
   },
   {
    "duration": 1016,
    "start_time": "2022-10-16T12:47:21.605Z"
   },
   {
    "duration": 431,
    "start_time": "2022-10-16T12:47:22.623Z"
   },
   {
    "duration": 11,
    "start_time": "2022-10-16T12:47:23.056Z"
   },
   {
    "duration": 20,
    "start_time": "2022-10-16T12:47:23.069Z"
   },
   {
    "duration": 7,
    "start_time": "2022-10-16T12:47:23.091Z"
   },
   {
    "duration": 24,
    "start_time": "2022-10-16T12:47:23.099Z"
   },
   {
    "duration": 7,
    "start_time": "2022-10-16T12:47:23.125Z"
   },
   {
    "duration": 19,
    "start_time": "2022-10-16T12:47:23.133Z"
   },
   {
    "duration": 6,
    "start_time": "2022-10-16T12:47:23.153Z"
   },
   {
    "duration": 11,
    "start_time": "2022-10-16T12:47:23.161Z"
   },
   {
    "duration": 13,
    "start_time": "2022-10-16T12:47:23.173Z"
   },
   {
    "duration": 13,
    "start_time": "2022-10-16T12:47:23.188Z"
   },
   {
    "duration": 226,
    "start_time": "2022-10-16T12:47:23.221Z"
   },
   {
    "duration": 10,
    "start_time": "2022-10-16T12:47:23.449Z"
   },
   {
    "duration": 68,
    "start_time": "2022-10-16T12:47:23.460Z"
   },
   {
    "duration": 96,
    "start_time": "2022-10-16T12:47:23.529Z"
   },
   {
    "duration": 4,
    "start_time": "2022-10-16T12:47:23.627Z"
   },
   {
    "duration": 26,
    "start_time": "2022-10-16T12:47:23.632Z"
   },
   {
    "duration": 1843,
    "start_time": "2022-10-16T12:47:23.660Z"
   },
   {
    "duration": 32,
    "start_time": "2022-10-16T12:47:25.505Z"
   },
   {
    "duration": 3,
    "start_time": "2022-10-16T12:47:25.539Z"
   },
   {
    "duration": 25,
    "start_time": "2022-10-16T12:47:25.543Z"
   },
   {
    "duration": 14,
    "start_time": "2022-10-16T12:47:25.570Z"
   },
   {
    "duration": 38,
    "start_time": "2022-10-16T12:47:25.586Z"
   },
   {
    "duration": 12,
    "start_time": "2022-10-16T12:47:25.625Z"
   },
   {
    "duration": 29,
    "start_time": "2022-10-16T12:47:25.639Z"
   },
   {
    "duration": 27,
    "start_time": "2022-10-16T12:47:25.670Z"
   },
   {
    "duration": 7,
    "start_time": "2022-10-16T12:47:25.700Z"
   },
   {
    "duration": 39,
    "start_time": "2022-10-16T12:47:25.708Z"
   },
   {
    "duration": 46,
    "start_time": "2022-10-16T12:47:25.748Z"
   },
   {
    "duration": 30,
    "start_time": "2022-10-16T12:47:25.795Z"
   },
   {
    "duration": 47,
    "start_time": "2022-10-16T12:47:25.827Z"
   },
   {
    "duration": 107,
    "start_time": "2022-10-16T12:47:25.876Z"
   },
   {
    "duration": 0,
    "start_time": "2022-10-16T12:47:25.984Z"
   },
   {
    "duration": 0,
    "start_time": "2022-10-16T12:47:25.986Z"
   },
   {
    "duration": 1015,
    "start_time": "2022-10-16T12:48:22.705Z"
   },
   {
    "duration": 439,
    "start_time": "2022-10-16T12:48:23.722Z"
   },
   {
    "duration": 13,
    "start_time": "2022-10-16T12:48:24.162Z"
   },
   {
    "duration": 25,
    "start_time": "2022-10-16T12:48:24.177Z"
   },
   {
    "duration": 9,
    "start_time": "2022-10-16T12:48:24.203Z"
   },
   {
    "duration": 25,
    "start_time": "2022-10-16T12:48:24.213Z"
   },
   {
    "duration": 6,
    "start_time": "2022-10-16T12:48:24.240Z"
   },
   {
    "duration": 18,
    "start_time": "2022-10-16T12:48:24.248Z"
   },
   {
    "duration": 6,
    "start_time": "2022-10-16T12:48:24.268Z"
   },
   {
    "duration": 9,
    "start_time": "2022-10-16T12:48:24.277Z"
   },
   {
    "duration": 36,
    "start_time": "2022-10-16T12:48:24.287Z"
   },
   {
    "duration": 15,
    "start_time": "2022-10-16T12:48:24.324Z"
   },
   {
    "duration": 220,
    "start_time": "2022-10-16T12:48:24.340Z"
   },
   {
    "duration": 11,
    "start_time": "2022-10-16T12:48:24.562Z"
   },
   {
    "duration": 88,
    "start_time": "2022-10-16T12:48:24.575Z"
   },
   {
    "duration": 105,
    "start_time": "2022-10-16T12:48:24.665Z"
   },
   {
    "duration": 4,
    "start_time": "2022-10-16T12:48:24.772Z"
   },
   {
    "duration": 27,
    "start_time": "2022-10-16T12:48:24.777Z"
   },
   {
    "duration": 1834,
    "start_time": "2022-10-16T12:48:24.806Z"
   },
   {
    "duration": 24,
    "start_time": "2022-10-16T12:48:26.641Z"
   },
   {
    "duration": 6,
    "start_time": "2022-10-16T12:48:26.667Z"
   },
   {
    "duration": 28,
    "start_time": "2022-10-16T12:48:26.674Z"
   },
   {
    "duration": 18,
    "start_time": "2022-10-16T12:48:26.703Z"
   },
   {
    "duration": 20,
    "start_time": "2022-10-16T12:48:26.723Z"
   },
   {
    "duration": 11,
    "start_time": "2022-10-16T12:48:26.744Z"
   },
   {
    "duration": 26,
    "start_time": "2022-10-16T12:48:26.757Z"
   },
   {
    "duration": 18,
    "start_time": "2022-10-16T12:48:26.785Z"
   },
   {
    "duration": 3,
    "start_time": "2022-10-16T12:48:26.805Z"
   },
   {
    "duration": 22,
    "start_time": "2022-10-16T12:48:26.822Z"
   },
   {
    "duration": 17,
    "start_time": "2022-10-16T12:48:26.846Z"
   },
   {
    "duration": 15,
    "start_time": "2022-10-16T12:48:26.864Z"
   },
   {
    "duration": 45,
    "start_time": "2022-10-16T12:48:26.880Z"
   },
   {
    "duration": 4,
    "start_time": "2022-10-16T12:48:26.927Z"
   },
   {
    "duration": 24,
    "start_time": "2022-10-16T12:48:26.933Z"
   },
   {
    "duration": 10,
    "start_time": "2022-10-16T12:48:26.959Z"
   },
   {
    "duration": 7,
    "start_time": "2022-10-16T13:34:17.934Z"
   },
   {
    "duration": 25,
    "start_time": "2022-10-16T13:35:13.249Z"
   },
   {
    "duration": 82,
    "start_time": "2022-10-16T13:35:18.538Z"
   },
   {
    "duration": 7,
    "start_time": "2022-10-16T13:35:23.975Z"
   },
   {
    "duration": 4,
    "start_time": "2022-10-16T13:35:43.356Z"
   },
   {
    "duration": 24,
    "start_time": "2022-10-16T13:36:04.610Z"
   },
   {
    "duration": 9,
    "start_time": "2022-10-16T13:36:06.283Z"
   },
   {
    "duration": 5,
    "start_time": "2022-10-16T13:36:58.653Z"
   },
   {
    "duration": 28,
    "start_time": "2022-10-16T13:36:59.933Z"
   },
   {
    "duration": 12,
    "start_time": "2022-10-16T13:37:03.419Z"
   },
   {
    "duration": 39,
    "start_time": "2022-10-16T13:51:53.053Z"
   },
   {
    "duration": 1006,
    "start_time": "2022-10-16T13:52:17.002Z"
   },
   {
    "duration": 399,
    "start_time": "2022-10-16T13:52:18.010Z"
   },
   {
    "duration": 11,
    "start_time": "2022-10-16T13:52:18.411Z"
   },
   {
    "duration": 19,
    "start_time": "2022-10-16T13:52:18.423Z"
   },
   {
    "duration": 7,
    "start_time": "2022-10-16T13:52:18.444Z"
   },
   {
    "duration": 19,
    "start_time": "2022-10-16T13:52:18.453Z"
   },
   {
    "duration": 6,
    "start_time": "2022-10-16T13:52:18.473Z"
   },
   {
    "duration": 17,
    "start_time": "2022-10-16T13:52:18.480Z"
   },
   {
    "duration": 24,
    "start_time": "2022-10-16T13:52:18.499Z"
   },
   {
    "duration": 14,
    "start_time": "2022-10-16T13:52:18.525Z"
   },
   {
    "duration": 12,
    "start_time": "2022-10-16T13:52:18.540Z"
   },
   {
    "duration": 19,
    "start_time": "2022-10-16T13:52:18.553Z"
   },
   {
    "duration": 211,
    "start_time": "2022-10-16T13:52:18.573Z"
   },
   {
    "duration": 10,
    "start_time": "2022-10-16T13:52:18.787Z"
   },
   {
    "duration": 66,
    "start_time": "2022-10-16T13:52:18.799Z"
   },
   {
    "duration": 90,
    "start_time": "2022-10-16T13:52:18.867Z"
   },
   {
    "duration": 4,
    "start_time": "2022-10-16T13:52:18.958Z"
   },
   {
    "duration": 24,
    "start_time": "2022-10-16T13:52:18.963Z"
   },
   {
    "duration": 1663,
    "start_time": "2022-10-16T13:52:18.988Z"
   },
   {
    "duration": 31,
    "start_time": "2022-10-16T13:52:20.653Z"
   },
   {
    "duration": 4,
    "start_time": "2022-10-16T13:52:20.685Z"
   },
   {
    "duration": 31,
    "start_time": "2022-10-16T13:52:20.691Z"
   },
   {
    "duration": 14,
    "start_time": "2022-10-16T13:52:20.724Z"
   },
   {
    "duration": 22,
    "start_time": "2022-10-16T13:52:20.740Z"
   },
   {
    "duration": 11,
    "start_time": "2022-10-16T13:52:20.763Z"
   },
   {
    "duration": 15,
    "start_time": "2022-10-16T13:52:20.775Z"
   },
   {
    "duration": 44,
    "start_time": "2022-10-16T13:52:20.792Z"
   },
   {
    "duration": 3,
    "start_time": "2022-10-16T13:52:20.838Z"
   },
   {
    "duration": 28,
    "start_time": "2022-10-16T13:52:20.842Z"
   },
   {
    "duration": 16,
    "start_time": "2022-10-16T13:52:20.871Z"
   },
   {
    "duration": 34,
    "start_time": "2022-10-16T13:52:20.888Z"
   },
   {
    "duration": 25,
    "start_time": "2022-10-16T13:52:20.923Z"
   },
   {
    "duration": 3,
    "start_time": "2022-10-16T13:52:20.950Z"
   },
   {
    "duration": 20,
    "start_time": "2022-10-16T13:52:20.954Z"
   },
   {
    "duration": 6,
    "start_time": "2022-10-16T13:52:20.976Z"
   },
   {
    "duration": 7,
    "start_time": "2022-10-16T13:52:20.984Z"
   },
   {
    "duration": 130,
    "start_time": "2022-10-16T13:52:20.992Z"
   },
   {
    "duration": 0,
    "start_time": "2022-10-16T13:52:21.124Z"
   },
   {
    "duration": 36,
    "start_time": "2022-10-16T13:52:51.902Z"
   },
   {
    "duration": 38,
    "start_time": "2022-10-16T13:53:22.610Z"
   },
   {
    "duration": 6,
    "start_time": "2022-10-16T13:53:44.866Z"
   },
   {
    "duration": 45,
    "start_time": "2022-10-16T13:53:47.455Z"
   },
   {
    "duration": 25,
    "start_time": "2022-10-16T13:54:03.649Z"
   },
   {
    "duration": 6,
    "start_time": "2022-10-16T13:54:05.654Z"
   },
   {
    "duration": 1025,
    "start_time": "2022-10-16T13:54:15.819Z"
   },
   {
    "duration": 412,
    "start_time": "2022-10-16T13:54:16.846Z"
   },
   {
    "duration": 10,
    "start_time": "2022-10-16T13:54:17.259Z"
   },
   {
    "duration": 20,
    "start_time": "2022-10-16T13:54:17.271Z"
   },
   {
    "duration": 7,
    "start_time": "2022-10-16T13:54:17.293Z"
   },
   {
    "duration": 21,
    "start_time": "2022-10-16T13:54:17.301Z"
   },
   {
    "duration": 6,
    "start_time": "2022-10-16T13:54:17.323Z"
   },
   {
    "duration": 20,
    "start_time": "2022-10-16T13:54:17.330Z"
   },
   {
    "duration": 7,
    "start_time": "2022-10-16T13:54:17.351Z"
   },
   {
    "duration": 18,
    "start_time": "2022-10-16T13:54:17.359Z"
   },
   {
    "duration": 11,
    "start_time": "2022-10-16T13:54:17.379Z"
   },
   {
    "duration": 15,
    "start_time": "2022-10-16T13:54:17.391Z"
   },
   {
    "duration": 213,
    "start_time": "2022-10-16T13:54:17.407Z"
   },
   {
    "duration": 11,
    "start_time": "2022-10-16T13:54:17.622Z"
   },
   {
    "duration": 57,
    "start_time": "2022-10-16T13:54:17.634Z"
   },
   {
    "duration": 105,
    "start_time": "2022-10-16T13:54:17.692Z"
   },
   {
    "duration": 3,
    "start_time": "2022-10-16T13:54:17.799Z"
   },
   {
    "duration": 31,
    "start_time": "2022-10-16T13:54:17.803Z"
   },
   {
    "duration": 1656,
    "start_time": "2022-10-16T13:54:17.836Z"
   },
   {
    "duration": 34,
    "start_time": "2022-10-16T13:54:19.494Z"
   },
   {
    "duration": 441,
    "start_time": "2022-10-16T13:54:19.529Z"
   },
   {
    "duration": 31,
    "start_time": "2022-10-16T13:54:19.971Z"
   },
   {
    "duration": 21,
    "start_time": "2022-10-16T13:54:20.003Z"
   },
   {
    "duration": 24,
    "start_time": "2022-10-16T13:54:20.025Z"
   },
   {
    "duration": 11,
    "start_time": "2022-10-16T13:54:20.050Z"
   },
   {
    "duration": 33,
    "start_time": "2022-10-16T13:54:20.062Z"
   },
   {
    "duration": 18,
    "start_time": "2022-10-16T13:54:20.096Z"
   },
   {
    "duration": 6,
    "start_time": "2022-10-16T13:54:20.115Z"
   },
   {
    "duration": 35,
    "start_time": "2022-10-16T13:54:20.122Z"
   },
   {
    "duration": 28,
    "start_time": "2022-10-16T13:54:20.158Z"
   },
   {
    "duration": 20,
    "start_time": "2022-10-16T13:54:20.188Z"
   },
   {
    "duration": 34,
    "start_time": "2022-10-16T13:54:20.209Z"
   },
   {
    "duration": 3,
    "start_time": "2022-10-16T13:54:20.245Z"
   },
   {
    "duration": 42,
    "start_time": "2022-10-16T13:54:20.250Z"
   },
   {
    "duration": 21,
    "start_time": "2022-10-16T13:54:20.293Z"
   },
   {
    "duration": 10,
    "start_time": "2022-10-16T13:54:20.316Z"
   },
   {
    "duration": 49,
    "start_time": "2022-10-16T13:54:20.327Z"
   },
   {
    "duration": 18,
    "start_time": "2022-10-16T13:54:20.378Z"
   },
   {
    "duration": 6,
    "start_time": "2022-10-16T13:55:00.989Z"
   },
   {
    "duration": 65,
    "start_time": "2022-10-16T13:55:02.143Z"
   },
   {
    "duration": 11,
    "start_time": "2022-10-16T13:55:04.429Z"
   },
   {
    "duration": 7,
    "start_time": "2022-10-16T13:55:26.203Z"
   },
   {
    "duration": 25,
    "start_time": "2022-10-16T13:55:27.503Z"
   },
   {
    "duration": 5,
    "start_time": "2022-10-16T13:55:28.697Z"
   },
   {
    "duration": 642,
    "start_time": "2022-10-16T13:55:50.558Z"
   },
   {
    "duration": 25,
    "start_time": "2022-10-16T13:55:57.120Z"
   },
   {
    "duration": 5,
    "start_time": "2022-10-16T13:55:59.621Z"
   },
   {
    "duration": 23,
    "start_time": "2022-10-16T13:57:29.321Z"
   },
   {
    "duration": 9,
    "start_time": "2022-10-16T13:57:30.668Z"
   },
   {
    "duration": 6,
    "start_time": "2022-10-16T13:59:25.637Z"
   },
   {
    "duration": 23,
    "start_time": "2022-10-16T14:00:58.547Z"
   },
   {
    "duration": 64,
    "start_time": "2022-10-16T14:01:00.359Z"
   },
   {
    "duration": 7,
    "start_time": "2022-10-16T14:01:40.128Z"
   },
   {
    "duration": 24,
    "start_time": "2022-10-16T14:01:49.619Z"
   },
   {
    "duration": 11,
    "start_time": "2022-10-16T14:01:50.907Z"
   },
   {
    "duration": 25,
    "start_time": "2022-10-16T14:01:58.397Z"
   },
   {
    "duration": 26,
    "start_time": "2022-10-16T14:02:07.388Z"
   },
   {
    "duration": 62,
    "start_time": "2022-10-16T14:02:48.990Z"
   },
   {
    "duration": 1000,
    "start_time": "2022-10-16T14:33:51.111Z"
   },
   {
    "duration": 400,
    "start_time": "2022-10-16T14:33:52.113Z"
   },
   {
    "duration": 12,
    "start_time": "2022-10-16T14:33:52.515Z"
   },
   {
    "duration": 23,
    "start_time": "2022-10-16T14:33:52.528Z"
   },
   {
    "duration": 7,
    "start_time": "2022-10-16T14:33:52.553Z"
   },
   {
    "duration": 19,
    "start_time": "2022-10-16T14:33:52.562Z"
   },
   {
    "duration": 11,
    "start_time": "2022-10-16T14:33:52.583Z"
   },
   {
    "duration": 33,
    "start_time": "2022-10-16T14:33:52.595Z"
   },
   {
    "duration": 7,
    "start_time": "2022-10-16T14:33:52.630Z"
   },
   {
    "duration": 12,
    "start_time": "2022-10-16T14:33:52.639Z"
   },
   {
    "duration": 11,
    "start_time": "2022-10-16T14:33:52.652Z"
   },
   {
    "duration": 13,
    "start_time": "2022-10-16T14:33:52.664Z"
   },
   {
    "duration": 215,
    "start_time": "2022-10-16T14:33:52.678Z"
   },
   {
    "duration": 10,
    "start_time": "2022-10-16T14:33:52.896Z"
   },
   {
    "duration": 65,
    "start_time": "2022-10-16T14:33:52.907Z"
   },
   {
    "duration": 97,
    "start_time": "2022-10-16T14:33:52.974Z"
   },
   {
    "duration": 3,
    "start_time": "2022-10-16T14:33:53.073Z"
   },
   {
    "duration": 24,
    "start_time": "2022-10-16T14:33:53.078Z"
   },
   {
    "duration": 1705,
    "start_time": "2022-10-16T14:33:53.103Z"
   },
   {
    "duration": 32,
    "start_time": "2022-10-16T14:33:54.809Z"
   },
   {
    "duration": 4,
    "start_time": "2022-10-16T14:33:54.843Z"
   },
   {
    "duration": 20,
    "start_time": "2022-10-16T14:33:54.848Z"
   },
   {
    "duration": 13,
    "start_time": "2022-10-16T14:33:54.869Z"
   },
   {
    "duration": 40,
    "start_time": "2022-10-16T14:33:54.883Z"
   },
   {
    "duration": 12,
    "start_time": "2022-10-16T14:33:54.924Z"
   },
   {
    "duration": 16,
    "start_time": "2022-10-16T14:33:54.938Z"
   },
   {
    "duration": 20,
    "start_time": "2022-10-16T14:33:54.956Z"
   },
   {
    "duration": 3,
    "start_time": "2022-10-16T14:33:54.978Z"
   },
   {
    "duration": 49,
    "start_time": "2022-10-16T14:33:54.983Z"
   },
   {
    "duration": 24,
    "start_time": "2022-10-16T14:33:55.033Z"
   },
   {
    "duration": 15,
    "start_time": "2022-10-16T14:33:55.059Z"
   },
   {
    "duration": 29,
    "start_time": "2022-10-16T14:33:55.075Z"
   },
   {
    "duration": 3,
    "start_time": "2022-10-16T14:33:55.105Z"
   },
   {
    "duration": 25,
    "start_time": "2022-10-16T14:33:55.109Z"
   },
   {
    "duration": 6,
    "start_time": "2022-10-16T14:33:55.136Z"
   },
   {
    "duration": 9,
    "start_time": "2022-10-16T14:33:55.143Z"
   },
   {
    "duration": 30,
    "start_time": "2022-10-16T14:33:55.153Z"
   },
   {
    "duration": 74,
    "start_time": "2022-10-16T14:33:55.184Z"
   },
   {
    "duration": 4,
    "start_time": "2022-10-16T14:33:55.260Z"
   },
   {
    "duration": 10,
    "start_time": "2022-10-16T14:34:04.896Z"
   },
   {
    "duration": 9,
    "start_time": "2022-10-16T14:45:21.381Z"
   },
   {
    "duration": 120,
    "start_time": "2022-10-16T14:45:24.549Z"
   },
   {
    "duration": 1019,
    "start_time": "2022-10-16T14:45:41.210Z"
   },
   {
    "duration": 455,
    "start_time": "2022-10-16T14:45:42.231Z"
   },
   {
    "duration": 14,
    "start_time": "2022-10-16T14:45:42.687Z"
   },
   {
    "duration": 31,
    "start_time": "2022-10-16T14:45:42.704Z"
   },
   {
    "duration": 10,
    "start_time": "2022-10-16T14:45:42.737Z"
   },
   {
    "duration": 32,
    "start_time": "2022-10-16T14:45:42.748Z"
   },
   {
    "duration": 9,
    "start_time": "2022-10-16T14:45:42.782Z"
   },
   {
    "duration": 35,
    "start_time": "2022-10-16T14:45:42.792Z"
   },
   {
    "duration": 15,
    "start_time": "2022-10-16T14:45:42.829Z"
   },
   {
    "duration": 41,
    "start_time": "2022-10-16T14:45:42.846Z"
   },
   {
    "duration": 15,
    "start_time": "2022-10-16T14:45:42.889Z"
   },
   {
    "duration": 19,
    "start_time": "2022-10-16T14:45:42.906Z"
   },
   {
    "duration": 241,
    "start_time": "2022-10-16T14:45:42.927Z"
   },
   {
    "duration": 13,
    "start_time": "2022-10-16T14:45:43.170Z"
   },
   {
    "duration": 73,
    "start_time": "2022-10-16T14:45:43.184Z"
   },
   {
    "duration": 111,
    "start_time": "2022-10-16T14:45:43.259Z"
   },
   {
    "duration": 4,
    "start_time": "2022-10-16T14:45:43.371Z"
   },
   {
    "duration": 41,
    "start_time": "2022-10-16T14:45:43.376Z"
   },
   {
    "duration": 1727,
    "start_time": "2022-10-16T14:45:43.418Z"
   },
   {
    "duration": 27,
    "start_time": "2022-10-16T14:45:45.147Z"
   },
   {
    "duration": 4,
    "start_time": "2022-10-16T14:45:45.175Z"
   },
   {
    "duration": 26,
    "start_time": "2022-10-16T14:45:45.180Z"
   },
   {
    "duration": 26,
    "start_time": "2022-10-16T14:45:45.207Z"
   },
   {
    "duration": 23,
    "start_time": "2022-10-16T14:45:45.235Z"
   },
   {
    "duration": 12,
    "start_time": "2022-10-16T14:45:45.260Z"
   },
   {
    "duration": 16,
    "start_time": "2022-10-16T14:45:45.273Z"
   },
   {
    "duration": 47,
    "start_time": "2022-10-16T14:45:45.290Z"
   },
   {
    "duration": 3,
    "start_time": "2022-10-16T14:45:45.340Z"
   },
   {
    "duration": 29,
    "start_time": "2022-10-16T14:45:45.345Z"
   },
   {
    "duration": 28,
    "start_time": "2022-10-16T14:45:45.376Z"
   },
   {
    "duration": 39,
    "start_time": "2022-10-16T14:45:45.407Z"
   },
   {
    "duration": 31,
    "start_time": "2022-10-16T14:45:45.449Z"
   },
   {
    "duration": 4,
    "start_time": "2022-10-16T14:45:45.481Z"
   },
   {
    "duration": 43,
    "start_time": "2022-10-16T14:45:45.486Z"
   },
   {
    "duration": 6,
    "start_time": "2022-10-16T14:45:45.530Z"
   },
   {
    "duration": 6,
    "start_time": "2022-10-16T14:45:45.538Z"
   },
   {
    "duration": 29,
    "start_time": "2022-10-16T14:45:45.546Z"
   },
   {
    "duration": 86,
    "start_time": "2022-10-16T14:45:45.577Z"
   },
   {
    "duration": 5,
    "start_time": "2022-10-16T14:45:45.665Z"
   },
   {
    "duration": 13,
    "start_time": "2022-10-16T14:45:45.671Z"
   },
   {
    "duration": 1022,
    "start_time": "2022-10-16T14:46:50.727Z"
   },
   {
    "duration": 421,
    "start_time": "2022-10-16T14:46:51.750Z"
   },
   {
    "duration": 11,
    "start_time": "2022-10-16T14:46:52.172Z"
   },
   {
    "duration": 25,
    "start_time": "2022-10-16T14:46:52.184Z"
   },
   {
    "duration": 7,
    "start_time": "2022-10-16T14:46:52.210Z"
   },
   {
    "duration": 24,
    "start_time": "2022-10-16T14:46:52.218Z"
   },
   {
    "duration": 6,
    "start_time": "2022-10-16T14:46:52.243Z"
   },
   {
    "duration": 17,
    "start_time": "2022-10-16T14:46:52.250Z"
   },
   {
    "duration": 7,
    "start_time": "2022-10-16T14:46:52.268Z"
   },
   {
    "duration": 10,
    "start_time": "2022-10-16T14:46:52.277Z"
   },
   {
    "duration": 9,
    "start_time": "2022-10-16T14:46:52.289Z"
   },
   {
    "duration": 8,
    "start_time": "2022-10-16T14:46:52.322Z"
   },
   {
    "duration": 212,
    "start_time": "2022-10-16T14:46:52.331Z"
   },
   {
    "duration": 12,
    "start_time": "2022-10-16T14:46:52.545Z"
   },
   {
    "duration": 72,
    "start_time": "2022-10-16T14:46:52.558Z"
   },
   {
    "duration": 94,
    "start_time": "2022-10-16T14:46:52.632Z"
   },
   {
    "duration": 4,
    "start_time": "2022-10-16T14:46:52.728Z"
   },
   {
    "duration": 24,
    "start_time": "2022-10-16T14:46:52.733Z"
   },
   {
    "duration": 1752,
    "start_time": "2022-10-16T14:46:52.759Z"
   },
   {
    "duration": 24,
    "start_time": "2022-10-16T14:46:54.513Z"
   },
   {
    "duration": 4,
    "start_time": "2022-10-16T14:46:54.538Z"
   },
   {
    "duration": 21,
    "start_time": "2022-10-16T14:46:54.543Z"
   },
   {
    "duration": 13,
    "start_time": "2022-10-16T14:46:54.566Z"
   },
   {
    "duration": 44,
    "start_time": "2022-10-16T14:46:54.580Z"
   },
   {
    "duration": 11,
    "start_time": "2022-10-16T14:46:54.626Z"
   },
   {
    "duration": 16,
    "start_time": "2022-10-16T14:46:54.638Z"
   },
   {
    "duration": 19,
    "start_time": "2022-10-16T14:46:54.655Z"
   },
   {
    "duration": 3,
    "start_time": "2022-10-16T14:46:54.678Z"
   },
   {
    "duration": 56,
    "start_time": "2022-10-16T14:46:54.683Z"
   },
   {
    "duration": 16,
    "start_time": "2022-10-16T14:46:54.741Z"
   },
   {
    "duration": 16,
    "start_time": "2022-10-16T14:46:54.759Z"
   },
   {
    "duration": 22,
    "start_time": "2022-10-16T14:46:54.776Z"
   },
   {
    "duration": 3,
    "start_time": "2022-10-16T14:46:54.821Z"
   },
   {
    "duration": 20,
    "start_time": "2022-10-16T14:46:54.826Z"
   },
   {
    "duration": 5,
    "start_time": "2022-10-16T14:46:54.847Z"
   },
   {
    "duration": 5,
    "start_time": "2022-10-16T14:46:54.854Z"
   },
   {
    "duration": 26,
    "start_time": "2022-10-16T14:46:54.861Z"
   },
   {
    "duration": 85,
    "start_time": "2022-10-16T14:46:54.888Z"
   },
   {
    "duration": 5,
    "start_time": "2022-10-16T14:46:54.974Z"
   },
   {
    "duration": 14,
    "start_time": "2022-10-16T14:46:54.981Z"
   },
   {
    "duration": 7,
    "start_time": "2022-10-16T14:49:31.205Z"
   },
   {
    "duration": 17,
    "start_time": "2022-10-16T14:49:35.143Z"
   },
   {
    "duration": 6,
    "start_time": "2022-10-16T14:50:39.407Z"
   },
   {
    "duration": 17,
    "start_time": "2022-10-16T14:50:40.743Z"
   },
   {
    "duration": 16,
    "start_time": "2022-10-16T14:51:11.135Z"
   },
   {
    "duration": 94,
    "start_time": "2022-10-16T14:51:13.576Z"
   },
   {
    "duration": 18,
    "start_time": "2022-10-16T14:51:18.974Z"
   },
   {
    "duration": 20,
    "start_time": "2022-10-16T14:54:38.614Z"
   },
   {
    "duration": 18,
    "start_time": "2022-10-16T14:56:04.022Z"
   },
   {
    "duration": 18,
    "start_time": "2022-10-16T14:56:11.668Z"
   },
   {
    "duration": 12,
    "start_time": "2022-10-16T14:56:26.219Z"
   },
   {
    "duration": 51,
    "start_time": "2022-10-16T18:36:56.462Z"
   },
   {
    "duration": 1314,
    "start_time": "2022-10-16T18:37:06.340Z"
   },
   {
    "duration": 1539,
    "start_time": "2022-10-16T18:37:07.657Z"
   },
   {
    "duration": 16,
    "start_time": "2022-10-16T18:37:09.198Z"
   },
   {
    "duration": 29,
    "start_time": "2022-10-16T18:37:09.217Z"
   },
   {
    "duration": 10,
    "start_time": "2022-10-16T18:37:09.248Z"
   },
   {
    "duration": 45,
    "start_time": "2022-10-16T18:37:09.261Z"
   },
   {
    "duration": 8,
    "start_time": "2022-10-16T18:37:09.308Z"
   },
   {
    "duration": 30,
    "start_time": "2022-10-16T18:37:09.317Z"
   },
   {
    "duration": 9,
    "start_time": "2022-10-16T18:37:09.349Z"
   },
   {
    "duration": 41,
    "start_time": "2022-10-16T18:37:09.362Z"
   },
   {
    "duration": 14,
    "start_time": "2022-10-16T18:37:09.404Z"
   },
   {
    "duration": 13,
    "start_time": "2022-10-16T18:37:09.420Z"
   },
   {
    "duration": 279,
    "start_time": "2022-10-16T18:37:09.435Z"
   },
   {
    "duration": 14,
    "start_time": "2022-10-16T18:37:09.716Z"
   },
   {
    "duration": 90,
    "start_time": "2022-10-16T18:37:09.732Z"
   },
   {
    "duration": 138,
    "start_time": "2022-10-16T18:37:09.825Z"
   },
   {
    "duration": 4,
    "start_time": "2022-10-16T18:37:09.965Z"
   },
   {
    "duration": 40,
    "start_time": "2022-10-16T18:37:09.970Z"
   },
   {
    "duration": 2102,
    "start_time": "2022-10-16T18:37:10.011Z"
   },
   {
    "duration": 33,
    "start_time": "2022-10-16T18:37:12.116Z"
   },
   {
    "duration": 4,
    "start_time": "2022-10-16T18:37:12.153Z"
   },
   {
    "duration": 42,
    "start_time": "2022-10-16T18:37:12.159Z"
   },
   {
    "duration": 24,
    "start_time": "2022-10-16T18:37:12.203Z"
   },
   {
    "duration": 25,
    "start_time": "2022-10-16T18:37:12.228Z"
   },
   {
    "duration": 37,
    "start_time": "2022-10-16T18:37:12.255Z"
   },
   {
    "duration": 21,
    "start_time": "2022-10-16T18:37:12.294Z"
   },
   {
    "duration": 24,
    "start_time": "2022-10-16T18:37:12.316Z"
   },
   {
    "duration": 3,
    "start_time": "2022-10-16T18:37:12.344Z"
   },
   {
    "duration": 51,
    "start_time": "2022-10-16T18:37:12.348Z"
   },
   {
    "duration": 21,
    "start_time": "2022-10-16T18:37:12.401Z"
   },
   {
    "duration": 21,
    "start_time": "2022-10-16T18:37:12.424Z"
   },
   {
    "duration": 52,
    "start_time": "2022-10-16T18:37:12.447Z"
   },
   {
    "duration": 3,
    "start_time": "2022-10-16T18:37:12.501Z"
   },
   {
    "duration": 21,
    "start_time": "2022-10-16T18:37:12.506Z"
   },
   {
    "duration": 6,
    "start_time": "2022-10-16T18:37:12.529Z"
   },
   {
    "duration": 6,
    "start_time": "2022-10-16T18:37:12.536Z"
   },
   {
    "duration": 54,
    "start_time": "2022-10-16T18:37:12.544Z"
   },
   {
    "duration": 71,
    "start_time": "2022-10-16T18:37:12.599Z"
   },
   {
    "duration": 6,
    "start_time": "2022-10-16T18:37:12.688Z"
   },
   {
    "duration": 14,
    "start_time": "2022-10-16T18:37:12.696Z"
   },
   {
    "duration": 19,
    "start_time": "2022-10-16T18:37:12.713Z"
   },
   {
    "duration": 5,
    "start_time": "2022-10-16T18:37:32.523Z"
   },
   {
    "duration": 1089,
    "start_time": "2022-10-16T18:41:06.641Z"
   },
   {
    "duration": 488,
    "start_time": "2022-10-16T18:41:07.732Z"
   },
   {
    "duration": 17,
    "start_time": "2022-10-16T18:41:08.222Z"
   },
   {
    "duration": 30,
    "start_time": "2022-10-16T18:41:08.241Z"
   },
   {
    "duration": 10,
    "start_time": "2022-10-16T18:41:08.273Z"
   },
   {
    "duration": 29,
    "start_time": "2022-10-16T18:41:08.285Z"
   },
   {
    "duration": 8,
    "start_time": "2022-10-16T18:41:08.316Z"
   },
   {
    "duration": 30,
    "start_time": "2022-10-16T18:41:08.326Z"
   },
   {
    "duration": 14,
    "start_time": "2022-10-16T18:41:08.358Z"
   },
   {
    "duration": 12,
    "start_time": "2022-10-16T18:41:08.389Z"
   },
   {
    "duration": 12,
    "start_time": "2022-10-16T18:41:08.402Z"
   },
   {
    "duration": 12,
    "start_time": "2022-10-16T18:41:08.416Z"
   },
   {
    "duration": 283,
    "start_time": "2022-10-16T18:41:08.430Z"
   },
   {
    "duration": 12,
    "start_time": "2022-10-16T18:41:08.716Z"
   },
   {
    "duration": 87,
    "start_time": "2022-10-16T18:41:08.730Z"
   },
   {
    "duration": 132,
    "start_time": "2022-10-16T18:41:08.819Z"
   },
   {
    "duration": 4,
    "start_time": "2022-10-16T18:41:08.953Z"
   },
   {
    "duration": 42,
    "start_time": "2022-10-16T18:41:08.959Z"
   },
   {
    "duration": 2048,
    "start_time": "2022-10-16T18:41:09.004Z"
   },
   {
    "duration": 42,
    "start_time": "2022-10-16T18:41:11.055Z"
   },
   {
    "duration": 3,
    "start_time": "2022-10-16T18:41:11.099Z"
   },
   {
    "duration": 26,
    "start_time": "2022-10-16T18:41:11.104Z"
   },
   {
    "duration": 17,
    "start_time": "2022-10-16T18:41:11.132Z"
   },
   {
    "duration": 42,
    "start_time": "2022-10-16T18:41:11.150Z"
   },
   {
    "duration": 15,
    "start_time": "2022-10-16T18:41:11.194Z"
   },
   {
    "duration": 20,
    "start_time": "2022-10-16T18:41:11.212Z"
   },
   {
    "duration": 21,
    "start_time": "2022-10-16T18:41:11.234Z"
   },
   {
    "duration": 3,
    "start_time": "2022-10-16T18:41:11.257Z"
   },
   {
    "duration": 29,
    "start_time": "2022-10-16T18:41:11.288Z"
   },
   {
    "duration": 21,
    "start_time": "2022-10-16T18:41:11.319Z"
   },
   {
    "duration": 47,
    "start_time": "2022-10-16T18:41:11.342Z"
   },
   {
    "duration": 28,
    "start_time": "2022-10-16T18:41:11.391Z"
   },
   {
    "duration": 4,
    "start_time": "2022-10-16T18:41:11.421Z"
   },
   {
    "duration": 25,
    "start_time": "2022-10-16T18:41:11.426Z"
   },
   {
    "duration": 37,
    "start_time": "2022-10-16T18:41:11.453Z"
   },
   {
    "duration": 8,
    "start_time": "2022-10-16T18:41:11.492Z"
   },
   {
    "duration": 168,
    "start_time": "2022-10-16T18:41:11.502Z"
   },
   {
    "duration": 14,
    "start_time": "2022-10-16T18:41:11.672Z"
   },
   {
    "duration": 7,
    "start_time": "2022-10-16T18:41:11.690Z"
   },
   {
    "duration": 18,
    "start_time": "2022-10-16T18:41:25.143Z"
   },
   {
    "duration": 25,
    "start_time": "2022-10-16T18:48:58.983Z"
   },
   {
    "duration": 16,
    "start_time": "2022-10-16T18:49:16.383Z"
   },
   {
    "duration": 23,
    "start_time": "2022-10-16T18:49:22.281Z"
   },
   {
    "duration": 1110,
    "start_time": "2022-10-16T18:52:33.745Z"
   },
   {
    "duration": 562,
    "start_time": "2022-10-16T18:52:34.859Z"
   },
   {
    "duration": 14,
    "start_time": "2022-10-16T18:52:35.422Z"
   },
   {
    "duration": 27,
    "start_time": "2022-10-16T18:52:35.438Z"
   },
   {
    "duration": 9,
    "start_time": "2022-10-16T18:52:35.467Z"
   },
   {
    "duration": 45,
    "start_time": "2022-10-16T18:52:35.477Z"
   },
   {
    "duration": 11,
    "start_time": "2022-10-16T18:52:35.526Z"
   },
   {
    "duration": 20,
    "start_time": "2022-10-16T18:52:35.539Z"
   },
   {
    "duration": 30,
    "start_time": "2022-10-16T18:52:35.561Z"
   },
   {
    "duration": 13,
    "start_time": "2022-10-16T18:52:35.595Z"
   },
   {
    "duration": 15,
    "start_time": "2022-10-16T18:52:35.609Z"
   },
   {
    "duration": 12,
    "start_time": "2022-10-16T18:52:35.626Z"
   },
   {
    "duration": 280,
    "start_time": "2022-10-16T18:52:35.640Z"
   },
   {
    "duration": 13,
    "start_time": "2022-10-16T18:52:35.922Z"
   },
   {
    "duration": 88,
    "start_time": "2022-10-16T18:52:35.937Z"
   },
   {
    "duration": 126,
    "start_time": "2022-10-16T18:52:36.027Z"
   },
   {
    "duration": 4,
    "start_time": "2022-10-16T18:52:36.155Z"
   },
   {
    "duration": 43,
    "start_time": "2022-10-16T18:52:36.160Z"
   },
   {
    "duration": 2001,
    "start_time": "2022-10-16T18:52:36.205Z"
   },
   {
    "duration": 28,
    "start_time": "2022-10-16T18:52:38.208Z"
   },
   {
    "duration": 5,
    "start_time": "2022-10-16T18:52:38.238Z"
   },
   {
    "duration": 25,
    "start_time": "2022-10-16T18:52:38.245Z"
   },
   {
    "duration": 30,
    "start_time": "2022-10-16T18:52:38.273Z"
   },
   {
    "duration": 23,
    "start_time": "2022-10-16T18:52:38.306Z"
   },
   {
    "duration": 13,
    "start_time": "2022-10-16T18:52:38.331Z"
   },
   {
    "duration": 20,
    "start_time": "2022-10-16T18:52:38.345Z"
   },
   {
    "duration": 22,
    "start_time": "2022-10-16T18:52:38.390Z"
   },
   {
    "duration": 3,
    "start_time": "2022-10-16T18:52:38.416Z"
   },
   {
    "duration": 28,
    "start_time": "2022-10-16T18:52:38.421Z"
   },
   {
    "duration": 45,
    "start_time": "2022-10-16T18:52:38.451Z"
   },
   {
    "duration": 21,
    "start_time": "2022-10-16T18:52:38.498Z"
   },
   {
    "duration": 32,
    "start_time": "2022-10-16T18:52:38.521Z"
   },
   {
    "duration": 5,
    "start_time": "2022-10-16T18:52:38.555Z"
   },
   {
    "duration": 51,
    "start_time": "2022-10-16T18:52:38.562Z"
   },
   {
    "duration": 8,
    "start_time": "2022-10-16T18:52:38.615Z"
   },
   {
    "duration": 6,
    "start_time": "2022-10-16T18:52:38.624Z"
   },
   {
    "duration": 105,
    "start_time": "2022-10-16T18:52:38.632Z"
   },
   {
    "duration": 10,
    "start_time": "2022-10-16T18:52:38.739Z"
   },
   {
    "duration": 10,
    "start_time": "2022-10-16T18:52:38.750Z"
   },
   {
    "duration": 15,
    "start_time": "2022-10-16T18:52:38.762Z"
   },
   {
    "duration": 1202,
    "start_time": "2022-10-17T07:35:44.499Z"
   },
   {
    "duration": 863,
    "start_time": "2022-10-17T07:35:45.704Z"
   },
   {
    "duration": 11,
    "start_time": "2022-10-17T07:35:46.569Z"
   },
   {
    "duration": 22,
    "start_time": "2022-10-17T07:35:46.582Z"
   },
   {
    "duration": 7,
    "start_time": "2022-10-17T07:35:46.606Z"
   },
   {
    "duration": 28,
    "start_time": "2022-10-17T07:35:46.614Z"
   },
   {
    "duration": 7,
    "start_time": "2022-10-17T07:35:46.644Z"
   },
   {
    "duration": 21,
    "start_time": "2022-10-17T07:35:46.653Z"
   },
   {
    "duration": 8,
    "start_time": "2022-10-17T07:35:46.676Z"
   },
   {
    "duration": 29,
    "start_time": "2022-10-17T07:35:46.685Z"
   },
   {
    "duration": 16,
    "start_time": "2022-10-17T07:35:46.716Z"
   },
   {
    "duration": 16,
    "start_time": "2022-10-17T07:35:46.734Z"
   },
   {
    "duration": 216,
    "start_time": "2022-10-17T07:35:46.752Z"
   },
   {
    "duration": 11,
    "start_time": "2022-10-17T07:35:46.971Z"
   },
   {
    "duration": 75,
    "start_time": "2022-10-17T07:35:46.983Z"
   },
   {
    "duration": 101,
    "start_time": "2022-10-17T07:35:47.060Z"
   },
   {
    "duration": 4,
    "start_time": "2022-10-17T07:35:47.163Z"
   },
   {
    "duration": 21,
    "start_time": "2022-10-17T07:35:47.168Z"
   },
   {
    "duration": 1921,
    "start_time": "2022-10-17T07:35:47.190Z"
   },
   {
    "duration": 25,
    "start_time": "2022-10-17T07:35:49.112Z"
   },
   {
    "duration": 3,
    "start_time": "2022-10-17T07:35:49.139Z"
   },
   {
    "duration": 18,
    "start_time": "2022-10-17T07:35:49.144Z"
   },
   {
    "duration": 9,
    "start_time": "2022-10-17T07:35:49.164Z"
   },
   {
    "duration": 43,
    "start_time": "2022-10-17T07:35:49.174Z"
   },
   {
    "duration": 12,
    "start_time": "2022-10-17T07:35:49.218Z"
   },
   {
    "duration": 10,
    "start_time": "2022-10-17T07:35:49.232Z"
   },
   {
    "duration": 18,
    "start_time": "2022-10-17T07:35:49.243Z"
   },
   {
    "duration": 3,
    "start_time": "2022-10-17T07:35:49.263Z"
   },
   {
    "duration": 47,
    "start_time": "2022-10-17T07:35:49.267Z"
   },
   {
    "duration": 19,
    "start_time": "2022-10-17T07:35:49.316Z"
   },
   {
    "duration": 19,
    "start_time": "2022-10-17T07:35:49.337Z"
   },
   {
    "duration": 27,
    "start_time": "2022-10-17T07:35:49.358Z"
   },
   {
    "duration": 3,
    "start_time": "2022-10-17T07:35:49.409Z"
   },
   {
    "duration": 18,
    "start_time": "2022-10-17T07:35:49.414Z"
   },
   {
    "duration": 6,
    "start_time": "2022-10-17T07:35:49.433Z"
   },
   {
    "duration": 7,
    "start_time": "2022-10-17T07:35:49.440Z"
   },
   {
    "duration": 86,
    "start_time": "2022-10-17T07:35:49.448Z"
   },
   {
    "duration": 10,
    "start_time": "2022-10-17T07:35:49.535Z"
   },
   {
    "duration": 11,
    "start_time": "2022-10-17T07:35:49.547Z"
   },
   {
    "duration": 8,
    "start_time": "2022-10-17T07:35:49.559Z"
   },
   {
    "duration": 19,
    "start_time": "2022-10-17T07:35:55.609Z"
   },
   {
    "duration": 18,
    "start_time": "2022-10-17T07:36:12.190Z"
   },
   {
    "duration": 7,
    "start_time": "2022-10-17T07:36:24.003Z"
   },
   {
    "duration": 29,
    "start_time": "2022-10-17T07:36:31.830Z"
   },
   {
    "duration": 11,
    "start_time": "2022-10-17T07:37:19.570Z"
   },
   {
    "duration": 29,
    "start_time": "2022-10-17T07:37:21.409Z"
   },
   {
    "duration": 52,
    "start_time": "2022-10-17T07:39:44.505Z"
   },
   {
    "duration": 34,
    "start_time": "2022-10-17T07:40:04.438Z"
   },
   {
    "duration": 6,
    "start_time": "2022-10-17T07:41:38.243Z"
   },
   {
    "duration": 29,
    "start_time": "2022-10-17T07:41:49.810Z"
   },
   {
    "duration": 1027,
    "start_time": "2022-10-17T07:42:52.272Z"
   },
   {
    "duration": 372,
    "start_time": "2022-10-17T07:42:53.301Z"
   },
   {
    "duration": 12,
    "start_time": "2022-10-17T07:42:53.674Z"
   },
   {
    "duration": 23,
    "start_time": "2022-10-17T07:42:53.687Z"
   },
   {
    "duration": 8,
    "start_time": "2022-10-17T07:42:53.713Z"
   },
   {
    "duration": 20,
    "start_time": "2022-10-17T07:42:53.722Z"
   },
   {
    "duration": 6,
    "start_time": "2022-10-17T07:42:53.744Z"
   },
   {
    "duration": 27,
    "start_time": "2022-10-17T07:42:53.751Z"
   },
   {
    "duration": 14,
    "start_time": "2022-10-17T07:42:53.779Z"
   },
   {
    "duration": 22,
    "start_time": "2022-10-17T07:42:53.794Z"
   },
   {
    "duration": 15,
    "start_time": "2022-10-17T07:42:53.818Z"
   },
   {
    "duration": 15,
    "start_time": "2022-10-17T07:42:53.834Z"
   },
   {
    "duration": 231,
    "start_time": "2022-10-17T07:42:53.850Z"
   },
   {
    "duration": 11,
    "start_time": "2022-10-17T07:42:54.084Z"
   },
   {
    "duration": 72,
    "start_time": "2022-10-17T07:42:54.096Z"
   },
   {
    "duration": 101,
    "start_time": "2022-10-17T07:42:54.170Z"
   },
   {
    "duration": 4,
    "start_time": "2022-10-17T07:42:54.273Z"
   },
   {
    "duration": 19,
    "start_time": "2022-10-17T07:42:54.279Z"
   },
   {
    "duration": 1918,
    "start_time": "2022-10-17T07:42:54.299Z"
   },
   {
    "duration": 32,
    "start_time": "2022-10-17T07:42:56.219Z"
   },
   {
    "duration": 5,
    "start_time": "2022-10-17T07:42:56.252Z"
   },
   {
    "duration": 21,
    "start_time": "2022-10-17T07:42:56.258Z"
   },
   {
    "duration": 29,
    "start_time": "2022-10-17T07:42:56.280Z"
   },
   {
    "duration": 21,
    "start_time": "2022-10-17T07:42:56.311Z"
   },
   {
    "duration": 11,
    "start_time": "2022-10-17T07:42:56.334Z"
   },
   {
    "duration": 10,
    "start_time": "2022-10-17T07:42:56.346Z"
   },
   {
    "duration": 17,
    "start_time": "2022-10-17T07:42:56.358Z"
   },
   {
    "duration": 2,
    "start_time": "2022-10-17T07:42:56.377Z"
   },
   {
    "duration": 49,
    "start_time": "2022-10-17T07:42:56.381Z"
   },
   {
    "duration": 23,
    "start_time": "2022-10-17T07:42:56.432Z"
   },
   {
    "duration": 23,
    "start_time": "2022-10-17T07:42:56.456Z"
   },
   {
    "duration": 55,
    "start_time": "2022-10-17T07:42:56.480Z"
   },
   {
    "duration": 7,
    "start_time": "2022-10-17T07:42:56.537Z"
   },
   {
    "duration": 34,
    "start_time": "2022-10-17T07:42:56.546Z"
   },
   {
    "duration": 6,
    "start_time": "2022-10-17T07:42:56.582Z"
   },
   {
    "duration": 20,
    "start_time": "2022-10-17T07:42:56.589Z"
   },
   {
    "duration": 73,
    "start_time": "2022-10-17T07:42:56.611Z"
   },
   {
    "duration": 24,
    "start_time": "2022-10-17T07:42:56.687Z"
   },
   {
    "duration": 7,
    "start_time": "2022-10-17T07:42:56.713Z"
   },
   {
    "duration": 14,
    "start_time": "2022-10-17T07:42:56.721Z"
   },
   {
    "duration": 41,
    "start_time": "2022-10-17T07:42:56.738Z"
   },
   {
    "duration": 46,
    "start_time": "2022-10-17T07:42:56.781Z"
   },
   {
    "duration": 1038,
    "start_time": "2022-10-17T07:44:51.775Z"
   },
   {
    "duration": 388,
    "start_time": "2022-10-17T07:44:52.814Z"
   },
   {
    "duration": 11,
    "start_time": "2022-10-17T07:44:53.204Z"
   },
   {
    "duration": 30,
    "start_time": "2022-10-17T07:44:53.218Z"
   },
   {
    "duration": 8,
    "start_time": "2022-10-17T07:44:53.250Z"
   },
   {
    "duration": 25,
    "start_time": "2022-10-17T07:44:53.259Z"
   },
   {
    "duration": 7,
    "start_time": "2022-10-17T07:44:53.285Z"
   },
   {
    "duration": 44,
    "start_time": "2022-10-17T07:44:53.293Z"
   },
   {
    "duration": 7,
    "start_time": "2022-10-17T07:44:53.339Z"
   },
   {
    "duration": 9,
    "start_time": "2022-10-17T07:44:53.350Z"
   },
   {
    "duration": 11,
    "start_time": "2022-10-17T07:44:53.361Z"
   },
   {
    "duration": 13,
    "start_time": "2022-10-17T07:44:53.374Z"
   },
   {
    "duration": 235,
    "start_time": "2022-10-17T07:44:53.389Z"
   },
   {
    "duration": 12,
    "start_time": "2022-10-17T07:44:53.626Z"
   },
   {
    "duration": 77,
    "start_time": "2022-10-17T07:44:53.640Z"
   },
   {
    "duration": 103,
    "start_time": "2022-10-17T07:44:53.719Z"
   },
   {
    "duration": 4,
    "start_time": "2022-10-17T07:44:53.824Z"
   },
   {
    "duration": 18,
    "start_time": "2022-10-17T07:44:53.830Z"
   },
   {
    "duration": 1991,
    "start_time": "2022-10-17T07:44:53.850Z"
   },
   {
    "duration": 24,
    "start_time": "2022-10-17T07:44:55.842Z"
   },
   {
    "duration": 5,
    "start_time": "2022-10-17T07:44:55.867Z"
   },
   {
    "duration": 23,
    "start_time": "2022-10-17T07:44:55.873Z"
   },
   {
    "duration": 19,
    "start_time": "2022-10-17T07:44:55.898Z"
   },
   {
    "duration": 21,
    "start_time": "2022-10-17T07:44:55.918Z"
   },
   {
    "duration": 12,
    "start_time": "2022-10-17T07:44:55.941Z"
   },
   {
    "duration": 11,
    "start_time": "2022-10-17T07:44:55.954Z"
   },
   {
    "duration": 44,
    "start_time": "2022-10-17T07:44:55.966Z"
   },
   {
    "duration": 3,
    "start_time": "2022-10-17T07:44:56.013Z"
   },
   {
    "duration": 22,
    "start_time": "2022-10-17T07:44:56.017Z"
   },
   {
    "duration": 17,
    "start_time": "2022-10-17T07:44:56.041Z"
   },
   {
    "duration": 16,
    "start_time": "2022-10-17T07:44:56.059Z"
   },
   {
    "duration": 50,
    "start_time": "2022-10-17T07:44:56.077Z"
   },
   {
    "duration": 3,
    "start_time": "2022-10-17T07:44:56.129Z"
   },
   {
    "duration": 17,
    "start_time": "2022-10-17T07:44:56.134Z"
   },
   {
    "duration": 5,
    "start_time": "2022-10-17T07:44:56.153Z"
   },
   {
    "duration": 6,
    "start_time": "2022-10-17T07:44:56.159Z"
   },
   {
    "duration": 97,
    "start_time": "2022-10-17T07:44:56.166Z"
   },
   {
    "duration": 12,
    "start_time": "2022-10-17T07:44:56.264Z"
   },
   {
    "duration": 14,
    "start_time": "2022-10-17T07:44:56.278Z"
   },
   {
    "duration": 18,
    "start_time": "2022-10-17T07:44:56.294Z"
   },
   {
    "duration": 33,
    "start_time": "2022-10-17T07:44:56.313Z"
   },
   {
    "duration": 961,
    "start_time": "2022-10-17T07:45:47.670Z"
   },
   {
    "duration": 373,
    "start_time": "2022-10-17T07:45:48.633Z"
   },
   {
    "duration": 12,
    "start_time": "2022-10-17T07:45:49.008Z"
   },
   {
    "duration": 23,
    "start_time": "2022-10-17T07:45:49.021Z"
   },
   {
    "duration": 15,
    "start_time": "2022-10-17T07:45:49.045Z"
   },
   {
    "duration": 25,
    "start_time": "2022-10-17T07:45:49.061Z"
   },
   {
    "duration": 8,
    "start_time": "2022-10-17T07:45:49.087Z"
   },
   {
    "duration": 16,
    "start_time": "2022-10-17T07:45:49.109Z"
   },
   {
    "duration": 16,
    "start_time": "2022-10-17T07:45:49.126Z"
   },
   {
    "duration": 16,
    "start_time": "2022-10-17T07:45:49.144Z"
   },
   {
    "duration": 12,
    "start_time": "2022-10-17T07:45:49.161Z"
   },
   {
    "duration": 16,
    "start_time": "2022-10-17T07:45:49.174Z"
   },
   {
    "duration": 214,
    "start_time": "2022-10-17T07:45:49.192Z"
   },
   {
    "duration": 11,
    "start_time": "2022-10-17T07:45:49.409Z"
   },
   {
    "duration": 64,
    "start_time": "2022-10-17T07:45:49.421Z"
   },
   {
    "duration": 104,
    "start_time": "2022-10-17T07:45:49.487Z"
   },
   {
    "duration": 3,
    "start_time": "2022-10-17T07:45:49.592Z"
   },
   {
    "duration": 21,
    "start_time": "2022-10-17T07:45:49.597Z"
   },
   {
    "duration": 1878,
    "start_time": "2022-10-17T07:45:49.620Z"
   },
   {
    "duration": 24,
    "start_time": "2022-10-17T07:45:51.499Z"
   },
   {
    "duration": 3,
    "start_time": "2022-10-17T07:45:51.525Z"
   },
   {
    "duration": 20,
    "start_time": "2022-10-17T07:45:51.530Z"
   },
   {
    "duration": 10,
    "start_time": "2022-10-17T07:45:51.551Z"
   },
   {
    "duration": 20,
    "start_time": "2022-10-17T07:45:51.563Z"
   },
   {
    "duration": 35,
    "start_time": "2022-10-17T07:45:51.584Z"
   },
   {
    "duration": 13,
    "start_time": "2022-10-17T07:45:51.620Z"
   },
   {
    "duration": 19,
    "start_time": "2022-10-17T07:45:51.635Z"
   },
   {
    "duration": 3,
    "start_time": "2022-10-17T07:45:51.658Z"
   },
   {
    "duration": 53,
    "start_time": "2022-10-17T07:45:51.663Z"
   },
   {
    "duration": 17,
    "start_time": "2022-10-17T07:45:51.718Z"
   },
   {
    "duration": 15,
    "start_time": "2022-10-17T07:45:51.737Z"
   },
   {
    "duration": 27,
    "start_time": "2022-10-17T07:45:51.753Z"
   },
   {
    "duration": 27,
    "start_time": "2022-10-17T07:45:51.782Z"
   },
   {
    "duration": 17,
    "start_time": "2022-10-17T07:45:51.811Z"
   },
   {
    "duration": 7,
    "start_time": "2022-10-17T07:45:51.829Z"
   },
   {
    "duration": 6,
    "start_time": "2022-10-17T07:45:51.838Z"
   },
   {
    "duration": 91,
    "start_time": "2022-10-17T07:45:51.845Z"
   },
   {
    "duration": 11,
    "start_time": "2022-10-17T07:45:51.938Z"
   },
   {
    "duration": 6,
    "start_time": "2022-10-17T07:45:51.951Z"
   },
   {
    "duration": 12,
    "start_time": "2022-10-17T07:45:51.958Z"
   },
   {
    "duration": 48,
    "start_time": "2022-10-17T07:45:51.971Z"
   },
   {
    "duration": 15,
    "start_time": "2022-10-17T07:48:59.041Z"
   },
   {
    "duration": 980,
    "start_time": "2022-10-17T07:49:49.441Z"
   },
   {
    "duration": 379,
    "start_time": "2022-10-17T07:49:50.423Z"
   },
   {
    "duration": 12,
    "start_time": "2022-10-17T07:49:50.806Z"
   },
   {
    "duration": 22,
    "start_time": "2022-10-17T07:49:50.820Z"
   },
   {
    "duration": 8,
    "start_time": "2022-10-17T07:49:50.844Z"
   },
   {
    "duration": 23,
    "start_time": "2022-10-17T07:49:50.853Z"
   },
   {
    "duration": 7,
    "start_time": "2022-10-17T07:49:50.878Z"
   },
   {
    "duration": 43,
    "start_time": "2022-10-17T07:49:50.886Z"
   },
   {
    "duration": 7,
    "start_time": "2022-10-17T07:49:50.932Z"
   },
   {
    "duration": 17,
    "start_time": "2022-10-17T07:49:50.940Z"
   },
   {
    "duration": 16,
    "start_time": "2022-10-17T07:49:50.959Z"
   },
   {
    "duration": 12,
    "start_time": "2022-10-17T07:49:50.977Z"
   },
   {
    "duration": 231,
    "start_time": "2022-10-17T07:49:50.990Z"
   },
   {
    "duration": 12,
    "start_time": "2022-10-17T07:49:51.222Z"
   },
   {
    "duration": 84,
    "start_time": "2022-10-17T07:49:51.236Z"
   },
   {
    "duration": 105,
    "start_time": "2022-10-17T07:49:51.322Z"
   },
   {
    "duration": 4,
    "start_time": "2022-10-17T07:49:51.429Z"
   },
   {
    "duration": 17,
    "start_time": "2022-10-17T07:49:51.434Z"
   },
   {
    "duration": 1906,
    "start_time": "2022-10-17T07:49:51.453Z"
   },
   {
    "duration": 23,
    "start_time": "2022-10-17T07:49:53.361Z"
   },
   {
    "duration": 3,
    "start_time": "2022-10-17T07:49:53.386Z"
   },
   {
    "duration": 29,
    "start_time": "2022-10-17T07:49:53.391Z"
   },
   {
    "duration": 9,
    "start_time": "2022-10-17T07:49:53.422Z"
   },
   {
    "duration": 22,
    "start_time": "2022-10-17T07:49:53.433Z"
   },
   {
    "duration": 12,
    "start_time": "2022-10-17T07:49:53.457Z"
   },
   {
    "duration": 18,
    "start_time": "2022-10-17T07:49:53.471Z"
   },
   {
    "duration": 20,
    "start_time": "2022-10-17T07:49:53.508Z"
   },
   {
    "duration": 3,
    "start_time": "2022-10-17T07:49:53.530Z"
   },
   {
    "duration": 23,
    "start_time": "2022-10-17T07:49:53.534Z"
   },
   {
    "duration": 18,
    "start_time": "2022-10-17T07:49:53.559Z"
   },
   {
    "duration": 43,
    "start_time": "2022-10-17T07:49:53.579Z"
   },
   {
    "duration": 27,
    "start_time": "2022-10-17T07:49:53.624Z"
   },
   {
    "duration": 4,
    "start_time": "2022-10-17T07:49:53.652Z"
   },
   {
    "duration": 18,
    "start_time": "2022-10-17T07:49:53.658Z"
   },
   {
    "duration": 35,
    "start_time": "2022-10-17T07:49:53.678Z"
   },
   {
    "duration": 7,
    "start_time": "2022-10-17T07:49:53.714Z"
   },
   {
    "duration": 74,
    "start_time": "2022-10-17T07:49:53.722Z"
   },
   {
    "duration": 16,
    "start_time": "2022-10-17T07:49:53.798Z"
   },
   {
    "duration": 15,
    "start_time": "2022-10-17T07:49:53.815Z"
   },
   {
    "duration": 12,
    "start_time": "2022-10-17T07:49:53.832Z"
   },
   {
    "duration": 27,
    "start_time": "2022-10-17T07:49:53.845Z"
   },
   {
    "duration": 6,
    "start_time": "2022-10-17T07:49:53.873Z"
   },
   {
    "duration": 33,
    "start_time": "2022-10-17T07:49:53.880Z"
   },
   {
    "duration": 8,
    "start_time": "2022-10-17T07:51:11.685Z"
   },
   {
    "duration": 44,
    "start_time": "2022-10-17T07:52:02.329Z"
   },
   {
    "duration": 12,
    "start_time": "2022-10-17T07:52:17.149Z"
   },
   {
    "duration": 15,
    "start_time": "2022-10-17T07:52:18.818Z"
   },
   {
    "duration": 968,
    "start_time": "2022-10-17T07:52:31.643Z"
   },
   {
    "duration": 374,
    "start_time": "2022-10-17T07:52:32.612Z"
   },
   {
    "duration": 11,
    "start_time": "2022-10-17T07:52:32.987Z"
   },
   {
    "duration": 33,
    "start_time": "2022-10-17T07:52:32.999Z"
   },
   {
    "duration": 8,
    "start_time": "2022-10-17T07:52:33.034Z"
   },
   {
    "duration": 19,
    "start_time": "2022-10-17T07:52:33.043Z"
   },
   {
    "duration": 6,
    "start_time": "2022-10-17T07:52:33.063Z"
   },
   {
    "duration": 18,
    "start_time": "2022-10-17T07:52:33.071Z"
   },
   {
    "duration": 24,
    "start_time": "2022-10-17T07:52:33.090Z"
   },
   {
    "duration": 10,
    "start_time": "2022-10-17T07:52:33.116Z"
   },
   {
    "duration": 10,
    "start_time": "2022-10-17T07:52:33.127Z"
   },
   {
    "duration": 11,
    "start_time": "2022-10-17T07:52:33.138Z"
   },
   {
    "duration": 246,
    "start_time": "2022-10-17T07:52:33.151Z"
   },
   {
    "duration": 15,
    "start_time": "2022-10-17T07:52:33.400Z"
   },
   {
    "duration": 65,
    "start_time": "2022-10-17T07:52:33.417Z"
   },
   {
    "duration": 105,
    "start_time": "2022-10-17T07:52:33.483Z"
   },
   {
    "duration": 3,
    "start_time": "2022-10-17T07:52:33.590Z"
   },
   {
    "duration": 26,
    "start_time": "2022-10-17T07:52:33.594Z"
   },
   {
    "duration": 1896,
    "start_time": "2022-10-17T07:52:33.622Z"
   },
   {
    "duration": 27,
    "start_time": "2022-10-17T07:52:35.520Z"
   },
   {
    "duration": 3,
    "start_time": "2022-10-17T07:52:35.549Z"
   },
   {
    "duration": 25,
    "start_time": "2022-10-17T07:52:35.553Z"
   },
   {
    "duration": 10,
    "start_time": "2022-10-17T07:52:35.580Z"
   },
   {
    "duration": 35,
    "start_time": "2022-10-17T07:52:35.591Z"
   },
   {
    "duration": 11,
    "start_time": "2022-10-17T07:52:35.628Z"
   },
   {
    "duration": 11,
    "start_time": "2022-10-17T07:52:35.641Z"
   },
   {
    "duration": 19,
    "start_time": "2022-10-17T07:52:35.653Z"
   },
   {
    "duration": 3,
    "start_time": "2022-10-17T07:52:35.673Z"
   },
   {
    "duration": 45,
    "start_time": "2022-10-17T07:52:35.677Z"
   },
   {
    "duration": 16,
    "start_time": "2022-10-17T07:52:35.724Z"
   },
   {
    "duration": 17,
    "start_time": "2022-10-17T07:52:35.741Z"
   },
   {
    "duration": 49,
    "start_time": "2022-10-17T07:52:35.760Z"
   },
   {
    "duration": 3,
    "start_time": "2022-10-17T07:52:35.811Z"
   },
   {
    "duration": 20,
    "start_time": "2022-10-17T07:52:35.815Z"
   },
   {
    "duration": 5,
    "start_time": "2022-10-17T07:52:35.837Z"
   },
   {
    "duration": 6,
    "start_time": "2022-10-17T07:52:35.843Z"
   },
   {
    "duration": 85,
    "start_time": "2022-10-17T07:52:35.850Z"
   },
   {
    "duration": 10,
    "start_time": "2022-10-17T07:52:35.936Z"
   },
   {
    "duration": 10,
    "start_time": "2022-10-17T07:52:35.947Z"
   },
   {
    "duration": 13,
    "start_time": "2022-10-17T07:52:35.958Z"
   },
   {
    "duration": 36,
    "start_time": "2022-10-17T07:52:35.974Z"
   },
   {
    "duration": 10,
    "start_time": "2022-10-17T07:52:36.011Z"
   },
   {
    "duration": 15,
    "start_time": "2022-10-17T07:52:36.022Z"
   },
   {
    "duration": 9,
    "start_time": "2022-10-17T07:52:36.039Z"
   },
   {
    "duration": 1017,
    "start_time": "2022-10-17T07:53:26.405Z"
   },
   {
    "duration": 391,
    "start_time": "2022-10-17T07:53:27.424Z"
   },
   {
    "duration": 12,
    "start_time": "2022-10-17T07:53:27.816Z"
   },
   {
    "duration": 21,
    "start_time": "2022-10-17T07:53:27.830Z"
   },
   {
    "duration": 7,
    "start_time": "2022-10-17T07:53:27.852Z"
   },
   {
    "duration": 22,
    "start_time": "2022-10-17T07:53:27.861Z"
   },
   {
    "duration": 7,
    "start_time": "2022-10-17T07:53:27.885Z"
   },
   {
    "duration": 16,
    "start_time": "2022-10-17T07:53:27.909Z"
   },
   {
    "duration": 7,
    "start_time": "2022-10-17T07:53:27.926Z"
   },
   {
    "duration": 9,
    "start_time": "2022-10-17T07:53:27.935Z"
   },
   {
    "duration": 11,
    "start_time": "2022-10-17T07:53:27.946Z"
   },
   {
    "duration": 11,
    "start_time": "2022-10-17T07:53:27.958Z"
   },
   {
    "duration": 237,
    "start_time": "2022-10-17T07:53:27.970Z"
   },
   {
    "duration": 10,
    "start_time": "2022-10-17T07:53:28.209Z"
   },
   {
    "duration": 67,
    "start_time": "2022-10-17T07:53:28.221Z"
   },
   {
    "duration": 102,
    "start_time": "2022-10-17T07:53:28.289Z"
   },
   {
    "duration": 4,
    "start_time": "2022-10-17T07:53:28.392Z"
   },
   {
    "duration": 14,
    "start_time": "2022-10-17T07:53:28.408Z"
   },
   {
    "duration": 1854,
    "start_time": "2022-10-17T07:53:28.424Z"
   },
   {
    "duration": 22,
    "start_time": "2022-10-17T07:53:30.280Z"
   },
   {
    "duration": 3,
    "start_time": "2022-10-17T07:53:30.309Z"
   },
   {
    "duration": 37,
    "start_time": "2022-10-17T07:53:30.314Z"
   },
   {
    "duration": 10,
    "start_time": "2022-10-17T07:53:30.353Z"
   },
   {
    "duration": 28,
    "start_time": "2022-10-17T07:53:30.364Z"
   },
   {
    "duration": 16,
    "start_time": "2022-10-17T07:53:30.394Z"
   },
   {
    "duration": 12,
    "start_time": "2022-10-17T07:53:30.411Z"
   },
   {
    "duration": 20,
    "start_time": "2022-10-17T07:53:30.424Z"
   },
   {
    "duration": 2,
    "start_time": "2022-10-17T07:53:30.448Z"
   },
   {
    "duration": 23,
    "start_time": "2022-10-17T07:53:30.452Z"
   },
   {
    "duration": 48,
    "start_time": "2022-10-17T07:53:30.477Z"
   },
   {
    "duration": 17,
    "start_time": "2022-10-17T07:53:30.527Z"
   },
   {
    "duration": 37,
    "start_time": "2022-10-17T07:53:30.546Z"
   },
   {
    "duration": 4,
    "start_time": "2022-10-17T07:53:30.585Z"
   },
   {
    "duration": 36,
    "start_time": "2022-10-17T07:53:30.590Z"
   },
   {
    "duration": 18,
    "start_time": "2022-10-17T07:53:30.628Z"
   },
   {
    "duration": 5,
    "start_time": "2022-10-17T07:53:30.647Z"
   },
   {
    "duration": 87,
    "start_time": "2022-10-17T07:53:30.654Z"
   },
   {
    "duration": 10,
    "start_time": "2022-10-17T07:53:30.742Z"
   },
   {
    "duration": 19,
    "start_time": "2022-10-17T07:53:30.753Z"
   },
   {
    "duration": 25,
    "start_time": "2022-10-17T07:53:30.773Z"
   },
   {
    "duration": 31,
    "start_time": "2022-10-17T07:53:30.800Z"
   },
   {
    "duration": 8,
    "start_time": "2022-10-17T07:53:30.832Z"
   },
   {
    "duration": 18,
    "start_time": "2022-10-17T07:53:30.842Z"
   },
   {
    "duration": 11,
    "start_time": "2022-10-17T07:53:30.862Z"
   },
   {
    "duration": 1081,
    "start_time": "2022-10-17T08:04:53.584Z"
   },
   {
    "duration": 389,
    "start_time": "2022-10-17T08:04:54.666Z"
   },
   {
    "duration": 12,
    "start_time": "2022-10-17T08:04:55.057Z"
   },
   {
    "duration": 23,
    "start_time": "2022-10-17T08:04:55.072Z"
   },
   {
    "duration": 9,
    "start_time": "2022-10-17T08:04:55.096Z"
   },
   {
    "duration": 22,
    "start_time": "2022-10-17T08:04:55.106Z"
   },
   {
    "duration": 7,
    "start_time": "2022-10-17T08:04:55.130Z"
   },
   {
    "duration": 22,
    "start_time": "2022-10-17T08:04:55.138Z"
   },
   {
    "duration": 9,
    "start_time": "2022-10-17T08:04:55.162Z"
   },
   {
    "duration": 36,
    "start_time": "2022-10-17T08:04:55.174Z"
   },
   {
    "duration": 16,
    "start_time": "2022-10-17T08:04:55.212Z"
   },
   {
    "duration": 13,
    "start_time": "2022-10-17T08:04:55.230Z"
   },
   {
    "duration": 229,
    "start_time": "2022-10-17T08:04:55.246Z"
   },
   {
    "duration": 11,
    "start_time": "2022-10-17T08:04:55.477Z"
   },
   {
    "duration": 87,
    "start_time": "2022-10-17T08:04:55.489Z"
   },
   {
    "duration": 105,
    "start_time": "2022-10-17T08:04:55.578Z"
   },
   {
    "duration": 5,
    "start_time": "2022-10-17T08:04:55.685Z"
   },
   {
    "duration": 23,
    "start_time": "2022-10-17T08:04:55.691Z"
   },
   {
    "duration": 1889,
    "start_time": "2022-10-17T08:04:55.716Z"
   },
   {
    "duration": 25,
    "start_time": "2022-10-17T08:04:57.606Z"
   },
   {
    "duration": 4,
    "start_time": "2022-10-17T08:04:57.632Z"
   },
   {
    "duration": 23,
    "start_time": "2022-10-17T08:04:57.637Z"
   },
   {
    "duration": 10,
    "start_time": "2022-10-17T08:04:57.662Z"
   },
   {
    "duration": 43,
    "start_time": "2022-10-17T08:04:57.673Z"
   },
   {
    "duration": 13,
    "start_time": "2022-10-17T08:04:57.717Z"
   },
   {
    "duration": 13,
    "start_time": "2022-10-17T08:04:57.732Z"
   },
   {
    "duration": 19,
    "start_time": "2022-10-17T08:04:57.746Z"
   },
   {
    "duration": 3,
    "start_time": "2022-10-17T08:04:57.768Z"
   },
   {
    "duration": 46,
    "start_time": "2022-10-17T08:04:57.772Z"
   },
   {
    "duration": 22,
    "start_time": "2022-10-17T08:04:57.820Z"
   },
   {
    "duration": 17,
    "start_time": "2022-10-17T08:04:57.844Z"
   },
   {
    "duration": 53,
    "start_time": "2022-10-17T08:04:57.863Z"
   },
   {
    "duration": 3,
    "start_time": "2022-10-17T08:04:57.918Z"
   },
   {
    "duration": 34,
    "start_time": "2022-10-17T08:04:57.923Z"
   },
   {
    "duration": 6,
    "start_time": "2022-10-17T08:04:57.958Z"
   },
   {
    "duration": 8,
    "start_time": "2022-10-17T08:04:57.966Z"
   },
   {
    "duration": 75,
    "start_time": "2022-10-17T08:04:57.975Z"
   },
   {
    "duration": 10,
    "start_time": "2022-10-17T08:04:58.052Z"
   },
   {
    "duration": 9,
    "start_time": "2022-10-17T08:04:58.063Z"
   },
   {
    "duration": 10,
    "start_time": "2022-10-17T08:04:58.073Z"
   },
   {
    "duration": 40,
    "start_time": "2022-10-17T08:04:58.084Z"
   },
   {
    "duration": 9,
    "start_time": "2022-10-17T08:04:58.125Z"
   },
   {
    "duration": 17,
    "start_time": "2022-10-17T08:04:58.135Z"
   },
   {
    "duration": 6,
    "start_time": "2022-10-17T08:04:58.153Z"
   },
   {
    "duration": 135,
    "start_time": "2022-10-17T08:04:58.161Z"
   },
   {
    "duration": 1002,
    "start_time": "2022-10-17T08:05:42.234Z"
   },
   {
    "duration": 376,
    "start_time": "2022-10-17T08:05:43.238Z"
   },
   {
    "duration": 11,
    "start_time": "2022-10-17T08:05:43.616Z"
   },
   {
    "duration": 30,
    "start_time": "2022-10-17T08:05:43.628Z"
   },
   {
    "duration": 7,
    "start_time": "2022-10-17T08:05:43.660Z"
   },
   {
    "duration": 19,
    "start_time": "2022-10-17T08:05:43.669Z"
   },
   {
    "duration": 20,
    "start_time": "2022-10-17T08:05:43.690Z"
   },
   {
    "duration": 19,
    "start_time": "2022-10-17T08:05:43.712Z"
   },
   {
    "duration": 8,
    "start_time": "2022-10-17T08:05:43.733Z"
   },
   {
    "duration": 11,
    "start_time": "2022-10-17T08:05:43.742Z"
   },
   {
    "duration": 10,
    "start_time": "2022-10-17T08:05:43.754Z"
   },
   {
    "duration": 11,
    "start_time": "2022-10-17T08:05:43.765Z"
   },
   {
    "duration": 223,
    "start_time": "2022-10-17T08:05:43.777Z"
   },
   {
    "duration": 11,
    "start_time": "2022-10-17T08:05:44.003Z"
   },
   {
    "duration": 62,
    "start_time": "2022-10-17T08:05:44.016Z"
   },
   {
    "duration": 104,
    "start_time": "2022-10-17T08:05:44.080Z"
   },
   {
    "duration": 3,
    "start_time": "2022-10-17T08:05:44.186Z"
   },
   {
    "duration": 23,
    "start_time": "2022-10-17T08:05:44.190Z"
   },
   {
    "duration": 1862,
    "start_time": "2022-10-17T08:05:44.215Z"
   },
   {
    "duration": 32,
    "start_time": "2022-10-17T08:05:46.078Z"
   },
   {
    "duration": 3,
    "start_time": "2022-10-17T08:05:46.112Z"
   },
   {
    "duration": 25,
    "start_time": "2022-10-17T08:05:46.116Z"
   },
   {
    "duration": 9,
    "start_time": "2022-10-17T08:05:46.142Z"
   },
   {
    "duration": 21,
    "start_time": "2022-10-17T08:05:46.152Z"
   },
   {
    "duration": 13,
    "start_time": "2022-10-17T08:05:46.175Z"
   },
   {
    "duration": 29,
    "start_time": "2022-10-17T08:05:46.189Z"
   },
   {
    "duration": 21,
    "start_time": "2022-10-17T08:05:46.219Z"
   },
   {
    "duration": 3,
    "start_time": "2022-10-17T08:05:46.242Z"
   },
   {
    "duration": 31,
    "start_time": "2022-10-17T08:05:46.247Z"
   },
   {
    "duration": 39,
    "start_time": "2022-10-17T08:05:46.280Z"
   },
   {
    "duration": 18,
    "start_time": "2022-10-17T08:05:46.321Z"
   },
   {
    "duration": 25,
    "start_time": "2022-10-17T08:05:46.341Z"
   },
   {
    "duration": 3,
    "start_time": "2022-10-17T08:05:46.367Z"
   },
   {
    "duration": 39,
    "start_time": "2022-10-17T08:05:46.371Z"
   },
   {
    "duration": 6,
    "start_time": "2022-10-17T08:05:46.411Z"
   },
   {
    "duration": 7,
    "start_time": "2022-10-17T08:05:46.419Z"
   },
   {
    "duration": 87,
    "start_time": "2022-10-17T08:05:46.427Z"
   },
   {
    "duration": 9,
    "start_time": "2022-10-17T08:05:46.516Z"
   },
   {
    "duration": 11,
    "start_time": "2022-10-17T08:05:46.527Z"
   },
   {
    "duration": 12,
    "start_time": "2022-10-17T08:05:46.539Z"
   },
   {
    "duration": 28,
    "start_time": "2022-10-17T08:05:46.554Z"
   },
   {
    "duration": 30,
    "start_time": "2022-10-17T08:05:46.584Z"
   },
   {
    "duration": 17,
    "start_time": "2022-10-17T08:05:46.616Z"
   },
   {
    "duration": 8,
    "start_time": "2022-10-17T08:05:46.635Z"
   },
   {
    "duration": 112,
    "start_time": "2022-10-17T08:05:46.644Z"
   },
   {
    "duration": 1067,
    "start_time": "2022-10-17T08:06:44.257Z"
   },
   {
    "duration": 379,
    "start_time": "2022-10-17T08:06:45.326Z"
   },
   {
    "duration": 12,
    "start_time": "2022-10-17T08:06:45.707Z"
   },
   {
    "duration": 24,
    "start_time": "2022-10-17T08:06:45.721Z"
   },
   {
    "duration": 8,
    "start_time": "2022-10-17T08:06:45.747Z"
   },
   {
    "duration": 28,
    "start_time": "2022-10-17T08:06:45.757Z"
   },
   {
    "duration": 25,
    "start_time": "2022-10-17T08:06:45.787Z"
   },
   {
    "duration": 20,
    "start_time": "2022-10-17T08:06:45.814Z"
   },
   {
    "duration": 8,
    "start_time": "2022-10-17T08:06:45.836Z"
   },
   {
    "duration": 13,
    "start_time": "2022-10-17T08:06:45.847Z"
   },
   {
    "duration": 13,
    "start_time": "2022-10-17T08:06:45.861Z"
   },
   {
    "duration": 33,
    "start_time": "2022-10-17T08:06:45.876Z"
   },
   {
    "duration": 214,
    "start_time": "2022-10-17T08:06:45.911Z"
   },
   {
    "duration": 10,
    "start_time": "2022-10-17T08:06:46.127Z"
   },
   {
    "duration": 82,
    "start_time": "2022-10-17T08:06:46.139Z"
   },
   {
    "duration": 102,
    "start_time": "2022-10-17T08:06:46.222Z"
   },
   {
    "duration": 4,
    "start_time": "2022-10-17T08:06:46.325Z"
   },
   {
    "duration": 16,
    "start_time": "2022-10-17T08:06:46.330Z"
   },
   {
    "duration": 1927,
    "start_time": "2022-10-17T08:06:46.348Z"
   },
   {
    "duration": 23,
    "start_time": "2022-10-17T08:06:48.276Z"
   },
   {
    "duration": 9,
    "start_time": "2022-10-17T08:06:48.300Z"
   },
   {
    "duration": 23,
    "start_time": "2022-10-17T08:06:48.310Z"
   },
   {
    "duration": 9,
    "start_time": "2022-10-17T08:06:48.334Z"
   },
   {
    "duration": 23,
    "start_time": "2022-10-17T08:06:48.345Z"
   },
   {
    "duration": 23,
    "start_time": "2022-10-17T08:06:48.370Z"
   },
   {
    "duration": 19,
    "start_time": "2022-10-17T08:06:48.395Z"
   },
   {
    "duration": 18,
    "start_time": "2022-10-17T08:06:48.416Z"
   },
   {
    "duration": 2,
    "start_time": "2022-10-17T08:06:48.438Z"
   },
   {
    "duration": 28,
    "start_time": "2022-10-17T08:06:48.442Z"
   },
   {
    "duration": 19,
    "start_time": "2022-10-17T08:06:48.472Z"
   },
   {
    "duration": 34,
    "start_time": "2022-10-17T08:06:48.492Z"
   },
   {
    "duration": 40,
    "start_time": "2022-10-17T08:06:48.528Z"
   },
   {
    "duration": 7,
    "start_time": "2022-10-17T08:06:48.569Z"
   },
   {
    "duration": 25,
    "start_time": "2022-10-17T08:06:48.577Z"
   },
   {
    "duration": 9,
    "start_time": "2022-10-17T08:06:48.603Z"
   },
   {
    "duration": 26,
    "start_time": "2022-10-17T08:06:48.613Z"
   },
   {
    "duration": 76,
    "start_time": "2022-10-17T08:06:48.640Z"
   },
   {
    "duration": 9,
    "start_time": "2022-10-17T08:06:48.717Z"
   },
   {
    "duration": 10,
    "start_time": "2022-10-17T08:06:48.728Z"
   },
   {
    "duration": 11,
    "start_time": "2022-10-17T08:06:48.739Z"
   },
   {
    "duration": 24,
    "start_time": "2022-10-17T08:06:48.752Z"
   },
   {
    "duration": 9,
    "start_time": "2022-10-17T08:06:48.777Z"
   },
   {
    "duration": 32,
    "start_time": "2022-10-17T08:06:48.787Z"
   },
   {
    "duration": 6,
    "start_time": "2022-10-17T08:06:48.820Z"
   },
   {
    "duration": 30,
    "start_time": "2022-10-17T08:06:48.827Z"
   },
   {
    "duration": 92,
    "start_time": "2022-10-17T08:06:59.293Z"
   },
   {
    "duration": 1050,
    "start_time": "2022-10-17T08:08:48.531Z"
   },
   {
    "duration": 373,
    "start_time": "2022-10-17T08:08:49.583Z"
   },
   {
    "duration": 11,
    "start_time": "2022-10-17T08:08:49.958Z"
   },
   {
    "duration": 24,
    "start_time": "2022-10-17T08:08:49.971Z"
   },
   {
    "duration": 8,
    "start_time": "2022-10-17T08:08:49.998Z"
   },
   {
    "duration": 27,
    "start_time": "2022-10-17T08:08:50.008Z"
   },
   {
    "duration": 7,
    "start_time": "2022-10-17T08:08:50.037Z"
   },
   {
    "duration": 22,
    "start_time": "2022-10-17T08:08:50.045Z"
   },
   {
    "duration": 6,
    "start_time": "2022-10-17T08:08:50.069Z"
   },
   {
    "duration": 13,
    "start_time": "2022-10-17T08:08:50.077Z"
   },
   {
    "duration": 19,
    "start_time": "2022-10-17T08:08:50.091Z"
   },
   {
    "duration": 10,
    "start_time": "2022-10-17T08:08:50.111Z"
   },
   {
    "duration": 225,
    "start_time": "2022-10-17T08:08:50.123Z"
   },
   {
    "duration": 10,
    "start_time": "2022-10-17T08:08:50.352Z"
   },
   {
    "duration": 75,
    "start_time": "2022-10-17T08:08:50.363Z"
   },
   {
    "duration": 98,
    "start_time": "2022-10-17T08:08:50.440Z"
   },
   {
    "duration": 3,
    "start_time": "2022-10-17T08:08:50.540Z"
   },
   {
    "duration": 31,
    "start_time": "2022-10-17T08:08:50.545Z"
   },
   {
    "duration": 1831,
    "start_time": "2022-10-17T08:08:50.578Z"
   },
   {
    "duration": 27,
    "start_time": "2022-10-17T08:08:52.411Z"
   },
   {
    "duration": 3,
    "start_time": "2022-10-17T08:08:52.440Z"
   },
   {
    "duration": 22,
    "start_time": "2022-10-17T08:08:52.444Z"
   },
   {
    "duration": 9,
    "start_time": "2022-10-17T08:08:52.467Z"
   },
   {
    "duration": 41,
    "start_time": "2022-10-17T08:08:52.478Z"
   },
   {
    "duration": 12,
    "start_time": "2022-10-17T08:08:52.521Z"
   },
   {
    "duration": 10,
    "start_time": "2022-10-17T08:08:52.535Z"
   },
   {
    "duration": 18,
    "start_time": "2022-10-17T08:08:52.547Z"
   },
   {
    "duration": 3,
    "start_time": "2022-10-17T08:08:52.566Z"
   },
   {
    "duration": 45,
    "start_time": "2022-10-17T08:08:52.571Z"
   },
   {
    "duration": 17,
    "start_time": "2022-10-17T08:08:52.618Z"
   },
   {
    "duration": 17,
    "start_time": "2022-10-17T08:08:52.637Z"
   },
   {
    "duration": 27,
    "start_time": "2022-10-17T08:08:52.655Z"
   },
   {
    "duration": 26,
    "start_time": "2022-10-17T08:08:52.683Z"
   },
   {
    "duration": 23,
    "start_time": "2022-10-17T08:08:52.711Z"
   },
   {
    "duration": 5,
    "start_time": "2022-10-17T08:08:52.736Z"
   },
   {
    "duration": 8,
    "start_time": "2022-10-17T08:08:52.743Z"
   },
   {
    "duration": 79,
    "start_time": "2022-10-17T08:08:52.752Z"
   },
   {
    "duration": 10,
    "start_time": "2022-10-17T08:08:52.833Z"
   },
   {
    "duration": 10,
    "start_time": "2022-10-17T08:08:52.844Z"
   },
   {
    "duration": 18,
    "start_time": "2022-10-17T08:08:52.855Z"
   },
   {
    "duration": 36,
    "start_time": "2022-10-17T08:08:52.876Z"
   },
   {
    "duration": 10,
    "start_time": "2022-10-17T08:08:52.914Z"
   },
   {
    "duration": 18,
    "start_time": "2022-10-17T08:08:52.925Z"
   },
   {
    "duration": 6,
    "start_time": "2022-10-17T08:08:52.945Z"
   },
   {
    "duration": 57,
    "start_time": "2022-10-17T08:08:52.953Z"
   },
   {
    "duration": 984,
    "start_time": "2022-10-17T08:11:29.048Z"
   },
   {
    "duration": 381,
    "start_time": "2022-10-17T08:11:30.034Z"
   },
   {
    "duration": 12,
    "start_time": "2022-10-17T08:11:30.416Z"
   },
   {
    "duration": 44,
    "start_time": "2022-10-17T08:11:30.429Z"
   },
   {
    "duration": 15,
    "start_time": "2022-10-17T08:11:30.475Z"
   },
   {
    "duration": 32,
    "start_time": "2022-10-17T08:11:30.492Z"
   },
   {
    "duration": 6,
    "start_time": "2022-10-17T08:11:30.526Z"
   },
   {
    "duration": 35,
    "start_time": "2022-10-17T08:11:30.534Z"
   },
   {
    "duration": 22,
    "start_time": "2022-10-17T08:11:30.571Z"
   },
   {
    "duration": 25,
    "start_time": "2022-10-17T08:11:30.594Z"
   },
   {
    "duration": 39,
    "start_time": "2022-10-17T08:11:30.620Z"
   },
   {
    "duration": 35,
    "start_time": "2022-10-17T08:11:30.660Z"
   },
   {
    "duration": 265,
    "start_time": "2022-10-17T08:11:30.696Z"
   },
   {
    "duration": 11,
    "start_time": "2022-10-17T08:11:30.964Z"
   },
   {
    "duration": 78,
    "start_time": "2022-10-17T08:11:30.976Z"
   },
   {
    "duration": 101,
    "start_time": "2022-10-17T08:11:31.056Z"
   },
   {
    "duration": 3,
    "start_time": "2022-10-17T08:11:31.159Z"
   },
   {
    "duration": 22,
    "start_time": "2022-10-17T08:11:31.163Z"
   },
   {
    "duration": 1869,
    "start_time": "2022-10-17T08:11:31.186Z"
   },
   {
    "duration": 26,
    "start_time": "2022-10-17T08:11:33.057Z"
   },
   {
    "duration": 4,
    "start_time": "2022-10-17T08:11:33.084Z"
   },
   {
    "duration": 27,
    "start_time": "2022-10-17T08:11:33.090Z"
   },
   {
    "duration": 10,
    "start_time": "2022-10-17T08:11:33.119Z"
   },
   {
    "duration": 20,
    "start_time": "2022-10-17T08:11:33.130Z"
   },
   {
    "duration": 12,
    "start_time": "2022-10-17T08:11:33.152Z"
   },
   {
    "duration": 11,
    "start_time": "2022-10-17T08:11:33.166Z"
   },
   {
    "duration": 18,
    "start_time": "2022-10-17T08:11:33.208Z"
   },
   {
    "duration": 2,
    "start_time": "2022-10-17T08:11:33.228Z"
   },
   {
    "duration": 22,
    "start_time": "2022-10-17T08:11:33.232Z"
   },
   {
    "duration": 17,
    "start_time": "2022-10-17T08:11:33.256Z"
   },
   {
    "duration": 42,
    "start_time": "2022-10-17T08:11:33.274Z"
   },
   {
    "duration": 26,
    "start_time": "2022-10-17T08:11:33.317Z"
   },
   {
    "duration": 3,
    "start_time": "2022-10-17T08:11:33.344Z"
   },
   {
    "duration": 18,
    "start_time": "2022-10-17T08:11:33.349Z"
   },
   {
    "duration": 5,
    "start_time": "2022-10-17T08:11:33.369Z"
   },
   {
    "duration": 7,
    "start_time": "2022-10-17T08:11:33.375Z"
   },
   {
    "duration": 91,
    "start_time": "2022-10-17T08:11:33.384Z"
   },
   {
    "duration": 10,
    "start_time": "2022-10-17T08:11:33.476Z"
   },
   {
    "duration": 8,
    "start_time": "2022-10-17T08:11:33.488Z"
   },
   {
    "duration": 20,
    "start_time": "2022-10-17T08:11:33.497Z"
   },
   {
    "duration": 25,
    "start_time": "2022-10-17T08:11:33.520Z"
   },
   {
    "duration": 9,
    "start_time": "2022-10-17T08:11:33.546Z"
   },
   {
    "duration": 18,
    "start_time": "2022-10-17T08:11:33.557Z"
   },
   {
    "duration": 5,
    "start_time": "2022-10-17T08:11:33.576Z"
   },
   {
    "duration": 158,
    "start_time": "2022-10-17T08:11:33.583Z"
   },
   {
    "duration": 953,
    "start_time": "2022-10-17T08:12:55.060Z"
   },
   {
    "duration": 392,
    "start_time": "2022-10-17T08:12:56.015Z"
   },
   {
    "duration": 11,
    "start_time": "2022-10-17T08:12:56.408Z"
   },
   {
    "duration": 24,
    "start_time": "2022-10-17T08:12:56.421Z"
   },
   {
    "duration": 8,
    "start_time": "2022-10-17T08:12:56.446Z"
   },
   {
    "duration": 23,
    "start_time": "2022-10-17T08:12:56.455Z"
   },
   {
    "duration": 7,
    "start_time": "2022-10-17T08:12:56.479Z"
   },
   {
    "duration": 43,
    "start_time": "2022-10-17T08:12:56.487Z"
   },
   {
    "duration": 8,
    "start_time": "2022-10-17T08:12:56.531Z"
   },
   {
    "duration": 14,
    "start_time": "2022-10-17T08:12:56.541Z"
   },
   {
    "duration": 14,
    "start_time": "2022-10-17T08:12:56.556Z"
   },
   {
    "duration": 11,
    "start_time": "2022-10-17T08:12:56.572Z"
   },
   {
    "duration": 246,
    "start_time": "2022-10-17T08:12:56.585Z"
   },
   {
    "duration": 11,
    "start_time": "2022-10-17T08:12:56.835Z"
   },
   {
    "duration": 80,
    "start_time": "2022-10-17T08:12:56.848Z"
   },
   {
    "duration": 96,
    "start_time": "2022-10-17T08:12:56.929Z"
   },
   {
    "duration": 3,
    "start_time": "2022-10-17T08:12:57.026Z"
   },
   {
    "duration": 18,
    "start_time": "2022-10-17T08:12:57.031Z"
   },
   {
    "duration": 1892,
    "start_time": "2022-10-17T08:12:57.050Z"
   },
   {
    "duration": 29,
    "start_time": "2022-10-17T08:12:58.944Z"
   },
   {
    "duration": 4,
    "start_time": "2022-10-17T08:12:58.975Z"
   },
   {
    "duration": 33,
    "start_time": "2022-10-17T08:12:58.981Z"
   },
   {
    "duration": 10,
    "start_time": "2022-10-17T08:12:59.016Z"
   },
   {
    "duration": 20,
    "start_time": "2022-10-17T08:12:59.028Z"
   },
   {
    "duration": 13,
    "start_time": "2022-10-17T08:12:59.050Z"
   },
   {
    "duration": 12,
    "start_time": "2022-10-17T08:12:59.065Z"
   },
   {
    "duration": 47,
    "start_time": "2022-10-17T08:12:59.078Z"
   },
   {
    "duration": 3,
    "start_time": "2022-10-17T08:12:59.127Z"
   },
   {
    "duration": 25,
    "start_time": "2022-10-17T08:12:59.132Z"
   },
   {
    "duration": 18,
    "start_time": "2022-10-17T08:12:59.159Z"
   },
   {
    "duration": 44,
    "start_time": "2022-10-17T08:12:59.179Z"
   },
   {
    "duration": 26,
    "start_time": "2022-10-17T08:12:59.225Z"
   },
   {
    "duration": 4,
    "start_time": "2022-10-17T08:12:59.253Z"
   },
   {
    "duration": 18,
    "start_time": "2022-10-17T08:12:59.258Z"
   },
   {
    "duration": 37,
    "start_time": "2022-10-17T08:12:59.277Z"
   },
   {
    "duration": 7,
    "start_time": "2022-10-17T08:12:59.315Z"
   },
   {
    "duration": 69,
    "start_time": "2022-10-17T08:12:59.324Z"
   },
   {
    "duration": 20,
    "start_time": "2022-10-17T08:12:59.394Z"
   },
   {
    "duration": 9,
    "start_time": "2022-10-17T08:12:59.416Z"
   },
   {
    "duration": 13,
    "start_time": "2022-10-17T08:12:59.427Z"
   },
   {
    "duration": 27,
    "start_time": "2022-10-17T08:12:59.443Z"
   },
   {
    "duration": 9,
    "start_time": "2022-10-17T08:12:59.472Z"
   },
   {
    "duration": 36,
    "start_time": "2022-10-17T08:12:59.482Z"
   },
   {
    "duration": 5,
    "start_time": "2022-10-17T08:12:59.519Z"
   },
   {
    "duration": 136,
    "start_time": "2022-10-17T08:12:59.526Z"
   },
   {
    "duration": 954,
    "start_time": "2022-10-17T08:13:39.065Z"
   },
   {
    "duration": 393,
    "start_time": "2022-10-17T08:13:40.021Z"
   },
   {
    "duration": 12,
    "start_time": "2022-10-17T08:13:40.415Z"
   },
   {
    "duration": 25,
    "start_time": "2022-10-17T08:13:40.428Z"
   },
   {
    "duration": 8,
    "start_time": "2022-10-17T08:13:40.455Z"
   },
   {
    "duration": 26,
    "start_time": "2022-10-17T08:13:40.465Z"
   },
   {
    "duration": 20,
    "start_time": "2022-10-17T08:13:40.493Z"
   },
   {
    "duration": 21,
    "start_time": "2022-10-17T08:13:40.515Z"
   },
   {
    "duration": 7,
    "start_time": "2022-10-17T08:13:40.537Z"
   },
   {
    "duration": 12,
    "start_time": "2022-10-17T08:13:40.546Z"
   },
   {
    "duration": 11,
    "start_time": "2022-10-17T08:13:40.559Z"
   },
   {
    "duration": 11,
    "start_time": "2022-10-17T08:13:40.571Z"
   },
   {
    "duration": 240,
    "start_time": "2022-10-17T08:13:40.583Z"
   },
   {
    "duration": 12,
    "start_time": "2022-10-17T08:13:40.825Z"
   },
   {
    "duration": 72,
    "start_time": "2022-10-17T08:13:40.838Z"
   },
   {
    "duration": 97,
    "start_time": "2022-10-17T08:13:40.912Z"
   },
   {
    "duration": 3,
    "start_time": "2022-10-17T08:13:41.011Z"
   },
   {
    "duration": 20,
    "start_time": "2022-10-17T08:13:41.016Z"
   },
   {
    "duration": 1898,
    "start_time": "2022-10-17T08:13:41.037Z"
   },
   {
    "duration": 26,
    "start_time": "2022-10-17T08:13:42.937Z"
   },
   {
    "duration": 4,
    "start_time": "2022-10-17T08:13:42.965Z"
   },
   {
    "duration": 43,
    "start_time": "2022-10-17T08:13:42.971Z"
   },
   {
    "duration": 12,
    "start_time": "2022-10-17T08:13:43.016Z"
   },
   {
    "duration": 31,
    "start_time": "2022-10-17T08:13:43.030Z"
   },
   {
    "duration": 17,
    "start_time": "2022-10-17T08:13:43.063Z"
   },
   {
    "duration": 36,
    "start_time": "2022-10-17T08:13:43.081Z"
   },
   {
    "duration": 28,
    "start_time": "2022-10-17T08:13:43.118Z"
   },
   {
    "duration": 3,
    "start_time": "2022-10-17T08:13:43.149Z"
   },
   {
    "duration": 23,
    "start_time": "2022-10-17T08:13:43.153Z"
   },
   {
    "duration": 39,
    "start_time": "2022-10-17T08:13:43.177Z"
   },
   {
    "duration": 17,
    "start_time": "2022-10-17T08:13:43.218Z"
   },
   {
    "duration": 30,
    "start_time": "2022-10-17T08:13:43.236Z"
   },
   {
    "duration": 3,
    "start_time": "2022-10-17T08:13:43.268Z"
   },
   {
    "duration": 36,
    "start_time": "2022-10-17T08:13:43.273Z"
   },
   {
    "duration": 5,
    "start_time": "2022-10-17T08:13:43.311Z"
   },
   {
    "duration": 6,
    "start_time": "2022-10-17T08:13:43.318Z"
   },
   {
    "duration": 84,
    "start_time": "2022-10-17T08:13:43.325Z"
   },
   {
    "duration": 9,
    "start_time": "2022-10-17T08:13:43.411Z"
   },
   {
    "duration": 7,
    "start_time": "2022-10-17T08:13:43.422Z"
   },
   {
    "duration": 12,
    "start_time": "2022-10-17T08:13:43.430Z"
   },
   {
    "duration": 26,
    "start_time": "2022-10-17T08:13:43.444Z"
   },
   {
    "duration": 10,
    "start_time": "2022-10-17T08:13:43.471Z"
   },
   {
    "duration": 36,
    "start_time": "2022-10-17T08:13:43.482Z"
   },
   {
    "duration": 8,
    "start_time": "2022-10-17T08:13:43.520Z"
   },
   {
    "duration": 42,
    "start_time": "2022-10-17T08:13:43.529Z"
   },
   {
    "duration": 13,
    "start_time": "2022-10-17T08:32:01.644Z"
   },
   {
    "duration": 7,
    "start_time": "2022-10-17T08:39:27.614Z"
   },
   {
    "duration": 14,
    "start_time": "2022-10-17T08:39:29.607Z"
   },
   {
    "duration": 16,
    "start_time": "2022-10-17T08:39:38.973Z"
   },
   {
    "duration": 12,
    "start_time": "2022-10-17T08:42:42.774Z"
   },
   {
    "duration": 14,
    "start_time": "2022-10-17T08:42:45.933Z"
   },
   {
    "duration": 941,
    "start_time": "2022-10-17T08:52:00.169Z"
   },
   {
    "duration": 397,
    "start_time": "2022-10-17T08:52:01.111Z"
   },
   {
    "duration": 11,
    "start_time": "2022-10-17T08:52:01.510Z"
   },
   {
    "duration": 39,
    "start_time": "2022-10-17T08:52:01.522Z"
   },
   {
    "duration": 28,
    "start_time": "2022-10-17T08:52:01.562Z"
   },
   {
    "duration": 31,
    "start_time": "2022-10-17T08:52:01.592Z"
   },
   {
    "duration": 8,
    "start_time": "2022-10-17T08:52:01.624Z"
   },
   {
    "duration": 39,
    "start_time": "2022-10-17T08:52:01.633Z"
   },
   {
    "duration": 37,
    "start_time": "2022-10-17T08:52:01.673Z"
   },
   {
    "duration": 25,
    "start_time": "2022-10-17T08:52:01.713Z"
   },
   {
    "duration": 12,
    "start_time": "2022-10-17T08:52:01.739Z"
   },
   {
    "duration": 33,
    "start_time": "2022-10-17T08:52:01.752Z"
   },
   {
    "duration": 258,
    "start_time": "2022-10-17T08:52:01.787Z"
   },
   {
    "duration": 12,
    "start_time": "2022-10-17T08:52:02.047Z"
   },
   {
    "duration": 161,
    "start_time": "2022-10-17T08:52:02.060Z"
   },
   {
    "duration": 97,
    "start_time": "2022-10-17T08:52:02.223Z"
   },
   {
    "duration": 3,
    "start_time": "2022-10-17T08:52:02.321Z"
   },
   {
    "duration": 19,
    "start_time": "2022-10-17T08:52:02.326Z"
   },
   {
    "duration": 1975,
    "start_time": "2022-10-17T08:52:02.346Z"
   },
   {
    "duration": 23,
    "start_time": "2022-10-17T08:52:04.322Z"
   },
   {
    "duration": 4,
    "start_time": "2022-10-17T08:52:04.347Z"
   },
   {
    "duration": 24,
    "start_time": "2022-10-17T08:52:04.352Z"
   },
   {
    "duration": 31,
    "start_time": "2022-10-17T08:52:04.378Z"
   },
   {
    "duration": 30,
    "start_time": "2022-10-17T08:52:04.411Z"
   },
   {
    "duration": 15,
    "start_time": "2022-10-17T08:52:04.444Z"
   },
   {
    "duration": 16,
    "start_time": "2022-10-17T08:52:04.461Z"
   },
   {
    "duration": 45,
    "start_time": "2022-10-17T08:52:04.479Z"
   },
   {
    "duration": 3,
    "start_time": "2022-10-17T08:52:04.528Z"
   },
   {
    "duration": 36,
    "start_time": "2022-10-17T08:52:04.533Z"
   },
   {
    "duration": 35,
    "start_time": "2022-10-17T08:52:04.570Z"
   },
   {
    "duration": 29,
    "start_time": "2022-10-17T08:52:04.608Z"
   },
   {
    "duration": 26,
    "start_time": "2022-10-17T08:52:04.640Z"
   },
   {
    "duration": 3,
    "start_time": "2022-10-17T08:52:04.667Z"
   },
   {
    "duration": 20,
    "start_time": "2022-10-17T08:52:04.672Z"
   },
   {
    "duration": 20,
    "start_time": "2022-10-17T08:52:04.693Z"
   },
   {
    "duration": 5,
    "start_time": "2022-10-17T08:52:04.715Z"
   },
   {
    "duration": 69,
    "start_time": "2022-10-17T08:52:04.722Z"
   },
   {
    "duration": 22,
    "start_time": "2022-10-17T08:52:04.792Z"
   },
   {
    "duration": 9,
    "start_time": "2022-10-17T08:52:04.816Z"
   },
   {
    "duration": 10,
    "start_time": "2022-10-17T08:52:04.826Z"
   },
   {
    "duration": 27,
    "start_time": "2022-10-17T08:52:04.837Z"
   },
   {
    "duration": 9,
    "start_time": "2022-10-17T08:52:04.865Z"
   },
   {
    "duration": 39,
    "start_time": "2022-10-17T08:52:04.875Z"
   },
   {
    "duration": 5,
    "start_time": "2022-10-17T08:52:04.915Z"
   },
   {
    "duration": 40,
    "start_time": "2022-10-17T08:52:04.922Z"
   },
   {
    "duration": 13,
    "start_time": "2022-10-17T08:52:04.963Z"
   },
   {
    "duration": 32,
    "start_time": "2022-10-17T08:52:04.978Z"
   },
   {
    "duration": 4,
    "start_time": "2022-10-17T08:56:33.034Z"
   },
   {
    "duration": 3,
    "start_time": "2022-10-17T09:26:47.451Z"
   },
   {
    "duration": 103,
    "start_time": "2022-10-17T09:27:16.818Z"
   },
   {
    "duration": 3,
    "start_time": "2022-10-17T09:28:10.351Z"
   },
   {
    "duration": 32,
    "start_time": "2022-10-17T09:28:12.123Z"
   },
   {
    "duration": 1032,
    "start_time": "2022-10-17T09:28:37.497Z"
   },
   {
    "duration": 371,
    "start_time": "2022-10-17T09:28:38.531Z"
   },
   {
    "duration": 11,
    "start_time": "2022-10-17T09:28:38.904Z"
   },
   {
    "duration": 22,
    "start_time": "2022-10-17T09:28:38.917Z"
   },
   {
    "duration": 8,
    "start_time": "2022-10-17T09:28:38.942Z"
   },
   {
    "duration": 22,
    "start_time": "2022-10-17T09:28:38.951Z"
   },
   {
    "duration": 7,
    "start_time": "2022-10-17T09:28:38.975Z"
   },
   {
    "duration": 38,
    "start_time": "2022-10-17T09:28:38.983Z"
   },
   {
    "duration": 7,
    "start_time": "2022-10-17T09:28:39.023Z"
   },
   {
    "duration": 11,
    "start_time": "2022-10-17T09:28:39.031Z"
   },
   {
    "duration": 8,
    "start_time": "2022-10-17T09:28:39.043Z"
   },
   {
    "duration": 10,
    "start_time": "2022-10-17T09:28:39.052Z"
   },
   {
    "duration": 239,
    "start_time": "2022-10-17T09:28:39.063Z"
   },
   {
    "duration": 11,
    "start_time": "2022-10-17T09:28:39.308Z"
   },
   {
    "duration": 67,
    "start_time": "2022-10-17T09:28:39.320Z"
   },
   {
    "duration": 101,
    "start_time": "2022-10-17T09:28:39.388Z"
   },
   {
    "duration": 3,
    "start_time": "2022-10-17T09:28:39.490Z"
   },
   {
    "duration": 27,
    "start_time": "2022-10-17T09:28:39.495Z"
   },
   {
    "duration": 1850,
    "start_time": "2022-10-17T09:28:39.523Z"
   },
   {
    "duration": 27,
    "start_time": "2022-10-17T09:28:41.374Z"
   },
   {
    "duration": 4,
    "start_time": "2022-10-17T09:28:41.408Z"
   },
   {
    "duration": 18,
    "start_time": "2022-10-17T09:28:41.414Z"
   },
   {
    "duration": 10,
    "start_time": "2022-10-17T09:28:41.433Z"
   },
   {
    "duration": 22,
    "start_time": "2022-10-17T09:28:41.445Z"
   },
   {
    "duration": 41,
    "start_time": "2022-10-17T09:28:41.469Z"
   },
   {
    "duration": 12,
    "start_time": "2022-10-17T09:28:41.512Z"
   },
   {
    "duration": 20,
    "start_time": "2022-10-17T09:28:41.525Z"
   },
   {
    "duration": 3,
    "start_time": "2022-10-17T09:28:41.547Z"
   },
   {
    "duration": 24,
    "start_time": "2022-10-17T09:28:41.552Z"
   },
   {
    "duration": 43,
    "start_time": "2022-10-17T09:28:41.578Z"
   },
   {
    "duration": 18,
    "start_time": "2022-10-17T09:28:41.622Z"
   },
   {
    "duration": 28,
    "start_time": "2022-10-17T09:28:41.641Z"
   },
   {
    "duration": 4,
    "start_time": "2022-10-17T09:28:41.671Z"
   },
   {
    "duration": 44,
    "start_time": "2022-10-17T09:28:41.676Z"
   },
   {
    "duration": 5,
    "start_time": "2022-10-17T09:28:41.722Z"
   },
   {
    "duration": 7,
    "start_time": "2022-10-17T09:28:41.729Z"
   },
   {
    "duration": 78,
    "start_time": "2022-10-17T09:28:41.738Z"
   },
   {
    "duration": 10,
    "start_time": "2022-10-17T09:28:41.818Z"
   },
   {
    "duration": 12,
    "start_time": "2022-10-17T09:28:41.830Z"
   },
   {
    "duration": 10,
    "start_time": "2022-10-17T09:28:41.843Z"
   },
   {
    "duration": 25,
    "start_time": "2022-10-17T09:28:41.856Z"
   },
   {
    "duration": 30,
    "start_time": "2022-10-17T09:28:41.882Z"
   },
   {
    "duration": 13,
    "start_time": "2022-10-17T09:28:41.914Z"
   },
   {
    "duration": 5,
    "start_time": "2022-10-17T09:28:41.929Z"
   },
   {
    "duration": 47,
    "start_time": "2022-10-17T09:28:41.936Z"
   },
   {
    "duration": 27,
    "start_time": "2022-10-17T09:28:41.984Z"
   },
   {
    "duration": 5,
    "start_time": "2022-10-17T09:28:42.013Z"
   },
   {
    "duration": 128,
    "start_time": "2022-10-17T09:28:42.020Z"
   },
   {
    "duration": 0,
    "start_time": "2022-10-17T09:28:42.150Z"
   },
   {
    "duration": 3,
    "start_time": "2022-10-17T09:29:03.549Z"
   },
   {
    "duration": 27,
    "start_time": "2022-10-17T09:29:04.947Z"
   },
   {
    "duration": 3,
    "start_time": "2022-10-17T09:29:55.498Z"
   },
   {
    "duration": 12,
    "start_time": "2022-10-17T09:29:57.234Z"
   },
   {
    "duration": 3,
    "start_time": "2022-10-17T09:30:11.881Z"
   },
   {
    "duration": 3,
    "start_time": "2022-10-17T09:30:13.142Z"
   },
   {
    "duration": 5,
    "start_time": "2022-10-17T09:30:22.833Z"
   },
   {
    "duration": 5,
    "start_time": "2022-10-17T09:34:55.073Z"
   },
   {
    "duration": 12,
    "start_time": "2022-10-17T09:34:57.610Z"
   },
   {
    "duration": 4,
    "start_time": "2022-10-17T09:36:15.031Z"
   },
   {
    "duration": 12,
    "start_time": "2022-10-17T09:36:17.110Z"
   },
   {
    "duration": 3,
    "start_time": "2022-10-17T09:48:36.310Z"
   },
   {
    "duration": 11,
    "start_time": "2022-10-17T09:48:38.449Z"
   },
   {
    "duration": 14,
    "start_time": "2022-10-17T09:48:42.867Z"
   },
   {
    "duration": 15,
    "start_time": "2022-10-17T09:49:11.810Z"
   },
   {
    "duration": 14,
    "start_time": "2022-10-17T09:49:43.157Z"
   },
   {
    "duration": 13,
    "start_time": "2022-10-17T09:49:52.157Z"
   },
   {
    "duration": 9,
    "start_time": "2022-10-17T12:55:18.729Z"
   },
   {
    "duration": 1248,
    "start_time": "2022-10-17T12:55:26.373Z"
   },
   {
    "duration": 840,
    "start_time": "2022-10-17T12:55:27.625Z"
   },
   {
    "duration": 12,
    "start_time": "2022-10-17T12:55:28.467Z"
   },
   {
    "duration": 25,
    "start_time": "2022-10-17T12:55:28.482Z"
   },
   {
    "duration": 12,
    "start_time": "2022-10-17T12:55:28.510Z"
   },
   {
    "duration": 34,
    "start_time": "2022-10-17T12:55:28.523Z"
   },
   {
    "duration": 7,
    "start_time": "2022-10-17T12:55:28.560Z"
   },
   {
    "duration": 20,
    "start_time": "2022-10-17T12:55:28.569Z"
   },
   {
    "duration": 25,
    "start_time": "2022-10-17T12:55:28.590Z"
   },
   {
    "duration": 10,
    "start_time": "2022-10-17T12:55:28.617Z"
   },
   {
    "duration": 11,
    "start_time": "2022-10-17T12:55:28.629Z"
   },
   {
    "duration": 10,
    "start_time": "2022-10-17T12:55:28.642Z"
   },
   {
    "duration": 273,
    "start_time": "2022-10-17T12:55:28.653Z"
   },
   {
    "duration": 15,
    "start_time": "2022-10-17T12:55:28.930Z"
   },
   {
    "duration": 84,
    "start_time": "2022-10-17T12:55:28.947Z"
   },
   {
    "duration": 108,
    "start_time": "2022-10-17T12:55:29.032Z"
   },
   {
    "duration": 4,
    "start_time": "2022-10-17T12:55:29.142Z"
   },
   {
    "duration": 25,
    "start_time": "2022-10-17T12:55:29.147Z"
   },
   {
    "duration": 2092,
    "start_time": "2022-10-17T12:55:29.174Z"
   },
   {
    "duration": 30,
    "start_time": "2022-10-17T12:55:31.267Z"
   },
   {
    "duration": 14,
    "start_time": "2022-10-17T12:55:31.300Z"
   },
   {
    "duration": 30,
    "start_time": "2022-10-17T12:55:31.316Z"
   },
   {
    "duration": 10,
    "start_time": "2022-10-17T12:55:31.348Z"
   },
   {
    "duration": 23,
    "start_time": "2022-10-17T12:55:31.359Z"
   },
   {
    "duration": 34,
    "start_time": "2022-10-17T12:55:31.383Z"
   },
   {
    "duration": 25,
    "start_time": "2022-10-17T12:55:31.419Z"
   },
   {
    "duration": 19,
    "start_time": "2022-10-17T12:55:31.446Z"
   },
   {
    "duration": 3,
    "start_time": "2022-10-17T12:55:31.467Z"
   },
   {
    "duration": 43,
    "start_time": "2022-10-17T12:55:31.471Z"
   },
   {
    "duration": 27,
    "start_time": "2022-10-17T12:55:31.516Z"
   },
   {
    "duration": 26,
    "start_time": "2022-10-17T12:55:31.545Z"
   },
   {
    "duration": 53,
    "start_time": "2022-10-17T12:55:31.574Z"
   },
   {
    "duration": 4,
    "start_time": "2022-10-17T12:55:31.629Z"
   },
   {
    "duration": 24,
    "start_time": "2022-10-17T12:55:31.634Z"
   },
   {
    "duration": 8,
    "start_time": "2022-10-17T12:55:31.660Z"
   },
   {
    "duration": 9,
    "start_time": "2022-10-17T12:55:31.670Z"
   },
   {
    "duration": 104,
    "start_time": "2022-10-17T12:55:31.681Z"
   },
   {
    "duration": 23,
    "start_time": "2022-10-17T12:55:31.786Z"
   },
   {
    "duration": 6,
    "start_time": "2022-10-17T12:55:31.810Z"
   },
   {
    "duration": 14,
    "start_time": "2022-10-17T12:55:31.818Z"
   },
   {
    "duration": 33,
    "start_time": "2022-10-17T12:55:31.836Z"
   },
   {
    "duration": 13,
    "start_time": "2022-10-17T12:55:31.870Z"
   },
   {
    "duration": 38,
    "start_time": "2022-10-17T12:55:31.885Z"
   },
   {
    "duration": 9,
    "start_time": "2022-10-17T12:55:31.924Z"
   },
   {
    "duration": 49,
    "start_time": "2022-10-17T12:55:31.935Z"
   },
   {
    "duration": 3,
    "start_time": "2022-10-17T12:55:31.986Z"
   },
   {
    "duration": 23,
    "start_time": "2022-10-17T12:55:31.991Z"
   },
   {
    "duration": 7,
    "start_time": "2022-10-17T12:55:32.016Z"
   },
   {
    "duration": 9,
    "start_time": "2022-10-17T12:55:32.024Z"
   },
   {
    "duration": 214,
    "start_time": "2022-10-17T12:55:55.852Z"
   },
   {
    "duration": 5,
    "start_time": "2022-10-17T12:56:13.565Z"
   },
   {
    "duration": 109,
    "start_time": "2022-10-17T12:56:16.706Z"
   },
   {
    "duration": 5,
    "start_time": "2022-10-17T12:56:44.987Z"
   },
   {
    "duration": 22,
    "start_time": "2022-10-17T12:56:47.490Z"
   },
   {
    "duration": 5,
    "start_time": "2022-10-17T12:58:48.525Z"
   },
   {
    "duration": 397,
    "start_time": "2022-10-17T12:58:50.472Z"
   },
   {
    "duration": 1093,
    "start_time": "2022-10-17T12:59:25.786Z"
   },
   {
    "duration": 400,
    "start_time": "2022-10-17T12:59:26.882Z"
   },
   {
    "duration": 13,
    "start_time": "2022-10-17T12:59:27.283Z"
   },
   {
    "duration": 51,
    "start_time": "2022-10-17T12:59:27.297Z"
   },
   {
    "duration": 11,
    "start_time": "2022-10-17T12:59:27.350Z"
   },
   {
    "duration": 36,
    "start_time": "2022-10-17T12:59:27.362Z"
   },
   {
    "duration": 18,
    "start_time": "2022-10-17T12:59:27.400Z"
   },
   {
    "duration": 63,
    "start_time": "2022-10-17T12:59:27.419Z"
   },
   {
    "duration": 33,
    "start_time": "2022-10-17T12:59:27.484Z"
   },
   {
    "duration": 41,
    "start_time": "2022-10-17T12:59:27.519Z"
   },
   {
    "duration": 44,
    "start_time": "2022-10-17T12:59:27.562Z"
   },
   {
    "duration": 30,
    "start_time": "2022-10-17T12:59:27.607Z"
   },
   {
    "duration": 246,
    "start_time": "2022-10-17T12:59:27.639Z"
   },
   {
    "duration": 12,
    "start_time": "2022-10-17T12:59:27.889Z"
   },
   {
    "duration": 82,
    "start_time": "2022-10-17T12:59:27.903Z"
   },
   {
    "duration": 143,
    "start_time": "2022-10-17T12:59:27.987Z"
   },
   {
    "duration": 3,
    "start_time": "2022-10-17T12:59:28.132Z"
   },
   {
    "duration": 36,
    "start_time": "2022-10-17T12:59:28.139Z"
   },
   {
    "duration": 2146,
    "start_time": "2022-10-17T12:59:28.176Z"
   },
   {
    "duration": 27,
    "start_time": "2022-10-17T12:59:30.324Z"
   },
   {
    "duration": 15,
    "start_time": "2022-10-17T12:59:30.353Z"
   },
   {
    "duration": 43,
    "start_time": "2022-10-17T12:59:30.370Z"
   },
   {
    "duration": 34,
    "start_time": "2022-10-17T12:59:30.415Z"
   },
   {
    "duration": 42,
    "start_time": "2022-10-17T12:59:30.451Z"
   },
   {
    "duration": 71,
    "start_time": "2022-10-17T12:59:30.494Z"
   },
   {
    "duration": 31,
    "start_time": "2022-10-17T12:59:30.566Z"
   },
   {
    "duration": 39,
    "start_time": "2022-10-17T12:59:30.599Z"
   },
   {
    "duration": 8,
    "start_time": "2022-10-17T12:59:30.640Z"
   },
   {
    "duration": 50,
    "start_time": "2022-10-17T12:59:30.650Z"
   },
   {
    "duration": 53,
    "start_time": "2022-10-17T12:59:30.702Z"
   },
   {
    "duration": 60,
    "start_time": "2022-10-17T12:59:30.756Z"
   },
   {
    "duration": 53,
    "start_time": "2022-10-17T12:59:30.819Z"
   },
   {
    "duration": 12,
    "start_time": "2022-10-17T12:59:30.873Z"
   },
   {
    "duration": 32,
    "start_time": "2022-10-17T12:59:30.886Z"
   },
   {
    "duration": 11,
    "start_time": "2022-10-17T12:59:30.920Z"
   },
   {
    "duration": 26,
    "start_time": "2022-10-17T12:59:30.932Z"
   },
   {
    "duration": 101,
    "start_time": "2022-10-17T12:59:30.960Z"
   },
   {
    "duration": 10,
    "start_time": "2022-10-17T12:59:31.063Z"
   },
   {
    "duration": 20,
    "start_time": "2022-10-17T12:59:31.075Z"
   },
   {
    "duration": 18,
    "start_time": "2022-10-17T12:59:31.097Z"
   },
   {
    "duration": 46,
    "start_time": "2022-10-17T12:59:31.119Z"
   },
   {
    "duration": 18,
    "start_time": "2022-10-17T12:59:31.167Z"
   },
   {
    "duration": 34,
    "start_time": "2022-10-17T12:59:31.187Z"
   },
   {
    "duration": 17,
    "start_time": "2022-10-17T12:59:31.222Z"
   },
   {
    "duration": 71,
    "start_time": "2022-10-17T12:59:31.241Z"
   },
   {
    "duration": 3,
    "start_time": "2022-10-17T12:59:31.313Z"
   },
   {
    "duration": 13,
    "start_time": "2022-10-17T12:59:31.318Z"
   },
   {
    "duration": 18,
    "start_time": "2022-10-17T12:59:31.333Z"
   },
   {
    "duration": 29,
    "start_time": "2022-10-17T12:59:31.353Z"
   },
   {
    "duration": 444,
    "start_time": "2022-10-17T12:59:31.384Z"
   },
   {
    "duration": 5,
    "start_time": "2022-10-17T12:59:51.515Z"
   },
   {
    "duration": 223,
    "start_time": "2022-10-17T12:59:53.668Z"
   },
   {
    "duration": 5,
    "start_time": "2022-10-17T13:00:02.173Z"
   },
   {
    "duration": 422,
    "start_time": "2022-10-17T13:00:04.234Z"
   },
   {
    "duration": 6,
    "start_time": "2022-10-17T13:00:14.832Z"
   },
   {
    "duration": 33,
    "start_time": "2022-10-17T13:00:16.918Z"
   },
   {
    "duration": 5,
    "start_time": "2022-10-17T13:00:20.825Z"
   },
   {
    "duration": 4,
    "start_time": "2022-10-17T13:00:23.624Z"
   },
   {
    "duration": 382,
    "start_time": "2022-10-17T13:00:25.866Z"
   },
   {
    "duration": 1106,
    "start_time": "2022-10-17T13:01:20.682Z"
   },
   {
    "duration": 402,
    "start_time": "2022-10-17T13:01:21.790Z"
   },
   {
    "duration": 13,
    "start_time": "2022-10-17T13:01:22.193Z"
   },
   {
    "duration": 23,
    "start_time": "2022-10-17T13:01:22.208Z"
   },
   {
    "duration": 14,
    "start_time": "2022-10-17T13:01:22.234Z"
   },
   {
    "duration": 27,
    "start_time": "2022-10-17T13:01:22.250Z"
   },
   {
    "duration": 8,
    "start_time": "2022-10-17T13:01:22.279Z"
   },
   {
    "duration": 18,
    "start_time": "2022-10-17T13:01:22.309Z"
   },
   {
    "duration": 9,
    "start_time": "2022-10-17T13:01:22.328Z"
   },
   {
    "duration": 13,
    "start_time": "2022-10-17T13:01:22.338Z"
   },
   {
    "duration": 10,
    "start_time": "2022-10-17T13:01:22.353Z"
   },
   {
    "duration": 12,
    "start_time": "2022-10-17T13:01:22.365Z"
   },
   {
    "duration": 255,
    "start_time": "2022-10-17T13:01:22.379Z"
   },
   {
    "duration": 11,
    "start_time": "2022-10-17T13:01:22.638Z"
   },
   {
    "duration": 84,
    "start_time": "2022-10-17T13:01:22.651Z"
   },
   {
    "duration": 108,
    "start_time": "2022-10-17T13:01:22.737Z"
   },
   {
    "duration": 5,
    "start_time": "2022-10-17T13:01:22.847Z"
   },
   {
    "duration": 33,
    "start_time": "2022-10-17T13:01:22.853Z"
   },
   {
    "duration": 2076,
    "start_time": "2022-10-17T13:01:22.888Z"
   },
   {
    "duration": 27,
    "start_time": "2022-10-17T13:01:24.966Z"
   },
   {
    "duration": 14,
    "start_time": "2022-10-17T13:01:24.995Z"
   },
   {
    "duration": 23,
    "start_time": "2022-10-17T13:01:25.011Z"
   },
   {
    "duration": 11,
    "start_time": "2022-10-17T13:01:25.035Z"
   },
   {
    "duration": 21,
    "start_time": "2022-10-17T13:01:25.048Z"
   },
   {
    "duration": 13,
    "start_time": "2022-10-17T13:01:25.070Z"
   },
   {
    "duration": 39,
    "start_time": "2022-10-17T13:01:25.084Z"
   },
   {
    "duration": 20,
    "start_time": "2022-10-17T13:01:25.125Z"
   },
   {
    "duration": 4,
    "start_time": "2022-10-17T13:01:25.146Z"
   },
   {
    "duration": 27,
    "start_time": "2022-10-17T13:01:25.151Z"
   },
   {
    "duration": 17,
    "start_time": "2022-10-17T13:01:25.179Z"
   },
   {
    "duration": 23,
    "start_time": "2022-10-17T13:01:25.198Z"
   },
   {
    "duration": 26,
    "start_time": "2022-10-17T13:01:25.222Z"
   },
   {
    "duration": 3,
    "start_time": "2022-10-17T13:01:25.250Z"
   },
   {
    "duration": 19,
    "start_time": "2022-10-17T13:01:25.255Z"
   },
   {
    "duration": 5,
    "start_time": "2022-10-17T13:01:25.276Z"
   },
   {
    "duration": 5,
    "start_time": "2022-10-17T13:01:25.283Z"
   },
   {
    "duration": 81,
    "start_time": "2022-10-17T13:01:25.290Z"
   },
   {
    "duration": 40,
    "start_time": "2022-10-17T13:01:25.372Z"
   },
   {
    "duration": 8,
    "start_time": "2022-10-17T13:01:25.414Z"
   },
   {
    "duration": 12,
    "start_time": "2022-10-17T13:01:25.424Z"
   },
   {
    "duration": 84,
    "start_time": "2022-10-17T13:01:25.440Z"
   },
   {
    "duration": 10,
    "start_time": "2022-10-17T13:01:25.525Z"
   },
   {
    "duration": 16,
    "start_time": "2022-10-17T13:01:25.537Z"
   },
   {
    "duration": 7,
    "start_time": "2022-10-17T13:01:25.555Z"
   },
   {
    "duration": 85,
    "start_time": "2022-10-17T13:01:25.563Z"
   },
   {
    "duration": 2,
    "start_time": "2022-10-17T13:01:25.650Z"
   },
   {
    "duration": 55,
    "start_time": "2022-10-17T13:01:25.654Z"
   },
   {
    "duration": 3,
    "start_time": "2022-10-17T13:01:25.710Z"
   },
   {
    "duration": 7,
    "start_time": "2022-10-17T13:01:25.715Z"
   },
   {
    "duration": 501,
    "start_time": "2022-10-17T13:01:25.724Z"
   },
   {
    "duration": 5,
    "start_time": "2022-10-17T13:01:48.248Z"
   },
   {
    "duration": 477,
    "start_time": "2022-10-17T13:01:50.620Z"
   },
   {
    "duration": 5,
    "start_time": "2022-10-17T13:01:57.704Z"
   },
   {
    "duration": 5,
    "start_time": "2022-10-17T13:02:33.168Z"
   },
   {
    "duration": 213,
    "start_time": "2022-10-17T13:02:35.079Z"
   },
   {
    "duration": 7,
    "start_time": "2022-10-17T13:02:41.437Z"
   },
   {
    "duration": 6,
    "start_time": "2022-10-17T13:02:48.777Z"
   },
   {
    "duration": 480,
    "start_time": "2022-10-17T13:02:51.731Z"
   },
   {
    "duration": 5,
    "start_time": "2022-10-17T13:04:07.117Z"
   },
   {
    "duration": 30,
    "start_time": "2022-10-17T13:04:09.176Z"
   },
   {
    "duration": 5,
    "start_time": "2022-10-17T13:04:17.758Z"
   },
   {
    "duration": 471,
    "start_time": "2022-10-17T13:04:20.667Z"
   },
   {
    "duration": 5,
    "start_time": "2022-10-17T13:04:59.926Z"
   },
   {
    "duration": 317,
    "start_time": "2022-10-17T13:05:02.129Z"
   },
   {
    "duration": 5,
    "start_time": "2022-10-17T13:05:46.888Z"
   },
   {
    "duration": 274,
    "start_time": "2022-10-17T13:05:48.399Z"
   },
   {
    "duration": 5,
    "start_time": "2022-10-17T13:10:18.783Z"
   },
   {
    "duration": 278,
    "start_time": "2022-10-17T13:10:21.265Z"
   },
   {
    "duration": 5,
    "start_time": "2022-10-17T13:10:46.104Z"
   },
   {
    "duration": 356,
    "start_time": "2022-10-17T13:10:48.982Z"
   },
   {
    "duration": 4,
    "start_time": "2022-10-17T13:10:56.194Z"
   },
   {
    "duration": 284,
    "start_time": "2022-10-17T13:10:58.434Z"
   },
   {
    "duration": 5,
    "start_time": "2022-10-17T13:11:14.935Z"
   },
   {
    "duration": 272,
    "start_time": "2022-10-17T13:11:17.292Z"
   },
   {
    "duration": 6,
    "start_time": "2022-10-17T13:13:25.406Z"
   },
   {
    "duration": 355,
    "start_time": "2022-10-17T13:13:27.457Z"
   },
   {
    "duration": 5,
    "start_time": "2022-10-17T13:13:52.678Z"
   },
   {
    "duration": 283,
    "start_time": "2022-10-17T13:13:55.216Z"
   },
   {
    "duration": 5,
    "start_time": "2022-10-17T13:20:26.702Z"
   },
   {
    "duration": 271,
    "start_time": "2022-10-17T13:20:28.646Z"
   },
   {
    "duration": 5,
    "start_time": "2022-10-17T13:20:47.067Z"
   },
   {
    "duration": 286,
    "start_time": "2022-10-17T13:20:49.342Z"
   },
   {
    "duration": 5,
    "start_time": "2022-10-17T13:20:53.711Z"
   },
   {
    "duration": 288,
    "start_time": "2022-10-17T13:20:55.758Z"
   },
   {
    "duration": 5,
    "start_time": "2022-10-17T13:21:17.371Z"
   },
   {
    "duration": 270,
    "start_time": "2022-10-17T13:21:20.543Z"
   },
   {
    "duration": 6,
    "start_time": "2022-10-17T13:21:43.770Z"
   },
   {
    "duration": 250,
    "start_time": "2022-10-17T13:21:45.422Z"
   },
   {
    "duration": 4,
    "start_time": "2022-10-17T13:21:52.329Z"
   },
   {
    "duration": 328,
    "start_time": "2022-10-17T13:21:54.381Z"
   },
   {
    "duration": 5,
    "start_time": "2022-10-17T13:25:00.557Z"
   },
   {
    "duration": 279,
    "start_time": "2022-10-17T13:25:02.715Z"
   },
   {
    "duration": 6,
    "start_time": "2022-10-17T13:26:41.865Z"
   },
   {
    "duration": 278,
    "start_time": "2022-10-17T13:26:44.034Z"
   },
   {
    "duration": 5,
    "start_time": "2022-10-17T13:26:51.720Z"
   },
   {
    "duration": 269,
    "start_time": "2022-10-17T13:26:55.416Z"
   },
   {
    "duration": 6,
    "start_time": "2022-10-17T13:38:42.687Z"
   },
   {
    "duration": 322,
    "start_time": "2022-10-17T13:38:45.506Z"
   },
   {
    "duration": 6,
    "start_time": "2022-10-17T13:49:02.324Z"
   },
   {
    "duration": 170,
    "start_time": "2022-10-17T13:49:05.049Z"
   },
   {
    "duration": 6,
    "start_time": "2022-10-17T13:49:36.181Z"
   },
   {
    "duration": 321,
    "start_time": "2022-10-17T13:49:38.366Z"
   },
   {
    "duration": 1100,
    "start_time": "2022-10-18T07:36:15.945Z"
   },
   {
    "duration": 674,
    "start_time": "2022-10-18T07:36:17.048Z"
   },
   {
    "duration": 12,
    "start_time": "2022-10-18T07:36:17.724Z"
   },
   {
    "duration": 21,
    "start_time": "2022-10-18T07:36:17.738Z"
   },
   {
    "duration": 7,
    "start_time": "2022-10-18T07:36:17.761Z"
   },
   {
    "duration": 20,
    "start_time": "2022-10-18T07:36:17.770Z"
   },
   {
    "duration": 10,
    "start_time": "2022-10-18T07:36:17.792Z"
   },
   {
    "duration": 22,
    "start_time": "2022-10-18T07:36:17.803Z"
   },
   {
    "duration": 10,
    "start_time": "2022-10-18T07:36:17.827Z"
   },
   {
    "duration": 12,
    "start_time": "2022-10-18T07:36:17.839Z"
   },
   {
    "duration": 11,
    "start_time": "2022-10-18T07:36:17.852Z"
   },
   {
    "duration": 11,
    "start_time": "2022-10-18T07:36:17.865Z"
   },
   {
    "duration": 227,
    "start_time": "2022-10-18T07:36:17.878Z"
   },
   {
    "duration": 11,
    "start_time": "2022-10-18T07:36:18.107Z"
   },
   {
    "duration": 67,
    "start_time": "2022-10-18T07:36:18.119Z"
   },
   {
    "duration": 94,
    "start_time": "2022-10-18T07:36:18.188Z"
   },
   {
    "duration": 3,
    "start_time": "2022-10-18T07:36:18.283Z"
   },
   {
    "duration": 29,
    "start_time": "2022-10-18T07:36:18.288Z"
   },
   {
    "duration": 1689,
    "start_time": "2022-10-18T07:36:18.319Z"
   },
   {
    "duration": 23,
    "start_time": "2022-10-18T07:36:20.010Z"
   },
   {
    "duration": 3,
    "start_time": "2022-10-18T07:36:20.035Z"
   },
   {
    "duration": 24,
    "start_time": "2022-10-18T07:36:20.039Z"
   },
   {
    "duration": 13,
    "start_time": "2022-10-18T07:36:20.064Z"
   },
   {
    "duration": 41,
    "start_time": "2022-10-18T07:36:20.078Z"
   },
   {
    "duration": 12,
    "start_time": "2022-10-18T07:36:20.121Z"
   },
   {
    "duration": 38,
    "start_time": "2022-10-18T07:36:20.134Z"
   },
   {
    "duration": 29,
    "start_time": "2022-10-18T07:36:20.173Z"
   },
   {
    "duration": 3,
    "start_time": "2022-10-18T07:36:20.203Z"
   },
   {
    "duration": 29,
    "start_time": "2022-10-18T07:36:20.207Z"
   },
   {
    "duration": 16,
    "start_time": "2022-10-18T07:36:20.237Z"
   },
   {
    "duration": 16,
    "start_time": "2022-10-18T07:36:20.255Z"
   },
   {
    "duration": 45,
    "start_time": "2022-10-18T07:36:20.272Z"
   },
   {
    "duration": 3,
    "start_time": "2022-10-18T07:36:20.318Z"
   },
   {
    "duration": 29,
    "start_time": "2022-10-18T07:36:20.322Z"
   },
   {
    "duration": 8,
    "start_time": "2022-10-18T07:36:20.352Z"
   },
   {
    "duration": 10,
    "start_time": "2022-10-18T07:36:20.361Z"
   },
   {
    "duration": 78,
    "start_time": "2022-10-18T07:36:20.373Z"
   },
   {
    "duration": 9,
    "start_time": "2022-10-18T07:36:20.452Z"
   },
   {
    "duration": 10,
    "start_time": "2022-10-18T07:36:20.462Z"
   },
   {
    "duration": 12,
    "start_time": "2022-10-18T07:36:20.473Z"
   },
   {
    "duration": 37,
    "start_time": "2022-10-18T07:36:20.487Z"
   },
   {
    "duration": 8,
    "start_time": "2022-10-18T07:36:20.526Z"
   },
   {
    "duration": 22,
    "start_time": "2022-10-18T07:36:20.535Z"
   },
   {
    "duration": 11,
    "start_time": "2022-10-18T07:36:20.558Z"
   },
   {
    "duration": 79,
    "start_time": "2022-10-18T07:36:20.570Z"
   },
   {
    "duration": 2,
    "start_time": "2022-10-18T07:36:20.651Z"
   },
   {
    "duration": 9,
    "start_time": "2022-10-18T07:36:20.655Z"
   },
   {
    "duration": 5,
    "start_time": "2022-10-18T07:36:20.665Z"
   },
   {
    "duration": 34,
    "start_time": "2022-10-18T07:36:20.672Z"
   },
   {
    "duration": 337,
    "start_time": "2022-10-18T07:36:20.708Z"
   },
   {
    "duration": 7,
    "start_time": "2022-10-18T07:36:42.099Z"
   },
   {
    "duration": 324,
    "start_time": "2022-10-18T07:36:44.104Z"
   },
   {
    "duration": 10,
    "start_time": "2022-10-18T07:36:54.160Z"
   },
   {
    "duration": 329,
    "start_time": "2022-10-18T07:36:57.071Z"
   },
   {
    "duration": 6,
    "start_time": "2022-10-18T07:39:44.824Z"
   },
   {
    "duration": 362,
    "start_time": "2022-10-18T07:39:47.052Z"
   },
   {
    "duration": 5,
    "start_time": "2022-10-18T07:44:35.528Z"
   },
   {
    "duration": 15,
    "start_time": "2022-10-18T07:44:38.187Z"
   },
   {
    "duration": 5,
    "start_time": "2022-10-18T07:45:00.760Z"
   },
   {
    "duration": 7,
    "start_time": "2022-10-18T07:45:08.400Z"
   },
   {
    "duration": 393,
    "start_time": "2022-10-18T07:45:09.771Z"
   },
   {
    "duration": 53,
    "start_time": "2022-10-18T07:47:37.200Z"
   },
   {
    "duration": 371,
    "start_time": "2022-10-18T07:47:39.552Z"
   },
   {
    "duration": 6,
    "start_time": "2022-10-18T07:47:53.100Z"
   },
   {
    "duration": 441,
    "start_time": "2022-10-18T07:47:56.212Z"
   },
   {
    "duration": 6,
    "start_time": "2022-10-18T07:48:10.619Z"
   },
   {
    "duration": 360,
    "start_time": "2022-10-18T07:48:12.671Z"
   },
   {
    "duration": 5,
    "start_time": "2022-10-18T07:49:39.480Z"
   },
   {
    "duration": 395,
    "start_time": "2022-10-18T07:49:41.472Z"
   },
   {
    "duration": 6,
    "start_time": "2022-10-18T07:51:28.580Z"
   },
   {
    "duration": 441,
    "start_time": "2022-10-18T07:51:30.572Z"
   },
   {
    "duration": 5,
    "start_time": "2022-10-18T07:52:01.020Z"
   },
   {
    "duration": 405,
    "start_time": "2022-10-18T07:52:03.252Z"
   },
   {
    "duration": 7,
    "start_time": "2022-10-18T07:55:32.636Z"
   },
   {
    "duration": 466,
    "start_time": "2022-10-18T07:55:34.371Z"
   },
   {
    "duration": 82,
    "start_time": "2022-10-18T07:56:29.321Z"
   },
   {
    "duration": 377,
    "start_time": "2022-10-18T07:56:31.456Z"
   },
   {
    "duration": 5,
    "start_time": "2022-10-18T08:02:45.992Z"
   },
   {
    "duration": 5,
    "start_time": "2022-10-18T08:02:48.402Z"
   },
   {
    "duration": 4,
    "start_time": "2022-10-18T08:02:50.300Z"
   },
   {
    "duration": 9,
    "start_time": "2022-10-18T08:15:14.342Z"
   },
   {
    "duration": 384,
    "start_time": "2022-10-18T08:15:17.169Z"
   },
   {
    "duration": 409,
    "start_time": "2022-10-18T08:16:27.975Z"
   },
   {
    "duration": 391,
    "start_time": "2022-10-18T08:16:31.894Z"
   },
   {
    "duration": 412,
    "start_time": "2022-10-18T08:16:35.852Z"
   },
   {
    "duration": 496,
    "start_time": "2022-10-18T08:17:10.059Z"
   },
   {
    "duration": 5,
    "start_time": "2022-10-18T08:17:14.461Z"
   },
   {
    "duration": 390,
    "start_time": "2022-10-18T08:17:18.177Z"
   },
   {
    "duration": 8,
    "start_time": "2022-10-18T08:23:41.040Z"
   },
   {
    "duration": 396,
    "start_time": "2022-10-18T08:23:44.696Z"
   },
   {
    "duration": 399,
    "start_time": "2022-10-18T08:24:20.042Z"
   },
   {
    "duration": 396,
    "start_time": "2022-10-18T08:24:33.553Z"
   },
   {
    "duration": 10,
    "start_time": "2022-10-18T08:28:59.274Z"
   },
   {
    "duration": 405,
    "start_time": "2022-10-18T08:29:01.599Z"
   },
   {
    "duration": 86,
    "start_time": "2022-10-18T08:31:16.687Z"
   },
   {
    "duration": 430,
    "start_time": "2022-10-18T08:31:18.613Z"
   },
   {
    "duration": 385,
    "start_time": "2022-10-18T08:31:46.901Z"
   },
   {
    "duration": 3,
    "start_time": "2022-10-18T08:34:16.624Z"
   },
   {
    "duration": 3,
    "start_time": "2022-10-18T08:34:27.498Z"
   },
   {
    "duration": 10,
    "start_time": "2022-10-18T08:34:35.050Z"
   },
   {
    "duration": 4,
    "start_time": "2022-10-18T08:34:51.128Z"
   },
   {
    "duration": 4,
    "start_time": "2022-10-18T08:35:25.146Z"
   },
   {
    "duration": 17,
    "start_time": "2022-10-18T08:35:46.392Z"
   },
   {
    "duration": 1017,
    "start_time": "2022-10-18T08:47:22.104Z"
   },
   {
    "duration": 411,
    "start_time": "2022-10-18T08:47:23.123Z"
   },
   {
    "duration": 11,
    "start_time": "2022-10-18T08:47:23.535Z"
   },
   {
    "duration": 34,
    "start_time": "2022-10-18T08:47:23.548Z"
   },
   {
    "duration": 8,
    "start_time": "2022-10-18T08:47:23.584Z"
   },
   {
    "duration": 26,
    "start_time": "2022-10-18T08:47:23.594Z"
   },
   {
    "duration": 6,
    "start_time": "2022-10-18T08:47:23.621Z"
   },
   {
    "duration": 16,
    "start_time": "2022-10-18T08:47:23.629Z"
   },
   {
    "duration": 17,
    "start_time": "2022-10-18T08:47:23.647Z"
   },
   {
    "duration": 12,
    "start_time": "2022-10-18T08:47:23.667Z"
   },
   {
    "duration": 17,
    "start_time": "2022-10-18T08:47:23.680Z"
   },
   {
    "duration": 11,
    "start_time": "2022-10-18T08:47:23.698Z"
   },
   {
    "duration": 203,
    "start_time": "2022-10-18T08:47:23.711Z"
   },
   {
    "duration": 12,
    "start_time": "2022-10-18T08:47:23.915Z"
   },
   {
    "duration": 73,
    "start_time": "2022-10-18T08:47:23.928Z"
   },
   {
    "duration": 97,
    "start_time": "2022-10-18T08:47:24.003Z"
   },
   {
    "duration": 5,
    "start_time": "2022-10-18T08:47:24.101Z"
   },
   {
    "duration": 25,
    "start_time": "2022-10-18T08:47:24.107Z"
   },
   {
    "duration": 1801,
    "start_time": "2022-10-18T08:47:24.134Z"
   },
   {
    "duration": 22,
    "start_time": "2022-10-18T08:47:25.936Z"
   },
   {
    "duration": 3,
    "start_time": "2022-10-18T08:47:25.960Z"
   },
   {
    "duration": 25,
    "start_time": "2022-10-18T08:47:25.964Z"
   },
   {
    "duration": 14,
    "start_time": "2022-10-18T08:47:25.999Z"
   },
   {
    "duration": 21,
    "start_time": "2022-10-18T08:47:26.015Z"
   },
   {
    "duration": 13,
    "start_time": "2022-10-18T08:47:26.037Z"
   },
   {
    "duration": 32,
    "start_time": "2022-10-18T08:47:26.051Z"
   },
   {
    "duration": 24,
    "start_time": "2022-10-18T08:47:26.085Z"
   },
   {
    "duration": 3,
    "start_time": "2022-10-18T08:47:26.112Z"
   },
   {
    "duration": 31,
    "start_time": "2022-10-18T08:47:26.116Z"
   },
   {
    "duration": 16,
    "start_time": "2022-10-18T08:47:26.149Z"
   },
   {
    "duration": 21,
    "start_time": "2022-10-18T08:47:26.167Z"
   },
   {
    "duration": 23,
    "start_time": "2022-10-18T08:47:26.199Z"
   },
   {
    "duration": 3,
    "start_time": "2022-10-18T08:47:26.223Z"
   },
   {
    "duration": 16,
    "start_time": "2022-10-18T08:47:26.228Z"
   },
   {
    "duration": 6,
    "start_time": "2022-10-18T08:47:26.246Z"
   },
   {
    "duration": 7,
    "start_time": "2022-10-18T08:47:26.253Z"
   },
   {
    "duration": 79,
    "start_time": "2022-10-18T08:47:26.262Z"
   },
   {
    "duration": 8,
    "start_time": "2022-10-18T08:47:26.343Z"
   },
   {
    "duration": 15,
    "start_time": "2022-10-18T08:47:26.352Z"
   },
   {
    "duration": 25,
    "start_time": "2022-10-18T08:47:26.368Z"
   },
   {
    "duration": 26,
    "start_time": "2022-10-18T08:47:26.394Z"
   },
   {
    "duration": 8,
    "start_time": "2022-10-18T08:47:26.421Z"
   },
   {
    "duration": 13,
    "start_time": "2022-10-18T08:47:26.430Z"
   },
   {
    "duration": 5,
    "start_time": "2022-10-18T08:47:26.444Z"
   },
   {
    "duration": 51,
    "start_time": "2022-10-18T08:47:26.450Z"
   },
   {
    "duration": 8,
    "start_time": "2022-10-18T08:47:26.503Z"
   },
   {
    "duration": 14,
    "start_time": "2022-10-18T08:47:26.513Z"
   },
   {
    "duration": 8,
    "start_time": "2022-10-18T08:47:26.528Z"
   },
   {
    "duration": 9,
    "start_time": "2022-10-18T08:47:26.537Z"
   },
   {
    "duration": 389,
    "start_time": "2022-10-18T08:47:26.547Z"
   },
   {
    "duration": 3,
    "start_time": "2022-10-18T08:51:28.670Z"
   },
   {
    "duration": 2,
    "start_time": "2022-10-18T08:52:53.115Z"
   },
   {
    "duration": 10,
    "start_time": "2022-10-18T08:59:27.010Z"
   },
   {
    "duration": 499,
    "start_time": "2022-10-18T08:59:29.316Z"
   },
   {
    "duration": 10,
    "start_time": "2022-10-18T09:00:49.508Z"
   },
   {
    "duration": 388,
    "start_time": "2022-10-18T09:00:55.894Z"
   },
   {
    "duration": 10,
    "start_time": "2022-10-18T09:01:14.234Z"
   },
   {
    "duration": 525,
    "start_time": "2022-10-18T09:01:18.520Z"
   },
   {
    "duration": 10,
    "start_time": "2022-10-18T09:01:32.006Z"
   },
   {
    "duration": 523,
    "start_time": "2022-10-18T09:01:37.573Z"
   },
   {
    "duration": 9,
    "start_time": "2022-10-18T09:02:17.941Z"
   },
   {
    "duration": 642,
    "start_time": "2022-10-18T09:02:20.127Z"
   },
   {
    "duration": 17,
    "start_time": "2022-10-18T09:03:12.710Z"
   },
   {
    "duration": 9,
    "start_time": "2022-10-18T09:03:17.563Z"
   },
   {
    "duration": 522,
    "start_time": "2022-10-18T09:03:20.333Z"
   },
   {
    "duration": 611,
    "start_time": "2022-10-18T09:03:24.519Z"
   },
   {
    "duration": 17,
    "start_time": "2022-10-18T09:04:19.979Z"
   },
   {
    "duration": 584,
    "start_time": "2022-10-18T09:04:22.836Z"
   },
   {
    "duration": 89,
    "start_time": "2022-10-18T09:04:32.396Z"
   },
   {
    "duration": 604,
    "start_time": "2022-10-18T09:04:34.536Z"
   },
   {
    "duration": 10,
    "start_time": "2022-10-18T09:05:18.164Z"
   },
   {
    "duration": 542,
    "start_time": "2022-10-18T09:05:20.364Z"
   },
   {
    "duration": 11,
    "start_time": "2022-10-18T09:06:44.349Z"
   },
   {
    "duration": 538,
    "start_time": "2022-10-18T09:06:46.564Z"
   },
   {
    "duration": 9,
    "start_time": "2022-10-18T09:07:07.392Z"
   },
   {
    "duration": 628,
    "start_time": "2022-10-18T09:07:09.223Z"
   },
   {
    "duration": 10,
    "start_time": "2022-10-18T09:07:59.739Z"
   },
   {
    "duration": 564,
    "start_time": "2022-10-18T09:08:02.637Z"
   },
   {
    "duration": 87,
    "start_time": "2022-10-18T09:10:58.163Z"
   },
   {
    "duration": 986,
    "start_time": "2022-10-18T09:11:24.312Z"
   },
   {
    "duration": 381,
    "start_time": "2022-10-18T09:11:25.300Z"
   },
   {
    "duration": 13,
    "start_time": "2022-10-18T09:11:25.682Z"
   },
   {
    "duration": 26,
    "start_time": "2022-10-18T09:11:25.696Z"
   },
   {
    "duration": 8,
    "start_time": "2022-10-18T09:11:25.724Z"
   },
   {
    "duration": 21,
    "start_time": "2022-10-18T09:11:25.733Z"
   },
   {
    "duration": 6,
    "start_time": "2022-10-18T09:11:25.755Z"
   },
   {
    "duration": 25,
    "start_time": "2022-10-18T09:11:25.763Z"
   },
   {
    "duration": 11,
    "start_time": "2022-10-18T09:11:25.790Z"
   },
   {
    "duration": 9,
    "start_time": "2022-10-18T09:11:25.802Z"
   },
   {
    "duration": 14,
    "start_time": "2022-10-18T09:11:25.812Z"
   },
   {
    "duration": 15,
    "start_time": "2022-10-18T09:11:25.828Z"
   },
   {
    "duration": 215,
    "start_time": "2022-10-18T09:11:25.844Z"
   },
   {
    "duration": 11,
    "start_time": "2022-10-18T09:11:26.062Z"
   },
   {
    "duration": 74,
    "start_time": "2022-10-18T09:11:26.075Z"
   },
   {
    "duration": 89,
    "start_time": "2022-10-18T09:11:26.150Z"
   },
   {
    "duration": 4,
    "start_time": "2022-10-18T09:11:26.240Z"
   },
   {
    "duration": 27,
    "start_time": "2022-10-18T09:11:26.245Z"
   },
   {
    "duration": 1688,
    "start_time": "2022-10-18T09:11:26.274Z"
   },
   {
    "duration": 24,
    "start_time": "2022-10-18T09:11:27.964Z"
   },
   {
    "duration": 13,
    "start_time": "2022-10-18T09:11:27.989Z"
   },
   {
    "duration": 41,
    "start_time": "2022-10-18T09:11:28.004Z"
   },
   {
    "duration": 13,
    "start_time": "2022-10-18T09:11:28.047Z"
   },
   {
    "duration": 20,
    "start_time": "2022-10-18T09:11:28.062Z"
   },
   {
    "duration": 18,
    "start_time": "2022-10-18T09:11:28.083Z"
   },
   {
    "duration": 16,
    "start_time": "2022-10-18T09:11:28.102Z"
   },
   {
    "duration": 20,
    "start_time": "2022-10-18T09:11:28.119Z"
   },
   {
    "duration": 3,
    "start_time": "2022-10-18T09:11:28.141Z"
   },
   {
    "duration": 28,
    "start_time": "2022-10-18T09:11:28.145Z"
   },
   {
    "duration": 19,
    "start_time": "2022-10-18T09:11:28.200Z"
   },
   {
    "duration": 16,
    "start_time": "2022-10-18T09:11:28.221Z"
   },
   {
    "duration": 27,
    "start_time": "2022-10-18T09:11:28.238Z"
   },
   {
    "duration": 4,
    "start_time": "2022-10-18T09:11:28.267Z"
   },
   {
    "duration": 17,
    "start_time": "2022-10-18T09:11:28.300Z"
   },
   {
    "duration": 6,
    "start_time": "2022-10-18T09:11:28.318Z"
   },
   {
    "duration": 7,
    "start_time": "2022-10-18T09:11:28.326Z"
   },
   {
    "duration": 85,
    "start_time": "2022-10-18T09:11:28.334Z"
   },
   {
    "duration": 10,
    "start_time": "2022-10-18T09:11:28.421Z"
   },
   {
    "duration": 8,
    "start_time": "2022-10-18T09:11:28.432Z"
   },
   {
    "duration": 15,
    "start_time": "2022-10-18T09:11:28.441Z"
   },
   {
    "duration": 40,
    "start_time": "2022-10-18T09:11:28.459Z"
   },
   {
    "duration": 30,
    "start_time": "2022-10-18T09:11:28.501Z"
   },
   {
    "duration": 14,
    "start_time": "2022-10-18T09:11:28.533Z"
   },
   {
    "duration": 8,
    "start_time": "2022-10-18T09:11:28.548Z"
   },
   {
    "duration": 43,
    "start_time": "2022-10-18T09:11:28.557Z"
   },
   {
    "duration": 167,
    "start_time": "2022-10-18T09:11:28.602Z"
   },
   {
    "duration": 0,
    "start_time": "2022-10-18T09:11:28.770Z"
   },
   {
    "duration": 0,
    "start_time": "2022-10-18T09:11:28.771Z"
   },
   {
    "duration": 10,
    "start_time": "2022-10-18T09:11:36.953Z"
   },
   {
    "duration": 673,
    "start_time": "2022-10-18T09:11:39.655Z"
   },
   {
    "duration": 13,
    "start_time": "2022-10-18T09:12:11.571Z"
   },
   {
    "duration": 618,
    "start_time": "2022-10-18T09:12:13.922Z"
   },
   {
    "duration": 13,
    "start_time": "2022-10-18T09:13:04.501Z"
   },
   {
    "duration": 540,
    "start_time": "2022-10-18T09:13:06.575Z"
   },
   {
    "duration": 590,
    "start_time": "2022-10-18T09:13:13.635Z"
   },
   {
    "duration": 92,
    "start_time": "2022-10-18T09:13:27.693Z"
   },
   {
    "duration": 578,
    "start_time": "2022-10-18T09:13:30.088Z"
   },
   {
    "duration": 11,
    "start_time": "2022-10-18T09:13:40.063Z"
   },
   {
    "duration": 552,
    "start_time": "2022-10-18T09:13:42.396Z"
   },
   {
    "duration": 11,
    "start_time": "2022-10-18T09:14:09.288Z"
   },
   {
    "duration": 597,
    "start_time": "2022-10-18T09:14:11.543Z"
   },
   {
    "duration": 11,
    "start_time": "2022-10-18T09:15:21.903Z"
   },
   {
    "duration": 681,
    "start_time": "2022-10-18T09:15:24.132Z"
   },
   {
    "duration": 11,
    "start_time": "2022-10-18T09:16:00.433Z"
   },
   {
    "duration": 578,
    "start_time": "2022-10-18T09:16:05.998Z"
   },
   {
    "duration": 11,
    "start_time": "2022-10-18T09:17:13.973Z"
   },
   {
    "duration": 586,
    "start_time": "2022-10-18T09:17:16.691Z"
   },
   {
    "duration": 11,
    "start_time": "2022-10-18T09:18:04.797Z"
   },
   {
    "duration": 609,
    "start_time": "2022-10-18T09:18:06.744Z"
   },
   {
    "duration": 10,
    "start_time": "2022-10-18T09:19:52.971Z"
   },
   {
    "duration": 674,
    "start_time": "2022-10-18T09:19:55.034Z"
   },
   {
    "duration": 10,
    "start_time": "2022-10-18T09:21:42.576Z"
   },
   {
    "duration": 11,
    "start_time": "2022-10-18T09:21:58.500Z"
   },
   {
    "duration": 584,
    "start_time": "2022-10-18T09:22:01.396Z"
   },
   {
    "duration": 13,
    "start_time": "2022-10-18T09:23:50.964Z"
   },
   {
    "duration": 636,
    "start_time": "2022-10-18T09:23:53.352Z"
   },
   {
    "duration": 11,
    "start_time": "2022-10-18T09:26:00.949Z"
   },
   {
    "duration": 718,
    "start_time": "2022-10-18T09:26:03.201Z"
   },
   {
    "duration": 10,
    "start_time": "2022-10-18T09:27:04.935Z"
   },
   {
    "duration": 629,
    "start_time": "2022-10-18T09:27:07.337Z"
   },
   {
    "duration": 11,
    "start_time": "2022-10-18T09:27:18.277Z"
   },
   {
    "duration": 581,
    "start_time": "2022-10-18T09:27:20.758Z"
   },
   {
    "duration": 950,
    "start_time": "2022-10-18T10:24:07.744Z"
   },
   {
    "duration": 380,
    "start_time": "2022-10-18T10:24:08.696Z"
   },
   {
    "duration": 15,
    "start_time": "2022-10-18T10:24:09.078Z"
   },
   {
    "duration": 23,
    "start_time": "2022-10-18T10:24:09.095Z"
   },
   {
    "duration": 9,
    "start_time": "2022-10-18T10:24:09.119Z"
   },
   {
    "duration": 23,
    "start_time": "2022-10-18T10:24:09.129Z"
   },
   {
    "duration": 8,
    "start_time": "2022-10-18T10:24:09.153Z"
   },
   {
    "duration": 40,
    "start_time": "2022-10-18T10:24:09.162Z"
   },
   {
    "duration": 8,
    "start_time": "2022-10-18T10:24:09.203Z"
   },
   {
    "duration": 26,
    "start_time": "2022-10-18T10:24:09.213Z"
   },
   {
    "duration": 28,
    "start_time": "2022-10-18T10:24:09.241Z"
   },
   {
    "duration": 14,
    "start_time": "2022-10-18T10:24:09.270Z"
   },
   {
    "duration": 230,
    "start_time": "2022-10-18T10:24:09.286Z"
   },
   {
    "duration": 11,
    "start_time": "2022-10-18T10:24:09.518Z"
   },
   {
    "duration": 58,
    "start_time": "2022-10-18T10:24:09.531Z"
   },
   {
    "duration": 103,
    "start_time": "2022-10-18T10:24:09.600Z"
   },
   {
    "duration": 3,
    "start_time": "2022-10-18T10:24:09.705Z"
   },
   {
    "duration": 28,
    "start_time": "2022-10-18T10:24:09.710Z"
   },
   {
    "duration": 1696,
    "start_time": "2022-10-18T10:24:09.740Z"
   },
   {
    "duration": 23,
    "start_time": "2022-10-18T10:24:11.438Z"
   },
   {
    "duration": 4,
    "start_time": "2022-10-18T10:24:11.463Z"
   },
   {
    "duration": 33,
    "start_time": "2022-10-18T10:24:11.468Z"
   },
   {
    "duration": 14,
    "start_time": "2022-10-18T10:24:11.503Z"
   },
   {
    "duration": 21,
    "start_time": "2022-10-18T10:24:11.519Z"
   },
   {
    "duration": 11,
    "start_time": "2022-10-18T10:24:11.542Z"
   },
   {
    "duration": 16,
    "start_time": "2022-10-18T10:24:11.554Z"
   },
   {
    "duration": 19,
    "start_time": "2022-10-18T10:24:11.601Z"
   },
   {
    "duration": 4,
    "start_time": "2022-10-18T10:24:11.623Z"
   },
   {
    "duration": 44,
    "start_time": "2022-10-18T10:24:11.628Z"
   },
   {
    "duration": 40,
    "start_time": "2022-10-18T10:24:11.673Z"
   },
   {
    "duration": 20,
    "start_time": "2022-10-18T10:24:11.715Z"
   },
   {
    "duration": 34,
    "start_time": "2022-10-18T10:24:11.737Z"
   },
   {
    "duration": 11,
    "start_time": "2022-10-18T10:24:11.772Z"
   },
   {
    "duration": 23,
    "start_time": "2022-10-18T10:24:11.784Z"
   },
   {
    "duration": 12,
    "start_time": "2022-10-18T10:24:11.808Z"
   },
   {
    "duration": 6,
    "start_time": "2022-10-18T10:24:11.822Z"
   },
   {
    "duration": 85,
    "start_time": "2022-10-18T10:24:11.830Z"
   },
   {
    "duration": 10,
    "start_time": "2022-10-18T10:24:11.917Z"
   },
   {
    "duration": 9,
    "start_time": "2022-10-18T10:24:11.929Z"
   },
   {
    "duration": 14,
    "start_time": "2022-10-18T10:24:11.939Z"
   },
   {
    "duration": 46,
    "start_time": "2022-10-18T10:24:11.954Z"
   },
   {
    "duration": 9,
    "start_time": "2022-10-18T10:24:12.001Z"
   },
   {
    "duration": 12,
    "start_time": "2022-10-18T10:24:12.012Z"
   },
   {
    "duration": 5,
    "start_time": "2022-10-18T10:24:12.026Z"
   },
   {
    "duration": 72,
    "start_time": "2022-10-18T10:24:12.033Z"
   },
   {
    "duration": 10,
    "start_time": "2022-10-18T10:24:12.107Z"
   },
   {
    "duration": 626,
    "start_time": "2022-10-18T10:24:12.119Z"
   },
   {
    "duration": 257,
    "start_time": "2022-10-18T10:51:03.708Z"
   },
   {
    "duration": 7,
    "start_time": "2022-10-18T10:51:11.611Z"
   },
   {
    "duration": 6,
    "start_time": "2022-10-18T10:51:42.343Z"
   },
   {
    "duration": 5,
    "start_time": "2022-10-18T10:52:08.071Z"
   },
   {
    "duration": 5,
    "start_time": "2022-10-18T10:52:10.889Z"
   },
   {
    "duration": 5,
    "start_time": "2022-10-18T10:53:20.958Z"
   },
   {
    "duration": 4,
    "start_time": "2022-10-18T10:53:23.192Z"
   },
   {
    "duration": 1032,
    "start_time": "2022-10-18T10:54:19.865Z"
   },
   {
    "duration": 393,
    "start_time": "2022-10-18T10:54:20.899Z"
   },
   {
    "duration": 12,
    "start_time": "2022-10-18T10:54:21.293Z"
   },
   {
    "duration": 23,
    "start_time": "2022-10-18T10:54:21.306Z"
   },
   {
    "duration": 8,
    "start_time": "2022-10-18T10:54:21.331Z"
   },
   {
    "duration": 28,
    "start_time": "2022-10-18T10:54:21.340Z"
   },
   {
    "duration": 34,
    "start_time": "2022-10-18T10:54:21.370Z"
   },
   {
    "duration": 18,
    "start_time": "2022-10-18T10:54:21.405Z"
   },
   {
    "duration": 7,
    "start_time": "2022-10-18T10:54:21.425Z"
   },
   {
    "duration": 17,
    "start_time": "2022-10-18T10:54:21.434Z"
   },
   {
    "duration": 14,
    "start_time": "2022-10-18T10:54:21.452Z"
   },
   {
    "duration": 41,
    "start_time": "2022-10-18T10:54:21.467Z"
   },
   {
    "duration": 215,
    "start_time": "2022-10-18T10:54:21.510Z"
   },
   {
    "duration": 11,
    "start_time": "2022-10-18T10:54:21.727Z"
   },
   {
    "duration": 73,
    "start_time": "2022-10-18T10:54:21.740Z"
   },
   {
    "duration": 110,
    "start_time": "2022-10-18T10:54:21.815Z"
   },
   {
    "duration": 3,
    "start_time": "2022-10-18T10:54:21.926Z"
   },
   {
    "duration": 34,
    "start_time": "2022-10-18T10:54:21.931Z"
   },
   {
    "duration": 1828,
    "start_time": "2022-10-18T10:54:21.967Z"
   },
   {
    "duration": 30,
    "start_time": "2022-10-18T10:54:23.796Z"
   },
   {
    "duration": 4,
    "start_time": "2022-10-18T10:54:23.827Z"
   },
   {
    "duration": 49,
    "start_time": "2022-10-18T10:54:23.833Z"
   },
   {
    "duration": 20,
    "start_time": "2022-10-18T10:54:23.884Z"
   },
   {
    "duration": 27,
    "start_time": "2022-10-18T10:54:23.907Z"
   },
   {
    "duration": 25,
    "start_time": "2022-10-18T10:54:23.936Z"
   },
   {
    "duration": 33,
    "start_time": "2022-10-18T10:54:23.963Z"
   },
   {
    "duration": 21,
    "start_time": "2022-10-18T10:54:23.997Z"
   },
   {
    "duration": 3,
    "start_time": "2022-10-18T10:54:24.023Z"
   },
   {
    "duration": 47,
    "start_time": "2022-10-18T10:54:24.028Z"
   },
   {
    "duration": 64,
    "start_time": "2022-10-18T10:54:24.077Z"
   },
   {
    "duration": 35,
    "start_time": "2022-10-18T10:54:24.143Z"
   },
   {
    "duration": 38,
    "start_time": "2022-10-18T10:54:24.180Z"
   },
   {
    "duration": 8,
    "start_time": "2022-10-18T10:54:24.220Z"
   },
   {
    "duration": 49,
    "start_time": "2022-10-18T10:54:24.229Z"
   },
   {
    "duration": 7,
    "start_time": "2022-10-18T10:54:24.280Z"
   },
   {
    "duration": 44,
    "start_time": "2022-10-18T10:54:24.289Z"
   },
   {
    "duration": 138,
    "start_time": "2022-10-18T10:54:24.335Z"
   },
   {
    "duration": 14,
    "start_time": "2022-10-18T10:54:24.475Z"
   },
   {
    "duration": 19,
    "start_time": "2022-10-18T10:54:24.491Z"
   },
   {
    "duration": 21,
    "start_time": "2022-10-18T10:54:24.512Z"
   },
   {
    "duration": 53,
    "start_time": "2022-10-18T10:54:24.536Z"
   },
   {
    "duration": 13,
    "start_time": "2022-10-18T10:54:24.591Z"
   },
   {
    "duration": 43,
    "start_time": "2022-10-18T10:54:24.606Z"
   },
   {
    "duration": 17,
    "start_time": "2022-10-18T10:54:24.651Z"
   },
   {
    "duration": 43,
    "start_time": "2022-10-18T10:54:24.670Z"
   },
   {
    "duration": 18,
    "start_time": "2022-10-18T10:54:24.715Z"
   },
   {
    "duration": 693,
    "start_time": "2022-10-18T10:54:24.734Z"
   },
   {
    "duration": 5,
    "start_time": "2022-10-18T10:54:25.429Z"
   },
   {
    "duration": 15,
    "start_time": "2022-10-18T10:54:25.440Z"
   },
   {
    "duration": 991,
    "start_time": "2022-10-18T10:59:31.222Z"
   },
   {
    "duration": 400,
    "start_time": "2022-10-18T10:59:32.215Z"
   },
   {
    "duration": 12,
    "start_time": "2022-10-18T10:59:32.616Z"
   },
   {
    "duration": 22,
    "start_time": "2022-10-18T10:59:32.629Z"
   },
   {
    "duration": 10,
    "start_time": "2022-10-18T10:59:32.653Z"
   },
   {
    "duration": 27,
    "start_time": "2022-10-18T10:59:32.664Z"
   },
   {
    "duration": 15,
    "start_time": "2022-10-18T10:59:32.693Z"
   },
   {
    "duration": 22,
    "start_time": "2022-10-18T10:59:32.710Z"
   },
   {
    "duration": 15,
    "start_time": "2022-10-18T10:59:32.733Z"
   },
   {
    "duration": 16,
    "start_time": "2022-10-18T10:59:32.750Z"
   },
   {
    "duration": 11,
    "start_time": "2022-10-18T10:59:32.767Z"
   },
   {
    "duration": 24,
    "start_time": "2022-10-18T10:59:32.780Z"
   },
   {
    "duration": 219,
    "start_time": "2022-10-18T10:59:32.806Z"
   },
   {
    "duration": 11,
    "start_time": "2022-10-18T10:59:33.026Z"
   },
   {
    "duration": 83,
    "start_time": "2022-10-18T10:59:33.039Z"
   },
   {
    "duration": 99,
    "start_time": "2022-10-18T10:59:33.124Z"
   },
   {
    "duration": 4,
    "start_time": "2022-10-18T10:59:33.225Z"
   },
   {
    "duration": 22,
    "start_time": "2022-10-18T10:59:33.231Z"
   },
   {
    "duration": 1860,
    "start_time": "2022-10-18T10:59:33.254Z"
   },
   {
    "duration": 35,
    "start_time": "2022-10-18T10:59:35.115Z"
   },
   {
    "duration": 4,
    "start_time": "2022-10-18T10:59:35.152Z"
   },
   {
    "duration": 24,
    "start_time": "2022-10-18T10:59:35.157Z"
   },
   {
    "duration": 28,
    "start_time": "2022-10-18T10:59:35.182Z"
   },
   {
    "duration": 23,
    "start_time": "2022-10-18T10:59:35.211Z"
   },
   {
    "duration": 12,
    "start_time": "2022-10-18T10:59:35.235Z"
   },
   {
    "duration": 20,
    "start_time": "2022-10-18T10:59:35.249Z"
   },
   {
    "duration": 38,
    "start_time": "2022-10-18T10:59:35.271Z"
   },
   {
    "duration": 4,
    "start_time": "2022-10-18T10:59:35.313Z"
   },
   {
    "duration": 34,
    "start_time": "2022-10-18T10:59:35.319Z"
   },
   {
    "duration": 18,
    "start_time": "2022-10-18T10:59:35.355Z"
   },
   {
    "duration": 37,
    "start_time": "2022-10-18T10:59:35.374Z"
   },
   {
    "duration": 28,
    "start_time": "2022-10-18T10:59:35.413Z"
   },
   {
    "duration": 4,
    "start_time": "2022-10-18T10:59:35.443Z"
   },
   {
    "duration": 20,
    "start_time": "2022-10-18T10:59:35.449Z"
   },
   {
    "duration": 5,
    "start_time": "2022-10-18T10:59:35.471Z"
   },
   {
    "duration": 5,
    "start_time": "2022-10-18T10:59:35.500Z"
   },
   {
    "duration": 118,
    "start_time": "2022-10-18T10:59:35.507Z"
   },
   {
    "duration": 10,
    "start_time": "2022-10-18T10:59:35.627Z"
   },
   {
    "duration": 18,
    "start_time": "2022-10-18T10:59:35.639Z"
   },
   {
    "duration": 11,
    "start_time": "2022-10-18T10:59:35.658Z"
   },
   {
    "duration": 32,
    "start_time": "2022-10-18T10:59:35.670Z"
   },
   {
    "duration": 9,
    "start_time": "2022-10-18T10:59:35.703Z"
   },
   {
    "duration": 17,
    "start_time": "2022-10-18T10:59:35.713Z"
   },
   {
    "duration": 6,
    "start_time": "2022-10-18T10:59:35.731Z"
   },
   {
    "duration": 39,
    "start_time": "2022-10-18T10:59:35.738Z"
   },
   {
    "duration": 11,
    "start_time": "2022-10-18T10:59:35.800Z"
   },
   {
    "duration": 619,
    "start_time": "2022-10-18T10:59:35.813Z"
   },
   {
    "duration": 4,
    "start_time": "2022-10-18T10:59:36.434Z"
   },
   {
    "duration": 13,
    "start_time": "2022-10-18T10:59:36.440Z"
   },
   {
    "duration": 638,
    "start_time": "2022-10-18T11:01:18.827Z"
   },
   {
    "duration": 633,
    "start_time": "2022-10-18T11:01:39.112Z"
   },
   {
    "duration": 667,
    "start_time": "2022-10-18T11:01:52.368Z"
   },
   {
    "duration": 736,
    "start_time": "2022-10-18T11:01:58.798Z"
   },
   {
    "duration": 636,
    "start_time": "2022-10-18T11:02:02.960Z"
   },
   {
    "duration": 636,
    "start_time": "2022-10-18T11:02:06.946Z"
   },
   {
    "duration": 7,
    "start_time": "2022-10-18T11:02:42.366Z"
   },
   {
    "duration": 688,
    "start_time": "2022-10-18T11:04:20.338Z"
   },
   {
    "duration": 6,
    "start_time": "2022-10-18T11:04:31.472Z"
   },
   {
    "duration": 1199,
    "start_time": "2022-10-18T20:10:25.009Z"
   },
   {
    "duration": 1694,
    "start_time": "2022-10-18T20:10:26.210Z"
   },
   {
    "duration": 11,
    "start_time": "2022-10-18T20:10:27.906Z"
   },
   {
    "duration": 21,
    "start_time": "2022-10-18T20:10:27.919Z"
   },
   {
    "duration": 7,
    "start_time": "2022-10-18T20:10:27.942Z"
   },
   {
    "duration": 18,
    "start_time": "2022-10-18T20:10:27.950Z"
   },
   {
    "duration": 6,
    "start_time": "2022-10-18T20:10:27.969Z"
   },
   {
    "duration": 18,
    "start_time": "2022-10-18T20:10:27.976Z"
   },
   {
    "duration": 27,
    "start_time": "2022-10-18T20:10:27.995Z"
   },
   {
    "duration": 12,
    "start_time": "2022-10-18T20:10:28.023Z"
   },
   {
    "duration": 10,
    "start_time": "2022-10-18T20:10:28.036Z"
   },
   {
    "duration": 15,
    "start_time": "2022-10-18T20:10:28.047Z"
   },
   {
    "duration": 204,
    "start_time": "2022-10-18T20:10:28.063Z"
   },
   {
    "duration": 11,
    "start_time": "2022-10-18T20:10:28.269Z"
   },
   {
    "duration": 63,
    "start_time": "2022-10-18T20:10:28.281Z"
   },
   {
    "duration": 89,
    "start_time": "2022-10-18T20:10:28.345Z"
   },
   {
    "duration": 3,
    "start_time": "2022-10-18T20:10:28.436Z"
   },
   {
    "duration": 22,
    "start_time": "2022-10-18T20:10:28.441Z"
   },
   {
    "duration": 1710,
    "start_time": "2022-10-18T20:10:28.464Z"
   },
   {
    "duration": 25,
    "start_time": "2022-10-18T20:10:30.176Z"
   },
   {
    "duration": 3,
    "start_time": "2022-10-18T20:10:30.203Z"
   },
   {
    "duration": 50,
    "start_time": "2022-10-18T20:10:30.207Z"
   },
   {
    "duration": 19,
    "start_time": "2022-10-18T20:10:30.259Z"
   },
   {
    "duration": 23,
    "start_time": "2022-10-18T20:10:30.279Z"
   },
   {
    "duration": 13,
    "start_time": "2022-10-18T20:10:30.304Z"
   },
   {
    "duration": 26,
    "start_time": "2022-10-18T20:10:30.319Z"
   },
   {
    "duration": 35,
    "start_time": "2022-10-18T20:10:30.347Z"
   },
   {
    "duration": 3,
    "start_time": "2022-10-18T20:10:30.384Z"
   },
   {
    "duration": 47,
    "start_time": "2022-10-18T20:10:30.388Z"
   },
   {
    "duration": 46,
    "start_time": "2022-10-18T20:10:30.436Z"
   },
   {
    "duration": 27,
    "start_time": "2022-10-18T20:10:30.484Z"
   },
   {
    "duration": 41,
    "start_time": "2022-10-18T20:10:30.513Z"
   },
   {
    "duration": 3,
    "start_time": "2022-10-18T20:10:30.556Z"
   },
   {
    "duration": 27,
    "start_time": "2022-10-18T20:10:30.561Z"
   },
   {
    "duration": 6,
    "start_time": "2022-10-18T20:10:30.589Z"
   },
   {
    "duration": 43,
    "start_time": "2022-10-18T20:10:30.597Z"
   },
   {
    "duration": 86,
    "start_time": "2022-10-18T20:10:30.641Z"
   },
   {
    "duration": 12,
    "start_time": "2022-10-18T20:10:30.729Z"
   },
   {
    "duration": 21,
    "start_time": "2022-10-18T20:10:30.742Z"
   },
   {
    "duration": 57,
    "start_time": "2022-10-18T20:10:30.765Z"
   },
   {
    "duration": 49,
    "start_time": "2022-10-18T20:10:30.826Z"
   },
   {
    "duration": 14,
    "start_time": "2022-10-18T20:10:30.877Z"
   },
   {
    "duration": 22,
    "start_time": "2022-10-18T20:10:30.892Z"
   },
   {
    "duration": 14,
    "start_time": "2022-10-18T20:10:30.916Z"
   },
   {
    "duration": 52,
    "start_time": "2022-10-18T20:10:30.931Z"
   },
   {
    "duration": 11,
    "start_time": "2022-10-18T20:10:30.984Z"
   },
   {
    "duration": 694,
    "start_time": "2022-10-18T20:10:30.996Z"
   },
   {
    "duration": 5,
    "start_time": "2022-10-18T20:10:31.691Z"
   },
   {
    "duration": 9,
    "start_time": "2022-10-18T20:10:31.698Z"
   },
   {
    "duration": 646,
    "start_time": "2022-10-18T20:10:31.709Z"
   },
   {
    "duration": 5,
    "start_time": "2022-10-18T20:10:32.357Z"
   },
   {
    "duration": 574,
    "start_time": "2022-10-18T20:10:32.363Z"
   },
   {
    "duration": 5,
    "start_time": "2022-10-18T20:10:32.939Z"
   },
   {
    "duration": 658,
    "start_time": "2022-10-18T20:13:53.645Z"
   },
   {
    "duration": 1192,
    "start_time": "2022-10-19T10:16:10.544Z"
   },
   {
    "duration": 681,
    "start_time": "2022-10-19T10:16:11.738Z"
   },
   {
    "duration": 12,
    "start_time": "2022-10-19T10:16:12.421Z"
   },
   {
    "duration": 32,
    "start_time": "2022-10-19T10:16:12.434Z"
   },
   {
    "duration": 9,
    "start_time": "2022-10-19T10:16:12.468Z"
   },
   {
    "duration": 24,
    "start_time": "2022-10-19T10:16:12.479Z"
   },
   {
    "duration": 6,
    "start_time": "2022-10-19T10:16:12.505Z"
   },
   {
    "duration": 19,
    "start_time": "2022-10-19T10:16:12.513Z"
   },
   {
    "duration": 9,
    "start_time": "2022-10-19T10:16:12.533Z"
   },
   {
    "duration": 12,
    "start_time": "2022-10-19T10:16:12.543Z"
   },
   {
    "duration": 12,
    "start_time": "2022-10-19T10:16:12.557Z"
   },
   {
    "duration": 36,
    "start_time": "2022-10-19T10:16:12.570Z"
   },
   {
    "duration": 222,
    "start_time": "2022-10-19T10:16:12.607Z"
   },
   {
    "duration": 11,
    "start_time": "2022-10-19T10:16:12.832Z"
   },
   {
    "duration": 73,
    "start_time": "2022-10-19T10:16:12.845Z"
   },
   {
    "duration": 114,
    "start_time": "2022-10-19T10:16:12.919Z"
   },
   {
    "duration": 5,
    "start_time": "2022-10-19T10:16:13.035Z"
   },
   {
    "duration": 33,
    "start_time": "2022-10-19T10:16:13.041Z"
   },
   {
    "duration": 1894,
    "start_time": "2022-10-19T10:16:13.076Z"
   },
   {
    "duration": 34,
    "start_time": "2022-10-19T10:16:14.971Z"
   },
   {
    "duration": 3,
    "start_time": "2022-10-19T10:16:15.006Z"
   },
   {
    "duration": 60,
    "start_time": "2022-10-19T10:16:15.011Z"
   },
   {
    "duration": 14,
    "start_time": "2022-10-19T10:16:15.073Z"
   },
   {
    "duration": 29,
    "start_time": "2022-10-19T10:16:15.089Z"
   },
   {
    "duration": 14,
    "start_time": "2022-10-19T10:16:15.120Z"
   },
   {
    "duration": 30,
    "start_time": "2022-10-19T10:16:15.135Z"
   },
   {
    "duration": 21,
    "start_time": "2022-10-19T10:16:15.166Z"
   },
   {
    "duration": 13,
    "start_time": "2022-10-19T10:16:15.188Z"
   },
   {
    "duration": 25,
    "start_time": "2022-10-19T10:16:15.202Z"
   },
   {
    "duration": 16,
    "start_time": "2022-10-19T10:16:15.229Z"
   },
   {
    "duration": 19,
    "start_time": "2022-10-19T10:16:15.247Z"
   },
   {
    "duration": 54,
    "start_time": "2022-10-19T10:16:15.267Z"
   },
   {
    "duration": 5,
    "start_time": "2022-10-19T10:16:15.326Z"
   },
   {
    "duration": 23,
    "start_time": "2022-10-19T10:16:15.333Z"
   },
   {
    "duration": 6,
    "start_time": "2022-10-19T10:16:15.358Z"
   },
   {
    "duration": 11,
    "start_time": "2022-10-19T10:16:15.366Z"
   },
   {
    "duration": 96,
    "start_time": "2022-10-19T10:16:15.379Z"
   },
   {
    "duration": 9,
    "start_time": "2022-10-19T10:16:15.476Z"
   },
   {
    "duration": 12,
    "start_time": "2022-10-19T10:16:15.500Z"
   },
   {
    "duration": 16,
    "start_time": "2022-10-19T10:16:15.514Z"
   },
   {
    "duration": 31,
    "start_time": "2022-10-19T10:16:15.534Z"
   },
   {
    "duration": 11,
    "start_time": "2022-10-19T10:16:15.566Z"
   },
   {
    "duration": 30,
    "start_time": "2022-10-19T10:16:15.579Z"
   },
   {
    "duration": 6,
    "start_time": "2022-10-19T10:16:15.611Z"
   },
   {
    "duration": 48,
    "start_time": "2022-10-19T10:16:15.618Z"
   },
   {
    "duration": 11,
    "start_time": "2022-10-19T10:16:15.668Z"
   },
   {
    "duration": 670,
    "start_time": "2022-10-19T10:16:15.701Z"
   },
   {
    "duration": 7,
    "start_time": "2022-10-19T10:16:16.373Z"
   },
   {
    "duration": 21,
    "start_time": "2022-10-19T10:16:16.382Z"
   },
   {
    "duration": 655,
    "start_time": "2022-10-19T10:16:16.404Z"
   },
   {
    "duration": 6,
    "start_time": "2022-10-19T10:16:17.062Z"
   },
   {
    "duration": 694,
    "start_time": "2022-10-19T10:16:17.070Z"
   },
   {
    "duration": 6,
    "start_time": "2022-10-19T10:16:17.766Z"
   },
   {
    "duration": 10,
    "start_time": "2022-10-19T10:20:31.449Z"
   },
   {
    "duration": 981,
    "start_time": "2022-10-19T10:38:16.543Z"
   },
   {
    "duration": 383,
    "start_time": "2022-10-19T10:38:17.526Z"
   },
   {
    "duration": 11,
    "start_time": "2022-10-19T10:38:17.910Z"
   },
   {
    "duration": 21,
    "start_time": "2022-10-19T10:38:17.923Z"
   },
   {
    "duration": 8,
    "start_time": "2022-10-19T10:38:17.945Z"
   },
   {
    "duration": 22,
    "start_time": "2022-10-19T10:38:17.954Z"
   },
   {
    "duration": 22,
    "start_time": "2022-10-19T10:38:17.978Z"
   },
   {
    "duration": 17,
    "start_time": "2022-10-19T10:38:18.002Z"
   },
   {
    "duration": 7,
    "start_time": "2022-10-19T10:38:18.021Z"
   },
   {
    "duration": 12,
    "start_time": "2022-10-19T10:38:18.031Z"
   },
   {
    "duration": 16,
    "start_time": "2022-10-19T10:38:18.044Z"
   },
   {
    "duration": 11,
    "start_time": "2022-10-19T10:38:18.062Z"
   },
   {
    "duration": 226,
    "start_time": "2022-10-19T10:38:18.074Z"
   },
   {
    "duration": 12,
    "start_time": "2022-10-19T10:38:18.302Z"
   },
   {
    "duration": 58,
    "start_time": "2022-10-19T10:38:18.316Z"
   },
   {
    "duration": 116,
    "start_time": "2022-10-19T10:38:18.376Z"
   },
   {
    "duration": 4,
    "start_time": "2022-10-19T10:38:18.500Z"
   },
   {
    "duration": 29,
    "start_time": "2022-10-19T10:38:18.505Z"
   },
   {
    "duration": 1767,
    "start_time": "2022-10-19T10:38:18.536Z"
   },
   {
    "duration": 25,
    "start_time": "2022-10-19T10:38:20.304Z"
   },
   {
    "duration": 3,
    "start_time": "2022-10-19T10:38:20.331Z"
   },
   {
    "duration": 21,
    "start_time": "2022-10-19T10:38:20.336Z"
   },
   {
    "duration": 13,
    "start_time": "2022-10-19T10:38:20.359Z"
   },
   {
    "duration": 45,
    "start_time": "2022-10-19T10:38:20.373Z"
   },
   {
    "duration": 12,
    "start_time": "2022-10-19T10:38:20.420Z"
   },
   {
    "duration": 16,
    "start_time": "2022-10-19T10:38:20.434Z"
   },
   {
    "duration": 20,
    "start_time": "2022-10-19T10:38:20.452Z"
   },
   {
    "duration": 3,
    "start_time": "2022-10-19T10:38:20.500Z"
   },
   {
    "duration": 28,
    "start_time": "2022-10-19T10:38:20.504Z"
   },
   {
    "duration": 16,
    "start_time": "2022-10-19T10:38:20.534Z"
   },
   {
    "duration": 15,
    "start_time": "2022-10-19T10:38:20.552Z"
   },
   {
    "duration": 49,
    "start_time": "2022-10-19T10:38:20.568Z"
   },
   {
    "duration": 3,
    "start_time": "2022-10-19T10:38:20.618Z"
   },
   {
    "duration": 34,
    "start_time": "2022-10-19T10:38:20.622Z"
   },
   {
    "duration": 9,
    "start_time": "2022-10-19T10:38:20.657Z"
   },
   {
    "duration": 12,
    "start_time": "2022-10-19T10:38:20.668Z"
   },
   {
    "duration": 70,
    "start_time": "2022-10-19T10:38:20.681Z"
   },
   {
    "duration": 10,
    "start_time": "2022-10-19T10:38:20.753Z"
   },
   {
    "duration": 9,
    "start_time": "2022-10-19T10:38:20.765Z"
   },
   {
    "duration": 26,
    "start_time": "2022-10-19T10:38:20.776Z"
   },
   {
    "duration": 38,
    "start_time": "2022-10-19T10:38:20.804Z"
   },
   {
    "duration": 8,
    "start_time": "2022-10-19T10:38:20.843Z"
   },
   {
    "duration": 18,
    "start_time": "2022-10-19T10:38:20.853Z"
   },
   {
    "duration": 18,
    "start_time": "2022-10-19T10:38:20.872Z"
   },
   {
    "duration": 57,
    "start_time": "2022-10-19T10:38:20.892Z"
   },
   {
    "duration": 11,
    "start_time": "2022-10-19T10:38:20.950Z"
   },
   {
    "duration": 640,
    "start_time": "2022-10-19T10:38:20.962Z"
   },
   {
    "duration": 5,
    "start_time": "2022-10-19T10:38:21.603Z"
   },
   {
    "duration": 11,
    "start_time": "2022-10-19T10:38:21.610Z"
   },
   {
    "duration": 642,
    "start_time": "2022-10-19T10:38:21.622Z"
   },
   {
    "duration": 6,
    "start_time": "2022-10-19T10:38:22.265Z"
   },
   {
    "duration": 616,
    "start_time": "2022-10-19T10:38:22.272Z"
   },
   {
    "duration": 13,
    "start_time": "2022-10-19T10:38:22.890Z"
   },
   {
    "duration": 14,
    "start_time": "2022-10-19T10:45:34.006Z"
   },
   {
    "duration": 16,
    "start_time": "2022-10-19T11:37:17.782Z"
   },
   {
    "duration": 20,
    "start_time": "2022-10-19T11:38:00.330Z"
   },
   {
    "duration": 4,
    "start_time": "2022-10-19T11:58:54.509Z"
   },
   {
    "duration": 4,
    "start_time": "2022-10-19T12:00:30.272Z"
   },
   {
    "duration": 19,
    "start_time": "2022-10-19T12:00:34.526Z"
   },
   {
    "duration": 25,
    "start_time": "2022-10-19T12:00:40.012Z"
   },
   {
    "duration": 4,
    "start_time": "2022-10-19T12:00:57.228Z"
   },
   {
    "duration": 21,
    "start_time": "2022-10-19T12:00:59.204Z"
   },
   {
    "duration": 20,
    "start_time": "2022-10-19T12:01:04.445Z"
   },
   {
    "duration": 14,
    "start_time": "2022-10-19T12:01:12.874Z"
   },
   {
    "duration": 5,
    "start_time": "2022-10-19T12:12:33.724Z"
   },
   {
    "duration": 29,
    "start_time": "2022-10-19T12:12:59.803Z"
   },
   {
    "duration": 18,
    "start_time": "2022-10-19T12:13:14.725Z"
   },
   {
    "duration": 19,
    "start_time": "2022-10-19T12:13:19.316Z"
   },
   {
    "duration": 20,
    "start_time": "2022-10-19T12:15:19.533Z"
   },
   {
    "duration": 20,
    "start_time": "2022-10-19T12:16:29.553Z"
   },
   {
    "duration": 19,
    "start_time": "2022-10-19T12:17:16.904Z"
   },
   {
    "duration": 26,
    "start_time": "2022-10-19T12:17:38.164Z"
   },
   {
    "duration": 6,
    "start_time": "2022-10-19T12:26:42.374Z"
   },
   {
    "duration": 6,
    "start_time": "2022-10-19T12:37:29.850Z"
   },
   {
    "duration": 18,
    "start_time": "2022-10-19T12:38:45.487Z"
   },
   {
    "duration": 7,
    "start_time": "2022-10-19T12:38:56.450Z"
   },
   {
    "duration": 7,
    "start_time": "2022-10-19T12:38:58.721Z"
   },
   {
    "duration": 6,
    "start_time": "2022-10-19T12:39:33.695Z"
   },
   {
    "duration": 6,
    "start_time": "2022-10-19T12:39:57.316Z"
   },
   {
    "duration": 20,
    "start_time": "2022-10-19T12:39:59.626Z"
   },
   {
    "duration": 7,
    "start_time": "2022-10-19T12:40:16.949Z"
   },
   {
    "duration": 19,
    "start_time": "2022-10-19T12:40:18.535Z"
   },
   {
    "duration": 23,
    "start_time": "2022-10-19T12:40:41.746Z"
   },
   {
    "duration": 1028,
    "start_time": "2022-10-19T12:58:38.894Z"
   },
   {
    "duration": 398,
    "start_time": "2022-10-19T12:58:39.925Z"
   },
   {
    "duration": 13,
    "start_time": "2022-10-19T12:58:40.325Z"
   },
   {
    "duration": 36,
    "start_time": "2022-10-19T12:58:40.341Z"
   },
   {
    "duration": 10,
    "start_time": "2022-10-19T12:58:40.378Z"
   },
   {
    "duration": 26,
    "start_time": "2022-10-19T12:58:40.390Z"
   },
   {
    "duration": 8,
    "start_time": "2022-10-19T12:58:40.417Z"
   },
   {
    "duration": 40,
    "start_time": "2022-10-19T12:58:40.427Z"
   },
   {
    "duration": 12,
    "start_time": "2022-10-19T12:58:40.469Z"
   },
   {
    "duration": 21,
    "start_time": "2022-10-19T12:58:40.485Z"
   },
   {
    "duration": 12,
    "start_time": "2022-10-19T12:58:40.508Z"
   },
   {
    "duration": 17,
    "start_time": "2022-10-19T12:58:40.522Z"
   },
   {
    "duration": 233,
    "start_time": "2022-10-19T12:58:40.541Z"
   },
   {
    "duration": 12,
    "start_time": "2022-10-19T12:58:40.775Z"
   },
   {
    "duration": 72,
    "start_time": "2022-10-19T12:58:40.789Z"
   },
   {
    "duration": 132,
    "start_time": "2022-10-19T12:58:40.863Z"
   },
   {
    "duration": 6,
    "start_time": "2022-10-19T12:58:40.997Z"
   },
   {
    "duration": 31,
    "start_time": "2022-10-19T12:58:41.004Z"
   },
   {
    "duration": 1811,
    "start_time": "2022-10-19T12:58:41.037Z"
   },
   {
    "duration": 26,
    "start_time": "2022-10-19T12:58:42.850Z"
   },
   {
    "duration": 4,
    "start_time": "2022-10-19T12:58:42.878Z"
   },
   {
    "duration": 31,
    "start_time": "2022-10-19T12:58:42.884Z"
   },
   {
    "duration": 14,
    "start_time": "2022-10-19T12:58:42.917Z"
   },
   {
    "duration": 24,
    "start_time": "2022-10-19T12:58:42.933Z"
   },
   {
    "duration": 43,
    "start_time": "2022-10-19T12:58:42.959Z"
   },
   {
    "duration": 27,
    "start_time": "2022-10-19T12:58:43.004Z"
   },
   {
    "duration": 23,
    "start_time": "2022-10-19T12:58:43.033Z"
   },
   {
    "duration": 3,
    "start_time": "2022-10-19T12:58:43.061Z"
   },
   {
    "duration": 44,
    "start_time": "2022-10-19T12:58:43.066Z"
   },
   {
    "duration": 19,
    "start_time": "2022-10-19T12:58:43.112Z"
   },
   {
    "duration": 18,
    "start_time": "2022-10-19T12:58:43.133Z"
   },
   {
    "duration": 51,
    "start_time": "2022-10-19T12:58:43.152Z"
   },
   {
    "duration": 4,
    "start_time": "2022-10-19T12:58:43.205Z"
   },
   {
    "duration": 27,
    "start_time": "2022-10-19T12:58:43.211Z"
   },
   {
    "duration": 8,
    "start_time": "2022-10-19T12:58:43.239Z"
   },
   {
    "duration": 7,
    "start_time": "2022-10-19T12:58:43.249Z"
   },
   {
    "duration": 86,
    "start_time": "2022-10-19T12:58:43.257Z"
   },
   {
    "duration": 9,
    "start_time": "2022-10-19T12:58:43.345Z"
   },
   {
    "duration": 27,
    "start_time": "2022-10-19T12:58:43.356Z"
   },
   {
    "duration": 12,
    "start_time": "2022-10-19T12:58:43.385Z"
   },
   {
    "duration": 31,
    "start_time": "2022-10-19T12:58:43.398Z"
   },
   {
    "duration": 11,
    "start_time": "2022-10-19T12:58:43.431Z"
   },
   {
    "duration": 25,
    "start_time": "2022-10-19T12:58:43.444Z"
   },
   {
    "duration": 7,
    "start_time": "2022-10-19T12:58:43.471Z"
   },
   {
    "duration": 57,
    "start_time": "2022-10-19T12:58:43.479Z"
   },
   {
    "duration": 11,
    "start_time": "2022-10-19T12:58:43.538Z"
   },
   {
    "duration": 658,
    "start_time": "2022-10-19T12:58:43.551Z"
   },
   {
    "duration": 6,
    "start_time": "2022-10-19T12:58:44.211Z"
   },
   {
    "duration": 28,
    "start_time": "2022-10-19T12:58:44.219Z"
   },
   {
    "duration": 756,
    "start_time": "2022-10-19T12:58:44.249Z"
   },
   {
    "duration": 5,
    "start_time": "2022-10-19T12:58:45.007Z"
   },
   {
    "duration": 679,
    "start_time": "2022-10-19T12:58:45.014Z"
   },
   {
    "duration": 10,
    "start_time": "2022-10-19T12:58:45.695Z"
   },
   {
    "duration": 34,
    "start_time": "2022-10-19T12:58:45.706Z"
   },
   {
    "duration": 12,
    "start_time": "2022-10-19T12:58:45.742Z"
   },
   {
    "duration": 56,
    "start_time": "2022-10-19T12:58:45.756Z"
   },
   {
    "duration": 19,
    "start_time": "2022-10-19T12:58:45.814Z"
   },
   {
    "duration": 969,
    "start_time": "2022-10-19T13:02:32.933Z"
   },
   {
    "duration": 406,
    "start_time": "2022-10-19T13:02:33.904Z"
   },
   {
    "duration": 10,
    "start_time": "2022-10-19T13:02:34.314Z"
   },
   {
    "duration": 96,
    "start_time": "2022-10-19T13:02:34.326Z"
   },
   {
    "duration": 36,
    "start_time": "2022-10-19T13:02:34.424Z"
   },
   {
    "duration": 39,
    "start_time": "2022-10-19T13:02:34.463Z"
   },
   {
    "duration": 18,
    "start_time": "2022-10-19T13:02:34.504Z"
   },
   {
    "duration": 31,
    "start_time": "2022-10-19T13:02:34.524Z"
   },
   {
    "duration": 9,
    "start_time": "2022-10-19T13:02:34.557Z"
   },
   {
    "duration": 20,
    "start_time": "2022-10-19T13:02:34.568Z"
   },
   {
    "duration": 20,
    "start_time": "2022-10-19T13:02:34.590Z"
   },
   {
    "duration": 21,
    "start_time": "2022-10-19T13:02:34.612Z"
   },
   {
    "duration": 220,
    "start_time": "2022-10-19T13:02:34.637Z"
   },
   {
    "duration": 11,
    "start_time": "2022-10-19T13:02:34.858Z"
   },
   {
    "duration": 75,
    "start_time": "2022-10-19T13:02:34.870Z"
   },
   {
    "duration": 115,
    "start_time": "2022-10-19T13:02:34.947Z"
   },
   {
    "duration": 4,
    "start_time": "2022-10-19T13:02:35.063Z"
   },
   {
    "duration": 37,
    "start_time": "2022-10-19T13:02:35.069Z"
   },
   {
    "duration": 1775,
    "start_time": "2022-10-19T13:02:35.108Z"
   },
   {
    "duration": 38,
    "start_time": "2022-10-19T13:02:36.885Z"
   },
   {
    "duration": 4,
    "start_time": "2022-10-19T13:02:36.925Z"
   },
   {
    "duration": 28,
    "start_time": "2022-10-19T13:02:36.930Z"
   },
   {
    "duration": 14,
    "start_time": "2022-10-19T13:02:36.960Z"
   },
   {
    "duration": 43,
    "start_time": "2022-10-19T13:02:36.976Z"
   },
   {
    "duration": 13,
    "start_time": "2022-10-19T13:02:37.021Z"
   },
   {
    "duration": 16,
    "start_time": "2022-10-19T13:02:37.036Z"
   },
   {
    "duration": 18,
    "start_time": "2022-10-19T13:02:37.054Z"
   },
   {
    "duration": 3,
    "start_time": "2022-10-19T13:02:37.074Z"
   },
   {
    "duration": 33,
    "start_time": "2022-10-19T13:02:37.100Z"
   },
   {
    "duration": 24,
    "start_time": "2022-10-19T13:02:37.134Z"
   },
   {
    "duration": 18,
    "start_time": "2022-10-19T13:02:37.160Z"
   },
   {
    "duration": 40,
    "start_time": "2022-10-19T13:02:37.180Z"
   },
   {
    "duration": 4,
    "start_time": "2022-10-19T13:02:37.221Z"
   },
   {
    "duration": 26,
    "start_time": "2022-10-19T13:02:37.226Z"
   },
   {
    "duration": 8,
    "start_time": "2022-10-19T13:02:37.253Z"
   },
   {
    "duration": 13,
    "start_time": "2022-10-19T13:02:37.263Z"
   },
   {
    "duration": 71,
    "start_time": "2022-10-19T13:02:37.277Z"
   },
   {
    "duration": 9,
    "start_time": "2022-10-19T13:02:37.350Z"
   },
   {
    "duration": 14,
    "start_time": "2022-10-19T13:02:37.360Z"
   },
   {
    "duration": 10,
    "start_time": "2022-10-19T13:02:37.377Z"
   },
   {
    "duration": 34,
    "start_time": "2022-10-19T13:02:37.389Z"
   },
   {
    "duration": 9,
    "start_time": "2022-10-19T13:02:37.425Z"
   },
   {
    "duration": 24,
    "start_time": "2022-10-19T13:02:37.435Z"
   },
   {
    "duration": 5,
    "start_time": "2022-10-19T13:02:37.461Z"
   },
   {
    "duration": 56,
    "start_time": "2022-10-19T13:02:37.468Z"
   },
   {
    "duration": 11,
    "start_time": "2022-10-19T13:02:37.525Z"
   },
   {
    "duration": 642,
    "start_time": "2022-10-19T13:02:37.537Z"
   },
   {
    "duration": 6,
    "start_time": "2022-10-19T13:02:38.181Z"
   },
   {
    "duration": 24,
    "start_time": "2022-10-19T13:02:38.188Z"
   },
   {
    "duration": 628,
    "start_time": "2022-10-19T13:02:38.214Z"
   },
   {
    "duration": 4,
    "start_time": "2022-10-19T13:02:38.844Z"
   },
   {
    "duration": 632,
    "start_time": "2022-10-19T13:02:38.849Z"
   },
   {
    "duration": 6,
    "start_time": "2022-10-19T13:02:39.483Z"
   },
   {
    "duration": 28,
    "start_time": "2022-10-19T13:02:39.490Z"
   },
   {
    "duration": 11,
    "start_time": "2022-10-19T13:02:39.520Z"
   },
   {
    "duration": 22,
    "start_time": "2022-10-19T13:02:39.533Z"
   },
   {
    "duration": 21,
    "start_time": "2022-10-19T13:02:39.556Z"
   },
   {
    "duration": 47,
    "start_time": "2022-10-19T13:22:35.967Z"
   },
   {
    "duration": 201,
    "start_time": "2022-10-19T13:22:48.667Z"
   },
   {
    "duration": 224,
    "start_time": "2022-10-19T13:23:29.614Z"
   },
   {
    "duration": 11,
    "start_time": "2022-10-19T13:24:12.544Z"
   },
   {
    "duration": 11,
    "start_time": "2022-10-19T13:24:19.128Z"
   },
   {
    "duration": 165,
    "start_time": "2022-10-19T13:28:36.114Z"
   },
   {
    "duration": 281,
    "start_time": "2022-10-19T13:28:52.575Z"
   },
   {
    "duration": 171,
    "start_time": "2022-10-19T13:29:07.316Z"
   },
   {
    "duration": 206,
    "start_time": "2022-10-19T13:29:41.285Z"
   },
   {
    "duration": 241,
    "start_time": "2022-10-19T13:29:51.584Z"
   },
   {
    "duration": 212,
    "start_time": "2022-10-19T13:30:02.759Z"
   },
   {
    "duration": 195,
    "start_time": "2022-10-19T13:30:29.775Z"
   },
   {
    "duration": 198,
    "start_time": "2022-10-19T13:30:40.274Z"
   },
   {
    "duration": 10,
    "start_time": "2022-10-19T13:42:51.643Z"
   },
   {
    "duration": 6,
    "start_time": "2022-10-19T13:44:00.769Z"
   },
   {
    "duration": 9,
    "start_time": "2022-10-19T13:45:13.181Z"
   },
   {
    "duration": 7,
    "start_time": "2022-10-19T13:46:00.082Z"
   },
   {
    "duration": 969,
    "start_time": "2022-10-19T14:00:12.130Z"
   },
   {
    "duration": 378,
    "start_time": "2022-10-19T14:00:13.101Z"
   },
   {
    "duration": 13,
    "start_time": "2022-10-19T14:00:13.480Z"
   },
   {
    "duration": 38,
    "start_time": "2022-10-19T14:00:13.494Z"
   },
   {
    "duration": 8,
    "start_time": "2022-10-19T14:00:13.534Z"
   },
   {
    "duration": 24,
    "start_time": "2022-10-19T14:00:13.544Z"
   },
   {
    "duration": 7,
    "start_time": "2022-10-19T14:00:13.569Z"
   },
   {
    "duration": 24,
    "start_time": "2022-10-19T14:00:13.577Z"
   },
   {
    "duration": 7,
    "start_time": "2022-10-19T14:00:13.603Z"
   },
   {
    "duration": 11,
    "start_time": "2022-10-19T14:00:13.612Z"
   },
   {
    "duration": 11,
    "start_time": "2022-10-19T14:00:13.624Z"
   },
   {
    "duration": 42,
    "start_time": "2022-10-19T14:00:13.637Z"
   },
   {
    "duration": 219,
    "start_time": "2022-10-19T14:00:13.681Z"
   },
   {
    "duration": 11,
    "start_time": "2022-10-19T14:00:13.903Z"
   },
   {
    "duration": 60,
    "start_time": "2022-10-19T14:00:13.915Z"
   },
   {
    "duration": 111,
    "start_time": "2022-10-19T14:00:13.976Z"
   },
   {
    "duration": 4,
    "start_time": "2022-10-19T14:00:14.089Z"
   },
   {
    "duration": 23,
    "start_time": "2022-10-19T14:00:14.101Z"
   },
   {
    "duration": 1779,
    "start_time": "2022-10-19T14:00:14.125Z"
   },
   {
    "duration": 28,
    "start_time": "2022-10-19T14:00:15.906Z"
   },
   {
    "duration": 3,
    "start_time": "2022-10-19T14:00:15.936Z"
   },
   {
    "duration": 46,
    "start_time": "2022-10-19T14:00:15.941Z"
   },
   {
    "duration": 37,
    "start_time": "2022-10-19T14:00:15.989Z"
   },
   {
    "duration": 34,
    "start_time": "2022-10-19T14:00:16.027Z"
   },
   {
    "duration": 14,
    "start_time": "2022-10-19T14:00:16.063Z"
   },
   {
    "duration": 42,
    "start_time": "2022-10-19T14:00:16.079Z"
   },
   {
    "duration": 24,
    "start_time": "2022-10-19T14:00:16.123Z"
   },
   {
    "duration": 12,
    "start_time": "2022-10-19T14:00:16.149Z"
   },
   {
    "duration": 43,
    "start_time": "2022-10-19T14:00:16.162Z"
   },
   {
    "duration": 48,
    "start_time": "2022-10-19T14:00:16.206Z"
   },
   {
    "duration": 31,
    "start_time": "2022-10-19T14:00:16.256Z"
   },
   {
    "duration": 42,
    "start_time": "2022-10-19T14:00:16.289Z"
   },
   {
    "duration": 23,
    "start_time": "2022-10-19T14:00:16.332Z"
   },
   {
    "duration": 45,
    "start_time": "2022-10-19T14:00:16.356Z"
   },
   {
    "duration": 17,
    "start_time": "2022-10-19T14:00:16.402Z"
   },
   {
    "duration": 35,
    "start_time": "2022-10-19T14:00:16.421Z"
   },
   {
    "duration": 107,
    "start_time": "2022-10-19T14:00:16.457Z"
   },
   {
    "duration": 10,
    "start_time": "2022-10-19T14:00:16.566Z"
   },
   {
    "duration": 28,
    "start_time": "2022-10-19T14:00:16.577Z"
   },
   {
    "duration": 55,
    "start_time": "2022-10-19T14:00:16.606Z"
   },
   {
    "duration": 64,
    "start_time": "2022-10-19T14:00:16.665Z"
   },
   {
    "duration": 28,
    "start_time": "2022-10-19T14:00:16.731Z"
   },
   {
    "duration": 32,
    "start_time": "2022-10-19T14:00:16.761Z"
   },
   {
    "duration": 29,
    "start_time": "2022-10-19T14:00:16.794Z"
   },
   {
    "duration": 50,
    "start_time": "2022-10-19T14:00:16.824Z"
   },
   {
    "duration": 12,
    "start_time": "2022-10-19T14:00:16.876Z"
   },
   {
    "duration": 647,
    "start_time": "2022-10-19T14:00:16.889Z"
   },
   {
    "duration": 5,
    "start_time": "2022-10-19T14:00:17.538Z"
   },
   {
    "duration": 33,
    "start_time": "2022-10-19T14:00:17.544Z"
   },
   {
    "duration": 601,
    "start_time": "2022-10-19T14:00:17.578Z"
   },
   {
    "duration": 6,
    "start_time": "2022-10-19T14:00:18.180Z"
   },
   {
    "duration": 604,
    "start_time": "2022-10-19T14:00:18.187Z"
   },
   {
    "duration": 9,
    "start_time": "2022-10-19T14:00:18.793Z"
   },
   {
    "duration": 97,
    "start_time": "2022-10-19T14:00:18.803Z"
   },
   {
    "duration": 26,
    "start_time": "2022-10-19T14:00:18.902Z"
   },
   {
    "duration": 59,
    "start_time": "2022-10-19T14:00:18.929Z"
   },
   {
    "duration": 45,
    "start_time": "2022-10-19T14:00:18.990Z"
   },
   {
    "duration": 201,
    "start_time": "2022-10-19T14:00:19.037Z"
   },
   {
    "duration": 7,
    "start_time": "2022-10-19T14:00:19.239Z"
   },
   {
    "duration": 46,
    "start_time": "2022-10-20T06:34:49.062Z"
   },
   {
    "duration": 0,
    "start_time": "2022-10-20T06:34:49.110Z"
   },
   {
    "duration": 0,
    "start_time": "2022-10-20T06:34:49.111Z"
   },
   {
    "duration": 0,
    "start_time": "2022-10-20T06:34:49.112Z"
   },
   {
    "duration": 0,
    "start_time": "2022-10-20T06:34:49.113Z"
   },
   {
    "duration": 0,
    "start_time": "2022-10-20T06:34:49.114Z"
   },
   {
    "duration": 1373,
    "start_time": "2022-10-20T06:35:31.391Z"
   },
   {
    "duration": 1438,
    "start_time": "2022-10-20T06:35:32.767Z"
   },
   {
    "duration": 13,
    "start_time": "2022-10-20T06:35:34.207Z"
   },
   {
    "duration": 30,
    "start_time": "2022-10-20T06:35:34.221Z"
   },
   {
    "duration": 9,
    "start_time": "2022-10-20T06:35:34.253Z"
   },
   {
    "duration": 27,
    "start_time": "2022-10-20T06:35:34.263Z"
   },
   {
    "duration": 7,
    "start_time": "2022-10-20T06:35:34.291Z"
   },
   {
    "duration": 22,
    "start_time": "2022-10-20T06:35:34.300Z"
   },
   {
    "duration": 7,
    "start_time": "2022-10-20T06:35:34.324Z"
   },
   {
    "duration": 13,
    "start_time": "2022-10-20T06:35:34.333Z"
   },
   {
    "duration": 12,
    "start_time": "2022-10-20T06:35:34.348Z"
   },
   {
    "duration": 36,
    "start_time": "2022-10-20T06:35:34.362Z"
   },
   {
    "duration": 252,
    "start_time": "2022-10-20T06:35:34.400Z"
   },
   {
    "duration": 13,
    "start_time": "2022-10-20T06:35:34.655Z"
   },
   {
    "duration": 76,
    "start_time": "2022-10-20T06:35:34.670Z"
   },
   {
    "duration": 115,
    "start_time": "2022-10-20T06:35:34.747Z"
   },
   {
    "duration": 3,
    "start_time": "2022-10-20T06:35:34.864Z"
   },
   {
    "duration": 33,
    "start_time": "2022-10-20T06:35:34.869Z"
   },
   {
    "duration": 1825,
    "start_time": "2022-10-20T06:35:34.903Z"
   },
   {
    "duration": 26,
    "start_time": "2022-10-20T06:35:36.730Z"
   },
   {
    "duration": 4,
    "start_time": "2022-10-20T06:35:36.758Z"
   },
   {
    "duration": 31,
    "start_time": "2022-10-20T06:35:36.763Z"
   },
   {
    "duration": 15,
    "start_time": "2022-10-20T06:35:36.796Z"
   },
   {
    "duration": 23,
    "start_time": "2022-10-20T06:35:36.813Z"
   },
   {
    "duration": 12,
    "start_time": "2022-10-20T06:35:36.837Z"
   },
   {
    "duration": 42,
    "start_time": "2022-10-20T06:35:36.851Z"
   },
   {
    "duration": 19,
    "start_time": "2022-10-20T06:35:36.895Z"
   },
   {
    "duration": 2,
    "start_time": "2022-10-20T06:35:36.916Z"
   },
   {
    "duration": 29,
    "start_time": "2022-10-20T06:35:36.919Z"
   },
   {
    "duration": 40,
    "start_time": "2022-10-20T06:35:36.949Z"
   },
   {
    "duration": 19,
    "start_time": "2022-10-20T06:35:36.991Z"
   },
   {
    "duration": 27,
    "start_time": "2022-10-20T06:35:37.011Z"
   },
   {
    "duration": 4,
    "start_time": "2022-10-20T06:35:37.039Z"
   },
   {
    "duration": 46,
    "start_time": "2022-10-20T06:35:37.045Z"
   },
   {
    "duration": 6,
    "start_time": "2022-10-20T06:35:37.093Z"
   },
   {
    "duration": 6,
    "start_time": "2022-10-20T06:35:37.101Z"
   },
   {
    "duration": 93,
    "start_time": "2022-10-20T06:35:37.108Z"
   },
   {
    "duration": 11,
    "start_time": "2022-10-20T06:35:37.203Z"
   },
   {
    "duration": 12,
    "start_time": "2022-10-20T06:35:37.215Z"
   },
   {
    "duration": 18,
    "start_time": "2022-10-20T06:35:37.229Z"
   },
   {
    "duration": 42,
    "start_time": "2022-10-20T06:35:37.251Z"
   },
   {
    "duration": 11,
    "start_time": "2022-10-20T06:35:37.294Z"
   },
   {
    "duration": 16,
    "start_time": "2022-10-20T06:35:37.306Z"
   },
   {
    "duration": 5,
    "start_time": "2022-10-20T06:35:37.324Z"
   },
   {
    "duration": 70,
    "start_time": "2022-10-20T06:35:37.331Z"
   },
   {
    "duration": 12,
    "start_time": "2022-10-20T06:35:37.403Z"
   },
   {
    "duration": 744,
    "start_time": "2022-10-20T06:35:37.417Z"
   },
   {
    "duration": 5,
    "start_time": "2022-10-20T06:35:38.162Z"
   },
   {
    "duration": 12,
    "start_time": "2022-10-20T06:35:38.169Z"
   },
   {
    "duration": 723,
    "start_time": "2022-10-20T06:35:38.182Z"
   },
   {
    "duration": 6,
    "start_time": "2022-10-20T06:35:38.907Z"
   },
   {
    "duration": 721,
    "start_time": "2022-10-20T06:35:38.915Z"
   },
   {
    "duration": 5,
    "start_time": "2022-10-20T06:35:39.638Z"
   },
   {
    "duration": 20,
    "start_time": "2022-10-20T06:35:39.645Z"
   },
   {
    "duration": 22,
    "start_time": "2022-10-20T06:35:39.667Z"
   },
   {
    "duration": 27,
    "start_time": "2022-10-20T06:35:39.690Z"
   },
   {
    "duration": 22,
    "start_time": "2022-10-20T06:35:39.719Z"
   },
   {
    "duration": 230,
    "start_time": "2022-10-20T06:35:39.742Z"
   },
   {
    "duration": 16,
    "start_time": "2022-10-20T06:35:39.974Z"
   },
   {
    "duration": 1052,
    "start_time": "2022-10-20T06:45:20.141Z"
   },
   {
    "duration": 488,
    "start_time": "2022-10-20T06:45:21.196Z"
   },
   {
    "duration": 14,
    "start_time": "2022-10-20T06:45:21.686Z"
   },
   {
    "duration": 29,
    "start_time": "2022-10-20T06:45:21.702Z"
   },
   {
    "duration": 9,
    "start_time": "2022-10-20T06:45:21.733Z"
   },
   {
    "duration": 58,
    "start_time": "2022-10-20T06:45:21.744Z"
   },
   {
    "duration": 12,
    "start_time": "2022-10-20T06:45:21.805Z"
   },
   {
    "duration": 55,
    "start_time": "2022-10-20T06:45:21.820Z"
   },
   {
    "duration": 31,
    "start_time": "2022-10-20T06:45:21.877Z"
   },
   {
    "duration": 39,
    "start_time": "2022-10-20T06:45:21.910Z"
   },
   {
    "duration": 24,
    "start_time": "2022-10-20T06:45:21.952Z"
   },
   {
    "duration": 48,
    "start_time": "2022-10-20T06:45:21.978Z"
   },
   {
    "duration": 278,
    "start_time": "2022-10-20T06:45:22.029Z"
   },
   {
    "duration": 13,
    "start_time": "2022-10-20T06:45:22.310Z"
   },
   {
    "duration": 87,
    "start_time": "2022-10-20T06:45:22.325Z"
   },
   {
    "duration": 111,
    "start_time": "2022-10-20T06:45:22.413Z"
   },
   {
    "duration": 4,
    "start_time": "2022-10-20T06:45:22.525Z"
   },
   {
    "duration": 49,
    "start_time": "2022-10-20T06:45:22.531Z"
   },
   {
    "duration": 1882,
    "start_time": "2022-10-20T06:45:22.582Z"
   },
   {
    "duration": 33,
    "start_time": "2022-10-20T06:45:24.466Z"
   },
   {
    "duration": 3,
    "start_time": "2022-10-20T06:45:24.501Z"
   },
   {
    "duration": 25,
    "start_time": "2022-10-20T06:45:24.506Z"
   },
   {
    "duration": 17,
    "start_time": "2022-10-20T06:45:24.533Z"
   },
   {
    "duration": 47,
    "start_time": "2022-10-20T06:45:24.552Z"
   },
   {
    "duration": 14,
    "start_time": "2022-10-20T06:45:24.600Z"
   },
   {
    "duration": 18,
    "start_time": "2022-10-20T06:45:24.616Z"
   },
   {
    "duration": 21,
    "start_time": "2022-10-20T06:45:24.635Z"
   },
   {
    "duration": 2,
    "start_time": "2022-10-20T06:45:24.658Z"
   },
   {
    "duration": 27,
    "start_time": "2022-10-20T06:45:24.688Z"
   },
   {
    "duration": 20,
    "start_time": "2022-10-20T06:45:24.717Z"
   },
   {
    "duration": 18,
    "start_time": "2022-10-20T06:45:24.739Z"
   },
   {
    "duration": 56,
    "start_time": "2022-10-20T06:45:24.759Z"
   },
   {
    "duration": 4,
    "start_time": "2022-10-20T06:45:24.816Z"
   },
   {
    "duration": 19,
    "start_time": "2022-10-20T06:45:24.821Z"
   },
   {
    "duration": 7,
    "start_time": "2022-10-20T06:45:24.842Z"
   },
   {
    "duration": 9,
    "start_time": "2022-10-20T06:45:24.851Z"
   },
   {
    "duration": 103,
    "start_time": "2022-10-20T06:45:24.861Z"
   },
   {
    "duration": 11,
    "start_time": "2022-10-20T06:45:24.966Z"
   },
   {
    "duration": 21,
    "start_time": "2022-10-20T06:45:24.978Z"
   },
   {
    "duration": 16,
    "start_time": "2022-10-20T06:45:25.001Z"
   },
   {
    "duration": 33,
    "start_time": "2022-10-20T06:45:25.021Z"
   },
   {
    "duration": 33,
    "start_time": "2022-10-20T06:45:25.056Z"
   },
   {
    "duration": 19,
    "start_time": "2022-10-20T06:45:25.091Z"
   },
   {
    "duration": 5,
    "start_time": "2022-10-20T06:45:25.112Z"
   },
   {
    "duration": 46,
    "start_time": "2022-10-20T06:45:25.119Z"
   },
   {
    "duration": 30,
    "start_time": "2022-10-20T06:45:25.167Z"
   },
   {
    "duration": 735,
    "start_time": "2022-10-20T06:45:25.198Z"
   },
   {
    "duration": 5,
    "start_time": "2022-10-20T06:45:25.935Z"
   },
   {
    "duration": 17,
    "start_time": "2022-10-20T06:45:25.942Z"
   },
   {
    "duration": 722,
    "start_time": "2022-10-20T06:45:25.961Z"
   },
   {
    "duration": 8,
    "start_time": "2022-10-20T06:45:26.684Z"
   },
   {
    "duration": 718,
    "start_time": "2022-10-20T06:45:26.694Z"
   },
   {
    "duration": 7,
    "start_time": "2022-10-20T06:45:27.414Z"
   },
   {
    "duration": 25,
    "start_time": "2022-10-20T06:45:27.422Z"
   },
   {
    "duration": 9,
    "start_time": "2022-10-20T06:45:27.449Z"
   },
   {
    "duration": 46,
    "start_time": "2022-10-20T06:45:27.460Z"
   },
   {
    "duration": 24,
    "start_time": "2022-10-20T06:45:27.508Z"
   },
   {
    "duration": 253,
    "start_time": "2022-10-20T06:45:27.534Z"
   },
   {
    "duration": 9,
    "start_time": "2022-10-20T06:45:27.789Z"
   }
  ],
  "kernelspec": {
   "display_name": "Python 3 (ipykernel)",
   "language": "python",
   "name": "python3"
  },
  "language_info": {
   "codemirror_mode": {
    "name": "ipython",
    "version": 3
   },
   "file_extension": ".py",
   "mimetype": "text/x-python",
   "name": "python",
   "nbconvert_exporter": "python",
   "pygments_lexer": "ipython3",
   "version": "3.9.5"
  },
  "toc": {
   "base_numbering": 1,
   "nav_menu": {},
   "number_sections": true,
   "sideBar": true,
   "skip_h1_title": true,
   "title_cell": "Table of Contents",
   "title_sidebar": "Contents",
   "toc_cell": false,
   "toc_position": {},
   "toc_section_display": true,
   "toc_window_display": false
  }
 },
 "nbformat": 4,
 "nbformat_minor": 2
}
