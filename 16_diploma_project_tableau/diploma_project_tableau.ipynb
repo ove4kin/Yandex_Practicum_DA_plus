{
 "cells": [
  {
   "cell_type": "code",
   "execution_count": 1,
   "metadata": {},
   "outputs": [],
   "source": [
    "import pandas as pd\n",
    "path = \"https://drive.google.com/uc?export=download&id=1-U61mhTz_N1ARjy2XSAZ7IlQqGjeqP0F\"\n",
    "df = pd.read_csv(path)"
   ]
  },
  {
   "cell_type": "code",
   "execution_count": 2,
   "metadata": {},
   "outputs": [],
   "source": [
    "# Избавимся от грубого дубликата\n",
    "df = df.drop_duplicates().reset_index(drop=True)\n"
   ]
  },
  {
   "cell_type": "code",
   "execution_count": 3,
   "metadata": {},
   "outputs": [],
   "source": [
    "df.to_csv('bank_dataset.csv')"
   ]
  },
  {
   "cell_type": "markdown",
   "metadata": {},
   "source": [
    "Задание выполнено по набору №1:\n",
    " - Постройте диаграмму, отражающую количество клиентов в зависимости от числа используемых продуктов.\n",
    " - Добавьте индикатор процента ушедших клиентов.\n",
    " - Добавьте фильтр дашборда по городу."
   ]
  },
  {
   "cell_type": "markdown",
   "metadata": {},
   "source": [
    "Ссылка на дашборд: https://public.tableau.com/app/profile/dmitriy.ovechkin/viz/Diploma_Bank_Dashboard2/Dashboard1?publish=yes"
   ]
  }
 ],
 "metadata": {
  "ExecuteTimeLog": [
   {
    "duration": 1230,
    "start_time": "2023-01-18T10:48:37.609Z"
   },
   {
    "duration": 159,
    "start_time": "2023-01-18T10:48:57.418Z"
   },
   {
    "duration": 1613,
    "start_time": "2023-01-18T12:32:20.734Z"
   },
   {
    "duration": 16,
    "start_time": "2023-01-18T12:32:22.351Z"
   },
   {
    "duration": 129,
    "start_time": "2023-01-18T12:32:22.368Z"
   },
   {
    "duration": 76,
    "start_time": "2023-01-19T12:51:29.651Z"
   }
  ],
  "kernelspec": {
   "display_name": "Python 3 (ipykernel)",
   "language": "python",
   "name": "python3"
  },
  "language_info": {
   "codemirror_mode": {
    "name": "ipython",
    "version": 3
   },
   "file_extension": ".py",
   "mimetype": "text/x-python",
   "name": "python",
   "nbconvert_exporter": "python",
   "pygments_lexer": "ipython3",
   "version": "3.9.5"
  },
  "toc": {
   "base_numbering": 1,
   "nav_menu": {},
   "number_sections": true,
   "sideBar": true,
   "skip_h1_title": true,
   "title_cell": "Table of Contents",
   "title_sidebar": "Contents",
   "toc_cell": false,
   "toc_position": {},
   "toc_section_display": true,
   "toc_window_display": false
  }
 },
 "nbformat": 4,
 "nbformat_minor": 2
}
