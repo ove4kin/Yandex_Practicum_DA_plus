{
 "cells": [
  {
   "cell_type": "code",
   "execution_count": 1,
   "id": "790630f3",
   "metadata": {},
   "outputs": [
    {
     "name": "stdout",
     "output_type": "stream",
     "text": [
      "Requirement already satisfied: psycopg2-binary in /opt/conda/lib/python3.9/site-packages (2.9.2)\r\n"
     ]
    }
   ],
   "source": [
    "import warnings\n",
    "warnings.filterwarnings('ignore')\n",
    "\n",
    "! pip3 install psycopg2-binary"
   ]
  },
  {
   "cell_type": "code",
   "execution_count": 2,
   "id": "4628be8a",
   "metadata": {},
   "outputs": [],
   "source": [
    "# Импортируем необходимые библиотеки\n",
    "\n",
    "import pandas as pd\n",
    "from sqlalchemy import create_engine"
   ]
  },
  {
   "cell_type": "code",
   "execution_count": 3,
   "id": "c5fe5854",
   "metadata": {},
   "outputs": [],
   "source": [
    "# Создадим подключение\n",
    "\n",
    "path_to_db = '/datasets/telecomm_csi.db' # путь к файлу\n",
    "engine = create_engine(f'sqlite:///{path_to_db}', echo = False)"
   ]
  },
  {
   "cell_type": "code",
   "execution_count": 4,
   "id": "e0213b43",
   "metadata": {},
   "outputs": [],
   "source": [
    "# Подготовим предобрабатывающие SQL-запросы и далее посмотрим на вид получившихся таблиц.\n",
    "# Использовать Python в решении не будем\n",
    "\n",
    "\n",
    "query = '''        \n",
    "        SELECT user_id, lt_day, CAST(age AS INT) as age, CAST(gender_segment AS INT) AS gender_segment, \n",
    "        CASE\n",
    "            WHEN os_name = 'IOS' THEN os_name\n",
    "            WHEN os_name = 'ANDROID' THEN 'Android'\n",
    "            WHEN os_name = 'PROPRIETARY' THEN 'Proprietary'\n",
    "            WHEN os_name = 'OTHER' OR os_name = 'unknown' THEN 'Other'\n",
    "            WHEN os_name = 'WINDOWS PHONE' OR os_name = 'WINDOWS MOBILE' THEN 'Windows Phone'\n",
    "            WHEN os_name = 'SYMBIAN OS' THEN 'Symbian OS'\n",
    "            WHEN os_name = 'BADA OS' THEN 'Bada OS'\n",
    "            ELSE os_name END as os_name,\n",
    "        CASE\n",
    "            WHEN cpe_type_name = 'SMARTPHONE' THEN 'Smartphone'\n",
    "            WHEN cpe_type_name = 'TABLET' THEN 'Tablet'\n",
    "            WHEN cpe_type_name = 'PHONE' OR cpe_type_name = 'MOBILE PHONE/FEATURE PHONE' THEN 'Feature Phone'\n",
    "            WHEN cpe_type_name IN ('ROUTER', 'WLAN ROUTER', 'MIFI ROUTER') THEN 'Router'\n",
    "            WHEN cpe_type_name IN ('USB MODEM', 'MODEM') THEN 'Modem'\n",
    "            ELSE 'Other' END AS cpe_type_name,\n",
    "        location_id, age_gr_id, tr_gr_id, lt_gr_id, nps_score\n",
    "        FROM user\n",
    "        WHERE age IS NOT NULL OR gender_segment IS NOT NULL;\n",
    "        '''\n",
    "\n",
    "user = pd.read_sql(query, engine) \n",
    "\n",
    "\n",
    "\n",
    "\n",
    "\n",
    "query = '''\n",
    "        SELECT location_id, \n",
    "        CASE\n",
    "            WHEN city = 'СанктПетербург' THEN 'Санкт-Петербург'\n",
    "            WHEN city = 'НижнийНовгород' THEN 'Нижний Новгород'\n",
    "            WHEN city = 'РостовнаДону' THEN 'Ростов-на-Дону'\n",
    "            WHEN city = 'НабережныеЧелны' THEN 'Набережные Челны'\n",
    "            WHEN city = 'УланУдэ' THEN 'Улан-Удэ'\n",
    "            WHEN city = 'НижнийТагил' THEN 'Нижний Тагил'\n",
    "            ELSE city END AS city,\n",
    "        country\n",
    "        FROM location\n",
    "        \n",
    "        '''\n",
    "\n",
    "location = pd.read_sql(query, engine)\n",
    "\n",
    "\n",
    "\n",
    "\n",
    "query = '''\n",
    "        SELECT age_gr_id, \n",
    "               CASE \n",
    "                   WHEN bucket_max = 15.0 THEN 0\n",
    "                   ELSE CAST(bucket_min AS INT) END AS bucket_min,\n",
    "               CASE\n",
    "                   WHEN bucket_min = 66.0 THEN 150\n",
    "                   ELSE CAST(bucket_max AS INT) END AS bucket_max,\n",
    "               TRIM(SUBSTRING(title, 4, 5)) AS title\n",
    "        FROM age_segment\n",
    "        WHERE bucket_min IS NOT NULL\n",
    "        \n",
    "        '''\n",
    "\n",
    "age_segment = pd.read_sql(query, engine)\n",
    "\n",
    "\n",
    "\n",
    "query = '''\n",
    "        SELECT tr_gr_id, bucket_min, \n",
    "        CASE\n",
    "            WHEN bucket_min = 100.0 THEN 1000.0\n",
    "            ELSE bucket_max END AS bucket_max,\n",
    "        TRIM(SUBSTRING(title, 4, 8)) AS title\n",
    "        FROM traffic_segment\n",
    "        '''\n",
    "\n",
    "traffic_segment = pd.read_sql(query, engine)\n",
    "\n",
    "\n",
    "\n",
    "query = '''\n",
    "        SELECT lt_gr_id, CAST(bucket_min AS INT) AS bucket_min,\n",
    "        CASE\n",
    "            WHEN bucket_min = 36.00 THEN 100\n",
    "            ELSE CAST(bucket_max AS INT) END AS bucket_max,\n",
    "        TRIM(SUBSTRING(title, 4, 5)) AS title\n",
    "        FROM lifetime_segment\n",
    "        '''\n",
    "\n",
    "lifetime_segment = pd.read_sql(query, engine)"
   ]
  },
  {
   "cell_type": "markdown",
   "id": "f202e9e5",
   "metadata": {},
   "source": [
    "Далее использование Python происходит исключительно в обзорных целях и оно не принимает участия в решении, что и соответствует условию задачи."
   ]
  },
  {
   "cell_type": "code",
   "execution_count": 5,
   "id": "05714524",
   "metadata": {},
   "outputs": [
    {
     "data": {
      "text/html": [
       "<div>\n",
       "<style scoped>\n",
       "    .dataframe tbody tr th:only-of-type {\n",
       "        vertical-align: middle;\n",
       "    }\n",
       "\n",
       "    .dataframe tbody tr th {\n",
       "        vertical-align: top;\n",
       "    }\n",
       "\n",
       "    .dataframe thead th {\n",
       "        text-align: right;\n",
       "    }\n",
       "</style>\n",
       "<table border=\"1\" class=\"dataframe\">\n",
       "  <thead>\n",
       "    <tr style=\"text-align: right;\">\n",
       "      <th></th>\n",
       "      <th>user_id</th>\n",
       "      <th>lt_day</th>\n",
       "      <th>age</th>\n",
       "      <th>gender_segment</th>\n",
       "      <th>os_name</th>\n",
       "      <th>cpe_type_name</th>\n",
       "      <th>location_id</th>\n",
       "      <th>age_gr_id</th>\n",
       "      <th>tr_gr_id</th>\n",
       "      <th>lt_gr_id</th>\n",
       "      <th>nps_score</th>\n",
       "    </tr>\n",
       "  </thead>\n",
       "  <tbody>\n",
       "    <tr>\n",
       "      <th>0</th>\n",
       "      <td>A001A2</td>\n",
       "      <td>2320</td>\n",
       "      <td>45.0</td>\n",
       "      <td>1.0</td>\n",
       "      <td>Android</td>\n",
       "      <td>Smartphone</td>\n",
       "      <td>55</td>\n",
       "      <td>5</td>\n",
       "      <td>5</td>\n",
       "      <td>8</td>\n",
       "      <td>10</td>\n",
       "    </tr>\n",
       "    <tr>\n",
       "      <th>1</th>\n",
       "      <td>A001WF</td>\n",
       "      <td>2344</td>\n",
       "      <td>53.0</td>\n",
       "      <td>0.0</td>\n",
       "      <td>Android</td>\n",
       "      <td>Smartphone</td>\n",
       "      <td>21</td>\n",
       "      <td>5</td>\n",
       "      <td>5</td>\n",
       "      <td>8</td>\n",
       "      <td>10</td>\n",
       "    </tr>\n",
       "    <tr>\n",
       "      <th>2</th>\n",
       "      <td>A003Q7</td>\n",
       "      <td>467</td>\n",
       "      <td>57.0</td>\n",
       "      <td>0.0</td>\n",
       "      <td>Android</td>\n",
       "      <td>Smartphone</td>\n",
       "      <td>28</td>\n",
       "      <td>6</td>\n",
       "      <td>9</td>\n",
       "      <td>6</td>\n",
       "      <td>10</td>\n",
       "    </tr>\n",
       "    <tr>\n",
       "      <th>3</th>\n",
       "      <td>A004TB</td>\n",
       "      <td>4190</td>\n",
       "      <td>44.0</td>\n",
       "      <td>1.0</td>\n",
       "      <td>IOS</td>\n",
       "      <td>Smartphone</td>\n",
       "      <td>38</td>\n",
       "      <td>4</td>\n",
       "      <td>4</td>\n",
       "      <td>8</td>\n",
       "      <td>10</td>\n",
       "    </tr>\n",
       "    <tr>\n",
       "      <th>4</th>\n",
       "      <td>A004XT</td>\n",
       "      <td>1163</td>\n",
       "      <td>24.0</td>\n",
       "      <td>0.0</td>\n",
       "      <td>Android</td>\n",
       "      <td>Smartphone</td>\n",
       "      <td>39</td>\n",
       "      <td>2</td>\n",
       "      <td>6</td>\n",
       "      <td>8</td>\n",
       "      <td>10</td>\n",
       "    </tr>\n",
       "    <tr>\n",
       "      <th>5</th>\n",
       "      <td>A005O0</td>\n",
       "      <td>5501</td>\n",
       "      <td>42.0</td>\n",
       "      <td>1.0</td>\n",
       "      <td>Android</td>\n",
       "      <td>Smartphone</td>\n",
       "      <td>34</td>\n",
       "      <td>4</td>\n",
       "      <td>6</td>\n",
       "      <td>8</td>\n",
       "      <td>6</td>\n",
       "    </tr>\n",
       "    <tr>\n",
       "      <th>6</th>\n",
       "      <td>A0061R</td>\n",
       "      <td>1236</td>\n",
       "      <td>45.0</td>\n",
       "      <td>0.0</td>\n",
       "      <td>Android</td>\n",
       "      <td>Smartphone</td>\n",
       "      <td>55</td>\n",
       "      <td>5</td>\n",
       "      <td>7</td>\n",
       "      <td>8</td>\n",
       "      <td>10</td>\n",
       "    </tr>\n",
       "    <tr>\n",
       "      <th>7</th>\n",
       "      <td>A009KS</td>\n",
       "      <td>313</td>\n",
       "      <td>35.0</td>\n",
       "      <td>0.0</td>\n",
       "      <td>Android</td>\n",
       "      <td>Smartphone</td>\n",
       "      <td>28</td>\n",
       "      <td>4</td>\n",
       "      <td>14</td>\n",
       "      <td>5</td>\n",
       "      <td>10</td>\n",
       "    </tr>\n",
       "    <tr>\n",
       "      <th>8</th>\n",
       "      <td>A00AES</td>\n",
       "      <td>3238</td>\n",
       "      <td>36.0</td>\n",
       "      <td>1.0</td>\n",
       "      <td>Android</td>\n",
       "      <td>Smartphone</td>\n",
       "      <td>41</td>\n",
       "      <td>4</td>\n",
       "      <td>5</td>\n",
       "      <td>8</td>\n",
       "      <td>10</td>\n",
       "    </tr>\n",
       "    <tr>\n",
       "      <th>9</th>\n",
       "      <td>A00F70</td>\n",
       "      <td>4479</td>\n",
       "      <td>54.0</td>\n",
       "      <td>1.0</td>\n",
       "      <td>Android</td>\n",
       "      <td>Smartphone</td>\n",
       "      <td>9</td>\n",
       "      <td>5</td>\n",
       "      <td>8</td>\n",
       "      <td>8</td>\n",
       "      <td>9</td>\n",
       "    </tr>\n",
       "  </tbody>\n",
       "</table>\n",
       "</div>"
      ],
      "text/plain": [
       "  user_id  lt_day   age  gender_segment  os_name cpe_type_name  location_id  \\\n",
       "0  A001A2    2320  45.0             1.0  Android    Smartphone           55   \n",
       "1  A001WF    2344  53.0             0.0  Android    Smartphone           21   \n",
       "2  A003Q7     467  57.0             0.0  Android    Smartphone           28   \n",
       "3  A004TB    4190  44.0             1.0      IOS    Smartphone           38   \n",
       "4  A004XT    1163  24.0             0.0  Android    Smartphone           39   \n",
       "5  A005O0    5501  42.0             1.0  Android    Smartphone           34   \n",
       "6  A0061R    1236  45.0             0.0  Android    Smartphone           55   \n",
       "7  A009KS     313  35.0             0.0  Android    Smartphone           28   \n",
       "8  A00AES    3238  36.0             1.0  Android    Smartphone           41   \n",
       "9  A00F70    4479  54.0             1.0  Android    Smartphone            9   \n",
       "\n",
       "   age_gr_id  tr_gr_id  lt_gr_id  nps_score  \n",
       "0          5         5         8         10  \n",
       "1          5         5         8         10  \n",
       "2          6         9         6         10  \n",
       "3          4         4         8         10  \n",
       "4          2         6         8         10  \n",
       "5          4         6         8          6  \n",
       "6          5         7         8         10  \n",
       "7          4        14         5         10  \n",
       "8          4         5         8         10  \n",
       "9          5         8         8          9  "
      ]
     },
     "execution_count": 5,
     "metadata": {},
     "output_type": "execute_result"
    }
   ],
   "source": [
    "user.head(10)"
   ]
  },
  {
   "cell_type": "code",
   "execution_count": 6,
   "id": "d1c15bb7",
   "metadata": {},
   "outputs": [
    {
     "data": {
      "text/html": [
       "<div>\n",
       "<style scoped>\n",
       "    .dataframe tbody tr th:only-of-type {\n",
       "        vertical-align: middle;\n",
       "    }\n",
       "\n",
       "    .dataframe tbody tr th {\n",
       "        vertical-align: top;\n",
       "    }\n",
       "\n",
       "    .dataframe thead th {\n",
       "        text-align: right;\n",
       "    }\n",
       "</style>\n",
       "<table border=\"1\" class=\"dataframe\">\n",
       "  <thead>\n",
       "    <tr style=\"text-align: right;\">\n",
       "      <th></th>\n",
       "      <th>location_id</th>\n",
       "      <th>city</th>\n",
       "      <th>country</th>\n",
       "    </tr>\n",
       "  </thead>\n",
       "  <tbody>\n",
       "    <tr>\n",
       "      <th>0</th>\n",
       "      <td>1</td>\n",
       "      <td>Архангельск</td>\n",
       "      <td>Россия</td>\n",
       "    </tr>\n",
       "    <tr>\n",
       "      <th>1</th>\n",
       "      <td>2</td>\n",
       "      <td>Астрахань</td>\n",
       "      <td>Россия</td>\n",
       "    </tr>\n",
       "    <tr>\n",
       "      <th>2</th>\n",
       "      <td>3</td>\n",
       "      <td>Балашиха</td>\n",
       "      <td>Россия</td>\n",
       "    </tr>\n",
       "    <tr>\n",
       "      <th>3</th>\n",
       "      <td>4</td>\n",
       "      <td>Барнаул</td>\n",
       "      <td>Россия</td>\n",
       "    </tr>\n",
       "    <tr>\n",
       "      <th>4</th>\n",
       "      <td>5</td>\n",
       "      <td>Белгород</td>\n",
       "      <td>Россия</td>\n",
       "    </tr>\n",
       "    <tr>\n",
       "      <th>5</th>\n",
       "      <td>6</td>\n",
       "      <td>Брянск</td>\n",
       "      <td>Россия</td>\n",
       "    </tr>\n",
       "    <tr>\n",
       "      <th>6</th>\n",
       "      <td>7</td>\n",
       "      <td>Владивосток</td>\n",
       "      <td>Россия</td>\n",
       "    </tr>\n",
       "    <tr>\n",
       "      <th>7</th>\n",
       "      <td>8</td>\n",
       "      <td>Владимир</td>\n",
       "      <td>Россия</td>\n",
       "    </tr>\n",
       "    <tr>\n",
       "      <th>8</th>\n",
       "      <td>9</td>\n",
       "      <td>Волгоград</td>\n",
       "      <td>Россия</td>\n",
       "    </tr>\n",
       "    <tr>\n",
       "      <th>9</th>\n",
       "      <td>10</td>\n",
       "      <td>Волжский</td>\n",
       "      <td>Россия</td>\n",
       "    </tr>\n",
       "  </tbody>\n",
       "</table>\n",
       "</div>"
      ],
      "text/plain": [
       "   location_id         city country\n",
       "0            1  Архангельск  Россия\n",
       "1            2    Астрахань  Россия\n",
       "2            3     Балашиха  Россия\n",
       "3            4      Барнаул  Россия\n",
       "4            5     Белгород  Россия\n",
       "5            6       Брянск  Россия\n",
       "6            7  Владивосток  Россия\n",
       "7            8     Владимир  Россия\n",
       "8            9    Волгоград  Россия\n",
       "9           10     Волжский  Россия"
      ]
     },
     "execution_count": 6,
     "metadata": {},
     "output_type": "execute_result"
    }
   ],
   "source": [
    "location.head(10)"
   ]
  },
  {
   "cell_type": "code",
   "execution_count": 7,
   "id": "341e5dea",
   "metadata": {},
   "outputs": [
    {
     "data": {
      "text/html": [
       "<div>\n",
       "<style scoped>\n",
       "    .dataframe tbody tr th:only-of-type {\n",
       "        vertical-align: middle;\n",
       "    }\n",
       "\n",
       "    .dataframe tbody tr th {\n",
       "        vertical-align: top;\n",
       "    }\n",
       "\n",
       "    .dataframe thead th {\n",
       "        text-align: right;\n",
       "    }\n",
       "</style>\n",
       "<table border=\"1\" class=\"dataframe\">\n",
       "  <thead>\n",
       "    <tr style=\"text-align: right;\">\n",
       "      <th></th>\n",
       "      <th>age_gr_id</th>\n",
       "      <th>bucket_min</th>\n",
       "      <th>bucket_max</th>\n",
       "      <th>title</th>\n",
       "    </tr>\n",
       "  </thead>\n",
       "  <tbody>\n",
       "    <tr>\n",
       "      <th>0</th>\n",
       "      <td>2</td>\n",
       "      <td>16</td>\n",
       "      <td>24</td>\n",
       "      <td>16-24</td>\n",
       "    </tr>\n",
       "    <tr>\n",
       "      <th>1</th>\n",
       "      <td>3</td>\n",
       "      <td>25</td>\n",
       "      <td>34</td>\n",
       "      <td>25-34</td>\n",
       "    </tr>\n",
       "    <tr>\n",
       "      <th>2</th>\n",
       "      <td>4</td>\n",
       "      <td>35</td>\n",
       "      <td>44</td>\n",
       "      <td>35-44</td>\n",
       "    </tr>\n",
       "    <tr>\n",
       "      <th>3</th>\n",
       "      <td>5</td>\n",
       "      <td>45</td>\n",
       "      <td>54</td>\n",
       "      <td>45-54</td>\n",
       "    </tr>\n",
       "    <tr>\n",
       "      <th>4</th>\n",
       "      <td>6</td>\n",
       "      <td>55</td>\n",
       "      <td>64</td>\n",
       "      <td>55-64</td>\n",
       "    </tr>\n",
       "    <tr>\n",
       "      <th>5</th>\n",
       "      <td>7</td>\n",
       "      <td>66</td>\n",
       "      <td>150</td>\n",
       "      <td>66 +</td>\n",
       "    </tr>\n",
       "  </tbody>\n",
       "</table>\n",
       "</div>"
      ],
      "text/plain": [
       "   age_gr_id  bucket_min  bucket_max  title\n",
       "0          2          16          24  16-24\n",
       "1          3          25          34  25-34\n",
       "2          4          35          44  35-44\n",
       "3          5          45          54  45-54\n",
       "4          6          55          64  55-64\n",
       "5          7          66         150   66 +"
      ]
     },
     "execution_count": 7,
     "metadata": {},
     "output_type": "execute_result"
    }
   ],
   "source": [
    "age_segment.head(10)"
   ]
  },
  {
   "cell_type": "code",
   "execution_count": 8,
   "id": "948d724e",
   "metadata": {},
   "outputs": [
    {
     "data": {
      "text/html": [
       "<div>\n",
       "<style scoped>\n",
       "    .dataframe tbody tr th:only-of-type {\n",
       "        vertical-align: middle;\n",
       "    }\n",
       "\n",
       "    .dataframe tbody tr th {\n",
       "        vertical-align: top;\n",
       "    }\n",
       "\n",
       "    .dataframe thead th {\n",
       "        text-align: right;\n",
       "    }\n",
       "</style>\n",
       "<table border=\"1\" class=\"dataframe\">\n",
       "  <thead>\n",
       "    <tr style=\"text-align: right;\">\n",
       "      <th></th>\n",
       "      <th>tr_gr_id</th>\n",
       "      <th>bucket_min</th>\n",
       "      <th>bucket_max</th>\n",
       "      <th>title</th>\n",
       "    </tr>\n",
       "  </thead>\n",
       "  <tbody>\n",
       "    <tr>\n",
       "      <th>0</th>\n",
       "      <td>1</td>\n",
       "      <td>0.00</td>\n",
       "      <td>0.00</td>\n",
       "      <td>0</td>\n",
       "    </tr>\n",
       "    <tr>\n",
       "      <th>1</th>\n",
       "      <td>2</td>\n",
       "      <td>0.00</td>\n",
       "      <td>0.01</td>\n",
       "      <td>0-0.01</td>\n",
       "    </tr>\n",
       "    <tr>\n",
       "      <th>2</th>\n",
       "      <td>3</td>\n",
       "      <td>0.01</td>\n",
       "      <td>0.10</td>\n",
       "      <td>0.01-0.1</td>\n",
       "    </tr>\n",
       "    <tr>\n",
       "      <th>3</th>\n",
       "      <td>4</td>\n",
       "      <td>0.10</td>\n",
       "      <td>1.00</td>\n",
       "      <td>0.1-1</td>\n",
       "    </tr>\n",
       "    <tr>\n",
       "      <th>4</th>\n",
       "      <td>5</td>\n",
       "      <td>1.00</td>\n",
       "      <td>5.00</td>\n",
       "      <td>1-5</td>\n",
       "    </tr>\n",
       "    <tr>\n",
       "      <th>5</th>\n",
       "      <td>6</td>\n",
       "      <td>5.00</td>\n",
       "      <td>10.00</td>\n",
       "      <td>5-10</td>\n",
       "    </tr>\n",
       "    <tr>\n",
       "      <th>6</th>\n",
       "      <td>7</td>\n",
       "      <td>10.00</td>\n",
       "      <td>15.00</td>\n",
       "      <td>10-15</td>\n",
       "    </tr>\n",
       "    <tr>\n",
       "      <th>7</th>\n",
       "      <td>8</td>\n",
       "      <td>15.00</td>\n",
       "      <td>20.00</td>\n",
       "      <td>15-20</td>\n",
       "    </tr>\n",
       "    <tr>\n",
       "      <th>8</th>\n",
       "      <td>9</td>\n",
       "      <td>20.00</td>\n",
       "      <td>25.00</td>\n",
       "      <td>20-25</td>\n",
       "    </tr>\n",
       "    <tr>\n",
       "      <th>9</th>\n",
       "      <td>10</td>\n",
       "      <td>25.00</td>\n",
       "      <td>30.00</td>\n",
       "      <td>25-30</td>\n",
       "    </tr>\n",
       "  </tbody>\n",
       "</table>\n",
       "</div>"
      ],
      "text/plain": [
       "   tr_gr_id  bucket_min  bucket_max     title\n",
       "0         1        0.00        0.00         0\n",
       "1         2        0.00        0.01    0-0.01\n",
       "2         3        0.01        0.10  0.01-0.1\n",
       "3         4        0.10        1.00     0.1-1\n",
       "4         5        1.00        5.00       1-5\n",
       "5         6        5.00       10.00      5-10\n",
       "6         7       10.00       15.00     10-15\n",
       "7         8       15.00       20.00     15-20\n",
       "8         9       20.00       25.00     20-25\n",
       "9        10       25.00       30.00     25-30"
      ]
     },
     "execution_count": 8,
     "metadata": {},
     "output_type": "execute_result"
    }
   ],
   "source": [
    "traffic_segment.head(10)"
   ]
  },
  {
   "cell_type": "code",
   "execution_count": 9,
   "id": "3cbaa097",
   "metadata": {},
   "outputs": [
    {
     "data": {
      "text/html": [
       "<div>\n",
       "<style scoped>\n",
       "    .dataframe tbody tr th:only-of-type {\n",
       "        vertical-align: middle;\n",
       "    }\n",
       "\n",
       "    .dataframe tbody tr th {\n",
       "        vertical-align: top;\n",
       "    }\n",
       "\n",
       "    .dataframe thead th {\n",
       "        text-align: right;\n",
       "    }\n",
       "</style>\n",
       "<table border=\"1\" class=\"dataframe\">\n",
       "  <thead>\n",
       "    <tr style=\"text-align: right;\">\n",
       "      <th></th>\n",
       "      <th>lt_gr_id</th>\n",
       "      <th>bucket_min</th>\n",
       "      <th>bucket_max</th>\n",
       "      <th>title</th>\n",
       "    </tr>\n",
       "  </thead>\n",
       "  <tbody>\n",
       "    <tr>\n",
       "      <th>0</th>\n",
       "      <td>1</td>\n",
       "      <td>1</td>\n",
       "      <td>1</td>\n",
       "      <td>1</td>\n",
       "    </tr>\n",
       "    <tr>\n",
       "      <th>1</th>\n",
       "      <td>2</td>\n",
       "      <td>2</td>\n",
       "      <td>2</td>\n",
       "      <td>2</td>\n",
       "    </tr>\n",
       "    <tr>\n",
       "      <th>2</th>\n",
       "      <td>3</td>\n",
       "      <td>3</td>\n",
       "      <td>3</td>\n",
       "      <td>3</td>\n",
       "    </tr>\n",
       "    <tr>\n",
       "      <th>3</th>\n",
       "      <td>4</td>\n",
       "      <td>4</td>\n",
       "      <td>6</td>\n",
       "      <td>4-6</td>\n",
       "    </tr>\n",
       "    <tr>\n",
       "      <th>4</th>\n",
       "      <td>5</td>\n",
       "      <td>7</td>\n",
       "      <td>12</td>\n",
       "      <td>7-12</td>\n",
       "    </tr>\n",
       "    <tr>\n",
       "      <th>5</th>\n",
       "      <td>6</td>\n",
       "      <td>13</td>\n",
       "      <td>24</td>\n",
       "      <td>13-24</td>\n",
       "    </tr>\n",
       "    <tr>\n",
       "      <th>6</th>\n",
       "      <td>7</td>\n",
       "      <td>25</td>\n",
       "      <td>36</td>\n",
       "      <td>25-36</td>\n",
       "    </tr>\n",
       "    <tr>\n",
       "      <th>7</th>\n",
       "      <td>8</td>\n",
       "      <td>36</td>\n",
       "      <td>100</td>\n",
       "      <td>36+</td>\n",
       "    </tr>\n",
       "  </tbody>\n",
       "</table>\n",
       "</div>"
      ],
      "text/plain": [
       "   lt_gr_id  bucket_min  bucket_max  title\n",
       "0         1           1           1      1\n",
       "1         2           2           2      2\n",
       "2         3           3           3      3\n",
       "3         4           4           6    4-6\n",
       "4         5           7          12   7-12\n",
       "5         6          13          24  13-24\n",
       "6         7          25          36  25-36\n",
       "7         8          36         100    36+"
      ]
     },
     "execution_count": 9,
     "metadata": {},
     "output_type": "execute_result"
    }
   ],
   "source": [
    "lifetime_segment.head(10)"
   ]
  },
  {
   "cell_type": "code",
   "execution_count": 10,
   "id": "2b392ffd",
   "metadata": {},
   "outputs": [],
   "source": [
    "query = '''\n",
    "        SELECT u.user_id, u.lt_day,\n",
    "        CASE\n",
    "            WHEN u.lt_day <= 365 THEN TRUE\n",
    "            ELSE FALSE END AS is_new,\n",
    "        u.age,\n",
    "        CASE\n",
    "            WHEN u.gender_segment = 0 THEN 'M'\n",
    "            WHEN u.gender_segment = 1 THEN 'F'\n",
    "            ELSE NULL END AS gender_segment,\n",
    "        u.os_name, u.cpe_type_name, l.country, l.city, aseg.title AS age_segment, \n",
    "        tseg.title AS traffic_segment, lseg.title AS lifetime_segment, u.nps_score,\n",
    "        CASE\n",
    "            WHEN u.nps_score <= 6 THEN 'detractors'\n",
    "            WHEN u.nps_score <= 8 THEN 'passives'\n",
    "            ELSE 'promoters' END AS nps_group\n",
    "        \n",
    "        FROM (\n",
    "            SELECT user_id, lt_day, CAST(age AS INT) as age, CAST(gender_segment AS INT) AS gender_segment, \n",
    "            CASE\n",
    "                WHEN os_name = 'IOS' THEN os_name\n",
    "                WHEN os_name = 'ANDROID' THEN 'Android'\n",
    "                WHEN os_name = 'PROPRIETARY' THEN 'Proprietary'\n",
    "                WHEN os_name = 'OTHER' OR os_name = 'unknown' THEN 'Other'\n",
    "                WHEN os_name = 'WINDOWS PHONE' OR os_name = 'WINDOWS MOBILE' THEN 'Windows Phone'\n",
    "                WHEN os_name = 'SYMBIAN OS' THEN 'Symbian OS'\n",
    "                WHEN os_name = 'BADA OS' THEN 'Bada OS'\n",
    "                ELSE os_name END as os_name,\n",
    "            CASE\n",
    "                WHEN cpe_type_name = 'SMARTPHONE' THEN 'Smartphone'\n",
    "                WHEN cpe_type_name = 'TABLET' THEN 'Tablet'\n",
    "                WHEN cpe_type_name = 'PHONE' OR cpe_type_name = 'MOBILE PHONE/FEATURE PHONE' THEN 'Feature Phone'\n",
    "                WHEN cpe_type_name IN ('ROUTER', 'WLAN ROUTER', 'MIFI ROUTER') THEN 'Router'\n",
    "                WHEN cpe_type_name IN ('USB MODEM', 'MODEM') THEN 'Modem'\n",
    "                ELSE 'Other' END AS cpe_type_name,\n",
    "            location_id, age_gr_id, tr_gr_id, lt_gr_id, nps_score\n",
    "            FROM user\n",
    "            WHERE age IS NOT NULL OR gender_segment IS NOT NULL            \n",
    "            ) AS u \n",
    "            \n",
    "            INNER JOIN (\n",
    "                SELECT location_id, \n",
    "                CASE\n",
    "                    WHEN city = 'СанктПетербург' THEN 'Санкт-Петербург'\n",
    "                    WHEN city = 'НижнийНовгород' THEN 'Нижний Новгород'\n",
    "                    WHEN city = 'РостовнаДону' THEN 'Ростов-на-Дону'\n",
    "                    WHEN city = 'НабережныеЧелны' THEN 'Набережные Челны'\n",
    "                    WHEN city = 'УланУдэ' THEN 'Улан-Удэ'\n",
    "                    WHEN city = 'НижнийТагил' THEN 'Нижний Тагил'\n",
    "                    ELSE city END AS city,\n",
    "                country\n",
    "                FROM location\n",
    "            ) AS l ON u.location_id=l.location_id\n",
    "            \n",
    "            INNER JOIN (\n",
    "                SELECT age_gr_id, \n",
    "               CASE \n",
    "                   WHEN bucket_max = 15.0 THEN 0\n",
    "                   ELSE CAST(bucket_min AS INT) END AS bucket_min,\n",
    "               CASE\n",
    "                   WHEN bucket_min = 66.0 THEN 150\n",
    "                   ELSE CAST(bucket_max AS INT) END AS bucket_max,\n",
    "               TRIM(SUBSTRING(title, 4, 5)) AS title\n",
    "        FROM age_segment\n",
    "        WHERE bucket_min IS NOT NULL       \n",
    "            ) AS aseg ON u.age_gr_id=aseg.age_gr_id\n",
    "            \n",
    "            INNER JOIN (\n",
    "            \n",
    "                SELECT tr_gr_id, bucket_min, \n",
    "                CASE\n",
    "                    WHEN bucket_min = 100.0 THEN 1000.0\n",
    "                    ELSE bucket_max END AS bucket_max,\n",
    "                TRIM(SUBSTRING(title, 4, 8)) AS title\n",
    "                FROM traffic_segment\n",
    "                 \n",
    "            ) AS tseg ON u.tr_gr_id=tseg.tr_gr_id\n",
    "            \n",
    "            INNER JOIN (\n",
    "                SELECT lt_gr_id, CAST(bucket_min AS INT) AS bucket_min,\n",
    "                CASE\n",
    "                    WHEN bucket_min = 36.00 THEN 100\n",
    "                    ELSE CAST(bucket_max AS INT) END AS bucket_max,\n",
    "                TRIM(SUBSTRING(title, 4, 5)) AS title\n",
    "                FROM lifetime_segment\n",
    "                \n",
    "            ) AS lseg ON u.lt_gr_id=lseg.lt_gr_id\n",
    "\n",
    "\n",
    "        '''\n",
    "\n",
    "final_df = pd.read_sql(query, engine)"
   ]
  },
  {
   "cell_type": "code",
   "execution_count": 11,
   "id": "6edbc9a0",
   "metadata": {},
   "outputs": [
    {
     "data": {
      "text/html": [
       "<div>\n",
       "<style scoped>\n",
       "    .dataframe tbody tr th:only-of-type {\n",
       "        vertical-align: middle;\n",
       "    }\n",
       "\n",
       "    .dataframe tbody tr th {\n",
       "        vertical-align: top;\n",
       "    }\n",
       "\n",
       "    .dataframe thead th {\n",
       "        text-align: right;\n",
       "    }\n",
       "</style>\n",
       "<table border=\"1\" class=\"dataframe\">\n",
       "  <thead>\n",
       "    <tr style=\"text-align: right;\">\n",
       "      <th></th>\n",
       "      <th>user_id</th>\n",
       "      <th>lt_day</th>\n",
       "      <th>is_new</th>\n",
       "      <th>age</th>\n",
       "      <th>gender_segment</th>\n",
       "      <th>os_name</th>\n",
       "      <th>cpe_type_name</th>\n",
       "      <th>country</th>\n",
       "      <th>city</th>\n",
       "      <th>age_segment</th>\n",
       "      <th>traffic_segment</th>\n",
       "      <th>lifetime_segment</th>\n",
       "      <th>nps_score</th>\n",
       "      <th>nps_group</th>\n",
       "    </tr>\n",
       "  </thead>\n",
       "  <tbody>\n",
       "    <tr>\n",
       "      <th>0</th>\n",
       "      <td>A001A2</td>\n",
       "      <td>2320</td>\n",
       "      <td>0</td>\n",
       "      <td>45</td>\n",
       "      <td>F</td>\n",
       "      <td>Android</td>\n",
       "      <td>Smartphone</td>\n",
       "      <td>Россия</td>\n",
       "      <td>Уфа</td>\n",
       "      <td>45-54</td>\n",
       "      <td>1-5</td>\n",
       "      <td>36+</td>\n",
       "      <td>10</td>\n",
       "      <td>promoters</td>\n",
       "    </tr>\n",
       "    <tr>\n",
       "      <th>1</th>\n",
       "      <td>A001WF</td>\n",
       "      <td>2344</td>\n",
       "      <td>0</td>\n",
       "      <td>53</td>\n",
       "      <td>M</td>\n",
       "      <td>Android</td>\n",
       "      <td>Smartphone</td>\n",
       "      <td>Россия</td>\n",
       "      <td>Киров</td>\n",
       "      <td>45-54</td>\n",
       "      <td>1-5</td>\n",
       "      <td>36+</td>\n",
       "      <td>10</td>\n",
       "      <td>promoters</td>\n",
       "    </tr>\n",
       "    <tr>\n",
       "      <th>2</th>\n",
       "      <td>A003Q7</td>\n",
       "      <td>467</td>\n",
       "      <td>0</td>\n",
       "      <td>57</td>\n",
       "      <td>M</td>\n",
       "      <td>Android</td>\n",
       "      <td>Smartphone</td>\n",
       "      <td>Россия</td>\n",
       "      <td>Москва</td>\n",
       "      <td>55-64</td>\n",
       "      <td>20-25</td>\n",
       "      <td>13-24</td>\n",
       "      <td>10</td>\n",
       "      <td>promoters</td>\n",
       "    </tr>\n",
       "    <tr>\n",
       "      <th>3</th>\n",
       "      <td>A004TB</td>\n",
       "      <td>4190</td>\n",
       "      <td>0</td>\n",
       "      <td>44</td>\n",
       "      <td>F</td>\n",
       "      <td>IOS</td>\n",
       "      <td>Smartphone</td>\n",
       "      <td>Россия</td>\n",
       "      <td>Ростов-на-Дону</td>\n",
       "      <td>35-44</td>\n",
       "      <td>0.1-1</td>\n",
       "      <td>36+</td>\n",
       "      <td>10</td>\n",
       "      <td>promoters</td>\n",
       "    </tr>\n",
       "    <tr>\n",
       "      <th>4</th>\n",
       "      <td>A004XT</td>\n",
       "      <td>1163</td>\n",
       "      <td>0</td>\n",
       "      <td>24</td>\n",
       "      <td>M</td>\n",
       "      <td>Android</td>\n",
       "      <td>Smartphone</td>\n",
       "      <td>Россия</td>\n",
       "      <td>Рязань</td>\n",
       "      <td>16-24</td>\n",
       "      <td>5-10</td>\n",
       "      <td>36+</td>\n",
       "      <td>10</td>\n",
       "      <td>promoters</td>\n",
       "    </tr>\n",
       "    <tr>\n",
       "      <th>5</th>\n",
       "      <td>A005O0</td>\n",
       "      <td>5501</td>\n",
       "      <td>0</td>\n",
       "      <td>42</td>\n",
       "      <td>F</td>\n",
       "      <td>Android</td>\n",
       "      <td>Smartphone</td>\n",
       "      <td>Россия</td>\n",
       "      <td>Омск</td>\n",
       "      <td>35-44</td>\n",
       "      <td>5-10</td>\n",
       "      <td>36+</td>\n",
       "      <td>6</td>\n",
       "      <td>detractors</td>\n",
       "    </tr>\n",
       "    <tr>\n",
       "      <th>6</th>\n",
       "      <td>A0061R</td>\n",
       "      <td>1236</td>\n",
       "      <td>0</td>\n",
       "      <td>45</td>\n",
       "      <td>M</td>\n",
       "      <td>Android</td>\n",
       "      <td>Smartphone</td>\n",
       "      <td>Россия</td>\n",
       "      <td>Уфа</td>\n",
       "      <td>45-54</td>\n",
       "      <td>10-15</td>\n",
       "      <td>36+</td>\n",
       "      <td>10</td>\n",
       "      <td>promoters</td>\n",
       "    </tr>\n",
       "    <tr>\n",
       "      <th>7</th>\n",
       "      <td>A009KS</td>\n",
       "      <td>313</td>\n",
       "      <td>1</td>\n",
       "      <td>35</td>\n",
       "      <td>M</td>\n",
       "      <td>Android</td>\n",
       "      <td>Smartphone</td>\n",
       "      <td>Россия</td>\n",
       "      <td>Москва</td>\n",
       "      <td>35-44</td>\n",
       "      <td>45-50</td>\n",
       "      <td>7-12</td>\n",
       "      <td>10</td>\n",
       "      <td>promoters</td>\n",
       "    </tr>\n",
       "    <tr>\n",
       "      <th>8</th>\n",
       "      <td>A00AES</td>\n",
       "      <td>3238</td>\n",
       "      <td>0</td>\n",
       "      <td>36</td>\n",
       "      <td>F</td>\n",
       "      <td>Android</td>\n",
       "      <td>Smartphone</td>\n",
       "      <td>Россия</td>\n",
       "      <td>Санкт-Петербург</td>\n",
       "      <td>35-44</td>\n",
       "      <td>1-5</td>\n",
       "      <td>36+</td>\n",
       "      <td>10</td>\n",
       "      <td>promoters</td>\n",
       "    </tr>\n",
       "    <tr>\n",
       "      <th>9</th>\n",
       "      <td>A00F70</td>\n",
       "      <td>4479</td>\n",
       "      <td>0</td>\n",
       "      <td>54</td>\n",
       "      <td>F</td>\n",
       "      <td>Android</td>\n",
       "      <td>Smartphone</td>\n",
       "      <td>Россия</td>\n",
       "      <td>Волгоград</td>\n",
       "      <td>45-54</td>\n",
       "      <td>15-20</td>\n",
       "      <td>36+</td>\n",
       "      <td>9</td>\n",
       "      <td>promoters</td>\n",
       "    </tr>\n",
       "  </tbody>\n",
       "</table>\n",
       "</div>"
      ],
      "text/plain": [
       "  user_id  lt_day  is_new  age gender_segment  os_name cpe_type_name country  \\\n",
       "0  A001A2    2320       0   45              F  Android    Smartphone  Россия   \n",
       "1  A001WF    2344       0   53              M  Android    Smartphone  Россия   \n",
       "2  A003Q7     467       0   57              M  Android    Smartphone  Россия   \n",
       "3  A004TB    4190       0   44              F      IOS    Smartphone  Россия   \n",
       "4  A004XT    1163       0   24              M  Android    Smartphone  Россия   \n",
       "5  A005O0    5501       0   42              F  Android    Smartphone  Россия   \n",
       "6  A0061R    1236       0   45              M  Android    Smartphone  Россия   \n",
       "7  A009KS     313       1   35              M  Android    Smartphone  Россия   \n",
       "8  A00AES    3238       0   36              F  Android    Smartphone  Россия   \n",
       "9  A00F70    4479       0   54              F  Android    Smartphone  Россия   \n",
       "\n",
       "              city age_segment traffic_segment lifetime_segment  nps_score  \\\n",
       "0              Уфа       45-54             1-5              36+         10   \n",
       "1            Киров       45-54             1-5              36+         10   \n",
       "2           Москва       55-64           20-25            13-24         10   \n",
       "3   Ростов-на-Дону       35-44           0.1-1              36+         10   \n",
       "4           Рязань       16-24            5-10              36+         10   \n",
       "5             Омск       35-44            5-10              36+          6   \n",
       "6              Уфа       45-54           10-15              36+         10   \n",
       "7           Москва       35-44           45-50             7-12         10   \n",
       "8  Санкт-Петербург       35-44             1-5              36+         10   \n",
       "9        Волгоград       45-54           15-20              36+          9   \n",
       "\n",
       "    nps_group  \n",
       "0   promoters  \n",
       "1   promoters  \n",
       "2   promoters  \n",
       "3   promoters  \n",
       "4   promoters  \n",
       "5  detractors  \n",
       "6   promoters  \n",
       "7   promoters  \n",
       "8   promoters  \n",
       "9   promoters  "
      ]
     },
     "execution_count": 11,
     "metadata": {},
     "output_type": "execute_result"
    }
   ],
   "source": [
    "final_df.head(10)"
   ]
  },
  {
   "cell_type": "code",
   "execution_count": 12,
   "id": "2d6862c2",
   "metadata": {},
   "outputs": [],
   "source": [
    "final_df.to_csv('telecom.csv', index=False)"
   ]
  },
  {
   "cell_type": "markdown",
   "id": "d9935d7b",
   "metadata": {},
   "source": [
    "Ссылка на дашборд: https://public.tableau.com/app/profile/dmitriy.ovechkin/viz/NPS-DashVersion1_1/Dashboard2"
   ]
  },
  {
   "cell_type": "code",
   "execution_count": 18,
   "id": "9480cbee",
   "metadata": {},
   "outputs": [
    {
     "data": {
      "text/html": [
       "<div>\n",
       "<style scoped>\n",
       "    .dataframe tbody tr th:only-of-type {\n",
       "        vertical-align: middle;\n",
       "    }\n",
       "\n",
       "    .dataframe tbody tr th {\n",
       "        vertical-align: top;\n",
       "    }\n",
       "\n",
       "    .dataframe thead th {\n",
       "        text-align: right;\n",
       "    }\n",
       "</style>\n",
       "<table border=\"1\" class=\"dataframe\">\n",
       "  <thead>\n",
       "    <tr style=\"text-align: right;\">\n",
       "      <th></th>\n",
       "      <th>lifetime_segment</th>\n",
       "      <th>1</th>\n",
       "      <th>13-24</th>\n",
       "      <th>2</th>\n",
       "      <th>25-36</th>\n",
       "      <th>3</th>\n",
       "      <th>36+</th>\n",
       "      <th>4-6</th>\n",
       "      <th>7-12</th>\n",
       "    </tr>\n",
       "    <tr>\n",
       "      <th>gender_segment</th>\n",
       "      <th>age_segment</th>\n",
       "      <th></th>\n",
       "      <th></th>\n",
       "      <th></th>\n",
       "      <th></th>\n",
       "      <th></th>\n",
       "      <th></th>\n",
       "      <th></th>\n",
       "      <th></th>\n",
       "    </tr>\n",
       "  </thead>\n",
       "  <tbody>\n",
       "    <tr>\n",
       "      <th rowspan=\"6\" valign=\"top\">F</th>\n",
       "      <th>16-24</th>\n",
       "      <td>NaN</td>\n",
       "      <td>0.087361</td>\n",
       "      <td>0.245045</td>\n",
       "      <td>0.019798</td>\n",
       "      <td>0.236111</td>\n",
       "      <td>-0.065762</td>\n",
       "      <td>0.271100</td>\n",
       "      <td>0.164977</td>\n",
       "    </tr>\n",
       "    <tr>\n",
       "      <th>25-34</th>\n",
       "      <td>1.000000</td>\n",
       "      <td>0.214059</td>\n",
       "      <td>0.316308</td>\n",
       "      <td>0.145153</td>\n",
       "      <td>0.359766</td>\n",
       "      <td>0.027744</td>\n",
       "      <td>0.319668</td>\n",
       "      <td>0.291300</td>\n",
       "    </tr>\n",
       "    <tr>\n",
       "      <th>35-44</th>\n",
       "      <td>0.333333</td>\n",
       "      <td>0.332435</td>\n",
       "      <td>0.450846</td>\n",
       "      <td>0.277917</td>\n",
       "      <td>0.431775</td>\n",
       "      <td>0.175038</td>\n",
       "      <td>0.449479</td>\n",
       "      <td>0.390759</td>\n",
       "    </tr>\n",
       "    <tr>\n",
       "      <th>45-54</th>\n",
       "      <td>1.000000</td>\n",
       "      <td>0.438341</td>\n",
       "      <td>0.516770</td>\n",
       "      <td>0.360275</td>\n",
       "      <td>0.584877</td>\n",
       "      <td>0.300104</td>\n",
       "      <td>0.546698</td>\n",
       "      <td>0.484736</td>\n",
       "    </tr>\n",
       "    <tr>\n",
       "      <th>55-64</th>\n",
       "      <td>NaN</td>\n",
       "      <td>0.518766</td>\n",
       "      <td>0.644828</td>\n",
       "      <td>0.475520</td>\n",
       "      <td>0.555066</td>\n",
       "      <td>0.417602</td>\n",
       "      <td>0.584660</td>\n",
       "      <td>0.583396</td>\n",
       "    </tr>\n",
       "    <tr>\n",
       "      <th>66 +</th>\n",
       "      <td>NaN</td>\n",
       "      <td>0.565394</td>\n",
       "      <td>0.540000</td>\n",
       "      <td>0.559633</td>\n",
       "      <td>0.531915</td>\n",
       "      <td>0.536269</td>\n",
       "      <td>0.537143</td>\n",
       "      <td>0.640898</td>\n",
       "    </tr>\n",
       "    <tr>\n",
       "      <th rowspan=\"6\" valign=\"top\">M</th>\n",
       "      <th>16-24</th>\n",
       "      <td>NaN</td>\n",
       "      <td>0.059398</td>\n",
       "      <td>0.182390</td>\n",
       "      <td>-0.030520</td>\n",
       "      <td>0.211240</td>\n",
       "      <td>-0.104258</td>\n",
       "      <td>0.205832</td>\n",
       "      <td>0.186634</td>\n",
       "    </tr>\n",
       "    <tr>\n",
       "      <th>25-34</th>\n",
       "      <td>0.000000</td>\n",
       "      <td>0.153785</td>\n",
       "      <td>0.285943</td>\n",
       "      <td>0.087561</td>\n",
       "      <td>0.291468</td>\n",
       "      <td>-0.042019</td>\n",
       "      <td>0.274569</td>\n",
       "      <td>0.237321</td>\n",
       "    </tr>\n",
       "    <tr>\n",
       "      <th>35-44</th>\n",
       "      <td>0.333333</td>\n",
       "      <td>0.308812</td>\n",
       "      <td>0.371588</td>\n",
       "      <td>0.217884</td>\n",
       "      <td>0.400000</td>\n",
       "      <td>0.100904</td>\n",
       "      <td>0.375661</td>\n",
       "      <td>0.368573</td>\n",
       "    </tr>\n",
       "    <tr>\n",
       "      <th>45-54</th>\n",
       "      <td>1.000000</td>\n",
       "      <td>0.376032</td>\n",
       "      <td>0.536913</td>\n",
       "      <td>0.311503</td>\n",
       "      <td>0.493590</td>\n",
       "      <td>0.223342</td>\n",
       "      <td>0.417763</td>\n",
       "      <td>0.448566</td>\n",
       "    </tr>\n",
       "    <tr>\n",
       "      <th>55-64</th>\n",
       "      <td>1.000000</td>\n",
       "      <td>0.427167</td>\n",
       "      <td>0.393548</td>\n",
       "      <td>0.392430</td>\n",
       "      <td>0.540146</td>\n",
       "      <td>0.334850</td>\n",
       "      <td>0.572482</td>\n",
       "      <td>0.469546</td>\n",
       "    </tr>\n",
       "    <tr>\n",
       "      <th>66 +</th>\n",
       "      <td>NaN</td>\n",
       "      <td>0.473451</td>\n",
       "      <td>0.673913</td>\n",
       "      <td>0.387205</td>\n",
       "      <td>0.696970</td>\n",
       "      <td>0.437282</td>\n",
       "      <td>0.573913</td>\n",
       "      <td>0.544444</td>\n",
       "    </tr>\n",
       "  </tbody>\n",
       "</table>\n",
       "</div>"
      ],
      "text/plain": [
       "lifetime_segment                   1     13-24         2     25-36         3  \\\n",
       "gender_segment age_segment                                                     \n",
       "F              16-24             NaN  0.087361  0.245045  0.019798  0.236111   \n",
       "               25-34        1.000000  0.214059  0.316308  0.145153  0.359766   \n",
       "               35-44        0.333333  0.332435  0.450846  0.277917  0.431775   \n",
       "               45-54        1.000000  0.438341  0.516770  0.360275  0.584877   \n",
       "               55-64             NaN  0.518766  0.644828  0.475520  0.555066   \n",
       "               66 +              NaN  0.565394  0.540000  0.559633  0.531915   \n",
       "M              16-24             NaN  0.059398  0.182390 -0.030520  0.211240   \n",
       "               25-34        0.000000  0.153785  0.285943  0.087561  0.291468   \n",
       "               35-44        0.333333  0.308812  0.371588  0.217884  0.400000   \n",
       "               45-54        1.000000  0.376032  0.536913  0.311503  0.493590   \n",
       "               55-64        1.000000  0.427167  0.393548  0.392430  0.540146   \n",
       "               66 +              NaN  0.473451  0.673913  0.387205  0.696970   \n",
       "\n",
       "lifetime_segment                 36+       4-6      7-12  \n",
       "gender_segment age_segment                                \n",
       "F              16-24       -0.065762  0.271100  0.164977  \n",
       "               25-34        0.027744  0.319668  0.291300  \n",
       "               35-44        0.175038  0.449479  0.390759  \n",
       "               45-54        0.300104  0.546698  0.484736  \n",
       "               55-64        0.417602  0.584660  0.583396  \n",
       "               66 +         0.536269  0.537143  0.640898  \n",
       "M              16-24       -0.104258  0.205832  0.186634  \n",
       "               25-34       -0.042019  0.274569  0.237321  \n",
       "               35-44        0.100904  0.375661  0.368573  \n",
       "               45-54        0.223342  0.417763  0.448566  \n",
       "               55-64        0.334850  0.572482  0.469546  \n",
       "               66 +         0.437282  0.573913  0.544444  "
      ]
     },
     "metadata": {},
     "output_type": "display_data"
    },
    {
     "data": {
      "image/png": "[encoded data removed]",
      "text/plain": [
       "<Figure size 1080x576 with 2 Axes>"
      ]
     },
     "metadata": {
      "needs_background": "light"
     },
     "output_type": "display_data"
    }
   ],
   "source": [
    "# Код ревьюера\n",
    "import seaborn as sns\n",
    "import matplotlib.pyplot as plt\n",
    "d = final_df.assign(total_nps=lambda row: row['nps_group'].map({'promoters': 1, 'passives': 0, 'detractors': -1}))\\\n",
    "  .pivot_table(index=['gender_segment', 'age_segment'], columns=['lifetime_segment'], values='total_nps', aggfunc='mean')\n",
    "display(d)\n",
    "plt.figure(figsize=(15,8))\n",
    "sns.heatmap(d, annot=True);"
   ]
  },
  {
   "cell_type": "markdown",
   "id": "eff5fbd2",
   "metadata": {},
   "source": [
    "Ссылка на презентацию: https://disk.yandex.ru/i/GthK6_HsmRdW7w"
   ]
  },
  {
   "cell_type": "code",
   "execution_count": null,
   "id": "2f7927b6",
   "metadata": {},
   "outputs": [],
   "source": []
  }
 ],
 "metadata": {
  "ExecuteTimeLog": [
   {
    "duration": 21915,
    "start_time": "2022-06-25T05:34:02.828Z"
   },
   {
    "duration": 561,
    "start_time": "2022-06-25T05:34:24.745Z"
   },
   {
    "duration": 27,
    "start_time": "2022-06-25T05:34:25.308Z"
   },
   {
    "duration": 1183,
    "start_time": "2022-06-25T05:34:25.337Z"
   },
   {
    "duration": 0,
    "start_time": "2022-06-25T05:34:26.522Z"
   },
   {
    "duration": 0,
    "start_time": "2022-06-25T05:34:26.523Z"
   },
   {
    "duration": 0,
    "start_time": "2022-06-25T05:34:26.524Z"
   },
   {
    "duration": 0,
    "start_time": "2022-06-25T05:34:26.525Z"
   },
   {
    "duration": 0,
    "start_time": "2022-06-25T05:34:26.526Z"
   },
   {
    "duration": 0,
    "start_time": "2022-06-25T05:34:26.527Z"
   },
   {
    "duration": 0,
    "start_time": "2022-06-25T05:34:26.528Z"
   },
   {
    "duration": 0,
    "start_time": "2022-06-25T05:34:26.529Z"
   },
   {
    "duration": 1236,
    "start_time": "2022-06-25T05:35:50.825Z"
   },
   {
    "duration": 734,
    "start_time": "2022-06-25T05:36:04.767Z"
   },
   {
    "duration": 19937,
    "start_time": "2022-06-25T05:36:21.376Z"
   },
   {
    "duration": 563,
    "start_time": "2022-06-25T05:36:41.316Z"
   },
   {
    "duration": 10,
    "start_time": "2022-06-25T05:36:41.881Z"
   },
   {
    "duration": 947,
    "start_time": "2022-06-25T05:36:41.894Z"
   },
   {
    "duration": 0,
    "start_time": "2022-06-25T05:36:42.845Z"
   },
   {
    "duration": 0,
    "start_time": "2022-06-25T05:36:42.847Z"
   },
   {
    "duration": 0,
    "start_time": "2022-06-25T05:36:42.848Z"
   },
   {
    "duration": 0,
    "start_time": "2022-06-25T05:36:42.850Z"
   },
   {
    "duration": 0,
    "start_time": "2022-06-25T05:36:42.852Z"
   },
   {
    "duration": 0,
    "start_time": "2022-06-25T05:36:42.853Z"
   },
   {
    "duration": 0,
    "start_time": "2022-06-25T05:36:42.855Z"
   },
   {
    "duration": 0,
    "start_time": "2022-06-25T05:36:42.857Z"
   },
   {
    "duration": 4,
    "start_time": "2022-06-25T05:41:36.922Z"
   },
   {
    "duration": 5,
    "start_time": "2022-06-25T05:41:40.877Z"
   },
   {
    "duration": 778,
    "start_time": "2022-06-25T05:41:41.209Z"
   },
   {
    "duration": 4,
    "start_time": "2022-06-25T05:41:57.355Z"
   },
   {
    "duration": 4693,
    "start_time": "2022-06-25T05:41:57.874Z"
   },
   {
    "duration": 21538,
    "start_time": "2022-06-25T05:42:35.962Z"
   },
   {
    "duration": 524,
    "start_time": "2022-06-25T05:42:57.503Z"
   },
   {
    "duration": 19,
    "start_time": "2022-06-25T05:42:58.029Z"
   },
   {
    "duration": 889,
    "start_time": "2022-06-25T05:42:58.051Z"
   },
   {
    "duration": 0,
    "start_time": "2022-06-25T05:42:58.942Z"
   },
   {
    "duration": 0,
    "start_time": "2022-06-25T05:42:58.944Z"
   },
   {
    "duration": 0,
    "start_time": "2022-06-25T05:42:58.945Z"
   },
   {
    "duration": 0,
    "start_time": "2022-06-25T05:42:58.946Z"
   },
   {
    "duration": 0,
    "start_time": "2022-06-25T05:42:58.947Z"
   },
   {
    "duration": 0,
    "start_time": "2022-06-25T05:42:58.948Z"
   },
   {
    "duration": 0,
    "start_time": "2022-06-25T05:42:58.950Z"
   },
   {
    "duration": 0,
    "start_time": "2022-06-25T05:42:58.951Z"
   },
   {
    "duration": 23139,
    "start_time": "2022-06-25T08:20:47.104Z"
   },
   {
    "duration": 528,
    "start_time": "2022-06-25T08:21:10.245Z"
   },
   {
    "duration": 19,
    "start_time": "2022-06-25T08:21:10.774Z"
   },
   {
    "duration": 579,
    "start_time": "2022-06-25T08:21:10.794Z"
   },
   {
    "duration": 0,
    "start_time": "2022-06-25T08:21:11.377Z"
   },
   {
    "duration": 0,
    "start_time": "2022-06-25T08:21:11.378Z"
   },
   {
    "duration": 0,
    "start_time": "2022-06-25T08:21:11.380Z"
   },
   {
    "duration": 0,
    "start_time": "2022-06-25T08:21:11.381Z"
   },
   {
    "duration": 0,
    "start_time": "2022-06-25T08:21:11.383Z"
   },
   {
    "duration": 0,
    "start_time": "2022-06-25T08:21:11.384Z"
   },
   {
    "duration": 0,
    "start_time": "2022-06-25T08:21:11.385Z"
   },
   {
    "duration": 0,
    "start_time": "2022-06-25T08:21:11.386Z"
   },
   {
    "duration": 17420,
    "start_time": "2022-06-25T08:22:17.049Z"
   },
   {
    "duration": 468,
    "start_time": "2022-06-25T08:22:34.471Z"
   },
   {
    "duration": 8,
    "start_time": "2022-06-25T08:22:34.940Z"
   },
   {
    "duration": 423,
    "start_time": "2022-06-25T08:22:34.950Z"
   },
   {
    "duration": 0,
    "start_time": "2022-06-25T08:22:35.376Z"
   },
   {
    "duration": 0,
    "start_time": "2022-06-25T08:22:35.377Z"
   },
   {
    "duration": 0,
    "start_time": "2022-06-25T08:22:35.378Z"
   },
   {
    "duration": 0,
    "start_time": "2022-06-25T08:22:35.379Z"
   },
   {
    "duration": 0,
    "start_time": "2022-06-25T08:22:35.381Z"
   },
   {
    "duration": 0,
    "start_time": "2022-06-25T08:22:35.382Z"
   },
   {
    "duration": 0,
    "start_time": "2022-06-25T08:22:35.384Z"
   },
   {
    "duration": 0,
    "start_time": "2022-06-25T08:22:35.385Z"
   },
   {
    "duration": 2043,
    "start_time": "2022-06-25T08:23:21.043Z"
   },
   {
    "duration": 494,
    "start_time": "2022-06-25T08:23:23.089Z"
   },
   {
    "duration": 10,
    "start_time": "2022-06-25T08:23:23.584Z"
   },
   {
    "duration": 370,
    "start_time": "2022-06-25T08:23:23.595Z"
   },
   {
    "duration": 1,
    "start_time": "2022-06-25T08:23:23.967Z"
   },
   {
    "duration": 0,
    "start_time": "2022-06-25T08:23:23.968Z"
   },
   {
    "duration": 0,
    "start_time": "2022-06-25T08:23:23.969Z"
   },
   {
    "duration": 0,
    "start_time": "2022-06-25T08:23:23.971Z"
   },
   {
    "duration": 0,
    "start_time": "2022-06-25T08:23:23.972Z"
   },
   {
    "duration": 0,
    "start_time": "2022-06-25T08:23:23.973Z"
   },
   {
    "duration": 0,
    "start_time": "2022-06-25T08:23:23.974Z"
   },
   {
    "duration": 0,
    "start_time": "2022-06-25T08:23:23.975Z"
   },
   {
    "duration": 2109,
    "start_time": "2022-06-25T08:27:24.554Z"
   },
   {
    "duration": 491,
    "start_time": "2022-06-25T08:27:26.665Z"
   },
   {
    "duration": 9,
    "start_time": "2022-06-25T08:27:27.158Z"
   },
   {
    "duration": 5301,
    "start_time": "2022-06-25T08:27:27.169Z"
   },
   {
    "duration": 0,
    "start_time": "2022-06-25T08:27:32.471Z"
   },
   {
    "duration": 0,
    "start_time": "2022-06-25T08:27:32.474Z"
   },
   {
    "duration": 0,
    "start_time": "2022-06-25T08:27:32.475Z"
   },
   {
    "duration": 0,
    "start_time": "2022-06-25T08:27:32.476Z"
   },
   {
    "duration": 0,
    "start_time": "2022-06-25T08:27:32.477Z"
   },
   {
    "duration": 0,
    "start_time": "2022-06-25T08:27:32.478Z"
   },
   {
    "duration": 0,
    "start_time": "2022-06-25T08:27:32.479Z"
   },
   {
    "duration": 0,
    "start_time": "2022-06-25T08:27:32.480Z"
   },
   {
    "duration": 2122,
    "start_time": "2022-06-25T08:27:56.303Z"
   },
   {
    "duration": 4,
    "start_time": "2022-06-25T08:27:58.428Z"
   },
   {
    "duration": 14,
    "start_time": "2022-06-25T08:27:58.434Z"
   },
   {
    "duration": 318,
    "start_time": "2022-06-25T08:27:58.450Z"
   },
   {
    "duration": 0,
    "start_time": "2022-06-25T08:27:58.770Z"
   },
   {
    "duration": 0,
    "start_time": "2022-06-25T08:27:58.771Z"
   },
   {
    "duration": 0,
    "start_time": "2022-06-25T08:27:58.772Z"
   },
   {
    "duration": 0,
    "start_time": "2022-06-25T08:27:58.773Z"
   },
   {
    "duration": 0,
    "start_time": "2022-06-25T08:27:58.774Z"
   },
   {
    "duration": 0,
    "start_time": "2022-06-25T08:27:58.776Z"
   },
   {
    "duration": 0,
    "start_time": "2022-06-25T08:27:58.777Z"
   },
   {
    "duration": 0,
    "start_time": "2022-06-25T08:27:58.779Z"
   },
   {
    "duration": 2138,
    "start_time": "2022-06-25T08:28:29.500Z"
   },
   {
    "duration": 522,
    "start_time": "2022-06-25T08:28:31.640Z"
   },
   {
    "duration": 9,
    "start_time": "2022-06-25T08:28:32.163Z"
   },
   {
    "duration": 371,
    "start_time": "2022-06-25T08:28:32.173Z"
   },
   {
    "duration": 0,
    "start_time": "2022-06-25T08:28:32.547Z"
   },
   {
    "duration": 0,
    "start_time": "2022-06-25T08:28:32.549Z"
   },
   {
    "duration": 0,
    "start_time": "2022-06-25T08:28:32.551Z"
   },
   {
    "duration": 0,
    "start_time": "2022-06-25T08:28:32.552Z"
   },
   {
    "duration": 0,
    "start_time": "2022-06-25T08:28:32.554Z"
   },
   {
    "duration": 0,
    "start_time": "2022-06-25T08:28:32.555Z"
   },
   {
    "duration": 0,
    "start_time": "2022-06-25T08:28:32.556Z"
   },
   {
    "duration": 0,
    "start_time": "2022-06-25T08:28:32.558Z"
   },
   {
    "duration": 2161,
    "start_time": "2022-06-25T08:33:12.136Z"
   },
   {
    "duration": 512,
    "start_time": "2022-06-25T08:33:14.299Z"
   },
   {
    "duration": 359,
    "start_time": "2022-06-25T08:33:14.812Z"
   },
   {
    "duration": 4585,
    "start_time": "2022-06-25T08:33:15.172Z"
   },
   {
    "duration": 0,
    "start_time": "2022-06-25T08:33:19.759Z"
   },
   {
    "duration": 0,
    "start_time": "2022-06-25T08:33:19.760Z"
   },
   {
    "duration": 0,
    "start_time": "2022-06-25T08:33:19.761Z"
   },
   {
    "duration": 0,
    "start_time": "2022-06-25T08:33:19.762Z"
   },
   {
    "duration": 0,
    "start_time": "2022-06-25T08:33:19.763Z"
   },
   {
    "duration": 0,
    "start_time": "2022-06-25T08:33:19.765Z"
   },
   {
    "duration": 0,
    "start_time": "2022-06-25T08:33:19.766Z"
   },
   {
    "duration": 0,
    "start_time": "2022-06-25T08:33:19.767Z"
   },
   {
    "duration": 5962,
    "start_time": "2022-06-25T09:04:10.458Z"
   },
   {
    "duration": 2123,
    "start_time": "2022-06-25T09:04:54.702Z"
   },
   {
    "duration": 518,
    "start_time": "2022-06-25T09:04:56.828Z"
   },
   {
    "duration": 8,
    "start_time": "2022-06-25T09:04:57.348Z"
   },
   {
    "duration": 5758,
    "start_time": "2022-06-25T09:04:57.358Z"
   },
   {
    "duration": 25,
    "start_time": "2022-06-25T09:05:03.119Z"
   },
   {
    "duration": 6,
    "start_time": "2022-06-25T09:05:03.145Z"
   },
   {
    "duration": 10,
    "start_time": "2022-06-25T09:05:03.152Z"
   },
   {
    "duration": 12,
    "start_time": "2022-06-25T09:05:03.163Z"
   },
   {
    "duration": 12,
    "start_time": "2022-06-25T09:05:03.176Z"
   },
   {
    "duration": 5452,
    "start_time": "2022-06-25T09:05:03.190Z"
   },
   {
    "duration": 13,
    "start_time": "2022-06-25T09:05:08.644Z"
   },
   {
    "duration": 3656,
    "start_time": "2022-06-25T09:05:08.659Z"
   },
   {
    "duration": 5,
    "start_time": "2022-06-25T09:05:28.025Z"
   },
   {
    "duration": 2317,
    "start_time": "2022-06-25T09:09:32.111Z"
   },
   {
    "duration": 585,
    "start_time": "2022-06-25T09:09:34.431Z"
   },
   {
    "duration": 11,
    "start_time": "2022-06-25T09:09:35.018Z"
   },
   {
    "duration": 5805,
    "start_time": "2022-06-25T09:09:35.032Z"
   },
   {
    "duration": 19,
    "start_time": "2022-06-25T09:09:40.839Z"
   },
   {
    "duration": 25,
    "start_time": "2022-06-25T09:09:40.860Z"
   },
   {
    "duration": 39,
    "start_time": "2022-06-25T09:09:40.887Z"
   },
   {
    "duration": 43,
    "start_time": "2022-06-25T09:09:40.929Z"
   },
   {
    "duration": 24,
    "start_time": "2022-06-25T09:09:40.974Z"
   },
   {
    "duration": 5471,
    "start_time": "2022-06-25T09:09:41.000Z"
   },
   {
    "duration": 14,
    "start_time": "2022-06-25T09:09:46.473Z"
   },
   {
    "duration": 7,
    "start_time": "2022-06-25T09:09:46.488Z"
   },
   {
    "duration": 3691,
    "start_time": "2022-06-25T09:09:46.497Z"
   },
   {
    "duration": 461,
    "start_time": "2022-06-25T09:17:05.523Z"
   },
   {
    "duration": 2137,
    "start_time": "2022-06-25T09:17:35.484Z"
   },
   {
    "duration": 550,
    "start_time": "2022-06-25T09:17:37.625Z"
   },
   {
    "duration": 9,
    "start_time": "2022-06-25T09:17:38.178Z"
   },
   {
    "duration": 5868,
    "start_time": "2022-06-25T09:17:38.189Z"
   },
   {
    "duration": 18,
    "start_time": "2022-06-25T09:17:44.059Z"
   },
   {
    "duration": 6,
    "start_time": "2022-06-25T09:17:44.079Z"
   },
   {
    "duration": 10,
    "start_time": "2022-06-25T09:17:44.087Z"
   },
   {
    "duration": 10,
    "start_time": "2022-06-25T09:17:44.098Z"
   },
   {
    "duration": 8,
    "start_time": "2022-06-25T09:17:44.110Z"
   },
   {
    "duration": 5561,
    "start_time": "2022-06-25T09:17:44.120Z"
   },
   {
    "duration": 20,
    "start_time": "2022-06-25T09:17:49.683Z"
   },
   {
    "duration": 4320,
    "start_time": "2022-06-25T09:17:49.705Z"
   },
   {
    "duration": 2354,
    "start_time": "2022-06-25T09:31:58.384Z"
   },
   {
    "duration": 505,
    "start_time": "2022-06-25T09:32:00.740Z"
   },
   {
    "duration": 39,
    "start_time": "2022-06-25T09:32:01.247Z"
   },
   {
    "duration": 5940,
    "start_time": "2022-06-25T09:32:01.288Z"
   },
   {
    "duration": 20,
    "start_time": "2022-06-25T09:32:07.231Z"
   },
   {
    "duration": 9,
    "start_time": "2022-06-25T09:32:07.253Z"
   },
   {
    "duration": 10,
    "start_time": "2022-06-25T09:32:07.264Z"
   },
   {
    "duration": 14,
    "start_time": "2022-06-25T09:32:07.276Z"
   },
   {
    "duration": 11,
    "start_time": "2022-06-25T09:32:07.291Z"
   },
   {
    "duration": 4882,
    "start_time": "2022-06-25T09:32:07.303Z"
   },
   {
    "duration": 13,
    "start_time": "2022-06-25T09:32:12.186Z"
   },
   {
    "duration": 3386,
    "start_time": "2022-06-25T09:32:12.201Z"
   },
   {
    "duration": 19,
    "start_time": "2022-06-25T09:33:59.950Z"
   },
   {
    "duration": 103,
    "start_time": "2022-06-25T09:34:24.971Z"
   },
   {
    "duration": 182,
    "start_time": "2022-06-25T09:34:38.660Z"
   },
   {
    "duration": 198,
    "start_time": "2022-06-25T09:34:42.612Z"
   },
   {
    "duration": 656,
    "start_time": "2022-06-25T09:36:15.353Z"
   },
   {
    "duration": 2314,
    "start_time": "2022-06-25T09:36:35.955Z"
   }
  ],
  "kernelspec": {
   "display_name": "Python 3 (ipykernel)",
   "language": "python",
   "name": "python3"
  },
  "language_info": {
   "codemirror_mode": {
    "name": "ipython",
    "version": 3
   },
   "file_extension": ".py",
   "mimetype": "text/x-python",
   "name": "python",
   "nbconvert_exporter": "python",
   "pygments_lexer": "ipython3",
   "version": "3.9.5"
  },
  "toc": {
   "base_numbering": 1,
   "nav_menu": {},
   "number_sections": true,
   "sideBar": true,
   "skip_h1_title": true,
   "title_cell": "Table of Contents",
   "title_sidebar": "Contents",
   "toc_cell": false,
   "toc_position": {},
   "toc_section_display": true,
   "toc_window_display": false
  }
 },
 "nbformat": 4,
 "nbformat_minor": 5
}
