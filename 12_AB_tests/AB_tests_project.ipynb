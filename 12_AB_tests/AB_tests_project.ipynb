{
 "cells": [
  {
   "cell_type": "markdown",
   "metadata": {},
   "source": [
    "# Самостоятельный проект по теме «Принятие решений в бизнесе»"
   ]
  },
  {
   "cell_type": "markdown",
   "metadata": {},
   "source": [
    "# Вступление"
   ]
  },
  {
   "cell_type": "markdown",
   "metadata": {},
   "source": [
    "В этом проекте я выступлю в роли аналитика крупного интернет-магазина, в котором вместе с отделом маркетинга мы подготовили список гипотез для увеличения выручки. В ходе исследования мы будем приоритизировать гипотезы, запустим A/B-тест и проанализируем результаты. Анализ результатов подробно распишем в выводах."
   ]
  },
  {
   "cell_type": "code",
   "execution_count": 1,
   "metadata": {},
   "outputs": [],
   "source": [
    "import pandas as pd\n",
    "import datetime as dt\n",
    "import numpy as np\n",
    "import scipy.stats as stats\n",
    "import matplotlib.pyplot as plt\n",
    "from pandas.plotting import register_matplotlib_converters\n",
    "import warnings\n",
    "# конвертеры, которые позволяют использовать типы pandas в matplotlib  \n",
    "register_matplotlib_converters()\n",
    "pd.options.display.max_colwidth=300\n"
   ]
  },
  {
   "cell_type": "markdown",
   "metadata": {},
   "source": [
    "# Часть 1. Приоритизация гипотез."
   ]
  },
  {
   "cell_type": "code",
   "execution_count": 2,
   "metadata": {},
   "outputs": [
    {
     "data": {
      "text/html": [
       "<div>\n",
       "<style scoped>\n",
       "    .dataframe tbody tr th:only-of-type {\n",
       "        vertical-align: middle;\n",
       "    }\n",
       "\n",
       "    .dataframe tbody tr th {\n",
       "        vertical-align: top;\n",
       "    }\n",
       "\n",
       "    .dataframe thead th {\n",
       "        text-align: right;\n",
       "    }\n",
       "</style>\n",
       "<table border=\"1\" class=\"dataframe\">\n",
       "  <thead>\n",
       "    <tr style=\"text-align: right;\">\n",
       "      <th></th>\n",
       "      <th>Hypothesis</th>\n",
       "      <th>Reach</th>\n",
       "      <th>Impact</th>\n",
       "      <th>Confidence</th>\n",
       "      <th>Efforts</th>\n",
       "    </tr>\n",
       "  </thead>\n",
       "  <tbody>\n",
       "    <tr>\n",
       "      <th>0</th>\n",
       "      <td>Добавить два новых канала привлечения трафика, что позволит привлекать на 30% больше пользователей</td>\n",
       "      <td>3</td>\n",
       "      <td>10</td>\n",
       "      <td>8</td>\n",
       "      <td>6</td>\n",
       "    </tr>\n",
       "    <tr>\n",
       "      <th>1</th>\n",
       "      <td>Запустить собственную службу доставки, что сократит срок доставки заказов</td>\n",
       "      <td>2</td>\n",
       "      <td>5</td>\n",
       "      <td>4</td>\n",
       "      <td>10</td>\n",
       "    </tr>\n",
       "    <tr>\n",
       "      <th>2</th>\n",
       "      <td>Добавить блоки рекомендаций товаров на сайт интернет магазина, чтобы повысить конверсию и средний чек заказа</td>\n",
       "      <td>8</td>\n",
       "      <td>3</td>\n",
       "      <td>7</td>\n",
       "      <td>3</td>\n",
       "    </tr>\n",
       "    <tr>\n",
       "      <th>3</th>\n",
       "      <td>Изменить структура категорий, что увеличит конверсию, т.к. пользователи быстрее найдут нужный товар</td>\n",
       "      <td>8</td>\n",
       "      <td>3</td>\n",
       "      <td>3</td>\n",
       "      <td>8</td>\n",
       "    </tr>\n",
       "    <tr>\n",
       "      <th>4</th>\n",
       "      <td>Изменить цвет фона главной страницы, чтобы увеличить вовлеченность пользователей</td>\n",
       "      <td>3</td>\n",
       "      <td>1</td>\n",
       "      <td>1</td>\n",
       "      <td>1</td>\n",
       "    </tr>\n",
       "    <tr>\n",
       "      <th>5</th>\n",
       "      <td>Добавить страницу отзывов клиентов о магазине, что позволит увеличить количество заказов</td>\n",
       "      <td>3</td>\n",
       "      <td>2</td>\n",
       "      <td>2</td>\n",
       "      <td>3</td>\n",
       "    </tr>\n",
       "    <tr>\n",
       "      <th>6</th>\n",
       "      <td>Показать на главной странице баннеры с актуальными акциями и распродажами, чтобы увеличить конверсию</td>\n",
       "      <td>5</td>\n",
       "      <td>3</td>\n",
       "      <td>8</td>\n",
       "      <td>3</td>\n",
       "    </tr>\n",
       "    <tr>\n",
       "      <th>7</th>\n",
       "      <td>Добавить форму подписки на все основные страницы, чтобы собрать базу клиентов для email-рассылок</td>\n",
       "      <td>10</td>\n",
       "      <td>7</td>\n",
       "      <td>8</td>\n",
       "      <td>5</td>\n",
       "    </tr>\n",
       "    <tr>\n",
       "      <th>8</th>\n",
       "      <td>Запустить акцию, дающую скидку на товар в день рождения</td>\n",
       "      <td>1</td>\n",
       "      <td>9</td>\n",
       "      <td>9</td>\n",
       "      <td>5</td>\n",
       "    </tr>\n",
       "  </tbody>\n",
       "</table>\n",
       "</div>"
      ],
      "text/plain": [
       "                                                                                                     Hypothesis  \\\n",
       "0            Добавить два новых канала привлечения трафика, что позволит привлекать на 30% больше пользователей   \n",
       "1                                     Запустить собственную службу доставки, что сократит срок доставки заказов   \n",
       "2  Добавить блоки рекомендаций товаров на сайт интернет магазина, чтобы повысить конверсию и средний чек заказа   \n",
       "3           Изменить структура категорий, что увеличит конверсию, т.к. пользователи быстрее найдут нужный товар   \n",
       "4                              Изменить цвет фона главной страницы, чтобы увеличить вовлеченность пользователей   \n",
       "5                      Добавить страницу отзывов клиентов о магазине, что позволит увеличить количество заказов   \n",
       "6          Показать на главной странице баннеры с актуальными акциями и распродажами, чтобы увеличить конверсию   \n",
       "7              Добавить форму подписки на все основные страницы, чтобы собрать базу клиентов для email-рассылок   \n",
       "8                                                       Запустить акцию, дающую скидку на товар в день рождения   \n",
       "\n",
       "   Reach  Impact  Confidence  Efforts  \n",
       "0      3      10           8        6  \n",
       "1      2       5           4       10  \n",
       "2      8       3           7        3  \n",
       "3      8       3           3        8  \n",
       "4      3       1           1        1  \n",
       "5      3       2           2        3  \n",
       "6      5       3           8        3  \n",
       "7     10       7           8        5  \n",
       "8      1       9           9        5  "
      ]
     },
     "metadata": {},
     "output_type": "display_data"
    }
   ],
   "source": [
    "# считаем файл с гипотезами в переменную hypothesis\n",
    "try:\n",
    "    hypothesis = pd.read_csv('/datasets/hypothesis.csv')\n",
    "except:\n",
    "    hypothesis = pd.read_csv('hypothesis.csv')\n",
    "\n",
    "# выведем на экран получившуюся таблицу\n",
    "display(hypothesis)"
   ]
  },
  {
   "cell_type": "markdown",
   "metadata": {},
   "source": [
    "В таблице hypothesis у нас содержится 9 различных гипотез. Применим фреймворки ICE и RICE, отсортируем результаты и обратим внимание на то, как меняются (и меняются ли) позиции гипотез в отсортированных по приоритетности гипотез списках в случае применения разных фреймворках. Предположим, с чем это может быть связано. Вспомним две формулы:\n",
    "\n",
    "\n",
    "ICE SCORE = (Impact * Confidence) / Efforts\n",
    "\n",
    "RICE SCORE = (Reach * Impact * Confidence) / Efforts"
   ]
  },
  {
   "cell_type": "code",
   "execution_count": 3,
   "metadata": {},
   "outputs": [],
   "source": [
    "# результаты вычислений значений по формуле ICE SCORE округлим до двух знаков после запятой\n",
    "hypothesis['ICE'] = round((hypothesis['Impact'] * hypothesis['Confidence']) / hypothesis['Efforts'], 2)"
   ]
  },
  {
   "cell_type": "code",
   "execution_count": 4,
   "metadata": {},
   "outputs": [
    {
     "name": "stdout",
     "output_type": "stream",
     "text": [
      "                                                                                                     Hypothesis  \\\n",
      "8                                                       Запустить акцию, дающую скидку на товар в день рождения   \n",
      "0            Добавить два новых канала привлечения трафика, что позволит привлекать на 30% больше пользователей   \n",
      "7              Добавить форму подписки на все основные страницы, чтобы собрать базу клиентов для email-рассылок   \n",
      "6          Показать на главной странице баннеры с актуальными акциями и распродажами, чтобы увеличить конверсию   \n",
      "2  Добавить блоки рекомендаций товаров на сайт интернет магазина, чтобы повысить конверсию и средний чек заказа   \n",
      "1                                     Запустить собственную службу доставки, что сократит срок доставки заказов   \n",
      "5                      Добавить страницу отзывов клиентов о магазине, что позволит увеличить количество заказов   \n",
      "3           Изменить структура категорий, что увеличит конверсию, т.к. пользователи быстрее найдут нужный товар   \n",
      "4                              Изменить цвет фона главной страницы, чтобы увеличить вовлеченность пользователей   \n",
      "\n",
      "     ICE  \n",
      "8  16.20  \n",
      "0  13.33  \n",
      "7  11.20  \n",
      "6   8.00  \n",
      "2   7.00  \n",
      "1   2.00  \n",
      "5   1.33  \n",
      "3   1.12  \n",
      "4   1.00  \n"
     ]
    }
   ],
   "source": [
    "# выведем на экран гипотезы в порядке убывания их приоритетов, полученных в ходе работы фреймворка ICE\n",
    "print(hypothesis[['Hypothesis', 'ICE']].sort_values('ICE', ascending=False))"
   ]
  },
  {
   "cell_type": "code",
   "execution_count": 5,
   "metadata": {},
   "outputs": [],
   "source": [
    "# результаты вычислений значений по формуле RICE SCORE округлим до двух знаков после запятой\n",
    "hypothesis['RICE'] = round((hypothesis['Reach'] * hypothesis['Impact'] * hypothesis['Confidence']) / hypothesis['Efforts'], 2)"
   ]
  },
  {
   "cell_type": "code",
   "execution_count": 6,
   "metadata": {},
   "outputs": [
    {
     "name": "stdout",
     "output_type": "stream",
     "text": [
      "                                                                                                     Hypothesis  \\\n",
      "7              Добавить форму подписки на все основные страницы, чтобы собрать базу клиентов для email-рассылок   \n",
      "2  Добавить блоки рекомендаций товаров на сайт интернет магазина, чтобы повысить конверсию и средний чек заказа   \n",
      "0            Добавить два новых канала привлечения трафика, что позволит привлекать на 30% больше пользователей   \n",
      "6          Показать на главной странице баннеры с актуальными акциями и распродажами, чтобы увеличить конверсию   \n",
      "8                                                       Запустить акцию, дающую скидку на товар в день рождения   \n",
      "3           Изменить структура категорий, что увеличит конверсию, т.к. пользователи быстрее найдут нужный товар   \n",
      "1                                     Запустить собственную службу доставки, что сократит срок доставки заказов   \n",
      "5                      Добавить страницу отзывов клиентов о магазине, что позволит увеличить количество заказов   \n",
      "4                              Изменить цвет фона главной страницы, чтобы увеличить вовлеченность пользователей   \n",
      "\n",
      "    RICE  \n",
      "7  112.0  \n",
      "2   56.0  \n",
      "0   40.0  \n",
      "6   40.0  \n",
      "8   16.2  \n",
      "3    9.0  \n",
      "1    4.0  \n",
      "5    4.0  \n",
      "4    3.0  \n"
     ]
    }
   ],
   "source": [
    "# выведем на экран гипотезы в порядке убывания их приоритетов, полученных в ходе работы фреймворка RICE\n",
    "print(hypothesis[['Hypothesis', 'RICE']].sort_values('RICE', ascending=False))"
   ]
  },
  {
   "cell_type": "markdown",
   "metadata": {},
   "source": [
    "Наиболее перспективные гипотезы по ICE: 8, 0, 7 и 6, а наиболее перспективные гипотезы по RICE: 7, 2, 0 и 6. Седьмая гипотеза в случае применения фреймворка RICE «вырвалась» вперёд, на первое место с третьего, за счёт того, что параметр Reach имеет значение 10, то есть максимальное значение шкалы, по которой мы оцениваем параметры гипотез. Это означает, что такая гипотеза охватит всю аудиторию. В лидерах как ICE, так и RICE присутствует гипотеза 0 — у неё максимальный показатель параметра Impact, то есть мы уверены в том, что данная гипотеза будем иметь максимальную степень влияния на пользователей, которых она затронет. Также у гипотезы 0 можно отметить довольно высокий (8) показатель параметра Confidence. Это говорит о том, что мы имеем очень серьёзные основания быть уверенными в выставленных значениях параметров Impact, Reach и Efforts. Точно так же в обоих списках лидеров на четвёртом месте у нас оказалась шестая гипотеза. Тут показатели Impact и Efforts компенсируют друг друга (они одинаковые, при этом не сильно большие, что в случае с параметром Efforts нам только на руку, и можно в такой дроби их сократить), а произведение значений параметров Reach и Confidence в случае с фреймворком RICE или просто само значение Confidence в случае с фреймворком ICE — довольно высокое значение.\n",
    "\n",
    "В результате приоритизации гипотез оставим гипотезы 7, 0 и 6. Именно их мы будем тестировать в дальнейшем, так как в случае применения фреймворков ICE и RICE они имеют максимальные показатели."
   ]
  },
  {
   "cell_type": "markdown",
   "metadata": {},
   "source": [
    "# Часть 2. Анализ A/B-теста"
   ]
  },
  {
   "cell_type": "markdown",
   "metadata": {},
   "source": [
    "Мы провели A/B-тест и получили результаты, которые считаем в переменные orders и visitors. Пришло время проанализировать A/B-тест."
   ]
  },
  {
   "cell_type": "code",
   "execution_count": 7,
   "metadata": {},
   "outputs": [],
   "source": [
    "try:\n",
    "    orders = pd.read_csv('/datasets/orders.csv')\n",
    "    visitors = pd.read_csv('/datasets/visitors.csv')\n",
    "except:\n",
    "    orders = pd.read_csv('orders.csv')\n",
    "    visitors = pd.read_csv('visitors.csv')"
   ]
  },
  {
   "cell_type": "code",
   "execution_count": 8,
   "metadata": {},
   "outputs": [
    {
     "data": {
      "text/html": [
       "<div>\n",
       "<style scoped>\n",
       "    .dataframe tbody tr th:only-of-type {\n",
       "        vertical-align: middle;\n",
       "    }\n",
       "\n",
       "    .dataframe tbody tr th {\n",
       "        vertical-align: top;\n",
       "    }\n",
       "\n",
       "    .dataframe thead th {\n",
       "        text-align: right;\n",
       "    }\n",
       "</style>\n",
       "<table border=\"1\" class=\"dataframe\">\n",
       "  <thead>\n",
       "    <tr style=\"text-align: right;\">\n",
       "      <th></th>\n",
       "      <th>transactionId</th>\n",
       "      <th>visitorId</th>\n",
       "      <th>date</th>\n",
       "      <th>revenue</th>\n",
       "      <th>group</th>\n",
       "    </tr>\n",
       "  </thead>\n",
       "  <tbody>\n",
       "    <tr>\n",
       "      <th>0</th>\n",
       "      <td>3667963787</td>\n",
       "      <td>3312258926</td>\n",
       "      <td>2019-08-15</td>\n",
       "      <td>1650</td>\n",
       "      <td>B</td>\n",
       "    </tr>\n",
       "    <tr>\n",
       "      <th>1</th>\n",
       "      <td>2804400009</td>\n",
       "      <td>3642806036</td>\n",
       "      <td>2019-08-15</td>\n",
       "      <td>730</td>\n",
       "      <td>B</td>\n",
       "    </tr>\n",
       "    <tr>\n",
       "      <th>2</th>\n",
       "      <td>2961555356</td>\n",
       "      <td>4069496402</td>\n",
       "      <td>2019-08-15</td>\n",
       "      <td>400</td>\n",
       "      <td>A</td>\n",
       "    </tr>\n",
       "    <tr>\n",
       "      <th>3</th>\n",
       "      <td>3797467345</td>\n",
       "      <td>1196621759</td>\n",
       "      <td>2019-08-15</td>\n",
       "      <td>9759</td>\n",
       "      <td>B</td>\n",
       "    </tr>\n",
       "    <tr>\n",
       "      <th>4</th>\n",
       "      <td>2282983706</td>\n",
       "      <td>2322279887</td>\n",
       "      <td>2019-08-15</td>\n",
       "      <td>2308</td>\n",
       "      <td>B</td>\n",
       "    </tr>\n",
       "  </tbody>\n",
       "</table>\n",
       "</div>"
      ],
      "text/plain": [
       "   transactionId   visitorId        date  revenue group\n",
       "0     3667963787  3312258926  2019-08-15     1650     B\n",
       "1     2804400009  3642806036  2019-08-15      730     B\n",
       "2     2961555356  4069496402  2019-08-15      400     A\n",
       "3     3797467345  1196621759  2019-08-15     9759     B\n",
       "4     2282983706  2322279887  2019-08-15     2308     B"
      ]
     },
     "metadata": {},
     "output_type": "display_data"
    }
   ],
   "source": [
    "# ознакомимся с первыми пятью строками таблицы orders\n",
    "display(orders.head())"
   ]
  },
  {
   "cell_type": "code",
   "execution_count": 9,
   "metadata": {},
   "outputs": [
    {
     "data": {
      "text/html": [
       "<div>\n",
       "<style scoped>\n",
       "    .dataframe tbody tr th:only-of-type {\n",
       "        vertical-align: middle;\n",
       "    }\n",
       "\n",
       "    .dataframe tbody tr th {\n",
       "        vertical-align: top;\n",
       "    }\n",
       "\n",
       "    .dataframe thead th {\n",
       "        text-align: right;\n",
       "    }\n",
       "</style>\n",
       "<table border=\"1\" class=\"dataframe\">\n",
       "  <thead>\n",
       "    <tr style=\"text-align: right;\">\n",
       "      <th></th>\n",
       "      <th>date</th>\n",
       "      <th>group</th>\n",
       "      <th>visitors</th>\n",
       "    </tr>\n",
       "  </thead>\n",
       "  <tbody>\n",
       "    <tr>\n",
       "      <th>0</th>\n",
       "      <td>2019-08-01</td>\n",
       "      <td>A</td>\n",
       "      <td>719</td>\n",
       "    </tr>\n",
       "    <tr>\n",
       "      <th>1</th>\n",
       "      <td>2019-08-02</td>\n",
       "      <td>A</td>\n",
       "      <td>619</td>\n",
       "    </tr>\n",
       "    <tr>\n",
       "      <th>2</th>\n",
       "      <td>2019-08-03</td>\n",
       "      <td>A</td>\n",
       "      <td>507</td>\n",
       "    </tr>\n",
       "    <tr>\n",
       "      <th>3</th>\n",
       "      <td>2019-08-04</td>\n",
       "      <td>A</td>\n",
       "      <td>717</td>\n",
       "    </tr>\n",
       "    <tr>\n",
       "      <th>4</th>\n",
       "      <td>2019-08-05</td>\n",
       "      <td>A</td>\n",
       "      <td>756</td>\n",
       "    </tr>\n",
       "  </tbody>\n",
       "</table>\n",
       "</div>"
      ],
      "text/plain": [
       "         date group  visitors\n",
       "0  2019-08-01     A       719\n",
       "1  2019-08-02     A       619\n",
       "2  2019-08-03     A       507\n",
       "3  2019-08-04     A       717\n",
       "4  2019-08-05     A       756"
      ]
     },
     "metadata": {},
     "output_type": "display_data"
    }
   ],
   "source": [
    "# ознакомимся с первыми пятью строками таблицы visitors\n",
    "display(visitors.head())"
   ]
  },
  {
   "cell_type": "code",
   "execution_count": 10,
   "metadata": {},
   "outputs": [
    {
     "name": "stdout",
     "output_type": "stream",
     "text": [
      "<class 'pandas.core.frame.DataFrame'>\n",
      "RangeIndex: 1197 entries, 0 to 1196\n",
      "Data columns (total 5 columns):\n",
      " #   Column         Non-Null Count  Dtype \n",
      "---  ------         --------------  ----- \n",
      " 0   transactionId  1197 non-null   int64 \n",
      " 1   visitorId      1197 non-null   int64 \n",
      " 2   date           1197 non-null   object\n",
      " 3   revenue        1197 non-null   int64 \n",
      " 4   group          1197 non-null   object\n",
      "dtypes: int64(3), object(2)\n",
      "memory usage: 46.9+ KB\n"
     ]
    }
   ],
   "source": [
    "# убедимся, что таблица orders не содержит пропусков, а типы данных соответствуют ожидаемым\n",
    "orders.info()"
   ]
  },
  {
   "cell_type": "code",
   "execution_count": 11,
   "metadata": {},
   "outputs": [
    {
     "name": "stdout",
     "output_type": "stream",
     "text": [
      "<class 'pandas.core.frame.DataFrame'>\n",
      "RangeIndex: 62 entries, 0 to 61\n",
      "Data columns (total 3 columns):\n",
      " #   Column    Non-Null Count  Dtype \n",
      "---  ------    --------------  ----- \n",
      " 0   date      62 non-null     object\n",
      " 1   group     62 non-null     object\n",
      " 2   visitors  62 non-null     int64 \n",
      "dtypes: int64(1), object(2)\n",
      "memory usage: 1.6+ KB\n"
     ]
    }
   ],
   "source": [
    "# убедимся, что таблица visitors не содержит пропусков, а типы данных соответствуют ожидаемым\n",
    "visitors.info()"
   ]
  },
  {
   "cell_type": "code",
   "execution_count": 12,
   "metadata": {},
   "outputs": [],
   "source": [
    "# изменим тип данных в столбцах 'date' обоих таблиц на тип datetime\n",
    "\n",
    "for i in [orders, visitors]:\n",
    "    i['date'] = i['date'].map(\n",
    "        lambda x: dt.datetime.strptime(x, '%Y-%m-%d')\n",
    "    )"
   ]
  },
  {
   "cell_type": "code",
   "execution_count": 13,
   "metadata": {},
   "outputs": [],
   "source": [
    "# Для удобства поправим имена столбцов в таблице orders на более короткие\n",
    "orders = orders.rename(\n",
    "    columns={'transactionId':'orderId', 'visitorId':'userId'}\n",
    ")"
   ]
  },
  {
   "cell_type": "code",
   "execution_count": 14,
   "metadata": {},
   "outputs": [
    {
     "data": {
      "text/plain": [
       "0"
      ]
     },
     "execution_count": 14,
     "metadata": {},
     "output_type": "execute_result"
    }
   ],
   "source": [
    "# убедимся в отсутствии грубых дубликатов в таблице orders\n",
    "orders.duplicated().sum()"
   ]
  },
  {
   "cell_type": "code",
   "execution_count": 15,
   "metadata": {},
   "outputs": [
    {
     "data": {
      "text/plain": [
       "0"
      ]
     },
     "execution_count": 15,
     "metadata": {},
     "output_type": "execute_result"
    }
   ],
   "source": [
    "# убедимся в отсутствии грубых дубликатов в таблице visitors\n",
    "visitors.duplicated().sum()"
   ]
  },
  {
   "cell_type": "markdown",
   "metadata": {},
   "source": [
    "Теперь убедимся, что в наших данных нет пользователей, которые случайно попали и в группу A и в группу B. Если найдём таких, то исключим их из датафрейма, чтобы они не искажали истинные данные."
   ]
  },
  {
   "cell_type": "code",
   "execution_count": 16,
   "metadata": {},
   "outputs": [
    {
     "data": {
      "text/plain": [
       "58"
      ]
     },
     "execution_count": 16,
     "metadata": {},
     "output_type": "execute_result"
    }
   ],
   "source": [
    "intersection_users = []\n",
    "\n",
    "for i in list(orders[orders['group'] == 'A']['userId']):\n",
    "    for j in list(orders[orders['group'] == 'B']['userId']):\n",
    "        if i == j and i not in intersection_users:\n",
    "            intersection_users.append(i)\n",
    "            \n",
    "len(intersection_users)"
   ]
  },
  {
   "cell_type": "markdown",
   "metadata": {},
   "source": [
    "Всего уникальных пользователей, которые попали в обе группы — 58. Избавимся от этих пользователей.\n"
   ]
  },
  {
   "cell_type": "code",
   "execution_count": 17,
   "metadata": {},
   "outputs": [],
   "source": [
    "orders = orders.query('userId not in @intersection_users')"
   ]
  },
  {
   "cell_type": "markdown",
   "metadata": {},
   "source": [
    "# 2.1 График кумулятивной выручки по группам"
   ]
  },
  {
   "cell_type": "markdown",
   "metadata": {},
   "source": [
    "Сперва подготовим данные и начнём с создания датафрейма с уникальными парами значений 'date' и 'group'"
   ]
  },
  {
   "cell_type": "code",
   "execution_count": 18,
   "metadata": {},
   "outputs": [],
   "source": [
    "# создаём датафрейм с уникальными парами значений 'date' и 'group'\n",
    "datesGroups = orders[['date', 'group']].drop_duplicates()"
   ]
  },
  {
   "cell_type": "code",
   "execution_count": 19,
   "metadata": {},
   "outputs": [],
   "source": [
    "# Далее объявим переменную ordersAggregated, которая примет таблицу с полями даты, группы A/B-теста, числом уникальных заказов\n",
    "# в группе теста по указанную дату включительно, числом уникальных пользователей, совершивших хотя бы 1 заказ в группе теста \n",
    "# по указанную дату включительно, суммарной выручкой заказов в группе теста по указанную дату включительно\n",
    "\n",
    "ordersAggregated = datesGroups.apply(lambda x: orders[np.logical_and(orders['date'] <= x['date'], orders['group'] == x['group'])].agg({'date' : 'max', 'group' : 'max', 'orderId' : 'nunique', 'userId' : 'nunique', 'revenue' : 'sum'}), axis=1).sort_values(by=['date','group'])"
   ]
  },
  {
   "cell_type": "code",
   "execution_count": 20,
   "metadata": {},
   "outputs": [],
   "source": [
    "# Также нам будет нужна переменная visitorsAggregated, которая будет содержать дату,  группу A/B-теста, и количество\n",
    "# уникальных посетителей в группе теста по указанную дату включительно.\n",
    "\n",
    "visitorsAggregated = datesGroups.apply(lambda x: visitors[np.logical_and(visitors['date'] <= x['date'], visitors['group'] == x['group'])].agg({'date' : 'max', 'group' : 'max', 'visitors' : 'sum'}), axis=1).sort_values(by=['date','group'])"
   ]
  },
  {
   "cell_type": "code",
   "execution_count": 21,
   "metadata": {},
   "outputs": [],
   "source": [
    "# Объединим две таблицы по колонкам 'date' и 'group' в переменной cumulativeData методом merge()\n",
    "cumulativeData = ordersAggregated.merge(visitorsAggregated, left_on=['date', 'group'], right_on=['date', 'group'])\n",
    "cumulativeData.columns = ['date', 'group', 'orders', 'buyers', 'revenue', 'visitors']"
   ]
  },
  {
   "cell_type": "code",
   "execution_count": 22,
   "metadata": {},
   "outputs": [
    {
     "data": {
      "text/html": [
       "<div>\n",
       "<style scoped>\n",
       "    .dataframe tbody tr th:only-of-type {\n",
       "        vertical-align: middle;\n",
       "    }\n",
       "\n",
       "    .dataframe tbody tr th {\n",
       "        vertical-align: top;\n",
       "    }\n",
       "\n",
       "    .dataframe thead th {\n",
       "        text-align: right;\n",
       "    }\n",
       "</style>\n",
       "<table border=\"1\" class=\"dataframe\">\n",
       "  <thead>\n",
       "    <tr style=\"text-align: right;\">\n",
       "      <th></th>\n",
       "      <th>date</th>\n",
       "      <th>group</th>\n",
       "      <th>orders</th>\n",
       "      <th>buyers</th>\n",
       "      <th>revenue</th>\n",
       "      <th>visitors</th>\n",
       "    </tr>\n",
       "  </thead>\n",
       "  <tbody>\n",
       "    <tr>\n",
       "      <th>0</th>\n",
       "      <td>2019-08-01</td>\n",
       "      <td>A</td>\n",
       "      <td>23</td>\n",
       "      <td>19</td>\n",
       "      <td>142779</td>\n",
       "      <td>719</td>\n",
       "    </tr>\n",
       "    <tr>\n",
       "      <th>1</th>\n",
       "      <td>2019-08-01</td>\n",
       "      <td>B</td>\n",
       "      <td>17</td>\n",
       "      <td>17</td>\n",
       "      <td>59758</td>\n",
       "      <td>713</td>\n",
       "    </tr>\n",
       "    <tr>\n",
       "      <th>2</th>\n",
       "      <td>2019-08-02</td>\n",
       "      <td>A</td>\n",
       "      <td>42</td>\n",
       "      <td>36</td>\n",
       "      <td>234381</td>\n",
       "      <td>1338</td>\n",
       "    </tr>\n",
       "    <tr>\n",
       "      <th>3</th>\n",
       "      <td>2019-08-02</td>\n",
       "      <td>B</td>\n",
       "      <td>40</td>\n",
       "      <td>39</td>\n",
       "      <td>221801</td>\n",
       "      <td>1294</td>\n",
       "    </tr>\n",
       "    <tr>\n",
       "      <th>4</th>\n",
       "      <td>2019-08-03</td>\n",
       "      <td>A</td>\n",
       "      <td>66</td>\n",
       "      <td>60</td>\n",
       "      <td>346854</td>\n",
       "      <td>1845</td>\n",
       "    </tr>\n",
       "  </tbody>\n",
       "</table>\n",
       "</div>"
      ],
      "text/plain": [
       "        date group  orders  buyers  revenue  visitors\n",
       "0 2019-08-01     A      23      19   142779       719\n",
       "1 2019-08-01     B      17      17    59758       713\n",
       "2 2019-08-02     A      42      36   234381      1338\n",
       "3 2019-08-02     B      40      39   221801      1294\n",
       "4 2019-08-03     A      66      60   346854      1845"
      ]
     },
     "metadata": {},
     "output_type": "display_data"
    }
   ],
   "source": [
    "# выведем на экран первые 5 строк получившейся таблицы\n",
    "display(cumulativeData.head())"
   ]
  },
  {
   "cell_type": "markdown",
   "metadata": {},
   "source": [
    "Теперь, когда у нас есть таблица cumulativeData, получим из неё данные только для группы A и только для группы B. Сохраним эти данные в переменных cumulativeRevenueA и cumulativeRevenueB и основываясь на этих новых таблицах построим графики кумулятивной выручки по дням в группах."
   ]
  },
  {
   "cell_type": "code",
   "execution_count": 23,
   "metadata": {},
   "outputs": [],
   "source": [
    "cumulativeRevenueA = cumulativeData[cumulativeData['group'] == 'A'][\n",
    "    ['date', 'revenue', 'orders']\n",
    "]\n",
    "cumulativeRevenueB = cumulativeData[cumulativeData['group'] == 'B'][\n",
    "    ['date', 'revenue', 'orders']\n",
    "]"
   ]
  },
  {
   "cell_type": "code",
   "execution_count": 24,
   "metadata": {},
   "outputs": [
    {
     "data": {
      "image/png": "[encoded data removed]",
      "text/plain": [
       "<Figure size 1080x432 with 1 Axes>"
      ]
     },
     "metadata": {
      "needs_background": "light"
     },
     "output_type": "display_data"
    }
   ],
   "source": [
    "plt.figure(figsize=(15, 6))\n",
    "plt.plot(cumulativeRevenueA['date'], cumulativeRevenueA['revenue'], label='A')\n",
    "plt.plot(cumulativeRevenueB['date'], cumulativeRevenueB['revenue'], label='B')\n",
    "plt.legend()\n",
    "plt.title('Кумулятивная выручка по группам')\n",
    "plt.xlabel('Дни')\n",
    "plt.ylabel('Кумулятивная выручка, млн')\n",
    "plt.show()"
   ]
  },
  {
   "cell_type": "markdown",
   "metadata": {},
   "source": [
    "По графику мы можем наблюдать, что сегмент B практически в течение всего периода наблюдений (за исключением нескольких дней в начале наблюдений) превосходил по показателям кумулятивной выручки сегмент A. После 18 августа видно, что в значения группы B пришла аномалия, какой то нетипично крупный заказ, из-за которого различие между показателями групп стало существенным. Обязательно вернёмся к теме аномалий, но чуть позже, а пока примем как факт лидерство за показателями кумулятивной выручки группы B."
   ]
  },
  {
   "cell_type": "markdown",
   "metadata": {},
   "source": [
    "# 2.2 График кумулятивного среднего чека по группам"
   ]
  },
  {
   "cell_type": "code",
   "execution_count": 25,
   "metadata": {},
   "outputs": [
    {
     "data": {
      "image/png": "[encoded data removed]",
      "text/plain": [
       "<Figure size 1080x432 with 1 Axes>"
      ]
     },
     "metadata": {
      "needs_background": "light"
     },
     "output_type": "display_data"
    }
   ],
   "source": [
    "plt.figure(figsize=(15, 6))\n",
    "plt.plot(cumulativeRevenueA['date'], cumulativeRevenueA['revenue'] / cumulativeRevenueA['orders'], label='A')\n",
    "plt.plot(cumulativeRevenueB['date'], cumulativeRevenueB['revenue'] / cumulativeRevenueB['orders'], label='B')\n",
    "plt.legend()\n",
    "plt.title('Кумулятивный средний чек группам')\n",
    "plt.xlabel('Дни')\n",
    "plt.ylabel('Размер чека')\n",
    "plt.show()"
   ]
  },
  {
   "cell_type": "markdown",
   "metadata": {},
   "source": [
    "На построенных графиках видно, что кумулятивное значение среднего чека между группами A и B колеблется, после 18 августа в группу B пришёл нетипично крупный заказ, что повлекло значительный отрыв показателей среднего чека у группы B. Также мы видим, что после этого отрыва показатели среднего чека группы B пошли на спад. Принимать решение по метрике кумулятивного значения среднего чека однозначно рано, ведь графики не стабильны. К слову, это уже второй график, который подталкивает нас к мысли разобраться с аномалиями, ведь именно они являются причиной колебаний графиков."
   ]
  },
  {
   "cell_type": "markdown",
   "metadata": {},
   "source": [
    "# 2.3 График относительного изменения кумулятивного среднего чека группы B к группе A"
   ]
  },
  {
   "cell_type": "markdown",
   "metadata": {},
   "source": [
    "Для построения графика относительного изменения кумулятивного среднего чека нам будут нужны столбцы 'revenueA', 'revenueB', 'ordersA', 'ordersB', поэтому мы объединим таблицы cumulativeRevenueA и cumulativeRevenueB методом merge() и задействуем при этом объединении параметр suffixes, чтобы получить в одном датасете такие столбцы. На графике проведём пунктирную линию по оси X в значении y=0, она будет являться границей: так как мы изучаем относительное изменение группы B к группе A, то значения выше этой пунктирной линии будут сигнализировать о том, что показатели кумулятивного среднего чека группы B выше аналогичных показателей группы A. "
   ]
  },
  {
   "cell_type": "code",
   "execution_count": 26,
   "metadata": {},
   "outputs": [
    {
     "data": {
      "image/png": "[encoded data removed]",
      "text/plain": [
       "<Figure size 1080x432 with 1 Axes>"
      ]
     },
     "metadata": {
      "needs_background": "light"
     },
     "output_type": "display_data"
    }
   ],
   "source": [
    "mergedCumulativeRevenue = cumulativeRevenueA.merge(cumulativeRevenueB, left_on='date', right_on='date', how='left', suffixes=['A', 'B'])\n",
    "\n",
    "plt.figure(figsize=(15, 6))\n",
    "plt.plot(mergedCumulativeRevenue['date'], (mergedCumulativeRevenue['revenueB']/mergedCumulativeRevenue['ordersB'])/(mergedCumulativeRevenue['revenueA']/mergedCumulativeRevenue['ordersA']) - 1)\n",
    "plt.axhline(y=0, color='black', linestyle='--')\n",
    "plt.title('Относительное изменение кумулятивного среднего чека группы B к группе A')\n",
    "plt.xlabel('Дни')\n",
    "plt.ylabel('Коэффициент относительного изменения')\n",
    "plt.show()"
   ]
  },
  {
   "cell_type": "markdown",
   "metadata": {},
   "source": [
    "На графике относительного различия в среднем чеке между группами видно, что результаты теста значительно и резко менялись в несколько дат: в районе 6 августа, 13 августа и 18 августа график выраженно менял своё направление. Видимо, точки перелома графика и есть даты, в которые были совершены аномальные заказы. "
   ]
  },
  {
   "cell_type": "markdown",
   "metadata": {},
   "source": [
    "# 2.4 График кумулятивного среднего количества заказов по группам"
   ]
  },
  {
   "cell_type": "code",
   "execution_count": 27,
   "metadata": {},
   "outputs": [
    {
     "data": {
      "text/html": [
       "<div>\n",
       "<style scoped>\n",
       "    .dataframe tbody tr th:only-of-type {\n",
       "        vertical-align: middle;\n",
       "    }\n",
       "\n",
       "    .dataframe tbody tr th {\n",
       "        vertical-align: top;\n",
       "    }\n",
       "\n",
       "    .dataframe thead th {\n",
       "        text-align: right;\n",
       "    }\n",
       "</style>\n",
       "<table border=\"1\" class=\"dataframe\">\n",
       "  <thead>\n",
       "    <tr style=\"text-align: right;\">\n",
       "      <th></th>\n",
       "      <th>date</th>\n",
       "      <th>revenue</th>\n",
       "      <th>orders</th>\n",
       "      <th>daily_orders</th>\n",
       "    </tr>\n",
       "  </thead>\n",
       "  <tbody>\n",
       "    <tr>\n",
       "      <th>0</th>\n",
       "      <td>2019-08-01</td>\n",
       "      <td>142779</td>\n",
       "      <td>23</td>\n",
       "      <td>23.00</td>\n",
       "    </tr>\n",
       "    <tr>\n",
       "      <th>2</th>\n",
       "      <td>2019-08-02</td>\n",
       "      <td>234381</td>\n",
       "      <td>42</td>\n",
       "      <td>21.00</td>\n",
       "    </tr>\n",
       "    <tr>\n",
       "      <th>4</th>\n",
       "      <td>2019-08-03</td>\n",
       "      <td>346854</td>\n",
       "      <td>66</td>\n",
       "      <td>22.00</td>\n",
       "    </tr>\n",
       "    <tr>\n",
       "      <th>6</th>\n",
       "      <td>2019-08-04</td>\n",
       "      <td>388030</td>\n",
       "      <td>77</td>\n",
       "      <td>19.25</td>\n",
       "    </tr>\n",
       "    <tr>\n",
       "      <th>8</th>\n",
       "      <td>2019-08-05</td>\n",
       "      <td>474413</td>\n",
       "      <td>99</td>\n",
       "      <td>19.80</td>\n",
       "    </tr>\n",
       "  </tbody>\n",
       "</table>\n",
       "</div>"
      ],
      "text/plain": [
       "        date  revenue  orders  daily_orders\n",
       "0 2019-08-01   142779      23         23.00\n",
       "2 2019-08-02   234381      42         21.00\n",
       "4 2019-08-03   346854      66         22.00\n",
       "6 2019-08-04   388030      77         19.25\n",
       "8 2019-08-05   474413      99         19.80"
      ]
     },
     "metadata": {},
     "output_type": "display_data"
    }
   ],
   "source": [
    "# Добавим таблицам столбцы 'daily_orders' с кумулятивным средним количеством заказов по группам \n",
    "# Так как тест проводился в рамках одного месяца с 1 по 31-е число в качестве знаменателя в рассчёте кумулятивного среднего\n",
    "# можем использовать число с номером дня месяца\n",
    "\n",
    "cumulativeRevenueA['daily_orders'] = round(cumulativeRevenueA['orders'] / pd.to_datetime(cumulativeRevenueA['date']).dt.day, 2)\n",
    "cumulativeRevenueB['daily_orders'] = round(cumulativeRevenueB['orders'] / pd.to_datetime(cumulativeRevenueB['date']).dt.day, 2)\n",
    "\n",
    "# Убедимся, что столбцы добавлены успешно\n",
    "display(cumulativeRevenueA.head())"
   ]
  },
  {
   "cell_type": "code",
   "execution_count": 28,
   "metadata": {},
   "outputs": [
    {
     "data": {
      "text/html": [
       "<div>\n",
       "<style scoped>\n",
       "    .dataframe tbody tr th:only-of-type {\n",
       "        vertical-align: middle;\n",
       "    }\n",
       "\n",
       "    .dataframe tbody tr th {\n",
       "        vertical-align: top;\n",
       "    }\n",
       "\n",
       "    .dataframe thead th {\n",
       "        text-align: right;\n",
       "    }\n",
       "</style>\n",
       "<table border=\"1\" class=\"dataframe\">\n",
       "  <thead>\n",
       "    <tr style=\"text-align: right;\">\n",
       "      <th></th>\n",
       "      <th>date</th>\n",
       "      <th>revenue</th>\n",
       "      <th>orders</th>\n",
       "      <th>daily_orders</th>\n",
       "    </tr>\n",
       "  </thead>\n",
       "  <tbody>\n",
       "    <tr>\n",
       "      <th>1</th>\n",
       "      <td>2019-08-01</td>\n",
       "      <td>59758</td>\n",
       "      <td>17</td>\n",
       "      <td>17.0</td>\n",
       "    </tr>\n",
       "    <tr>\n",
       "      <th>3</th>\n",
       "      <td>2019-08-02</td>\n",
       "      <td>221801</td>\n",
       "      <td>40</td>\n",
       "      <td>20.0</td>\n",
       "    </tr>\n",
       "    <tr>\n",
       "      <th>5</th>\n",
       "      <td>2019-08-03</td>\n",
       "      <td>288850</td>\n",
       "      <td>54</td>\n",
       "      <td>18.0</td>\n",
       "    </tr>\n",
       "    <tr>\n",
       "      <th>7</th>\n",
       "      <td>2019-08-04</td>\n",
       "      <td>385740</td>\n",
       "      <td>68</td>\n",
       "      <td>17.0</td>\n",
       "    </tr>\n",
       "    <tr>\n",
       "      <th>9</th>\n",
       "      <td>2019-08-05</td>\n",
       "      <td>475648</td>\n",
       "      <td>89</td>\n",
       "      <td>17.8</td>\n",
       "    </tr>\n",
       "  </tbody>\n",
       "</table>\n",
       "</div>"
      ],
      "text/plain": [
       "        date  revenue  orders  daily_orders\n",
       "1 2019-08-01    59758      17          17.0\n",
       "3 2019-08-02   221801      40          20.0\n",
       "5 2019-08-03   288850      54          18.0\n",
       "7 2019-08-04   385740      68          17.0\n",
       "9 2019-08-05   475648      89          17.8"
      ]
     },
     "metadata": {},
     "output_type": "display_data"
    }
   ],
   "source": [
    "display(cumulativeRevenueB.head())"
   ]
  },
  {
   "cell_type": "code",
   "execution_count": 29,
   "metadata": {},
   "outputs": [
    {
     "data": {
      "image/png": "[encoded data removed]",
      "text/plain": [
       "<Figure size 1080x432 with 1 Axes>"
      ]
     },
     "metadata": {
      "needs_background": "light"
     },
     "output_type": "display_data"
    }
   ],
   "source": [
    "plt.figure(figsize=(15, 6))\n",
    "plt.plot(cumulativeRevenueA['date'], cumulativeRevenueA['daily_orders'], label='A')\n",
    "plt.plot(cumulativeRevenueB['date'], cumulativeRevenueB['daily_orders'], label='B')\n",
    "plt.legend()\n",
    "plt.title('Кумулятивное среднее количество заказов по группам')\n",
    "plt.xlabel('Дни')\n",
    "plt.ylabel('Количество заказов')\n",
    "plt.show()"
   ]
  },
  {
   "cell_type": "markdown",
   "metadata": {},
   "source": [
    "На протяжение всего графика мы можем наблюдать, что кумулятивное среднее количество заказов в обеих группах подвержено сильным колебаниям, особенно в первые две недели. Это может говорить о том, что в начале наблюдений во-первых у нас было малое количество данных и любое число заказов вносило свой эффект на координаты изучаемой метрики на графике, то есть мы видим Закон Больших Чисел в действии, и во-вторых — что в группе A по началу действительно заказывали больше, чем в группе B. Примерно после 6 августа среднее кумулятивное число заказов в группе B в среднем стало опережать число заказов в группе A, и примерно через три недели линии графиков стабилизируются."
   ]
  },
  {
   "cell_type": "markdown",
   "metadata": {},
   "source": [
    "# 2.5 График относительного изменения кумулятивного среднего количества заказов группы B к группе A"
   ]
  },
  {
   "cell_type": "code",
   "execution_count": 30,
   "metadata": {},
   "outputs": [
    {
     "data": {
      "text/html": [
       "<div>\n",
       "<style scoped>\n",
       "    .dataframe tbody tr th:only-of-type {\n",
       "        vertical-align: middle;\n",
       "    }\n",
       "\n",
       "    .dataframe tbody tr th {\n",
       "        vertical-align: top;\n",
       "    }\n",
       "\n",
       "    .dataframe thead th {\n",
       "        text-align: right;\n",
       "    }\n",
       "</style>\n",
       "<table border=\"1\" class=\"dataframe\">\n",
       "  <thead>\n",
       "    <tr style=\"text-align: right;\">\n",
       "      <th></th>\n",
       "      <th>date</th>\n",
       "      <th>daily_ordersA</th>\n",
       "      <th>daily_ordersB</th>\n",
       "    </tr>\n",
       "  </thead>\n",
       "  <tbody>\n",
       "    <tr>\n",
       "      <th>0</th>\n",
       "      <td>2019-08-01</td>\n",
       "      <td>23.00</td>\n",
       "      <td>17.0</td>\n",
       "    </tr>\n",
       "    <tr>\n",
       "      <th>1</th>\n",
       "      <td>2019-08-02</td>\n",
       "      <td>21.00</td>\n",
       "      <td>20.0</td>\n",
       "    </tr>\n",
       "    <tr>\n",
       "      <th>2</th>\n",
       "      <td>2019-08-03</td>\n",
       "      <td>22.00</td>\n",
       "      <td>18.0</td>\n",
       "    </tr>\n",
       "    <tr>\n",
       "      <th>3</th>\n",
       "      <td>2019-08-04</td>\n",
       "      <td>19.25</td>\n",
       "      <td>17.0</td>\n",
       "    </tr>\n",
       "    <tr>\n",
       "      <th>4</th>\n",
       "      <td>2019-08-05</td>\n",
       "      <td>19.80</td>\n",
       "      <td>17.8</td>\n",
       "    </tr>\n",
       "  </tbody>\n",
       "</table>\n",
       "</div>"
      ],
      "text/plain": [
       "        date  daily_ordersA  daily_ordersB\n",
       "0 2019-08-01          23.00           17.0\n",
       "1 2019-08-02          21.00           20.0\n",
       "2 2019-08-03          22.00           18.0\n",
       "3 2019-08-04          19.25           17.0\n",
       "4 2019-08-05          19.80           17.8"
      ]
     },
     "metadata": {},
     "output_type": "display_data"
    }
   ],
   "source": [
    "mergedCumulativeAverageOrders = cumulativeRevenueA[['date', 'daily_orders']].merge(cumulativeRevenueB[['date', 'daily_orders']], left_on='date', right_on='date', how='left', suffixes=['A', 'B'])\n",
    "\n",
    "# убедимся, что таблица соответствует ожиданиям\n",
    "display(mergedCumulativeAverageOrders.head())"
   ]
  },
  {
   "cell_type": "code",
   "execution_count": 31,
   "metadata": {},
   "outputs": [
    {
     "data": {
      "image/png": "[encoded data removed]",
      "text/plain": [
       "<Figure size 1080x432 with 1 Axes>"
      ]
     },
     "metadata": {
      "needs_background": "light"
     },
     "output_type": "display_data"
    }
   ],
   "source": [
    "plt.figure(figsize=(15, 6))\n",
    "plt.plot(mergedCumulativeAverageOrders['date'], (mergedCumulativeAverageOrders['daily_ordersB']/mergedCumulativeAverageOrders['daily_ordersA']) - 1)\n",
    "plt.axhline(y=0, color='black', linestyle='--')\n",
    "plt.title('Относительное изменение кумулятивного среднего количества заказов группы B к группе A')\n",
    "plt.xlabel('Дни')\n",
    "plt.ylabel('Коэффициент относительного изменения')\n",
    "plt.show()"
   ]
  },
  {
   "cell_type": "markdown",
   "metadata": {},
   "source": [
    "И действительно, до 6 августа значение кумулятивного среднего количества заказов группы B в основном (кроме одного дня) не превосходило аналогичного значения группы A. Затем в данные, вероятно, ворвалась аномалия и различия стали существенны: мы можем наблюдать резкий рост различий с 6 по 10-е августа и их дальнейшие, менее значительные колебания. Говорить о том, что график относительного изменения кумулятивного среднего количества заказов группы B к группе A стабилизировался, мы не можем."
   ]
  },
  {
   "cell_type": "markdown",
   "metadata": {},
   "source": [
    "# 2.6 Точечный график количества заказов по пользователям"
   ]
  },
  {
   "cell_type": "code",
   "execution_count": 32,
   "metadata": {},
   "outputs": [
    {
     "data": {
      "text/html": [
       "<div>\n",
       "<style scoped>\n",
       "    .dataframe tbody tr th:only-of-type {\n",
       "        vertical-align: middle;\n",
       "    }\n",
       "\n",
       "    .dataframe tbody tr th {\n",
       "        vertical-align: top;\n",
       "    }\n",
       "\n",
       "    .dataframe thead th {\n",
       "        text-align: right;\n",
       "    }\n",
       "</style>\n",
       "<table border=\"1\" class=\"dataframe\">\n",
       "  <thead>\n",
       "    <tr style=\"text-align: right;\">\n",
       "      <th></th>\n",
       "      <th>orderId</th>\n",
       "      <th>userId</th>\n",
       "      <th>date</th>\n",
       "      <th>revenue</th>\n",
       "      <th>group</th>\n",
       "    </tr>\n",
       "  </thead>\n",
       "  <tbody>\n",
       "    <tr>\n",
       "      <th>0</th>\n",
       "      <td>3667963787</td>\n",
       "      <td>3312258926</td>\n",
       "      <td>2019-08-15</td>\n",
       "      <td>1650</td>\n",
       "      <td>B</td>\n",
       "    </tr>\n",
       "    <tr>\n",
       "      <th>1</th>\n",
       "      <td>2804400009</td>\n",
       "      <td>3642806036</td>\n",
       "      <td>2019-08-15</td>\n",
       "      <td>730</td>\n",
       "      <td>B</td>\n",
       "    </tr>\n",
       "    <tr>\n",
       "      <th>3</th>\n",
       "      <td>3797467345</td>\n",
       "      <td>1196621759</td>\n",
       "      <td>2019-08-15</td>\n",
       "      <td>9759</td>\n",
       "      <td>B</td>\n",
       "    </tr>\n",
       "    <tr>\n",
       "      <th>4</th>\n",
       "      <td>2282983706</td>\n",
       "      <td>2322279887</td>\n",
       "      <td>2019-08-15</td>\n",
       "      <td>2308</td>\n",
       "      <td>B</td>\n",
       "    </tr>\n",
       "    <tr>\n",
       "      <th>5</th>\n",
       "      <td>182168103</td>\n",
       "      <td>935554773</td>\n",
       "      <td>2019-08-15</td>\n",
       "      <td>2210</td>\n",
       "      <td>B</td>\n",
       "    </tr>\n",
       "  </tbody>\n",
       "</table>\n",
       "</div>"
      ],
      "text/plain": [
       "      orderId      userId       date  revenue group\n",
       "0  3667963787  3312258926 2019-08-15     1650     B\n",
       "1  2804400009  3642806036 2019-08-15      730     B\n",
       "3  3797467345  1196621759 2019-08-15     9759     B\n",
       "4  2282983706  2322279887 2019-08-15     2308     B\n",
       "5   182168103   935554773 2019-08-15     2210     B"
      ]
     },
     "metadata": {},
     "output_type": "display_data"
    }
   ],
   "source": [
    "# Вернёмся к таблице orders\n",
    "\n",
    "display(orders.head())"
   ]
  },
  {
   "cell_type": "code",
   "execution_count": 33,
   "metadata": {},
   "outputs": [
    {
     "data": {
      "text/html": [
       "<div>\n",
       "<style scoped>\n",
       "    .dataframe tbody tr th:only-of-type {\n",
       "        vertical-align: middle;\n",
       "    }\n",
       "\n",
       "    .dataframe tbody tr th {\n",
       "        vertical-align: top;\n",
       "    }\n",
       "\n",
       "    .dataframe thead th {\n",
       "        text-align: right;\n",
       "    }\n",
       "</style>\n",
       "<table border=\"1\" class=\"dataframe\">\n",
       "  <thead>\n",
       "    <tr style=\"text-align: right;\">\n",
       "      <th></th>\n",
       "      <th>userId</th>\n",
       "      <th>orders</th>\n",
       "    </tr>\n",
       "  </thead>\n",
       "  <tbody>\n",
       "    <tr>\n",
       "      <th>908</th>\n",
       "      <td>3967698036</td>\n",
       "      <td>3</td>\n",
       "    </tr>\n",
       "    <tr>\n",
       "      <th>55</th>\n",
       "      <td>249864742</td>\n",
       "      <td>3</td>\n",
       "    </tr>\n",
       "    <tr>\n",
       "      <th>478</th>\n",
       "      <td>2108163459</td>\n",
       "      <td>3</td>\n",
       "    </tr>\n",
       "    <tr>\n",
       "      <th>687</th>\n",
       "      <td>2988190573</td>\n",
       "      <td>3</td>\n",
       "    </tr>\n",
       "    <tr>\n",
       "      <th>890</th>\n",
       "      <td>3908431265</td>\n",
       "      <td>3</td>\n",
       "    </tr>\n",
       "    <tr>\n",
       "      <th>138</th>\n",
       "      <td>611059232</td>\n",
       "      <td>3</td>\n",
       "    </tr>\n",
       "    <tr>\n",
       "      <th>632</th>\n",
       "      <td>2742574263</td>\n",
       "      <td>3</td>\n",
       "    </tr>\n",
       "    <tr>\n",
       "      <th>157</th>\n",
       "      <td>678354126</td>\n",
       "      <td>2</td>\n",
       "    </tr>\n",
       "    <tr>\n",
       "      <th>323</th>\n",
       "      <td>1404560065</td>\n",
       "      <td>2</td>\n",
       "    </tr>\n",
       "    <tr>\n",
       "      <th>452</th>\n",
       "      <td>1985475298</td>\n",
       "      <td>2</td>\n",
       "    </tr>\n",
       "  </tbody>\n",
       "</table>\n",
       "</div>"
      ],
      "text/plain": [
       "         userId  orders\n",
       "908  3967698036       3\n",
       "55    249864742       3\n",
       "478  2108163459       3\n",
       "687  2988190573       3\n",
       "890  3908431265       3\n",
       "138   611059232       3\n",
       "632  2742574263       3\n",
       "157   678354126       2\n",
       "323  1404560065       2\n",
       "452  1985475298       2"
      ]
     },
     "metadata": {},
     "output_type": "display_data"
    }
   ],
   "source": [
    "# Найдём число заказов по пользователям и сохраним его в датафрейме ordersByUsers\n",
    "ordersByUsers = (\n",
    "    orders.groupby('userId', as_index=False)\n",
    "    .agg({'orderId':'nunique'})\n",
    ")\n",
    "\n",
    "# Переименуем столбцы\n",
    "ordersByUsers.columns=['userId', 'orders']\n",
    "# Посмотрим на первые 10 строк таблицы, отсортированной по убыванию числа заказов\n",
    "display(ordersByUsers.sort_values('orders', ascending=False).head(10))"
   ]
  },
  {
   "cell_type": "code",
   "execution_count": 34,
   "metadata": {},
   "outputs": [
    {
     "data": {
      "image/png": "[encoded data removed]",
      "text/plain": [
       "<Figure size 1080x432 with 1 Axes>"
      ]
     },
     "metadata": {
      "needs_background": "light"
     },
     "output_type": "display_data"
    }
   ],
   "source": [
    "# серия из чисел от 0 до количества наблюдений в ordersByUsers\n",
    "x_values = pd.Series(range(0, len(ordersByUsers)))\n",
    "\n",
    "plt.figure(figsize=(15, 6))\n",
    "plt.scatter(x_values, ordersByUsers['orders'])\n",
    "plt.title('Количество заказов по пользователям')\n",
    "plt.xlabel('Уникальные пользователи')\n",
    "plt.ylabel('Количество заказов')\n",
    "plt.show()"
   ]
  },
  {
   "cell_type": "markdown",
   "metadata": {},
   "source": [
    "Имеем чуть более 1000 пользователей, количество заказов которых редко когда превышает 2-3. То есть пользователи, которые сделали заказ более 3 раз вполне могут быть аномальными. Чтобы окончательно с этим разобраться, необходимо посчитать выборочные перцентили."
   ]
  },
  {
   "cell_type": "markdown",
   "metadata": {},
   "source": [
    "# 2.7 Считаем 95-й и 99-й перцентили количества заказов на пользователя"
   ]
  },
  {
   "cell_type": "code",
   "execution_count": 35,
   "metadata": {},
   "outputs": [
    {
     "name": "stdout",
     "output_type": "stream",
     "text": [
      "[1. 2.]\n"
     ]
    }
   ],
   "source": [
    "print(np.percentile(ordersByUsers['orders'], [95, 99]))"
   ]
  },
  {
   "cell_type": "markdown",
   "metadata": {},
   "source": [
    "Итак, 95-й прецентиль соответствует значению одного заказа, что говорит нам о том, что лишь оставшиеся 5% пользователей совершили большее количество заказов, чем 1. 99-й перцентиль соответствует значению 2. Получается, всего 1% пользователей заказывали более 2 раз. \n",
    "Примем за верхнюю границу числа заказов значение 95-го перцентиля и в дальнейшем отсеим пользователей, которые заказали больше одного раза."
   ]
  },
  {
   "cell_type": "markdown",
   "metadata": {},
   "source": [
    "# 2.8 Точечный график стоимостей заказов"
   ]
  },
  {
   "cell_type": "code",
   "execution_count": 36,
   "metadata": {},
   "outputs": [
    {
     "data": {
      "image/png": "[encoded data removed]",
      "text/plain": [
       "<Figure size 1080x432 with 1 Axes>"
      ]
     },
     "metadata": {
      "needs_background": "light"
     },
     "output_type": "display_data"
    }
   ],
   "source": [
    "plt.figure(figsize=(15, 6))\n",
    "x_values = pd.Series(range(0, len(orders['revenue'])))\n",
    "plt.scatter(x_values, orders['revenue'])\n",
    "plt.title('График стоимостей заказов')\n",
    "plt.xlabel('Уникальные пользователи')\n",
    "plt.ylabel('Стоимость заказа, млн')\n",
    "plt.show()"
   ]
  },
  {
   "cell_type": "markdown",
   "metadata": {},
   "source": [
    "На точечном графике стоимостей заказов можно увидеть, что основное количество заказов имеет стоимость ниже 0.1 от 1е6. Из-за одного крупного выброса в данных оси графика оказались подписаны крайне неудобно, их сложно воспринимать. Скорее всего, это значение соответствует 100 тысячам и это число является одной десятой от числа 1е6, то есть от миллиона. Вглянем на ту же диаграмму рассеяния в другом расширении."
   ]
  },
  {
   "cell_type": "code",
   "execution_count": 37,
   "metadata": {},
   "outputs": [
    {
     "data": {
      "image/png": "[encoded data removed]",
      "text/plain": [
       "<Figure size 1080x432 with 1 Axes>"
      ]
     },
     "metadata": {
      "needs_background": "light"
     },
     "output_type": "display_data"
    }
   ],
   "source": [
    "plt.figure(figsize=(15, 6))\n",
    "x_values = pd.Series(range(0, len(orders['revenue'])))\n",
    "plt.scatter(x_values, orders['revenue'])\n",
    "plt.axis([0, 1200, 0, 100000])\n",
    "plt.title('График стоимостей заказов')\n",
    "plt.xlabel('Уникальные пользователи')\n",
    "plt.ylabel('Стоимость заказа')\n",
    "plt.show()"
   ]
  },
  {
   "cell_type": "markdown",
   "metadata": {},
   "source": [
    "Такой график гораздо удобнее воспринимать и на его основе можно сделать вывод о том, что чаще всего стоимость заказа не превышает 10000, а основное количество всех заказов не выходит за пределы 30-40 тысяч. Проверим, так ли это с помощью перцентилей. "
   ]
  },
  {
   "cell_type": "markdown",
   "metadata": {},
   "source": [
    "# 2.9 Считаем 95-й и 99-й перцентили для стоимости заказа"
   ]
  },
  {
   "cell_type": "code",
   "execution_count": 38,
   "metadata": {},
   "outputs": [
    {
     "name": "stdout",
     "output_type": "stream",
     "text": [
      "[26785. 53904.]\n"
     ]
    }
   ],
   "source": [
    "print(np.percentile(orders['revenue'], [95, 99]))"
   ]
  },
  {
   "cell_type": "markdown",
   "metadata": {},
   "source": [
    "95-й перцентиль соответствует значению в 26785, что говорит о том, что 95 процентов пользователей тратят на один заказ до 26785, а 99-й перцентиль — это 53904. Всего 1% процент пользователей выходит из такого лимита в стоимости заказа. Будем считать выбросами значения, превышающие 95-й перцентиль, возьмём за верхнюю границу стоимость заказа в 26785."
   ]
  },
  {
   "cell_type": "markdown",
   "metadata": {},
   "source": [
    "# 2.10 Статистическая значимость различий в среднем количестве заказов между группами по «сырым» данным."
   ]
  },
  {
   "cell_type": "markdown",
   "metadata": {},
   "source": [
    "Пришло время сформулировать гипотезы: Нулевая: различий в среднем количестве заказов между группами A и B нет. Альтернативная: различия в среднем между группами A и B есть.\n",
    "Начнём с подготовки данных."
   ]
  },
  {
   "cell_type": "code",
   "execution_count": 39,
   "metadata": {},
   "outputs": [
    {
     "data": {
      "text/html": [
       "<div>\n",
       "<style scoped>\n",
       "    .dataframe tbody tr th:only-of-type {\n",
       "        vertical-align: middle;\n",
       "    }\n",
       "\n",
       "    .dataframe tbody tr th {\n",
       "        vertical-align: top;\n",
       "    }\n",
       "\n",
       "    .dataframe thead th {\n",
       "        text-align: right;\n",
       "    }\n",
       "</style>\n",
       "<table border=\"1\" class=\"dataframe\">\n",
       "  <thead>\n",
       "    <tr style=\"text-align: right;\">\n",
       "      <th></th>\n",
       "      <th>date</th>\n",
       "      <th>ordersPerDateA</th>\n",
       "      <th>revenuePerDateA</th>\n",
       "      <th>ordersPerDateB</th>\n",
       "      <th>revenuePerDateB</th>\n",
       "      <th>ordersCummulativeA</th>\n",
       "      <th>revenueCummulativeA</th>\n",
       "      <th>ordersCummulativeB</th>\n",
       "      <th>revenueCummulativeB</th>\n",
       "      <th>visitorsPerDateA</th>\n",
       "      <th>visitorsPerDateB</th>\n",
       "      <th>visitorsCummulativeA</th>\n",
       "      <th>visitorsCummulativeB</th>\n",
       "    </tr>\n",
       "  </thead>\n",
       "  <tbody>\n",
       "    <tr>\n",
       "      <th>0</th>\n",
       "      <td>2019-08-01</td>\n",
       "      <td>23</td>\n",
       "      <td>142779</td>\n",
       "      <td>17</td>\n",
       "      <td>59758</td>\n",
       "      <td>23</td>\n",
       "      <td>142779</td>\n",
       "      <td>17</td>\n",
       "      <td>59758</td>\n",
       "      <td>719</td>\n",
       "      <td>713</td>\n",
       "      <td>719</td>\n",
       "      <td>713</td>\n",
       "    </tr>\n",
       "    <tr>\n",
       "      <th>1</th>\n",
       "      <td>2019-08-02</td>\n",
       "      <td>19</td>\n",
       "      <td>91602</td>\n",
       "      <td>23</td>\n",
       "      <td>162043</td>\n",
       "      <td>42</td>\n",
       "      <td>234381</td>\n",
       "      <td>40</td>\n",
       "      <td>221801</td>\n",
       "      <td>619</td>\n",
       "      <td>581</td>\n",
       "      <td>1338</td>\n",
       "      <td>1294</td>\n",
       "    </tr>\n",
       "    <tr>\n",
       "      <th>2</th>\n",
       "      <td>2019-08-03</td>\n",
       "      <td>24</td>\n",
       "      <td>112473</td>\n",
       "      <td>14</td>\n",
       "      <td>67049</td>\n",
       "      <td>66</td>\n",
       "      <td>346854</td>\n",
       "      <td>54</td>\n",
       "      <td>288850</td>\n",
       "      <td>507</td>\n",
       "      <td>509</td>\n",
       "      <td>1845</td>\n",
       "      <td>1803</td>\n",
       "    </tr>\n",
       "    <tr>\n",
       "      <th>3</th>\n",
       "      <td>2019-08-04</td>\n",
       "      <td>11</td>\n",
       "      <td>41176</td>\n",
       "      <td>14</td>\n",
       "      <td>96890</td>\n",
       "      <td>77</td>\n",
       "      <td>388030</td>\n",
       "      <td>68</td>\n",
       "      <td>385740</td>\n",
       "      <td>717</td>\n",
       "      <td>770</td>\n",
       "      <td>2562</td>\n",
       "      <td>2573</td>\n",
       "    </tr>\n",
       "    <tr>\n",
       "      <th>4</th>\n",
       "      <td>2019-08-05</td>\n",
       "      <td>22</td>\n",
       "      <td>86383</td>\n",
       "      <td>21</td>\n",
       "      <td>89908</td>\n",
       "      <td>99</td>\n",
       "      <td>474413</td>\n",
       "      <td>89</td>\n",
       "      <td>475648</td>\n",
       "      <td>756</td>\n",
       "      <td>707</td>\n",
       "      <td>3318</td>\n",
       "      <td>3280</td>\n",
       "    </tr>\n",
       "  </tbody>\n",
       "</table>\n",
       "</div>"
      ],
      "text/plain": [
       "        date  ordersPerDateA  revenuePerDateA  ordersPerDateB  \\\n",
       "0 2019-08-01              23           142779              17   \n",
       "1 2019-08-02              19            91602              23   \n",
       "2 2019-08-03              24           112473              14   \n",
       "3 2019-08-04              11            41176              14   \n",
       "4 2019-08-05              22            86383              21   \n",
       "\n",
       "   revenuePerDateB  ordersCummulativeA  revenueCummulativeA  \\\n",
       "0            59758                  23               142779   \n",
       "1           162043                  42               234381   \n",
       "2            67049                  66               346854   \n",
       "3            96890                  77               388030   \n",
       "4            89908                  99               474413   \n",
       "\n",
       "   ordersCummulativeB  revenueCummulativeB  visitorsPerDateA  \\\n",
       "0                  17                59758               719   \n",
       "1                  40               221801               619   \n",
       "2                  54               288850               507   \n",
       "3                  68               385740               717   \n",
       "4                  89               475648               756   \n",
       "\n",
       "   visitorsPerDateB  visitorsCummulativeA  visitorsCummulativeB  \n",
       "0               713                   719                   713  \n",
       "1               581                  1338                  1294  \n",
       "2               509                  1845                  1803  \n",
       "3               770                  2562                  2573  \n",
       "4               707                  3318                  3280  "
      ]
     },
     "metadata": {},
     "output_type": "display_data"
    }
   ],
   "source": [
    "visitorsADaily = visitors[visitors['group'] == 'A'][['date', 'visitors']]\n",
    "visitorsADaily.columns = ['date', 'visitorsPerDateA']\n",
    "\n",
    "visitorsACummulative = visitorsADaily.apply(\n",
    "    lambda x: visitorsADaily[visitorsADaily['date'] <= x['date']].agg(\n",
    "        {'date': 'max', 'visitorsPerDateA': 'sum'}\n",
    "    ),\n",
    "    axis=1,\n",
    ")\n",
    "visitorsACummulative.columns = ['date', 'visitorsCummulativeA']\n",
    "\n",
    "visitorsBDaily = visitors[visitors['group'] == 'B'][['date', 'visitors']]\n",
    "visitorsBDaily.columns = ['date', 'visitorsPerDateB']\n",
    "\n",
    "visitorsBCummulative = visitorsBDaily.apply(\n",
    "    lambda x: visitorsBDaily[visitorsBDaily['date'] <= x['date']].agg(\n",
    "        {'date': 'max', 'visitorsPerDateB': 'sum'}\n",
    "    ),\n",
    "    axis=1,\n",
    ")\n",
    "visitorsBCummulative.columns = ['date', 'visitorsCummulativeB']\n",
    "\n",
    "ordersADaily = (\n",
    "    orders[orders['group'] == 'A'][['date', 'orderId', 'userId', 'revenue']]\n",
    "    .groupby('date', as_index=False)\n",
    "    .agg({'orderId': pd.Series.nunique, 'revenue': 'sum'})\n",
    ")\n",
    "ordersADaily.columns = ['date', 'ordersPerDateA', 'revenuePerDateA']\n",
    "\n",
    "ordersACummulative = ordersADaily.apply(\n",
    "    lambda x: ordersADaily[ordersADaily['date'] <= x['date']].agg(\n",
    "        {'date': 'max', 'ordersPerDateA': 'sum', 'revenuePerDateA': 'sum'}\n",
    "    ),\n",
    "    axis=1,\n",
    ").sort_values(by=['date'])\n",
    "ordersACummulative.columns = [\n",
    "    'date',\n",
    "    'ordersCummulativeA',\n",
    "    'revenueCummulativeA',\n",
    "]\n",
    "\n",
    "ordersBDaily = (\n",
    "    orders[orders['group'] == 'B'][['date', 'orderId', 'userId', 'revenue']]\n",
    "    .groupby('date', as_index=False)\n",
    "    .agg({'orderId': pd.Series.nunique, 'revenue': 'sum'})\n",
    ")\n",
    "ordersBDaily.columns = ['date', 'ordersPerDateB', 'revenuePerDateB']\n",
    "\n",
    "ordersBCummulative = ordersBDaily.apply(\n",
    "    lambda x: ordersBDaily[ordersBDaily['date'] <= x['date']].agg(\n",
    "        {'date': 'max', 'ordersPerDateB': 'sum', 'revenuePerDateB': 'sum'}\n",
    "    ),\n",
    "    axis=1,\n",
    ").sort_values(by=['date'])\n",
    "ordersBCummulative.columns = [\n",
    "    'date',\n",
    "    'ordersCummulativeB',\n",
    "    'revenueCummulativeB',\n",
    "]\n",
    "\n",
    "# в таблице data соединим данные из таблиц ordersADaily, ordersBDaily, ordersACummulative, ordersBCummulative,\n",
    "# visitorsADaily, visitorsBDaily, visitorsACummulative и visitorsBCummulative\n",
    "\n",
    "data = (\n",
    "    ordersADaily.merge(\n",
    "        ordersBDaily, left_on='date', right_on='date', how='left'\n",
    "    )\n",
    "    .merge(ordersACummulative, left_on='date', right_on='date', how='left')\n",
    "    .merge(ordersBCummulative, left_on='date', right_on='date', how='left')\n",
    "    .merge(visitorsADaily, left_on='date', right_on='date', how='left')\n",
    "    .merge(visitorsBDaily, left_on='date', right_on='date', how='left')\n",
    "    .merge(visitorsACummulative, left_on='date', right_on='date', how='left')\n",
    "    .merge(visitorsBCummulative, left_on='date', right_on='date', how='left')\n",
    ")\n",
    "\n",
    "# У нас получилась довольно большая таблица с приличным количеством столбцов. Ознакомимся с ней:\n",
    "display(data.head(5))"
   ]
  },
  {
   "cell_type": "markdown",
   "metadata": {},
   "source": [
    "Создадим переменные ordersByUsersA и ordersByUsersB со столбцами 'userId' и 'orders', где для пользователей, совершивших хотя бы 1 заказ, будет указано число заказов, а ещё создадим переменные sampleA и sampleB, в которых пользователям с заказами будет соответствовать число заказов пользователя. А пользователям без заказов — нули."
   ]
  },
  {
   "cell_type": "code",
   "execution_count": 40,
   "metadata": {},
   "outputs": [],
   "source": [
    "ordersByUsersA = (\n",
    "    orders[orders['group'] == 'A']\n",
    "    .groupby('userId', as_index=False)\n",
    "    .agg({'orderId': pd.Series.nunique})\n",
    ")\n",
    "ordersByUsersA.columns = ['userId', 'orders']\n",
    "\n",
    "ordersByUsersB = (\n",
    "    orders[orders['group'] == 'B']\n",
    "    .groupby('userId', as_index=False)\n",
    "    .agg({'orderId': pd.Series.nunique})\n",
    ")\n",
    "ordersByUsersB.columns = ['userId', 'orders']"
   ]
  },
  {
   "cell_type": "code",
   "execution_count": 41,
   "metadata": {},
   "outputs": [],
   "source": [
    "sampleA = pd.concat(\n",
    "    [\n",
    "        ordersByUsersA['orders'],\n",
    "        pd.Series(\n",
    "            0,\n",
    "            index=np.arange(\n",
    "                data['visitorsPerDateA'].sum() - len(ordersByUsersA['orders'])\n",
    "            ),\n",
    "            name='orders',\n",
    "        ),\n",
    "    ],\n",
    "    axis=0,\n",
    ")\n",
    "sampleB = pd.concat(\n",
    "    [\n",
    "        ordersByUsersB['orders'],\n",
    "        pd.Series(\n",
    "            0,\n",
    "            index=np.arange(\n",
    "                data['visitorsPerDateB'].sum() - len(ordersByUsersB['orders'])\n",
    "            ),\n",
    "            name='orders',\n",
    "        ),\n",
    "    ],\n",
    "    axis=0,\n",
    ")"
   ]
  },
  {
   "cell_type": "code",
   "execution_count": 42,
   "metadata": {},
   "outputs": [
    {
     "name": "stdout",
     "output_type": "stream",
     "text": [
      "p-value для сравнения среднего количества заказов между группами: 0.01102\n"
     ]
    }
   ],
   "source": [
    "print(\"p-value для сравнения среднего количества заказов между группами: {0:.5f}\".format(stats.mannwhitneyu(sampleA, sampleB)[1]))"
   ]
  },
  {
   "cell_type": "code",
   "execution_count": 43,
   "metadata": {},
   "outputs": [
    {
     "name": "stdout",
     "output_type": "stream",
     "text": [
      "Относительное различие в среднем между группами: 0.160\n"
     ]
    }
   ],
   "source": [
    "print(\n",
    "    \"Относительное различие в среднем между группами: {0:.3f}\".format(\n",
    "        (data['ordersPerDateB'].sum() / data['visitorsPerDateB'].sum())\n",
    "        / (data['ordersPerDateA'].sum() / data['visitorsPerDateA'].sum())\n",
    "        - 1\n",
    "    )\n",
    ")"
   ]
  },
  {
   "cell_type": "markdown",
   "metadata": {},
   "source": [
    " Мы вынуждены отвергнуть нулевую гипотезу, потому как p-value значительно меньше 0.05, то есть на основе анализа «сырых данных» мы смело можем утверждать, что в среднем количестве заказов между группами есть статистически значимые различия. А относительный прирост среднего группы B к конверсии группы A равен 16 %"
   ]
  },
  {
   "cell_type": "markdown",
   "metadata": {},
   "source": [
    "# 2.11 Статистическая значимость различия средних чеков между группами"
   ]
  },
  {
   "cell_type": "code",
   "execution_count": 44,
   "metadata": {},
   "outputs": [
    {
     "name": "stdout",
     "output_type": "stream",
     "text": [
      "p-value для сравнения средних чеков между группами: 0.829\n"
     ]
    }
   ],
   "source": [
    "print(\n",
    "    \"p-value для сравнения средних чеков между группами: {0:.3f}\".format(\n",
    "        stats.mannwhitneyu(\n",
    "            orders[orders['group'] == 'A']['revenue'],\n",
    "            orders[orders['group'] == 'B']['revenue'],\n",
    "        )[1]\n",
    "    )\n",
    ")"
   ]
  },
  {
   "cell_type": "code",
   "execution_count": 45,
   "metadata": {},
   "outputs": [
    {
     "name": "stdout",
     "output_type": "stream",
     "text": [
      "Относительный прирост среднего чека группы B: 0.287\n"
     ]
    }
   ],
   "source": [
    "print(\n",
    "    \"Относительный прирост среднего чека группы B: {0:.3f}\".format(\n",
    "        orders[orders['group'] == 'B']['revenue'].mean()\n",
    "        / orders[orders['group'] == 'A']['revenue'].mean()\n",
    "        - 1\n",
    "    )\n",
    ")"
   ]
  },
  {
   "cell_type": "markdown",
   "metadata": {},
   "source": [
    " p-value больше 0.05 — статистически значимых различий в среднем чеке между группами нет. Наблюдаемое различие в 28,7 % не является статистически значимым. Имеет смысл перейти к анализу аномалий для того, чтобы сделать окончательные выводы."
   ]
  },
  {
   "cell_type": "markdown",
   "metadata": {},
   "source": [
    "# 2.12 Статистическая значимость различий в среднем количестве заказов между группами по «очищенным» данным. "
   ]
  },
  {
   "cell_type": "markdown",
   "metadata": {},
   "source": [
    "Перейдём к подготовке очищенных от аномалий данных.\n",
    "\n",
    "Вспомним, что 95-й и 99-й перцентили средних чеков равны 26785 и 53904. А 95-й и 99-й перцентили числа заказов на одного пользователя равны 1 и 2 заказам на пользователя, соответственно.\n",
    "\n",
    "Примем за аномальных пользователей тех, кто совершил 2 заказа и более, или совершил заказ на сумму свыше 26785. Так мы сможем убрать 5% пользователей с наибольшим числом заказов и от 5% заказов с наибольшей стоимостью.\n",
    "Удалять будем именно пользователей — сначала определим аномальные заказы. Затем пользователей, совершивших их, и добавим их в список аномальных.\n",
    "Сделаем срезы пользователей с числом заказов больше 1 — usersWithManyOrders и пользователей, совершивших заказы дороже 26785 — usersWithExpensiveOrders. Объединим их в таблице abnormalUsers, удалим дубликаты и отсортируем по возрастанию. Звучит как план."
   ]
  },
  {
   "cell_type": "code",
   "execution_count": 46,
   "metadata": {},
   "outputs": [],
   "source": [
    "usersWithManyOrders = pd.concat(\n",
    "    [\n",
    "        ordersByUsersA[ordersByUsersA['orders'] > 1]['userId'],\n",
    "        ordersByUsersB[ordersByUsersB['orders'] > 1]['userId'],\n",
    "    ],\n",
    "    axis=0,\n",
    ")\n",
    "usersWithExpensiveOrders = orders[orders['revenue'] > 26785]['userId']\n",
    "abnormalUsers = (\n",
    "    pd.concat([usersWithManyOrders, usersWithExpensiveOrders], axis=0)\n",
    "    .drop_duplicates()\n",
    "    .sort_values()\n",
    ")"
   ]
  },
  {
   "cell_type": "code",
   "execution_count": 47,
   "metadata": {},
   "outputs": [
    {
     "data": {
      "text/plain": [
       "568     113298937\n",
       "1099    148427295\n",
       "928     204675465\n",
       "33      249864742\n",
       "684     358944393\n",
       "36      366673373\n",
       "648     382846391\n",
       "51      406208401\n",
       "67      522292794\n",
       "58      611059232\n",
       "Name: userId, dtype: int64"
      ]
     },
     "metadata": {},
     "output_type": "display_data"
    }
   ],
   "source": [
    "# Проверим, что таблица abnormalUsers соответствует ожиданиям\n",
    "display(abnormalUsers.head(10))"
   ]
  },
  {
   "cell_type": "markdown",
   "metadata": {},
   "source": [
    "В переменной abnormalUsers содержатся аномальные пользователи. Удалим их и посчитаем статистическую значимость и проверим, есть ли существенные различия между группами с очищенными данными. Для того, чтобы посчитать статистическую значимость различия среднего количества заказов после удаления аномальных пользователей, создадим переменные sampleAFiltered и sampleBFiltered, в которых сохраним  очищенные данные о заказах — не включая аномальных пользователей."
   ]
  },
  {
   "cell_type": "code",
   "execution_count": 48,
   "metadata": {},
   "outputs": [],
   "source": [
    "sampleAFiltered = pd.concat(\n",
    "    [\n",
    "        ordersByUsersA[\n",
    "            np.logical_not(ordersByUsersA['userId'].isin(abnormalUsers))\n",
    "        ]['orders'],\n",
    "        pd.Series(\n",
    "            0,\n",
    "            index=np.arange(\n",
    "                data['visitorsPerDateA'].sum() - len(ordersByUsersA['orders'])\n",
    "            ),\n",
    "            name='orders',\n",
    "        ),\n",
    "    ],\n",
    "    axis=0,\n",
    ")\n",
    "\n",
    "sampleBFiltered = pd.concat(\n",
    "    [\n",
    "        ordersByUsersB[\n",
    "            np.logical_not(ordersByUsersB['userId'].isin(abnormalUsers))\n",
    "        ]['orders'],\n",
    "        pd.Series(\n",
    "            0,\n",
    "            index=np.arange(\n",
    "                data['visitorsPerDateB'].sum() - len(ordersByUsersB['orders'])\n",
    "            ),\n",
    "            name='orders',\n",
    "        ),\n",
    "    ],\n",
    "    axis=0,\n",
    ")"
   ]
  },
  {
   "cell_type": "code",
   "execution_count": 49,
   "metadata": {},
   "outputs": [
    {
     "name": "stdout",
     "output_type": "stream",
     "text": [
      " p-value сравнения среднего между очищенными группами: 0.01593\n"
     ]
    }
   ],
   "source": [
    "print(\n",
    "    ' p-value сравнения среднего между очищенными группами: {0:.5f}'.format(stats.mannwhitneyu(sampleAFiltered, sampleBFiltered)[1])\n",
    ")"
   ]
  },
  {
   "cell_type": "code",
   "execution_count": 50,
   "metadata": {},
   "outputs": [
    {
     "name": "stdout",
     "output_type": "stream",
     "text": [
      "Относительный прирост среднего очищенной группы B: 0.174\n"
     ]
    }
   ],
   "source": [
    "print('Относительный прирост среднего очищенной группы B: {0:.3f}'.format(sampleBFiltered.mean() / sampleAFiltered.mean() - 1))"
   ]
  },
  {
   "cell_type": "markdown",
   "metadata": {},
   "source": [
    "Как и в случае с «сырыми» данными, мы вынуждены отвергнуть нулевую гипотезу, потому как p-value значительно меньше 0.05, то есть на основе анализа «очищенных» данных мы смело можем утверждать, что в среднем количестве заказов между группами есть статистически значимые различия. А относительный прирост среднего группы B к конверсии группы A равен 17,4 %, что ещё раз подтверждает то, что сегмент B значительно лучше сегмента A."
   ]
  },
  {
   "cell_type": "markdown",
   "metadata": {},
   "source": [
    "# 2.13 Статистическая значимость различий в среднем чеке заказа между группами по «очищенным» данным."
   ]
  },
  {
   "cell_type": "code",
   "execution_count": 51,
   "metadata": {},
   "outputs": [
    {
     "name": "stdout",
     "output_type": "stream",
     "text": [
      "p-value для сравнения средних чеков между очищенными группами: 0.727\n"
     ]
    }
   ],
   "source": [
    "print(\n",
    "    'p-value для сравнения средних чеков между очищенными группами: {0:.3f}'.format(\n",
    "        stats.mannwhitneyu(\n",
    "            orders[\n",
    "                np.logical_and(\n",
    "                    orders['group'] == 'A',\n",
    "                    np.logical_not(orders['userId'].isin(abnormalUsers)),\n",
    "                )\n",
    "            ]['revenue'],\n",
    "            orders[\n",
    "                np.logical_and(\n",
    "                    orders['group'] == 'B',\n",
    "                    np.logical_not(orders['userId'].isin(abnormalUsers)),\n",
    "                )\n",
    "            ]['revenue'],\n",
    "        )[1]\n",
    "    )\n",
    ")\n"
   ]
  },
  {
   "cell_type": "code",
   "execution_count": 52,
   "metadata": {},
   "outputs": [
    {
     "name": "stdout",
     "output_type": "stream",
     "text": [
      "Относительный прирост среднего чека очищенной группы B: -0.034\n"
     ]
    }
   ],
   "source": [
    "print(\n",
    "    'Относительный прирост среднего чека очищенной группы B: {0:.3f}'.format(\n",
    "        orders[\n",
    "            np.logical_and(\n",
    "                orders['group'] == 'B',\n",
    "                np.logical_not(orders['userId'].isin(abnormalUsers)),\n",
    "            )\n",
    "        ]['revenue'].mean()\n",
    "        / orders[\n",
    "            np.logical_and(\n",
    "                orders['group'] == 'A',\n",
    "                np.logical_not(orders['userId'].isin(abnormalUsers)),\n",
    "            )\n",
    "        ]['revenue'].mean()\n",
    "        - 1\n",
    "    )\n",
    ")"
   ]
  },
  {
   "cell_type": "markdown",
   "metadata": {},
   "source": [
    "Как и в случае с сырыми данными, p-value больше 0.05 — отклонить нулевую гипотезу и признать статистически значимые различий в среднем чеке между группами мы не можем. Относительное различие среднего чека между сегментами стало отрицательным и теперь составляет -3%, то есть здесь мы говорим не об относительном приросте, а об относительной убыли в 3 процента среднего чека очищенной группы B."
   ]
  },
  {
   "cell_type": "markdown",
   "metadata": {},
   "source": [
    "# 2.14 Принимаем решение по результатам теста"
   ]
  },
  {
   "cell_type": "markdown",
   "metadata": {},
   "source": [
    "Выводы по результатам A/B-теста: \n",
    "    \n",
    "- Статистически значимые различия в среднем количестве заказов между группами как по «сырым», так и по «очищенным» данным достигнуты. После фильтрации аномалий относительные различия между группами в количестве заказов выросли с показателя 16% до 17.3%\n",
    "\n",
    "- И по «сырым» и по «очищенным» данным нет статистически значимого различия по среднему чеку между группами. Фильтрация аномалий лишь усилила показатель p-value. \n",
    "\n",
    "- Если по «сырым» данным мы считали, что относительный прирост среднего чека группы B составляет 28.7%, то по очищенным данным этот показатель принял отрицательное значение, то есть мы получили относительную убыль в 3 процента среднего чека группы B относительно группы A."
   ]
  },
  {
   "cell_type": "markdown",
   "metadata": {},
   "source": [
    "Принимаем решение остановить тест, признаём его успешным и переходим к проверке следующей гипотезы."
   ]
  }
 ],
 "metadata": {
  "ExecuteTimeLog": [
   {
    "duration": 860,
    "start_time": "2022-11-16T09:47:14.304Z"
   },
   {
    "duration": 3,
    "start_time": "2022-11-16T09:49:27.202Z"
   },
   {
    "duration": 75,
    "start_time": "2022-11-16T09:50:30.780Z"
   },
   {
    "duration": 73,
    "start_time": "2022-11-16T09:50:38.953Z"
   },
   {
    "duration": 5,
    "start_time": "2022-11-16T09:52:05.740Z"
   },
   {
    "duration": 8,
    "start_time": "2022-11-16T09:58:23.438Z"
   },
   {
    "duration": 80,
    "start_time": "2022-11-16T09:58:46.334Z"
   },
   {
    "duration": 8,
    "start_time": "2022-11-16T09:59:00.888Z"
   },
   {
    "duration": 4,
    "start_time": "2022-11-16T09:59:31.328Z"
   },
   {
    "duration": 7,
    "start_time": "2022-11-16T09:59:32.893Z"
   },
   {
    "duration": 6,
    "start_time": "2022-11-16T10:01:16.665Z"
   },
   {
    "duration": 9,
    "start_time": "2022-11-16T10:01:35.811Z"
   },
   {
    "duration": 126,
    "start_time": "2022-11-16T10:20:16.927Z"
   },
   {
    "duration": 8,
    "start_time": "2022-11-16T10:20:59.706Z"
   },
   {
    "duration": 8,
    "start_time": "2022-11-16T10:21:32.538Z"
   },
   {
    "duration": 12,
    "start_time": "2022-11-16T10:21:53.075Z"
   },
   {
    "duration": 14,
    "start_time": "2022-11-16T10:22:12.357Z"
   },
   {
    "duration": 11,
    "start_time": "2022-11-16T10:22:58.665Z"
   },
   {
    "duration": 14,
    "start_time": "2022-11-16T10:25:08.479Z"
   },
   {
    "duration": 10,
    "start_time": "2022-11-16T10:25:20.935Z"
   },
   {
    "duration": 4,
    "start_time": "2022-11-16T10:28:02.871Z"
   },
   {
    "duration": 12,
    "start_time": "2022-11-16T10:28:10.762Z"
   },
   {
    "duration": 7,
    "start_time": "2022-11-16T10:28:34.573Z"
   },
   {
    "duration": 12,
    "start_time": "2022-11-16T10:28:56.518Z"
   },
   {
    "duration": 7,
    "start_time": "2022-11-16T10:29:02.579Z"
   },
   {
    "duration": 6,
    "start_time": "2022-11-16T10:29:29.532Z"
   },
   {
    "duration": 6,
    "start_time": "2022-11-16T10:41:37.731Z"
   },
   {
    "duration": 190,
    "start_time": "2022-11-16T10:41:51.589Z"
   },
   {
    "duration": 129,
    "start_time": "2022-11-16T10:42:03.007Z"
   },
   {
    "duration": 8,
    "start_time": "2022-11-16T10:47:28.513Z"
   },
   {
    "duration": 9,
    "start_time": "2022-11-16T10:47:42.083Z"
   },
   {
    "duration": 7,
    "start_time": "2022-11-16T10:52:06.356Z"
   },
   {
    "duration": 267,
    "start_time": "2022-11-16T10:52:16.279Z"
   },
   {
    "duration": 167,
    "start_time": "2022-11-16T10:52:37.110Z"
   },
   {
    "duration": 211,
    "start_time": "2022-11-16T10:53:25.113Z"
   },
   {
    "duration": 256,
    "start_time": "2022-11-16T11:00:59.568Z"
   },
   {
    "duration": 651,
    "start_time": "2022-11-16T11:01:24.312Z"
   },
   {
    "duration": 30,
    "start_time": "2022-11-16T11:01:24.965Z"
   },
   {
    "duration": 7,
    "start_time": "2022-11-16T11:01:24.997Z"
   },
   {
    "duration": 35,
    "start_time": "2022-11-16T11:01:25.005Z"
   },
   {
    "duration": 37,
    "start_time": "2022-11-16T11:01:25.043Z"
   },
   {
    "duration": 26,
    "start_time": "2022-11-16T11:01:25.082Z"
   },
   {
    "duration": 56,
    "start_time": "2022-11-16T11:01:25.109Z"
   },
   {
    "duration": 7,
    "start_time": "2022-11-16T11:01:25.167Z"
   },
   {
    "duration": 32,
    "start_time": "2022-11-16T11:01:25.175Z"
   },
   {
    "duration": 39,
    "start_time": "2022-11-16T11:01:25.209Z"
   },
   {
    "duration": 36,
    "start_time": "2022-11-16T11:01:25.250Z"
   },
   {
    "duration": 46,
    "start_time": "2022-11-16T11:01:25.288Z"
   },
   {
    "duration": 20,
    "start_time": "2022-11-16T11:01:25.335Z"
   },
   {
    "duration": 30,
    "start_time": "2022-11-16T11:01:25.357Z"
   },
   {
    "duration": 31,
    "start_time": "2022-11-16T11:01:25.388Z"
   },
   {
    "duration": 28,
    "start_time": "2022-11-16T11:01:25.420Z"
   },
   {
    "duration": 178,
    "start_time": "2022-11-16T11:01:25.450Z"
   },
   {
    "duration": 133,
    "start_time": "2022-11-16T11:01:25.629Z"
   },
   {
    "duration": 7,
    "start_time": "2022-11-16T11:01:25.764Z"
   },
   {
    "duration": 43,
    "start_time": "2022-11-16T11:01:25.773Z"
   },
   {
    "duration": 43,
    "start_time": "2022-11-16T11:01:25.818Z"
   },
   {
    "duration": 316,
    "start_time": "2022-11-16T11:01:25.864Z"
   },
   {
    "duration": 227,
    "start_time": "2022-11-16T11:01:26.182Z"
   },
   {
    "duration": 280,
    "start_time": "2022-11-16T11:09:50.726Z"
   },
   {
    "duration": 349,
    "start_time": "2022-11-16T11:10:09.387Z"
   },
   {
    "duration": 691,
    "start_time": "2022-11-16T12:18:51.108Z"
   },
   {
    "duration": 36,
    "start_time": "2022-11-16T12:18:51.801Z"
   },
   {
    "duration": 5,
    "start_time": "2022-11-16T12:18:51.839Z"
   },
   {
    "duration": 11,
    "start_time": "2022-11-16T12:18:51.847Z"
   },
   {
    "duration": 9,
    "start_time": "2022-11-16T12:18:51.860Z"
   },
   {
    "duration": 10,
    "start_time": "2022-11-16T12:18:51.871Z"
   },
   {
    "duration": 49,
    "start_time": "2022-11-16T12:18:51.882Z"
   },
   {
    "duration": 8,
    "start_time": "2022-11-16T12:18:51.932Z"
   },
   {
    "duration": 9,
    "start_time": "2022-11-16T12:18:51.942Z"
   },
   {
    "duration": 18,
    "start_time": "2022-11-16T12:18:51.954Z"
   },
   {
    "duration": 15,
    "start_time": "2022-11-16T12:18:51.974Z"
   },
   {
    "duration": 19,
    "start_time": "2022-11-16T12:18:51.991Z"
   },
   {
    "duration": 10,
    "start_time": "2022-11-16T12:18:52.012Z"
   },
   {
    "duration": 18,
    "start_time": "2022-11-16T12:18:52.024Z"
   },
   {
    "duration": 14,
    "start_time": "2022-11-16T12:18:52.044Z"
   },
   {
    "duration": 11,
    "start_time": "2022-11-16T12:18:52.060Z"
   },
   {
    "duration": 165,
    "start_time": "2022-11-16T12:18:52.072Z"
   },
   {
    "duration": 132,
    "start_time": "2022-11-16T12:18:52.239Z"
   },
   {
    "duration": 7,
    "start_time": "2022-11-16T12:18:52.373Z"
   },
   {
    "duration": 11,
    "start_time": "2022-11-16T12:18:52.381Z"
   },
   {
    "duration": 9,
    "start_time": "2022-11-16T12:18:52.394Z"
   },
   {
    "duration": 296,
    "start_time": "2022-11-16T12:18:52.405Z"
   },
   {
    "duration": 220,
    "start_time": "2022-11-16T12:18:52.703Z"
   },
   {
    "duration": 316,
    "start_time": "2022-11-16T12:18:52.925Z"
   },
   {
    "duration": 269,
    "start_time": "2022-11-16T12:18:53.243Z"
   },
   {
    "duration": 198,
    "start_time": "2022-11-16T12:22:28.373Z"
   },
   {
    "duration": 628,
    "start_time": "2022-11-16T12:31:04.773Z"
   },
   {
    "duration": 32,
    "start_time": "2022-11-16T12:31:05.403Z"
   },
   {
    "duration": 6,
    "start_time": "2022-11-16T12:31:05.437Z"
   },
   {
    "duration": 29,
    "start_time": "2022-11-16T12:31:05.445Z"
   },
   {
    "duration": 38,
    "start_time": "2022-11-16T12:31:05.475Z"
   },
   {
    "duration": 31,
    "start_time": "2022-11-16T12:31:05.515Z"
   },
   {
    "duration": 62,
    "start_time": "2022-11-16T12:31:05.548Z"
   },
   {
    "duration": 9,
    "start_time": "2022-11-16T12:31:05.612Z"
   },
   {
    "duration": 261,
    "start_time": "2022-11-16T12:31:05.622Z"
   },
   {
    "duration": 30,
    "start_time": "2022-11-16T12:31:05.887Z"
   },
   {
    "duration": 42,
    "start_time": "2022-11-16T12:31:05.918Z"
   },
   {
    "duration": 58,
    "start_time": "2022-11-16T12:31:05.962Z"
   },
   {
    "duration": 52,
    "start_time": "2022-11-16T12:31:06.022Z"
   },
   {
    "duration": 53,
    "start_time": "2022-11-16T12:31:06.076Z"
   },
   {
    "duration": 38,
    "start_time": "2022-11-16T12:31:06.131Z"
   },
   {
    "duration": 33,
    "start_time": "2022-11-16T12:31:06.170Z"
   },
   {
    "duration": 189,
    "start_time": "2022-11-16T12:31:06.205Z"
   },
   {
    "duration": 140,
    "start_time": "2022-11-16T12:31:06.396Z"
   },
   {
    "duration": 7,
    "start_time": "2022-11-16T12:31:06.538Z"
   },
   {
    "duration": 38,
    "start_time": "2022-11-16T12:31:06.546Z"
   },
   {
    "duration": 40,
    "start_time": "2022-11-16T12:31:06.586Z"
   },
   {
    "duration": 307,
    "start_time": "2022-11-16T12:31:06.628Z"
   },
   {
    "duration": 208,
    "start_time": "2022-11-16T12:31:06.937Z"
   },
   {
    "duration": 293,
    "start_time": "2022-11-16T12:31:07.147Z"
   },
   {
    "duration": 6,
    "start_time": "2022-11-16T12:31:07.442Z"
   },
   {
    "duration": 284,
    "start_time": "2022-11-16T12:31:07.450Z"
   },
   {
    "duration": 5,
    "start_time": "2022-11-16T12:31:23.442Z"
   },
   {
    "duration": 204,
    "start_time": "2022-11-16T12:31:25.033Z"
   },
   {
    "duration": 11,
    "start_time": "2022-11-16T12:31:43.928Z"
   },
   {
    "duration": 12,
    "start_time": "2022-11-16T12:32:31.282Z"
   },
   {
    "duration": 9,
    "start_time": "2022-11-16T12:33:12.849Z"
   },
   {
    "duration": 75,
    "start_time": "2022-11-16T12:33:22.954Z"
   },
   {
    "duration": 13,
    "start_time": "2022-11-16T12:33:30.109Z"
   },
   {
    "duration": 12,
    "start_time": "2022-11-16T12:33:39.598Z"
   },
   {
    "duration": 659,
    "start_time": "2022-11-16T12:34:49.972Z"
   },
   {
    "duration": 34,
    "start_time": "2022-11-16T12:34:50.633Z"
   },
   {
    "duration": 6,
    "start_time": "2022-11-16T12:34:50.669Z"
   },
   {
    "duration": 12,
    "start_time": "2022-11-16T12:34:50.676Z"
   },
   {
    "duration": 12,
    "start_time": "2022-11-16T12:34:50.690Z"
   },
   {
    "duration": 13,
    "start_time": "2022-11-16T12:34:50.703Z"
   },
   {
    "duration": 58,
    "start_time": "2022-11-16T12:34:50.718Z"
   },
   {
    "duration": 8,
    "start_time": "2022-11-16T12:34:50.778Z"
   },
   {
    "duration": 11,
    "start_time": "2022-11-16T12:34:50.788Z"
   },
   {
    "duration": 16,
    "start_time": "2022-11-16T12:34:50.800Z"
   },
   {
    "duration": 16,
    "start_time": "2022-11-16T12:34:50.818Z"
   },
   {
    "duration": 23,
    "start_time": "2022-11-16T12:34:50.836Z"
   },
   {
    "duration": 8,
    "start_time": "2022-11-16T12:34:50.861Z"
   },
   {
    "duration": 21,
    "start_time": "2022-11-16T12:34:50.872Z"
   },
   {
    "duration": 15,
    "start_time": "2022-11-16T12:34:50.895Z"
   },
   {
    "duration": 16,
    "start_time": "2022-11-16T12:34:50.912Z"
   },
   {
    "duration": 181,
    "start_time": "2022-11-16T12:34:50.930Z"
   },
   {
    "duration": 142,
    "start_time": "2022-11-16T12:34:51.113Z"
   },
   {
    "duration": 7,
    "start_time": "2022-11-16T12:34:51.257Z"
   },
   {
    "duration": 12,
    "start_time": "2022-11-16T12:34:51.266Z"
   },
   {
    "duration": 13,
    "start_time": "2022-11-16T12:34:51.280Z"
   },
   {
    "duration": 324,
    "start_time": "2022-11-16T12:34:51.295Z"
   },
   {
    "duration": 229,
    "start_time": "2022-11-16T12:34:51.623Z"
   },
   {
    "duration": 306,
    "start_time": "2022-11-16T12:34:51.854Z"
   },
   {
    "duration": 13,
    "start_time": "2022-11-16T12:34:52.162Z"
   },
   {
    "duration": 287,
    "start_time": "2022-11-16T12:34:52.177Z"
   },
   {
    "duration": 15,
    "start_time": "2022-11-16T12:35:19.031Z"
   },
   {
    "duration": 74,
    "start_time": "2022-11-16T12:57:17.310Z"
   },
   {
    "duration": 11,
    "start_time": "2022-11-16T12:58:02.136Z"
   },
   {
    "duration": 12,
    "start_time": "2022-11-16T12:58:48.486Z"
   },
   {
    "duration": 11,
    "start_time": "2022-11-16T12:59:09.071Z"
   },
   {
    "duration": 709,
    "start_time": "2022-11-16T12:59:23.821Z"
   },
   {
    "duration": 32,
    "start_time": "2022-11-16T12:59:24.532Z"
   },
   {
    "duration": 5,
    "start_time": "2022-11-16T12:59:24.566Z"
   },
   {
    "duration": 13,
    "start_time": "2022-11-16T12:59:24.573Z"
   },
   {
    "duration": 7,
    "start_time": "2022-11-16T12:59:24.588Z"
   },
   {
    "duration": 10,
    "start_time": "2022-11-16T12:59:24.597Z"
   },
   {
    "duration": 54,
    "start_time": "2022-11-16T12:59:24.608Z"
   },
   {
    "duration": 8,
    "start_time": "2022-11-16T12:59:24.664Z"
   },
   {
    "duration": 10,
    "start_time": "2022-11-16T12:59:24.673Z"
   },
   {
    "duration": 15,
    "start_time": "2022-11-16T12:59:24.686Z"
   },
   {
    "duration": 12,
    "start_time": "2022-11-16T12:59:24.702Z"
   },
   {
    "duration": 25,
    "start_time": "2022-11-16T12:59:24.716Z"
   },
   {
    "duration": 12,
    "start_time": "2022-11-16T12:59:24.743Z"
   },
   {
    "duration": 13,
    "start_time": "2022-11-16T12:59:24.757Z"
   },
   {
    "duration": 6,
    "start_time": "2022-11-16T12:59:24.772Z"
   },
   {
    "duration": 17,
    "start_time": "2022-11-16T12:59:24.780Z"
   },
   {
    "duration": 235,
    "start_time": "2022-11-16T12:59:24.799Z"
   },
   {
    "duration": 140,
    "start_time": "2022-11-16T12:59:25.036Z"
   },
   {
    "duration": 8,
    "start_time": "2022-11-16T12:59:25.177Z"
   },
   {
    "duration": 13,
    "start_time": "2022-11-16T12:59:25.186Z"
   },
   {
    "duration": 23,
    "start_time": "2022-11-16T12:59:25.201Z"
   },
   {
    "duration": 289,
    "start_time": "2022-11-16T12:59:25.227Z"
   },
   {
    "duration": 207,
    "start_time": "2022-11-16T12:59:25.517Z"
   },
   {
    "duration": 324,
    "start_time": "2022-11-16T12:59:25.725Z"
   },
   {
    "duration": 11,
    "start_time": "2022-11-16T12:59:26.051Z"
   },
   {
    "duration": 1435,
    "start_time": "2022-11-16T12:59:26.064Z"
   },
   {
    "duration": 6,
    "start_time": "2022-11-16T12:59:57.920Z"
   },
   {
    "duration": 6,
    "start_time": "2022-11-16T13:00:06.965Z"
   },
   {
    "duration": 11,
    "start_time": "2022-11-16T13:00:44.706Z"
   },
   {
    "duration": 6,
    "start_time": "2022-11-16T13:01:16.595Z"
   },
   {
    "duration": 10,
    "start_time": "2022-11-16T13:01:24.760Z"
   },
   {
    "duration": 6,
    "start_time": "2022-11-16T13:01:35.263Z"
   },
   {
    "duration": 9,
    "start_time": "2022-11-16T13:02:03.822Z"
   },
   {
    "duration": 8,
    "start_time": "2022-11-16T13:02:26.835Z"
   },
   {
    "duration": 6,
    "start_time": "2022-11-16T13:03:19.942Z"
   },
   {
    "duration": 12,
    "start_time": "2022-11-16T13:04:04.822Z"
   },
   {
    "duration": 9,
    "start_time": "2022-11-16T13:06:02.174Z"
   },
   {
    "duration": 13,
    "start_time": "2022-11-16T13:06:19.179Z"
   },
   {
    "duration": 12,
    "start_time": "2022-11-16T13:07:26.208Z"
   },
   {
    "duration": 9,
    "start_time": "2022-11-16T13:09:49.498Z"
   },
   {
    "duration": 3,
    "start_time": "2022-11-16T13:09:56.310Z"
   },
   {
    "duration": 39,
    "start_time": "2022-11-16T13:09:56.315Z"
   },
   {
    "duration": 7,
    "start_time": "2022-11-16T13:09:56.356Z"
   },
   {
    "duration": 13,
    "start_time": "2022-11-16T13:09:56.365Z"
   },
   {
    "duration": 7,
    "start_time": "2022-11-16T13:09:56.380Z"
   },
   {
    "duration": 12,
    "start_time": "2022-11-16T13:09:56.389Z"
   },
   {
    "duration": 50,
    "start_time": "2022-11-16T13:09:56.403Z"
   },
   {
    "duration": 12,
    "start_time": "2022-11-16T13:09:56.455Z"
   },
   {
    "duration": 13,
    "start_time": "2022-11-16T13:09:56.469Z"
   },
   {
    "duration": 17,
    "start_time": "2022-11-16T13:09:56.484Z"
   },
   {
    "duration": 12,
    "start_time": "2022-11-16T13:09:56.505Z"
   },
   {
    "duration": 37,
    "start_time": "2022-11-16T13:09:56.522Z"
   },
   {
    "duration": 10,
    "start_time": "2022-11-16T13:09:56.561Z"
   },
   {
    "duration": 11,
    "start_time": "2022-11-16T13:09:56.573Z"
   },
   {
    "duration": 19,
    "start_time": "2022-11-16T13:09:56.585Z"
   },
   {
    "duration": 16,
    "start_time": "2022-11-16T13:09:56.605Z"
   },
   {
    "duration": 170,
    "start_time": "2022-11-16T13:09:56.622Z"
   },
   {
    "duration": 140,
    "start_time": "2022-11-16T13:09:56.794Z"
   },
   {
    "duration": 7,
    "start_time": "2022-11-16T13:09:56.935Z"
   },
   {
    "duration": 13,
    "start_time": "2022-11-16T13:09:56.944Z"
   },
   {
    "duration": 11,
    "start_time": "2022-11-16T13:09:56.958Z"
   },
   {
    "duration": 260,
    "start_time": "2022-11-16T13:09:56.971Z"
   },
   {
    "duration": 221,
    "start_time": "2022-11-16T13:09:57.233Z"
   },
   {
    "duration": 322,
    "start_time": "2022-11-16T13:09:57.456Z"
   },
   {
    "duration": 13,
    "start_time": "2022-11-16T13:09:57.779Z"
   },
   {
    "duration": 1315,
    "start_time": "2022-11-16T13:09:57.794Z"
   },
   {
    "duration": 9,
    "start_time": "2022-11-16T13:10:55.232Z"
   },
   {
    "duration": 9,
    "start_time": "2022-11-16T13:11:29.960Z"
   },
   {
    "duration": 11,
    "start_time": "2022-11-16T13:18:38.737Z"
   },
   {
    "duration": 10,
    "start_time": "2022-11-16T13:18:47.450Z"
   },
   {
    "duration": 11,
    "start_time": "2022-11-16T13:19:46.114Z"
   },
   {
    "duration": 12,
    "start_time": "2022-11-16T13:20:24.509Z"
   },
   {
    "duration": 665,
    "start_time": "2022-11-16T13:22:07.299Z"
   },
   {
    "duration": 32,
    "start_time": "2022-11-16T13:22:07.966Z"
   },
   {
    "duration": 6,
    "start_time": "2022-11-16T13:22:07.999Z"
   },
   {
    "duration": 11,
    "start_time": "2022-11-16T13:22:08.007Z"
   },
   {
    "duration": 7,
    "start_time": "2022-11-16T13:22:08.021Z"
   },
   {
    "duration": 10,
    "start_time": "2022-11-16T13:22:08.030Z"
   },
   {
    "duration": 47,
    "start_time": "2022-11-16T13:22:08.042Z"
   },
   {
    "duration": 8,
    "start_time": "2022-11-16T13:22:08.091Z"
   },
   {
    "duration": 16,
    "start_time": "2022-11-16T13:22:08.101Z"
   },
   {
    "duration": 13,
    "start_time": "2022-11-16T13:22:08.119Z"
   },
   {
    "duration": 13,
    "start_time": "2022-11-16T13:22:08.134Z"
   },
   {
    "duration": 16,
    "start_time": "2022-11-16T13:22:08.149Z"
   },
   {
    "duration": 10,
    "start_time": "2022-11-16T13:22:08.167Z"
   },
   {
    "duration": 9,
    "start_time": "2022-11-16T13:22:08.179Z"
   },
   {
    "duration": 9,
    "start_time": "2022-11-16T13:22:08.189Z"
   },
   {
    "duration": 23,
    "start_time": "2022-11-16T13:22:08.199Z"
   },
   {
    "duration": 178,
    "start_time": "2022-11-16T13:22:08.224Z"
   },
   {
    "duration": 132,
    "start_time": "2022-11-16T13:22:08.404Z"
   },
   {
    "duration": 7,
    "start_time": "2022-11-16T13:22:08.537Z"
   },
   {
    "duration": 16,
    "start_time": "2022-11-16T13:22:08.546Z"
   },
   {
    "duration": 10,
    "start_time": "2022-11-16T13:22:08.564Z"
   },
   {
    "duration": 309,
    "start_time": "2022-11-16T13:22:08.576Z"
   },
   {
    "duration": 220,
    "start_time": "2022-11-16T13:22:08.886Z"
   },
   {
    "duration": 324,
    "start_time": "2022-11-16T13:22:09.107Z"
   },
   {
    "duration": 13,
    "start_time": "2022-11-16T13:22:09.432Z"
   },
   {
    "duration": 1463,
    "start_time": "2022-11-16T13:22:09.446Z"
   },
   {
    "duration": 10,
    "start_time": "2022-11-16T13:22:25.406Z"
   },
   {
    "duration": 12,
    "start_time": "2022-11-16T13:22:54.547Z"
   },
   {
    "duration": 12,
    "start_time": "2022-11-16T13:23:02.188Z"
   },
   {
    "duration": 651,
    "start_time": "2022-11-16T13:23:44.175Z"
   },
   {
    "duration": 34,
    "start_time": "2022-11-16T13:23:44.828Z"
   },
   {
    "duration": 7,
    "start_time": "2022-11-16T13:23:44.864Z"
   },
   {
    "duration": 10,
    "start_time": "2022-11-16T13:23:44.873Z"
   },
   {
    "duration": 15,
    "start_time": "2022-11-16T13:23:44.884Z"
   },
   {
    "duration": 13,
    "start_time": "2022-11-16T13:23:44.900Z"
   },
   {
    "duration": 62,
    "start_time": "2022-11-16T13:23:44.915Z"
   },
   {
    "duration": 9,
    "start_time": "2022-11-16T13:23:44.979Z"
   },
   {
    "duration": 14,
    "start_time": "2022-11-16T13:23:44.990Z"
   },
   {
    "duration": 50,
    "start_time": "2022-11-16T13:23:45.007Z"
   },
   {
    "duration": 12,
    "start_time": "2022-11-16T13:23:45.059Z"
   },
   {
    "duration": 23,
    "start_time": "2022-11-16T13:23:45.072Z"
   },
   {
    "duration": 10,
    "start_time": "2022-11-16T13:23:45.097Z"
   },
   {
    "duration": 12,
    "start_time": "2022-11-16T13:23:45.110Z"
   },
   {
    "duration": 7,
    "start_time": "2022-11-16T13:23:45.124Z"
   },
   {
    "duration": 11,
    "start_time": "2022-11-16T13:23:45.132Z"
   },
   {
    "duration": 172,
    "start_time": "2022-11-16T13:23:45.145Z"
   },
   {
    "duration": 126,
    "start_time": "2022-11-16T13:23:45.323Z"
   },
   {
    "duration": 7,
    "start_time": "2022-11-16T13:23:45.450Z"
   },
   {
    "duration": 14,
    "start_time": "2022-11-16T13:23:45.459Z"
   },
   {
    "duration": 16,
    "start_time": "2022-11-16T13:23:45.475Z"
   },
   {
    "duration": 286,
    "start_time": "2022-11-16T13:23:45.493Z"
   },
   {
    "duration": 234,
    "start_time": "2022-11-16T13:23:45.781Z"
   },
   {
    "duration": 310,
    "start_time": "2022-11-16T13:23:46.017Z"
   },
   {
    "duration": 13,
    "start_time": "2022-11-16T13:23:46.328Z"
   },
   {
    "duration": 13,
    "start_time": "2022-11-16T13:23:46.343Z"
   },
   {
    "duration": 288,
    "start_time": "2022-11-16T13:23:46.358Z"
   },
   {
    "duration": 19,
    "start_time": "2022-11-16T13:40:42.276Z"
   },
   {
    "duration": 18,
    "start_time": "2022-11-16T13:41:59.996Z"
   },
   {
    "duration": 17,
    "start_time": "2022-11-16T13:42:36.609Z"
   },
   {
    "duration": 14,
    "start_time": "2022-11-16T13:43:09.581Z"
   },
   {
    "duration": 1247,
    "start_time": "2022-11-16T13:44:46.117Z"
   },
   {
    "duration": 299,
    "start_time": "2022-11-16T13:45:11.397Z"
   },
   {
    "duration": 702,
    "start_time": "2022-11-16T13:51:13.560Z"
   },
   {
    "duration": 36,
    "start_time": "2022-11-16T13:51:14.264Z"
   },
   {
    "duration": 7,
    "start_time": "2022-11-16T13:51:14.302Z"
   },
   {
    "duration": 16,
    "start_time": "2022-11-16T13:51:14.311Z"
   },
   {
    "duration": 28,
    "start_time": "2022-11-16T13:51:14.330Z"
   },
   {
    "duration": 21,
    "start_time": "2022-11-16T13:51:14.360Z"
   },
   {
    "duration": 50,
    "start_time": "2022-11-16T13:51:14.382Z"
   },
   {
    "duration": 8,
    "start_time": "2022-11-16T13:51:14.434Z"
   },
   {
    "duration": 13,
    "start_time": "2022-11-16T13:51:14.444Z"
   },
   {
    "duration": 17,
    "start_time": "2022-11-16T13:51:14.459Z"
   },
   {
    "duration": 13,
    "start_time": "2022-11-16T13:51:14.478Z"
   },
   {
    "duration": 24,
    "start_time": "2022-11-16T13:51:14.493Z"
   },
   {
    "duration": 10,
    "start_time": "2022-11-16T13:51:14.519Z"
   },
   {
    "duration": 12,
    "start_time": "2022-11-16T13:51:14.531Z"
   },
   {
    "duration": 8,
    "start_time": "2022-11-16T13:51:14.545Z"
   },
   {
    "duration": 7,
    "start_time": "2022-11-16T13:51:14.555Z"
   },
   {
    "duration": 179,
    "start_time": "2022-11-16T13:51:14.564Z"
   },
   {
    "duration": 131,
    "start_time": "2022-11-16T13:51:14.745Z"
   },
   {
    "duration": 7,
    "start_time": "2022-11-16T13:51:14.878Z"
   },
   {
    "duration": 16,
    "start_time": "2022-11-16T13:51:14.887Z"
   },
   {
    "duration": 17,
    "start_time": "2022-11-16T13:51:14.905Z"
   },
   {
    "duration": 304,
    "start_time": "2022-11-16T13:51:14.924Z"
   },
   {
    "duration": 209,
    "start_time": "2022-11-16T13:51:15.230Z"
   },
   {
    "duration": 324,
    "start_time": "2022-11-16T13:51:15.441Z"
   },
   {
    "duration": 14,
    "start_time": "2022-11-16T13:51:15.767Z"
   },
   {
    "duration": 36,
    "start_time": "2022-11-16T13:51:15.783Z"
   },
   {
    "duration": 317,
    "start_time": "2022-11-16T13:51:15.821Z"
   },
   {
    "duration": 17,
    "start_time": "2022-11-16T13:51:16.140Z"
   },
   {
    "duration": 294,
    "start_time": "2022-11-16T13:51:16.159Z"
   },
   {
    "duration": 10,
    "start_time": "2022-11-16T14:16:48.187Z"
   },
   {
    "duration": 12,
    "start_time": "2022-11-16T14:18:25.712Z"
   },
   {
    "duration": 12,
    "start_time": "2022-11-16T14:19:16.939Z"
   },
   {
    "duration": 13,
    "start_time": "2022-11-16T14:19:40.997Z"
   },
   {
    "duration": 124,
    "start_time": "2022-11-16T14:20:29.917Z"
   },
   {
    "duration": 137,
    "start_time": "2022-11-16T14:20:56.535Z"
   },
   {
    "duration": 11,
    "start_time": "2022-11-16T14:22:10.631Z"
   },
   {
    "duration": 70,
    "start_time": "2022-11-16T14:22:39.445Z"
   },
   {
    "duration": 12,
    "start_time": "2022-11-16T14:22:46.644Z"
   },
   {
    "duration": 134,
    "start_time": "2022-11-16T14:23:02.098Z"
   },
   {
    "duration": 5,
    "start_time": "2022-11-16T14:27:41.678Z"
   },
   {
    "duration": 151,
    "start_time": "2022-11-16T14:33:49.081Z"
   },
   {
    "duration": 157,
    "start_time": "2022-11-16T14:34:03.536Z"
   },
   {
    "duration": 170,
    "start_time": "2022-11-16T14:34:44.547Z"
   },
   {
    "duration": 168,
    "start_time": "2022-11-16T14:34:49.554Z"
   },
   {
    "duration": 143,
    "start_time": "2022-11-16T14:39:06.092Z"
   },
   {
    "duration": 160,
    "start_time": "2022-11-16T14:39:18.436Z"
   },
   {
    "duration": 637,
    "start_time": "2022-11-16T14:40:56.745Z"
   },
   {
    "duration": 34,
    "start_time": "2022-11-16T14:40:57.384Z"
   },
   {
    "duration": 6,
    "start_time": "2022-11-16T14:40:57.420Z"
   },
   {
    "duration": 11,
    "start_time": "2022-11-16T14:40:57.428Z"
   },
   {
    "duration": 13,
    "start_time": "2022-11-16T14:40:57.441Z"
   },
   {
    "duration": 15,
    "start_time": "2022-11-16T14:40:57.456Z"
   },
   {
    "duration": 56,
    "start_time": "2022-11-16T14:40:57.473Z"
   },
   {
    "duration": 8,
    "start_time": "2022-11-16T14:40:57.530Z"
   },
   {
    "duration": 11,
    "start_time": "2022-11-16T14:40:57.540Z"
   },
   {
    "duration": 13,
    "start_time": "2022-11-16T14:40:57.554Z"
   },
   {
    "duration": 16,
    "start_time": "2022-11-16T14:40:57.569Z"
   },
   {
    "duration": 26,
    "start_time": "2022-11-16T14:40:57.587Z"
   },
   {
    "duration": 8,
    "start_time": "2022-11-16T14:40:57.616Z"
   },
   {
    "duration": 11,
    "start_time": "2022-11-16T14:40:57.625Z"
   },
   {
    "duration": 7,
    "start_time": "2022-11-16T14:40:57.637Z"
   },
   {
    "duration": 9,
    "start_time": "2022-11-16T14:40:57.645Z"
   },
   {
    "duration": 181,
    "start_time": "2022-11-16T14:40:57.655Z"
   },
   {
    "duration": 134,
    "start_time": "2022-11-16T14:40:57.838Z"
   },
   {
    "duration": 7,
    "start_time": "2022-11-16T14:40:57.973Z"
   },
   {
    "duration": 18,
    "start_time": "2022-11-16T14:40:57.982Z"
   },
   {
    "duration": 21,
    "start_time": "2022-11-16T14:40:58.001Z"
   },
   {
    "duration": 286,
    "start_time": "2022-11-16T14:40:58.024Z"
   },
   {
    "duration": 206,
    "start_time": "2022-11-16T14:40:58.311Z"
   },
   {
    "duration": 315,
    "start_time": "2022-11-16T14:40:58.523Z"
   },
   {
    "duration": 12,
    "start_time": "2022-11-16T14:40:58.840Z"
   },
   {
    "duration": 11,
    "start_time": "2022-11-16T14:40:58.854Z"
   },
   {
    "duration": 292,
    "start_time": "2022-11-16T14:40:58.867Z"
   },
   {
    "duration": 15,
    "start_time": "2022-11-16T14:40:59.163Z"
   },
   {
    "duration": 343,
    "start_time": "2022-11-16T14:40:59.181Z"
   },
   {
    "duration": 10,
    "start_time": "2022-11-16T14:40:59.526Z"
   },
   {
    "duration": 14,
    "start_time": "2022-11-16T14:40:59.538Z"
   },
   {
    "duration": 150,
    "start_time": "2022-11-16T14:40:59.554Z"
   },
   {
    "duration": 5,
    "start_time": "2022-11-16T14:40:59.705Z"
   },
   {
    "duration": 167,
    "start_time": "2022-11-16T14:40:59.723Z"
   },
   {
    "duration": 162,
    "start_time": "2022-11-16T14:40:59.891Z"
   },
   {
    "duration": 4,
    "start_time": "2022-11-16T14:43:48.292Z"
   },
   {
    "duration": 228,
    "start_time": "2022-11-16T14:49:47.175Z"
   },
   {
    "duration": 284,
    "start_time": "2022-11-16T14:51:58.189Z"
   },
   {
    "duration": 156,
    "start_time": "2022-11-16T14:53:29.984Z"
   },
   {
    "duration": 7,
    "start_time": "2022-11-16T14:53:45.983Z"
   },
   {
    "duration": 7,
    "start_time": "2022-11-16T14:54:04.391Z"
   },
   {
    "duration": 8,
    "start_time": "2022-11-16T14:54:06.383Z"
   },
   {
    "duration": 9,
    "start_time": "2022-11-16T14:55:56.705Z"
   },
   {
    "duration": 138,
    "start_time": "2022-11-16T14:58:37.578Z"
   },
   {
    "duration": 7,
    "start_time": "2022-11-16T14:58:39.078Z"
   },
   {
    "duration": 70,
    "start_time": "2022-11-16T15:01:41.147Z"
   },
   {
    "duration": 1227,
    "start_time": "2022-11-16T15:02:03.297Z"
   },
   {
    "duration": 34,
    "start_time": "2022-11-16T15:02:04.526Z"
   },
   {
    "duration": 5,
    "start_time": "2022-11-16T15:02:04.562Z"
   },
   {
    "duration": 11,
    "start_time": "2022-11-16T15:02:04.569Z"
   },
   {
    "duration": 11,
    "start_time": "2022-11-16T15:02:04.582Z"
   },
   {
    "duration": 11,
    "start_time": "2022-11-16T15:02:04.594Z"
   },
   {
    "duration": 47,
    "start_time": "2022-11-16T15:02:04.607Z"
   },
   {
    "duration": 8,
    "start_time": "2022-11-16T15:02:04.656Z"
   },
   {
    "duration": 9,
    "start_time": "2022-11-16T15:02:04.666Z"
   },
   {
    "duration": 15,
    "start_time": "2022-11-16T15:02:04.677Z"
   },
   {
    "duration": 16,
    "start_time": "2022-11-16T15:02:04.693Z"
   },
   {
    "duration": 27,
    "start_time": "2022-11-16T15:02:04.711Z"
   },
   {
    "duration": 14,
    "start_time": "2022-11-16T15:02:04.741Z"
   },
   {
    "duration": 8,
    "start_time": "2022-11-16T15:02:04.758Z"
   },
   {
    "duration": 10,
    "start_time": "2022-11-16T15:02:04.768Z"
   },
   {
    "duration": 12,
    "start_time": "2022-11-16T15:02:04.779Z"
   },
   {
    "duration": 178,
    "start_time": "2022-11-16T15:02:04.793Z"
   },
   {
    "duration": 139,
    "start_time": "2022-11-16T15:02:04.973Z"
   },
   {
    "duration": 7,
    "start_time": "2022-11-16T15:02:05.122Z"
   },
   {
    "duration": 13,
    "start_time": "2022-11-16T15:02:05.131Z"
   },
   {
    "duration": 13,
    "start_time": "2022-11-16T15:02:05.146Z"
   },
   {
    "duration": 301,
    "start_time": "2022-11-16T15:02:05.160Z"
   },
   {
    "duration": 213,
    "start_time": "2022-11-16T15:02:05.464Z"
   },
   {
    "duration": 316,
    "start_time": "2022-11-16T15:02:05.680Z"
   },
   {
    "duration": 15,
    "start_time": "2022-11-16T15:02:05.998Z"
   },
   {
    "duration": 9,
    "start_time": "2022-11-16T15:02:06.023Z"
   },
   {
    "duration": 218,
    "start_time": "2022-11-16T15:02:06.033Z"
   },
   {
    "duration": 15,
    "start_time": "2022-11-16T15:02:06.252Z"
   },
   {
    "duration": 276,
    "start_time": "2022-11-16T15:02:06.268Z"
   },
   {
    "duration": 9,
    "start_time": "2022-11-16T15:02:06.546Z"
   },
   {
    "duration": 14,
    "start_time": "2022-11-16T15:02:06.557Z"
   },
   {
    "duration": 159,
    "start_time": "2022-11-16T15:02:06.572Z"
   },
   {
    "duration": 5,
    "start_time": "2022-11-16T15:02:06.733Z"
   },
   {
    "duration": 172,
    "start_time": "2022-11-16T15:02:06.740Z"
   },
   {
    "duration": 161,
    "start_time": "2022-11-16T15:02:06.914Z"
   },
   {
    "duration": 5,
    "start_time": "2022-11-16T15:02:07.076Z"
   },
   {
    "duration": 252,
    "start_time": "2022-11-16T15:02:07.082Z"
   },
   {
    "duration": 170,
    "start_time": "2022-11-16T15:02:07.336Z"
   },
   {
    "duration": 18,
    "start_time": "2022-11-16T15:02:07.507Z"
   },
   {
    "duration": 23,
    "start_time": "2022-11-16T15:02:07.527Z"
   },
   {
    "duration": 21,
    "start_time": "2022-11-16T15:03:00.584Z"
   },
   {
    "duration": 31,
    "start_time": "2022-11-16T15:03:22.345Z"
   },
   {
    "duration": 5,
    "start_time": "2022-11-16T15:03:48.250Z"
   },
   {
    "duration": 4,
    "start_time": "2022-11-16T15:04:05.885Z"
   },
   {
    "duration": 8,
    "start_time": "2022-11-16T15:09:49.285Z"
   },
   {
    "duration": 7,
    "start_time": "2022-11-16T15:09:51.134Z"
   },
   {
    "duration": 9,
    "start_time": "2022-11-16T15:10:29.698Z"
   },
   {
    "duration": 7,
    "start_time": "2022-11-16T15:11:18.515Z"
   },
   {
    "duration": 8,
    "start_time": "2022-11-16T15:21:17.335Z"
   },
   {
    "duration": 4,
    "start_time": "2022-11-16T15:21:53.814Z"
   },
   {
    "duration": 5,
    "start_time": "2022-11-16T15:22:19.814Z"
   },
   {
    "duration": 9,
    "start_time": "2022-11-16T15:57:37.598Z"
   },
   {
    "duration": 21,
    "start_time": "2022-11-16T15:58:09.692Z"
   },
   {
    "duration": 4,
    "start_time": "2022-11-16T15:58:38.193Z"
   },
   {
    "duration": 4,
    "start_time": "2022-11-16T15:58:44.577Z"
   },
   {
    "duration": 10,
    "start_time": "2022-11-16T16:04:07.095Z"
   },
   {
    "duration": 8,
    "start_time": "2022-11-16T16:04:09.183Z"
   },
   {
    "duration": 10,
    "start_time": "2022-11-16T16:06:30.048Z"
   },
   {
    "duration": 1169,
    "start_time": "2022-11-16T16:22:11.886Z"
   },
   {
    "duration": 32,
    "start_time": "2022-11-16T16:22:13.057Z"
   },
   {
    "duration": 7,
    "start_time": "2022-11-16T16:22:13.091Z"
   },
   {
    "duration": 14,
    "start_time": "2022-11-16T16:22:13.099Z"
   },
   {
    "duration": 7,
    "start_time": "2022-11-16T16:22:13.116Z"
   },
   {
    "duration": 20,
    "start_time": "2022-11-16T16:22:13.125Z"
   },
   {
    "duration": 46,
    "start_time": "2022-11-16T16:22:13.147Z"
   },
   {
    "duration": 9,
    "start_time": "2022-11-16T16:22:13.195Z"
   },
   {
    "duration": 14,
    "start_time": "2022-11-16T16:22:13.206Z"
   },
   {
    "duration": 18,
    "start_time": "2022-11-16T16:22:13.222Z"
   },
   {
    "duration": 23,
    "start_time": "2022-11-16T16:22:13.242Z"
   },
   {
    "duration": 22,
    "start_time": "2022-11-16T16:22:13.267Z"
   },
   {
    "duration": 10,
    "start_time": "2022-11-16T16:22:13.291Z"
   },
   {
    "duration": 12,
    "start_time": "2022-11-16T16:22:13.304Z"
   },
   {
    "duration": 7,
    "start_time": "2022-11-16T16:22:13.318Z"
   },
   {
    "duration": 14,
    "start_time": "2022-11-16T16:22:13.327Z"
   },
   {
    "duration": 190,
    "start_time": "2022-11-16T16:22:13.343Z"
   },
   {
    "duration": 140,
    "start_time": "2022-11-16T16:22:13.535Z"
   },
   {
    "duration": 6,
    "start_time": "2022-11-16T16:22:13.677Z"
   },
   {
    "duration": 14,
    "start_time": "2022-11-16T16:22:13.685Z"
   },
   {
    "duration": 6,
    "start_time": "2022-11-16T16:22:13.702Z"
   },
   {
    "duration": 311,
    "start_time": "2022-11-16T16:22:13.721Z"
   },
   {
    "duration": 399,
    "start_time": "2022-11-16T16:22:14.035Z"
   },
   {
    "duration": 308,
    "start_time": "2022-11-16T16:22:14.435Z"
   },
   {
    "duration": 15,
    "start_time": "2022-11-16T16:22:14.745Z"
   },
   {
    "duration": 14,
    "start_time": "2022-11-16T16:22:14.761Z"
   },
   {
    "duration": 214,
    "start_time": "2022-11-16T16:22:14.777Z"
   },
   {
    "duration": 14,
    "start_time": "2022-11-16T16:22:14.993Z"
   },
   {
    "duration": 333,
    "start_time": "2022-11-16T16:22:15.008Z"
   },
   {
    "duration": 12,
    "start_time": "2022-11-16T16:22:15.343Z"
   },
   {
    "duration": 28,
    "start_time": "2022-11-16T16:22:15.357Z"
   },
   {
    "duration": 156,
    "start_time": "2022-11-16T16:22:15.387Z"
   },
   {
    "duration": 6,
    "start_time": "2022-11-16T16:22:15.545Z"
   },
   {
    "duration": 173,
    "start_time": "2022-11-16T16:22:15.552Z"
   },
   {
    "duration": 168,
    "start_time": "2022-11-16T16:22:15.727Z"
   },
   {
    "duration": 5,
    "start_time": "2022-11-16T16:22:15.898Z"
   },
   {
    "duration": 293,
    "start_time": "2022-11-16T16:22:15.905Z"
   },
   {
    "duration": 161,
    "start_time": "2022-11-16T16:22:16.200Z"
   },
   {
    "duration": 7,
    "start_time": "2022-11-16T16:22:16.362Z"
   },
   {
    "duration": 37,
    "start_time": "2022-11-16T16:22:16.371Z"
   },
   {
    "duration": 5,
    "start_time": "2022-11-16T16:22:16.412Z"
   },
   {
    "duration": 24,
    "start_time": "2022-11-16T16:22:16.418Z"
   },
   {
    "duration": 27,
    "start_time": "2022-11-16T16:22:16.444Z"
   },
   {
    "duration": 34,
    "start_time": "2022-11-16T16:22:16.472Z"
   },
   {
    "duration": 35,
    "start_time": "2022-11-16T16:22:16.509Z"
   },
   {
    "duration": 19,
    "start_time": "2022-11-16T16:22:16.546Z"
   },
   {
    "duration": 45,
    "start_time": "2022-11-16T16:22:16.568Z"
   },
   {
    "duration": 5,
    "start_time": "2022-11-16T16:22:16.615Z"
   },
   {
    "duration": 37,
    "start_time": "2022-11-16T16:22:16.621Z"
   },
   {
    "duration": 45,
    "start_time": "2022-11-16T16:22:16.660Z"
   },
   {
    "duration": 1148,
    "start_time": "2022-11-16T17:42:16.971Z"
   },
   {
    "duration": 33,
    "start_time": "2022-11-16T17:42:18.121Z"
   },
   {
    "duration": 6,
    "start_time": "2022-11-16T17:42:18.156Z"
   },
   {
    "duration": 10,
    "start_time": "2022-11-16T17:42:18.163Z"
   },
   {
    "duration": 9,
    "start_time": "2022-11-16T17:42:18.176Z"
   },
   {
    "duration": 22,
    "start_time": "2022-11-16T17:42:18.187Z"
   },
   {
    "duration": 63,
    "start_time": "2022-11-16T17:42:18.211Z"
   },
   {
    "duration": 8,
    "start_time": "2022-11-16T17:42:18.275Z"
   },
   {
    "duration": 18,
    "start_time": "2022-11-16T17:42:18.285Z"
   },
   {
    "duration": 29,
    "start_time": "2022-11-16T17:42:18.305Z"
   },
   {
    "duration": 15,
    "start_time": "2022-11-16T17:42:18.335Z"
   },
   {
    "duration": 19,
    "start_time": "2022-11-16T17:42:18.351Z"
   },
   {
    "duration": 9,
    "start_time": "2022-11-16T17:42:18.372Z"
   },
   {
    "duration": 7,
    "start_time": "2022-11-16T17:42:18.384Z"
   },
   {
    "duration": 6,
    "start_time": "2022-11-16T17:42:18.392Z"
   },
   {
    "duration": 16,
    "start_time": "2022-11-16T17:42:18.400Z"
   },
   {
    "duration": 180,
    "start_time": "2022-11-16T17:42:18.418Z"
   },
   {
    "duration": 134,
    "start_time": "2022-11-16T17:42:18.599Z"
   },
   {
    "duration": 7,
    "start_time": "2022-11-16T17:42:18.734Z"
   },
   {
    "duration": 14,
    "start_time": "2022-11-16T17:42:18.743Z"
   },
   {
    "duration": 20,
    "start_time": "2022-11-16T17:42:18.758Z"
   },
   {
    "duration": 290,
    "start_time": "2022-11-16T17:42:18.779Z"
   },
   {
    "duration": 235,
    "start_time": "2022-11-16T17:42:19.078Z"
   },
   {
    "duration": 306,
    "start_time": "2022-11-16T17:42:19.316Z"
   },
   {
    "duration": 18,
    "start_time": "2022-11-16T17:42:19.624Z"
   },
   {
    "duration": 17,
    "start_time": "2022-11-16T17:42:19.644Z"
   },
   {
    "duration": 218,
    "start_time": "2022-11-16T17:42:19.662Z"
   },
   {
    "duration": 13,
    "start_time": "2022-11-16T17:42:19.882Z"
   },
   {
    "duration": 303,
    "start_time": "2022-11-16T17:42:19.897Z"
   },
   {
    "duration": 9,
    "start_time": "2022-11-16T17:42:20.201Z"
   },
   {
    "duration": 14,
    "start_time": "2022-11-16T17:42:20.211Z"
   },
   {
    "duration": 152,
    "start_time": "2022-11-16T17:42:20.226Z"
   },
   {
    "duration": 4,
    "start_time": "2022-11-16T17:42:20.380Z"
   },
   {
    "duration": 160,
    "start_time": "2022-11-16T17:42:20.385Z"
   },
   {
    "duration": 157,
    "start_time": "2022-11-16T17:42:20.547Z"
   },
   {
    "duration": 4,
    "start_time": "2022-11-16T17:42:20.706Z"
   },
   {
    "duration": 239,
    "start_time": "2022-11-16T17:42:20.712Z"
   },
   {
    "duration": 156,
    "start_time": "2022-11-16T17:42:20.953Z"
   },
   {
    "duration": 7,
    "start_time": "2022-11-16T17:42:21.111Z"
   },
   {
    "duration": 27,
    "start_time": "2022-11-16T17:42:21.120Z"
   },
   {
    "duration": 5,
    "start_time": "2022-11-16T17:42:21.151Z"
   },
   {
    "duration": 31,
    "start_time": "2022-11-16T17:42:21.157Z"
   },
   {
    "duration": 7,
    "start_time": "2022-11-16T17:42:21.190Z"
   },
   {
    "duration": 8,
    "start_time": "2022-11-16T17:42:21.199Z"
   },
   {
    "duration": 10,
    "start_time": "2022-11-16T17:42:21.209Z"
   },
   {
    "duration": 11,
    "start_time": "2022-11-16T17:42:21.221Z"
   },
   {
    "duration": 51,
    "start_time": "2022-11-16T17:42:21.234Z"
   },
   {
    "duration": 4,
    "start_time": "2022-11-16T17:42:21.286Z"
   },
   {
    "duration": 19,
    "start_time": "2022-11-16T17:42:21.292Z"
   },
   {
    "duration": 13,
    "start_time": "2022-11-16T17:42:21.312Z"
   },
   {
    "duration": 1252,
    "start_time": "2022-11-16T19:50:18.480Z"
   },
   {
    "duration": 48,
    "start_time": "2022-11-16T19:50:19.734Z"
   },
   {
    "duration": 1,
    "start_time": "2022-11-16T19:50:19.785Z"
   },
   {
    "duration": 0,
    "start_time": "2022-11-16T19:50:19.786Z"
   },
   {
    "duration": 0,
    "start_time": "2022-11-16T19:50:19.787Z"
   },
   {
    "duration": 0,
    "start_time": "2022-11-16T19:50:19.788Z"
   },
   {
    "duration": 0,
    "start_time": "2022-11-16T19:50:19.789Z"
   },
   {
    "duration": 0,
    "start_time": "2022-11-16T19:50:19.790Z"
   },
   {
    "duration": 0,
    "start_time": "2022-11-16T19:50:19.791Z"
   },
   {
    "duration": 0,
    "start_time": "2022-11-16T19:50:19.793Z"
   },
   {
    "duration": 0,
    "start_time": "2022-11-16T19:50:19.794Z"
   },
   {
    "duration": 0,
    "start_time": "2022-11-16T19:50:19.795Z"
   },
   {
    "duration": 0,
    "start_time": "2022-11-16T19:50:19.796Z"
   },
   {
    "duration": 0,
    "start_time": "2022-11-16T19:50:19.797Z"
   },
   {
    "duration": 0,
    "start_time": "2022-11-16T19:50:19.798Z"
   },
   {
    "duration": 0,
    "start_time": "2022-11-16T19:50:19.799Z"
   },
   {
    "duration": 0,
    "start_time": "2022-11-16T19:50:19.800Z"
   },
   {
    "duration": 0,
    "start_time": "2022-11-16T19:50:19.801Z"
   },
   {
    "duration": 0,
    "start_time": "2022-11-16T19:50:19.802Z"
   },
   {
    "duration": 0,
    "start_time": "2022-11-16T19:50:19.803Z"
   },
   {
    "duration": 0,
    "start_time": "2022-11-16T19:50:19.804Z"
   },
   {
    "duration": 0,
    "start_time": "2022-11-16T19:50:19.805Z"
   },
   {
    "duration": 0,
    "start_time": "2022-11-16T19:50:19.806Z"
   },
   {
    "duration": 0,
    "start_time": "2022-11-16T19:50:19.807Z"
   },
   {
    "duration": 0,
    "start_time": "2022-11-16T19:50:19.808Z"
   },
   {
    "duration": 0,
    "start_time": "2022-11-16T19:50:19.810Z"
   },
   {
    "duration": 0,
    "start_time": "2022-11-16T19:50:19.811Z"
   },
   {
    "duration": 0,
    "start_time": "2022-11-16T19:50:19.812Z"
   },
   {
    "duration": 0,
    "start_time": "2022-11-16T19:50:19.814Z"
   },
   {
    "duration": 0,
    "start_time": "2022-11-16T19:50:19.816Z"
   },
   {
    "duration": 0,
    "start_time": "2022-11-16T19:50:19.817Z"
   },
   {
    "duration": 0,
    "start_time": "2022-11-16T19:50:19.818Z"
   },
   {
    "duration": 0,
    "start_time": "2022-11-16T19:50:19.820Z"
   },
   {
    "duration": 0,
    "start_time": "2022-11-16T19:50:19.835Z"
   },
   {
    "duration": 0,
    "start_time": "2022-11-16T19:50:19.837Z"
   },
   {
    "duration": 0,
    "start_time": "2022-11-16T19:50:19.838Z"
   },
   {
    "duration": 0,
    "start_time": "2022-11-16T19:50:19.840Z"
   },
   {
    "duration": 0,
    "start_time": "2022-11-16T19:50:19.841Z"
   },
   {
    "duration": 0,
    "start_time": "2022-11-16T19:50:19.842Z"
   },
   {
    "duration": 0,
    "start_time": "2022-11-16T19:50:19.844Z"
   },
   {
    "duration": 0,
    "start_time": "2022-11-16T19:50:19.845Z"
   },
   {
    "duration": 0,
    "start_time": "2022-11-16T19:50:19.847Z"
   },
   {
    "duration": 0,
    "start_time": "2022-11-16T19:50:19.848Z"
   },
   {
    "duration": 0,
    "start_time": "2022-11-16T19:50:19.849Z"
   },
   {
    "duration": 0,
    "start_time": "2022-11-16T19:50:19.851Z"
   },
   {
    "duration": 0,
    "start_time": "2022-11-16T19:50:19.852Z"
   },
   {
    "duration": 0,
    "start_time": "2022-11-16T19:50:19.854Z"
   },
   {
    "duration": 0,
    "start_time": "2022-11-16T19:50:19.855Z"
   },
   {
    "duration": 0,
    "start_time": "2022-11-16T19:50:19.856Z"
   },
   {
    "duration": 0,
    "start_time": "2022-11-16T19:50:19.858Z"
   },
   {
    "duration": 3,
    "start_time": "2022-11-16T19:50:57.678Z"
   },
   {
    "duration": 1079,
    "start_time": "2022-11-16T19:51:01.799Z"
   },
   {
    "duration": 90,
    "start_time": "2022-11-16T19:51:02.880Z"
   },
   {
    "duration": 6,
    "start_time": "2022-11-16T19:51:02.971Z"
   },
   {
    "duration": 14,
    "start_time": "2022-11-16T19:51:02.978Z"
   },
   {
    "duration": 16,
    "start_time": "2022-11-16T19:51:02.994Z"
   },
   {
    "duration": 12,
    "start_time": "2022-11-16T19:51:03.012Z"
   },
   {
    "duration": 165,
    "start_time": "2022-11-16T19:51:03.026Z"
   },
   {
    "duration": 7,
    "start_time": "2022-11-16T19:51:03.193Z"
   },
   {
    "duration": 13,
    "start_time": "2022-11-16T19:51:03.202Z"
   },
   {
    "duration": 21,
    "start_time": "2022-11-16T19:51:03.217Z"
   },
   {
    "duration": 12,
    "start_time": "2022-11-16T19:51:03.240Z"
   },
   {
    "duration": 14,
    "start_time": "2022-11-16T19:51:03.254Z"
   },
   {
    "duration": 15,
    "start_time": "2022-11-16T19:51:03.270Z"
   },
   {
    "duration": 9,
    "start_time": "2022-11-16T19:51:03.288Z"
   },
   {
    "duration": 15,
    "start_time": "2022-11-16T19:51:03.299Z"
   },
   {
    "duration": 13,
    "start_time": "2022-11-16T19:51:03.315Z"
   },
   {
    "duration": 167,
    "start_time": "2022-11-16T19:51:03.329Z"
   },
   {
    "duration": 124,
    "start_time": "2022-11-16T19:51:03.498Z"
   },
   {
    "duration": 15,
    "start_time": "2022-11-16T19:51:03.625Z"
   },
   {
    "duration": 21,
    "start_time": "2022-11-16T19:51:03.642Z"
   },
   {
    "duration": 12,
    "start_time": "2022-11-16T19:51:03.664Z"
   },
   {
    "duration": 278,
    "start_time": "2022-11-16T19:51:03.677Z"
   },
   {
    "duration": 200,
    "start_time": "2022-11-16T19:51:03.957Z"
   },
   {
    "duration": 287,
    "start_time": "2022-11-16T19:51:04.158Z"
   },
   {
    "duration": 12,
    "start_time": "2022-11-16T19:51:04.447Z"
   },
   {
    "duration": 18,
    "start_time": "2022-11-16T19:51:04.460Z"
   },
   {
    "duration": 191,
    "start_time": "2022-11-16T19:51:04.480Z"
   },
   {
    "duration": 12,
    "start_time": "2022-11-16T19:51:04.673Z"
   },
   {
    "duration": 292,
    "start_time": "2022-11-16T19:51:04.686Z"
   },
   {
    "duration": 7,
    "start_time": "2022-11-16T19:51:04.980Z"
   },
   {
    "duration": 25,
    "start_time": "2022-11-16T19:51:04.989Z"
   },
   {
    "duration": 132,
    "start_time": "2022-11-16T19:51:05.016Z"
   },
   {
    "duration": 4,
    "start_time": "2022-11-16T19:51:05.150Z"
   },
   {
    "duration": 166,
    "start_time": "2022-11-16T19:51:05.156Z"
   },
   {
    "duration": 153,
    "start_time": "2022-11-16T19:51:05.323Z"
   },
   {
    "duration": 4,
    "start_time": "2022-11-16T19:51:05.478Z"
   },
   {
    "duration": 235,
    "start_time": "2022-11-16T19:51:05.483Z"
   },
   {
    "duration": 153,
    "start_time": "2022-11-16T19:51:05.720Z"
   },
   {
    "duration": 7,
    "start_time": "2022-11-16T19:51:05.875Z"
   },
   {
    "duration": 33,
    "start_time": "2022-11-16T19:51:05.883Z"
   },
   {
    "duration": 14,
    "start_time": "2022-11-16T19:51:05.921Z"
   },
   {
    "duration": 12,
    "start_time": "2022-11-16T19:51:05.938Z"
   },
   {
    "duration": 13,
    "start_time": "2022-11-16T19:51:05.952Z"
   },
   {
    "duration": 14,
    "start_time": "2022-11-16T19:51:05.967Z"
   },
   {
    "duration": 19,
    "start_time": "2022-11-16T19:51:05.983Z"
   },
   {
    "duration": 18,
    "start_time": "2022-11-16T19:51:06.005Z"
   },
   {
    "duration": 79,
    "start_time": "2022-11-16T19:51:06.025Z"
   },
   {
    "duration": 5,
    "start_time": "2022-11-16T19:51:06.106Z"
   },
   {
    "duration": 29,
    "start_time": "2022-11-16T19:51:06.113Z"
   },
   {
    "duration": 20,
    "start_time": "2022-11-16T19:51:06.144Z"
   },
   {
    "duration": 1070,
    "start_time": "2022-11-16T19:52:58.453Z"
   },
   {
    "duration": 34,
    "start_time": "2022-11-16T19:52:59.525Z"
   },
   {
    "duration": 5,
    "start_time": "2022-11-16T19:52:59.561Z"
   },
   {
    "duration": 10,
    "start_time": "2022-11-16T19:52:59.567Z"
   },
   {
    "duration": 11,
    "start_time": "2022-11-16T19:52:59.579Z"
   },
   {
    "duration": 12,
    "start_time": "2022-11-16T19:52:59.592Z"
   },
   {
    "duration": 61,
    "start_time": "2022-11-16T19:52:59.605Z"
   },
   {
    "duration": 7,
    "start_time": "2022-11-16T19:52:59.667Z"
   },
   {
    "duration": 30,
    "start_time": "2022-11-16T19:52:59.676Z"
   },
   {
    "duration": 17,
    "start_time": "2022-11-16T19:52:59.708Z"
   },
   {
    "duration": 16,
    "start_time": "2022-11-16T19:52:59.727Z"
   },
   {
    "duration": 18,
    "start_time": "2022-11-16T19:52:59.744Z"
   },
   {
    "duration": 20,
    "start_time": "2022-11-16T19:52:59.763Z"
   },
   {
    "duration": 13,
    "start_time": "2022-11-16T19:52:59.786Z"
   },
   {
    "duration": 14,
    "start_time": "2022-11-16T19:52:59.800Z"
   },
   {
    "duration": 17,
    "start_time": "2022-11-16T19:52:59.816Z"
   },
   {
    "duration": 172,
    "start_time": "2022-11-16T19:52:59.834Z"
   },
   {
    "duration": 115,
    "start_time": "2022-11-16T19:53:00.008Z"
   },
   {
    "duration": 13,
    "start_time": "2022-11-16T19:53:00.124Z"
   },
   {
    "duration": 13,
    "start_time": "2022-11-16T19:53:00.139Z"
   },
   {
    "duration": 9,
    "start_time": "2022-11-16T19:53:00.153Z"
   },
   {
    "duration": 275,
    "start_time": "2022-11-16T19:53:00.163Z"
   },
   {
    "duration": 204,
    "start_time": "2022-11-16T19:53:00.440Z"
   },
   {
    "duration": 295,
    "start_time": "2022-11-16T19:53:00.646Z"
   },
   {
    "duration": 11,
    "start_time": "2022-11-16T19:53:00.943Z"
   },
   {
    "duration": 27,
    "start_time": "2022-11-16T19:53:00.955Z"
   },
   {
    "duration": 212,
    "start_time": "2022-11-16T19:53:00.984Z"
   },
   {
    "duration": 14,
    "start_time": "2022-11-16T19:53:01.197Z"
   },
   {
    "duration": 329,
    "start_time": "2022-11-16T19:53:01.213Z"
   },
   {
    "duration": 9,
    "start_time": "2022-11-16T19:53:01.543Z"
   },
   {
    "duration": 31,
    "start_time": "2022-11-16T19:53:01.553Z"
   },
   {
    "duration": 138,
    "start_time": "2022-11-16T19:53:01.585Z"
   },
   {
    "duration": 12,
    "start_time": "2022-11-16T19:53:01.725Z"
   },
   {
    "duration": 165,
    "start_time": "2022-11-16T19:53:01.739Z"
   },
   {
    "duration": 152,
    "start_time": "2022-11-16T19:53:01.906Z"
   },
   {
    "duration": 4,
    "start_time": "2022-11-16T19:53:02.059Z"
   },
   {
    "duration": 252,
    "start_time": "2022-11-16T19:53:02.065Z"
   },
   {
    "duration": 210,
    "start_time": "2022-11-16T19:53:02.318Z"
   },
   {
    "duration": 12,
    "start_time": "2022-11-16T19:53:02.530Z"
   },
   {
    "duration": 51,
    "start_time": "2022-11-16T19:53:02.544Z"
   },
   {
    "duration": 19,
    "start_time": "2022-11-16T19:53:02.600Z"
   },
   {
    "duration": 29,
    "start_time": "2022-11-16T19:53:02.621Z"
   },
   {
    "duration": 34,
    "start_time": "2022-11-16T19:53:02.651Z"
   },
   {
    "duration": 33,
    "start_time": "2022-11-16T19:53:02.686Z"
   },
   {
    "duration": 28,
    "start_time": "2022-11-16T19:53:02.721Z"
   },
   {
    "duration": 41,
    "start_time": "2022-11-16T19:53:02.751Z"
   },
   {
    "duration": 70,
    "start_time": "2022-11-16T19:53:02.793Z"
   },
   {
    "duration": 53,
    "start_time": "2022-11-16T19:53:02.864Z"
   },
   {
    "duration": 44,
    "start_time": "2022-11-16T19:53:02.919Z"
   },
   {
    "duration": 66,
    "start_time": "2022-11-16T19:53:02.965Z"
   },
   {
    "duration": 204,
    "start_time": "2022-11-16T19:55:57.832Z"
   },
   {
    "duration": 270,
    "start_time": "2022-11-16T19:57:51.282Z"
   },
   {
    "duration": 215,
    "start_time": "2022-11-16T19:58:16.847Z"
   },
   {
    "duration": 213,
    "start_time": "2022-11-16T19:59:16.040Z"
   },
   {
    "duration": 295,
    "start_time": "2022-11-16T20:00:20.862Z"
   },
   {
    "duration": 299,
    "start_time": "2022-11-16T20:00:41.560Z"
   },
   {
    "duration": 218,
    "start_time": "2022-11-16T20:01:19.356Z"
   },
   {
    "duration": 284,
    "start_time": "2022-11-16T20:02:25.960Z"
   },
   {
    "duration": 142,
    "start_time": "2022-11-16T20:03:43.128Z"
   },
   {
    "duration": 151,
    "start_time": "2022-11-16T20:04:29.674Z"
   },
   {
    "duration": 160,
    "start_time": "2022-11-16T20:04:53.400Z"
   },
   {
    "duration": 1044,
    "start_time": "2022-11-16T20:06:55.550Z"
   },
   {
    "duration": 35,
    "start_time": "2022-11-16T20:06:56.596Z"
   },
   {
    "duration": 5,
    "start_time": "2022-11-16T20:06:56.633Z"
   },
   {
    "duration": 13,
    "start_time": "2022-11-16T20:06:56.640Z"
   },
   {
    "duration": 14,
    "start_time": "2022-11-16T20:06:56.656Z"
   },
   {
    "duration": 25,
    "start_time": "2022-11-16T20:06:56.672Z"
   },
   {
    "duration": 75,
    "start_time": "2022-11-16T20:06:56.699Z"
   },
   {
    "duration": 10,
    "start_time": "2022-11-16T20:06:56.776Z"
   },
   {
    "duration": 34,
    "start_time": "2022-11-16T20:06:56.788Z"
   },
   {
    "duration": 22,
    "start_time": "2022-11-16T20:06:56.824Z"
   },
   {
    "duration": 31,
    "start_time": "2022-11-16T20:06:56.848Z"
   },
   {
    "duration": 37,
    "start_time": "2022-11-16T20:06:56.881Z"
   },
   {
    "duration": 18,
    "start_time": "2022-11-16T20:06:56.921Z"
   },
   {
    "duration": 14,
    "start_time": "2022-11-16T20:06:56.943Z"
   },
   {
    "duration": 19,
    "start_time": "2022-11-16T20:06:56.958Z"
   },
   {
    "duration": 17,
    "start_time": "2022-11-16T20:06:56.978Z"
   },
   {
    "duration": 188,
    "start_time": "2022-11-16T20:06:56.996Z"
   },
   {
    "duration": 125,
    "start_time": "2022-11-16T20:06:57.186Z"
   },
   {
    "duration": 7,
    "start_time": "2022-11-16T20:06:57.313Z"
   },
   {
    "duration": 28,
    "start_time": "2022-11-16T20:06:57.321Z"
   },
   {
    "duration": 24,
    "start_time": "2022-11-16T20:06:57.351Z"
   },
   {
    "duration": 293,
    "start_time": "2022-11-16T20:06:57.377Z"
   },
   {
    "duration": 231,
    "start_time": "2022-11-16T20:06:57.672Z"
   },
   {
    "duration": 359,
    "start_time": "2022-11-16T20:06:57.905Z"
   },
   {
    "duration": 13,
    "start_time": "2022-11-16T20:06:58.266Z"
   },
   {
    "duration": 22,
    "start_time": "2022-11-16T20:06:58.281Z"
   },
   {
    "duration": 222,
    "start_time": "2022-11-16T20:06:58.304Z"
   },
   {
    "duration": 13,
    "start_time": "2022-11-16T20:06:58.535Z"
   },
   {
    "duration": 331,
    "start_time": "2022-11-16T20:06:58.550Z"
   },
   {
    "duration": 9,
    "start_time": "2022-11-16T20:06:58.883Z"
   },
   {
    "duration": 24,
    "start_time": "2022-11-16T20:06:58.894Z"
   },
   {
    "duration": 154,
    "start_time": "2022-11-16T20:06:58.920Z"
   },
   {
    "duration": 5,
    "start_time": "2022-11-16T20:06:59.076Z"
   },
   {
    "duration": 178,
    "start_time": "2022-11-16T20:06:59.082Z"
   },
   {
    "duration": 173,
    "start_time": "2022-11-16T20:06:59.262Z"
   },
   {
    "duration": 4,
    "start_time": "2022-11-16T20:06:59.437Z"
   },
   {
    "duration": 235,
    "start_time": "2022-11-16T20:06:59.442Z"
   },
   {
    "duration": 162,
    "start_time": "2022-11-16T20:06:59.679Z"
   },
   {
    "duration": 6,
    "start_time": "2022-11-16T20:06:59.843Z"
   },
   {
    "duration": 27,
    "start_time": "2022-11-16T20:06:59.851Z"
   },
   {
    "duration": 5,
    "start_time": "2022-11-16T20:06:59.882Z"
   },
   {
    "duration": 16,
    "start_time": "2022-11-16T20:06:59.889Z"
   },
   {
    "duration": 10,
    "start_time": "2022-11-16T20:06:59.907Z"
   },
   {
    "duration": 24,
    "start_time": "2022-11-16T20:06:59.918Z"
   },
   {
    "duration": 10,
    "start_time": "2022-11-16T20:06:59.944Z"
   },
   {
    "duration": 9,
    "start_time": "2022-11-16T20:06:59.956Z"
   },
   {
    "duration": 25,
    "start_time": "2022-11-16T20:06:59.966Z"
   },
   {
    "duration": 3,
    "start_time": "2022-11-16T20:06:59.993Z"
   },
   {
    "duration": 14,
    "start_time": "2022-11-16T20:06:59.998Z"
   },
   {
    "duration": 35,
    "start_time": "2022-11-16T20:07:00.014Z"
   },
   {
    "duration": 1072,
    "start_time": "2022-11-16T20:15:50.268Z"
   },
   {
    "duration": 38,
    "start_time": "2022-11-16T20:15:51.342Z"
   },
   {
    "duration": 5,
    "start_time": "2022-11-16T20:15:51.382Z"
   },
   {
    "duration": 8,
    "start_time": "2022-11-16T20:15:51.389Z"
   },
   {
    "duration": 8,
    "start_time": "2022-11-16T20:15:51.398Z"
   },
   {
    "duration": 12,
    "start_time": "2022-11-16T20:15:51.408Z"
   },
   {
    "duration": 61,
    "start_time": "2022-11-16T20:15:51.422Z"
   },
   {
    "duration": 7,
    "start_time": "2022-11-16T20:15:51.485Z"
   },
   {
    "duration": 14,
    "start_time": "2022-11-16T20:15:51.494Z"
   },
   {
    "duration": 23,
    "start_time": "2022-11-16T20:15:51.511Z"
   },
   {
    "duration": 23,
    "start_time": "2022-11-16T20:15:51.536Z"
   },
   {
    "duration": 21,
    "start_time": "2022-11-16T20:15:51.561Z"
   },
   {
    "duration": 18,
    "start_time": "2022-11-16T20:15:51.584Z"
   },
   {
    "duration": 26,
    "start_time": "2022-11-16T20:15:51.603Z"
   },
   {
    "duration": 13,
    "start_time": "2022-11-16T20:15:51.631Z"
   },
   {
    "duration": 448,
    "start_time": "2022-11-16T20:15:51.646Z"
   },
   {
    "duration": 7,
    "start_time": "2022-11-16T20:15:52.097Z"
   },
   {
    "duration": 178,
    "start_time": "2022-11-16T20:15:52.106Z"
   },
   {
    "duration": 136,
    "start_time": "2022-11-16T20:15:52.286Z"
   },
   {
    "duration": 16,
    "start_time": "2022-11-16T20:15:52.425Z"
   },
   {
    "duration": 22,
    "start_time": "2022-11-16T20:15:52.443Z"
   },
   {
    "duration": 14,
    "start_time": "2022-11-16T20:15:52.468Z"
   },
   {
    "duration": 339,
    "start_time": "2022-11-16T20:15:52.484Z"
   },
   {
    "duration": 206,
    "start_time": "2022-11-16T20:15:52.824Z"
   },
   {
    "duration": 319,
    "start_time": "2022-11-16T20:15:53.034Z"
   },
   {
    "duration": 13,
    "start_time": "2022-11-16T20:15:53.354Z"
   },
   {
    "duration": 56,
    "start_time": "2022-11-16T20:15:53.369Z"
   },
   {
    "duration": 240,
    "start_time": "2022-11-16T20:15:53.429Z"
   },
   {
    "duration": 15,
    "start_time": "2022-11-16T20:15:53.670Z"
   },
   {
    "duration": 330,
    "start_time": "2022-11-16T20:15:53.687Z"
   },
   {
    "duration": 8,
    "start_time": "2022-11-16T20:15:54.019Z"
   },
   {
    "duration": 18,
    "start_time": "2022-11-16T20:15:54.035Z"
   },
   {
    "duration": 163,
    "start_time": "2022-11-16T20:15:54.054Z"
   },
   {
    "duration": 3,
    "start_time": "2022-11-16T20:15:54.219Z"
   },
   {
    "duration": 200,
    "start_time": "2022-11-16T20:15:54.224Z"
   },
   {
    "duration": 186,
    "start_time": "2022-11-16T20:15:54.426Z"
   },
   {
    "duration": 4,
    "start_time": "2022-11-16T20:15:54.613Z"
   },
   {
    "duration": 255,
    "start_time": "2022-11-16T20:15:54.619Z"
   },
   {
    "duration": 145,
    "start_time": "2022-11-16T20:15:54.875Z"
   },
   {
    "duration": 17,
    "start_time": "2022-11-16T20:15:55.022Z"
   },
   {
    "duration": 35,
    "start_time": "2022-11-16T20:15:55.041Z"
   },
   {
    "duration": 4,
    "start_time": "2022-11-16T20:15:55.078Z"
   },
   {
    "duration": 23,
    "start_time": "2022-11-16T20:15:55.083Z"
   },
   {
    "duration": 16,
    "start_time": "2022-11-16T20:15:55.108Z"
   },
   {
    "duration": 22,
    "start_time": "2022-11-16T20:15:55.125Z"
   },
   {
    "duration": 12,
    "start_time": "2022-11-16T20:15:55.149Z"
   },
   {
    "duration": 22,
    "start_time": "2022-11-16T20:15:55.163Z"
   },
   {
    "duration": 29,
    "start_time": "2022-11-16T20:15:55.187Z"
   },
   {
    "duration": 5,
    "start_time": "2022-11-16T20:15:55.218Z"
   },
   {
    "duration": 22,
    "start_time": "2022-11-16T20:15:55.225Z"
   },
   {
    "duration": 18,
    "start_time": "2022-11-16T20:15:55.248Z"
   },
   {
    "duration": 327,
    "start_time": "2022-11-16T20:16:31.283Z"
   },
   {
    "duration": 333,
    "start_time": "2022-11-16T20:16:38.380Z"
   },
   {
    "duration": 325,
    "start_time": "2022-11-16T20:16:44.568Z"
   },
   {
    "duration": 430,
    "start_time": "2022-11-16T20:17:00.620Z"
   },
   {
    "duration": 1037,
    "start_time": "2022-11-16T20:17:39.241Z"
   },
   {
    "duration": 33,
    "start_time": "2022-11-16T20:17:40.280Z"
   },
   {
    "duration": 5,
    "start_time": "2022-11-16T20:17:40.314Z"
   },
   {
    "duration": 7,
    "start_time": "2022-11-16T20:17:40.320Z"
   },
   {
    "duration": 6,
    "start_time": "2022-11-16T20:17:40.329Z"
   },
   {
    "duration": 8,
    "start_time": "2022-11-16T20:17:40.336Z"
   },
   {
    "duration": 54,
    "start_time": "2022-11-16T20:17:40.346Z"
   },
   {
    "duration": 8,
    "start_time": "2022-11-16T20:17:40.401Z"
   },
   {
    "duration": 15,
    "start_time": "2022-11-16T20:17:40.410Z"
   },
   {
    "duration": 15,
    "start_time": "2022-11-16T20:17:40.426Z"
   },
   {
    "duration": 11,
    "start_time": "2022-11-16T20:17:40.442Z"
   },
   {
    "duration": 14,
    "start_time": "2022-11-16T20:17:40.455Z"
   },
   {
    "duration": 8,
    "start_time": "2022-11-16T20:17:40.471Z"
   },
   {
    "duration": 9,
    "start_time": "2022-11-16T20:17:40.482Z"
   },
   {
    "duration": 5,
    "start_time": "2022-11-16T20:17:40.492Z"
   },
   {
    "duration": 336,
    "start_time": "2022-11-16T20:17:40.499Z"
   },
   {
    "duration": 5,
    "start_time": "2022-11-16T20:17:40.836Z"
   },
   {
    "duration": 159,
    "start_time": "2022-11-16T20:17:40.843Z"
   },
   {
    "duration": 121,
    "start_time": "2022-11-16T20:17:41.004Z"
   },
   {
    "duration": 8,
    "start_time": "2022-11-16T20:17:41.127Z"
   },
   {
    "duration": 30,
    "start_time": "2022-11-16T20:17:41.137Z"
   },
   {
    "duration": 18,
    "start_time": "2022-11-16T20:17:41.169Z"
   },
   {
    "duration": 286,
    "start_time": "2022-11-16T20:17:41.189Z"
   },
   {
    "duration": 207,
    "start_time": "2022-11-16T20:17:41.477Z"
   },
   {
    "duration": 293,
    "start_time": "2022-11-16T20:17:41.686Z"
   },
   {
    "duration": 14,
    "start_time": "2022-11-16T20:17:41.981Z"
   },
   {
    "duration": 13,
    "start_time": "2022-11-16T20:17:41.997Z"
   },
   {
    "duration": 213,
    "start_time": "2022-11-16T20:17:42.012Z"
   },
   {
    "duration": 19,
    "start_time": "2022-11-16T20:17:42.227Z"
   },
   {
    "duration": 352,
    "start_time": "2022-11-16T20:17:42.248Z"
   },
   {
    "duration": 10,
    "start_time": "2022-11-16T20:17:42.603Z"
   },
   {
    "duration": 25,
    "start_time": "2022-11-16T20:17:42.615Z"
   },
   {
    "duration": 149,
    "start_time": "2022-11-16T20:17:42.642Z"
   },
   {
    "duration": 5,
    "start_time": "2022-11-16T20:17:42.792Z"
   },
   {
    "duration": 164,
    "start_time": "2022-11-16T20:17:42.798Z"
   },
   {
    "duration": 155,
    "start_time": "2022-11-16T20:17:42.964Z"
   },
   {
    "duration": 3,
    "start_time": "2022-11-16T20:17:43.121Z"
   },
   {
    "duration": 250,
    "start_time": "2022-11-16T20:17:43.126Z"
   },
   {
    "duration": 189,
    "start_time": "2022-11-16T20:17:43.378Z"
   },
   {
    "duration": 10,
    "start_time": "2022-11-16T20:17:43.570Z"
   },
   {
    "duration": 22,
    "start_time": "2022-11-16T20:17:43.585Z"
   },
   {
    "duration": 5,
    "start_time": "2022-11-16T20:17:43.609Z"
   },
   {
    "duration": 9,
    "start_time": "2022-11-16T20:17:43.636Z"
   },
   {
    "duration": 7,
    "start_time": "2022-11-16T20:17:43.647Z"
   },
   {
    "duration": 8,
    "start_time": "2022-11-16T20:17:43.655Z"
   },
   {
    "duration": 4,
    "start_time": "2022-11-16T20:17:43.665Z"
   },
   {
    "duration": 12,
    "start_time": "2022-11-16T20:17:43.671Z"
   },
   {
    "duration": 61,
    "start_time": "2022-11-16T20:17:43.685Z"
   },
   {
    "duration": 5,
    "start_time": "2022-11-16T20:17:43.747Z"
   },
   {
    "duration": 12,
    "start_time": "2022-11-16T20:17:43.754Z"
   },
   {
    "duration": 8,
    "start_time": "2022-11-16T20:17:43.767Z"
   },
   {
    "duration": 6,
    "start_time": "2022-11-16T20:20:08.612Z"
   },
   {
    "duration": 1072,
    "start_time": "2022-11-16T20:21:51.943Z"
   },
   {
    "duration": 34,
    "start_time": "2022-11-16T20:21:53.016Z"
   },
   {
    "duration": 4,
    "start_time": "2022-11-16T20:21:53.052Z"
   },
   {
    "duration": 15,
    "start_time": "2022-11-16T20:21:53.058Z"
   },
   {
    "duration": 8,
    "start_time": "2022-11-16T20:21:53.076Z"
   },
   {
    "duration": 18,
    "start_time": "2022-11-16T20:21:53.086Z"
   },
   {
    "duration": 59,
    "start_time": "2022-11-16T20:21:53.106Z"
   },
   {
    "duration": 8,
    "start_time": "2022-11-16T20:21:53.166Z"
   },
   {
    "duration": 11,
    "start_time": "2022-11-16T20:21:53.176Z"
   },
   {
    "duration": 28,
    "start_time": "2022-11-16T20:21:53.189Z"
   },
   {
    "duration": 21,
    "start_time": "2022-11-16T20:21:53.219Z"
   },
   {
    "duration": 31,
    "start_time": "2022-11-16T20:21:53.241Z"
   },
   {
    "duration": 7,
    "start_time": "2022-11-16T20:21:53.273Z"
   },
   {
    "duration": 15,
    "start_time": "2022-11-16T20:21:53.283Z"
   },
   {
    "duration": 7,
    "start_time": "2022-11-16T20:21:53.300Z"
   },
   {
    "duration": 355,
    "start_time": "2022-11-16T20:21:53.308Z"
   },
   {
    "duration": 5,
    "start_time": "2022-11-16T20:21:53.665Z"
   },
   {
    "duration": 281,
    "start_time": "2022-11-16T20:21:53.672Z"
   },
   {
    "duration": 6,
    "start_time": "2022-11-16T20:21:53.955Z"
   },
   {
    "duration": 176,
    "start_time": "2022-11-16T20:21:53.962Z"
   },
   {
    "duration": 124,
    "start_time": "2022-11-16T20:21:54.140Z"
   },
   {
    "duration": 6,
    "start_time": "2022-11-16T20:21:54.266Z"
   },
   {
    "duration": 14,
    "start_time": "2022-11-16T20:21:54.274Z"
   },
   {
    "duration": 15,
    "start_time": "2022-11-16T20:21:54.289Z"
   },
   {
    "duration": 295,
    "start_time": "2022-11-16T20:21:54.306Z"
   },
   {
    "duration": 223,
    "start_time": "2022-11-16T20:21:54.603Z"
   },
   {
    "duration": 321,
    "start_time": "2022-11-16T20:21:54.835Z"
   },
   {
    "duration": 13,
    "start_time": "2022-11-16T20:21:55.158Z"
   },
   {
    "duration": 13,
    "start_time": "2022-11-16T20:21:55.172Z"
   },
   {
    "duration": 235,
    "start_time": "2022-11-16T20:21:55.187Z"
   },
   {
    "duration": 22,
    "start_time": "2022-11-16T20:21:55.423Z"
   },
   {
    "duration": 308,
    "start_time": "2022-11-16T20:21:55.447Z"
   },
   {
    "duration": 7,
    "start_time": "2022-11-16T20:21:55.757Z"
   },
   {
    "duration": 19,
    "start_time": "2022-11-16T20:21:55.766Z"
   },
   {
    "duration": 191,
    "start_time": "2022-11-16T20:21:55.787Z"
   },
   {
    "duration": 4,
    "start_time": "2022-11-16T20:21:55.980Z"
   },
   {
    "duration": 189,
    "start_time": "2022-11-16T20:21:55.986Z"
   },
   {
    "duration": 165,
    "start_time": "2022-11-16T20:21:56.177Z"
   },
   {
    "duration": 4,
    "start_time": "2022-11-16T20:21:56.344Z"
   },
   {
    "duration": 230,
    "start_time": "2022-11-16T20:21:56.349Z"
   },
   {
    "duration": 148,
    "start_time": "2022-11-16T20:21:56.583Z"
   },
   {
    "duration": 9,
    "start_time": "2022-11-16T20:21:56.736Z"
   },
   {
    "duration": 32,
    "start_time": "2022-11-16T20:21:56.748Z"
   },
   {
    "duration": 4,
    "start_time": "2022-11-16T20:21:56.781Z"
   },
   {
    "duration": 26,
    "start_time": "2022-11-16T20:21:56.787Z"
   },
   {
    "duration": 7,
    "start_time": "2022-11-16T20:21:56.815Z"
   },
   {
    "duration": 24,
    "start_time": "2022-11-16T20:21:56.823Z"
   },
   {
    "duration": 8,
    "start_time": "2022-11-16T20:21:56.849Z"
   },
   {
    "duration": 8,
    "start_time": "2022-11-16T20:21:56.858Z"
   },
   {
    "duration": 24,
    "start_time": "2022-11-16T20:21:56.867Z"
   },
   {
    "duration": 4,
    "start_time": "2022-11-16T20:21:56.893Z"
   },
   {
    "duration": 22,
    "start_time": "2022-11-16T20:21:56.898Z"
   },
   {
    "duration": 17,
    "start_time": "2022-11-16T20:21:56.922Z"
   },
   {
    "duration": 1098,
    "start_time": "2022-11-16T20:29:40.066Z"
   },
   {
    "duration": 35,
    "start_time": "2022-11-16T20:29:41.166Z"
   },
   {
    "duration": 4,
    "start_time": "2022-11-16T20:29:41.203Z"
   },
   {
    "duration": 12,
    "start_time": "2022-11-16T20:29:41.209Z"
   },
   {
    "duration": 14,
    "start_time": "2022-11-16T20:29:41.222Z"
   },
   {
    "duration": 13,
    "start_time": "2022-11-16T20:29:41.238Z"
   },
   {
    "duration": 65,
    "start_time": "2022-11-16T20:29:41.253Z"
   },
   {
    "duration": 8,
    "start_time": "2022-11-16T20:29:41.319Z"
   },
   {
    "duration": 15,
    "start_time": "2022-11-16T20:29:41.328Z"
   },
   {
    "duration": 15,
    "start_time": "2022-11-16T20:29:41.346Z"
   },
   {
    "duration": 20,
    "start_time": "2022-11-16T20:29:41.362Z"
   },
   {
    "duration": 17,
    "start_time": "2022-11-16T20:29:41.384Z"
   },
   {
    "duration": 12,
    "start_time": "2022-11-16T20:29:41.402Z"
   },
   {
    "duration": 23,
    "start_time": "2022-11-16T20:29:41.415Z"
   },
   {
    "duration": 10,
    "start_time": "2022-11-16T20:29:41.440Z"
   },
   {
    "duration": 372,
    "start_time": "2022-11-16T20:29:41.452Z"
   },
   {
    "duration": 10,
    "start_time": "2022-11-16T20:29:41.826Z"
   },
   {
    "duration": 23,
    "start_time": "2022-11-16T20:29:41.837Z"
   },
   {
    "duration": 192,
    "start_time": "2022-11-16T20:29:41.863Z"
   },
   {
    "duration": 140,
    "start_time": "2022-11-16T20:29:42.057Z"
   },
   {
    "duration": 8,
    "start_time": "2022-11-16T20:29:42.199Z"
   },
   {
    "duration": 25,
    "start_time": "2022-11-16T20:29:42.208Z"
   },
   {
    "duration": 12,
    "start_time": "2022-11-16T20:29:42.235Z"
   },
   {
    "duration": 380,
    "start_time": "2022-11-16T20:29:42.248Z"
   },
   {
    "duration": 239,
    "start_time": "2022-11-16T20:29:42.630Z"
   },
   {
    "duration": 297,
    "start_time": "2022-11-16T20:29:42.871Z"
   },
   {
    "duration": 15,
    "start_time": "2022-11-16T20:29:43.170Z"
   },
   {
    "duration": 21,
    "start_time": "2022-11-16T20:29:43.189Z"
   },
   {
    "duration": 259,
    "start_time": "2022-11-16T20:29:43.212Z"
   },
   {
    "duration": 15,
    "start_time": "2022-11-16T20:29:43.473Z"
   },
   {
    "duration": 366,
    "start_time": "2022-11-16T20:29:43.490Z"
   },
   {
    "duration": 10,
    "start_time": "2022-11-16T20:29:43.857Z"
   },
   {
    "duration": 13,
    "start_time": "2022-11-16T20:29:43.869Z"
   },
   {
    "duration": 184,
    "start_time": "2022-11-16T20:29:43.884Z"
   },
   {
    "duration": 4,
    "start_time": "2022-11-16T20:29:44.070Z"
   },
   {
    "duration": 164,
    "start_time": "2022-11-16T20:29:44.075Z"
   },
   {
    "duration": 171,
    "start_time": "2022-11-16T20:29:44.241Z"
   },
   {
    "duration": 4,
    "start_time": "2022-11-16T20:29:44.413Z"
   },
   {
    "duration": 229,
    "start_time": "2022-11-16T20:29:44.419Z"
   },
   {
    "duration": 144,
    "start_time": "2022-11-16T20:29:44.649Z"
   },
   {
    "duration": 6,
    "start_time": "2022-11-16T20:29:44.794Z"
   },
   {
    "duration": 38,
    "start_time": "2022-11-16T20:29:44.801Z"
   },
   {
    "duration": 4,
    "start_time": "2022-11-16T20:29:44.841Z"
   },
   {
    "duration": 10,
    "start_time": "2022-11-16T20:29:44.847Z"
   },
   {
    "duration": 9,
    "start_time": "2022-11-16T20:29:44.859Z"
   },
   {
    "duration": 11,
    "start_time": "2022-11-16T20:29:44.869Z"
   },
   {
    "duration": 6,
    "start_time": "2022-11-16T20:29:44.882Z"
   },
   {
    "duration": 14,
    "start_time": "2022-11-16T20:29:44.890Z"
   },
   {
    "duration": 42,
    "start_time": "2022-11-16T20:29:44.906Z"
   },
   {
    "duration": 4,
    "start_time": "2022-11-16T20:29:44.950Z"
   },
   {
    "duration": 16,
    "start_time": "2022-11-16T20:29:44.956Z"
   },
   {
    "duration": 25,
    "start_time": "2022-11-16T20:29:44.974Z"
   },
   {
    "duration": 1187,
    "start_time": "2022-11-17T10:32:40.306Z"
   },
   {
    "duration": 45,
    "start_time": "2022-11-17T10:32:41.495Z"
   },
   {
    "duration": 7,
    "start_time": "2022-11-17T10:32:41.542Z"
   },
   {
    "duration": 9,
    "start_time": "2022-11-17T10:32:41.551Z"
   },
   {
    "duration": 8,
    "start_time": "2022-11-17T10:32:41.562Z"
   },
   {
    "duration": 11,
    "start_time": "2022-11-17T10:32:41.572Z"
   },
   {
    "duration": 66,
    "start_time": "2022-11-17T10:32:41.585Z"
   },
   {
    "duration": 10,
    "start_time": "2022-11-17T10:32:41.652Z"
   },
   {
    "duration": 16,
    "start_time": "2022-11-17T10:32:41.664Z"
   },
   {
    "duration": 13,
    "start_time": "2022-11-17T10:32:41.683Z"
   },
   {
    "duration": 12,
    "start_time": "2022-11-17T10:32:41.697Z"
   },
   {
    "duration": 16,
    "start_time": "2022-11-17T10:32:41.711Z"
   },
   {
    "duration": 29,
    "start_time": "2022-11-17T10:32:41.729Z"
   },
   {
    "duration": 8,
    "start_time": "2022-11-17T10:32:41.760Z"
   },
   {
    "duration": 6,
    "start_time": "2022-11-17T10:32:41.770Z"
   },
   {
    "duration": 397,
    "start_time": "2022-11-17T10:32:41.777Z"
   },
   {
    "duration": 6,
    "start_time": "2022-11-17T10:32:42.175Z"
   },
   {
    "duration": 16,
    "start_time": "2022-11-17T10:32:42.183Z"
   },
   {
    "duration": 181,
    "start_time": "2022-11-17T10:32:42.201Z"
   },
   {
    "duration": 149,
    "start_time": "2022-11-17T10:32:42.384Z"
   },
   {
    "duration": 10,
    "start_time": "2022-11-17T10:32:42.538Z"
   },
   {
    "duration": 16,
    "start_time": "2022-11-17T10:32:42.551Z"
   },
   {
    "duration": 10,
    "start_time": "2022-11-17T10:32:42.568Z"
   },
   {
    "duration": 352,
    "start_time": "2022-11-17T10:32:42.580Z"
   },
   {
    "duration": 247,
    "start_time": "2022-11-17T10:32:42.934Z"
   },
   {
    "duration": 328,
    "start_time": "2022-11-17T10:32:43.182Z"
   },
   {
    "duration": 24,
    "start_time": "2022-11-17T10:32:43.512Z"
   },
   {
    "duration": 27,
    "start_time": "2022-11-17T10:32:43.540Z"
   },
   {
    "duration": 244,
    "start_time": "2022-11-17T10:32:43.568Z"
   },
   {
    "duration": 41,
    "start_time": "2022-11-17T10:32:43.813Z"
   },
   {
    "duration": 354,
    "start_time": "2022-11-17T10:32:43.857Z"
   },
   {
    "duration": 19,
    "start_time": "2022-11-17T10:32:44.213Z"
   },
   {
    "duration": 51,
    "start_time": "2022-11-17T10:32:44.236Z"
   },
   {
    "duration": 216,
    "start_time": "2022-11-17T10:32:44.289Z"
   },
   {
    "duration": 15,
    "start_time": "2022-11-17T10:32:44.507Z"
   },
   {
    "duration": 178,
    "start_time": "2022-11-17T10:32:44.529Z"
   },
   {
    "duration": 183,
    "start_time": "2022-11-17T10:32:44.709Z"
   },
   {
    "duration": 4,
    "start_time": "2022-11-17T10:32:44.894Z"
   },
   {
    "duration": 265,
    "start_time": "2022-11-17T10:32:44.900Z"
   },
   {
    "duration": 148,
    "start_time": "2022-11-17T10:32:45.167Z"
   },
   {
    "duration": 9,
    "start_time": "2022-11-17T10:32:45.322Z"
   },
   {
    "duration": 41,
    "start_time": "2022-11-17T10:32:45.332Z"
   },
   {
    "duration": 4,
    "start_time": "2022-11-17T10:32:45.375Z"
   },
   {
    "duration": 10,
    "start_time": "2022-11-17T10:32:45.381Z"
   },
   {
    "duration": 5,
    "start_time": "2022-11-17T10:32:45.393Z"
   },
   {
    "duration": 8,
    "start_time": "2022-11-17T10:32:45.400Z"
   },
   {
    "duration": 21,
    "start_time": "2022-11-17T10:32:45.409Z"
   },
   {
    "duration": 30,
    "start_time": "2022-11-17T10:32:45.432Z"
   },
   {
    "duration": 20,
    "start_time": "2022-11-17T10:32:45.463Z"
   },
   {
    "duration": 3,
    "start_time": "2022-11-17T10:32:45.485Z"
   },
   {
    "duration": 12,
    "start_time": "2022-11-17T10:32:45.490Z"
   },
   {
    "duration": 8,
    "start_time": "2022-11-17T10:32:45.504Z"
   },
   {
    "duration": 1250,
    "start_time": "2022-11-17T10:51:05.388Z"
   },
   {
    "duration": 68,
    "start_time": "2022-11-17T10:51:06.640Z"
   },
   {
    "duration": 5,
    "start_time": "2022-11-17T10:51:06.709Z"
   },
   {
    "duration": 7,
    "start_time": "2022-11-17T10:51:06.716Z"
   },
   {
    "duration": 7,
    "start_time": "2022-11-17T10:51:06.724Z"
   },
   {
    "duration": 9,
    "start_time": "2022-11-17T10:51:06.732Z"
   },
   {
    "duration": 153,
    "start_time": "2022-11-17T10:51:06.743Z"
   },
   {
    "duration": 8,
    "start_time": "2022-11-17T10:51:06.898Z"
   },
   {
    "duration": 12,
    "start_time": "2022-11-17T10:51:06.907Z"
   },
   {
    "duration": 13,
    "start_time": "2022-11-17T10:51:06.923Z"
   },
   {
    "duration": 12,
    "start_time": "2022-11-17T10:51:06.938Z"
   },
   {
    "duration": 17,
    "start_time": "2022-11-17T10:51:06.951Z"
   },
   {
    "duration": 6,
    "start_time": "2022-11-17T10:51:06.969Z"
   },
   {
    "duration": 7,
    "start_time": "2022-11-17T10:51:06.976Z"
   },
   {
    "duration": 5,
    "start_time": "2022-11-17T10:51:06.984Z"
   },
   {
    "duration": 332,
    "start_time": "2022-11-17T10:51:06.990Z"
   },
   {
    "duration": 5,
    "start_time": "2022-11-17T10:51:07.324Z"
   },
   {
    "duration": 8,
    "start_time": "2022-11-17T10:51:07.330Z"
   },
   {
    "duration": 158,
    "start_time": "2022-11-17T10:51:07.340Z"
   },
   {
    "duration": 121,
    "start_time": "2022-11-17T10:51:07.500Z"
   },
   {
    "duration": 6,
    "start_time": "2022-11-17T10:51:07.623Z"
   },
   {
    "duration": 10,
    "start_time": "2022-11-17T10:51:07.631Z"
   },
   {
    "duration": 7,
    "start_time": "2022-11-17T10:51:07.642Z"
   },
   {
    "duration": 270,
    "start_time": "2022-11-17T10:51:07.651Z"
   },
   {
    "duration": 203,
    "start_time": "2022-11-17T10:51:07.924Z"
   },
   {
    "duration": 329,
    "start_time": "2022-11-17T10:51:08.128Z"
   },
   {
    "duration": 11,
    "start_time": "2022-11-17T10:51:08.459Z"
   },
   {
    "duration": 10,
    "start_time": "2022-11-17T10:51:08.473Z"
   },
   {
    "duration": 222,
    "start_time": "2022-11-17T10:51:08.485Z"
   },
   {
    "duration": 12,
    "start_time": "2022-11-17T10:51:08.709Z"
   },
   {
    "duration": 297,
    "start_time": "2022-11-17T10:51:08.723Z"
   },
   {
    "duration": 8,
    "start_time": "2022-11-17T10:51:09.022Z"
   },
   {
    "duration": 12,
    "start_time": "2022-11-17T10:51:09.031Z"
   },
   {
    "duration": 169,
    "start_time": "2022-11-17T10:51:09.045Z"
   },
   {
    "duration": 3,
    "start_time": "2022-11-17T10:51:09.216Z"
   },
   {
    "duration": 160,
    "start_time": "2022-11-17T10:51:09.221Z"
   },
   {
    "duration": 162,
    "start_time": "2022-11-17T10:51:09.382Z"
   },
   {
    "duration": 4,
    "start_time": "2022-11-17T10:51:09.546Z"
   },
   {
    "duration": 218,
    "start_time": "2022-11-17T10:51:09.552Z"
   },
   {
    "duration": 130,
    "start_time": "2022-11-17T10:51:09.771Z"
   },
   {
    "duration": 14,
    "start_time": "2022-11-17T10:51:09.903Z"
   },
   {
    "duration": 20,
    "start_time": "2022-11-17T10:51:09.919Z"
   },
   {
    "duration": 4,
    "start_time": "2022-11-17T10:51:09.941Z"
   },
   {
    "duration": 16,
    "start_time": "2022-11-17T10:51:09.946Z"
   },
   {
    "duration": 8,
    "start_time": "2022-11-17T10:51:09.964Z"
   },
   {
    "duration": 8,
    "start_time": "2022-11-17T10:51:09.974Z"
   },
   {
    "duration": 10,
    "start_time": "2022-11-17T10:51:09.983Z"
   },
   {
    "duration": 25,
    "start_time": "2022-11-17T10:51:09.994Z"
   },
   {
    "duration": 21,
    "start_time": "2022-11-17T10:51:10.020Z"
   },
   {
    "duration": 4,
    "start_time": "2022-11-17T10:51:10.042Z"
   },
   {
    "duration": 10,
    "start_time": "2022-11-17T10:51:10.047Z"
   },
   {
    "duration": 7,
    "start_time": "2022-11-17T10:51:10.058Z"
   }
  ],
  "kernelspec": {
   "display_name": "Python 3 (ipykernel)",
   "language": "python",
   "name": "python3"
  },
  "language_info": {
   "codemirror_mode": {
    "name": "ipython",
    "version": 3
   },
   "file_extension": ".py",
   "mimetype": "text/x-python",
   "name": "python",
   "nbconvert_exporter": "python",
   "pygments_lexer": "ipython3",
   "version": "3.9.5"
  },
  "toc": {
   "base_numbering": 1,
   "nav_menu": {},
   "number_sections": true,
   "sideBar": true,
   "skip_h1_title": true,
   "title_cell": "Table of Contents",
   "title_sidebar": "Contents",
   "toc_cell": false,
   "toc_position": {},
   "toc_section_display": true,
   "toc_window_display": true
  }
 },
 "nbformat": 4,
 "nbformat_minor": 2
}
